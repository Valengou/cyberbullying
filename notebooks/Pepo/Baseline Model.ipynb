{
 "cells": [
  {
   "cell_type": "markdown",
   "id": "179aa480",
   "metadata": {},
   "source": [
    "# Baseline Model"
   ]
  },
  {
   "cell_type": "markdown",
   "id": "3b15ac12",
   "metadata": {
    "heading_collapsed": true
   },
   "source": [
    "## Importamos el csv de \"Data Cleaning\""
   ]
  },
  {
   "cell_type": "code",
   "execution_count": 1,
   "id": "cfc78abe",
   "metadata": {
    "hidden": true
   },
   "outputs": [],
   "source": [
    "from gensim.models import Word2Vec\n",
    "import pandas as pd\n",
    "from sklearn.naive_bayes import MultinomialNB\n",
    "from sklearn.model_selection import cross_validate\n",
    "import numpy as np"
   ]
  },
  {
   "cell_type": "code",
   "execution_count": 2,
   "id": "75d7084d",
   "metadata": {
    "hidden": true
   },
   "outputs": [],
   "source": [
    "data = pd.read_csv('../../cyberbullying/data/data.csv')"
   ]
  },
  {
   "cell_type": "code",
   "execution_count": 3,
   "id": "ed5af577",
   "metadata": {
    "hidden": true
   },
   "outputs": [
    {
     "data": {
      "text/html": [
       "<div>\n",
       "<style scoped>\n",
       "    .dataframe tbody tr th:only-of-type {\n",
       "        vertical-align: middle;\n",
       "    }\n",
       "\n",
       "    .dataframe tbody tr th {\n",
       "        vertical-align: top;\n",
       "    }\n",
       "\n",
       "    .dataframe thead th {\n",
       "        text-align: right;\n",
       "    }\n",
       "</style>\n",
       "<table border=\"1\" class=\"dataframe\">\n",
       "  <thead>\n",
       "    <tr style=\"text-align: right;\">\n",
       "      <th></th>\n",
       "      <th>text</th>\n",
       "      <th>target</th>\n",
       "    </tr>\n",
       "  </thead>\n",
       "  <tbody>\n",
       "    <tr>\n",
       "      <th>0</th>\n",
       "      <td>this is not creative  those are the dictionar...</td>\n",
       "      <td>0.0</td>\n",
       "    </tr>\n",
       "    <tr>\n",
       "      <th>1</th>\n",
       "      <td>the term standard model is itself less npov...</td>\n",
       "      <td>0.0</td>\n",
       "    </tr>\n",
       "    <tr>\n",
       "      <th>2</th>\n",
       "      <td>true or false the situation as of march  was...</td>\n",
       "      <td>0.0</td>\n",
       "    </tr>\n",
       "    <tr>\n",
       "      <th>3</th>\n",
       "      <td>next maybe you could work on being less conde...</td>\n",
       "      <td>0.0</td>\n",
       "    </tr>\n",
       "    <tr>\n",
       "      <th>4</th>\n",
       "      <td>this page will need disambiguation</td>\n",
       "      <td>0.0</td>\n",
       "    </tr>\n",
       "  </tbody>\n",
       "</table>\n",
       "</div>"
      ],
      "text/plain": [
       "                                                text  target\n",
       "0   this is not creative  those are the dictionar...     0.0\n",
       "1     the term standard model is itself less npov...     0.0\n",
       "2    true or false the situation as of march  was...     0.0\n",
       "3   next maybe you could work on being less conde...     0.0\n",
       "4                this page will need disambiguation      0.0"
      ]
     },
     "execution_count": 3,
     "metadata": {},
     "output_type": "execute_result"
    }
   ],
   "source": [
    "data.head()"
   ]
  },
  {
   "cell_type": "markdown",
   "id": "47bcb670",
   "metadata": {
    "heading_collapsed": true
   },
   "source": [
    "## Armamos el train set"
   ]
  },
  {
   "cell_type": "code",
   "execution_count": 4,
   "id": "c12b2e29",
   "metadata": {
    "hidden": true
   },
   "outputs": [],
   "source": [
    "data['text']=data['text'].astype(str)"
   ]
  },
  {
   "cell_type": "raw",
   "id": "fd246900",
   "metadata": {
    "hidden": true
   },
   "source": [
    "from tensorflow.keras.preprocessing.text import text_to_word_sequence\n",
    "from sklearn.model_selection import train_test_split\n",
    "\n",
    "def load_data(percentage_of_sentences=None):\n",
    "    \n",
    "    X_train, X_test, y_train, y_test = train_test_split(data['text'],data['target'],test_size=0.3,random_state=0)\n",
    "\n",
    "    #train_sentences, y_train = tfds.as_numpy(train_data)\n",
    "    #test_sentences, y_test = tfds.as_numpy(test_data)\n",
    "    \n",
    "    # Take only a given percentage of the entire data\n",
    "    if percentage_of_sentences is not None:\n",
    "        assert(percentage_of_sentences> 0 and percentage_of_sentences<=100)\n",
    "\n",
    "        len_train = int(percentage_of_sentences/100*len(X_train))\n",
    "        X_train, y_train = X_train[:len_train], y_train[:len_train]\n",
    "  \n",
    "        len_test = int(percentage_of_sentences/100*len(X_test))\n",
    "        X_test, y_test = X_test[:len_test], y_test[:len_test]\n",
    "    \n",
    "    X_train = [text_to_word_sequence(_) for _ in X_train]\n",
    "    X_test = [text_to_word_sequence(_) for _ in X_test]\n",
    "    \n",
    "    return X_train, y_train, X_test, y_test\n"
   ]
  },
  {
   "cell_type": "raw",
   "id": "821a3245",
   "metadata": {
    "hidden": true
   },
   "source": [
    "X_train, y_train, X_test, y_test = load_data(percentage_of_sentences=50)"
   ]
  },
  {
   "cell_type": "code",
   "execution_count": 5,
   "id": "29910d58",
   "metadata": {
    "hidden": true,
    "scrolled": true
   },
   "outputs": [],
   "source": [
    "from sklearn.model_selection import train_test_split\n",
    "\n",
    "#X_train, X_test, y_train, y_test = train_test_split(data.text,data.target,test_size=0.3,random_state=0)\n",
    "train_data, test_data = train_test_split(data,test_size=0.3,random_state=0)"
   ]
  },
  {
   "cell_type": "markdown",
   "id": "5ab892e0",
   "metadata": {
    "heading_collapsed": true
   },
   "source": [
    "## Baseline model (Desbalanceado)"
   ]
  },
  {
   "cell_type": "code",
   "execution_count": 6,
   "id": "26b400c6",
   "metadata": {
    "hidden": true,
    "scrolled": true
   },
   "outputs": [
    {
     "data": {
      "text/plain": [
       "0.8995763724446568"
      ]
     },
     "execution_count": 6,
     "metadata": {},
     "output_type": "execute_result"
    }
   ],
   "source": [
    "from sklearn.naive_bayes import MultinomialNB\n",
    "from sklearn.feature_extraction.text import TfidfVectorizer\n",
    "\n",
    "vectorizer = TfidfVectorizer()\n",
    "\n",
    "X = vectorizer.fit_transform(data.text)\n",
    "\n",
    "y = data.target\n",
    "\n",
    "nb_model = MultinomialNB()\n",
    "\n",
    "nb_model.fit(X,y)\n",
    "\n",
    "nb_model.score(X,y)"
   ]
  },
  {
   "cell_type": "markdown",
   "id": "2ece4935",
   "metadata": {},
   "source": [
    "## Baseline model (Balanceado 50/50)"
   ]
  },
  {
   "cell_type": "markdown",
   "id": "842a2bbc",
   "metadata": {},
   "source": [
    "El accuracy 0.89 se debe al desbalanceo del dataset."
   ]
  },
  {
   "cell_type": "code",
   "execution_count": 7,
   "id": "2c6d1973",
   "metadata": {},
   "outputs": [],
   "source": [
    "len_1 = train_data[train_data['target']==1].shape[0]"
   ]
  },
  {
   "cell_type": "code",
   "execution_count": 8,
   "id": "3fcfc227",
   "metadata": {},
   "outputs": [],
   "source": [
    "train_data_0 = train_data[train_data['target']==0].sample(len_1)"
   ]
  },
  {
   "cell_type": "code",
   "execution_count": 9,
   "id": "8c534b80",
   "metadata": {},
   "outputs": [],
   "source": [
    "train_data_1 = train_data[train_data['target']==1]"
   ]
  },
  {
   "cell_type": "code",
   "execution_count": 10,
   "id": "85a20542",
   "metadata": {},
   "outputs": [],
   "source": [
    "train_data_01 = pd.concat([train_data_0,train_data_1])"
   ]
  },
  {
   "cell_type": "code",
   "execution_count": 11,
   "id": "06dd4005",
   "metadata": {},
   "outputs": [
    {
     "data": {
      "text/plain": [
       "{'fit_time': array([0.03071475, 0.03160596, 0.02763486, 0.0297668 , 0.03048587,\n",
       "        0.01571155, 0.0282445 , 0.01769781, 0.02405953, 0.02061176]),\n",
       " 'score_time': array([0.01181626, 0.01612878, 0.01036668, 0.01084352, 0.01048326,\n",
       "        0.00630236, 0.01222515, 0.006953  , 0.00981975, 0.00946808]),\n",
       " 'test_recall': array([0.8058303 , 0.82726327, 0.81884435, 0.86413326, 0.82977616,\n",
       "        0.83029672, 0.83706403, 0.84279021, 0.84174909, 0.83706403]),\n",
       " 'test_precision': array([0.83315393, 0.84664537, 0.84207709, 0.83796063, 0.83237598,\n",
       "        0.81963001, 0.83143744, 0.82983086, 0.83350515, 0.83100775]),\n",
       " 'test_accuracy': array([0.82227426, 0.83866771, 0.83263925, 0.8485164 , 0.83133784,\n",
       "        0.82378969, 0.83368037, 0.83498178, 0.83680375, 0.83342009]),\n",
       " 'test_f1': array([0.81926436, 0.83684211, 0.83029823, 0.85084572, 0.83107404,\n",
       "        0.82492889, 0.83424125, 0.83626033, 0.83760684, 0.8340249 ])}"
      ]
     },
     "execution_count": 11,
     "metadata": {},
     "output_type": "execute_result"
    }
   ],
   "source": [
    "X_train_vec = vectorizer.fit_transform(train_data_01.text)\n",
    "y_train = train_data_01.target\n",
    "nb_model = MultinomialNB()\n",
    "\n",
    "#nb_model.fit(X_train,y_train)\n",
    "\n",
    "cv_results = cross_validate(nb_model,X_train_vec,train_data_01.target,cv=10,n_jobs=-1,scoring=['recall','precision','accuracy','f1'])\n",
    "#cv_results['test_score'].mean()\n",
    "cv_results"
   ]
  },
  {
   "cell_type": "markdown",
   "id": "a2f383ed",
   "metadata": {},
   "source": [
    "## Matriz de Confusion (Balanceado 50/50)"
   ]
  },
  {
   "cell_type": "code",
   "execution_count": 13,
   "id": "5ed0fda7",
   "metadata": {},
   "outputs": [],
   "source": [
    "X_test_vec = vectorizer.transform(test_data.text)\n",
    "y_test = test_data.target"
   ]
  },
  {
   "cell_type": "code",
   "execution_count": 14,
   "id": "4b62248e",
   "metadata": {},
   "outputs": [
    {
     "data": {
      "image/png": "[encoded data removed]",
      "text/plain": [
       "<Figure size 432x288 with 2 Axes>"
      ]
     },
     "metadata": {
      "needs_background": "light"
     },
     "output_type": "display_data"
    }
   ],
   "source": [
    "from sklearn.metrics import ConfusionMatrixDisplay,confusion_matrix\n",
    "\n",
    "nb_model.fit(X_train_vec,y_train)\n",
    "y_pred = nb_model.predict(X_test_vec)\n",
    "cm = confusion_matrix(y_test, y_pred)\n",
    "disp = ConfusionMatrixDisplay(confusion_matrix=cm,display_labels=[0,1])\n",
    "disp.plot();\n"
   ]
  },
  {
   "cell_type": "code",
   "execution_count": 15,
   "id": "840926fe",
   "metadata": {},
   "outputs": [
    {
     "data": {
      "text/plain": [
       "16343.0"
      ]
     },
     "execution_count": 15,
     "metadata": {},
     "output_type": "execute_result"
    }
   ],
   "source": [
    "y_pred.sum()"
   ]
  },
  {
   "cell_type": "code",
   "execution_count": 16,
   "id": "50c97a80",
   "metadata": {},
   "outputs": [
    {
     "data": {
      "text/plain": [
       "8214.0"
      ]
     },
     "execution_count": 16,
     "metadata": {},
     "output_type": "execute_result"
    }
   ],
   "source": [
    "y_test.sum()"
   ]
  }
 ],
 "metadata": {
  "kernelspec": {
   "display_name": "Python 3 (ipykernel)",
   "language": "python",
   "name": "python3"
  },
  "language_info": {
   "codemirror_mode": {
    "name": "ipython",
    "version": 3
   },
   "file_extension": ".py",
   "mimetype": "text/x-python",
   "name": "python",
   "nbconvert_exporter": "python",
   "pygments_lexer": "ipython3",
   "version": "3.8.12"
  },
  "toc": {
   "base_numbering": 1,
   "nav_menu": {},
   "number_sections": true,
   "sideBar": true,
   "skip_h1_title": false,
   "title_cell": "Table of Contents",
   "title_sidebar": "Contents",
   "toc_cell": false,
   "toc_position": {},
   "toc_section_display": true,
   "toc_window_display": false
  }
 },
 "nbformat": 4,
 "nbformat_minor": 5
}
