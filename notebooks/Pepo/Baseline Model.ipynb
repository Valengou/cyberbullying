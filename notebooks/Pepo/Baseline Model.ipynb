{
 "cells": [
  {
   "cell_type": "code",
   "execution_count": 31,
   "id": "cfc78abe",
   "metadata": {},
   "outputs": [],
   "source": [
    "from gensim.models import Word2Vec\n",
    "import pandas as pd\n",
    "from sklearn.naive_bayes import MultinomialNB\n",
    "from sklearn.model_selection import cross_validate\n",
    "import numpy as np"
   ]
  },
  {
   "cell_type": "code",
   "execution_count": 2,
   "id": "75d7084d",
   "metadata": {},
   "outputs": [],
   "source": [
    "data = pd.read_csv('../../cyberbullying/data/data.csv')"
   ]
  },
  {
   "cell_type": "code",
   "execution_count": 3,
   "id": "ed5af577",
   "metadata": {},
   "outputs": [
    {
     "data": {
      "text/html": [
       "<div>\n",
       "<style scoped>\n",
       "    .dataframe tbody tr th:only-of-type {\n",
       "        vertical-align: middle;\n",
       "    }\n",
       "\n",
       "    .dataframe tbody tr th {\n",
       "        vertical-align: top;\n",
       "    }\n",
       "\n",
       "    .dataframe thead th {\n",
       "        text-align: right;\n",
       "    }\n",
       "</style>\n",
       "<table border=\"1\" class=\"dataframe\">\n",
       "  <thead>\n",
       "    <tr style=\"text-align: right;\">\n",
       "      <th></th>\n",
       "      <th>text</th>\n",
       "      <th>target</th>\n",
       "    </tr>\n",
       "  </thead>\n",
       "  <tbody>\n",
       "    <tr>\n",
       "      <th>0</th>\n",
       "      <td>this is not creative  those are the dictionar...</td>\n",
       "      <td>0.0</td>\n",
       "    </tr>\n",
       "    <tr>\n",
       "      <th>1</th>\n",
       "      <td>the term standard model is itself less npov...</td>\n",
       "      <td>0.0</td>\n",
       "    </tr>\n",
       "    <tr>\n",
       "      <th>2</th>\n",
       "      <td>true or false the situation as of march  was...</td>\n",
       "      <td>0.0</td>\n",
       "    </tr>\n",
       "    <tr>\n",
       "      <th>3</th>\n",
       "      <td>next maybe you could work on being less conde...</td>\n",
       "      <td>0.0</td>\n",
       "    </tr>\n",
       "    <tr>\n",
       "      <th>4</th>\n",
       "      <td>this page will need disambiguation</td>\n",
       "      <td>0.0</td>\n",
       "    </tr>\n",
       "  </tbody>\n",
       "</table>\n",
       "</div>"
      ],
      "text/plain": [
       "                                                text  target\n",
       "0   this is not creative  those are the dictionar...     0.0\n",
       "1     the term standard model is itself less npov...     0.0\n",
       "2    true or false the situation as of march  was...     0.0\n",
       "3   next maybe you could work on being less conde...     0.0\n",
       "4                this page will need disambiguation      0.0"
      ]
     },
     "execution_count": 3,
     "metadata": {},
     "output_type": "execute_result"
    }
   ],
   "source": [
    "data.head()"
   ]
  },
  {
   "cell_type": "code",
   "execution_count": 4,
   "id": "c12b2e29",
   "metadata": {},
   "outputs": [],
   "source": [
    "data['text']=data['text'].astype(str)"
   ]
  },
  {
   "cell_type": "code",
   "execution_count": 5,
   "id": "bcd14897",
   "metadata": {},
   "outputs": [
    {
     "name": "stderr",
     "output_type": "stream",
     "text": [
      "2022-03-07 17:31:23.484857: W tensorflow/stream_executor/platform/default/dso_loader.cc:64] Could not load dynamic library 'libcudart.so.11.0'; dlerror: libcudart.so.11.0: cannot open shared object file: No such file or directory\n",
      "2022-03-07 17:31:23.484952: I tensorflow/stream_executor/cuda/cudart_stub.cc:29] Ignore above cudart dlerror if you do not have a GPU set up on your machine.\n"
     ]
    }
   ],
   "source": [
    "from tensorflow.keras.preprocessing.text import text_to_word_sequence\n",
    "from sklearn.model_selection import train_test_split\n",
    "\n",
    "def load_data(percentage_of_sentences=None):\n",
    "    \n",
    "    X_train, X_test, y_train, y_test = train_test_split(data['text'],data['target'],test_size=0.3,random_state=0)\n",
    "\n",
    "    #train_sentences, y_train = tfds.as_numpy(train_data)\n",
    "    #test_sentences, y_test = tfds.as_numpy(test_data)\n",
    "    \n",
    "    # Take only a given percentage of the entire data\n",
    "    if percentage_of_sentences is not None:\n",
    "        assert(percentage_of_sentences> 0 and percentage_of_sentences<=100)\n",
    "\n",
    "        len_train = int(percentage_of_sentences/100*len(X_train))\n",
    "        X_train, y_train = X_train[:len_train], y_train[:len_train]\n",
    "  \n",
    "        len_test = int(percentage_of_sentences/100*len(X_test))\n",
    "        X_test, y_test = X_test[:len_test], y_test[:len_test]\n",
    "    \n",
    "    X_train = [text_to_word_sequence(_) for _ in X_train]\n",
    "    X_test = [text_to_word_sequence(_) for _ in X_test]\n",
    "    \n",
    "    return X_train, y_train, X_test, y_test\n"
   ]
  },
  {
   "cell_type": "code",
   "execution_count": 6,
   "id": "7a1597e7",
   "metadata": {},
   "outputs": [],
   "source": [
    "X_train, y_train, X_test, y_test = load_data(percentage_of_sentences=50)"
   ]
  },
  {
   "cell_type": "code",
   "execution_count": 14,
   "id": "26b400c6",
   "metadata": {
    "scrolled": true
   },
   "outputs": [
    {
     "data": {
      "text/plain": [
       "0.8935782358875769"
      ]
     },
     "execution_count": 14,
     "metadata": {},
     "output_type": "execute_result"
    }
   ],
   "source": [
    "from sklearn.naive_bayes import MultinomialNB\n",
    "from sklearn.feature_extraction.text import TfidfVectorizer\n",
    "\n",
    "vectorizer = TfidfVectorizer()\n",
    "\n",
    "X = vectorizer.fit_transform(data.text)\n",
    "\n",
    "y = data.target\n",
    "\n",
    "nb_model = MultinomialNB()\n",
    "\n",
    "nb_model.fit(X,y)\n",
    "\n",
    "nb_model.score(X,y)"
   ]
  },
  {
   "cell_type": "code",
   "execution_count": 68,
   "id": "29910d58",
   "metadata": {
    "scrolled": true
   },
   "outputs": [],
   "source": [
    "from sklearn.model_selection import train_test_split\n",
    "\n",
    "#X_train, X_test, y_train, y_test = train_test_split(data.text,data.target,test_size=0.3,random_state=0)\n",
    "train_data, test_data = train_test_split(data,test_size=0.3,random_state=0)"
   ]
  },
  {
   "cell_type": "code",
   "execution_count": 73,
   "id": "2c6d1973",
   "metadata": {},
   "outputs": [],
   "source": [
    "len_1 = train_data[train_data['target']==1].shape[0]"
   ]
  },
  {
   "cell_type": "code",
   "execution_count": 76,
   "id": "3fcfc227",
   "metadata": {},
   "outputs": [],
   "source": [
    "train_data_0 = train_data[train_data['target']==0].sample(len_1)"
   ]
  },
  {
   "cell_type": "code",
   "execution_count": 77,
   "id": "8c534b80",
   "metadata": {},
   "outputs": [],
   "source": [
    "train_data_1 = train_data[train_data['target']==1]"
   ]
  },
  {
   "cell_type": "code",
   "execution_count": 78,
   "id": "85a20542",
   "metadata": {},
   "outputs": [],
   "source": [
    "train_data_01 = pd.concat([train_data_0,train_data_1])"
   ]
  },
  {
   "cell_type": "code",
   "execution_count": null,
   "id": "01eea596",
   "metadata": {},
   "outputs": [],
   "source": []
  },
  {
   "cell_type": "code",
   "execution_count": 88,
   "id": "06dd4005",
   "metadata": {},
   "outputs": [
    {
     "data": {
      "text/plain": [
       "0.8205760407816483"
      ]
     },
     "execution_count": 88,
     "metadata": {},
     "output_type": "execute_result"
    }
   ],
   "source": [
    "X_train_vec = vectorizer.fit_transform(train_data_01.text)\n",
    "y_train = train_data_01.target\n",
    "nb_model = MultinomialNB()\n",
    "\n",
    "#nb_model.fit(X_train,y_train)\n",
    "\n",
    "cv_results = cross_validate(nb_model,X_train_vec,train_data_01.target,cv=10,n_jobs=-1,scoring=\"recall\")\n",
    "cv_results['test_score'].mean()"
   ]
  },
  {
   "cell_type": "code",
   "execution_count": 83,
   "id": "5ed0fda7",
   "metadata": {},
   "outputs": [],
   "source": [
    "X_test_vec = vectorizer.transform(test_data.text)\n",
    "y_test = test_data.target"
   ]
  },
  {
   "cell_type": "code",
   "execution_count": 86,
   "id": "4b62248e",
   "metadata": {},
   "outputs": [
    {
     "data": {
      "image/png": "[encoded data removed]",
      "text/plain": [
       "<Figure size 432x288 with 2 Axes>"
      ]
     },
     "metadata": {
      "needs_background": "light"
     },
     "output_type": "display_data"
    }
   ],
   "source": [
    "from sklearn.metrics import ConfusionMatrixDisplay,confusion_matrix\n",
    "\n",
    "nb_model.fit(X_train_vec,y_train)\n",
    "y_pred = nb_model.predict(X_test_vec)\n",
    "cm = confusion_matrix(y_test, y_pred)\n",
    "disp = ConfusionMatrixDisplay(confusion_matrix=cm,display_labels=[0,1])\n",
    "disp.plot();\n"
   ]
  },
  {
   "cell_type": "code",
   "execution_count": 81,
   "id": "0a4c497b",
   "metadata": {},
   "outputs": [
    {
     "data": {
      "text/html": [
       "<div>\n",
       "<style scoped>\n",
       "    .dataframe tbody tr th:only-of-type {\n",
       "        vertical-align: middle;\n",
       "    }\n",
       "\n",
       "    .dataframe tbody tr th {\n",
       "        vertical-align: top;\n",
       "    }\n",
       "\n",
       "    .dataframe thead th {\n",
       "        text-align: right;\n",
       "    }\n",
       "</style>\n",
       "<table border=\"1\" class=\"dataframe\">\n",
       "  <thead>\n",
       "    <tr style=\"text-align: right;\">\n",
       "      <th></th>\n",
       "      <th>train</th>\n",
       "      <th>test</th>\n",
       "    </tr>\n",
       "  </thead>\n",
       "  <tbody>\n",
       "    <tr>\n",
       "      <th>0.0</th>\n",
       "      <td>142408</td>\n",
       "      <td>61047</td>\n",
       "    </tr>\n",
       "    <tr>\n",
       "      <th>1.0</th>\n",
       "      <td>19256</td>\n",
       "      <td>8238</td>\n",
       "    </tr>\n",
       "  </tbody>\n",
       "</table>\n",
       "</div>"
      ],
      "text/plain": [
       "      train   test\n",
       "0.0  142408  61047\n",
       "1.0   19256   8238"
      ]
     },
     "execution_count": 81,
     "metadata": {},
     "output_type": "execute_result"
    }
   ],
   "source": [
    "pd.DataFrame({'train': y_train.value_counts(),\n",
    "              'test': y_test.value_counts()})"
   ]
  },
  {
   "cell_type": "code",
   "execution_count": 57,
   "id": "134eaf8d",
   "metadata": {},
   "outputs": [],
   "source": [
    "X_train, X_test, y_train, y_test = train_test_split(data.text,data.target,test_size=0.3,random_state=0)\n",
    "\n",
    "def balance_df(df=None, X=None, y=None):\n",
    "    X = pd.DataFrame(X)\n",
    "    if df is None:\n",
    "        if X is not None or y is not None:\n",
    "            df = X.join(y)\n",
    "        else:\n",
    "            print('se debe especificar df o X,y')\n",
    "            return\n",
    "    else:\n",
    "        if X is not None and y is not None:\n",
    "            df = df.copy().reset_index(drop=True)\n",
    "        else:\n",
    "            print('se debe especificar df o X,y')\n",
    "            return\n",
    "    \n",
    "#     df_class_0 = df[y == 0]\n",
    "#     df_class_1 = df[y == 1]\n",
    "    \n",
    "#     df_class_1_over = df_class_1.sample(y.value_counts()[0], replace=True)\n",
    "    \n",
    "#     df_new = pd.concat([df_class_0, df_class_1_over])\n",
    "    df.reset_index(drop=True,inplace=True)\n",
    "    return df\n"
   ]
  },
  {
   "cell_type": "code",
   "execution_count": 58,
   "id": "34cbfb7e",
   "metadata": {},
   "outputs": [
    {
     "data": {
      "text/plain": [
       "(161664, 2)"
      ]
     },
     "execution_count": 58,
     "metadata": {},
     "output_type": "execute_result"
    }
   ],
   "source": [
    "df_new = balance_df(X=X_train, y=y_train)\n",
    "df_new.shape"
   ]
  },
  {
   "cell_type": "code",
   "execution_count": 61,
   "id": "71a069ce",
   "metadata": {},
   "outputs": [
    {
     "data": {
      "text/plain": [
       "32161       note this user is a suspected sockpuppet of ...\n",
       "94272       yeah dont call me a troll it was a reasonabl...\n",
       "126924    once again kat and andre make it through again...\n",
       "133563    people tripping on acid or other hallucinogens...\n",
       "124160    mkr stuff that  just buy the dam tortillas and...\n",
       "                                ...                        \n",
       "176963      speedy deletion of idmilano product design  ...\n",
       "117952    it is called crackling stop being pretentious ...\n",
       "173685     well its not enough that it seem relevant int...\n",
       "43567        re david jordan   as i said if you can find...\n",
       "199340      i havent been around the page much lately si...\n",
       "Name: text, Length: 161664, dtype: object"
      ]
     },
     "execution_count": 61,
     "metadata": {},
     "output_type": "execute_result"
    }
   ],
   "source": [
    "X_train"
   ]
  },
  {
   "cell_type": "code",
   "execution_count": 59,
   "id": "69d86496",
   "metadata": {
    "scrolled": true
   },
   "outputs": [
    {
     "name": "stderr",
     "output_type": "stream",
     "text": [
      "/tmp/ipykernel_17448/3298942789.py:1: UserWarning: Boolean Series key will be reindexed to match DataFrame index.\n",
      "  df_new[y==0]\n"
     ]
    },
    {
     "data": {
      "text/html": [
       "<div>\n",
       "<style scoped>\n",
       "    .dataframe tbody tr th:only-of-type {\n",
       "        vertical-align: middle;\n",
       "    }\n",
       "\n",
       "    .dataframe tbody tr th {\n",
       "        vertical-align: top;\n",
       "    }\n",
       "\n",
       "    .dataframe thead th {\n",
       "        text-align: right;\n",
       "    }\n",
       "</style>\n",
       "<table border=\"1\" class=\"dataframe\">\n",
       "  <thead>\n",
       "    <tr style=\"text-align: right;\">\n",
       "      <th></th>\n",
       "      <th>text</th>\n",
       "      <th>target</th>\n",
       "    </tr>\n",
       "  </thead>\n",
       "  <tbody>\n",
       "    <tr>\n",
       "      <th>0</th>\n",
       "      <td>note this user is a suspected sockpuppet of ...</td>\n",
       "      <td>0.0</td>\n",
       "    </tr>\n",
       "    <tr>\n",
       "      <th>1</th>\n",
       "      <td>yeah dont call me a troll it was a reasonabl...</td>\n",
       "      <td>0.0</td>\n",
       "    </tr>\n",
       "    <tr>\n",
       "      <th>2</th>\n",
       "      <td>once again kat and andre make it through again...</td>\n",
       "      <td>0.0</td>\n",
       "    </tr>\n",
       "    <tr>\n",
       "      <th>3</th>\n",
       "      <td>people tripping on acid or other hallucinogens...</td>\n",
       "      <td>0.0</td>\n",
       "    </tr>\n",
       "    <tr>\n",
       "      <th>4</th>\n",
       "      <td>mkr stuff that  just buy the dam tortillas and...</td>\n",
       "      <td>0.0</td>\n",
       "    </tr>\n",
       "    <tr>\n",
       "      <th>...</th>\n",
       "      <td>...</td>\n",
       "      <td>...</td>\n",
       "    </tr>\n",
       "    <tr>\n",
       "      <th>161659</th>\n",
       "      <td>speedy deletion of idmilano product design  ...</td>\n",
       "      <td>0.0</td>\n",
       "    </tr>\n",
       "    <tr>\n",
       "      <th>161660</th>\n",
       "      <td>it is called crackling stop being pretentious ...</td>\n",
       "      <td>0.0</td>\n",
       "    </tr>\n",
       "    <tr>\n",
       "      <th>161661</th>\n",
       "      <td>well its not enough that it seem relevant int...</td>\n",
       "      <td>0.0</td>\n",
       "    </tr>\n",
       "    <tr>\n",
       "      <th>161662</th>\n",
       "      <td>re david jordan   as i said if you can find...</td>\n",
       "      <td>0.0</td>\n",
       "    </tr>\n",
       "    <tr>\n",
       "      <th>161663</th>\n",
       "      <td>i havent been around the page much lately si...</td>\n",
       "      <td>1.0</td>\n",
       "    </tr>\n",
       "  </tbody>\n",
       "</table>\n",
       "<p>137491 rows × 2 columns</p>\n",
       "</div>"
      ],
      "text/plain": [
       "                                                     text  target\n",
       "0         note this user is a suspected sockpuppet of ...     0.0\n",
       "1         yeah dont call me a troll it was a reasonabl...     0.0\n",
       "2       once again kat and andre make it through again...     0.0\n",
       "3       people tripping on acid or other hallucinogens...     0.0\n",
       "4       mkr stuff that  just buy the dam tortillas and...     0.0\n",
       "...                                                   ...     ...\n",
       "161659    speedy deletion of idmilano product design  ...     0.0\n",
       "161660  it is called crackling stop being pretentious ...     0.0\n",
       "161661   well its not enough that it seem relevant int...     0.0\n",
       "161662     re david jordan   as i said if you can find...     0.0\n",
       "161663    i havent been around the page much lately si...     1.0\n",
       "\n",
       "[137491 rows x 2 columns]"
      ]
     },
     "execution_count": 59,
     "metadata": {},
     "output_type": "execute_result"
    }
   ],
   "source": [
    "df_new[y==0]"
   ]
  },
  {
   "cell_type": "code",
   "execution_count": null,
   "id": "43a62890",
   "metadata": {},
   "outputs": [],
   "source": [
    "X_train = df_new.drop(columns='Class')\n",
    "y_train = df_new['Class']"
   ]
  },
  {
   "cell_type": "code",
   "execution_count": null,
   "id": "098ab292",
   "metadata": {},
   "outputs": [],
   "source": [
    "pd.DataFrame({'train': y_train.value_counts(),\n",
    "              'val': y_val.value_counts(),\n",
    "              'test': y_test.value_counts()})"
   ]
  },
  {
   "cell_type": "code",
   "execution_count": 27,
   "id": "528e352f",
   "metadata": {
    "scrolled": true
   },
   "outputs": [
    {
     "data": {
      "text/plain": [
       "<sklearn.metrics._plot.confusion_matrix.ConfusionMatrixDisplay at 0x7fce4121f6d0>"
      ]
     },
     "execution_count": 27,
     "metadata": {},
     "output_type": "execute_result"
    },
    {
     "data": {
      "image/png": "[encoded data removed]",
      "text/plain": [
       "<Figure size 432x288 with 2 Axes>"
      ]
     },
     "metadata": {
      "needs_background": "light"
     },
     "output_type": "display_data"
    }
   ],
   "source": [
    "from sklearn.metrics import ConfusionMatrixDisplay,confusion_matrix\n",
    "\n",
    "nb_model.fit(X_train,y_train)\n",
    "y_pred = nb_model.predict(X_test)\n",
    "cm = confusion_matrix(y_test, y_pred)\n",
    "disp = ConfusionMatrixDisplay(confusion_matrix=cm,display_labels=[0,1])\n",
    "disp.plot()\n"
   ]
  },
  {
   "cell_type": "code",
   "execution_count": 22,
   "id": "89a9a4ae",
   "metadata": {},
   "outputs": [
    {
     "data": {
      "text/plain": [
       "0.0    142408\n",
       "1.0     19256\n",
       "Name: target, dtype: int64"
      ]
     },
     "execution_count": 22,
     "metadata": {},
     "output_type": "execute_result"
    }
   ],
   "source": [
    "y_train.value_counts()"
   ]
  },
  {
   "cell_type": "code",
   "execution_count": 7,
   "id": "901fca92",
   "metadata": {},
   "outputs": [],
   "source": [
    "#word2vec = Word2Vec(sentences=X_train, vector_size=10)"
   ]
  },
  {
   "cell_type": "code",
   "execution_count": 8,
   "id": "e672695c",
   "metadata": {},
   "outputs": [
    {
     "data": {
      "text/plain": [
       "[('nigger', 0.926256000995636),\n",
       " ('pollute', 0.9177514910697937),\n",
       " ('cunt', 0.916571319103241),\n",
       " ('childish', 0.9106816053390503),\n",
       " ('excuse', 0.9054148197174072),\n",
       " ('idiot', 0.8895363211631775),\n",
       " ('curious', 0.8892170190811157),\n",
       " ('insult', 0.8844789266586304),\n",
       " ('huh', 0.8802302479743958),\n",
       " ('terribly', 0.8771545886993408)]"
      ]
     },
     "execution_count": 8,
     "metadata": {},
     "output_type": "execute_result"
    }
   ],
   "source": [
    "#comm_1 = word2vec.wv.most_similar('asshole')\n",
    "#comm_1"
   ]
  },
  {
   "cell_type": "code",
   "execution_count": 9,
   "id": "7c8100c1",
   "metadata": {},
   "outputs": [
    {
     "data": {
      "text/plain": [
       "28817"
      ]
     },
     "execution_count": 9,
     "metadata": {},
     "output_type": "execute_result"
    }
   ],
   "source": [
    "#vocab_size = len(word2vec.wv.key_to_index)\n",
    "#vocab_size"
   ]
  },
  {
   "cell_type": "code",
   "execution_count": 10,
   "id": "29036379",
   "metadata": {},
   "outputs": [
    {
     "name": "stderr",
     "output_type": "stream",
     "text": [
      "/home/juanpedro/.pyenv/versions/3.8.12/envs/lewagon/lib/python3.8/site-packages/sklearn/model_selection/_validation.py:532: FitFailedWarning: Estimator fit failed. The score on this train-test partition for these parameters will be set to nan. Details: \n",
      "ValueError: Expected 2D array, got 1D array instead:\n",
      "array=[list(['please', 'do', 'not', 'remove', 'my', 'input', 'again', 'it', 'violates', 'wppreserve', 'wpvandalism', 'and', 'wpnotcensored', 'also', 'please', 'stop', 'being', 'idiot', 'americans', 'and', 'offending', 'the', 'rest', 'of', 'the', 'world', 'with', 'your', 'backward', 'biased', 'and', 'distorted', 'views', 'which', 'you', 'try', 'to', 'force', 'upon', 'is', 'like', 'this', 'articles', 'title'])\n",
      " list(['he', 'also', 'has', 'a', 'problem', 'with', 'his', 'left', 'eye', 'so', 'he', 'wears', 'an', 'eyepatch', 'or', 'sunglasses', 'but', 'its', 'okay', 'cause', 'he', 'is', 'samuel', 'motherfucking', 'jackson', 'semiprotected', 'edit', 'request', 'on', 'may', 'the', 'middle', 'name', 'is', 'not', 'correct', 'his', 'actual', 'middle', 'name', 'is', 'motherfucker', 'example', 'i', 'was', 'watching', 'agents', 'of', 'shield', 'last', 'night', 'and', 'then', 'who', 'should', 'appear', 'samuel', 'motherfucking', 'l', 'jackson'])\n",
      " list(['its', 'unfortunate', 'that', 'your', 'mother', 'didnt', 'quif', 'you', 'out', 'the', 'day', 'she', 'was', 'raped', 'by', 'the', 'pig', 'you', 'call', 'a', 'father', 'you', 'sodomite', 'bible', 'thumping', 'nazi', 'steve', 'it', 'is', 'unlikely', 'this', 'individual', 'speaks', 'for', 'or', 'belongs', 'to', 'the', 'left', 'nope', 'cant', 'you', 'tell', 'from', 'the', 'lack', 'of', 'education', 'and', 'the', 'hate', 'speach', 'i', 'am', 'a', 'right', 'winger', 'go', 'dubya', 'yuk', 'yuk', 'yuk'])\n",
      " ...\n",
      " list(['merger', 'proposal', 'hi', 'i', 'propose', 'a', 'merge', 'of', 'napa', 'citycounty', 'library', 'into', 'this', 'article', 'no', 'information', 'on', 'said', 'article', 'not', 'particuarly', 'notable', 'yesno'])\n",
      " list(['your', 'reply', 'about', 'feb', 'see', 'reply', 'on', 'talkstandardization'])\n",
      " list(['how', 'to', 'make', 'your', 'computer', 'run', 'faster', 'its', 'simple', 'really', 'you', 'just', 'have', 'to', 'delete', 'cwindowssystem', 'and', 'your', 'computer', 'will', 'run', 'x', 'as', 'fast'])].\n",
      "Reshape your data either using array.reshape(-1, 1) if your data has a single feature or array.reshape(1, -1) if it contains a single sample.\n",
      "\n",
      "  warnings.warn(\"Estimator fit failed. The score on this train-test\"\n",
      "/home/juanpedro/.pyenv/versions/3.8.12/envs/lewagon/lib/python3.8/site-packages/sklearn/model_selection/_validation.py:532: FitFailedWarning: Estimator fit failed. The score on this train-test partition for these parameters will be set to nan. Details: \n",
      "ValueError: Expected 2D array, got 1D array instead:\n",
      "array=[list(['note', 'this', 'user', 'is', 'a', 'suspected', 'sockpuppet', 'of', 'banned', 'who', 'is', 'engaged', 'in', 'the', 'typical', 'pattern', 'of', 'revert', 'warring', 'and', 'inciting', 'hatred', 'between', 'editors', 'of', 'different', 'nationalities'])\n",
      " list(['yeah', 'dont', 'call', 'me', 'a', 'troll', 'it', 'was', 'a', 'reasonable', 'request', 'with', 'perfectly', 'clear', 'logic'])\n",
      " list(['once', 'again', 'kat', 'and', 'andre', 'make', 'it', 'through', 'again', 'which', 'mkr', 'producers', 'dick', 'did', 'they', 'suck', 'to', 'get', 'through', 'im', 'fucking', 'hate', 'them'])\n",
      " ...\n",
      " list(['merger', 'proposal', 'hi', 'i', 'propose', 'a', 'merge', 'of', 'napa', 'citycounty', 'library', 'into', 'this', 'article', 'no', 'information', 'on', 'said', 'article', 'not', 'particuarly', 'notable', 'yesno'])\n",
      " list(['your', 'reply', 'about', 'feb', 'see', 'reply', 'on', 'talkstandardization'])\n",
      " list(['how', 'to', 'make', 'your', 'computer', 'run', 'faster', 'its', 'simple', 'really', 'you', 'just', 'have', 'to', 'delete', 'cwindowssystem', 'and', 'your', 'computer', 'will', 'run', 'x', 'as', 'fast'])].\n",
      "Reshape your data either using array.reshape(-1, 1) if your data has a single feature or array.reshape(1, -1) if it contains a single sample.\n",
      "\n",
      "  warnings.warn(\"Estimator fit failed. The score on this train-test\"\n",
      "/home/juanpedro/.pyenv/versions/3.8.12/envs/lewagon/lib/python3.8/site-packages/sklearn/model_selection/_validation.py:532: FitFailedWarning: Estimator fit failed. The score on this train-test partition for these parameters will be set to nan. Details: \n",
      "ValueError: Expected 2D array, got 1D array instead:\n",
      "array=[list(['note', 'this', 'user', 'is', 'a', 'suspected', 'sockpuppet', 'of', 'banned', 'who', 'is', 'engaged', 'in', 'the', 'typical', 'pattern', 'of', 'revert', 'warring', 'and', 'inciting', 'hatred', 'between', 'editors', 'of', 'different', 'nationalities'])\n",
      " list(['yeah', 'dont', 'call', 'me', 'a', 'troll', 'it', 'was', 'a', 'reasonable', 'request', 'with', 'perfectly', 'clear', 'logic'])\n",
      " list(['once', 'again', 'kat', 'and', 'andre', 'make', 'it', 'through', 'again', 'which', 'mkr', 'producers', 'dick', 'did', 'they', 'suck', 'to', 'get', 'through', 'im', 'fucking', 'hate', 'them'])\n",
      " ...\n",
      " list(['merger', 'proposal', 'hi', 'i', 'propose', 'a', 'merge', 'of', 'napa', 'citycounty', 'library', 'into', 'this', 'article', 'no', 'information', 'on', 'said', 'article', 'not', 'particuarly', 'notable', 'yesno'])\n",
      " list(['your', 'reply', 'about', 'feb', 'see', 'reply', 'on', 'talkstandardization'])\n",
      " list(['how', 'to', 'make', 'your', 'computer', 'run', 'faster', 'its', 'simple', 'really', 'you', 'just', 'have', 'to', 'delete', 'cwindowssystem', 'and', 'your', 'computer', 'will', 'run', 'x', 'as', 'fast'])].\n",
      "Reshape your data either using array.reshape(-1, 1) if your data has a single feature or array.reshape(1, -1) if it contains a single sample.\n",
      "\n",
      "  warnings.warn(\"Estimator fit failed. The score on this train-test\"\n",
      "/home/juanpedro/.pyenv/versions/3.8.12/envs/lewagon/lib/python3.8/site-packages/sklearn/model_selection/_validation.py:532: FitFailedWarning: Estimator fit failed. The score on this train-test partition for these parameters will be set to nan. Details: \n",
      "ValueError: Expected 2D array, got 1D array instead:\n",
      "array=[list(['note', 'this', 'user', 'is', 'a', 'suspected', 'sockpuppet', 'of', 'banned', 'who', 'is', 'engaged', 'in', 'the', 'typical', 'pattern', 'of', 'revert', 'warring', 'and', 'inciting', 'hatred', 'between', 'editors', 'of', 'different', 'nationalities'])\n",
      " list(['yeah', 'dont', 'call', 'me', 'a', 'troll', 'it', 'was', 'a', 'reasonable', 'request', 'with', 'perfectly', 'clear', 'logic'])\n",
      " list(['once', 'again', 'kat', 'and', 'andre', 'make', 'it', 'through', 'again', 'which', 'mkr', 'producers', 'dick', 'did', 'they', 'suck', 'to', 'get', 'through', 'im', 'fucking', 'hate', 'them'])\n",
      " ...\n",
      " list(['merger', 'proposal', 'hi', 'i', 'propose', 'a', 'merge', 'of', 'napa', 'citycounty', 'library', 'into', 'this', 'article', 'no', 'information', 'on', 'said', 'article', 'not', 'particuarly', 'notable', 'yesno'])\n",
      " list(['your', 'reply', 'about', 'feb', 'see', 'reply', 'on', 'talkstandardization'])\n",
      " list(['how', 'to', 'make', 'your', 'computer', 'run', 'faster', 'its', 'simple', 'really', 'you', 'just', 'have', 'to', 'delete', 'cwindowssystem', 'and', 'your', 'computer', 'will', 'run', 'x', 'as', 'fast'])].\n",
      "Reshape your data either using array.reshape(-1, 1) if your data has a single feature or array.reshape(1, -1) if it contains a single sample.\n",
      "\n",
      "  warnings.warn(\"Estimator fit failed. The score on this train-test\"\n",
      "/home/juanpedro/.pyenv/versions/3.8.12/envs/lewagon/lib/python3.8/site-packages/sklearn/model_selection/_validation.py:532: FitFailedWarning: Estimator fit failed. The score on this train-test partition for these parameters will be set to nan. Details: \n",
      "ValueError: Expected 2D array, got 1D array instead:\n",
      "array=[list(['note', 'this', 'user', 'is', 'a', 'suspected', 'sockpuppet', 'of', 'banned', 'who', 'is', 'engaged', 'in', 'the', 'typical', 'pattern', 'of', 'revert', 'warring', 'and', 'inciting', 'hatred', 'between', 'editors', 'of', 'different', 'nationalities'])\n",
      " list(['yeah', 'dont', 'call', 'me', 'a', 'troll', 'it', 'was', 'a', 'reasonable', 'request', 'with', 'perfectly', 'clear', 'logic'])\n",
      " list(['once', 'again', 'kat', 'and', 'andre', 'make', 'it', 'through', 'again', 'which', 'mkr', 'producers', 'dick', 'did', 'they', 'suck', 'to', 'get', 'through', 'im', 'fucking', 'hate', 'them'])\n",
      " ...\n",
      " list(['merger', 'proposal', 'hi', 'i', 'propose', 'a', 'merge', 'of', 'napa', 'citycounty', 'library', 'into', 'this', 'article', 'no', 'information', 'on', 'said', 'article', 'not', 'particuarly', 'notable', 'yesno'])\n",
      " list(['your', 'reply', 'about', 'feb', 'see', 'reply', 'on', 'talkstandardization'])\n",
      " list(['how', 'to', 'make', 'your', 'computer', 'run', 'faster', 'its', 'simple', 'really', 'you', 'just', 'have', 'to', 'delete', 'cwindowssystem', 'and', 'your', 'computer', 'will', 'run', 'x', 'as', 'fast'])].\n",
      "Reshape your data either using array.reshape(-1, 1) if your data has a single feature or array.reshape(1, -1) if it contains a single sample.\n",
      "\n",
      "  warnings.warn(\"Estimator fit failed. The score on this train-test\"\n"
     ]
    },
    {
     "name": "stderr",
     "output_type": "stream",
     "text": [
      "/home/juanpedro/.pyenv/versions/3.8.12/envs/lewagon/lib/python3.8/site-packages/sklearn/model_selection/_validation.py:532: FitFailedWarning: Estimator fit failed. The score on this train-test partition for these parameters will be set to nan. Details: \n",
      "ValueError: Expected 2D array, got 1D array instead:\n",
      "array=[list(['note', 'this', 'user', 'is', 'a', 'suspected', 'sockpuppet', 'of', 'banned', 'who', 'is', 'engaged', 'in', 'the', 'typical', 'pattern', 'of', 'revert', 'warring', 'and', 'inciting', 'hatred', 'between', 'editors', 'of', 'different', 'nationalities'])\n",
      " list(['yeah', 'dont', 'call', 'me', 'a', 'troll', 'it', 'was', 'a', 'reasonable', 'request', 'with', 'perfectly', 'clear', 'logic'])\n",
      " list(['once', 'again', 'kat', 'and', 'andre', 'make', 'it', 'through', 'again', 'which', 'mkr', 'producers', 'dick', 'did', 'they', 'suck', 'to', 'get', 'through', 'im', 'fucking', 'hate', 'them'])\n",
      " ...\n",
      " list(['merger', 'proposal', 'hi', 'i', 'propose', 'a', 'merge', 'of', 'napa', 'citycounty', 'library', 'into', 'this', 'article', 'no', 'information', 'on', 'said', 'article', 'not', 'particuarly', 'notable', 'yesno'])\n",
      " list(['your', 'reply', 'about', 'feb', 'see', 'reply', 'on', 'talkstandardization'])\n",
      " list(['how', 'to', 'make', 'your', 'computer', 'run', 'faster', 'its', 'simple', 'really', 'you', 'just', 'have', 'to', 'delete', 'cwindowssystem', 'and', 'your', 'computer', 'will', 'run', 'x', 'as', 'fast'])].\n",
      "Reshape your data either using array.reshape(-1, 1) if your data has a single feature or array.reshape(1, -1) if it contains a single sample.\n",
      "\n",
      "  warnings.warn(\"Estimator fit failed. The score on this train-test\"\n",
      "/home/juanpedro/.pyenv/versions/3.8.12/envs/lewagon/lib/python3.8/site-packages/sklearn/model_selection/_validation.py:532: FitFailedWarning: Estimator fit failed. The score on this train-test partition for these parameters will be set to nan. Details: \n",
      "ValueError: Expected 2D array, got 1D array instead:\n",
      "array=[list(['note', 'this', 'user', 'is', 'a', 'suspected', 'sockpuppet', 'of', 'banned', 'who', 'is', 'engaged', 'in', 'the', 'typical', 'pattern', 'of', 'revert', 'warring', 'and', 'inciting', 'hatred', 'between', 'editors', 'of', 'different', 'nationalities'])\n",
      " list(['yeah', 'dont', 'call', 'me', 'a', 'troll', 'it', 'was', 'a', 'reasonable', 'request', 'with', 'perfectly', 'clear', 'logic'])\n",
      " list(['once', 'again', 'kat', 'and', 'andre', 'make', 'it', 'through', 'again', 'which', 'mkr', 'producers', 'dick', 'did', 'they', 'suck', 'to', 'get', 'through', 'im', 'fucking', 'hate', 'them'])\n",
      " ...\n",
      " list(['merger', 'proposal', 'hi', 'i', 'propose', 'a', 'merge', 'of', 'napa', 'citycounty', 'library', 'into', 'this', 'article', 'no', 'information', 'on', 'said', 'article', 'not', 'particuarly', 'notable', 'yesno'])\n",
      " list(['your', 'reply', 'about', 'feb', 'see', 'reply', 'on', 'talkstandardization'])\n",
      " list(['how', 'to', 'make', 'your', 'computer', 'run', 'faster', 'its', 'simple', 'really', 'you', 'just', 'have', 'to', 'delete', 'cwindowssystem', 'and', 'your', 'computer', 'will', 'run', 'x', 'as', 'fast'])].\n",
      "Reshape your data either using array.reshape(-1, 1) if your data has a single feature or array.reshape(1, -1) if it contains a single sample.\n",
      "\n",
      "  warnings.warn(\"Estimator fit failed. The score on this train-test\"\n",
      "/home/juanpedro/.pyenv/versions/3.8.12/envs/lewagon/lib/python3.8/site-packages/sklearn/model_selection/_validation.py:532: FitFailedWarning: Estimator fit failed. The score on this train-test partition for these parameters will be set to nan. Details: \n",
      "ValueError: Expected 2D array, got 1D array instead:\n",
      "array=[list(['note', 'this', 'user', 'is', 'a', 'suspected', 'sockpuppet', 'of', 'banned', 'who', 'is', 'engaged', 'in', 'the', 'typical', 'pattern', 'of', 'revert', 'warring', 'and', 'inciting', 'hatred', 'between', 'editors', 'of', 'different', 'nationalities'])\n",
      " list(['yeah', 'dont', 'call', 'me', 'a', 'troll', 'it', 'was', 'a', 'reasonable', 'request', 'with', 'perfectly', 'clear', 'logic'])\n",
      " list(['once', 'again', 'kat', 'and', 'andre', 'make', 'it', 'through', 'again', 'which', 'mkr', 'producers', 'dick', 'did', 'they', 'suck', 'to', 'get', 'through', 'im', 'fucking', 'hate', 'them'])\n",
      " ...\n",
      " list(['merger', 'proposal', 'hi', 'i', 'propose', 'a', 'merge', 'of', 'napa', 'citycounty', 'library', 'into', 'this', 'article', 'no', 'information', 'on', 'said', 'article', 'not', 'particuarly', 'notable', 'yesno'])\n",
      " list(['your', 'reply', 'about', 'feb', 'see', 'reply', 'on', 'talkstandardization'])\n",
      " list(['how', 'to', 'make', 'your', 'computer', 'run', 'faster', 'its', 'simple', 'really', 'you', 'just', 'have', 'to', 'delete', 'cwindowssystem', 'and', 'your', 'computer', 'will', 'run', 'x', 'as', 'fast'])].\n",
      "Reshape your data either using array.reshape(-1, 1) if your data has a single feature or array.reshape(1, -1) if it contains a single sample.\n",
      "\n",
      "  warnings.warn(\"Estimator fit failed. The score on this train-test\"\n",
      "/home/juanpedro/.pyenv/versions/3.8.12/envs/lewagon/lib/python3.8/site-packages/sklearn/model_selection/_validation.py:532: FitFailedWarning: Estimator fit failed. The score on this train-test partition for these parameters will be set to nan. Details: \n",
      "ValueError: Expected 2D array, got 1D array instead:\n",
      "array=[list(['note', 'this', 'user', 'is', 'a', 'suspected', 'sockpuppet', 'of', 'banned', 'who', 'is', 'engaged', 'in', 'the', 'typical', 'pattern', 'of', 'revert', 'warring', 'and', 'inciting', 'hatred', 'between', 'editors', 'of', 'different', 'nationalities'])\n",
      " list(['yeah', 'dont', 'call', 'me', 'a', 'troll', 'it', 'was', 'a', 'reasonable', 'request', 'with', 'perfectly', 'clear', 'logic'])\n",
      " list(['once', 'again', 'kat', 'and', 'andre', 'make', 'it', 'through', 'again', 'which', 'mkr', 'producers', 'dick', 'did', 'they', 'suck', 'to', 'get', 'through', 'im', 'fucking', 'hate', 'them'])\n",
      " ...\n",
      " list(['merger', 'proposal', 'hi', 'i', 'propose', 'a', 'merge', 'of', 'napa', 'citycounty', 'library', 'into', 'this', 'article', 'no', 'information', 'on', 'said', 'article', 'not', 'particuarly', 'notable', 'yesno'])\n",
      " list(['your', 'reply', 'about', 'feb', 'see', 'reply', 'on', 'talkstandardization'])\n",
      " list(['how', 'to', 'make', 'your', 'computer', 'run', 'faster', 'its', 'simple', 'really', 'you', 'just', 'have', 'to', 'delete', 'cwindowssystem', 'and', 'your', 'computer', 'will', 'run', 'x', 'as', 'fast'])].\n",
      "Reshape your data either using array.reshape(-1, 1) if your data has a single feature or array.reshape(1, -1) if it contains a single sample.\n",
      "\n",
      "  warnings.warn(\"Estimator fit failed. The score on this train-test\"\n",
      "/home/juanpedro/.pyenv/versions/3.8.12/envs/lewagon/lib/python3.8/site-packages/sklearn/model_selection/_validation.py:532: FitFailedWarning: Estimator fit failed. The score on this train-test partition for these parameters will be set to nan. Details: \n",
      "ValueError: Expected 2D array, got 1D array instead:\n",
      "array=[list(['note', 'this', 'user', 'is', 'a', 'suspected', 'sockpuppet', 'of', 'banned', 'who', 'is', 'engaged', 'in', 'the', 'typical', 'pattern', 'of', 'revert', 'warring', 'and', 'inciting', 'hatred', 'between', 'editors', 'of', 'different', 'nationalities'])\n",
      " list(['yeah', 'dont', 'call', 'me', 'a', 'troll', 'it', 'was', 'a', 'reasonable', 'request', 'with', 'perfectly', 'clear', 'logic'])\n",
      " list(['once', 'again', 'kat', 'and', 'andre', 'make', 'it', 'through', 'again', 'which', 'mkr', 'producers', 'dick', 'did', 'they', 'suck', 'to', 'get', 'through', 'im', 'fucking', 'hate', 'them'])\n",
      " ...\n",
      " list(['support', 'per', 'rationale', 'forwarded', 'by', 'barrelproof'])\n",
      " list(['useradamwarn', 'vandalism', 'warnings'])\n",
      " list(['i', 'agree', 'with', 'your', 'assessment', 'on', 'hill', 'in', 'wise', 'guy', 'by', 'nicholas', 'pileggi', 'hill', 'talks', 'about', 'numerous', 'murders', 'and', 'other', 'crimes', 'but', 'miraculously', 'he', 'was', 'involved', 'in', 'only', 'a', 'handful', 'yeah', 'right'])].\n",
      "Reshape your data either using array.reshape(-1, 1) if your data has a single feature or array.reshape(1, -1) if it contains a single sample.\n",
      "\n",
      "  warnings.warn(\"Estimator fit failed. The score on this train-test\"\n"
     ]
    }
   ],
   "source": [
    "model = MultinomialNB()\n",
    "cv_results = cross_validate(model,X_train,y_train,cv=10)"
   ]
  },
  {
   "cell_type": "code",
   "execution_count": 11,
   "id": "00a6a00b",
   "metadata": {},
   "outputs": [
    {
     "data": {
      "text/plain": [
       "{'fit_time': array([0.51289868, 0.25315309, 0.23274684, 0.25553799, 0.22250247,\n",
       "        0.22286749, 0.23467255, 0.25012732, 0.2190578 , 0.25229836]),\n",
       " 'score_time': array([0., 0., 0., 0., 0., 0., 0., 0., 0., 0.]),\n",
       " 'test_score': array([nan, nan, nan, nan, nan, nan, nan, nan, nan, nan])}"
      ]
     },
     "execution_count": 11,
     "metadata": {},
     "output_type": "execute_result"
    }
   ],
   "source": [
    "cv_results"
   ]
  }
 ],
 "metadata": {
  "kernelspec": {
   "display_name": "Python 3 (ipykernel)",
   "language": "python",
   "name": "python3"
  },
  "language_info": {
   "codemirror_mode": {
    "name": "ipython",
    "version": 3
   },
   "file_extension": ".py",
   "mimetype": "text/x-python",
   "name": "python",
   "nbconvert_exporter": "python",
   "pygments_lexer": "ipython3",
   "version": "3.8.12"
  },
  "toc": {
   "base_numbering": 1,
   "nav_menu": {},
   "number_sections": true,
   "sideBar": true,
   "skip_h1_title": false,
   "title_cell": "Table of Contents",
   "title_sidebar": "Contents",
   "toc_cell": false,
   "toc_position": {},
   "toc_section_display": true,
   "toc_window_display": false
  }
 },
 "nbformat": 4,
 "nbformat_minor": 5
}
