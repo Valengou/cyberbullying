{
 "cells": [
  {
   "cell_type": "markdown",
   "id": "179aa480",
   "metadata": {},
   "source": [
    "# Baseline Model"
   ]
  },
  {
   "cell_type": "markdown",
   "id": "3b15ac12",
   "metadata": {},
   "source": [
    "## Importamos el csv de \"Data Cleaning\""
   ]
  },
  {
   "cell_type": "code",
   "execution_count": 1,
   "id": "cfc78abe",
   "metadata": {},
   "outputs": [],
   "source": [
    "from gensim.models import Word2Vec\n",
    "import pandas as pd\n",
    "from sklearn.naive_bayes import MultinomialNB\n",
    "from sklearn.model_selection import cross_validate\n",
    "import numpy as np"
   ]
  },
  {
   "cell_type": "code",
   "execution_count": 2,
   "id": "75d7084d",
   "metadata": {},
   "outputs": [],
   "source": [
    "data = pd.read_csv('../../cyberbullying/data/data.csv')"
   ]
  },
  {
   "cell_type": "code",
   "execution_count": 3,
   "id": "ed5af577",
   "metadata": {},
   "outputs": [
    {
     "data": {
      "text/html": [
       "<div>\n",
       "<style scoped>\n",
       "    .dataframe tbody tr th:only-of-type {\n",
       "        vertical-align: middle;\n",
       "    }\n",
       "\n",
       "    .dataframe tbody tr th {\n",
       "        vertical-align: top;\n",
       "    }\n",
       "\n",
       "    .dataframe thead th {\n",
       "        text-align: right;\n",
       "    }\n",
       "</style>\n",
       "<table border=\"1\" class=\"dataframe\">\n",
       "  <thead>\n",
       "    <tr style=\"text-align: right;\">\n",
       "      <th></th>\n",
       "      <th>text</th>\n",
       "      <th>target</th>\n",
       "    </tr>\n",
       "  </thead>\n",
       "  <tbody>\n",
       "    <tr>\n",
       "      <th>0</th>\n",
       "      <td>this is not creative  those are the dictionar...</td>\n",
       "      <td>0.0</td>\n",
       "    </tr>\n",
       "    <tr>\n",
       "      <th>1</th>\n",
       "      <td>the term standard model is itself less npov...</td>\n",
       "      <td>0.0</td>\n",
       "    </tr>\n",
       "    <tr>\n",
       "      <th>2</th>\n",
       "      <td>true or false the situation as of march  was...</td>\n",
       "      <td>0.0</td>\n",
       "    </tr>\n",
       "    <tr>\n",
       "      <th>3</th>\n",
       "      <td>next maybe you could work on being less conde...</td>\n",
       "      <td>0.0</td>\n",
       "    </tr>\n",
       "    <tr>\n",
       "      <th>4</th>\n",
       "      <td>this page will need disambiguation</td>\n",
       "      <td>0.0</td>\n",
       "    </tr>\n",
       "  </tbody>\n",
       "</table>\n",
       "</div>"
      ],
      "text/plain": [
       "                                                text  target\n",
       "0   this is not creative  those are the dictionar...     0.0\n",
       "1     the term standard model is itself less npov...     0.0\n",
       "2    true or false the situation as of march  was...     0.0\n",
       "3   next maybe you could work on being less conde...     0.0\n",
       "4                this page will need disambiguation      0.0"
      ]
     },
     "execution_count": 3,
     "metadata": {},
     "output_type": "execute_result"
    }
   ],
   "source": [
    "data.head()"
   ]
  },
  {
   "cell_type": "markdown",
   "id": "47bcb670",
   "metadata": {},
   "source": [
    "## Armamos el train set"
   ]
  },
  {
   "cell_type": "raw",
   "id": "821a3245",
   "metadata": {},
   "source": [
    "X_train, y_train, X_test, y_test = load_data(percentage_of_sentences=50)"
   ]
  },
  {
   "cell_type": "code",
   "execution_count": 5,
   "id": "29910d58",
   "metadata": {
    "scrolled": true
   },
   "outputs": [],
   "source": [
    "from sklearn.model_selection import train_test_split\n",
    "\n",
    "train_data, test_data = train_test_split(data,test_size=0.3,random_state=0)"
   ]
  },
  {
   "cell_type": "markdown",
   "id": "5ab892e0",
   "metadata": {},
   "source": [
    "## Baseline model (Desbalanceado)"
   ]
  },
  {
   "cell_type": "code",
   "execution_count": 6,
   "id": "26b400c6",
   "metadata": {
    "scrolled": true
   },
   "outputs": [
    {
     "data": {
      "text/plain": [
       "0.8995763724446568"
      ]
     },
     "execution_count": 6,
     "metadata": {},
     "output_type": "execute_result"
    }
   ],
   "source": [
    "from sklearn.naive_bayes import MultinomialNB\n",
    "from sklearn.feature_extraction.text import TfidfVectorizer\n",
    "\n",
    "vectorizer = TfidfVectorizer()\n",
    "\n",
    "X = vectorizer.fit_transform(data.text)\n",
    "\n",
    "y = data.target\n",
    "\n",
    "nb_model = MultinomialNB()\n",
    "\n",
    "nb_model.fit(X,y)\n",
    "\n",
    "nb_model.score(X,y)"
   ]
  },
  {
   "cell_type": "markdown",
   "id": "842a2bbc",
   "metadata": {},
   "source": [
    "El accuracy 0.89 se debe al desbalanceo del dataset."
   ]
  },
  {
   "cell_type": "markdown",
   "id": "2ece4935",
   "metadata": {
    "heading_collapsed": true
   },
   "source": [
    "## Baseline model (Balanceado 50/50)"
   ]
  },
  {
   "cell_type": "markdown",
   "id": "70828993",
   "metadata": {
    "hidden": true
   },
   "source": [
    "### Balanceo 50/50"
   ]
  },
  {
   "cell_type": "code",
   "execution_count": 7,
   "id": "2c6d1973",
   "metadata": {
    "hidden": true
   },
   "outputs": [],
   "source": [
    "len_1 = train_data[train_data['target']==1].shape[0]"
   ]
  },
  {
   "cell_type": "code",
   "execution_count": 8,
   "id": "3fcfc227",
   "metadata": {
    "hidden": true
   },
   "outputs": [],
   "source": [
    "train_data_0 = train_data[train_data['target']==0].sample(len_1)"
   ]
  },
  {
   "cell_type": "code",
   "execution_count": 9,
   "id": "8c534b80",
   "metadata": {
    "hidden": true
   },
   "outputs": [],
   "source": [
    "train_data_1 = train_data[train_data['target']==1]"
   ]
  },
  {
   "cell_type": "code",
   "execution_count": 10,
   "id": "85a20542",
   "metadata": {
    "hidden": true
   },
   "outputs": [],
   "source": [
    "train_data_01 = pd.concat([train_data_0,train_data_1])"
   ]
  },
  {
   "cell_type": "markdown",
   "id": "f748ec6c",
   "metadata": {
    "hidden": true
   },
   "source": [
    "### Baseline model"
   ]
  },
  {
   "cell_type": "code",
   "execution_count": 30,
   "id": "06dd4005",
   "metadata": {
    "hidden": true
   },
   "outputs": [
    {
     "name": "stdout",
     "output_type": "stream",
     "text": [
      "Recall: 0.829\n",
      "Precision: 0.836\n",
      "Accuracy: 0.833\n",
      "F1 Score: 0.832\n"
     ]
    }
   ],
   "source": [
    "X_train_vec = vectorizer.fit_transform(train_data_01.text)\n",
    "y_train = train_data_01.target\n",
    "nb_model = MultinomialNB()\n",
    "\n",
    "#nb_model.fit(X_train,y_train)\n",
    "\n",
    "cv_results = cross_validate(nb_model,X_train_vec,train_data_01.target,cv=10,n_jobs=-1,scoring=['recall','precision','accuracy','f1'])\n",
    "\n",
    "recall = np.round_(cv_results['test_recall'].mean(),3)\n",
    "precision = np.round_(cv_results['test_precision'].mean(),3)\n",
    "accuracy = np.round_(cv_results['test_accuracy'].mean(),3)\n",
    "f1 = np.round_(cv_results['test_f1'].mean(),3)\n",
    "\n",
    "print(f\"Recall: {recall}\")\n",
    "print(f\"Precision: {precision}\")\n",
    "print(f\"Accuracy: {accuracy}\")\n",
    "print(f\"F1 Score: {f1}\")"
   ]
  },
  {
   "cell_type": "markdown",
   "id": "a2f383ed",
   "metadata": {
    "heading_collapsed": true
   },
   "source": [
    "## Matriz de Confusion (Train Balanceado 70/30)"
   ]
  },
  {
   "cell_type": "code",
   "execution_count": 12,
   "id": "5ed0fda7",
   "metadata": {
    "hidden": true
   },
   "outputs": [],
   "source": [
    "X_test_vec = vectorizer.transform(test_data.text)\n",
    "y_test = test_data.target"
   ]
  },
  {
   "cell_type": "code",
   "execution_count": 32,
   "id": "4b62248e",
   "metadata": {
    "hidden": true
   },
   "outputs": [
    {
     "data": {
      "image/png": "[encoded data removed]",
      "text/plain": [
       "<Figure size 432x288 with 2 Axes>"
      ]
     },
     "metadata": {
      "needs_background": "light"
     },
     "output_type": "display_data"
    }
   ],
   "source": [
    "from sklearn.metrics import ConfusionMatrixDisplay,confusion_matrix\n",
    "\n",
    "nb_model.fit(X_train_vec,y_train)\n",
    "y_pred = nb_model.predict(X_test_vec)\n",
    "cm5050 = confusion_matrix(y_test, y_pred)\n",
    "disp = ConfusionMatrixDisplay(confusion_matrix=cm5050,display_labels=[0,1])\n",
    "disp.plot();\n"
   ]
  },
  {
   "cell_type": "code",
   "execution_count": 33,
   "id": "fbb9bc3f",
   "metadata": {
    "hidden": true
   },
   "outputs": [],
   "source": [
    "def conf_mx_metrics(cm):\n",
    "    TN = cm[0][0]\n",
    "    TP = cm[1][1]\n",
    "    FN = cm[1][0]\n",
    "    FP = cm[0][1]\n",
    "    \n",
    "    recall = np.round_(TP/(TP+FN),3)\n",
    "    precision = np.round_(TP/(TP+FP),3)\n",
    "    accuracy = np.round_((TP+TN)/(TP+TN+FP+FN),3)\n",
    "    \n",
    "    print(f\"Recall: {recall}\")\n",
    "    print(f\"Precision: {precision}\")\n",
    "    print(f\"Accuracy: {accuracy}\")"
   ]
  },
  {
   "cell_type": "code",
   "execution_count": 34,
   "id": "dc233253",
   "metadata": {
    "hidden": true
   },
   "outputs": [
    {
     "name": "stdout",
     "output_type": "stream",
     "text": [
      "Recall: 0.824\n",
      "Precision: 0.414\n",
      "Accuracy: 0.84\n"
     ]
    }
   ],
   "source": [
    "conf_mx_metrics(cm5050)"
   ]
  },
  {
   "cell_type": "code",
   "execution_count": 14,
   "id": "840926fe",
   "metadata": {
    "hidden": true,
    "scrolled": true
   },
   "outputs": [
    {
     "data": {
      "text/plain": [
       "16338.0"
      ]
     },
     "execution_count": 14,
     "metadata": {},
     "output_type": "execute_result"
    }
   ],
   "source": [
    "y_pred.sum()"
   ]
  },
  {
   "cell_type": "code",
   "execution_count": 15,
   "id": "50c97a80",
   "metadata": {
    "hidden": true
   },
   "outputs": [
    {
     "data": {
      "text/plain": [
       "8214.0"
      ]
     },
     "execution_count": 15,
     "metadata": {},
     "output_type": "execute_result"
    }
   ],
   "source": [
    "y_test.sum()"
   ]
  },
  {
   "cell_type": "code",
   "execution_count": null,
   "id": "0c5b2c51",
   "metadata": {
    "hidden": true
   },
   "outputs": [],
   "source": []
  }
 ],
 "metadata": {
  "kernelspec": {
   "display_name": "Python 3 (ipykernel)",
   "language": "python",
   "name": "python3"
  },
  "language_info": {
   "codemirror_mode": {
    "name": "ipython",
    "version": 3
   },
   "file_extension": ".py",
   "mimetype": "text/x-python",
   "name": "python",
   "nbconvert_exporter": "python",
   "pygments_lexer": "ipython3",
   "version": "3.8.12"
  },
  "toc": {
   "base_numbering": 1,
   "nav_menu": {},
   "number_sections": true,
   "sideBar": true,
   "skip_h1_title": false,
   "title_cell": "Table of Contents",
   "title_sidebar": "Contents",
   "toc_cell": false,
   "toc_position": {},
   "toc_section_display": true,
   "toc_window_display": false
  }
 },
 "nbformat": 4,
 "nbformat_minor": 5
}
