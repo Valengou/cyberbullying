{
 "cells": [
  {
   "cell_type": "code",
   "execution_count": 1,
   "id": "4aca34f6",
   "metadata": {},
   "outputs": [],
   "source": [
    "%load_ext autoreload\n",
    "%autoreload 2"
   ]
  },
  {
   "cell_type": "code",
   "execution_count": 2,
   "id": "fe35a73a",
   "metadata": {},
   "outputs": [],
   "source": [
    "import numpy as np\n",
    "import pandas as pd\n",
    "import matplotlib.pyplot as plt\n",
    "import os\n",
    "\n",
    "import re\n",
    "from nltk.corpus import stopwords\n",
    "from nltk.tokenize import word_tokenize\n",
    "from nltk.stem import WordNetLemmatizer"
   ]
  },
  {
   "cell_type": "code",
   "execution_count": 3,
   "id": "769cf999",
   "metadata": {},
   "outputs": [
    {
     "data": {
      "text/plain": [
       "'/home/pjcopado/code/juanpedrobesenyi/cyberbullying/notebooks/pjcopado'"
      ]
     },
     "execution_count": 3,
     "metadata": {},
     "output_type": "execute_result"
    }
   ],
   "source": [
    "#path_data = os.path.dirname(__file__) # no funciona en jupyter\n",
    "path_data = os.path.abspath('')\n",
    "path_data"
   ]
  },
  {
   "cell_type": "code",
   "execution_count": 4,
   "id": "44c63c8d",
   "metadata": {},
   "outputs": [
    {
     "data": {
      "text/plain": [
       "'/home/pjcopado/code/juanpedrobesenyi/cyberbullying/notebooks/pjcopado/../../raw_data/'"
      ]
     },
     "execution_count": 4,
     "metadata": {},
     "output_type": "execute_result"
    }
   ],
   "source": [
    "path_raw_data = os.path.join(path_data, '../../raw_data/')\n",
    "path_raw_data"
   ]
  },
  {
   "cell_type": "code",
   "execution_count": 5,
   "id": "325a07f4",
   "metadata": {},
   "outputs": [
    {
     "data": {
      "text/plain": [
       "['toxicity_parsed_dataset.csv',\n",
       " 'aggression_parsed_dataset.csv',\n",
       " 'twitter_parsed_dataset.csv',\n",
       " 'twitter_racism_parsed_dataset.csv',\n",
       " 'twitter_sexism_parsed_dataset.csv',\n",
       " 'youtube_parsed_dataset.csv',\n",
       " 'kaggle_parsed_dataset.csv']"
      ]
     },
     "execution_count": 5,
     "metadata": {},
     "output_type": "execute_result"
    }
   ],
   "source": [
    "file_names = os.listdir(path=path_raw_data)\n",
    "files = [file for file in file_names if file.endswith('.csv')]\n",
    "files"
   ]
  },
  {
   "cell_type": "code",
   "execution_count": 6,
   "id": "aa11af75",
   "metadata": {},
   "outputs": [
    {
     "data": {
      "text/plain": [
       "{'toxicity': 'toxicity_parsed_dataset.csv',\n",
       " 'aggression': 'aggression_parsed_dataset.csv',\n",
       " 'twitter': 'twitter_parsed_dataset.csv',\n",
       " 'twitter_racism': 'twitter_racism_parsed_dataset.csv',\n",
       " 'twitter_sexism': 'twitter_sexism_parsed_dataset.csv',\n",
       " 'youtube': 'youtube_parsed_dataset.csv',\n",
       " 'kaggle': 'kaggle_parsed_dataset.csv'}"
      ]
     },
     "execution_count": 6,
     "metadata": {},
     "output_type": "execute_result"
    }
   ],
   "source": [
    "files = {file.replace('_parsed', '').replace('_dataset','').replace('.csv',''): file for file in file_names if file.endswith('.csv')}\n",
    "files"
   ]
  },
  {
   "cell_type": "code",
   "execution_count": 7,
   "id": "1ebdfbf2",
   "metadata": {},
   "outputs": [],
   "source": [
    "data = {name: pd.read_csv(path_raw_data+file, usecols=['Text', 'oh_label']) for name, file in files.items()}\n",
    "for name, dataset in data.items():\n",
    "    dataset.rename(columns={'Text': 'text', 'oh_label':'target'}, inplace=True)\n",
    "    data[name] = data[name][['text', 'target']]\n",
    "    #dataset['source'] = files_tag[name]"
   ]
  },
  {
   "cell_type": "code",
   "execution_count": 8,
   "id": "440cfedc",
   "metadata": {},
   "outputs": [
    {
     "data": {
      "text/plain": [
       "dict_keys(['toxicity', 'aggression', 'twitter', 'twitter_racism', 'twitter_sexism', 'youtube', 'kaggle'])"
      ]
     },
     "execution_count": 8,
     "metadata": {},
     "output_type": "execute_result"
    }
   ],
   "source": [
    "data.keys()"
   ]
  },
  {
   "cell_type": "code",
   "execution_count": 9,
   "id": "7a3bf81d",
   "metadata": {},
   "outputs": [],
   "source": [
    "#df = pd.concat([dataset for dataset in data.values()], ignore_index=True)\n",
    "#df"
   ]
  },
  {
   "cell_type": "code",
   "execution_count": 10,
   "id": "5ce3b80b",
   "metadata": {},
   "outputs": [],
   "source": [
    "#file = 'toxicity_parsed_dataset.csv'\n",
    "#df = pd.read_csv(path_raw_data+file, usecols=['Text', 'oh_label'])\n",
    "#df.rename(columns={'Text':'text', 'oh_label':'target'}, inplace=True)\n",
    "#df.head()"
   ]
  },
  {
   "cell_type": "raw",
   "id": "7c485f83",
   "metadata": {},
   "source": [
    "def remove_spam(s):\n",
    "    \n",
    "    text=word_tokenize(s)\n",
    "    n = 2\n",
    "    \n",
    "    for index in range(len(text)):\n",
    "        for i, j in zip(range(1, 6):\n",
    "            if text[index]==text[index+i]:\n",
    "                text[index]=''\n",
    "        text= [w for w in text if w != '']\n",
    "        \n",
    "    for index in range(len(text)-3):    \n",
    "        if text[index]+' '+text[index+1]==text[index+2]+' '+text[index+3]:\n",
    "            text[index]=''\n",
    "            text[index+1]=''\n",
    "        s=' '.join(w for w in text if w != '').strip()\n",
    "    return s"
   ]
  },
  {
   "cell_type": "code",
   "execution_count": 11,
   "id": "ff39b8cc",
   "metadata": {},
   "outputs": [
    {
     "data": {
      "text/plain": [
       "' how are you?'"
      ]
     },
     "execution_count": 11,
     "metadata": {},
     "output_type": "execute_result"
    }
   ],
   "source": [
    "text = '@hello how are you?'\n",
    "\n",
    "regex = r'@\\w+'\n",
    "\n",
    "re.sub(regex, '', text, flags=re.IGNORECASE)"
   ]
  },
  {
   "cell_type": "code",
   "execution_count": 12,
   "id": "712ec985",
   "metadata": {},
   "outputs": [],
   "source": [
    "def remove_twitt_name(text):\n",
    "    regex = r'^@\\w+'\n",
    "    return re.sub(regex, '', text, flags=re.IGNORECASE)"
   ]
  },
  {
   "cell_type": "code",
   "execution_count": 49,
   "id": "62e7ce95",
   "metadata": {},
   "outputs": [],
   "source": [
    "def remove_twitt_rt(text):\n",
    "    regex = r'RT[\\s]+'\n",
    "    return re.sub(regex, '', text, flags=re.IGNORECASE)"
   ]
  },
  {
   "cell_type": "code",
   "execution_count": 13,
   "id": "23dd0885",
   "metadata": {},
   "outputs": [],
   "source": [
    "def remove_duplicated_words(text):\n",
    "    regex = r'\\b(\\w+)(?:\\W+\\1\\b)+' \n",
    "    return re.sub(regex, r'\\1', text, flags=re.IGNORECASE)"
   ]
  },
  {
   "cell_type": "code",
   "execution_count": 14,
   "id": "9a84ce54",
   "metadata": {},
   "outputs": [],
   "source": [
    "text = 'asd asd asd hello asd hello asd hello'"
   ]
  },
  {
   "cell_type": "code",
   "execution_count": 15,
   "id": "a5699138",
   "metadata": {},
   "outputs": [
    {
     "data": {
      "text/plain": [
       "'asd hello asd hello asd hello'"
      ]
     },
     "execution_count": 15,
     "metadata": {},
     "output_type": "execute_result"
    }
   ],
   "source": [
    "remove_duplicated_words(text)"
   ]
  },
  {
   "cell_type": "code",
   "execution_count": 16,
   "id": "c663e6a2",
   "metadata": {},
   "outputs": [],
   "source": [
    "def remove_duplicated_phrase(text):\n",
    "    regex = r'\\b(\\w+(?:\\s*\\w*))\\s+\\1\\b'\n",
    "    return re.sub(regex, \"\\\\1\", text, flags=re.IGNORECASE)"
   ]
  },
  {
   "cell_type": "code",
   "execution_count": 17,
   "id": "52c1b5aa",
   "metadata": {},
   "outputs": [
    {
     "data": {
      "text/plain": [
       "'asd hello'"
      ]
     },
     "execution_count": 17,
     "metadata": {},
     "output_type": "execute_result"
    }
   ],
   "source": [
    "remove_duplicated_phrase(remove_duplicated_words(remove_duplicated_phrase(text)))"
   ]
  },
  {
   "cell_type": "code",
   "execution_count": 18,
   "id": "ba8f2ab4",
   "metadata": {},
   "outputs": [],
   "source": [
    "def remove_duplicates_phrases(text):\n",
    "    for n in range(2):\n",
    "        regex = r'\\b(\\w+)(?:\\W+\\1\\b)+' \n",
    "        text = re.sub(regex, r'\\1', text, flags=re.IGNORECASE)\n",
    "        regex = r'\\b(\\w+(?:\\s*\\w*))\\s+\\1\\b'\n",
    "        text =  re.sub(regex, \"\\\\1\", text, flags=re.IGNORECASE)\n",
    "    return text"
   ]
  },
  {
   "cell_type": "code",
   "execution_count": 19,
   "id": "ed5dfd19",
   "metadata": {},
   "outputs": [
    {
     "data": {
      "text/plain": [
       "'asd hello'"
      ]
     },
     "execution_count": 19,
     "metadata": {},
     "output_type": "execute_result"
    }
   ],
   "source": [
    "remove_duplicates(text)"
   ]
  },
  {
   "cell_type": "code",
   "execution_count": 20,
   "id": "1b318dd0",
   "metadata": {},
   "outputs": [],
   "source": [
    "def remove_dup(text):\n",
    "    regex = r'\\b(\\w+)(?:\\W+\\1\\b)+|\\b(\\w+(?:\\s*\\w*))\\s+\\1\\b' \n",
    "    return re.sub(regex, \"\\\\1\", text, flags=re.IGNORECASE)"
   ]
  },
  {
   "cell_type": "code",
   "execution_count": 21,
   "id": "55d50de0",
   "metadata": {},
   "outputs": [
    {
     "data": {
      "text/plain": [
       "'asd hello asd hello asd hello'"
      ]
     },
     "execution_count": 21,
     "metadata": {},
     "output_type": "execute_result"
    }
   ],
   "source": [
    "remove_dup(text)"
   ]
  },
  {
   "cell_type": "code",
   "execution_count": 22,
   "id": "73dc932c",
   "metadata": {},
   "outputs": [
    {
     "data": {
      "text/plain": [
       "dict"
      ]
     },
     "execution_count": 22,
     "metadata": {},
     "output_type": "execute_result"
    }
   ],
   "source": [
    "type(data)"
   ]
  },
  {
   "cell_type": "code",
   "execution_count": 23,
   "id": "77278445",
   "metadata": {},
   "outputs": [
    {
     "data": {
      "text/plain": [
       "pandas.core.frame.DataFrame"
      ]
     },
     "execution_count": 23,
     "metadata": {},
     "output_type": "execute_result"
    }
   ],
   "source": [
    "type(data['toxicity'])"
   ]
  },
  {
   "cell_type": "code",
   "execution_count": 24,
   "id": "299d0902",
   "metadata": {},
   "outputs": [
    {
     "data": {
      "text/plain": [
       "True"
      ]
     },
     "execution_count": 24,
     "metadata": {},
     "output_type": "execute_result"
    }
   ],
   "source": [
    "isinstance(data['toxicity'], pd.DataFrame)"
   ]
  },
  {
   "cell_type": "code",
   "execution_count": 25,
   "id": "35d2e246",
   "metadata": {},
   "outputs": [],
   "source": [
    "def clean_data(text,\n",
    "               remove_punctuation=True,\n",
    "               lower_text=True,\n",
    "               remove_numbers=True,\n",
    "               remove_stopwords=False, \n",
    "               lemmatize=False):\n",
    "    \n",
    "    text = str(text)\n",
    "    \n",
    "    # remove twitter names\n",
    "    text = remove_twitt_name(text)\n",
    "    text = remove_twitt_rt(text)\n",
    "    \n",
    "    # replace emojis with text\n",
    "    #text = demoji.replace_with_desc(text, ' ')\n",
    "    \n",
    "    # keep only letters\n",
    "    if remove_punctuation:\n",
    "        text = re.sub(r'[^a-zA-Z]+', ' ', text)\n",
    "    \n",
    "    # lower text\n",
    "    if lower_text:\n",
    "        text = text.lower()\n",
    "    \n",
    "    # remove numbers\n",
    "    if remove_numbers:\n",
    "        text = ''.join([w for w in text if not w.isdigit()])\n",
    "    \n",
    "    # remove stopwords\n",
    "    if remove_stopwords:\n",
    "        stop_words = set(stopwords.words('english'))\n",
    "        #word_tokens = word_tokenize(text)\n",
    "        #text = ' '.join([w for w in word_tokens if not w in stop_words])\n",
    "    \n",
    "    # lemmatize\n",
    "    if lemmatize:\n",
    "        lemmatizer = WordNetLemmatizer()\n",
    "        #text = ''.join([lemmatizer.lemmatize(word) for word in text]) # no entiendo por qué no va un espacio\n",
    "    \n",
    "    # spam\n",
    "    #text = remove_duplicated_words(text)\n",
    "    text = remove_duplicates_phrases(text)\n",
    "    \n",
    "    text = text.strip()\n",
    "    \n",
    "    return text"
   ]
  },
  {
   "cell_type": "code",
   "execution_count": 26,
   "id": "4e0265f3",
   "metadata": {},
   "outputs": [],
   "source": [
    "def clean_df(df, \n",
    "            remove_punctuation=True,\n",
    "            lower_text=True,\n",
    "            remove_numbers=True,\n",
    "            remove_stopwords=False, \n",
    "            lemmatize=False):\n",
    "    \n",
    "    df = df.copy()\n",
    "    \n",
    "    df = df.drop_duplicates()\n",
    "    \n",
    "    df['text'] = df['text'].apply(lambda text: clean_data(text,\n",
    "                                                          remove_punctuation,\n",
    "                                                          lower_text,\n",
    "                                                          remove_numbers,\n",
    "                                                          remove_stopwords,\n",
    "                                                          lemmatize))\n",
    "    \n",
    "    df = df.drop_duplicates()\n",
    "    \n",
    "    df = df.replace(['', ' '], np.nan)\n",
    "    df = df.dropna().reset_index(drop=True)\n",
    "    \n",
    "    return df"
   ]
  },
  {
   "cell_type": "code",
   "execution_count": 27,
   "id": "1d18c9c4",
   "metadata": {},
   "outputs": [
    {
     "name": "stdout",
     "output_type": "stream",
     "text": [
      "CPU times: user 1min 20s, sys: 87.8 ms, total: 1min 20s\n",
      "Wall time: 1min 20s\n"
     ]
    }
   ],
   "source": [
    "%%time\n",
    "\n",
    "for name in data.keys():\n",
    "    data[name] = clean_df(data[name])"
   ]
  },
  {
   "cell_type": "code",
   "execution_count": 28,
   "id": "51ed62b3",
   "metadata": {},
   "outputs": [
    {
     "data": {
      "text/html": [
       "<div>\n",
       "<style scoped>\n",
       "    .dataframe tbody tr th:only-of-type {\n",
       "        vertical-align: middle;\n",
       "    }\n",
       "\n",
       "    .dataframe tbody tr th {\n",
       "        vertical-align: top;\n",
       "    }\n",
       "\n",
       "    .dataframe thead th {\n",
       "        text-align: right;\n",
       "    }\n",
       "</style>\n",
       "<table border=\"1\" class=\"dataframe\">\n",
       "  <thead>\n",
       "    <tr style=\"text-align: right;\">\n",
       "      <th></th>\n",
       "      <th>text</th>\n",
       "      <th>target</th>\n",
       "    </tr>\n",
       "  </thead>\n",
       "  <tbody>\n",
       "    <tr>\n",
       "      <th>0</th>\n",
       "      <td>this one can make an analogy in mathematical t...</td>\n",
       "      <td>0</td>\n",
       "    </tr>\n",
       "    <tr>\n",
       "      <th>1</th>\n",
       "      <td>clarification for you and zundark s right i sh...</td>\n",
       "      <td>0</td>\n",
       "    </tr>\n",
       "    <tr>\n",
       "      <th>2</th>\n",
       "      <td>elected or electoral jhk</td>\n",
       "      <td>0</td>\n",
       "    </tr>\n",
       "    <tr>\n",
       "      <th>3</th>\n",
       "      <td>this is such a fun entry devotchka i once had ...</td>\n",
       "      <td>0</td>\n",
       "    </tr>\n",
       "    <tr>\n",
       "      <th>4</th>\n",
       "      <td>please relate the ozone hole to increases in c...</td>\n",
       "      <td>0</td>\n",
       "    </tr>\n",
       "    <tr>\n",
       "      <th>...</th>\n",
       "      <td>...</td>\n",
       "      <td>...</td>\n",
       "    </tr>\n",
       "    <tr>\n",
       "      <th>157376</th>\n",
       "      <td>these sources don t exactly exude a sense of i...</td>\n",
       "      <td>0</td>\n",
       "    </tr>\n",
       "    <tr>\n",
       "      <th>157377</th>\n",
       "      <td>the institute for historical review is a peer ...</td>\n",
       "      <td>0</td>\n",
       "    </tr>\n",
       "    <tr>\n",
       "      <th>157378</th>\n",
       "      <td>the way you re trying to describe it in this a...</td>\n",
       "      <td>0</td>\n",
       "    </tr>\n",
       "    <tr>\n",
       "      <th>157379</th>\n",
       "      <td>warning there is clearly a protectionist regim...</td>\n",
       "      <td>0</td>\n",
       "    </tr>\n",
       "    <tr>\n",
       "      <th>157380</th>\n",
       "      <td>alternate option is there perhaps enough newsw...</td>\n",
       "      <td>0</td>\n",
       "    </tr>\n",
       "  </tbody>\n",
       "</table>\n",
       "<p>157381 rows × 2 columns</p>\n",
       "</div>"
      ],
      "text/plain": [
       "                                                     text  target\n",
       "0       this one can make an analogy in mathematical t...       0\n",
       "1       clarification for you and zundark s right i sh...       0\n",
       "2                                elected or electoral jhk       0\n",
       "3       this is such a fun entry devotchka i once had ...       0\n",
       "4       please relate the ozone hole to increases in c...       0\n",
       "...                                                   ...     ...\n",
       "157376  these sources don t exactly exude a sense of i...       0\n",
       "157377  the institute for historical review is a peer ...       0\n",
       "157378  the way you re trying to describe it in this a...       0\n",
       "157379  warning there is clearly a protectionist regim...       0\n",
       "157380  alternate option is there perhaps enough newsw...       0\n",
       "\n",
       "[157381 rows x 2 columns]"
      ]
     },
     "execution_count": 28,
     "metadata": {},
     "output_type": "execute_result"
    }
   ],
   "source": [
    "data['toxicity']"
   ]
  },
  {
   "cell_type": "code",
   "execution_count": 29,
   "id": "38624816",
   "metadata": {},
   "outputs": [
    {
     "name": "stdout",
     "output_type": "stream",
     "text": [
      "CPU times: user 2 µs, sys: 0 ns, total: 2 µs\n",
      "Wall time: 3.81 µs\n"
     ]
    }
   ],
   "source": [
    "%%time\n",
    "\n",
    "#df = clean_df(df)\n",
    "#df.head()"
   ]
  },
  {
   "cell_type": "code",
   "execution_count": 30,
   "id": "f9bcb3ec",
   "metadata": {},
   "outputs": [],
   "source": [
    "#df.shape"
   ]
  },
  {
   "cell_type": "code",
   "execution_count": 31,
   "id": "07c17532",
   "metadata": {},
   "outputs": [
    {
     "data": {
      "text/plain": [
       "dict_keys(['toxicity', 'aggression', 'twitter', 'twitter_racism', 'twitter_sexism', 'youtube', 'kaggle'])"
      ]
     },
     "execution_count": 31,
     "metadata": {},
     "output_type": "execute_result"
    }
   ],
   "source": [
    "data.keys()"
   ]
  },
  {
   "cell_type": "code",
   "execution_count": 32,
   "id": "313c9487",
   "metadata": {},
   "outputs": [],
   "source": [
    "def plot_hist(X):\n",
    "    fig, (ax1, ax2) = plt.subplots(1, 2, figsize=(12,4))\n",
    "    len_ = [len(_.split()) for _ in X]\n",
    "    ax1.hist(len_)\n",
    "    ax1.set_title('All length')\n",
    "    \n",
    "    n = 400\n",
    "    \n",
    "    len_2 = [_ for _ in len_ if _ < n]\n",
    "    ax2.hist(len_2)\n",
    "    ax2.set_title(f'Only ≤ {n} words')\n",
    "    \n",
    "    plt.suptitle('Histogram of the number of sentences that have a given number of words')\n",
    "    plt.tight_layout(pad=1)\n",
    "    plt.show()"
   ]
  },
  {
   "cell_type": "code",
   "execution_count": 33,
   "id": "9e525aea",
   "metadata": {},
   "outputs": [
    {
     "data": {
      "image/png": "[encoded data removed]",
      "text/plain": [
       "<Figure size 864x288 with 2 Axes>"
      ]
     },
     "metadata": {
      "needs_background": "light"
     },
     "output_type": "display_data"
    }
   ],
   "source": [
    "plot_hist(data['toxicity']['text'])"
   ]
  },
  {
   "cell_type": "code",
   "execution_count": 34,
   "id": "71954238",
   "metadata": {},
   "outputs": [
    {
     "data": {
      "text/html": [
       "<div>\n",
       "<style scoped>\n",
       "    .dataframe tbody tr th:only-of-type {\n",
       "        vertical-align: middle;\n",
       "    }\n",
       "\n",
       "    .dataframe tbody tr th {\n",
       "        vertical-align: top;\n",
       "    }\n",
       "\n",
       "    .dataframe thead th {\n",
       "        text-align: right;\n",
       "    }\n",
       "</style>\n",
       "<table border=\"1\" class=\"dataframe\">\n",
       "  <thead>\n",
       "    <tr style=\"text-align: right;\">\n",
       "      <th></th>\n",
       "      <th>text</th>\n",
       "      <th>target</th>\n",
       "    </tr>\n",
       "  </thead>\n",
       "  <tbody>\n",
       "    <tr>\n",
       "      <th>0</th>\n",
       "      <td>this one can make an analogy in mathematical t...</td>\n",
       "      <td>0</td>\n",
       "    </tr>\n",
       "    <tr>\n",
       "      <th>1</th>\n",
       "      <td>clarification for you and zundark s right i sh...</td>\n",
       "      <td>0</td>\n",
       "    </tr>\n",
       "    <tr>\n",
       "      <th>2</th>\n",
       "      <td>elected or electoral jhk</td>\n",
       "      <td>0</td>\n",
       "    </tr>\n",
       "    <tr>\n",
       "      <th>3</th>\n",
       "      <td>this is such a fun entry devotchka i once had ...</td>\n",
       "      <td>0</td>\n",
       "    </tr>\n",
       "    <tr>\n",
       "      <th>4</th>\n",
       "      <td>please relate the ozone hole to increases in c...</td>\n",
       "      <td>0</td>\n",
       "    </tr>\n",
       "    <tr>\n",
       "      <th>...</th>\n",
       "      <td>...</td>\n",
       "      <td>...</td>\n",
       "    </tr>\n",
       "    <tr>\n",
       "      <th>157376</th>\n",
       "      <td>these sources don t exactly exude a sense of i...</td>\n",
       "      <td>0</td>\n",
       "    </tr>\n",
       "    <tr>\n",
       "      <th>157377</th>\n",
       "      <td>the institute for historical review is a peer ...</td>\n",
       "      <td>0</td>\n",
       "    </tr>\n",
       "    <tr>\n",
       "      <th>157378</th>\n",
       "      <td>the way you re trying to describe it in this a...</td>\n",
       "      <td>0</td>\n",
       "    </tr>\n",
       "    <tr>\n",
       "      <th>157379</th>\n",
       "      <td>warning there is clearly a protectionist regim...</td>\n",
       "      <td>0</td>\n",
       "    </tr>\n",
       "    <tr>\n",
       "      <th>157380</th>\n",
       "      <td>alternate option is there perhaps enough newsw...</td>\n",
       "      <td>0</td>\n",
       "    </tr>\n",
       "  </tbody>\n",
       "</table>\n",
       "<p>157357 rows × 2 columns</p>\n",
       "</div>"
      ],
      "text/plain": [
       "                                                     text  target\n",
       "0       this one can make an analogy in mathematical t...       0\n",
       "1       clarification for you and zundark s right i sh...       0\n",
       "2                                elected or electoral jhk       0\n",
       "3       this is such a fun entry devotchka i once had ...       0\n",
       "4       please relate the ozone hole to increases in c...       0\n",
       "...                                                   ...     ...\n",
       "157376  these sources don t exactly exude a sense of i...       0\n",
       "157377  the institute for historical review is a peer ...       0\n",
       "157378  the way you re trying to describe it in this a...       0\n",
       "157379  warning there is clearly a protectionist regim...       0\n",
       "157380  alternate option is there perhaps enough newsw...       0\n",
       "\n",
       "[157357 rows x 2 columns]"
      ]
     },
     "execution_count": 34,
     "metadata": {},
     "output_type": "execute_result"
    }
   ],
   "source": [
    "data['toxicity'][data['toxicity']['text'].map(lambda text: len(text.split())) <=1000]"
   ]
  },
  {
   "cell_type": "code",
   "execution_count": 35,
   "id": "d2d95752",
   "metadata": {},
   "outputs": [],
   "source": [
    "for name in data.keys():\n",
    "    data[name] = data[name][data[name]['text'].map(lambda text: len(text.split())) <=1000]"
   ]
  },
  {
   "cell_type": "code",
   "execution_count": 36,
   "id": "58f78752",
   "metadata": {},
   "outputs": [],
   "source": [
    "#df = df[df['text'].map(lambda text: len(text.split())) <=1000].reset_index(drop=True)"
   ]
  },
  {
   "cell_type": "code",
   "execution_count": 37,
   "id": "c0a0daa1",
   "metadata": {},
   "outputs": [
    {
     "data": {
      "image/png": "[encoded data removed]",
      "text/plain": [
       "<Figure size 864x288 with 2 Axes>"
      ]
     },
     "metadata": {
      "needs_background": "light"
     },
     "output_type": "display_data"
    }
   ],
   "source": [
    "plot_hist(data['toxicity']['text'])"
   ]
  },
  {
   "cell_type": "code",
   "execution_count": 38,
   "id": "8fc5dff5",
   "metadata": {},
   "outputs": [],
   "source": [
    "#plot_hist(df['text'])"
   ]
  },
  {
   "cell_type": "code",
   "execution_count": null,
   "id": "31c756a1",
   "metadata": {},
   "outputs": [],
   "source": []
  },
  {
   "cell_type": "code",
   "execution_count": 39,
   "id": "a1abd8df",
   "metadata": {},
   "outputs": [
    {
     "data": {
      "text/html": [
       "<div>\n",
       "<style scoped>\n",
       "    .dataframe tbody tr th:only-of-type {\n",
       "        vertical-align: middle;\n",
       "    }\n",
       "\n",
       "    .dataframe tbody tr th {\n",
       "        vertical-align: top;\n",
       "    }\n",
       "\n",
       "    .dataframe thead th {\n",
       "        text-align: right;\n",
       "    }\n",
       "</style>\n",
       "<table border=\"1\" class=\"dataframe\">\n",
       "  <thead>\n",
       "    <tr style=\"text-align: right;\">\n",
       "      <th></th>\n",
       "      <th>text</th>\n",
       "      <th>target</th>\n",
       "    </tr>\n",
       "  </thead>\n",
       "  <tbody>\n",
       "    <tr>\n",
       "      <th>0</th>\n",
       "      <td>this one can make an analogy in mathematical t...</td>\n",
       "      <td>0.0</td>\n",
       "    </tr>\n",
       "    <tr>\n",
       "      <th>1</th>\n",
       "      <td>clarification for you and zundark s right i sh...</td>\n",
       "      <td>0.0</td>\n",
       "    </tr>\n",
       "    <tr>\n",
       "      <th>2</th>\n",
       "      <td>elected or electoral jhk</td>\n",
       "      <td>0.0</td>\n",
       "    </tr>\n",
       "    <tr>\n",
       "      <th>3</th>\n",
       "      <td>this is such a fun entry devotchka i once had ...</td>\n",
       "      <td>0.0</td>\n",
       "    </tr>\n",
       "    <tr>\n",
       "      <th>4</th>\n",
       "      <td>please relate the ozone hole to increases in c...</td>\n",
       "      <td>0.0</td>\n",
       "    </tr>\n",
       "  </tbody>\n",
       "</table>\n",
       "</div>"
      ],
      "text/plain": [
       "                                                text  target\n",
       "0  this one can make an analogy in mathematical t...     0.0\n",
       "1  clarification for you and zundark s right i sh...     0.0\n",
       "2                           elected or electoral jhk     0.0\n",
       "3  this is such a fun entry devotchka i once had ...     0.0\n",
       "4  please relate the ozone hole to increases in c...     0.0"
      ]
     },
     "execution_count": 39,
     "metadata": {},
     "output_type": "execute_result"
    }
   ],
   "source": [
    "df = pd.concat([dataset for dataset in data.values()], ignore_index=True).drop_duplicates().reset_index(drop=True)\n",
    "df.head()"
   ]
  },
  {
   "cell_type": "code",
   "execution_count": 40,
   "id": "7b96e2be",
   "metadata": {},
   "outputs": [],
   "source": [
    "for name, file in files.items():\n",
    "    data[name].to_csv(f'../../cyberbullying/data/{file}', index=False)\n",
    "df.to_csv(f'../../cyberbullying/data/all_df.csv', index=False)"
   ]
  },
  {
   "cell_type": "code",
   "execution_count": null,
   "id": "490878d5",
   "metadata": {},
   "outputs": [],
   "source": []
  },
  {
   "cell_type": "code",
   "execution_count": 41,
   "id": "cfe509f9",
   "metadata": {},
   "outputs": [
    {
     "name": "stdout",
     "output_type": "stream",
     "text": [
      "CPU times: user 1min 34s, sys: 1.64 s, total: 1min 35s\n",
      "Wall time: 1min 35s\n"
     ]
    }
   ],
   "source": [
    "%%time\n",
    "\n",
    "for name in data.keys():\n",
    "    data[name] = clean_df(data[name],\n",
    "                          remove_punctuation=False,\n",
    "                          lower_text=False,\n",
    "                          remove_numbers=False,\n",
    "                          remove_stopwords=True,\n",
    "                          lemmatize=True)"
   ]
  },
  {
   "cell_type": "code",
   "execution_count": 42,
   "id": "74bc7e2c",
   "metadata": {},
   "outputs": [
    {
     "data": {
      "text/html": [
       "<div>\n",
       "<style scoped>\n",
       "    .dataframe tbody tr th:only-of-type {\n",
       "        vertical-align: middle;\n",
       "    }\n",
       "\n",
       "    .dataframe tbody tr th {\n",
       "        vertical-align: top;\n",
       "    }\n",
       "\n",
       "    .dataframe thead th {\n",
       "        text-align: right;\n",
       "    }\n",
       "</style>\n",
       "<table border=\"1\" class=\"dataframe\">\n",
       "  <thead>\n",
       "    <tr style=\"text-align: right;\">\n",
       "      <th></th>\n",
       "      <th>text</th>\n",
       "      <th>target</th>\n",
       "    </tr>\n",
       "  </thead>\n",
       "  <tbody>\n",
       "    <tr>\n",
       "      <th>0</th>\n",
       "      <td>this one can make an analogy in mathematical t...</td>\n",
       "      <td>0.0</td>\n",
       "    </tr>\n",
       "    <tr>\n",
       "      <th>1</th>\n",
       "      <td>clarification for you and zundark s right i sh...</td>\n",
       "      <td>0.0</td>\n",
       "    </tr>\n",
       "    <tr>\n",
       "      <th>2</th>\n",
       "      <td>elected or electoral jhk</td>\n",
       "      <td>0.0</td>\n",
       "    </tr>\n",
       "    <tr>\n",
       "      <th>3</th>\n",
       "      <td>this is such a fun entry devotchka i once had ...</td>\n",
       "      <td>0.0</td>\n",
       "    </tr>\n",
       "    <tr>\n",
       "      <th>4</th>\n",
       "      <td>please relate the ozone hole to increases in c...</td>\n",
       "      <td>0.0</td>\n",
       "    </tr>\n",
       "  </tbody>\n",
       "</table>\n",
       "</div>"
      ],
      "text/plain": [
       "                                                text  target\n",
       "0  this one can make an analogy in mathematical t...     0.0\n",
       "1  clarification for you and zundark s right i sh...     0.0\n",
       "2                           elected or electoral jhk     0.0\n",
       "3  this is such a fun entry devotchka i once had ...     0.0\n",
       "4  please relate the ozone hole to increases in c...     0.0"
      ]
     },
     "execution_count": 42,
     "metadata": {},
     "output_type": "execute_result"
    }
   ],
   "source": [
    "df = pd.concat([dataset for dataset in data.values()], ignore_index=True).drop_duplicates().reset_index(drop=True)\n",
    "df.head()"
   ]
  },
  {
   "cell_type": "code",
   "execution_count": 43,
   "id": "2fa48ffd",
   "metadata": {},
   "outputs": [],
   "source": [
    "for name, file in files.items():\n",
    "    data[name].to_csv(f'../../cyberbullying/data/lem_{file}', index=False)\n",
    "df.to_csv(f'../../cyberbullying/data/lem_all_df.csv', index=False)"
   ]
  },
  {
   "cell_type": "code",
   "execution_count": null,
   "id": "cdc10875",
   "metadata": {},
   "outputs": [],
   "source": []
  },
  {
   "cell_type": "code",
   "execution_count": 44,
   "id": "e175c80e",
   "metadata": {},
   "outputs": [],
   "source": [
    "#df.to_csv('../../cyberbullying/data/all_data.csv', index=False)"
   ]
  },
  {
   "cell_type": "code",
   "execution_count": 45,
   "id": "21daf8c6",
   "metadata": {},
   "outputs": [],
   "source": [
    "#%%time\n",
    "#df_lem = clean_df(df, remove_punctuation=False, lower_text=False, remove_numbers=False, remove_stopwords=True, lemmatize=True)\n",
    "#df_lem.head()"
   ]
  },
  {
   "cell_type": "code",
   "execution_count": 46,
   "id": "57b90ce7",
   "metadata": {},
   "outputs": [],
   "source": [
    "#df_lem.shape"
   ]
  },
  {
   "cell_type": "code",
   "execution_count": 47,
   "id": "4c42def7",
   "metadata": {},
   "outputs": [],
   "source": [
    "#df_lem.to_csv('../../cyberbullying/data/all_data_lem.csv', index=False)"
   ]
  }
 ],
 "metadata": {
  "kernelspec": {
   "display_name": "Python 3 (ipykernel)",
   "language": "python",
   "name": "python3"
  },
  "language_info": {
   "codemirror_mode": {
    "name": "ipython",
    "version": 3
   },
   "file_extension": ".py",
   "mimetype": "text/x-python",
   "name": "python",
   "nbconvert_exporter": "python",
   "pygments_lexer": "ipython3",
   "version": "3.8.12"
  },
  "toc": {
   "base_numbering": 1,
   "nav_menu": {},
   "number_sections": true,
   "sideBar": true,
   "skip_h1_title": false,
   "title_cell": "Table of Contents",
   "title_sidebar": "Contents",
   "toc_cell": false,
   "toc_position": {},
   "toc_section_display": true,
   "toc_window_display": false
  }
 },
 "nbformat": 4,
 "nbformat_minor": 5
}
