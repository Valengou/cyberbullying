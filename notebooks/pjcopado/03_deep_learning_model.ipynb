{
 "cells": [
  {
   "cell_type": "markdown",
   "id": "794d2ecf",
   "metadata": {},
   "source": [
    "# Deep Learning"
   ]
  },
  {
   "cell_type": "code",
   "execution_count": 1,
   "id": "af27a36a",
   "metadata": {},
   "outputs": [],
   "source": [
    "%load_ext autoreload\n",
    "%autoreload 2"
   ]
  },
  {
   "cell_type": "code",
   "execution_count": 2,
   "id": "9829baa6",
   "metadata": {},
   "outputs": [],
   "source": [
    "import numpy as np\n",
    "import pandas as pd\n",
    "\n",
    "from gensim.models import Word2Vec\n",
    "\n",
    "from sklearn.model_selection import train_test_split\n",
    "\n",
    "from tensorflow.keras.preprocessing.text import text_to_word_sequence\n",
    "from tensorflow.keras.preprocessing.sequence import pad_sequences\n",
    "from tensorflow.keras import Sequential\n",
    "from tensorflow.keras.layers import SimpleRNN, LSTM, GRU, Dense, Masking\n",
    "from tensorflow.keras.metrics import Recall, Precision\n",
    "from tensorflow.keras.callbacks import EarlyStopping\n",
    "\n",
    "import joblib"
   ]
  },
  {
   "cell_type": "markdown",
   "id": "894ab2ad",
   "metadata": {},
   "source": [
    "Check si corre en Colab"
   ]
  },
  {
   "cell_type": "code",
   "execution_count": 3,
   "id": "afac6c9f",
   "metadata": {},
   "outputs": [],
   "source": [
    "try:\n",
    "    DRIVE = True\n",
    "    from google.colab import files\n",
    "except ModuleNotFoundError:\n",
    "    DRIVE = False"
   ]
  },
  {
   "cell_type": "code",
   "execution_count": 4,
   "id": "44ecba88",
   "metadata": {},
   "outputs": [],
   "source": [
    "if DRIVE:\n",
    "    #from google.colab import drive\n",
    "    #drive.mount('/content/drive')\n",
    "    #uploaded = files.upload()\n",
    "    #for fn in uploaded.keys():\n",
    "    #    print('User uploaded file \"{name}\" with length {length} bytes'.format(\n",
    "    #        name=fn, length=len(uploaded[fn])))\n",
    "    data = pd.read_csv('data.csv')\n",
    "else:\n",
    "    data = pd.read_csv('../../cyberbullying/data/all_df.csv')"
   ]
  },
  {
   "cell_type": "code",
   "execution_count": 5,
   "id": "e62c520c",
   "metadata": {},
   "outputs": [],
   "source": [
    "percentage_used = 1\n",
    "data = data.sample(frac=percentage_used, random_state=0)"
   ]
  },
  {
   "cell_type": "code",
   "execution_count": 6,
   "id": "ead30984",
   "metadata": {},
   "outputs": [
    {
     "data": {
      "text/html": [
       "<div>\n",
       "<style scoped>\n",
       "    .dataframe tbody tr th:only-of-type {\n",
       "        vertical-align: middle;\n",
       "    }\n",
       "\n",
       "    .dataframe tbody tr th {\n",
       "        vertical-align: top;\n",
       "    }\n",
       "\n",
       "    .dataframe thead th {\n",
       "        text-align: right;\n",
       "    }\n",
       "</style>\n",
       "<table border=\"1\" class=\"dataframe\">\n",
       "  <thead>\n",
       "    <tr style=\"text-align: right;\">\n",
       "      <th></th>\n",
       "      <th>text</th>\n",
       "      <th>target</th>\n",
       "    </tr>\n",
       "  </thead>\n",
       "  <tbody>\n",
       "    <tr>\n",
       "      <th>211466</th>\n",
       "      <td>gdc was great today thank you for letting me b...</td>\n",
       "      <td>0</td>\n",
       "    </tr>\n",
       "    <tr>\n",
       "      <th>133440</th>\n",
       "      <td>image requested in collin county texas of head...</td>\n",
       "      <td>0</td>\n",
       "    </tr>\n",
       "    <tr>\n",
       "      <th>117920</th>\n",
       "      <td>jump on the bandwagon plenty of room amazing h...</td>\n",
       "      <td>0</td>\n",
       "    </tr>\n",
       "    <tr>\n",
       "      <th>145633</th>\n",
       "      <td>mesling i ve raised the matter at wikipedia so...</td>\n",
       "      <td>0</td>\n",
       "    </tr>\n",
       "    <tr>\n",
       "      <th>190951</th>\n",
       "      <td>in fact my recent work here at pinky ring show...</td>\n",
       "      <td>0</td>\n",
       "    </tr>\n",
       "  </tbody>\n",
       "</table>\n",
       "</div>"
      ],
      "text/plain": [
       "                                                     text  target\n",
       "211466  gdc was great today thank you for letting me b...       0\n",
       "133440  image requested in collin county texas of head...       0\n",
       "117920  jump on the bandwagon plenty of room amazing h...       0\n",
       "145633  mesling i ve raised the matter at wikipedia so...       0\n",
       "190951  in fact my recent work here at pinky ring show...       0"
      ]
     },
     "execution_count": 6,
     "metadata": {},
     "output_type": "execute_result"
    }
   ],
   "source": [
    "data['text']=data['text'].astype(str)\n",
    "data.loc[:,'target'] = pd.to_numeric(data.loc[:,'target'], downcast='integer')\n",
    "\n",
    "data.head()"
   ]
  },
  {
   "cell_type": "code",
   "execution_count": 7,
   "id": "5203f427",
   "metadata": {},
   "outputs": [],
   "source": [
    "def load_data(percentage_of_sentences=None):\n",
    "    \n",
    "    X_train, X_test, y_train, y_test = train_test_split(data['text'],data['target'],test_size=0.3,random_state=0)\n",
    "    \n",
    "    # Take only a given percentage of the entire data\n",
    "    if percentage_of_sentences is not None:\n",
    "        assert(percentage_of_sentences> 0 and percentage_of_sentences<=100)\n",
    "        \n",
    "        len_train = int(percentage_of_sentences/100*len(X_train))\n",
    "        X_train, y_train = X_train[:len_train], y_train[:len_train]\n",
    "  \n",
    "        len_test = int(percentage_of_sentences/100*len(X_test))\n",
    "        X_test, y_test = X_test[:len_test], y_test[:len_test]\n",
    "    \n",
    "    #X_train = [text_to_word_sequence(_) for _ in X_train]\n",
    "    #X_test = [text_to_word_sequence(_) for _ in X_test]\n",
    "    \n",
    "    X_train = X_train.map(text_to_word_sequence)\n",
    "    X_test = X_test.map(text_to_word_sequence)\n",
    "    \n",
    "    return X_train, y_train, X_test, y_test\n",
    "\n",
    "X_train, y_train, X_test, y_test = load_data(percentage_of_sentences=100)"
   ]
  },
  {
   "cell_type": "markdown",
   "id": "b6b3ae89",
   "metadata": {},
   "source": [
    "### Balanceo el dataset"
   ]
  },
  {
   "cell_type": "code",
   "execution_count": 8,
   "id": "6b11a3fa",
   "metadata": {},
   "outputs": [],
   "source": [
    "def balance_df(X, y, ratio=0.3):\n",
    "    df = pd.DataFrame({'text': X, 'target': y})\n",
    "    df_class_0 = df[df['target'] == 0]\n",
    "    df_class_1 = df[df['target'] == 1]\n",
    "    df_class_1_len = df_class_1.shape[0]\n",
    "    \n",
    "    df_class_0_new = df_class_0.sample(int(df_class_1_len * (1-ratio)/ratio))\n",
    "    df_new = pd.concat([df_class_0_new, df_class_1]).sample(frac=1).reset_index(drop=True)\n",
    "    \n",
    "    X = df_new['text']\n",
    "    y = df_new['target']\n",
    "\n",
    "    return X, y\n",
    "\n",
    "X_train, y_train = balance_df(X_train,y_train)"
   ]
  },
  {
   "cell_type": "code",
   "execution_count": 9,
   "id": "78a096ea",
   "metadata": {},
   "outputs": [],
   "source": [
    "# Size of your embedding space = size to represent each word\n",
    "embedding_size = 32"
   ]
  },
  {
   "cell_type": "code",
   "execution_count": 10,
   "id": "b62bb0b5",
   "metadata": {},
   "outputs": [],
   "source": [
    "if DRIVE:\n",
    "    word2vec = Word2Vec(sentences=X_train, size=embedding_size, window=5, min_count=5) # colab\n",
    "else:\n",
    "    word2vec = Word2Vec(sentences=X_train, vector_size=embedding_size, window=5, min_count=5) # jupyter"
   ]
  },
  {
   "cell_type": "code",
   "execution_count": 11,
   "id": "15dc56cf",
   "metadata": {},
   "outputs": [
    {
     "data": {
      "text/plain": [
       "[('cunt', 0.9658656120300293),\n",
       " ('fat', 0.9505540132522583),\n",
       " ('twat', 0.9450672268867493),\n",
       " ('faggot', 0.9417385458946228),\n",
       " ('retard', 0.940604031085968),\n",
       " ('prick', 0.9397361278533936),\n",
       " ('nigger', 0.9244213104248047),\n",
       " ('bitch', 0.9224582314491272),\n",
       " ('ignorant', 0.9161723852157593),\n",
       " ('dick', 0.9155343174934387)]"
      ]
     },
     "execution_count": 11,
     "metadata": {},
     "output_type": "execute_result"
    }
   ],
   "source": [
    "comm_1 = word2vec.wv.most_similar('asshole')\n",
    "comm_1"
   ]
  },
  {
   "cell_type": "code",
   "execution_count": 12,
   "id": "4a8c7a09",
   "metadata": {},
   "outputs": [
    {
     "data": {
      "text/plain": [
       "8595"
      ]
     },
     "execution_count": 12,
     "metadata": {},
     "output_type": "execute_result"
    }
   ],
   "source": [
    "if DRIVE:\n",
    "    vocab_size = len(word2vec.wv.vocab.keys()) # colab\n",
    "else:\n",
    "    vocab_size = len(word2vec.wv.key_to_index) # jupyter\n",
    "vocab_size"
   ]
  },
  {
   "cell_type": "code",
   "execution_count": 13,
   "id": "e447c9c9",
   "metadata": {},
   "outputs": [],
   "source": [
    "# Function to convert a sentence (list of words) into a matrix representing the words in the embedding space\n",
    "def embed_sentence(word2vec, sentence):\n",
    "    embedded_sentence = []\n",
    "    for word in sentence:\n",
    "        if word in word2vec.wv:\n",
    "            embedded_sentence.append(word2vec.wv[word])\n",
    "        \n",
    "    return np.array(embedded_sentence)\n",
    "\n",
    "# Function that converts a list of sentences into a list of matrices\n",
    "def embedding(word2vec, sentences):\n",
    "    embed = []\n",
    "    \n",
    "    for sentence in sentences:\n",
    "        embedded_sentence = embed_sentence(word2vec, sentence)\n",
    "        embed.append(embedded_sentence)\n",
    "        \n",
    "    return embed\n",
    "\n",
    "# Embed the training and test sentences\n",
    "X_train_embed = embedding(word2vec, X_train)\n",
    "X_test_embed = embedding(word2vec, X_test)"
   ]
  },
  {
   "cell_type": "code",
   "execution_count": 14,
   "id": "a1086486",
   "metadata": {
    "scrolled": true
   },
   "outputs": [
    {
     "data": {
      "image/png": "[encoded data removed]",
      "text/plain": [
       "<Figure size 864x288 with 2 Axes>"
      ]
     },
     "metadata": {
      "needs_background": "light"
     },
     "output_type": "display_data"
    }
   ],
   "source": [
    "import matplotlib.pyplot as plt\n",
    "\n",
    "def plot_hist(X):\n",
    "    fig, (ax1, ax2) = plt.subplots(1, 2, figsize=(12,4))\n",
    "    len_ = [len(_) for _ in X]\n",
    "    ax1.hist(len_)\n",
    "    ax1.set_title('All length')\n",
    "    \n",
    "    len_2 = [len(_) for _ in X if len(_) < 300]\n",
    "    ax2.hist(len_2)\n",
    "    ax2.set_title('Only length < 300')\n",
    "    \n",
    "    plt.suptitle('Histogram of the number of sentences that have a given number of words')\n",
    "    plt.tight_layout(pad=1)\n",
    "    plt.show()\n",
    "    \n",
    "plot_hist(X_train_embed)"
   ]
  },
  {
   "cell_type": "code",
   "execution_count": 15,
   "id": "cf560ba8",
   "metadata": {},
   "outputs": [],
   "source": [
    "# Pad the training and test embedded sentences\n",
    "maxlen = 100\n",
    "X_train_pad = pad_sequences(X_train_embed, dtype='float32', padding='post', maxlen=maxlen)\n",
    "X_test_pad = pad_sequences(X_test_embed, dtype='float32', padding='post', maxlen=maxlen)"
   ]
  },
  {
   "cell_type": "code",
   "execution_count": 16,
   "id": "7e7cfab3",
   "metadata": {},
   "outputs": [
    {
     "data": {
      "text/plain": [
       "(12510, 100, 32)"
      ]
     },
     "execution_count": 16,
     "metadata": {},
     "output_type": "execute_result"
    }
   ],
   "source": [
    "X_train_pad.shape"
   ]
  },
  {
   "cell_type": "code",
   "execution_count": 17,
   "id": "8cd7ea01",
   "metadata": {},
   "outputs": [
    {
     "data": {
      "text/plain": [
       "(13646, 100, 32)"
      ]
     },
     "execution_count": 17,
     "metadata": {},
     "output_type": "execute_result"
    }
   ],
   "source": [
    "X_test_pad.shape"
   ]
  },
  {
   "cell_type": "code",
   "execution_count": 18,
   "id": "90f542f0",
   "metadata": {},
   "outputs": [],
   "source": [
    "# TEST ME\n",
    "for X in [X_train_pad, X_test_pad]:\n",
    "    assert type(X) == np.ndarray\n",
    "    assert X.shape[-1] == word2vec.wv.vector_size\n",
    "\n",
    "\n",
    "assert X_train_pad.shape[0] == len(X_train)\n",
    "assert X_test_pad.shape[0] == len(X_test)"
   ]
  },
  {
   "cell_type": "code",
   "execution_count": 19,
   "id": "d9a1fe76",
   "metadata": {},
   "outputs": [],
   "source": [
    "input_shape = (maxlen,embedding_size)"
   ]
  },
  {
   "cell_type": "markdown",
   "id": "0589b66c",
   "metadata": {},
   "source": [
    "# Deep Learning Models "
   ]
  },
  {
   "cell_type": "code",
   "execution_count": 20,
   "id": "4e7aebec",
   "metadata": {},
   "outputs": [],
   "source": [
    "es = EarlyStopping(patience=5, restore_best_weights=True)"
   ]
  },
  {
   "cell_type": "code",
   "execution_count": 21,
   "id": "057c6e4c",
   "metadata": {},
   "outputs": [],
   "source": [
    "def print_metrics(result):\n",
    "    for metric, value in zip(['Loss', 'Accuracy', 'Recall', 'Precision'], result):\n",
    "        print(f'{metric}: {value:.2f}')"
   ]
  },
  {
   "cell_type": "markdown",
   "id": "d965957c",
   "metadata": {},
   "source": [
    "## SimpleRNN Model"
   ]
  },
  {
   "cell_type": "raw",
   "id": "c011ce52",
   "metadata": {},
   "source": [
    "def init_model_rnn():\n",
    "\n",
    "    model = Sequential()\n",
    "    \n",
    "    model.add(Masking(mask_value=0, input_shape=input_shape))\n",
    "    \n",
    "    model.add(SimpleRNN(20, activation='tanh'))\n",
    "    \n",
    "    model.add(Dense(10, activation='relu'))\n",
    "    \n",
    "    model.add(Dense(1, activation='sigmoid'))\n",
    "    \n",
    "    model.compile(loss='binary_crossentropy',\n",
    "                  optimizer='rmsprop',\n",
    "                  metrics=Recall())\n",
    "    \n",
    "    model.summary()\n",
    "    \n",
    "    return model\n",
    "\n",
    "model_rnn = init_model_rnn()"
   ]
  },
  {
   "cell_type": "raw",
   "id": "0d2c3fdb",
   "metadata": {},
   "source": [
    "%%time\n",
    "history_rnn = model_rnn.fit(X_train_pad, y_train, validation_split=0.3, callbacks=es, verbose=1, batch_size=128, epochs=100)"
   ]
  },
  {
   "cell_type": "raw",
   "id": "71595fbf",
   "metadata": {},
   "source": [
    "res_rnn = model_rnn.evaluate(X_test_pad, y_test, verbose=0)\n",
    "\n",
    "print(f'The recall evaluated on the test set is of {res_rnn[1]*100:.1f}%')"
   ]
  },
  {
   "cell_type": "markdown",
   "id": "68435939",
   "metadata": {},
   "source": [
    "## LSTM Model"
   ]
  },
  {
   "cell_type": "raw",
   "id": "d68680ce",
   "metadata": {},
   "source": [
    "def init_model_lstm():\n",
    "\n",
    "    model = Sequential()\n",
    "    \n",
    "    model.add(Masking(mask_value=0, input_shape=input_shape))\n",
    "    \n",
    "    model.add(LSTM(20, activation='tanh'))\n",
    "    \n",
    "    model.add(Dense(10, activation='relu'))\n",
    "    \n",
    "    model.add(Dense(1, activation='sigmoid'))\n",
    "    \n",
    "    model.compile(loss='binary_crossentropy',\n",
    "                  optimizer='rmsprop',\n",
    "                  metrics=Recall())\n",
    "    \n",
    "    model.summary()\n",
    "    \n",
    "    return model\n",
    "\n",
    "model_lstm = init_model_lstm()"
   ]
  },
  {
   "cell_type": "raw",
   "id": "ebd541ef",
   "metadata": {},
   "source": [
    "%%time\n",
    "history_lstm = model_lstm.fit(X_train_pad, y_train, validation_split=0.3, callbacks=es, verbose=1, batch_size=128, epochs=100)"
   ]
  },
  {
   "cell_type": "raw",
   "id": "f33c6cf7",
   "metadata": {},
   "source": [
    "res_lstm = model_lstm.evaluate(X_test_pad, y_test, verbose=0)\n",
    "\n",
    "print(f'The recall evaluated on the test set is of {res_lstm[1]*100:.1f}%')"
   ]
  },
  {
   "cell_type": "markdown",
   "id": "7352f756",
   "metadata": {},
   "source": [
    "## GRU Model"
   ]
  },
  {
   "cell_type": "raw",
   "id": "73fc7541",
   "metadata": {},
   "source": [
    "def init_model_gru():\n",
    "\n",
    "    model = Sequential()\n",
    "    \n",
    "    model.add(Masking(mask_value=0, input_shape=input_shape))\n",
    "    \n",
    "    model.add(LSTM(20, activation='tanh'))\n",
    "    \n",
    "    model.add(Dense(10, activation='relu'))\n",
    "    \n",
    "    model.add(Dense(1, activation='sigmoid'))\n",
    "    \n",
    "    model.compile(loss='binary_crossentropy',\n",
    "                  optimizer='rmsprop',\n",
    "                  metrics=Recall())\n",
    "    \n",
    "    model.summary()\n",
    "    \n",
    "    return model\n",
    "\n",
    "model_gru = init_model_gru()"
   ]
  },
  {
   "cell_type": "raw",
   "id": "79f6c802",
   "metadata": {},
   "source": [
    "%%time\n",
    "history_gru = model_gru.fit(X_train_pad, y_train, validation_split=0.3, callbacks=es, verbose=1, batch_size=128, epochs=100)"
   ]
  },
  {
   "cell_type": "raw",
   "id": "475491b2",
   "metadata": {},
   "source": [
    "res_gru = model_gru.evaluate(X_test_pad, y_test, verbose=0)\n",
    "\n",
    "print(f'The recall evaluated on the test set is of {res_gru[1]*100:.1f}%')"
   ]
  },
  {
   "cell_type": "markdown",
   "id": "8318317f",
   "metadata": {},
   "source": [
    "Best base model: GRU"
   ]
  },
  {
   "cell_type": "markdown",
   "id": "48de38d5",
   "metadata": {},
   "source": [
    "## Tunning GRU Model"
   ]
  },
  {
   "cell_type": "markdown",
   "id": "8707731c",
   "metadata": {},
   "source": [
    "### "
   ]
  },
  {
   "cell_type": "raw",
   "id": "0a692787",
   "metadata": {},
   "source": [
    "def init_model_gru_2():\n",
    "\n",
    "    model = Sequential()\n",
    "    \n",
    "    model.add(Masking(mask_value=0, input_shape=input_shape))\n",
    "    \n",
    "    model.add(LSTM(32, activation='tanh'))\n",
    "    \n",
    "    model.add(Dense(10, activation='relu'))\n",
    "    \n",
    "    model.add(Dense(1, activation='sigmoid'))\n",
    "    \n",
    "    model.compile(loss='binary_crossentropy',\n",
    "                  optimizer='rmsprop',\n",
    "                  metrics=Recall())\n",
    "    \n",
    "    model.summary()\n",
    "    \n",
    "    return model\n",
    "\n",
    "model_gru_2 = init_model_gru_2()"
   ]
  },
  {
   "cell_type": "raw",
   "id": "96ed247d",
   "metadata": {},
   "source": [
    "%%time\n",
    "history_gru_2 = model_gru_2.fit(X_train_pad, y_train, validation_split=0.3, callbacks=es, verbose=1, batch_size=128, epochs=100)"
   ]
  },
  {
   "cell_type": "raw",
   "id": "7621e950",
   "metadata": {},
   "source": [
    "res_gru_2 = model_gru_2.evaluate(X_test_pad, y_test, verbose=0)\n",
    "\n",
    "print(f'The recall evaluated on the test set is of {res_gru_2[1]*100:.1f}%')"
   ]
  },
  {
   "cell_type": "code",
   "execution_count": 22,
   "id": "a9131d93",
   "metadata": {},
   "outputs": [
    {
     "name": "stderr",
     "output_type": "stream",
     "text": [
      "2022-03-12 19:27:15.455769: I tensorflow/stream_executor/cuda/cuda_gpu_executor.cc:925] could not open file to read NUMA node: /sys/bus/pci/devices/0000:01:00.0/numa_node\n",
      "Your kernel may have been built without NUMA support.\n",
      "2022-03-12 19:27:15.468339: W tensorflow/stream_executor/platform/default/dso_loader.cc:64] Could not load dynamic library 'libcusolver.so.11'; dlerror: libcusolver.so.11: cannot open shared object file: No such file or directory\n",
      "2022-03-12 19:27:15.471128: W tensorflow/core/common_runtime/gpu/gpu_device.cc:1850] Cannot dlopen some GPU libraries. Please make sure the missing libraries mentioned above are installed properly if you would like to use GPU. Follow the guide at https://www.tensorflow.org/install/gpu for how to download and setup the required libraries for your platform.\n",
      "Skipping registering GPU devices...\n",
      "2022-03-12 19:27:15.472192: I tensorflow/core/platform/cpu_feature_guard.cc:151] This TensorFlow binary is optimized with oneAPI Deep Neural Network Library (oneDNN) to use the following CPU instructions in performance-critical operations:  AVX2 FMA\n",
      "To enable them in other operations, rebuild TensorFlow with the appropriate compiler flags.\n"
     ]
    },
    {
     "name": "stdout",
     "output_type": "stream",
     "text": [
      "Model: \"sequential\"\n",
      "_________________________________________________________________\n",
      " Layer (type)                Output Shape              Param #   \n",
      "=================================================================\n",
      " masking (Masking)           (None, 100, 32)           0         \n",
      "                                                                 \n",
      " lstm (LSTM)                 (None, 16)                3136      \n",
      "                                                                 \n",
      " dense (Dense)               (None, 10)                170       \n",
      "                                                                 \n",
      " dense_1 (Dense)             (None, 1)                 11        \n",
      "                                                                 \n",
      "=================================================================\n",
      "Total params: 3,317\n",
      "Trainable params: 3,317\n",
      "Non-trainable params: 0\n",
      "_________________________________________________________________\n"
     ]
    }
   ],
   "source": [
    "def init_model_gru_3():\n",
    "\n",
    "    model = Sequential()\n",
    "    \n",
    "    model.add(Masking(mask_value=0, input_shape=input_shape))\n",
    "    \n",
    "    model.add(LSTM(16, activation='tanh'))\n",
    "    \n",
    "    model.add(Dense(10, activation='relu'))\n",
    "    \n",
    "    model.add(Dense(1, activation='sigmoid'))\n",
    "    \n",
    "    model.compile(loss='binary_crossentropy',\n",
    "                  optimizer='rmsprop',\n",
    "                  metrics=['accuracy', Recall(), Precision()])\n",
    "    \n",
    "    model.summary()\n",
    "    \n",
    "    return model\n",
    "\n",
    "model_gru_3 = init_model_gru_3()"
   ]
  },
  {
   "cell_type": "code",
   "execution_count": 23,
   "id": "7c1e394b",
   "metadata": {},
   "outputs": [
    {
     "name": "stdout",
     "output_type": "stream",
     "text": [
      "Epoch 1/100\n",
      "137/137 [==============================] - 23s 131ms/step - loss: 0.5125 - accuracy: 0.7624 - recall: 0.4742 - precision: 0.6427 - val_loss: 0.4376 - val_accuracy: 0.7922 - val_recall: 0.5882 - val_precision: 0.6725\n",
      "Epoch 2/100\n",
      "137/137 [==============================] - 16s 114ms/step - loss: 0.4213 - accuracy: 0.8051 - recall: 0.6457 - precision: 0.6877 - val_loss: 0.4138 - val_accuracy: 0.8058 - val_recall: 0.6885 - val_precision: 0.6687\n",
      "Epoch 3/100\n",
      "137/137 [==============================] - 15s 109ms/step - loss: 0.3998 - accuracy: 0.8156 - recall: 0.6597 - precision: 0.7078 - val_loss: 0.3943 - val_accuracy: 0.8137 - val_recall: 0.6267 - val_precision: 0.7128\n",
      "Epoch 4/100\n",
      "137/137 [==============================] - 15s 107ms/step - loss: 0.3855 - accuracy: 0.8206 - recall: 0.6631 - precision: 0.7190 - val_loss: 0.3888 - val_accuracy: 0.8193 - val_recall: 0.6141 - val_precision: 0.7353\n",
      "Epoch 5/100\n",
      "137/137 [==============================] - 15s 112ms/step - loss: 0.3744 - accuracy: 0.8281 - recall: 0.6764 - precision: 0.7322 - val_loss: 0.3784 - val_accuracy: 0.8241 - val_recall: 0.6356 - val_precision: 0.7373\n",
      "Epoch 6/100\n",
      "137/137 [==============================] - 15s 112ms/step - loss: 0.3663 - accuracy: 0.8358 - recall: 0.6927 - precision: 0.7441 - val_loss: 0.3739 - val_accuracy: 0.8260 - val_recall: 0.6526 - val_precision: 0.7334\n",
      "Epoch 7/100\n",
      "137/137 [==============================] - 15s 112ms/step - loss: 0.3596 - accuracy: 0.8392 - recall: 0.6988 - precision: 0.7500 - val_loss: 0.3716 - val_accuracy: 0.8271 - val_recall: 0.6938 - val_precision: 0.7163\n",
      "Epoch 8/100\n",
      "137/137 [==============================] - 15s 112ms/step - loss: 0.3533 - accuracy: 0.8407 - recall: 0.7003 - precision: 0.7532 - val_loss: 0.3692 - val_accuracy: 0.8273 - val_recall: 0.7207 - val_precision: 0.7055\n",
      "Epoch 9/100\n",
      "137/137 [==============================] - 15s 107ms/step - loss: 0.3483 - accuracy: 0.8449 - recall: 0.7208 - precision: 0.7534 - val_loss: 0.3684 - val_accuracy: 0.8295 - val_recall: 0.6428 - val_precision: 0.7487\n",
      "Epoch 10/100\n",
      "137/137 [==============================] - 15s 108ms/step - loss: 0.3443 - accuracy: 0.8471 - recall: 0.7227 - precision: 0.7581 - val_loss: 0.3681 - val_accuracy: 0.8305 - val_recall: 0.6374 - val_precision: 0.7550\n",
      "Epoch 11/100\n",
      "137/137 [==============================] - 15s 112ms/step - loss: 0.3397 - accuracy: 0.8512 - recall: 0.7288 - precision: 0.7656 - val_loss: 0.3647 - val_accuracy: 0.8319 - val_recall: 0.6759 - val_precision: 0.7373\n",
      "Epoch 12/100\n",
      "137/137 [==============================] - 17s 126ms/step - loss: 0.3349 - accuracy: 0.8512 - recall: 0.7272 - precision: 0.7665 - val_loss: 0.3677 - val_accuracy: 0.8335 - val_recall: 0.6625 - val_precision: 0.7490\n",
      "Epoch 13/100\n",
      "137/137 [==============================] - 17s 124ms/step - loss: 0.3314 - accuracy: 0.8547 - recall: 0.7363 - precision: 0.7708 - val_loss: 0.3690 - val_accuracy: 0.8361 - val_recall: 0.6625 - val_precision: 0.7566\n",
      "Epoch 14/100\n",
      "137/137 [==============================] - 16s 119ms/step - loss: 0.3286 - accuracy: 0.8561 - recall: 0.7394 - precision: 0.7728 - val_loss: 0.3636 - val_accuracy: 0.8356 - val_recall: 0.7440 - val_precision: 0.7151\n",
      "Epoch 15/100\n",
      "137/137 [==============================] - 16s 119ms/step - loss: 0.3251 - accuracy: 0.8577 - recall: 0.7405 - precision: 0.7765 - val_loss: 0.3607 - val_accuracy: 0.8337 - val_recall: 0.6795 - val_precision: 0.7405\n",
      "Epoch 16/100\n",
      "137/137 [==============================] - 16s 117ms/step - loss: 0.3226 - accuracy: 0.8587 - recall: 0.7443 - precision: 0.7770 - val_loss: 0.3629 - val_accuracy: 0.8343 - val_recall: 0.7341 - val_precision: 0.7162\n",
      "Epoch 17/100\n",
      "137/137 [==============================] - 15s 109ms/step - loss: 0.3196 - accuracy: 0.8609 - recall: 0.7542 - precision: 0.7772 - val_loss: 0.3617 - val_accuracy: 0.8353 - val_recall: 0.6562 - val_precision: 0.7580\n",
      "Epoch 18/100\n",
      "137/137 [==============================] - 16s 114ms/step - loss: 0.3155 - accuracy: 0.8623 - recall: 0.7519 - precision: 0.7822 - val_loss: 0.3626 - val_accuracy: 0.8367 - val_recall: 0.6965 - val_precision: 0.7395\n",
      "Epoch 19/100\n",
      "137/137 [==============================] - 16s 115ms/step - loss: 0.3148 - accuracy: 0.8634 - recall: 0.7527 - precision: 0.7848 - val_loss: 0.3723 - val_accuracy: 0.8324 - val_recall: 0.6115 - val_precision: 0.7779\n",
      "Epoch 20/100\n",
      "137/137 [==============================] - 16s 116ms/step - loss: 0.3115 - accuracy: 0.8663 - recall: 0.7580 - precision: 0.7894 - val_loss: 0.3641 - val_accuracy: 0.8367 - val_recall: 0.7413 - val_precision: 0.7188\n",
      "CPU times: user 18min 1s, sys: 10min 23s, total: 28min 25s\n",
      "Wall time: 5min 19s\n"
     ]
    }
   ],
   "source": [
    "%%time\n",
    "history_gru_3 = model_gru_3.fit(X_train_pad, y_train, validation_split=0.3, callbacks=es, verbose=1, batch_size=32, epochs=100)"
   ]
  },
  {
   "cell_type": "code",
   "execution_count": 24,
   "id": "da92c889",
   "metadata": {},
   "outputs": [
    {
     "name": "stdout",
     "output_type": "stream",
     "text": [
      "427/427 [==============================] - 8s 19ms/step - loss: 0.2843 - accuracy: 0.8676 - recall: 0.6897 - precision: 0.4732\n",
      "Loss: 0.28\n",
      "Accuracy: 0.87\n",
      "Recall: 0.69\n",
      "Precision: 0.47\n"
     ]
    }
   ],
   "source": [
    "res_gru_3 = model_gru_3.evaluate(X_test_pad, y_test, verbose=1)\n",
    "print_metrics(res_gru_3)"
   ]
  },
  {
   "cell_type": "code",
   "execution_count": 25,
   "id": "b08df4c6",
   "metadata": {},
   "outputs": [
    {
     "name": "stdout",
     "output_type": "stream",
     "text": [
      "Loss: 0.28\n",
      "Accuracy: 0.87\n",
      "Recall: 0.69\n",
      "Precision: 0.47\n"
     ]
    }
   ],
   "source": [
    "print_metrics(res_gru_3)"
   ]
  },
  {
   "cell_type": "code",
   "execution_count": 26,
   "id": "6d4d0244",
   "metadata": {},
   "outputs": [
    {
     "name": "stderr",
     "output_type": "stream",
     "text": [
      "2022-03-12 19:32:47.243270: W tensorflow/python/util/util.cc:368] Sets are not currently considered sequences, but this may change in the future, so consider avoiding using them.\n",
      "WARNING:absl:Found untraced functions such as lstm_cell_layer_call_fn, lstm_cell_layer_call_and_return_conditional_losses, lstm_cell_layer_call_fn, lstm_cell_layer_call_and_return_conditional_losses, lstm_cell_layer_call_and_return_conditional_losses while saving (showing 5 of 5). These functions will not be directly callable after loading.\n"
     ]
    },
    {
     "name": "stdout",
     "output_type": "stream",
     "text": [
      "INFO:tensorflow:Assets written to: ram://c6bb21da-1b50-4900-952e-4f3a8726f364/assets\n"
     ]
    },
    {
     "name": "stderr",
     "output_type": "stream",
     "text": [
      "INFO:tensorflow:Assets written to: ram://c6bb21da-1b50-4900-952e-4f3a8726f364/assets\n",
      "WARNING:absl:<keras.layers.recurrent.LSTMCell object at 0x7f5b6005aa30> has the same name 'LSTMCell' as a built-in Keras object. Consider renaming <class 'keras.layers.recurrent.LSTMCell'> to avoid naming conflicts when loading with `tf.keras.models.load_model`. If renaming is not possible, pass the object in the `custom_objects` parameter of the load function.\n"
     ]
    },
    {
     "data": {
      "text/plain": [
       "['model_gru_3.joblib']"
      ]
     },
     "execution_count": 26,
     "metadata": {},
     "output_type": "execute_result"
    }
   ],
   "source": [
    "joblib.dump(model_gru_3, 'model_gru_3.joblib')"
   ]
  },
  {
   "cell_type": "code",
   "execution_count": null,
   "id": "4959a249",
   "metadata": {},
   "outputs": [],
   "source": []
  }
 ],
 "metadata": {
  "kernelspec": {
   "display_name": "Python 3 (ipykernel)",
   "language": "python",
   "name": "python3"
  },
  "language_info": {
   "codemirror_mode": {
    "name": "ipython",
    "version": 3
   },
   "file_extension": ".py",
   "mimetype": "text/x-python",
   "name": "python",
   "nbconvert_exporter": "python",
   "pygments_lexer": "ipython3",
   "version": "3.8.12"
  },
  "toc": {
   "base_numbering": 1,
   "nav_menu": {},
   "number_sections": true,
   "sideBar": true,
   "skip_h1_title": false,
   "title_cell": "Table of Contents",
   "title_sidebar": "Contents",
   "toc_cell": false,
   "toc_position": {},
   "toc_section_display": true,
   "toc_window_display": false
  }
 },
 "nbformat": 4,
 "nbformat_minor": 5
}
