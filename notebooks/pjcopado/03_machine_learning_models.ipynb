{
 "cells": [
  {
   "cell_type": "code",
   "execution_count": 1,
   "id": "30be99ca",
   "metadata": {},
   "outputs": [],
   "source": [
    "%load_ext autoreload\n",
    "%autoreload 2"
   ]
  },
  {
   "cell_type": "code",
   "execution_count": 2,
   "id": "53f4c896",
   "metadata": {},
   "outputs": [],
   "source": [
    "import numpy as np\n",
    "import pandas as pd\n",
    "import matplotlib.pyplot as plt\n",
    "import seaborn as sns\n",
    "\n",
    "from time import time\n",
    "\n",
    "from sklearn.model_selection import train_test_split, GridSearchCV\n",
    "from sklearn.feature_extraction.text import CountVectorizer, TfidfVectorizer\n",
    "from sklearn.metrics import f1_score, accuracy_score, precision_score, recall_score, make_scorer\n",
    "\n",
    "from sklearn.svm import LinearSVC\n",
    "from sklearn.linear_model import SGDClassifier\n",
    "\n",
    "from sklearn.naive_bayes import MultinomialNB\n",
    "from sklearn.tree import DecisionTreeClassifier\n",
    "from sklearn.svm import LinearSVC\n",
    "from sklearn.ensemble import AdaBoostClassifier, RandomForestClassifier, BaggingClassifier\n",
    "from sklearn.linear_model import LogisticRegression, SGDClassifier\n",
    "from sklearn.neighbors import KNeighborsClassifier\n",
    "\n",
    "\n",
    "from sklearn.model_selection import cross_validate"
   ]
  },
  {
   "cell_type": "markdown",
   "id": "69f8f077",
   "metadata": {},
   "source": [
    "# Importamos el dataset limpio y lematizado"
   ]
  },
  {
   "cell_type": "code",
   "execution_count": 3,
   "id": "f3df91ad",
   "metadata": {},
   "outputs": [
    {
     "data": {
      "text/html": [
       "<div>\n",
       "<style scoped>\n",
       "    .dataframe tbody tr th:only-of-type {\n",
       "        vertical-align: middle;\n",
       "    }\n",
       "\n",
       "    .dataframe tbody tr th {\n",
       "        vertical-align: top;\n",
       "    }\n",
       "\n",
       "    .dataframe thead th {\n",
       "        text-align: right;\n",
       "    }\n",
       "</style>\n",
       "<table border=\"1\" class=\"dataframe\">\n",
       "  <thead>\n",
       "    <tr style=\"text-align: right;\">\n",
       "      <th></th>\n",
       "      <th>text</th>\n",
       "      <th>target</th>\n",
       "    </tr>\n",
       "  </thead>\n",
       "  <tbody>\n",
       "    <tr>\n",
       "      <th>0</th>\n",
       "      <td>this one can make an analogy in mathematical t...</td>\n",
       "      <td>0.0</td>\n",
       "    </tr>\n",
       "    <tr>\n",
       "      <th>1</th>\n",
       "      <td>clarification for you and zundark s right i sh...</td>\n",
       "      <td>0.0</td>\n",
       "    </tr>\n",
       "    <tr>\n",
       "      <th>2</th>\n",
       "      <td>elected or electoral jhk</td>\n",
       "      <td>0.0</td>\n",
       "    </tr>\n",
       "    <tr>\n",
       "      <th>3</th>\n",
       "      <td>this is such a fun entry devotchka i once had ...</td>\n",
       "      <td>0.0</td>\n",
       "    </tr>\n",
       "    <tr>\n",
       "      <th>4</th>\n",
       "      <td>please relate the ozone hole to increases in c...</td>\n",
       "      <td>0.0</td>\n",
       "    </tr>\n",
       "  </tbody>\n",
       "</table>\n",
       "</div>"
      ],
      "text/plain": [
       "                                                text  target\n",
       "0  this one can make an analogy in mathematical t...     0.0\n",
       "1  clarification for you and zundark s right i sh...     0.0\n",
       "2                           elected or electoral jhk     0.0\n",
       "3  this is such a fun entry devotchka i once had ...     0.0\n",
       "4  please relate the ozone hole to increases in c...     0.0"
      ]
     },
     "execution_count": 3,
     "metadata": {},
     "output_type": "execute_result"
    }
   ],
   "source": [
    "df_lem = pd.read_csv('../../cyberbullying/data/lem_all_df.csv')\n",
    "df_lem.head()"
   ]
  },
  {
   "cell_type": "code",
   "execution_count": 4,
   "id": "7cde0bdd",
   "metadata": {},
   "outputs": [
    {
     "data": {
      "text/plain": [
       "(227423, 2)"
      ]
     },
     "execution_count": 4,
     "metadata": {},
     "output_type": "execute_result"
    }
   ],
   "source": [
    "df_lem.shape"
   ]
  },
  {
   "cell_type": "markdown",
   "id": "222d7fe3",
   "metadata": {},
   "source": [
    "## Distribución del dataset"
   ]
  },
  {
   "cell_type": "code",
   "execution_count": 5,
   "id": "dc865f8b",
   "metadata": {},
   "outputs": [],
   "source": [
    "def plot_dist(df):\n",
    "    plt.figure(figsize = (7,7))\n",
    "    sorted_counts = df['target'].value_counts()\n",
    "    plt.pie(sorted_counts, labels = ['not bullying', 'bullying'], startangle = 90, counterclock = False,\n",
    "            wedgeprops = {'width' : 0.6}, autopct='%1.1f%%', pctdistance = 0.7,\n",
    "            textprops = {'color': 'black', 'fontsize' : 15}, shadow = True,\n",
    "            colors = sns.color_palette(\"Paired\")[7:])\n",
    "    plt.text(x = -0.35, y = 0, s = f'Total comments: {df.shape[0]}')\n",
    "    plt.title('Distribution of Comments in the Dataset', fontsize = 16);"
   ]
  },
  {
   "cell_type": "markdown",
   "id": "3d40b079",
   "metadata": {},
   "source": [
    "Tomamos una muestra del dataset para investigar"
   ]
  },
  {
   "cell_type": "code",
   "execution_count": 6,
   "id": "71b33c39",
   "metadata": {},
   "outputs": [],
   "source": [
    "percentage_used = 0.2\n",
    "df_sample = df_lem.sample(frac=percentage_used, random_state=0)"
   ]
  },
  {
   "cell_type": "code",
   "execution_count": 7,
   "id": "327f0919",
   "metadata": {},
   "outputs": [
    {
     "data": {
      "image/png": "[encoded data removed]",
      "text/plain": [
       "<Figure size 504x504 with 1 Axes>"
      ]
     },
     "metadata": {},
     "output_type": "display_data"
    }
   ],
   "source": [
    "plot_dist(df_sample)"
   ]
  },
  {
   "cell_type": "markdown",
   "id": "17b04fa2",
   "metadata": {},
   "source": [
    "# Holdout"
   ]
  },
  {
   "cell_type": "code",
   "execution_count": 8,
   "id": "9f707f17",
   "metadata": {},
   "outputs": [],
   "source": [
    "X_train, X_test, y_train, y_test = train_test_split(df_sample['text'], df_sample['target'], test_size=0.3, random_state=0)"
   ]
  },
  {
   "cell_type": "code",
   "execution_count": 9,
   "id": "d155e924",
   "metadata": {},
   "outputs": [],
   "source": [
    "X_train = pd.DataFrame(data=X_train, columns=['text'])\n",
    "X_test = pd.DataFrame(data=X_test, columns=['text'])"
   ]
  },
  {
   "cell_type": "markdown",
   "id": "c448ac6d",
   "metadata": {},
   "source": [
    "## Balanceamos el dataset (paso descartado)"
   ]
  },
  {
   "cell_type": "code",
   "execution_count": 10,
   "id": "ace26c27",
   "metadata": {},
   "outputs": [],
   "source": [
    "def balance_df(X, y, ratio=0.3):\n",
    "    df = pd.DataFrame({'text': X, 'target': y})\n",
    "    df_class_0 = df[df['target'] == 0]\n",
    "    df_class_1 = df[df['target'] == 1]\n",
    "    df_class_1_len = df_class_1.shape[0]\n",
    "    \n",
    "    df_class_0_new = df_class_0.sample(int(df_class_1_len * (1-ratio)/ratio))\n",
    "    df_new = pd.concat([df_class_0_new, df_class_1]).sample(frac=1).reset_index(drop=True)\n",
    "    \n",
    "    X = df_new['text']\n",
    "    y = df_new['target']\n",
    "\n",
    "    return X, y\n",
    "\n",
    "#X_train, y_train = balance_df(X_train, y_train, ratio=0.1)\n",
    "# no lo usamos"
   ]
  },
  {
   "cell_type": "markdown",
   "id": "7bd4378c",
   "metadata": {},
   "source": [
    "# Definimos métricas y funciones"
   ]
  },
  {
   "cell_type": "code",
   "execution_count": 11,
   "id": "2d8fe0f0",
   "metadata": {},
   "outputs": [],
   "source": [
    "scoring = ['accuracy', 'precision', 'recall', 'f1']\n",
    "scorer = make_scorer(f1_score)"
   ]
  },
  {
   "cell_type": "code",
   "execution_count": 12,
   "id": "9d4de88a",
   "metadata": {},
   "outputs": [],
   "source": [
    "def scores(cv_results):\n",
    "    score_results = {'accuracy': None, 'precision': None, 'recall': None, 'f1': None, 'time': None}\n",
    "    for key in score_results.keys():\n",
    "        if key == 'time':\n",
    "            score_results[key] = round(cv_results['fit_time'].mean() + cv_results['score_time'].mean(), 1)\n",
    "        else:\n",
    "            score_results[key] = round(cv_results[f'test_{key}'].mean(), 4)\n",
    "    return score_results"
   ]
  },
  {
   "cell_type": "code",
   "execution_count": 13,
   "id": "367bca27",
   "metadata": {},
   "outputs": [],
   "source": [
    "def conf_mx_all(y_test, y_pred):\n",
    "    \n",
    "    cm = confusion_matrix(y_test, y_pred)\n",
    "    \n",
    "    TN = cm[0,0]\n",
    "    TP = cm[1,1]\n",
    "    FN = cm[1,0]\n",
    "    FP = cm[0,1]\n",
    "    \n",
    "    recall = np.round_(TP/(TP+FN),3)\n",
    "    precision = np.round_(TP/(TP+FP),3)\n",
    "    accuracy = np.round_((TP+TN)/(TP+TN+FP+FN),3)\n",
    "    F1= np.round((2*precision*recall)/(precision+recall), 3)\n",
    "    \n",
    "    print(f\"Recall: {recall}\")\n",
    "    print(f\"Precision: {precision}\")\n",
    "    print(f\"Accuracy: {accuracy}\")\n",
    "    print(f\"F1-score: {F1}\")\n",
    "    \n",
    "    disp = ConfusionMatrixDisplay(confusion_matrix=cm,display_labels=[0,1])\n",
    "    disp.plot();\n",
    "    \n",
    "    return recall, precision, accuracy, F1"
   ]
  },
  {
   "cell_type": "code",
   "execution_count": 14,
   "id": "10c2e8fa",
   "metadata": {},
   "outputs": [],
   "source": [
    "def get_best_model(model, type_):\n",
    "    name = model[type_]\n",
    "    params = model[f'{type_} Params']\n",
    "    return eval(f'{name}(**{params})')"
   ]
  },
  {
   "cell_type": "markdown",
   "id": "a5cc9185",
   "metadata": {},
   "source": [
    "Definimos la pipeline para evaluar los distintos algoritmos"
   ]
  },
  {
   "cell_type": "code",
   "execution_count": 15,
   "id": "eefdfb0d",
   "metadata": {},
   "outputs": [],
   "source": [
    "def pipeline(vectorizer_list, learner_list, X_train, y_train, X_test, y_test): \n",
    "    '''\n",
    "    inputs:\n",
    "       - learner: the learning algorithm to be trained and predicted on\n",
    "       - X_train: features training set\n",
    "       - y_train: income training set\n",
    "       - X_test: features testing set\n",
    "       - y_test: income testing set\n",
    "    '''\n",
    "    \n",
    "    def list_params(new_class):\n",
    "        name = new_class.__class__.__name__\n",
    "        default_class = eval(name + '()').get_params()\n",
    "        new_class = new_class.get_params()\n",
    "\n",
    "        new_dict = {}\n",
    "\n",
    "        for key in new_class.keys():\n",
    "            if new_class[key] != default_class[key]:\n",
    "                new_dict[key] = new_class[key]\n",
    "        return new_dict\n",
    "    \n",
    "    \n",
    "    # Get length of Training Data:\n",
    "    size = len(y_train)\n",
    "    \n",
    "    results = {}\n",
    "    final_results = []\n",
    "    \n",
    "    for vectorizer in vectorizer_list:\n",
    "        \n",
    "        X_train_vec = vectorizer.fit_transform(X_train['text'])\n",
    "        X_test_vec = vectorizer.transform(X_test['text'])\n",
    "        \n",
    "    \n",
    "        for learner in learner_list:\n",
    "\n",
    "            # Store the vectorizer name and params:\n",
    "            results['Vectorizer'] = vectorizer.__class__.__name__\n",
    "            results['Vectorizer Params'] = list_params(vectorizer)\n",
    "\n",
    "            # Store the learner name and params:\n",
    "            results['Algorithm'] = learner.__class__.__name__\n",
    "            results['Algorithm Params'] = list_params(learner)\n",
    "\n",
    "            # Fit the learner:\n",
    "            start = time() # Get start time\n",
    "            learner = learner.fit(X_train_vec, y_train)\n",
    "            end = time() # Get end time\n",
    "\n",
    "            # Store the training time\n",
    "            results['Training Time'] = round(end - start, 2)\n",
    "\n",
    "            start = time() # Get start time\n",
    "            predictions_test = learner.predict(X_test_vec)\n",
    "            predictions_train = learner.predict(X_train_vec)\n",
    "            end = time() # Get end time\n",
    "\n",
    "            # Store the prediction time\n",
    "            results['Prediction Time'] = round(end - start, 2)\n",
    "\n",
    "            # Compute the F1 Score on Test Set\n",
    "            results['f1'] = round(f1_score(y_test, predictions_test), 4)\n",
    "\n",
    "            # Compute the Recall on Test Set\n",
    "            results['recall'] = round(recall_score(y_test, predictions_test), 4)\n",
    "            \n",
    "            # Compute the Precision on Test Set\n",
    "            results['precision'] = round(precision_score(y_test, predictions_test), 4)\n",
    "            \n",
    "            # Compute the Accuracy on Test Set\n",
    "            results['accuracy'] = round(accuracy_score(y_test, predictions_test), 4)\n",
    "\n",
    "            final_results.append(results.copy())\n",
    "            \n",
    "    # Return a dataframe of the results\n",
    "    return final_results"
   ]
  },
  {
   "cell_type": "markdown",
   "id": "ec075cbf",
   "metadata": {},
   "source": [
    "## Instanciamos los distintos vectorizadores y clasificadores"
   ]
  },
  {
   "cell_type": "code",
   "execution_count": 16,
   "id": "bb3e0ba5",
   "metadata": {},
   "outputs": [],
   "source": [
    "# make a list of vectorizers\n",
    "vectorizers = [TfidfVectorizer()]\n",
    "\n",
    "# make a list of models\n",
    "models = [MultinomialNB(),\n",
    "          DecisionTreeClassifier(),\n",
    "          LinearSVC(),\n",
    "          AdaBoostClassifier(),\n",
    "          RandomForestClassifier(),\n",
    "          BaggingClassifier(),\n",
    "          LogisticRegression(solver='liblinear'),\n",
    "          SGDClassifier(),\n",
    "          KNeighborsClassifier()\n",
    "]"
   ]
  },
  {
   "cell_type": "code",
   "execution_count": 17,
   "id": "434c936a",
   "metadata": {},
   "outputs": [
    {
     "name": "stdout",
     "output_type": "stream",
     "text": [
      "CPU times: user 5min 13s, sys: 12.4 s, total: 5min 25s\n",
      "Wall time: 5min 20s\n"
     ]
    },
    {
     "data": {
      "text/html": [
       "<div>\n",
       "<style scoped>\n",
       "    .dataframe tbody tr th:only-of-type {\n",
       "        vertical-align: middle;\n",
       "    }\n",
       "\n",
       "    .dataframe tbody tr th {\n",
       "        vertical-align: top;\n",
       "    }\n",
       "\n",
       "    .dataframe thead th {\n",
       "        text-align: right;\n",
       "    }\n",
       "</style>\n",
       "<table border=\"1\" class=\"dataframe\">\n",
       "  <thead>\n",
       "    <tr style=\"text-align: right;\">\n",
       "      <th></th>\n",
       "      <th>Vectorizer</th>\n",
       "      <th>Vectorizer Params</th>\n",
       "      <th>Algorithm</th>\n",
       "      <th>Algorithm Params</th>\n",
       "      <th>Training Time</th>\n",
       "      <th>Prediction Time</th>\n",
       "      <th>f1</th>\n",
       "      <th>recall</th>\n",
       "      <th>precision</th>\n",
       "      <th>accuracy</th>\n",
       "    </tr>\n",
       "  </thead>\n",
       "  <tbody>\n",
       "    <tr>\n",
       "      <th>0</th>\n",
       "      <td>TfidfVectorizer</td>\n",
       "      <td>{}</td>\n",
       "      <td>LinearSVC</td>\n",
       "      <td>{}</td>\n",
       "      <td>0.14</td>\n",
       "      <td>0.00</td>\n",
       "      <td>0.6054</td>\n",
       "      <td>0.5107</td>\n",
       "      <td>0.7431</td>\n",
       "      <td>0.9182</td>\n",
       "    </tr>\n",
       "    <tr>\n",
       "      <th>1</th>\n",
       "      <td>TfidfVectorizer</td>\n",
       "      <td>{}</td>\n",
       "      <td>BaggingClassifier</td>\n",
       "      <td>{}</td>\n",
       "      <td>173.60</td>\n",
       "      <td>0.40</td>\n",
       "      <td>0.5280</td>\n",
       "      <td>0.4189</td>\n",
       "      <td>0.7141</td>\n",
       "      <td>0.9080</td>\n",
       "    </tr>\n",
       "    <tr>\n",
       "      <th>2</th>\n",
       "      <td>TfidfVectorizer</td>\n",
       "      <td>{}</td>\n",
       "      <td>LogisticRegression</td>\n",
       "      <td>{'solver': 'liblinear'}</td>\n",
       "      <td>0.35</td>\n",
       "      <td>0.01</td>\n",
       "      <td>0.5176</td>\n",
       "      <td>0.3854</td>\n",
       "      <td>0.7878</td>\n",
       "      <td>0.9118</td>\n",
       "    </tr>\n",
       "    <tr>\n",
       "      <th>3</th>\n",
       "      <td>TfidfVectorizer</td>\n",
       "      <td>{}</td>\n",
       "      <td>KNeighborsClassifier</td>\n",
       "      <td>{}</td>\n",
       "      <td>0.00</td>\n",
       "      <td>54.04</td>\n",
       "      <td>0.5176</td>\n",
       "      <td>0.4045</td>\n",
       "      <td>0.7182</td>\n",
       "      <td>0.9074</td>\n",
       "    </tr>\n",
       "    <tr>\n",
       "      <th>4</th>\n",
       "      <td>TfidfVectorizer</td>\n",
       "      <td>{}</td>\n",
       "      <td>DecisionTreeClassifier</td>\n",
       "      <td>{}</td>\n",
       "      <td>24.97</td>\n",
       "      <td>0.06</td>\n",
       "      <td>0.5008</td>\n",
       "      <td>0.4660</td>\n",
       "      <td>0.5412</td>\n",
       "      <td>0.8859</td>\n",
       "    </tr>\n",
       "    <tr>\n",
       "      <th>5</th>\n",
       "      <td>TfidfVectorizer</td>\n",
       "      <td>{}</td>\n",
       "      <td>AdaBoostClassifier</td>\n",
       "      <td>{}</td>\n",
       "      <td>6.59</td>\n",
       "      <td>0.54</td>\n",
       "      <td>0.4984</td>\n",
       "      <td>0.3765</td>\n",
       "      <td>0.7371</td>\n",
       "      <td>0.9069</td>\n",
       "    </tr>\n",
       "    <tr>\n",
       "      <th>6</th>\n",
       "      <td>TfidfVectorizer</td>\n",
       "      <td>{}</td>\n",
       "      <td>SGDClassifier</td>\n",
       "      <td>{}</td>\n",
       "      <td>0.08</td>\n",
       "      <td>0.01</td>\n",
       "      <td>0.4862</td>\n",
       "      <td>0.3407</td>\n",
       "      <td>0.8484</td>\n",
       "      <td>0.9115</td>\n",
       "    </tr>\n",
       "    <tr>\n",
       "      <th>7</th>\n",
       "      <td>TfidfVectorizer</td>\n",
       "      <td>{}</td>\n",
       "      <td>RandomForestClassifier</td>\n",
       "      <td>{}</td>\n",
       "      <td>55.31</td>\n",
       "      <td>2.59</td>\n",
       "      <td>0.3477</td>\n",
       "      <td>0.2208</td>\n",
       "      <td>0.8186</td>\n",
       "      <td>0.8983</td>\n",
       "    </tr>\n",
       "    <tr>\n",
       "      <th>8</th>\n",
       "      <td>TfidfVectorizer</td>\n",
       "      <td>{}</td>\n",
       "      <td>MultinomialNB</td>\n",
       "      <td>{}</td>\n",
       "      <td>0.02</td>\n",
       "      <td>0.01</td>\n",
       "      <td>0.0812</td>\n",
       "      <td>0.0424</td>\n",
       "      <td>0.9861</td>\n",
       "      <td>0.8823</td>\n",
       "    </tr>\n",
       "  </tbody>\n",
       "</table>\n",
       "</div>"
      ],
      "text/plain": [
       "        Vectorizer Vectorizer Params               Algorithm  \\\n",
       "0  TfidfVectorizer                {}               LinearSVC   \n",
       "1  TfidfVectorizer                {}       BaggingClassifier   \n",
       "2  TfidfVectorizer                {}      LogisticRegression   \n",
       "3  TfidfVectorizer                {}    KNeighborsClassifier   \n",
       "4  TfidfVectorizer                {}  DecisionTreeClassifier   \n",
       "5  TfidfVectorizer                {}      AdaBoostClassifier   \n",
       "6  TfidfVectorizer                {}           SGDClassifier   \n",
       "7  TfidfVectorizer                {}  RandomForestClassifier   \n",
       "8  TfidfVectorizer                {}           MultinomialNB   \n",
       "\n",
       "          Algorithm Params  Training Time  Prediction Time      f1  recall  \\\n",
       "0                       {}           0.14             0.00  0.6054  0.5107   \n",
       "1                       {}         173.60             0.40  0.5280  0.4189   \n",
       "2  {'solver': 'liblinear'}           0.35             0.01  0.5176  0.3854   \n",
       "3                       {}           0.00            54.04  0.5176  0.4045   \n",
       "4                       {}          24.97             0.06  0.5008  0.4660   \n",
       "5                       {}           6.59             0.54  0.4984  0.3765   \n",
       "6                       {}           0.08             0.01  0.4862  0.3407   \n",
       "7                       {}          55.31             2.59  0.3477  0.2208   \n",
       "8                       {}           0.02             0.01  0.0812  0.0424   \n",
       "\n",
       "   precision  accuracy  \n",
       "0     0.7431    0.9182  \n",
       "1     0.7141    0.9080  \n",
       "2     0.7878    0.9118  \n",
       "3     0.7182    0.9074  \n",
       "4     0.5412    0.8859  \n",
       "5     0.7371    0.9069  \n",
       "6     0.8484    0.9115  \n",
       "7     0.8186    0.8983  \n",
       "8     0.9861    0.8823  "
      ]
     },
     "execution_count": 17,
     "metadata": {},
     "output_type": "execute_result"
    }
   ],
   "source": [
    "%%time\n",
    "\n",
    "re = pipeline(vectorizers, models, X_train, y_train, X_test, y_test)\n",
    "results = pd.DataFrame(re)\n",
    "\n",
    "results = results.sort_values(by = 'f1', ascending = False).reset_index(drop = True)\n",
    "\n",
    "best_model = results\n",
    "\n",
    "results"
   ]
  },
  {
   "cell_type": "markdown",
   "id": "de9b5ea9",
   "metadata": {},
   "source": [
    "Tomamos el mejor vectorizador y estimador (el primero de la lista)"
   ]
  },
  {
   "cell_type": "code",
   "execution_count": 18,
   "id": "affa9863",
   "metadata": {},
   "outputs": [],
   "source": [
    "best_vectorizer = get_best_model(results.iloc[0], 'Vectorizer')\n",
    "best_model = get_best_model(results.iloc[0], 'Algorithm')"
   ]
  },
  {
   "cell_type": "code",
   "execution_count": 20,
   "id": "c5fcf298",
   "metadata": {},
   "outputs": [
    {
     "data": {
      "image/png": "[encoded data removed]",
      "text/plain": [
       "<Figure size 1224x504 with 1 Axes>"
      ]
     },
     "metadata": {},
     "output_type": "display_data"
    }
   ],
   "source": [
    "def plot_algorithms(results):\n",
    "    sns.set_style('darkgrid')\n",
    "    plt.figure(figsize = (17, 7))\n",
    "\n",
    "    barWidth = 0.17\n",
    "\n",
    "\n",
    "    # set height of bar\n",
    "    bars1 = results['accuracy']\n",
    "    bars2 = results['f1']\n",
    "    bars3 = results['precision']\n",
    "    bars4 = results['recall']\n",
    "\n",
    "\n",
    "    # Set position of bar on X axis\n",
    "    r1 = np.arange(len(bars1))\n",
    "    r2 = [x + barWidth for x in r1]\n",
    "    r3 = [x + barWidth for x in r2]\n",
    "    r4 = [x + barWidth for x in r3]\n",
    "\n",
    "\n",
    "    # Make the plot\n",
    "    pal = sns.color_palette()\n",
    "    plt.bar(r1, bars1, color= pal[0], width=barWidth, edgecolor='white', label='Test Accuracy')\n",
    "    plt.bar(r2, bars2, color= pal[1], width=barWidth, edgecolor='white', label='F1 Score')\n",
    "    plt.bar(r3, bars3, color= pal[2], width=barWidth, edgecolor='white', label='Precision')\n",
    "    plt.bar(r4, bars4, color= pal[4], width=barWidth, edgecolor='white', label='Recall')\n",
    "\n",
    "\n",
    "    # Add xticks on the middle of the group bars\n",
    "    plt.xlabel('Algorithm', fontweight='bold', fontsize = 13)\n",
    "    plt.ylabel('Score', fontweight = 'bold', fontsize = 13)\n",
    "    plt.xticks([r + barWidth for r in range(len(bars1))], results['Algorithm'], rotation = 15, fontsize = 11)\n",
    "\n",
    "    # Create legend & Show graphic\n",
    "    plt.legend(fontsize = 13)\n",
    "\n",
    "    props = dict(boxstyle='round', facecolor='lightgrey', alpha=0.5)\n",
    "\n",
    "    #place a text box\n",
    "    #plt.text(9.2, 1, textstr, fontsize=14,\n",
    "    #        verticalalignment='top', bbox=props)\n",
    "\n",
    "    plt.title('Classification Summary of Algorithms', fontweight = 'bold', fontsize = 17);"
   ]
  },
  {
   "cell_type": "code",
   "execution_count": 21,
   "id": "2dd78c02",
   "metadata": {},
   "outputs": [
    {
     "data": {
      "image/png": "[encoded data removed]",
      "text/plain": [
       "<Figure size 864x504 with 1 Axes>"
      ]
     },
     "metadata": {},
     "output_type": "display_data"
    }
   ],
   "source": [
    "plt.figure(figsize = (12, 7))\n",
    "\n",
    "barWidth = 0.17\n",
    " \n",
    "# set height of bar\n",
    "bars1 = results['Training Time']\n",
    "bars2 = results['Prediction Time']\n",
    " \n",
    "# Set position of bar on X axis\n",
    "r1 = np.arange(len(bars1))\n",
    "r2 = [x + barWidth for x in r1]\n",
    " \n",
    "# Make the plot\n",
    "plt.bar(r1, bars1, color= pal[0], width=barWidth, edgecolor='white', label='Training Time')\n",
    "plt.bar(r2, bars2, color= pal[1], width=barWidth, edgecolor='white', label='Prediction Time')\n",
    " \n",
    "# Add xticks on the middle of the group bars\n",
    "plt.xlabel('Algorithm', fontweight='bold', fontsize = 13)\n",
    "plt.ylabel('Time (seconds)', fontweight = 'bold', fontsize = 13)\n",
    "plt.xticks([r + barWidth for r in range(len(bars1))], results['Algorithm'], rotation = 15, fontsize = 11)\n",
    " \n",
    "# Create legend & Show graphic\n",
    "plt.legend(fontsize = 13)\n",
    "\n",
    "props = dict(boxstyle='round', facecolor='lightgrey', alpha=0.5)\n",
    "\n",
    "#place a text box\n",
    "#plt.text(9, 36, textstr, fontsize=14,  bbox=props)\n",
    "\n",
    "plt.title('Time Complexity of Algorithms', fontweight = 'bold', fontsize = 17);"
   ]
  },
  {
   "cell_type": "markdown",
   "id": "988fae3b",
   "metadata": {},
   "source": [
    "# Evaluation with full dataset"
   ]
  },
  {
   "cell_type": "code",
   "execution_count": 23,
   "id": "598b6496",
   "metadata": {},
   "outputs": [],
   "source": [
    "percentage_used = 1\n",
    "df_sample = df_lem.sample(frac=percentage_used, random_state=0)\n",
    "\n",
    "X_train, X_test, y_train, y_test = train_test_split(df_sample['text'], df_sample['target'], test_size=0.3, random_state=0)\n",
    "\n",
    "X_train = pd.DataFrame(data=X_train, columns=['text'])\n",
    "X_test = pd.DataFrame(data=X_test, columns=['text'])"
   ]
  },
  {
   "cell_type": "code",
   "execution_count": 24,
   "id": "fcb000a9",
   "metadata": {},
   "outputs": [],
   "source": [
    "# make a list of vectorizers\n",
    "vectorizers = [TfidfVectorizer()]\n",
    "\n",
    "# make a list of models\n",
    "models = [LinearSVC(),\n",
    "          LogisticRegression(solver='liblinear'),\n",
    "          SGDClassifier(),\n",
    "          KNeighborsClassifier()\n",
    "]"
   ]
  },
  {
   "cell_type": "code",
   "execution_count": 25,
   "id": "35bdb1e3",
   "metadata": {},
   "outputs": [
    {
     "name": "stdout",
     "output_type": "stream",
     "text": [
      "CPU times: user 23min 46s, sys: 4min 36s, total: 28min 22s\n",
      "Wall time: 28min 2s\n"
     ]
    },
    {
     "data": {
      "text/html": [
       "<div>\n",
       "<style scoped>\n",
       "    .dataframe tbody tr th:only-of-type {\n",
       "        vertical-align: middle;\n",
       "    }\n",
       "\n",
       "    .dataframe tbody tr th {\n",
       "        vertical-align: top;\n",
       "    }\n",
       "\n",
       "    .dataframe thead th {\n",
       "        text-align: right;\n",
       "    }\n",
       "</style>\n",
       "<table border=\"1\" class=\"dataframe\">\n",
       "  <thead>\n",
       "    <tr style=\"text-align: right;\">\n",
       "      <th></th>\n",
       "      <th>Vectorizer</th>\n",
       "      <th>Vectorizer Params</th>\n",
       "      <th>Algorithm</th>\n",
       "      <th>Algorithm Params</th>\n",
       "      <th>Training Time</th>\n",
       "      <th>Prediction Time</th>\n",
       "      <th>f1</th>\n",
       "      <th>recall</th>\n",
       "      <th>precision</th>\n",
       "      <th>accuracy</th>\n",
       "    </tr>\n",
       "  </thead>\n",
       "  <tbody>\n",
       "    <tr>\n",
       "      <th>0</th>\n",
       "      <td>TfidfVectorizer</td>\n",
       "      <td>{}</td>\n",
       "      <td>LinearSVC</td>\n",
       "      <td>{}</td>\n",
       "      <td>1.28</td>\n",
       "      <td>0.02</td>\n",
       "      <td>0.6244</td>\n",
       "      <td>0.5506</td>\n",
       "      <td>0.7211</td>\n",
       "      <td>0.9207</td>\n",
       "    </tr>\n",
       "    <tr>\n",
       "      <th>1</th>\n",
       "      <td>TfidfVectorizer</td>\n",
       "      <td>{}</td>\n",
       "      <td>LogisticRegression</td>\n",
       "      <td>{'solver': 'liblinear'}</td>\n",
       "      <td>2.68</td>\n",
       "      <td>0.03</td>\n",
       "      <td>0.6133</td>\n",
       "      <td>0.4993</td>\n",
       "      <td>0.7948</td>\n",
       "      <td>0.9246</td>\n",
       "    </tr>\n",
       "    <tr>\n",
       "      <th>2</th>\n",
       "      <td>TfidfVectorizer</td>\n",
       "      <td>{}</td>\n",
       "      <td>SGDClassifier</td>\n",
       "      <td>{}</td>\n",
       "      <td>0.34</td>\n",
       "      <td>0.02</td>\n",
       "      <td>0.4489</td>\n",
       "      <td>0.3024</td>\n",
       "      <td>0.8709</td>\n",
       "      <td>0.9111</td>\n",
       "    </tr>\n",
       "    <tr>\n",
       "      <th>3</th>\n",
       "      <td>TfidfVectorizer</td>\n",
       "      <td>{}</td>\n",
       "      <td>KNeighborsClassifier</td>\n",
       "      <td>{}</td>\n",
       "      <td>0.02</td>\n",
       "      <td>1669.92</td>\n",
       "      <td>0.2119</td>\n",
       "      <td>0.2565</td>\n",
       "      <td>0.1805</td>\n",
       "      <td>0.7715</td>\n",
       "    </tr>\n",
       "  </tbody>\n",
       "</table>\n",
       "</div>"
      ],
      "text/plain": [
       "        Vectorizer Vectorizer Params             Algorithm  \\\n",
       "0  TfidfVectorizer                {}             LinearSVC   \n",
       "1  TfidfVectorizer                {}    LogisticRegression   \n",
       "2  TfidfVectorizer                {}         SGDClassifier   \n",
       "3  TfidfVectorizer                {}  KNeighborsClassifier   \n",
       "\n",
       "          Algorithm Params  Training Time  Prediction Time      f1  recall  \\\n",
       "0                       {}           1.28             0.02  0.6244  0.5506   \n",
       "1  {'solver': 'liblinear'}           2.68             0.03  0.6133  0.4993   \n",
       "2                       {}           0.34             0.02  0.4489  0.3024   \n",
       "3                       {}           0.02          1669.92  0.2119  0.2565   \n",
       "\n",
       "   precision  accuracy  \n",
       "0     0.7211    0.9207  \n",
       "1     0.7948    0.9246  \n",
       "2     0.8709    0.9111  \n",
       "3     0.1805    0.7715  "
      ]
     },
     "execution_count": 25,
     "metadata": {},
     "output_type": "execute_result"
    }
   ],
   "source": [
    "%%time\n",
    "\n",
    "re = pipeline(vectorizers, models, X_train, y_train, X_test, y_test)\n",
    "results = pd.DataFrame(re)\n",
    "\n",
    "results = results.sort_values(by = 'f1', ascending = False).reset_index(drop = True)\n",
    "\n",
    "best_model = results\n",
    "\n",
    "results"
   ]
  },
  {
   "cell_type": "markdown",
   "id": "70709f6d",
   "metadata": {},
   "source": [
    "# Crossvalidation"
   ]
  },
  {
   "cell_type": "code",
   "execution_count": null,
   "id": "16f3ca10",
   "metadata": {},
   "outputs": [],
   "source": []
  }
 ],
 "metadata": {
  "kernelspec": {
   "display_name": "Python 3 (ipykernel)",
   "language": "python",
   "name": "python3"
  },
  "language_info": {
   "codemirror_mode": {
    "name": "ipython",
    "version": 3
   },
   "file_extension": ".py",
   "mimetype": "text/x-python",
   "name": "python",
   "nbconvert_exporter": "python",
   "pygments_lexer": "ipython3",
   "version": "3.8.12"
  },
  "toc": {
   "base_numbering": 1,
   "nav_menu": {},
   "number_sections": true,
   "sideBar": true,
   "skip_h1_title": false,
   "title_cell": "Table of Contents",
   "title_sidebar": "Contents",
   "toc_cell": false,
   "toc_position": {},
   "toc_section_display": true,
   "toc_window_display": false
  }
 },
 "nbformat": 4,
 "nbformat_minor": 5
}
