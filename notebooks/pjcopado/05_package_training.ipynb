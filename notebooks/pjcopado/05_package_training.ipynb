{
 "cells": [
  {
   "cell_type": "code",
   "execution_count": 1,
   "id": "0143b7fe",
   "metadata": {},
   "outputs": [],
   "source": [
    "%load_ext autoreload\n",
    "%autoreload 2"
   ]
  },
  {
   "cell_type": "code",
   "execution_count": 2,
   "id": "4a9095ee",
   "metadata": {},
   "outputs": [],
   "source": [
    "from cyberbullying.data import Data\n",
    "from cyberbullying.models import MLModel\n",
    "from cyberbullying.utils import conf_mx_all"
   ]
  },
  {
   "cell_type": "code",
   "execution_count": 3,
   "id": "05033264",
   "metadata": {},
   "outputs": [],
   "source": [
    "from sklearn.model_selection import train_test_split\n",
    "import numpy as np\n",
    "import pandas as pd"
   ]
  },
  {
   "cell_type": "code",
   "execution_count": 4,
   "id": "f0065034",
   "metadata": {},
   "outputs": [],
   "source": [
    "import joblib"
   ]
  },
  {
   "cell_type": "code",
   "execution_count": 6,
   "id": "9a1314e5",
   "metadata": {},
   "outputs": [],
   "source": [
    "from sklearn import set_config\n",
    "set_config(display='diagram')"
   ]
  },
  {
   "cell_type": "code",
   "execution_count": 7,
   "id": "859f1bc8",
   "metadata": {},
   "outputs": [
    {
     "name": "stdout",
     "output_type": "stream",
     "text": [
      "dict_keys(['toxicity', 'aggression', 'twitter', 'twitter_racism', 'twitter_sexism', 'youtube', 'kaggle'])\n",
      "['toxicity', 'aggression', 'twitter', 'twitter_racism', 'twitter_sexism', 'youtube', 'kaggle']\n"
     ]
    }
   ],
   "source": [
    "data = Data().get_data(datasets='all')"
   ]
  },
  {
   "cell_type": "code",
   "execution_count": 8,
   "id": "e51bda44",
   "metadata": {},
   "outputs": [
    {
     "data": {
      "text/html": [
       "<div>\n",
       "<style scoped>\n",
       "    .dataframe tbody tr th:only-of-type {\n",
       "        vertical-align: middle;\n",
       "    }\n",
       "\n",
       "    .dataframe tbody tr th {\n",
       "        vertical-align: top;\n",
       "    }\n",
       "\n",
       "    .dataframe thead th {\n",
       "        text-align: right;\n",
       "    }\n",
       "</style>\n",
       "<table border=\"1\" class=\"dataframe\">\n",
       "  <thead>\n",
       "    <tr style=\"text-align: right;\">\n",
       "      <th></th>\n",
       "      <th>text</th>\n",
       "      <th>target</th>\n",
       "    </tr>\n",
       "  </thead>\n",
       "  <tbody>\n",
       "    <tr>\n",
       "      <th>0</th>\n",
       "      <td>This: :One can make an analogy in mathematical...</td>\n",
       "      <td>0.0</td>\n",
       "    </tr>\n",
       "    <tr>\n",
       "      <th>1</th>\n",
       "      <td>`  :Clarification for you  (and Zundark's righ...</td>\n",
       "      <td>0.0</td>\n",
       "    </tr>\n",
       "    <tr>\n",
       "      <th>2</th>\n",
       "      <td>Elected or Electoral? JHK</td>\n",
       "      <td>0.0</td>\n",
       "    </tr>\n",
       "    <tr>\n",
       "      <th>3</th>\n",
       "      <td>`This is such a fun entry.   Devotchka  I once...</td>\n",
       "      <td>0.0</td>\n",
       "    </tr>\n",
       "    <tr>\n",
       "      <th>4</th>\n",
       "      <td>Please relate the ozone hole to increases in c...</td>\n",
       "      <td>0.0</td>\n",
       "    </tr>\n",
       "    <tr>\n",
       "      <th>...</th>\n",
       "      <td>...</td>\n",
       "      <td>...</td>\n",
       "    </tr>\n",
       "    <tr>\n",
       "      <th>230944</th>\n",
       "      <td>\"Never really gave it much thought. I just fig...</td>\n",
       "      <td>0.0</td>\n",
       "    </tr>\n",
       "    <tr>\n",
       "      <th>230945</th>\n",
       "      <td>\"Nadie se salva de la regla 34 xd\"</td>\n",
       "      <td>0.0</td>\n",
       "    </tr>\n",
       "    <tr>\n",
       "      <th>230946</th>\n",
       "      <td>\"Question: Are you a boy or a girl?\"</td>\n",
       "      <td>0.0</td>\n",
       "    </tr>\n",
       "    <tr>\n",
       "      <th>230947</th>\n",
       "      <td>\"Leave your email or phone number and maybe yo...</td>\n",
       "      <td>1.0</td>\n",
       "    </tr>\n",
       "    <tr>\n",
       "      <th>230948</th>\n",
       "      <td>\"From the scenarios you present, I see you bel...</td>\n",
       "      <td>0.0</td>\n",
       "    </tr>\n",
       "  </tbody>\n",
       "</table>\n",
       "<p>230949 rows × 2 columns</p>\n",
       "</div>"
      ],
      "text/plain": [
       "                                                     text  target\n",
       "0       This: :One can make an analogy in mathematical...     0.0\n",
       "1       `  :Clarification for you  (and Zundark's righ...     0.0\n",
       "2                               Elected or Electoral? JHK     0.0\n",
       "3       `This is such a fun entry.   Devotchka  I once...     0.0\n",
       "4       Please relate the ozone hole to increases in c...     0.0\n",
       "...                                                   ...     ...\n",
       "230944  \"Never really gave it much thought. I just fig...     0.0\n",
       "230945                 \"Nadie se salva de la regla 34 xd\"     0.0\n",
       "230946               \"Question: Are you a boy or a girl?\"     0.0\n",
       "230947  \"Leave your email or phone number and maybe yo...     1.0\n",
       "230948  \"From the scenarios you present, I see you bel...     0.0\n",
       "\n",
       "[230949 rows x 2 columns]"
      ]
     },
     "execution_count": 8,
     "metadata": {},
     "output_type": "execute_result"
    }
   ],
   "source": [
    "data"
   ]
  },
  {
   "cell_type": "code",
   "execution_count": 9,
   "id": "622b57bf",
   "metadata": {},
   "outputs": [],
   "source": [
    "percentage_used = 1\n",
    "data = data.sample(frac=percentage_used, random_state=0)"
   ]
  },
  {
   "cell_type": "code",
   "execution_count": 10,
   "id": "f4e7875e",
   "metadata": {},
   "outputs": [],
   "source": [
    "X_train, X_test, y_train, y_test = train_test_split(data[['text']], data['target'], test_size=0.3, random_state=0)"
   ]
  },
  {
   "cell_type": "code",
   "execution_count": 11,
   "id": "d0819327",
   "metadata": {},
   "outputs": [
    {
     "data": {
      "text/html": [
       "<div>\n",
       "<style scoped>\n",
       "    .dataframe tbody tr th:only-of-type {\n",
       "        vertical-align: middle;\n",
       "    }\n",
       "\n",
       "    .dataframe tbody tr th {\n",
       "        vertical-align: top;\n",
       "    }\n",
       "\n",
       "    .dataframe thead th {\n",
       "        text-align: right;\n",
       "    }\n",
       "</style>\n",
       "<table border=\"1\" class=\"dataframe\">\n",
       "  <thead>\n",
       "    <tr style=\"text-align: right;\">\n",
       "      <th></th>\n",
       "      <th>text</th>\n",
       "    </tr>\n",
       "  </thead>\n",
       "  <tbody>\n",
       "    <tr>\n",
       "      <th>41325</th>\n",
       "      <td>:Could I please be unblocked?</td>\n",
       "    </tr>\n",
       "    <tr>\n",
       "      <th>63081</th>\n",
       "      <td>**** Carlo  you should not have given in to...</td>\n",
       "    </tr>\n",
       "    <tr>\n",
       "      <th>20725</th>\n",
       "      <td>` I have reverted a recent edit you made to th...</td>\n",
       "    </tr>\n",
       "    <tr>\n",
       "      <th>167785</th>\n",
       "      <td>*: I would be entirely in favor of someone m...</td>\n",
       "    </tr>\n",
       "    <tr>\n",
       "      <th>101388</th>\n",
       "      <td>`  == Reviewer granted ==   Hello. Your accoun...</td>\n",
       "    </tr>\n",
       "  </tbody>\n",
       "</table>\n",
       "</div>"
      ],
      "text/plain": [
       "                                                     text\n",
       "41325                       :Could I please be unblocked?\n",
       "63081      **** Carlo  you should not have given in to...\n",
       "20725   ` I have reverted a recent edit you made to th...\n",
       "167785    *: I would be entirely in favor of someone m...\n",
       "101388  `  == Reviewer granted ==   Hello. Your accoun..."
      ]
     },
     "execution_count": 11,
     "metadata": {},
     "output_type": "execute_result"
    }
   ],
   "source": [
    "X_train.head()"
   ]
  },
  {
   "cell_type": "code",
   "execution_count": 12,
   "id": "9e820629",
   "metadata": {},
   "outputs": [],
   "source": [
    "package_model = MLModel()"
   ]
  },
  {
   "cell_type": "code",
   "execution_count": 13,
   "id": "d4011cfb",
   "metadata": {},
   "outputs": [
    {
     "data": {
      "text/html": [
       "<style>#sk-90f8dbc1-0e9c-4d52-982b-3b4e60a1e5be {color: black;background-color: white;}#sk-90f8dbc1-0e9c-4d52-982b-3b4e60a1e5be pre{padding: 0;}#sk-90f8dbc1-0e9c-4d52-982b-3b4e60a1e5be div.sk-toggleable {background-color: white;}#sk-90f8dbc1-0e9c-4d52-982b-3b4e60a1e5be label.sk-toggleable__label {cursor: pointer;display: block;width: 100%;margin-bottom: 0;padding: 0.3em;box-sizing: border-box;text-align: center;}#sk-90f8dbc1-0e9c-4d52-982b-3b4e60a1e5be label.sk-toggleable__label-arrow:before {content: \"▸\";float: left;margin-right: 0.25em;color: #696969;}#sk-90f8dbc1-0e9c-4d52-982b-3b4e60a1e5be label.sk-toggleable__label-arrow:hover:before {color: black;}#sk-90f8dbc1-0e9c-4d52-982b-3b4e60a1e5be div.sk-estimator:hover label.sk-toggleable__label-arrow:before {color: black;}#sk-90f8dbc1-0e9c-4d52-982b-3b4e60a1e5be div.sk-toggleable__content {max-height: 0;max-width: 0;overflow: hidden;text-align: left;background-color: #f0f8ff;}#sk-90f8dbc1-0e9c-4d52-982b-3b4e60a1e5be div.sk-toggleable__content pre {margin: 0.2em;color: black;border-radius: 0.25em;background-color: #f0f8ff;}#sk-90f8dbc1-0e9c-4d52-982b-3b4e60a1e5be input.sk-toggleable__control:checked~div.sk-toggleable__content {max-height: 200px;max-width: 100%;overflow: auto;}#sk-90f8dbc1-0e9c-4d52-982b-3b4e60a1e5be input.sk-toggleable__control:checked~label.sk-toggleable__label-arrow:before {content: \"▾\";}#sk-90f8dbc1-0e9c-4d52-982b-3b4e60a1e5be div.sk-estimator input.sk-toggleable__control:checked~label.sk-toggleable__label {background-color: #d4ebff;}#sk-90f8dbc1-0e9c-4d52-982b-3b4e60a1e5be div.sk-label input.sk-toggleable__control:checked~label.sk-toggleable__label {background-color: #d4ebff;}#sk-90f8dbc1-0e9c-4d52-982b-3b4e60a1e5be input.sk-hidden--visually {border: 0;clip: rect(1px 1px 1px 1px);clip: rect(1px, 1px, 1px, 1px);height: 1px;margin: -1px;overflow: hidden;padding: 0;position: absolute;width: 1px;}#sk-90f8dbc1-0e9c-4d52-982b-3b4e60a1e5be div.sk-estimator {font-family: monospace;background-color: #f0f8ff;border: 1px dotted black;border-radius: 0.25em;box-sizing: border-box;margin-bottom: 0.5em;}#sk-90f8dbc1-0e9c-4d52-982b-3b4e60a1e5be div.sk-estimator:hover {background-color: #d4ebff;}#sk-90f8dbc1-0e9c-4d52-982b-3b4e60a1e5be div.sk-parallel-item::after {content: \"\";width: 100%;border-bottom: 1px solid gray;flex-grow: 1;}#sk-90f8dbc1-0e9c-4d52-982b-3b4e60a1e5be div.sk-label:hover label.sk-toggleable__label {background-color: #d4ebff;}#sk-90f8dbc1-0e9c-4d52-982b-3b4e60a1e5be div.sk-serial::before {content: \"\";position: absolute;border-left: 1px solid gray;box-sizing: border-box;top: 2em;bottom: 0;left: 50%;}#sk-90f8dbc1-0e9c-4d52-982b-3b4e60a1e5be div.sk-serial {display: flex;flex-direction: column;align-items: center;background-color: white;padding-right: 0.2em;padding-left: 0.2em;}#sk-90f8dbc1-0e9c-4d52-982b-3b4e60a1e5be div.sk-item {z-index: 1;}#sk-90f8dbc1-0e9c-4d52-982b-3b4e60a1e5be div.sk-parallel {display: flex;align-items: stretch;justify-content: center;background-color: white;}#sk-90f8dbc1-0e9c-4d52-982b-3b4e60a1e5be div.sk-parallel::before {content: \"\";position: absolute;border-left: 1px solid gray;box-sizing: border-box;top: 2em;bottom: 0;left: 50%;}#sk-90f8dbc1-0e9c-4d52-982b-3b4e60a1e5be div.sk-parallel-item {display: flex;flex-direction: column;position: relative;background-color: white;}#sk-90f8dbc1-0e9c-4d52-982b-3b4e60a1e5be div.sk-parallel-item:first-child::after {align-self: flex-end;width: 50%;}#sk-90f8dbc1-0e9c-4d52-982b-3b4e60a1e5be div.sk-parallel-item:last-child::after {align-self: flex-start;width: 50%;}#sk-90f8dbc1-0e9c-4d52-982b-3b4e60a1e5be div.sk-parallel-item:only-child::after {width: 0;}#sk-90f8dbc1-0e9c-4d52-982b-3b4e60a1e5be div.sk-dashed-wrapped {border: 1px dashed gray;margin: 0 0.4em 0.5em 0.4em;box-sizing: border-box;padding-bottom: 0.4em;background-color: white;position: relative;}#sk-90f8dbc1-0e9c-4d52-982b-3b4e60a1e5be div.sk-label label {font-family: monospace;font-weight: bold;background-color: white;display: inline-block;line-height: 1.2em;}#sk-90f8dbc1-0e9c-4d52-982b-3b4e60a1e5be div.sk-label-container {position: relative;z-index: 2;text-align: center;}#sk-90f8dbc1-0e9c-4d52-982b-3b4e60a1e5be div.sk-container {/* jupyter's `normalize.less` sets `[hidden] { display: none; }` but bootstrap.min.css set `[hidden] { display: none !important; }` so we also need the `!important` here to be able to override the default hidden behavior on the sphinx rendered scikit-learn.org. See: https://github.com/scikit-learn/scikit-learn/issues/21755 */display: inline-block !important;position: relative;}#sk-90f8dbc1-0e9c-4d52-982b-3b4e60a1e5be div.sk-text-repr-fallback {display: none;}</style><div id=\"sk-90f8dbc1-0e9c-4d52-982b-3b4e60a1e5be\" class=\"sk-top-container\"><div class=\"sk-text-repr-fallback\"><pre>TfidfVectorizer(min_df=3)</pre><b>Please rerun this cell to show the HTML repr or trust the notebook.</b></div><div class=\"sk-container\" hidden><div class=\"sk-item\"><div class=\"sk-estimator sk-toggleable\"><input class=\"sk-toggleable__control sk-hidden--visually\" id=\"555ec636-2075-45fa-af7a-3d75efee0460\" type=\"checkbox\" checked><label for=\"555ec636-2075-45fa-af7a-3d75efee0460\" class=\"sk-toggleable__label sk-toggleable__label-arrow\">TfidfVectorizer</label><div class=\"sk-toggleable__content\"><pre>TfidfVectorizer(min_df=3)</pre></div></div></div></div></div>"
      ],
      "text/plain": [
       "TfidfVectorizer(min_df=3)"
      ]
     },
     "execution_count": 13,
     "metadata": {},
     "output_type": "execute_result"
    }
   ],
   "source": [
    "package_model.vectorizer"
   ]
  },
  {
   "cell_type": "code",
   "execution_count": 14,
   "id": "18f2ed60",
   "metadata": {},
   "outputs": [
    {
     "data": {
      "text/html": [
       "<style>#sk-dfde7ee1-f58b-416c-9933-29c082aa7bd3 {color: black;background-color: white;}#sk-dfde7ee1-f58b-416c-9933-29c082aa7bd3 pre{padding: 0;}#sk-dfde7ee1-f58b-416c-9933-29c082aa7bd3 div.sk-toggleable {background-color: white;}#sk-dfde7ee1-f58b-416c-9933-29c082aa7bd3 label.sk-toggleable__label {cursor: pointer;display: block;width: 100%;margin-bottom: 0;padding: 0.3em;box-sizing: border-box;text-align: center;}#sk-dfde7ee1-f58b-416c-9933-29c082aa7bd3 label.sk-toggleable__label-arrow:before {content: \"▸\";float: left;margin-right: 0.25em;color: #696969;}#sk-dfde7ee1-f58b-416c-9933-29c082aa7bd3 label.sk-toggleable__label-arrow:hover:before {color: black;}#sk-dfde7ee1-f58b-416c-9933-29c082aa7bd3 div.sk-estimator:hover label.sk-toggleable__label-arrow:before {color: black;}#sk-dfde7ee1-f58b-416c-9933-29c082aa7bd3 div.sk-toggleable__content {max-height: 0;max-width: 0;overflow: hidden;text-align: left;background-color: #f0f8ff;}#sk-dfde7ee1-f58b-416c-9933-29c082aa7bd3 div.sk-toggleable__content pre {margin: 0.2em;color: black;border-radius: 0.25em;background-color: #f0f8ff;}#sk-dfde7ee1-f58b-416c-9933-29c082aa7bd3 input.sk-toggleable__control:checked~div.sk-toggleable__content {max-height: 200px;max-width: 100%;overflow: auto;}#sk-dfde7ee1-f58b-416c-9933-29c082aa7bd3 input.sk-toggleable__control:checked~label.sk-toggleable__label-arrow:before {content: \"▾\";}#sk-dfde7ee1-f58b-416c-9933-29c082aa7bd3 div.sk-estimator input.sk-toggleable__control:checked~label.sk-toggleable__label {background-color: #d4ebff;}#sk-dfde7ee1-f58b-416c-9933-29c082aa7bd3 div.sk-label input.sk-toggleable__control:checked~label.sk-toggleable__label {background-color: #d4ebff;}#sk-dfde7ee1-f58b-416c-9933-29c082aa7bd3 input.sk-hidden--visually {border: 0;clip: rect(1px 1px 1px 1px);clip: rect(1px, 1px, 1px, 1px);height: 1px;margin: -1px;overflow: hidden;padding: 0;position: absolute;width: 1px;}#sk-dfde7ee1-f58b-416c-9933-29c082aa7bd3 div.sk-estimator {font-family: monospace;background-color: #f0f8ff;border: 1px dotted black;border-radius: 0.25em;box-sizing: border-box;margin-bottom: 0.5em;}#sk-dfde7ee1-f58b-416c-9933-29c082aa7bd3 div.sk-estimator:hover {background-color: #d4ebff;}#sk-dfde7ee1-f58b-416c-9933-29c082aa7bd3 div.sk-parallel-item::after {content: \"\";width: 100%;border-bottom: 1px solid gray;flex-grow: 1;}#sk-dfde7ee1-f58b-416c-9933-29c082aa7bd3 div.sk-label:hover label.sk-toggleable__label {background-color: #d4ebff;}#sk-dfde7ee1-f58b-416c-9933-29c082aa7bd3 div.sk-serial::before {content: \"\";position: absolute;border-left: 1px solid gray;box-sizing: border-box;top: 2em;bottom: 0;left: 50%;}#sk-dfde7ee1-f58b-416c-9933-29c082aa7bd3 div.sk-serial {display: flex;flex-direction: column;align-items: center;background-color: white;padding-right: 0.2em;padding-left: 0.2em;}#sk-dfde7ee1-f58b-416c-9933-29c082aa7bd3 div.sk-item {z-index: 1;}#sk-dfde7ee1-f58b-416c-9933-29c082aa7bd3 div.sk-parallel {display: flex;align-items: stretch;justify-content: center;background-color: white;}#sk-dfde7ee1-f58b-416c-9933-29c082aa7bd3 div.sk-parallel::before {content: \"\";position: absolute;border-left: 1px solid gray;box-sizing: border-box;top: 2em;bottom: 0;left: 50%;}#sk-dfde7ee1-f58b-416c-9933-29c082aa7bd3 div.sk-parallel-item {display: flex;flex-direction: column;position: relative;background-color: white;}#sk-dfde7ee1-f58b-416c-9933-29c082aa7bd3 div.sk-parallel-item:first-child::after {align-self: flex-end;width: 50%;}#sk-dfde7ee1-f58b-416c-9933-29c082aa7bd3 div.sk-parallel-item:last-child::after {align-self: flex-start;width: 50%;}#sk-dfde7ee1-f58b-416c-9933-29c082aa7bd3 div.sk-parallel-item:only-child::after {width: 0;}#sk-dfde7ee1-f58b-416c-9933-29c082aa7bd3 div.sk-dashed-wrapped {border: 1px dashed gray;margin: 0 0.4em 0.5em 0.4em;box-sizing: border-box;padding-bottom: 0.4em;background-color: white;position: relative;}#sk-dfde7ee1-f58b-416c-9933-29c082aa7bd3 div.sk-label label {font-family: monospace;font-weight: bold;background-color: white;display: inline-block;line-height: 1.2em;}#sk-dfde7ee1-f58b-416c-9933-29c082aa7bd3 div.sk-label-container {position: relative;z-index: 2;text-align: center;}#sk-dfde7ee1-f58b-416c-9933-29c082aa7bd3 div.sk-container {/* jupyter's `normalize.less` sets `[hidden] { display: none; }` but bootstrap.min.css set `[hidden] { display: none !important; }` so we also need the `!important` here to be able to override the default hidden behavior on the sphinx rendered scikit-learn.org. See: https://github.com/scikit-learn/scikit-learn/issues/21755 */display: inline-block !important;position: relative;}#sk-dfde7ee1-f58b-416c-9933-29c082aa7bd3 div.sk-text-repr-fallback {display: none;}</style><div id=\"sk-dfde7ee1-f58b-416c-9933-29c082aa7bd3\" class=\"sk-top-container\"><div class=\"sk-text-repr-fallback\"><pre>LinearSVC(C=1, class_weight={0: 0.2, 1: 0.8}, dual=False, penalty=&#x27;l1&#x27;)</pre><b>Please rerun this cell to show the HTML repr or trust the notebook.</b></div><div class=\"sk-container\" hidden><div class=\"sk-item\"><div class=\"sk-estimator sk-toggleable\"><input class=\"sk-toggleable__control sk-hidden--visually\" id=\"6f06388a-cc91-410d-bd8c-e68b76b98f1a\" type=\"checkbox\" checked><label for=\"6f06388a-cc91-410d-bd8c-e68b76b98f1a\" class=\"sk-toggleable__label sk-toggleable__label-arrow\">LinearSVC</label><div class=\"sk-toggleable__content\"><pre>LinearSVC(C=1, class_weight={0: 0.2, 1: 0.8}, dual=False, penalty=&#x27;l1&#x27;)</pre></div></div></div></div></div>"
      ],
      "text/plain": [
       "LinearSVC(C=1, class_weight={0: 0.2, 1: 0.8}, dual=False, penalty='l1')"
      ]
     },
     "execution_count": 14,
     "metadata": {},
     "output_type": "execute_result"
    }
   ],
   "source": [
    "package_model.model"
   ]
  },
  {
   "cell_type": "code",
   "execution_count": 15,
   "id": "4311c90d",
   "metadata": {},
   "outputs": [],
   "source": [
    "package_model.set_pipeline()"
   ]
  },
  {
   "cell_type": "code",
   "execution_count": 16,
   "id": "82d33ad2",
   "metadata": {},
   "outputs": [
    {
     "data": {
      "text/html": [
       "<style>#sk-67c0779a-c8a9-4c3f-9850-f267f25f108b {color: black;background-color: white;}#sk-67c0779a-c8a9-4c3f-9850-f267f25f108b pre{padding: 0;}#sk-67c0779a-c8a9-4c3f-9850-f267f25f108b div.sk-toggleable {background-color: white;}#sk-67c0779a-c8a9-4c3f-9850-f267f25f108b label.sk-toggleable__label {cursor: pointer;display: block;width: 100%;margin-bottom: 0;padding: 0.3em;box-sizing: border-box;text-align: center;}#sk-67c0779a-c8a9-4c3f-9850-f267f25f108b label.sk-toggleable__label-arrow:before {content: \"▸\";float: left;margin-right: 0.25em;color: #696969;}#sk-67c0779a-c8a9-4c3f-9850-f267f25f108b label.sk-toggleable__label-arrow:hover:before {color: black;}#sk-67c0779a-c8a9-4c3f-9850-f267f25f108b div.sk-estimator:hover label.sk-toggleable__label-arrow:before {color: black;}#sk-67c0779a-c8a9-4c3f-9850-f267f25f108b div.sk-toggleable__content {max-height: 0;max-width: 0;overflow: hidden;text-align: left;background-color: #f0f8ff;}#sk-67c0779a-c8a9-4c3f-9850-f267f25f108b div.sk-toggleable__content pre {margin: 0.2em;color: black;border-radius: 0.25em;background-color: #f0f8ff;}#sk-67c0779a-c8a9-4c3f-9850-f267f25f108b input.sk-toggleable__control:checked~div.sk-toggleable__content {max-height: 200px;max-width: 100%;overflow: auto;}#sk-67c0779a-c8a9-4c3f-9850-f267f25f108b input.sk-toggleable__control:checked~label.sk-toggleable__label-arrow:before {content: \"▾\";}#sk-67c0779a-c8a9-4c3f-9850-f267f25f108b div.sk-estimator input.sk-toggleable__control:checked~label.sk-toggleable__label {background-color: #d4ebff;}#sk-67c0779a-c8a9-4c3f-9850-f267f25f108b div.sk-label input.sk-toggleable__control:checked~label.sk-toggleable__label {background-color: #d4ebff;}#sk-67c0779a-c8a9-4c3f-9850-f267f25f108b input.sk-hidden--visually {border: 0;clip: rect(1px 1px 1px 1px);clip: rect(1px, 1px, 1px, 1px);height: 1px;margin: -1px;overflow: hidden;padding: 0;position: absolute;width: 1px;}#sk-67c0779a-c8a9-4c3f-9850-f267f25f108b div.sk-estimator {font-family: monospace;background-color: #f0f8ff;border: 1px dotted black;border-radius: 0.25em;box-sizing: border-box;margin-bottom: 0.5em;}#sk-67c0779a-c8a9-4c3f-9850-f267f25f108b div.sk-estimator:hover {background-color: #d4ebff;}#sk-67c0779a-c8a9-4c3f-9850-f267f25f108b div.sk-parallel-item::after {content: \"\";width: 100%;border-bottom: 1px solid gray;flex-grow: 1;}#sk-67c0779a-c8a9-4c3f-9850-f267f25f108b div.sk-label:hover label.sk-toggleable__label {background-color: #d4ebff;}#sk-67c0779a-c8a9-4c3f-9850-f267f25f108b div.sk-serial::before {content: \"\";position: absolute;border-left: 1px solid gray;box-sizing: border-box;top: 2em;bottom: 0;left: 50%;}#sk-67c0779a-c8a9-4c3f-9850-f267f25f108b div.sk-serial {display: flex;flex-direction: column;align-items: center;background-color: white;padding-right: 0.2em;padding-left: 0.2em;}#sk-67c0779a-c8a9-4c3f-9850-f267f25f108b div.sk-item {z-index: 1;}#sk-67c0779a-c8a9-4c3f-9850-f267f25f108b div.sk-parallel {display: flex;align-items: stretch;justify-content: center;background-color: white;}#sk-67c0779a-c8a9-4c3f-9850-f267f25f108b div.sk-parallel::before {content: \"\";position: absolute;border-left: 1px solid gray;box-sizing: border-box;top: 2em;bottom: 0;left: 50%;}#sk-67c0779a-c8a9-4c3f-9850-f267f25f108b div.sk-parallel-item {display: flex;flex-direction: column;position: relative;background-color: white;}#sk-67c0779a-c8a9-4c3f-9850-f267f25f108b div.sk-parallel-item:first-child::after {align-self: flex-end;width: 50%;}#sk-67c0779a-c8a9-4c3f-9850-f267f25f108b div.sk-parallel-item:last-child::after {align-self: flex-start;width: 50%;}#sk-67c0779a-c8a9-4c3f-9850-f267f25f108b div.sk-parallel-item:only-child::after {width: 0;}#sk-67c0779a-c8a9-4c3f-9850-f267f25f108b div.sk-dashed-wrapped {border: 1px dashed gray;margin: 0 0.4em 0.5em 0.4em;box-sizing: border-box;padding-bottom: 0.4em;background-color: white;position: relative;}#sk-67c0779a-c8a9-4c3f-9850-f267f25f108b div.sk-label label {font-family: monospace;font-weight: bold;background-color: white;display: inline-block;line-height: 1.2em;}#sk-67c0779a-c8a9-4c3f-9850-f267f25f108b div.sk-label-container {position: relative;z-index: 2;text-align: center;}#sk-67c0779a-c8a9-4c3f-9850-f267f25f108b div.sk-container {/* jupyter's `normalize.less` sets `[hidden] { display: none; }` but bootstrap.min.css set `[hidden] { display: none !important; }` so we also need the `!important` here to be able to override the default hidden behavior on the sphinx rendered scikit-learn.org. See: https://github.com/scikit-learn/scikit-learn/issues/21755 */display: inline-block !important;position: relative;}#sk-67c0779a-c8a9-4c3f-9850-f267f25f108b div.sk-text-repr-fallback {display: none;}</style><div id=\"sk-67c0779a-c8a9-4c3f-9850-f267f25f108b\" class=\"sk-top-container\"><div class=\"sk-text-repr-fallback\"><pre>Pipeline(steps=[(&#x27;columntransformer&#x27;,\n",
       "                 ColumnTransformer(transformers=[(&#x27;pipeline&#x27;,\n",
       "                                                  Pipeline(steps=[(&#x27;cleandftransformer&#x27;,\n",
       "                                                                   CleanDFTransformer()),\n",
       "                                                                  (&#x27;tfidfvectorizer&#x27;,\n",
       "                                                                   TfidfVectorizer(min_df=3))]),\n",
       "                                                  [&#x27;text&#x27;])])),\n",
       "                (&#x27;linearsvc&#x27;,\n",
       "                 LinearSVC(C=1, class_weight={0: 0.2, 1: 0.8}, dual=False,\n",
       "                           penalty=&#x27;l1&#x27;))])</pre><b>Please rerun this cell to show the HTML repr or trust the notebook.</b></div><div class=\"sk-container\" hidden><div class=\"sk-item sk-dashed-wrapped\"><div class=\"sk-label-container\"><div class=\"sk-label sk-toggleable\"><input class=\"sk-toggleable__control sk-hidden--visually\" id=\"03df9696-17fd-47a2-9f68-f785d2e68f94\" type=\"checkbox\" ><label for=\"03df9696-17fd-47a2-9f68-f785d2e68f94\" class=\"sk-toggleable__label sk-toggleable__label-arrow\">Pipeline</label><div class=\"sk-toggleable__content\"><pre>Pipeline(steps=[(&#x27;columntransformer&#x27;,\n",
       "                 ColumnTransformer(transformers=[(&#x27;pipeline&#x27;,\n",
       "                                                  Pipeline(steps=[(&#x27;cleandftransformer&#x27;,\n",
       "                                                                   CleanDFTransformer()),\n",
       "                                                                  (&#x27;tfidfvectorizer&#x27;,\n",
       "                                                                   TfidfVectorizer(min_df=3))]),\n",
       "                                                  [&#x27;text&#x27;])])),\n",
       "                (&#x27;linearsvc&#x27;,\n",
       "                 LinearSVC(C=1, class_weight={0: 0.2, 1: 0.8}, dual=False,\n",
       "                           penalty=&#x27;l1&#x27;))])</pre></div></div></div><div class=\"sk-serial\"><div class=\"sk-item sk-dashed-wrapped\"><div class=\"sk-label-container\"><div class=\"sk-label sk-toggleable\"><input class=\"sk-toggleable__control sk-hidden--visually\" id=\"65e00ab7-4290-4b29-ae25-5c535282ff31\" type=\"checkbox\" ><label for=\"65e00ab7-4290-4b29-ae25-5c535282ff31\" class=\"sk-toggleable__label sk-toggleable__label-arrow\">columntransformer: ColumnTransformer</label><div class=\"sk-toggleable__content\"><pre>ColumnTransformer(transformers=[(&#x27;pipeline&#x27;,\n",
       "                                 Pipeline(steps=[(&#x27;cleandftransformer&#x27;,\n",
       "                                                  CleanDFTransformer()),\n",
       "                                                 (&#x27;tfidfvectorizer&#x27;,\n",
       "                                                  TfidfVectorizer(min_df=3))]),\n",
       "                                 [&#x27;text&#x27;])])</pre></div></div></div><div class=\"sk-parallel\"><div class=\"sk-parallel-item\"><div class=\"sk-item\"><div class=\"sk-label-container\"><div class=\"sk-label sk-toggleable\"><input class=\"sk-toggleable__control sk-hidden--visually\" id=\"adfe40bb-3d89-4281-9ee8-e19196d58a68\" type=\"checkbox\" ><label for=\"adfe40bb-3d89-4281-9ee8-e19196d58a68\" class=\"sk-toggleable__label sk-toggleable__label-arrow\">pipeline</label><div class=\"sk-toggleable__content\"><pre>[&#x27;text&#x27;]</pre></div></div></div><div class=\"sk-serial\"><div class=\"sk-item\"><div class=\"sk-serial\"><div class=\"sk-item\"><div class=\"sk-estimator sk-toggleable\"><input class=\"sk-toggleable__control sk-hidden--visually\" id=\"5d9ac365-35c5-4dbc-93e2-959505bb2f25\" type=\"checkbox\" ><label for=\"5d9ac365-35c5-4dbc-93e2-959505bb2f25\" class=\"sk-toggleable__label sk-toggleable__label-arrow\">CleanDFTransformer</label><div class=\"sk-toggleable__content\"><pre>CleanDFTransformer()</pre></div></div></div><div class=\"sk-item\"><div class=\"sk-estimator sk-toggleable\"><input class=\"sk-toggleable__control sk-hidden--visually\" id=\"959ab81e-1117-44bc-9a79-2c329dbbdf91\" type=\"checkbox\" ><label for=\"959ab81e-1117-44bc-9a79-2c329dbbdf91\" class=\"sk-toggleable__label sk-toggleable__label-arrow\">TfidfVectorizer</label><div class=\"sk-toggleable__content\"><pre>TfidfVectorizer(min_df=3)</pre></div></div></div></div></div></div></div></div></div></div><div class=\"sk-item\"><div class=\"sk-estimator sk-toggleable\"><input class=\"sk-toggleable__control sk-hidden--visually\" id=\"6c593c4d-6a1a-40f5-8f01-924c3e511bc3\" type=\"checkbox\" ><label for=\"6c593c4d-6a1a-40f5-8f01-924c3e511bc3\" class=\"sk-toggleable__label sk-toggleable__label-arrow\">LinearSVC</label><div class=\"sk-toggleable__content\"><pre>LinearSVC(C=1, class_weight={0: 0.2, 1: 0.8}, dual=False, penalty=&#x27;l1&#x27;)</pre></div></div></div></div></div></div></div>"
      ],
      "text/plain": [
       "Pipeline(steps=[('columntransformer',\n",
       "                 ColumnTransformer(transformers=[('pipeline',\n",
       "                                                  Pipeline(steps=[('cleandftransformer',\n",
       "                                                                   CleanDFTransformer()),\n",
       "                                                                  ('tfidfvectorizer',\n",
       "                                                                   TfidfVectorizer(min_df=3))]),\n",
       "                                                  ['text'])])),\n",
       "                ('linearsvc',\n",
       "                 LinearSVC(C=1, class_weight={0: 0.2, 1: 0.8}, dual=False,\n",
       "                           penalty='l1'))])"
      ]
     },
     "execution_count": 16,
     "metadata": {},
     "output_type": "execute_result"
    }
   ],
   "source": [
    "package_model.pipeline"
   ]
  },
  {
   "cell_type": "code",
   "execution_count": 17,
   "id": "207a5845",
   "metadata": {},
   "outputs": [],
   "source": [
    "from cyberbullying.transformers import CleanDFTransformer"
   ]
  },
  {
   "cell_type": "code",
   "execution_count": 18,
   "id": "c0df56e4",
   "metadata": {},
   "outputs": [
    {
     "data": {
      "text/plain": [
       "(161664, 1)"
      ]
     },
     "execution_count": 18,
     "metadata": {},
     "output_type": "execute_result"
    }
   ],
   "source": [
    "X_train.shape"
   ]
  },
  {
   "cell_type": "code",
   "execution_count": 19,
   "id": "064644af",
   "metadata": {},
   "outputs": [],
   "source": [
    "#transformer = CleanDFTransformer()"
   ]
  },
  {
   "cell_type": "code",
   "execution_count": 20,
   "id": "7b92922d",
   "metadata": {},
   "outputs": [],
   "source": [
    "#X_train_2 = transformer.fit_transform(X_train)\n",
    "#X_train_2"
   ]
  },
  {
   "cell_type": "code",
   "execution_count": 21,
   "id": "27c09be2",
   "metadata": {},
   "outputs": [],
   "source": [
    "#X_train_2.shape"
   ]
  },
  {
   "cell_type": "code",
   "execution_count": 22,
   "id": "474acc06",
   "metadata": {},
   "outputs": [],
   "source": [
    "#X_train_2.isin([np.inf, -np.inf]).sum()"
   ]
  },
  {
   "cell_type": "code",
   "execution_count": 23,
   "id": "cc799068",
   "metadata": {},
   "outputs": [],
   "source": [
    "#X_train_2['text'].map(lambda text: type(text)).value_counts()"
   ]
  },
  {
   "cell_type": "code",
   "execution_count": 24,
   "id": "c5c8e33f",
   "metadata": {},
   "outputs": [],
   "source": [
    "#X_train_2.isnull().sum()"
   ]
  },
  {
   "cell_type": "code",
   "execution_count": 25,
   "id": "128e5744",
   "metadata": {},
   "outputs": [
    {
     "data": {
      "text/plain": [
       "41325     0.0\n",
       "63081     0.0\n",
       "20725     0.0\n",
       "167785    0.0\n",
       "101388    0.0\n",
       "         ... \n",
       "136405    0.0\n",
       "91714     0.0\n",
       "180664    0.0\n",
       "71438     1.0\n",
       "124281    0.0\n",
       "Name: target, Length: 161664, dtype: float64"
      ]
     },
     "execution_count": 25,
     "metadata": {},
     "output_type": "execute_result"
    }
   ],
   "source": [
    "y_train"
   ]
  },
  {
   "cell_type": "code",
   "execution_count": 26,
   "id": "1a4009c7",
   "metadata": {},
   "outputs": [
    {
     "data": {
      "text/plain": [
       "0"
      ]
     },
     "execution_count": 26,
     "metadata": {},
     "output_type": "execute_result"
    }
   ],
   "source": [
    "y_train.isnull().sum()"
   ]
  },
  {
   "cell_type": "code",
   "execution_count": 27,
   "id": "791d5445",
   "metadata": {},
   "outputs": [],
   "source": [
    "#X_train_2['text'].sort_values()"
   ]
  },
  {
   "cell_type": "code",
   "execution_count": 28,
   "id": "79df9af8",
   "metadata": {},
   "outputs": [],
   "source": [
    "#X_train_2['text'].map(lambda text: len(text)).sort_values()"
   ]
  },
  {
   "cell_type": "code",
   "execution_count": 29,
   "id": "99ccac89",
   "metadata": {},
   "outputs": [],
   "source": [
    "#X_train_2.max()"
   ]
  },
  {
   "cell_type": "code",
   "execution_count": 30,
   "id": "1aeb6ed7",
   "metadata": {},
   "outputs": [],
   "source": [
    "#X_train_2.min()"
   ]
  },
  {
   "cell_type": "code",
   "execution_count": 31,
   "id": "018028d3",
   "metadata": {},
   "outputs": [
    {
     "data": {
      "text/plain": [
       "0.0"
      ]
     },
     "execution_count": 31,
     "metadata": {},
     "output_type": "execute_result"
    }
   ],
   "source": [
    "y_train.min()"
   ]
  },
  {
   "cell_type": "code",
   "execution_count": 32,
   "id": "d24bafe1",
   "metadata": {},
   "outputs": [
    {
     "data": {
      "text/html": [
       "<style>#sk-b88746ca-347e-4948-89d5-7d676e289bae {color: black;background-color: white;}#sk-b88746ca-347e-4948-89d5-7d676e289bae pre{padding: 0;}#sk-b88746ca-347e-4948-89d5-7d676e289bae div.sk-toggleable {background-color: white;}#sk-b88746ca-347e-4948-89d5-7d676e289bae label.sk-toggleable__label {cursor: pointer;display: block;width: 100%;margin-bottom: 0;padding: 0.3em;box-sizing: border-box;text-align: center;}#sk-b88746ca-347e-4948-89d5-7d676e289bae label.sk-toggleable__label-arrow:before {content: \"▸\";float: left;margin-right: 0.25em;color: #696969;}#sk-b88746ca-347e-4948-89d5-7d676e289bae label.sk-toggleable__label-arrow:hover:before {color: black;}#sk-b88746ca-347e-4948-89d5-7d676e289bae div.sk-estimator:hover label.sk-toggleable__label-arrow:before {color: black;}#sk-b88746ca-347e-4948-89d5-7d676e289bae div.sk-toggleable__content {max-height: 0;max-width: 0;overflow: hidden;text-align: left;background-color: #f0f8ff;}#sk-b88746ca-347e-4948-89d5-7d676e289bae div.sk-toggleable__content pre {margin: 0.2em;color: black;border-radius: 0.25em;background-color: #f0f8ff;}#sk-b88746ca-347e-4948-89d5-7d676e289bae input.sk-toggleable__control:checked~div.sk-toggleable__content {max-height: 200px;max-width: 100%;overflow: auto;}#sk-b88746ca-347e-4948-89d5-7d676e289bae input.sk-toggleable__control:checked~label.sk-toggleable__label-arrow:before {content: \"▾\";}#sk-b88746ca-347e-4948-89d5-7d676e289bae div.sk-estimator input.sk-toggleable__control:checked~label.sk-toggleable__label {background-color: #d4ebff;}#sk-b88746ca-347e-4948-89d5-7d676e289bae div.sk-label input.sk-toggleable__control:checked~label.sk-toggleable__label {background-color: #d4ebff;}#sk-b88746ca-347e-4948-89d5-7d676e289bae input.sk-hidden--visually {border: 0;clip: rect(1px 1px 1px 1px);clip: rect(1px, 1px, 1px, 1px);height: 1px;margin: -1px;overflow: hidden;padding: 0;position: absolute;width: 1px;}#sk-b88746ca-347e-4948-89d5-7d676e289bae div.sk-estimator {font-family: monospace;background-color: #f0f8ff;border: 1px dotted black;border-radius: 0.25em;box-sizing: border-box;margin-bottom: 0.5em;}#sk-b88746ca-347e-4948-89d5-7d676e289bae div.sk-estimator:hover {background-color: #d4ebff;}#sk-b88746ca-347e-4948-89d5-7d676e289bae div.sk-parallel-item::after {content: \"\";width: 100%;border-bottom: 1px solid gray;flex-grow: 1;}#sk-b88746ca-347e-4948-89d5-7d676e289bae div.sk-label:hover label.sk-toggleable__label {background-color: #d4ebff;}#sk-b88746ca-347e-4948-89d5-7d676e289bae div.sk-serial::before {content: \"\";position: absolute;border-left: 1px solid gray;box-sizing: border-box;top: 2em;bottom: 0;left: 50%;}#sk-b88746ca-347e-4948-89d5-7d676e289bae div.sk-serial {display: flex;flex-direction: column;align-items: center;background-color: white;padding-right: 0.2em;padding-left: 0.2em;}#sk-b88746ca-347e-4948-89d5-7d676e289bae div.sk-item {z-index: 1;}#sk-b88746ca-347e-4948-89d5-7d676e289bae div.sk-parallel {display: flex;align-items: stretch;justify-content: center;background-color: white;}#sk-b88746ca-347e-4948-89d5-7d676e289bae div.sk-parallel::before {content: \"\";position: absolute;border-left: 1px solid gray;box-sizing: border-box;top: 2em;bottom: 0;left: 50%;}#sk-b88746ca-347e-4948-89d5-7d676e289bae div.sk-parallel-item {display: flex;flex-direction: column;position: relative;background-color: white;}#sk-b88746ca-347e-4948-89d5-7d676e289bae div.sk-parallel-item:first-child::after {align-self: flex-end;width: 50%;}#sk-b88746ca-347e-4948-89d5-7d676e289bae div.sk-parallel-item:last-child::after {align-self: flex-start;width: 50%;}#sk-b88746ca-347e-4948-89d5-7d676e289bae div.sk-parallel-item:only-child::after {width: 0;}#sk-b88746ca-347e-4948-89d5-7d676e289bae div.sk-dashed-wrapped {border: 1px dashed gray;margin: 0 0.4em 0.5em 0.4em;box-sizing: border-box;padding-bottom: 0.4em;background-color: white;position: relative;}#sk-b88746ca-347e-4948-89d5-7d676e289bae div.sk-label label {font-family: monospace;font-weight: bold;background-color: white;display: inline-block;line-height: 1.2em;}#sk-b88746ca-347e-4948-89d5-7d676e289bae div.sk-label-container {position: relative;z-index: 2;text-align: center;}#sk-b88746ca-347e-4948-89d5-7d676e289bae div.sk-container {/* jupyter's `normalize.less` sets `[hidden] { display: none; }` but bootstrap.min.css set `[hidden] { display: none !important; }` so we also need the `!important` here to be able to override the default hidden behavior on the sphinx rendered scikit-learn.org. See: https://github.com/scikit-learn/scikit-learn/issues/21755 */display: inline-block !important;position: relative;}#sk-b88746ca-347e-4948-89d5-7d676e289bae div.sk-text-repr-fallback {display: none;}</style><div id=\"sk-b88746ca-347e-4948-89d5-7d676e289bae\" class=\"sk-top-container\"><div class=\"sk-text-repr-fallback\"><pre>Pipeline(steps=[(&#x27;columntransformer&#x27;,\n",
       "                 ColumnTransformer(transformers=[(&#x27;pipeline&#x27;,\n",
       "                                                  Pipeline(steps=[(&#x27;cleandftransformer&#x27;,\n",
       "                                                                   CleanDFTransformer()),\n",
       "                                                                  (&#x27;tfidfvectorizer&#x27;,\n",
       "                                                                   TfidfVectorizer(min_df=3))]),\n",
       "                                                  [&#x27;text&#x27;])])),\n",
       "                (&#x27;linearsvc&#x27;,\n",
       "                 LinearSVC(C=1, class_weight={0: 0.2, 1: 0.8}, dual=False,\n",
       "                           penalty=&#x27;l1&#x27;))])</pre><b>Please rerun this cell to show the HTML repr or trust the notebook.</b></div><div class=\"sk-container\" hidden><div class=\"sk-item sk-dashed-wrapped\"><div class=\"sk-label-container\"><div class=\"sk-label sk-toggleable\"><input class=\"sk-toggleable__control sk-hidden--visually\" id=\"decac5f9-b096-42b1-917c-c65bd41a083a\" type=\"checkbox\" ><label for=\"decac5f9-b096-42b1-917c-c65bd41a083a\" class=\"sk-toggleable__label sk-toggleable__label-arrow\">Pipeline</label><div class=\"sk-toggleable__content\"><pre>Pipeline(steps=[(&#x27;columntransformer&#x27;,\n",
       "                 ColumnTransformer(transformers=[(&#x27;pipeline&#x27;,\n",
       "                                                  Pipeline(steps=[(&#x27;cleandftransformer&#x27;,\n",
       "                                                                   CleanDFTransformer()),\n",
       "                                                                  (&#x27;tfidfvectorizer&#x27;,\n",
       "                                                                   TfidfVectorizer(min_df=3))]),\n",
       "                                                  [&#x27;text&#x27;])])),\n",
       "                (&#x27;linearsvc&#x27;,\n",
       "                 LinearSVC(C=1, class_weight={0: 0.2, 1: 0.8}, dual=False,\n",
       "                           penalty=&#x27;l1&#x27;))])</pre></div></div></div><div class=\"sk-serial\"><div class=\"sk-item sk-dashed-wrapped\"><div class=\"sk-label-container\"><div class=\"sk-label sk-toggleable\"><input class=\"sk-toggleable__control sk-hidden--visually\" id=\"f7584ccc-d969-46b7-bdfb-c546924c6754\" type=\"checkbox\" ><label for=\"f7584ccc-d969-46b7-bdfb-c546924c6754\" class=\"sk-toggleable__label sk-toggleable__label-arrow\">columntransformer: ColumnTransformer</label><div class=\"sk-toggleable__content\"><pre>ColumnTransformer(transformers=[(&#x27;pipeline&#x27;,\n",
       "                                 Pipeline(steps=[(&#x27;cleandftransformer&#x27;,\n",
       "                                                  CleanDFTransformer()),\n",
       "                                                 (&#x27;tfidfvectorizer&#x27;,\n",
       "                                                  TfidfVectorizer(min_df=3))]),\n",
       "                                 [&#x27;text&#x27;])])</pre></div></div></div><div class=\"sk-parallel\"><div class=\"sk-parallel-item\"><div class=\"sk-item\"><div class=\"sk-label-container\"><div class=\"sk-label sk-toggleable\"><input class=\"sk-toggleable__control sk-hidden--visually\" id=\"1eb51ed7-51e0-455e-90ec-387a98113515\" type=\"checkbox\" ><label for=\"1eb51ed7-51e0-455e-90ec-387a98113515\" class=\"sk-toggleable__label sk-toggleable__label-arrow\">pipeline</label><div class=\"sk-toggleable__content\"><pre>[&#x27;text&#x27;]</pre></div></div></div><div class=\"sk-serial\"><div class=\"sk-item\"><div class=\"sk-serial\"><div class=\"sk-item\"><div class=\"sk-estimator sk-toggleable\"><input class=\"sk-toggleable__control sk-hidden--visually\" id=\"eabca85c-3116-4c17-8abc-ac686b11c144\" type=\"checkbox\" ><label for=\"eabca85c-3116-4c17-8abc-ac686b11c144\" class=\"sk-toggleable__label sk-toggleable__label-arrow\">CleanDFTransformer</label><div class=\"sk-toggleable__content\"><pre>CleanDFTransformer()</pre></div></div></div><div class=\"sk-item\"><div class=\"sk-estimator sk-toggleable\"><input class=\"sk-toggleable__control sk-hidden--visually\" id=\"13a8eec9-47f1-4fd3-a842-c07ca9dab534\" type=\"checkbox\" ><label for=\"13a8eec9-47f1-4fd3-a842-c07ca9dab534\" class=\"sk-toggleable__label sk-toggleable__label-arrow\">TfidfVectorizer</label><div class=\"sk-toggleable__content\"><pre>TfidfVectorizer(min_df=3)</pre></div></div></div></div></div></div></div></div></div></div><div class=\"sk-item\"><div class=\"sk-estimator sk-toggleable\"><input class=\"sk-toggleable__control sk-hidden--visually\" id=\"065f752d-72a3-4423-a1ef-f0190d6520a4\" type=\"checkbox\" ><label for=\"065f752d-72a3-4423-a1ef-f0190d6520a4\" class=\"sk-toggleable__label sk-toggleable__label-arrow\">LinearSVC</label><div class=\"sk-toggleable__content\"><pre>LinearSVC(C=1, class_weight={0: 0.2, 1: 0.8}, dual=False, penalty=&#x27;l1&#x27;)</pre></div></div></div></div></div></div></div>"
      ],
      "text/plain": [
       "Pipeline(steps=[('columntransformer',\n",
       "                 ColumnTransformer(transformers=[('pipeline',\n",
       "                                                  Pipeline(steps=[('cleandftransformer',\n",
       "                                                                   CleanDFTransformer()),\n",
       "                                                                  ('tfidfvectorizer',\n",
       "                                                                   TfidfVectorizer(min_df=3))]),\n",
       "                                                  ['text'])])),\n",
       "                ('linearsvc',\n",
       "                 LinearSVC(C=1, class_weight={0: 0.2, 1: 0.8}, dual=False,\n",
       "                           penalty='l1'))])"
      ]
     },
     "execution_count": 32,
     "metadata": {},
     "output_type": "execute_result"
    }
   ],
   "source": [
    "package_model.pipeline.fit(X_train, y_train)"
   ]
  },
  {
   "cell_type": "code",
   "execution_count": 33,
   "id": "85cc6828",
   "metadata": {},
   "outputs": [],
   "source": [
    "package_model.save_model()"
   ]
  },
  {
   "cell_type": "code",
   "execution_count": 34,
   "id": "f3426e89",
   "metadata": {},
   "outputs": [],
   "source": [
    "from cyberbullying.utils import clean_df"
   ]
  },
  {
   "cell_type": "code",
   "execution_count": 35,
   "id": "2e2210db",
   "metadata": {},
   "outputs": [],
   "source": [
    "y_pred = package_model.predict(X_test)"
   ]
  },
  {
   "cell_type": "code",
   "execution_count": 36,
   "id": "9986c059",
   "metadata": {},
   "outputs": [
    {
     "data": {
      "text/plain": [
       "array([0., 1., 1., ..., 0., 0., 0.])"
      ]
     },
     "execution_count": 36,
     "metadata": {},
     "output_type": "execute_result"
    }
   ],
   "source": [
    "y_pred"
   ]
  },
  {
   "cell_type": "code",
   "execution_count": 37,
   "id": "297815c0",
   "metadata": {},
   "outputs": [],
   "source": [
    "y_pred_proba = package_model.predict_proba(X_test)"
   ]
  },
  {
   "cell_type": "code",
   "execution_count": 38,
   "id": "9e68bde6",
   "metadata": {},
   "outputs": [
    {
     "data": {
      "text/plain": [
       "array([[0.52688261, 0.47311739],\n",
       "       [0.42627074, 0.57372926],\n",
       "       [0.37960947, 0.62039053],\n",
       "       ...,\n",
       "       [0.67093511, 0.32906489],\n",
       "       [0.5903655 , 0.4096345 ],\n",
       "       [0.6428222 , 0.3571778 ]])"
      ]
     },
     "execution_count": 38,
     "metadata": {},
     "output_type": "execute_result"
    }
   ],
   "source": [
    "y_pred_proba"
   ]
  },
  {
   "cell_type": "code",
   "execution_count": 39,
   "id": "e01a4139",
   "metadata": {},
   "outputs": [
    {
     "data": {
      "text/plain": [
       "array([0.52688261, 0.42627074, 0.37960947, ..., 0.67093511, 0.5903655 ,\n",
       "       0.6428222 ])"
      ]
     },
     "execution_count": 39,
     "metadata": {},
     "output_type": "execute_result"
    }
   ],
   "source": [
    "y_pred_proba[:,0]"
   ]
  },
  {
   "cell_type": "code",
   "execution_count": 40,
   "id": "d45c8582",
   "metadata": {},
   "outputs": [
    {
     "name": "stdout",
     "output_type": "stream",
     "text": [
      "Recall: 0.734\n",
      "Precision: 0.611\n",
      "Accuracy: 0.914\n",
      "F1-score: 0.667\n"
     ]
    },
    {
     "data": {
      "text/plain": [
       "(0.734, 0.611, 0.914, 0.667)"
      ]
     },
     "execution_count": 40,
     "metadata": {},
     "output_type": "execute_result"
    },
    {
     "data": {
      "image/png": "[encoded data removed]",
      "text/plain": [
       "<Figure size 432x288 with 2 Axes>"
      ]
     },
     "metadata": {
      "needs_background": "light"
     },
     "output_type": "display_data"
    }
   ],
   "source": [
    "conf_mx_all(y_test, y_pred)"
   ]
  },
  {
   "cell_type": "code",
   "execution_count": 41,
   "id": "fd388440",
   "metadata": {},
   "outputs": [
    {
     "data": {
      "text/html": [
       "<div>\n",
       "<style scoped>\n",
       "    .dataframe tbody tr th:only-of-type {\n",
       "        vertical-align: middle;\n",
       "    }\n",
       "\n",
       "    .dataframe tbody tr th {\n",
       "        vertical-align: top;\n",
       "    }\n",
       "\n",
       "    .dataframe thead th {\n",
       "        text-align: right;\n",
       "    }\n",
       "</style>\n",
       "<table border=\"1\" class=\"dataframe\">\n",
       "  <thead>\n",
       "    <tr style=\"text-align: right;\">\n",
       "      <th></th>\n",
       "      <th>text</th>\n",
       "      <th>proba_0</th>\n",
       "      <th>proba_1</th>\n",
       "      <th>prediction</th>\n",
       "      <th>color</th>\n",
       "    </tr>\n",
       "  </thead>\n",
       "  <tbody>\n",
       "    <tr>\n",
       "      <th>216249</th>\n",
       "      <td>@mutaSawwif @TawheedNetwork_ Are you actually ...</td>\n",
       "      <td>0.526883</td>\n",
       "      <td>0.473117</td>\n",
       "      <td>0.0</td>\n",
       "      <td>None</td>\n",
       "    </tr>\n",
       "    <tr>\n",
       "      <th>200383</th>\n",
       "      <td>== Excuse you? ==  Did you just fart?</td>\n",
       "      <td>0.426271</td>\n",
       "      <td>0.573729</td>\n",
       "      <td>1.0</td>\n",
       "      <td>yellow</td>\n",
       "    </tr>\n",
       "    <tr>\n",
       "      <th>29777</th>\n",
       "      <td>MY IP IS DYNAMIC AND MY PENIS IS 10 INCHES LONG</td>\n",
       "      <td>0.379609</td>\n",
       "      <td>0.620391</td>\n",
       "      <td>1.0</td>\n",
       "      <td>yellow</td>\n",
       "    </tr>\n",
       "    <tr>\n",
       "      <th>9952</th>\n",
       "      <td>`  Hi, , Welcome to Wikipedia!    I hope you l...</td>\n",
       "      <td>0.778035</td>\n",
       "      <td>0.221965</td>\n",
       "      <td>0.0</td>\n",
       "      <td>None</td>\n",
       "    </tr>\n",
       "    <tr>\n",
       "      <th>72162</th>\n",
       "      <td>`   Please do not vandalize pages, as you did ...</td>\n",
       "      <td>0.748132</td>\n",
       "      <td>0.251868</td>\n",
       "      <td>0.0</td>\n",
       "      <td>None</td>\n",
       "    </tr>\n",
       "    <tr>\n",
       "      <th>...</th>\n",
       "      <td>...</td>\n",
       "      <td>...</td>\n",
       "      <td>...</td>\n",
       "      <td>...</td>\n",
       "      <td>...</td>\n",
       "    </tr>\n",
       "    <tr>\n",
       "      <th>19723</th>\n",
       "      <td>My two demands are, leave the flagship alone...</td>\n",
       "      <td>0.456701</td>\n",
       "      <td>0.543299</td>\n",
       "      <td>1.0</td>\n",
       "      <td>yellow</td>\n",
       "    </tr>\n",
       "    <tr>\n",
       "      <th>49595</th>\n",
       "      <td>::Note that someone tossed the page up for d...</td>\n",
       "      <td>0.663896</td>\n",
       "      <td>0.336104</td>\n",
       "      <td>0.0</td>\n",
       "      <td>None</td>\n",
       "    </tr>\n",
       "    <tr>\n",
       "      <th>131669</th>\n",
       "      <td>`  Only thing relevant here is but ``THE' SHIT...</td>\n",
       "      <td>0.670935</td>\n",
       "      <td>0.329065</td>\n",
       "      <td>0.0</td>\n",
       "      <td>None</td>\n",
       "    </tr>\n",
       "    <tr>\n",
       "      <th>84864</th>\n",
       "      <td>`right about the body though it's quite possib...</td>\n",
       "      <td>0.590365</td>\n",
       "      <td>0.409635</td>\n",
       "      <td>0.0</td>\n",
       "      <td>None</td>\n",
       "    </tr>\n",
       "    <tr>\n",
       "      <th>37780</th>\n",
       "      <td>:::Fine. But which ancient or medieval bridg...</td>\n",
       "      <td>0.642822</td>\n",
       "      <td>0.357178</td>\n",
       "      <td>0.0</td>\n",
       "      <td>None</td>\n",
       "    </tr>\n",
       "  </tbody>\n",
       "</table>\n",
       "<p>69285 rows × 5 columns</p>\n",
       "</div>"
      ],
      "text/plain": [
       "                                                     text   proba_0   proba_1  \\\n",
       "216249  @mutaSawwif @TawheedNetwork_ Are you actually ...  0.526883  0.473117   \n",
       "200383              == Excuse you? ==  Did you just fart?  0.426271  0.573729   \n",
       "29777    MY IP IS DYNAMIC AND MY PENIS IS 10 INCHES LONG   0.379609  0.620391   \n",
       "9952    `  Hi, , Welcome to Wikipedia!    I hope you l...  0.778035  0.221965   \n",
       "72162   `   Please do not vandalize pages, as you did ...  0.748132  0.251868   \n",
       "...                                                   ...       ...       ...   \n",
       "19723     My two demands are, leave the flagship alone...  0.456701  0.543299   \n",
       "49595     ::Note that someone tossed the page up for d...  0.663896  0.336104   \n",
       "131669  `  Only thing relevant here is but ``THE' SHIT...  0.670935  0.329065   \n",
       "84864   `right about the body though it's quite possib...  0.590365  0.409635   \n",
       "37780     :::Fine. But which ancient or medieval bridg...  0.642822  0.357178   \n",
       "\n",
       "        prediction   color  \n",
       "216249         0.0    None  \n",
       "200383         1.0  yellow  \n",
       "29777          1.0  yellow  \n",
       "9952           0.0    None  \n",
       "72162          0.0    None  \n",
       "...            ...     ...  \n",
       "19723          1.0  yellow  \n",
       "49595          0.0    None  \n",
       "131669         0.0    None  \n",
       "84864          0.0    None  \n",
       "37780          0.0    None  \n",
       "\n",
       "[69285 rows x 5 columns]"
      ]
     },
     "execution_count": 41,
     "metadata": {},
     "output_type": "execute_result"
    }
   ],
   "source": [
    "package_model.predict_all(X_test)"
   ]
  },
  {
   "cell_type": "code",
   "execution_count": 42,
   "id": "be4904a6",
   "metadata": {},
   "outputs": [
    {
     "data": {
      "text/html": [
       "<div>\n",
       "<style scoped>\n",
       "    .dataframe tbody tr th:only-of-type {\n",
       "        vertical-align: middle;\n",
       "    }\n",
       "\n",
       "    .dataframe tbody tr th {\n",
       "        vertical-align: top;\n",
       "    }\n",
       "\n",
       "    .dataframe thead th {\n",
       "        text-align: right;\n",
       "    }\n",
       "</style>\n",
       "<table border=\"1\" class=\"dataframe\">\n",
       "  <thead>\n",
       "    <tr style=\"text-align: right;\">\n",
       "      <th></th>\n",
       "      <th>text</th>\n",
       "      <th>target</th>\n",
       "    </tr>\n",
       "  </thead>\n",
       "  <tbody>\n",
       "    <tr>\n",
       "      <th>137792</th>\n",
       "      <td>`  ::See in my userpage the Articles I've crea...</td>\n",
       "      <td>0.0</td>\n",
       "    </tr>\n",
       "    <tr>\n",
       "      <th>153873</th>\n",
       "      <td>== Transnistria ==  The recent addition to t...</td>\n",
       "      <td>0.0</td>\n",
       "    </tr>\n",
       "    <tr>\n",
       "      <th>53601</th>\n",
       "      <td>`  Note also that the previously highlighted t...</td>\n",
       "      <td>0.0</td>\n",
       "    </tr>\n",
       "    <tr>\n",
       "      <th>205335</th>\n",
       "      <td>@Damhan97 @niall_cullen @AC360 Having more chi...</td>\n",
       "      <td>1.0</td>\n",
       "    </tr>\n",
       "    <tr>\n",
       "      <th>213374</th>\n",
       "      <td>RT @howlintwolf I swear it's not sexist but Ch...</td>\n",
       "      <td>1.0</td>\n",
       "    </tr>\n",
       "    <tr>\n",
       "      <th>159241</th>\n",
       "      <td>== Skywalk / new tourist attraction ==  Wire...</td>\n",
       "      <td>0.0</td>\n",
       "    </tr>\n",
       "    <tr>\n",
       "      <th>35902</th>\n",
       "      <td>33, 2 March 2007 (UTC) ::::::::::::You are bei...</td>\n",
       "      <td>0.0</td>\n",
       "    </tr>\n",
       "    <tr>\n",
       "      <th>222384</th>\n",
       "      <td>\"@nilbymouth \\\\n\\\\nYou are right concerning Ca...</td>\n",
       "      <td>0.0</td>\n",
       "    </tr>\n",
       "    <tr>\n",
       "      <th>146068</th>\n",
       "      <td>`   :::::ETTENTIO PLEASE ::``Israeli offensive...</td>\n",
       "      <td>0.0</td>\n",
       "    </tr>\n",
       "    <tr>\n",
       "      <th>202625</th>\n",
       "      <td>Saudi cleric: \"sun revolves around the earth.\"...</td>\n",
       "      <td>1.0</td>\n",
       "    </tr>\n",
       "    <tr>\n",
       "      <th>14307</th>\n",
       "      <td>Gsd2000, I saw the comments by Rjensen and Gra...</td>\n",
       "      <td>0.0</td>\n",
       "    </tr>\n",
       "    <tr>\n",
       "      <th>151501</th>\n",
       "      <td>Funny, I don't feel blocked.</td>\n",
       "      <td>0.0</td>\n",
       "    </tr>\n",
       "    <tr>\n",
       "      <th>35384</th>\n",
       "      <td>`  == Czech Republic ==  I am sorry but I am C...</td>\n",
       "      <td>0.0</td>\n",
       "    </tr>\n",
       "    <tr>\n",
       "      <th>125125</th>\n",
       "      <td>`  == I would like answers please ==  Please s...</td>\n",
       "      <td>0.0</td>\n",
       "    </tr>\n",
       "    <tr>\n",
       "      <th>15506</th>\n",
       "      <td>=Twisted Facts=  1. Wal-Mart does not spend ...</td>\n",
       "      <td>0.0</td>\n",
       "    </tr>\n",
       "    <tr>\n",
       "      <th>81596</th>\n",
       "      <td>== RDT ==  Just a quick question, should the...</td>\n",
       "      <td>0.0</td>\n",
       "    </tr>\n",
       "    <tr>\n",
       "      <th>157632</th>\n",
       "      <td>| accept=Allowing username change to requested...</td>\n",
       "      <td>0.0</td>\n",
       "    </tr>\n",
       "    <tr>\n",
       "      <th>156639</th>\n",
       "      <td>` ::::I'm sure you'll do finely without me her...</td>\n",
       "      <td>0.0</td>\n",
       "    </tr>\n",
       "    <tr>\n",
       "      <th>210727</th>\n",
       "      <td>@discerningmumin So if you are against slavery...</td>\n",
       "      <td>1.0</td>\n",
       "    </tr>\n",
       "    <tr>\n",
       "      <th>193267</th>\n",
       "      <td>::::::I never said that this article has to ...</td>\n",
       "      <td>0.0</td>\n",
       "    </tr>\n",
       "  </tbody>\n",
       "</table>\n",
       "</div>"
      ],
      "text/plain": [
       "                                                     text  target\n",
       "137792  `  ::See in my userpage the Articles I've crea...     0.0\n",
       "153873    == Transnistria ==  The recent addition to t...     0.0\n",
       "53601   `  Note also that the previously highlighted t...     0.0\n",
       "205335  @Damhan97 @niall_cullen @AC360 Having more chi...     1.0\n",
       "213374  RT @howlintwolf I swear it's not sexist but Ch...     1.0\n",
       "159241    == Skywalk / new tourist attraction ==  Wire...     0.0\n",
       "35902   33, 2 March 2007 (UTC) ::::::::::::You are bei...     0.0\n",
       "222384  \"@nilbymouth \\\\n\\\\nYou are right concerning Ca...     0.0\n",
       "146068  `   :::::ETTENTIO PLEASE ::``Israeli offensive...     0.0\n",
       "202625  Saudi cleric: \"sun revolves around the earth.\"...     1.0\n",
       "14307   Gsd2000, I saw the comments by Rjensen and Gra...     0.0\n",
       "151501                     Funny, I don't feel blocked.       0.0\n",
       "35384   `  == Czech Republic ==  I am sorry but I am C...     0.0\n",
       "125125  `  == I would like answers please ==  Please s...     0.0\n",
       "15506     =Twisted Facts=  1. Wal-Mart does not spend ...     0.0\n",
       "81596     == RDT ==  Just a quick question, should the...     0.0\n",
       "157632  | accept=Allowing username change to requested...     0.0\n",
       "156639  ` ::::I'm sure you'll do finely without me her...     0.0\n",
       "210727  @discerningmumin So if you are against slavery...     1.0\n",
       "193267    ::::::I never said that this article has to ...     0.0"
      ]
     },
     "execution_count": 42,
     "metadata": {},
     "output_type": "execute_result"
    }
   ],
   "source": [
    "pd.DataFrame({'text': X_test['text'], 'target': y_test})[60:80]"
   ]
  },
  {
   "cell_type": "code",
   "execution_count": 43,
   "id": "519a0864",
   "metadata": {},
   "outputs": [
    {
     "data": {
      "text/plain": [
       "'@discerningmumin So if you are against slavery, you cannot be a Muslim. So why are you crying about slavery when the Quran approves it?'"
      ]
     },
     "execution_count": 43,
     "metadata": {},
     "output_type": "execute_result"
    }
   ],
   "source": [
    "X_test.loc[210727, 'text']"
   ]
  },
  {
   "cell_type": "code",
   "execution_count": 44,
   "id": "3392aa96",
   "metadata": {},
   "outputs": [
    {
     "data": {
      "text/plain": [
       "\"`  :::Why is ``per second`` the most important measurement? That little factoid is about a policy which doesn't apply per second; it applies per month. Converting it to any other time frame makes it meaningless.   /  `\""
      ]
     },
     "execution_count": 44,
     "metadata": {},
     "output_type": "execute_result"
    }
   ],
   "source": [
    "X_test.iloc[20,:]['text']"
   ]
  },
  {
   "cell_type": "code",
   "execution_count": 45,
   "id": "73a8a7b3",
   "metadata": {},
   "outputs": [],
   "source": [
    "#texto = '`   Please do not vandalize pages, as you did with this edit to Rhode Island. If you continue to do so, you will be blocked from editing.  \\xa0–\\xa0 `'"
   ]
  },
  {
   "cell_type": "code",
   "execution_count": 46,
   "id": "68c5b990",
   "metadata": {},
   "outputs": [],
   "source": [
    "texto = X_test.loc[210727,:]['text']"
   ]
  },
  {
   "cell_type": "code",
   "execution_count": 47,
   "id": "67ed4d44",
   "metadata": {},
   "outputs": [
    {
     "data": {
      "text/plain": [
       "array([1.])"
      ]
     },
     "execution_count": 47,
     "metadata": {},
     "output_type": "execute_result"
    }
   ],
   "source": [
    "package_model.predict(texto)"
   ]
  },
  {
   "cell_type": "code",
   "execution_count": 48,
   "id": "3d07ff2b",
   "metadata": {},
   "outputs": [
    {
     "data": {
      "text/plain": [
       "array([[0.30478071, 0.69521929]])"
      ]
     },
     "execution_count": 48,
     "metadata": {},
     "output_type": "execute_result"
    }
   ],
   "source": [
    "package_model.predict_proba(texto)"
   ]
  },
  {
   "cell_type": "code",
   "execution_count": 49,
   "id": "f09b04cc",
   "metadata": {
    "scrolled": true
   },
   "outputs": [
    {
     "data": {
      "text/html": [
       "<div>\n",
       "<style scoped>\n",
       "    .dataframe tbody tr th:only-of-type {\n",
       "        vertical-align: middle;\n",
       "    }\n",
       "\n",
       "    .dataframe tbody tr th {\n",
       "        vertical-align: top;\n",
       "    }\n",
       "\n",
       "    .dataframe thead th {\n",
       "        text-align: right;\n",
       "    }\n",
       "</style>\n",
       "<table border=\"1\" class=\"dataframe\">\n",
       "  <thead>\n",
       "    <tr style=\"text-align: right;\">\n",
       "      <th></th>\n",
       "      <th>text</th>\n",
       "      <th>proba_0</th>\n",
       "      <th>proba_1</th>\n",
       "      <th>prediction</th>\n",
       "      <th>color</th>\n",
       "    </tr>\n",
       "  </thead>\n",
       "  <tbody>\n",
       "    <tr>\n",
       "      <th>0</th>\n",
       "      <td>@discerningmumin</td>\n",
       "      <td>0.649911</td>\n",
       "      <td>0.350089</td>\n",
       "      <td>0.0</td>\n",
       "      <td>None</td>\n",
       "    </tr>\n",
       "    <tr>\n",
       "      <th>1</th>\n",
       "      <td>So</td>\n",
       "      <td>0.649911</td>\n",
       "      <td>0.350089</td>\n",
       "      <td>0.0</td>\n",
       "      <td>None</td>\n",
       "    </tr>\n",
       "    <tr>\n",
       "      <th>2</th>\n",
       "      <td>if</td>\n",
       "      <td>0.649911</td>\n",
       "      <td>0.350089</td>\n",
       "      <td>0.0</td>\n",
       "      <td>None</td>\n",
       "    </tr>\n",
       "    <tr>\n",
       "      <th>3</th>\n",
       "      <td>you</td>\n",
       "      <td>0.649911</td>\n",
       "      <td>0.350089</td>\n",
       "      <td>0.0</td>\n",
       "      <td>None</td>\n",
       "    </tr>\n",
       "    <tr>\n",
       "      <th>4</th>\n",
       "      <td>are</td>\n",
       "      <td>0.649911</td>\n",
       "      <td>0.350089</td>\n",
       "      <td>0.0</td>\n",
       "      <td>None</td>\n",
       "    </tr>\n",
       "    <tr>\n",
       "      <th>5</th>\n",
       "      <td>against</td>\n",
       "      <td>0.649911</td>\n",
       "      <td>0.350089</td>\n",
       "      <td>0.0</td>\n",
       "      <td>None</td>\n",
       "    </tr>\n",
       "    <tr>\n",
       "      <th>6</th>\n",
       "      <td>slavery,</td>\n",
       "      <td>0.473745</td>\n",
       "      <td>0.526255</td>\n",
       "      <td>1.0</td>\n",
       "      <td>yellow</td>\n",
       "    </tr>\n",
       "    <tr>\n",
       "      <th>7</th>\n",
       "      <td>you</td>\n",
       "      <td>0.649911</td>\n",
       "      <td>0.350089</td>\n",
       "      <td>0.0</td>\n",
       "      <td>None</td>\n",
       "    </tr>\n",
       "    <tr>\n",
       "      <th>8</th>\n",
       "      <td>cannot</td>\n",
       "      <td>0.649911</td>\n",
       "      <td>0.350089</td>\n",
       "      <td>0.0</td>\n",
       "      <td>None</td>\n",
       "    </tr>\n",
       "    <tr>\n",
       "      <th>9</th>\n",
       "      <td>be</td>\n",
       "      <td>0.649911</td>\n",
       "      <td>0.350089</td>\n",
       "      <td>0.0</td>\n",
       "      <td>None</td>\n",
       "    </tr>\n",
       "    <tr>\n",
       "      <th>10</th>\n",
       "      <td>a</td>\n",
       "      <td>0.649911</td>\n",
       "      <td>0.350089</td>\n",
       "      <td>0.0</td>\n",
       "      <td>None</td>\n",
       "    </tr>\n",
       "    <tr>\n",
       "      <th>11</th>\n",
       "      <td>Muslim.</td>\n",
       "      <td>0.268222</td>\n",
       "      <td>0.731778</td>\n",
       "      <td>1.0</td>\n",
       "      <td>orange</td>\n",
       "    </tr>\n",
       "    <tr>\n",
       "      <th>12</th>\n",
       "      <td>So</td>\n",
       "      <td>0.649911</td>\n",
       "      <td>0.350089</td>\n",
       "      <td>0.0</td>\n",
       "      <td>None</td>\n",
       "    </tr>\n",
       "    <tr>\n",
       "      <th>13</th>\n",
       "      <td>why</td>\n",
       "      <td>0.649911</td>\n",
       "      <td>0.350089</td>\n",
       "      <td>0.0</td>\n",
       "      <td>None</td>\n",
       "    </tr>\n",
       "    <tr>\n",
       "      <th>14</th>\n",
       "      <td>are</td>\n",
       "      <td>0.649911</td>\n",
       "      <td>0.350089</td>\n",
       "      <td>0.0</td>\n",
       "      <td>None</td>\n",
       "    </tr>\n",
       "    <tr>\n",
       "      <th>15</th>\n",
       "      <td>you</td>\n",
       "      <td>0.649911</td>\n",
       "      <td>0.350089</td>\n",
       "      <td>0.0</td>\n",
       "      <td>None</td>\n",
       "    </tr>\n",
       "    <tr>\n",
       "      <th>16</th>\n",
       "      <td>crying</td>\n",
       "      <td>0.577285</td>\n",
       "      <td>0.422715</td>\n",
       "      <td>0.0</td>\n",
       "      <td>None</td>\n",
       "    </tr>\n",
       "    <tr>\n",
       "      <th>17</th>\n",
       "      <td>about</td>\n",
       "      <td>0.649911</td>\n",
       "      <td>0.350089</td>\n",
       "      <td>0.0</td>\n",
       "      <td>None</td>\n",
       "    </tr>\n",
       "    <tr>\n",
       "      <th>18</th>\n",
       "      <td>slavery</td>\n",
       "      <td>0.473745</td>\n",
       "      <td>0.526255</td>\n",
       "      <td>1.0</td>\n",
       "      <td>yellow</td>\n",
       "    </tr>\n",
       "    <tr>\n",
       "      <th>19</th>\n",
       "      <td>when</td>\n",
       "      <td>0.649911</td>\n",
       "      <td>0.350089</td>\n",
       "      <td>0.0</td>\n",
       "      <td>None</td>\n",
       "    </tr>\n",
       "    <tr>\n",
       "      <th>20</th>\n",
       "      <td>the</td>\n",
       "      <td>0.649911</td>\n",
       "      <td>0.350089</td>\n",
       "      <td>0.0</td>\n",
       "      <td>None</td>\n",
       "    </tr>\n",
       "    <tr>\n",
       "      <th>21</th>\n",
       "      <td>Quran</td>\n",
       "      <td>0.384827</td>\n",
       "      <td>0.615173</td>\n",
       "      <td>1.0</td>\n",
       "      <td>yellow</td>\n",
       "    </tr>\n",
       "    <tr>\n",
       "      <th>22</th>\n",
       "      <td>approves</td>\n",
       "      <td>0.649911</td>\n",
       "      <td>0.350089</td>\n",
       "      <td>0.0</td>\n",
       "      <td>None</td>\n",
       "    </tr>\n",
       "    <tr>\n",
       "      <th>23</th>\n",
       "      <td>it?</td>\n",
       "      <td>0.649911</td>\n",
       "      <td>0.350089</td>\n",
       "      <td>0.0</td>\n",
       "      <td>None</td>\n",
       "    </tr>\n",
       "  </tbody>\n",
       "</table>\n",
       "</div>"
      ],
      "text/plain": [
       "                text   proba_0   proba_1  prediction   color\n",
       "0   @discerningmumin  0.649911  0.350089         0.0    None\n",
       "1                 So  0.649911  0.350089         0.0    None\n",
       "2                 if  0.649911  0.350089         0.0    None\n",
       "3                you  0.649911  0.350089         0.0    None\n",
       "4                are  0.649911  0.350089         0.0    None\n",
       "5            against  0.649911  0.350089         0.0    None\n",
       "6           slavery,  0.473745  0.526255         1.0  yellow\n",
       "7                you  0.649911  0.350089         0.0    None\n",
       "8             cannot  0.649911  0.350089         0.0    None\n",
       "9                 be  0.649911  0.350089         0.0    None\n",
       "10                 a  0.649911  0.350089         0.0    None\n",
       "11           Muslim.  0.268222  0.731778         1.0  orange\n",
       "12                So  0.649911  0.350089         0.0    None\n",
       "13               why  0.649911  0.350089         0.0    None\n",
       "14               are  0.649911  0.350089         0.0    None\n",
       "15               you  0.649911  0.350089         0.0    None\n",
       "16            crying  0.577285  0.422715         0.0    None\n",
       "17             about  0.649911  0.350089         0.0    None\n",
       "18           slavery  0.473745  0.526255         1.0  yellow\n",
       "19              when  0.649911  0.350089         0.0    None\n",
       "20               the  0.649911  0.350089         0.0    None\n",
       "21             Quran  0.384827  0.615173         1.0  yellow\n",
       "22          approves  0.649911  0.350089         0.0    None\n",
       "23               it?  0.649911  0.350089         0.0    None"
      ]
     },
     "execution_count": 49,
     "metadata": {},
     "output_type": "execute_result"
    }
   ],
   "source": [
    "package_model.predict_simple_text(texto)"
   ]
  },
  {
   "cell_type": "code",
   "execution_count": 61,
   "id": "d10adccb",
   "metadata": {},
   "outputs": [
    {
     "data": {
      "text/plain": [
       "{'prediction': 1.0,\n",
       " 'text': '@discerningmumin So if you are against <yellow>slavery,</yellow> you cannot be a <orange>Muslim.</orange> So why are you crying about <yellow>slavery</yellow> when the <yellow>Quran</yellow> approves it?'}"
      ]
     },
     "execution_count": 61,
     "metadata": {},
     "output_type": "execute_result"
    }
   ],
   "source": [
    "test_html = package_model.predict_phrase(texto)\n",
    "test_html"
   ]
  },
  {
   "cell_type": "code",
   "execution_count": null,
   "id": "a19cc6c4",
   "metadata": {},
   "outputs": [],
   "source": []
  },
  {
   "cell_type": "code",
   "execution_count": null,
   "id": "4dc37ce6",
   "metadata": {},
   "outputs": [],
   "source": []
  },
  {
   "cell_type": "code",
   "execution_count": null,
   "id": "34478246",
   "metadata": {},
   "outputs": [],
   "source": []
  },
  {
   "cell_type": "code",
   "execution_count": 51,
   "id": "e3dd2261",
   "metadata": {},
   "outputs": [],
   "source": [
    "#package_model.predict_all(' Your a prick. keep your personal thoughts to your self. Jeff is the best driver ever and thats a fact. You musy be an idiot redneck.')"
   ]
  },
  {
   "cell_type": "code",
   "execution_count": 52,
   "id": "d1ef4e36",
   "metadata": {},
   "outputs": [],
   "source": [
    "#package_model.predict_simple_text(' Your a prick. keep your personal thoughts to your self. Jeff is the best driver ever and thats a fact. You musy be an idiot redneck.')"
   ]
  },
  {
   "cell_type": "code",
   "execution_count": 53,
   "id": "632ac61b",
   "metadata": {},
   "outputs": [],
   "source": [
    "from cyberbullying.utils import get_trained_model, save_trained_model"
   ]
  },
  {
   "cell_type": "code",
   "execution_count": 54,
   "id": "f39c5fcf",
   "metadata": {},
   "outputs": [],
   "source": [
    "save_trained_model(package_model)"
   ]
  },
  {
   "cell_type": "code",
   "execution_count": 55,
   "id": "e73bb925",
   "metadata": {},
   "outputs": [],
   "source": [
    "trained_model = get_trained_model()"
   ]
  },
  {
   "cell_type": "code",
   "execution_count": 56,
   "id": "429e84e8",
   "metadata": {},
   "outputs": [
    {
     "data": {
      "text/plain": [
       "<cyberbullying.models.MLModel at 0x7f4f14f6c1f0>"
      ]
     },
     "execution_count": 56,
     "metadata": {},
     "output_type": "execute_result"
    }
   ],
   "source": [
    "trained_model"
   ]
  },
  {
   "cell_type": "code",
   "execution_count": 57,
   "id": "398bd9cf",
   "metadata": {},
   "outputs": [
    {
     "data": {
      "text/plain": [
       "array([1.])"
      ]
     },
     "execution_count": 57,
     "metadata": {},
     "output_type": "execute_result"
    }
   ],
   "source": [
    "trained_model.predict(texto)"
   ]
  },
  {
   "cell_type": "code",
   "execution_count": 58,
   "id": "40496a9d",
   "metadata": {},
   "outputs": [
    {
     "data": {
      "text/plain": [
       "array([[0.30478071, 0.69521929]])"
      ]
     },
     "execution_count": 58,
     "metadata": {},
     "output_type": "execute_result"
    }
   ],
   "source": [
    "trained_model.predict_proba(texto)"
   ]
  },
  {
   "cell_type": "code",
   "execution_count": 60,
   "id": "b7e26736",
   "metadata": {},
   "outputs": [
    {
     "data": {
      "text/plain": [
       "{'prediction': 1.0,\n",
       " 'text': '@discerningmumin So if you are against <yellow>slavery,</yellow> you cannot be a <orange>Muslim.</orange> So why are you crying about <yellow>slavery</yellow> when the <yellow>Quran</yellow> approves it?'}"
      ]
     },
     "execution_count": 60,
     "metadata": {},
     "output_type": "execute_result"
    }
   ],
   "source": [
    "trained_model.predict_phrase(texto)"
   ]
  },
  {
   "cell_type": "code",
   "execution_count": null,
   "id": "804d11c8",
   "metadata": {},
   "outputs": [],
   "source": []
  }
 ],
 "metadata": {
  "kernelspec": {
   "display_name": "Python 3 (ipykernel)",
   "language": "python",
   "name": "python3"
  },
  "language_info": {
   "codemirror_mode": {
    "name": "ipython",
    "version": 3
   },
   "file_extension": ".py",
   "mimetype": "text/x-python",
   "name": "python",
   "nbconvert_exporter": "python",
   "pygments_lexer": "ipython3",
   "version": "3.8.12"
  },
  "toc": {
   "base_numbering": 1,
   "nav_menu": {},
   "number_sections": true,
   "sideBar": true,
   "skip_h1_title": false,
   "title_cell": "Table of Contents",
   "title_sidebar": "Contents",
   "toc_cell": false,
   "toc_position": {},
   "toc_section_display": true,
   "toc_window_display": false
  }
 },
 "nbformat": 4,
 "nbformat_minor": 5
}
