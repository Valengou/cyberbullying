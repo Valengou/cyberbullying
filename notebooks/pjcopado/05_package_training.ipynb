{
 "cells": [
  {
   "cell_type": "code",
   "execution_count": 1,
   "id": "0143b7fe",
   "metadata": {},
   "outputs": [],
   "source": [
    "%load_ext autoreload\n",
    "%autoreload 2"
   ]
  },
  {
   "cell_type": "code",
   "execution_count": 2,
   "id": "4a9095ee",
   "metadata": {},
   "outputs": [],
   "source": [
    "from cyberbullying.data import Data\n",
    "from cyberbullying.models import MLModel, MLClassifier\n",
    "from cyberbullying.utils import conf_mx_all\n",
    "from sklearn.metrics import classification_report"
   ]
  },
  {
   "cell_type": "code",
   "execution_count": 3,
   "id": "05033264",
   "metadata": {},
   "outputs": [],
   "source": [
    "from sklearn.model_selection import train_test_split\n",
    "import numpy as np\n",
    "import pandas as pd"
   ]
  },
  {
   "cell_type": "code",
   "execution_count": 4,
   "id": "f0065034",
   "metadata": {},
   "outputs": [],
   "source": [
    "import joblib"
   ]
  },
  {
   "cell_type": "code",
   "execution_count": 5,
   "id": "9a1314e5",
   "metadata": {},
   "outputs": [],
   "source": [
    "from sklearn import set_config\n",
    "set_config(display='diagram')"
   ]
  },
  {
   "cell_type": "code",
   "execution_count": 24,
   "id": "859f1bc8",
   "metadata": {},
   "outputs": [
    {
     "name": "stdout",
     "output_type": "stream",
     "text": [
      "dict_keys(['toxicity', 'aggression', 'twitter', 'twitter_racism', 'twitter_sexism', 'youtube', 'kaggle'])\n",
      "['toxicity', 'aggression', 'twitter', 'twitter_racism', 'twitter_sexism', 'youtube', 'kaggle']\n"
     ]
    }
   ],
   "source": [
    "data = Data().get_data(datasets='all')"
   ]
  },
  {
   "cell_type": "code",
   "execution_count": 25,
   "id": "6991e126",
   "metadata": {},
   "outputs": [
    {
     "data": {
      "text/html": [
       "<div>\n",
       "<style scoped>\n",
       "    .dataframe tbody tr th:only-of-type {\n",
       "        vertical-align: middle;\n",
       "    }\n",
       "\n",
       "    .dataframe tbody tr th {\n",
       "        vertical-align: top;\n",
       "    }\n",
       "\n",
       "    .dataframe thead th {\n",
       "        text-align: right;\n",
       "    }\n",
       "</style>\n",
       "<table border=\"1\" class=\"dataframe\">\n",
       "  <thead>\n",
       "    <tr style=\"text-align: right;\">\n",
       "      <th></th>\n",
       "      <th>text</th>\n",
       "      <th>target</th>\n",
       "    </tr>\n",
       "  </thead>\n",
       "  <tbody>\n",
       "    <tr>\n",
       "      <th>0</th>\n",
       "      <td>This: :One can make an analogy in mathematical...</td>\n",
       "      <td>0.0</td>\n",
       "    </tr>\n",
       "    <tr>\n",
       "      <th>1</th>\n",
       "      <td>`  :Clarification for you  (and Zundark's righ...</td>\n",
       "      <td>0.0</td>\n",
       "    </tr>\n",
       "    <tr>\n",
       "      <th>2</th>\n",
       "      <td>Elected or Electoral? JHK</td>\n",
       "      <td>0.0</td>\n",
       "    </tr>\n",
       "    <tr>\n",
       "      <th>3</th>\n",
       "      <td>`This is such a fun entry.   Devotchka  I once...</td>\n",
       "      <td>0.0</td>\n",
       "    </tr>\n",
       "    <tr>\n",
       "      <th>4</th>\n",
       "      <td>Please relate the ozone hole to increases in c...</td>\n",
       "      <td>0.0</td>\n",
       "    </tr>\n",
       "    <tr>\n",
       "      <th>...</th>\n",
       "      <td>...</td>\n",
       "      <td>...</td>\n",
       "    </tr>\n",
       "    <tr>\n",
       "      <th>230464</th>\n",
       "      <td>\"Never really gave it much thought. I just fig...</td>\n",
       "      <td>0.0</td>\n",
       "    </tr>\n",
       "    <tr>\n",
       "      <th>230465</th>\n",
       "      <td>\"Nadie se salva de la regla 34 xd\"</td>\n",
       "      <td>0.0</td>\n",
       "    </tr>\n",
       "    <tr>\n",
       "      <th>230466</th>\n",
       "      <td>\"Question: Are you a boy or a girl?\"</td>\n",
       "      <td>0.0</td>\n",
       "    </tr>\n",
       "    <tr>\n",
       "      <th>230467</th>\n",
       "      <td>\"Leave your email or phone number and maybe yo...</td>\n",
       "      <td>1.0</td>\n",
       "    </tr>\n",
       "    <tr>\n",
       "      <th>230468</th>\n",
       "      <td>\"From the scenarios you present, I see you bel...</td>\n",
       "      <td>0.0</td>\n",
       "    </tr>\n",
       "  </tbody>\n",
       "</table>\n",
       "<p>230469 rows × 2 columns</p>\n",
       "</div>"
      ],
      "text/plain": [
       "                                                     text  target\n",
       "0       This: :One can make an analogy in mathematical...     0.0\n",
       "1       `  :Clarification for you  (and Zundark's righ...     0.0\n",
       "2                               Elected or Electoral? JHK     0.0\n",
       "3       `This is such a fun entry.   Devotchka  I once...     0.0\n",
       "4       Please relate the ozone hole to increases in c...     0.0\n",
       "...                                                   ...     ...\n",
       "230464  \"Never really gave it much thought. I just fig...     0.0\n",
       "230465                 \"Nadie se salva de la regla 34 xd\"     0.0\n",
       "230466               \"Question: Are you a boy or a girl?\"     0.0\n",
       "230467  \"Leave your email or phone number and maybe yo...     1.0\n",
       "230468  \"From the scenarios you present, I see you bel...     0.0\n",
       "\n",
       "[230469 rows x 2 columns]"
      ]
     },
     "execution_count": 25,
     "metadata": {},
     "output_type": "execute_result"
    }
   ],
   "source": [
    "data"
   ]
  },
  {
   "cell_type": "code",
   "execution_count": null,
   "id": "a49eed08",
   "metadata": {},
   "outputs": [],
   "source": []
  },
  {
   "cell_type": "code",
   "execution_count": 18,
   "id": "47f8cf7b",
   "metadata": {},
   "outputs": [],
   "source": [
    "from cyberbullying.utils import clean_text"
   ]
  },
  {
   "cell_type": "code",
   "execution_count": 26,
   "id": "e51bda44",
   "metadata": {},
   "outputs": [],
   "source": [
    "data['type'] = data['text'].map(lambda text: type(text))"
   ]
  },
  {
   "cell_type": "code",
   "execution_count": 27,
   "id": "2b6b7116",
   "metadata": {},
   "outputs": [
    {
     "data": {
      "text/plain": [
       "<class 'str'>    230469\n",
       "Name: type, dtype: int64"
      ]
     },
     "execution_count": 27,
     "metadata": {},
     "output_type": "execute_result"
    }
   ],
   "source": [
    "data['type'].value_counts()"
   ]
  },
  {
   "cell_type": "code",
   "execution_count": 28,
   "id": "67658c9b",
   "metadata": {},
   "outputs": [
    {
     "data": {
      "text/plain": [
       "\"`  :Clarification for you  (and Zundark's right, i should have checked the Wikipedia bugs page first).   This is a ``bug`` in the code that makes wikipedia work  it just means that there is a line of code that may have an error as small as an extra space. It's analogous (in a VERY simplified way) to trying to make something bold in HTML and forgetting to put the  at the end, so you'd see something like this:  words in bold  Instead of this:  words in bold   It's not like a virus, that is code somebody deliberately wrote in order to infect your computer and damage files, so it won't ``go around.`` JHK   `\""
      ]
     },
     "execution_count": 28,
     "metadata": {},
     "output_type": "execute_result"
    }
   ],
   "source": [
    "data['text'][1]"
   ]
  },
  {
   "cell_type": "code",
   "execution_count": 29,
   "id": "7dee17c1",
   "metadata": {},
   "outputs": [
    {
     "data": {
      "text/plain": [
       "116"
      ]
     },
     "execution_count": 29,
     "metadata": {},
     "output_type": "execute_result"
    }
   ],
   "source": [
    "data['text'][0].count(' ')"
   ]
  },
  {
   "cell_type": "code",
   "execution_count": 30,
   "id": "909e3211",
   "metadata": {},
   "outputs": [
    {
     "data": {
      "text/plain": [
       "109"
      ]
     },
     "execution_count": 30,
     "metadata": {},
     "output_type": "execute_result"
    }
   ],
   "source": [
    "len(data['text'][0].split())"
   ]
  },
  {
   "cell_type": "code",
   "execution_count": 31,
   "id": "2014f6c3",
   "metadata": {},
   "outputs": [
    {
     "data": {
      "text/plain": [
       "'clarification zundark right checked wikipedia bugs page first bug code makes wikipedia work means line code may error small extra space analogous simplified way trying make something bold html forgetting put end see something like words bold instead words bold like virus code somebody deliberately wrote order infect computer damage files go around jhk'"
      ]
     },
     "execution_count": 31,
     "metadata": {},
     "output_type": "execute_result"
    }
   ],
   "source": [
    "clean_text(data['text'][1])"
   ]
  },
  {
   "cell_type": "code",
   "execution_count": null,
   "id": "9030c0ff",
   "metadata": {},
   "outputs": [],
   "source": []
  },
  {
   "cell_type": "code",
   "execution_count": null,
   "id": "d309a2da",
   "metadata": {},
   "outputs": [],
   "source": []
  },
  {
   "cell_type": "code",
   "execution_count": 32,
   "id": "622b57bf",
   "metadata": {},
   "outputs": [],
   "source": [
    "percentage_used = 1\n",
    "data = data.sample(frac=percentage_used, random_state=0)"
   ]
  },
  {
   "cell_type": "code",
   "execution_count": 33,
   "id": "f4e7875e",
   "metadata": {},
   "outputs": [],
   "source": [
    "X_train, X_test, y_train, y_test = train_test_split(data[['text']], data['target'], test_size=0.3, random_state=0)"
   ]
  },
  {
   "cell_type": "code",
   "execution_count": 34,
   "id": "d0819327",
   "metadata": {},
   "outputs": [
    {
     "data": {
      "text/html": [
       "<div>\n",
       "<style scoped>\n",
       "    .dataframe tbody tr th:only-of-type {\n",
       "        vertical-align: middle;\n",
       "    }\n",
       "\n",
       "    .dataframe tbody tr th {\n",
       "        vertical-align: top;\n",
       "    }\n",
       "\n",
       "    .dataframe thead th {\n",
       "        text-align: right;\n",
       "    }\n",
       "</style>\n",
       "<table border=\"1\" class=\"dataframe\">\n",
       "  <thead>\n",
       "    <tr style=\"text-align: right;\">\n",
       "      <th></th>\n",
       "      <th>text</th>\n",
       "    </tr>\n",
       "  </thead>\n",
       "  <tbody>\n",
       "    <tr>\n",
       "      <th>206598</th>\n",
       "      <td>RT @OhSoSoftley: @YesYoureSexist go suck your ...</td>\n",
       "    </tr>\n",
       "    <tr>\n",
       "      <th>50685</th>\n",
       "      <td>== Date formats in citations ==  As per Temp...</td>\n",
       "    </tr>\n",
       "    <tr>\n",
       "      <th>213283</th>\n",
       "      <td>That's just sloppy shit on a plate - deconstru...</td>\n",
       "    </tr>\n",
       "    <tr>\n",
       "      <th>62596</th>\n",
       "      <td>Basically (I think) that you can either be sup...</td>\n",
       "    </tr>\n",
       "    <tr>\n",
       "      <th>146360</th>\n",
       "      <td>` :::All that seems to be known about mortashe...</td>\n",
       "    </tr>\n",
       "  </tbody>\n",
       "</table>\n",
       "</div>"
      ],
      "text/plain": [
       "                                                     text\n",
       "206598  RT @OhSoSoftley: @YesYoureSexist go suck your ...\n",
       "50685     == Date formats in citations ==  As per Temp...\n",
       "213283  That's just sloppy shit on a plate - deconstru...\n",
       "62596   Basically (I think) that you can either be sup...\n",
       "146360  ` :::All that seems to be known about mortashe..."
      ]
     },
     "execution_count": 34,
     "metadata": {},
     "output_type": "execute_result"
    }
   ],
   "source": [
    "X_train.head()"
   ]
  },
  {
   "cell_type": "code",
   "execution_count": 35,
   "id": "9e820629",
   "metadata": {},
   "outputs": [],
   "source": [
    "package_model = MLModel()"
   ]
  },
  {
   "cell_type": "code",
   "execution_count": 36,
   "id": "d4011cfb",
   "metadata": {},
   "outputs": [
    {
     "data": {
      "text/html": [
       "<style>#sk-6c0ed286-e80b-459f-a9a4-851512f4d854 {color: black;background-color: white;}#sk-6c0ed286-e80b-459f-a9a4-851512f4d854 pre{padding: 0;}#sk-6c0ed286-e80b-459f-a9a4-851512f4d854 div.sk-toggleable {background-color: white;}#sk-6c0ed286-e80b-459f-a9a4-851512f4d854 label.sk-toggleable__label {cursor: pointer;display: block;width: 100%;margin-bottom: 0;padding: 0.3em;box-sizing: border-box;text-align: center;}#sk-6c0ed286-e80b-459f-a9a4-851512f4d854 label.sk-toggleable__label-arrow:before {content: \"▸\";float: left;margin-right: 0.25em;color: #696969;}#sk-6c0ed286-e80b-459f-a9a4-851512f4d854 label.sk-toggleable__label-arrow:hover:before {color: black;}#sk-6c0ed286-e80b-459f-a9a4-851512f4d854 div.sk-estimator:hover label.sk-toggleable__label-arrow:before {color: black;}#sk-6c0ed286-e80b-459f-a9a4-851512f4d854 div.sk-toggleable__content {max-height: 0;max-width: 0;overflow: hidden;text-align: left;background-color: #f0f8ff;}#sk-6c0ed286-e80b-459f-a9a4-851512f4d854 div.sk-toggleable__content pre {margin: 0.2em;color: black;border-radius: 0.25em;background-color: #f0f8ff;}#sk-6c0ed286-e80b-459f-a9a4-851512f4d854 input.sk-toggleable__control:checked~div.sk-toggleable__content {max-height: 200px;max-width: 100%;overflow: auto;}#sk-6c0ed286-e80b-459f-a9a4-851512f4d854 input.sk-toggleable__control:checked~label.sk-toggleable__label-arrow:before {content: \"▾\";}#sk-6c0ed286-e80b-459f-a9a4-851512f4d854 div.sk-estimator input.sk-toggleable__control:checked~label.sk-toggleable__label {background-color: #d4ebff;}#sk-6c0ed286-e80b-459f-a9a4-851512f4d854 div.sk-label input.sk-toggleable__control:checked~label.sk-toggleable__label {background-color: #d4ebff;}#sk-6c0ed286-e80b-459f-a9a4-851512f4d854 input.sk-hidden--visually {border: 0;clip: rect(1px 1px 1px 1px);clip: rect(1px, 1px, 1px, 1px);height: 1px;margin: -1px;overflow: hidden;padding: 0;position: absolute;width: 1px;}#sk-6c0ed286-e80b-459f-a9a4-851512f4d854 div.sk-estimator {font-family: monospace;background-color: #f0f8ff;border: 1px dotted black;border-radius: 0.25em;box-sizing: border-box;margin-bottom: 0.5em;}#sk-6c0ed286-e80b-459f-a9a4-851512f4d854 div.sk-estimator:hover {background-color: #d4ebff;}#sk-6c0ed286-e80b-459f-a9a4-851512f4d854 div.sk-parallel-item::after {content: \"\";width: 100%;border-bottom: 1px solid gray;flex-grow: 1;}#sk-6c0ed286-e80b-459f-a9a4-851512f4d854 div.sk-label:hover label.sk-toggleable__label {background-color: #d4ebff;}#sk-6c0ed286-e80b-459f-a9a4-851512f4d854 div.sk-serial::before {content: \"\";position: absolute;border-left: 1px solid gray;box-sizing: border-box;top: 2em;bottom: 0;left: 50%;}#sk-6c0ed286-e80b-459f-a9a4-851512f4d854 div.sk-serial {display: flex;flex-direction: column;align-items: center;background-color: white;padding-right: 0.2em;padding-left: 0.2em;}#sk-6c0ed286-e80b-459f-a9a4-851512f4d854 div.sk-item {z-index: 1;}#sk-6c0ed286-e80b-459f-a9a4-851512f4d854 div.sk-parallel {display: flex;align-items: stretch;justify-content: center;background-color: white;}#sk-6c0ed286-e80b-459f-a9a4-851512f4d854 div.sk-parallel::before {content: \"\";position: absolute;border-left: 1px solid gray;box-sizing: border-box;top: 2em;bottom: 0;left: 50%;}#sk-6c0ed286-e80b-459f-a9a4-851512f4d854 div.sk-parallel-item {display: flex;flex-direction: column;position: relative;background-color: white;}#sk-6c0ed286-e80b-459f-a9a4-851512f4d854 div.sk-parallel-item:first-child::after {align-self: flex-end;width: 50%;}#sk-6c0ed286-e80b-459f-a9a4-851512f4d854 div.sk-parallel-item:last-child::after {align-self: flex-start;width: 50%;}#sk-6c0ed286-e80b-459f-a9a4-851512f4d854 div.sk-parallel-item:only-child::after {width: 0;}#sk-6c0ed286-e80b-459f-a9a4-851512f4d854 div.sk-dashed-wrapped {border: 1px dashed gray;margin: 0 0.4em 0.5em 0.4em;box-sizing: border-box;padding-bottom: 0.4em;background-color: white;position: relative;}#sk-6c0ed286-e80b-459f-a9a4-851512f4d854 div.sk-label label {font-family: monospace;font-weight: bold;background-color: white;display: inline-block;line-height: 1.2em;}#sk-6c0ed286-e80b-459f-a9a4-851512f4d854 div.sk-label-container {position: relative;z-index: 2;text-align: center;}#sk-6c0ed286-e80b-459f-a9a4-851512f4d854 div.sk-container {/* jupyter's `normalize.less` sets `[hidden] { display: none; }` but bootstrap.min.css set `[hidden] { display: none !important; }` so we also need the `!important` here to be able to override the default hidden behavior on the sphinx rendered scikit-learn.org. See: https://github.com/scikit-learn/scikit-learn/issues/21755 */display: inline-block !important;position: relative;}#sk-6c0ed286-e80b-459f-a9a4-851512f4d854 div.sk-text-repr-fallback {display: none;}</style><div id=\"sk-6c0ed286-e80b-459f-a9a4-851512f4d854\" class=\"sk-top-container\"><div class=\"sk-text-repr-fallback\"><pre>TfidfVectorizer(min_df=3)</pre><b>Please rerun this cell to show the HTML repr or trust the notebook.</b></div><div class=\"sk-container\" hidden><div class=\"sk-item\"><div class=\"sk-estimator sk-toggleable\"><input class=\"sk-toggleable__control sk-hidden--visually\" id=\"87b333b6-b987-4834-8253-4b404f1a0b85\" type=\"checkbox\" checked><label for=\"87b333b6-b987-4834-8253-4b404f1a0b85\" class=\"sk-toggleable__label sk-toggleable__label-arrow\">TfidfVectorizer</label><div class=\"sk-toggleable__content\"><pre>TfidfVectorizer(min_df=3)</pre></div></div></div></div></div>"
      ],
      "text/plain": [
       "TfidfVectorizer(min_df=3)"
      ]
     },
     "execution_count": 36,
     "metadata": {},
     "output_type": "execute_result"
    }
   ],
   "source": [
    "package_model.vectorizer"
   ]
  },
  {
   "cell_type": "code",
   "execution_count": 37,
   "id": "18f2ed60",
   "metadata": {},
   "outputs": [
    {
     "data": {
      "text/html": [
       "<style>#sk-72466f56-5975-4a90-9f90-e99331e59a50 {color: black;background-color: white;}#sk-72466f56-5975-4a90-9f90-e99331e59a50 pre{padding: 0;}#sk-72466f56-5975-4a90-9f90-e99331e59a50 div.sk-toggleable {background-color: white;}#sk-72466f56-5975-4a90-9f90-e99331e59a50 label.sk-toggleable__label {cursor: pointer;display: block;width: 100%;margin-bottom: 0;padding: 0.3em;box-sizing: border-box;text-align: center;}#sk-72466f56-5975-4a90-9f90-e99331e59a50 label.sk-toggleable__label-arrow:before {content: \"▸\";float: left;margin-right: 0.25em;color: #696969;}#sk-72466f56-5975-4a90-9f90-e99331e59a50 label.sk-toggleable__label-arrow:hover:before {color: black;}#sk-72466f56-5975-4a90-9f90-e99331e59a50 div.sk-estimator:hover label.sk-toggleable__label-arrow:before {color: black;}#sk-72466f56-5975-4a90-9f90-e99331e59a50 div.sk-toggleable__content {max-height: 0;max-width: 0;overflow: hidden;text-align: left;background-color: #f0f8ff;}#sk-72466f56-5975-4a90-9f90-e99331e59a50 div.sk-toggleable__content pre {margin: 0.2em;color: black;border-radius: 0.25em;background-color: #f0f8ff;}#sk-72466f56-5975-4a90-9f90-e99331e59a50 input.sk-toggleable__control:checked~div.sk-toggleable__content {max-height: 200px;max-width: 100%;overflow: auto;}#sk-72466f56-5975-4a90-9f90-e99331e59a50 input.sk-toggleable__control:checked~label.sk-toggleable__label-arrow:before {content: \"▾\";}#sk-72466f56-5975-4a90-9f90-e99331e59a50 div.sk-estimator input.sk-toggleable__control:checked~label.sk-toggleable__label {background-color: #d4ebff;}#sk-72466f56-5975-4a90-9f90-e99331e59a50 div.sk-label input.sk-toggleable__control:checked~label.sk-toggleable__label {background-color: #d4ebff;}#sk-72466f56-5975-4a90-9f90-e99331e59a50 input.sk-hidden--visually {border: 0;clip: rect(1px 1px 1px 1px);clip: rect(1px, 1px, 1px, 1px);height: 1px;margin: -1px;overflow: hidden;padding: 0;position: absolute;width: 1px;}#sk-72466f56-5975-4a90-9f90-e99331e59a50 div.sk-estimator {font-family: monospace;background-color: #f0f8ff;border: 1px dotted black;border-radius: 0.25em;box-sizing: border-box;margin-bottom: 0.5em;}#sk-72466f56-5975-4a90-9f90-e99331e59a50 div.sk-estimator:hover {background-color: #d4ebff;}#sk-72466f56-5975-4a90-9f90-e99331e59a50 div.sk-parallel-item::after {content: \"\";width: 100%;border-bottom: 1px solid gray;flex-grow: 1;}#sk-72466f56-5975-4a90-9f90-e99331e59a50 div.sk-label:hover label.sk-toggleable__label {background-color: #d4ebff;}#sk-72466f56-5975-4a90-9f90-e99331e59a50 div.sk-serial::before {content: \"\";position: absolute;border-left: 1px solid gray;box-sizing: border-box;top: 2em;bottom: 0;left: 50%;}#sk-72466f56-5975-4a90-9f90-e99331e59a50 div.sk-serial {display: flex;flex-direction: column;align-items: center;background-color: white;padding-right: 0.2em;padding-left: 0.2em;}#sk-72466f56-5975-4a90-9f90-e99331e59a50 div.sk-item {z-index: 1;}#sk-72466f56-5975-4a90-9f90-e99331e59a50 div.sk-parallel {display: flex;align-items: stretch;justify-content: center;background-color: white;}#sk-72466f56-5975-4a90-9f90-e99331e59a50 div.sk-parallel::before {content: \"\";position: absolute;border-left: 1px solid gray;box-sizing: border-box;top: 2em;bottom: 0;left: 50%;}#sk-72466f56-5975-4a90-9f90-e99331e59a50 div.sk-parallel-item {display: flex;flex-direction: column;position: relative;background-color: white;}#sk-72466f56-5975-4a90-9f90-e99331e59a50 div.sk-parallel-item:first-child::after {align-self: flex-end;width: 50%;}#sk-72466f56-5975-4a90-9f90-e99331e59a50 div.sk-parallel-item:last-child::after {align-self: flex-start;width: 50%;}#sk-72466f56-5975-4a90-9f90-e99331e59a50 div.sk-parallel-item:only-child::after {width: 0;}#sk-72466f56-5975-4a90-9f90-e99331e59a50 div.sk-dashed-wrapped {border: 1px dashed gray;margin: 0 0.4em 0.5em 0.4em;box-sizing: border-box;padding-bottom: 0.4em;background-color: white;position: relative;}#sk-72466f56-5975-4a90-9f90-e99331e59a50 div.sk-label label {font-family: monospace;font-weight: bold;background-color: white;display: inline-block;line-height: 1.2em;}#sk-72466f56-5975-4a90-9f90-e99331e59a50 div.sk-label-container {position: relative;z-index: 2;text-align: center;}#sk-72466f56-5975-4a90-9f90-e99331e59a50 div.sk-container {/* jupyter's `normalize.less` sets `[hidden] { display: none; }` but bootstrap.min.css set `[hidden] { display: none !important; }` so we also need the `!important` here to be able to override the default hidden behavior on the sphinx rendered scikit-learn.org. See: https://github.com/scikit-learn/scikit-learn/issues/21755 */display: inline-block !important;position: relative;}#sk-72466f56-5975-4a90-9f90-e99331e59a50 div.sk-text-repr-fallback {display: none;}</style><div id=\"sk-72466f56-5975-4a90-9f90-e99331e59a50\" class=\"sk-top-container\"><div class=\"sk-text-repr-fallback\"><pre>LinearSVC(C=1, class_weight={0: 0.2, 1: 0.8}, dual=False, penalty=&#x27;l1&#x27;)</pre><b>Please rerun this cell to show the HTML repr or trust the notebook.</b></div><div class=\"sk-container\" hidden><div class=\"sk-item\"><div class=\"sk-estimator sk-toggleable\"><input class=\"sk-toggleable__control sk-hidden--visually\" id=\"d373248b-e0a8-4417-aaef-0bfa57033dec\" type=\"checkbox\" checked><label for=\"d373248b-e0a8-4417-aaef-0bfa57033dec\" class=\"sk-toggleable__label sk-toggleable__label-arrow\">LinearSVC</label><div class=\"sk-toggleable__content\"><pre>LinearSVC(C=1, class_weight={0: 0.2, 1: 0.8}, dual=False, penalty=&#x27;l1&#x27;)</pre></div></div></div></div></div>"
      ],
      "text/plain": [
       "LinearSVC(C=1, class_weight={0: 0.2, 1: 0.8}, dual=False, penalty='l1')"
      ]
     },
     "execution_count": 37,
     "metadata": {},
     "output_type": "execute_result"
    }
   ],
   "source": [
    "package_model.model"
   ]
  },
  {
   "cell_type": "code",
   "execution_count": 38,
   "id": "4311c90d",
   "metadata": {},
   "outputs": [],
   "source": [
    "package_model.set_pipeline()"
   ]
  },
  {
   "cell_type": "code",
   "execution_count": 39,
   "id": "82d33ad2",
   "metadata": {},
   "outputs": [
    {
     "data": {
      "text/html": [
       "<style>#sk-b8052ffb-990b-482e-a5ef-d65b925927f0 {color: black;background-color: white;}#sk-b8052ffb-990b-482e-a5ef-d65b925927f0 pre{padding: 0;}#sk-b8052ffb-990b-482e-a5ef-d65b925927f0 div.sk-toggleable {background-color: white;}#sk-b8052ffb-990b-482e-a5ef-d65b925927f0 label.sk-toggleable__label {cursor: pointer;display: block;width: 100%;margin-bottom: 0;padding: 0.3em;box-sizing: border-box;text-align: center;}#sk-b8052ffb-990b-482e-a5ef-d65b925927f0 label.sk-toggleable__label-arrow:before {content: \"▸\";float: left;margin-right: 0.25em;color: #696969;}#sk-b8052ffb-990b-482e-a5ef-d65b925927f0 label.sk-toggleable__label-arrow:hover:before {color: black;}#sk-b8052ffb-990b-482e-a5ef-d65b925927f0 div.sk-estimator:hover label.sk-toggleable__label-arrow:before {color: black;}#sk-b8052ffb-990b-482e-a5ef-d65b925927f0 div.sk-toggleable__content {max-height: 0;max-width: 0;overflow: hidden;text-align: left;background-color: #f0f8ff;}#sk-b8052ffb-990b-482e-a5ef-d65b925927f0 div.sk-toggleable__content pre {margin: 0.2em;color: black;border-radius: 0.25em;background-color: #f0f8ff;}#sk-b8052ffb-990b-482e-a5ef-d65b925927f0 input.sk-toggleable__control:checked~div.sk-toggleable__content {max-height: 200px;max-width: 100%;overflow: auto;}#sk-b8052ffb-990b-482e-a5ef-d65b925927f0 input.sk-toggleable__control:checked~label.sk-toggleable__label-arrow:before {content: \"▾\";}#sk-b8052ffb-990b-482e-a5ef-d65b925927f0 div.sk-estimator input.sk-toggleable__control:checked~label.sk-toggleable__label {background-color: #d4ebff;}#sk-b8052ffb-990b-482e-a5ef-d65b925927f0 div.sk-label input.sk-toggleable__control:checked~label.sk-toggleable__label {background-color: #d4ebff;}#sk-b8052ffb-990b-482e-a5ef-d65b925927f0 input.sk-hidden--visually {border: 0;clip: rect(1px 1px 1px 1px);clip: rect(1px, 1px, 1px, 1px);height: 1px;margin: -1px;overflow: hidden;padding: 0;position: absolute;width: 1px;}#sk-b8052ffb-990b-482e-a5ef-d65b925927f0 div.sk-estimator {font-family: monospace;background-color: #f0f8ff;border: 1px dotted black;border-radius: 0.25em;box-sizing: border-box;margin-bottom: 0.5em;}#sk-b8052ffb-990b-482e-a5ef-d65b925927f0 div.sk-estimator:hover {background-color: #d4ebff;}#sk-b8052ffb-990b-482e-a5ef-d65b925927f0 div.sk-parallel-item::after {content: \"\";width: 100%;border-bottom: 1px solid gray;flex-grow: 1;}#sk-b8052ffb-990b-482e-a5ef-d65b925927f0 div.sk-label:hover label.sk-toggleable__label {background-color: #d4ebff;}#sk-b8052ffb-990b-482e-a5ef-d65b925927f0 div.sk-serial::before {content: \"\";position: absolute;border-left: 1px solid gray;box-sizing: border-box;top: 2em;bottom: 0;left: 50%;}#sk-b8052ffb-990b-482e-a5ef-d65b925927f0 div.sk-serial {display: flex;flex-direction: column;align-items: center;background-color: white;padding-right: 0.2em;padding-left: 0.2em;}#sk-b8052ffb-990b-482e-a5ef-d65b925927f0 div.sk-item {z-index: 1;}#sk-b8052ffb-990b-482e-a5ef-d65b925927f0 div.sk-parallel {display: flex;align-items: stretch;justify-content: center;background-color: white;}#sk-b8052ffb-990b-482e-a5ef-d65b925927f0 div.sk-parallel::before {content: \"\";position: absolute;border-left: 1px solid gray;box-sizing: border-box;top: 2em;bottom: 0;left: 50%;}#sk-b8052ffb-990b-482e-a5ef-d65b925927f0 div.sk-parallel-item {display: flex;flex-direction: column;position: relative;background-color: white;}#sk-b8052ffb-990b-482e-a5ef-d65b925927f0 div.sk-parallel-item:first-child::after {align-self: flex-end;width: 50%;}#sk-b8052ffb-990b-482e-a5ef-d65b925927f0 div.sk-parallel-item:last-child::after {align-self: flex-start;width: 50%;}#sk-b8052ffb-990b-482e-a5ef-d65b925927f0 div.sk-parallel-item:only-child::after {width: 0;}#sk-b8052ffb-990b-482e-a5ef-d65b925927f0 div.sk-dashed-wrapped {border: 1px dashed gray;margin: 0 0.4em 0.5em 0.4em;box-sizing: border-box;padding-bottom: 0.4em;background-color: white;position: relative;}#sk-b8052ffb-990b-482e-a5ef-d65b925927f0 div.sk-label label {font-family: monospace;font-weight: bold;background-color: white;display: inline-block;line-height: 1.2em;}#sk-b8052ffb-990b-482e-a5ef-d65b925927f0 div.sk-label-container {position: relative;z-index: 2;text-align: center;}#sk-b8052ffb-990b-482e-a5ef-d65b925927f0 div.sk-container {/* jupyter's `normalize.less` sets `[hidden] { display: none; }` but bootstrap.min.css set `[hidden] { display: none !important; }` so we also need the `!important` here to be able to override the default hidden behavior on the sphinx rendered scikit-learn.org. See: https://github.com/scikit-learn/scikit-learn/issues/21755 */display: inline-block !important;position: relative;}#sk-b8052ffb-990b-482e-a5ef-d65b925927f0 div.sk-text-repr-fallback {display: none;}</style><div id=\"sk-b8052ffb-990b-482e-a5ef-d65b925927f0\" class=\"sk-top-container\"><div class=\"sk-text-repr-fallback\"><pre>Pipeline(steps=[(&#x27;columntransformer&#x27;,\n",
       "                 ColumnTransformer(transformers=[(&#x27;pipeline&#x27;,\n",
       "                                                  Pipeline(steps=[(&#x27;cleandftransformer&#x27;,\n",
       "                                                                   CleanDFTransformer()),\n",
       "                                                                  (&#x27;tfidfvectorizer&#x27;,\n",
       "                                                                   TfidfVectorizer(min_df=3))]),\n",
       "                                                  [&#x27;text&#x27;])])),\n",
       "                (&#x27;linearsvc&#x27;,\n",
       "                 LinearSVC(C=1, class_weight={0: 0.2, 1: 0.8}, dual=False,\n",
       "                           penalty=&#x27;l1&#x27;))])</pre><b>Please rerun this cell to show the HTML repr or trust the notebook.</b></div><div class=\"sk-container\" hidden><div class=\"sk-item sk-dashed-wrapped\"><div class=\"sk-label-container\"><div class=\"sk-label sk-toggleable\"><input class=\"sk-toggleable__control sk-hidden--visually\" id=\"28a1434e-de34-4c2c-8618-3c1f9e4a6eb6\" type=\"checkbox\" ><label for=\"28a1434e-de34-4c2c-8618-3c1f9e4a6eb6\" class=\"sk-toggleable__label sk-toggleable__label-arrow\">Pipeline</label><div class=\"sk-toggleable__content\"><pre>Pipeline(steps=[(&#x27;columntransformer&#x27;,\n",
       "                 ColumnTransformer(transformers=[(&#x27;pipeline&#x27;,\n",
       "                                                  Pipeline(steps=[(&#x27;cleandftransformer&#x27;,\n",
       "                                                                   CleanDFTransformer()),\n",
       "                                                                  (&#x27;tfidfvectorizer&#x27;,\n",
       "                                                                   TfidfVectorizer(min_df=3))]),\n",
       "                                                  [&#x27;text&#x27;])])),\n",
       "                (&#x27;linearsvc&#x27;,\n",
       "                 LinearSVC(C=1, class_weight={0: 0.2, 1: 0.8}, dual=False,\n",
       "                           penalty=&#x27;l1&#x27;))])</pre></div></div></div><div class=\"sk-serial\"><div class=\"sk-item sk-dashed-wrapped\"><div class=\"sk-label-container\"><div class=\"sk-label sk-toggleable\"><input class=\"sk-toggleable__control sk-hidden--visually\" id=\"d745492d-025a-4683-852f-65ef274c6a76\" type=\"checkbox\" ><label for=\"d745492d-025a-4683-852f-65ef274c6a76\" class=\"sk-toggleable__label sk-toggleable__label-arrow\">columntransformer: ColumnTransformer</label><div class=\"sk-toggleable__content\"><pre>ColumnTransformer(transformers=[(&#x27;pipeline&#x27;,\n",
       "                                 Pipeline(steps=[(&#x27;cleandftransformer&#x27;,\n",
       "                                                  CleanDFTransformer()),\n",
       "                                                 (&#x27;tfidfvectorizer&#x27;,\n",
       "                                                  TfidfVectorizer(min_df=3))]),\n",
       "                                 [&#x27;text&#x27;])])</pre></div></div></div><div class=\"sk-parallel\"><div class=\"sk-parallel-item\"><div class=\"sk-item\"><div class=\"sk-label-container\"><div class=\"sk-label sk-toggleable\"><input class=\"sk-toggleable__control sk-hidden--visually\" id=\"eaefa4bb-0558-484c-9e2e-ba35c2988c7f\" type=\"checkbox\" ><label for=\"eaefa4bb-0558-484c-9e2e-ba35c2988c7f\" class=\"sk-toggleable__label sk-toggleable__label-arrow\">pipeline</label><div class=\"sk-toggleable__content\"><pre>[&#x27;text&#x27;]</pre></div></div></div><div class=\"sk-serial\"><div class=\"sk-item\"><div class=\"sk-serial\"><div class=\"sk-item\"><div class=\"sk-estimator sk-toggleable\"><input class=\"sk-toggleable__control sk-hidden--visually\" id=\"c5c4008b-e464-40d7-9213-b23c0692863c\" type=\"checkbox\" ><label for=\"c5c4008b-e464-40d7-9213-b23c0692863c\" class=\"sk-toggleable__label sk-toggleable__label-arrow\">CleanDFTransformer</label><div class=\"sk-toggleable__content\"><pre>CleanDFTransformer()</pre></div></div></div><div class=\"sk-item\"><div class=\"sk-estimator sk-toggleable\"><input class=\"sk-toggleable__control sk-hidden--visually\" id=\"e8e792fc-ec0d-415d-a391-ad9eae15b4ac\" type=\"checkbox\" ><label for=\"e8e792fc-ec0d-415d-a391-ad9eae15b4ac\" class=\"sk-toggleable__label sk-toggleable__label-arrow\">TfidfVectorizer</label><div class=\"sk-toggleable__content\"><pre>TfidfVectorizer(min_df=3)</pre></div></div></div></div></div></div></div></div></div></div><div class=\"sk-item\"><div class=\"sk-estimator sk-toggleable\"><input class=\"sk-toggleable__control sk-hidden--visually\" id=\"f689479c-e724-45ef-bb0b-6a6f35017132\" type=\"checkbox\" ><label for=\"f689479c-e724-45ef-bb0b-6a6f35017132\" class=\"sk-toggleable__label sk-toggleable__label-arrow\">LinearSVC</label><div class=\"sk-toggleable__content\"><pre>LinearSVC(C=1, class_weight={0: 0.2, 1: 0.8}, dual=False, penalty=&#x27;l1&#x27;)</pre></div></div></div></div></div></div></div>"
      ],
      "text/plain": [
       "Pipeline(steps=[('columntransformer',\n",
       "                 ColumnTransformer(transformers=[('pipeline',\n",
       "                                                  Pipeline(steps=[('cleandftransformer',\n",
       "                                                                   CleanDFTransformer()),\n",
       "                                                                  ('tfidfvectorizer',\n",
       "                                                                   TfidfVectorizer(min_df=3))]),\n",
       "                                                  ['text'])])),\n",
       "                ('linearsvc',\n",
       "                 LinearSVC(C=1, class_weight={0: 0.2, 1: 0.8}, dual=False,\n",
       "                           penalty='l1'))])"
      ]
     },
     "execution_count": 39,
     "metadata": {},
     "output_type": "execute_result"
    }
   ],
   "source": [
    "package_model.pipeline"
   ]
  },
  {
   "cell_type": "code",
   "execution_count": 40,
   "id": "207a5845",
   "metadata": {},
   "outputs": [],
   "source": [
    "from cyberbullying.transformers import CleanDFTransformer"
   ]
  },
  {
   "cell_type": "code",
   "execution_count": 41,
   "id": "c0df56e4",
   "metadata": {},
   "outputs": [
    {
     "data": {
      "text/plain": [
       "(161328, 1)"
      ]
     },
     "execution_count": 41,
     "metadata": {},
     "output_type": "execute_result"
    }
   ],
   "source": [
    "X_train.shape"
   ]
  },
  {
   "cell_type": "code",
   "execution_count": 48,
   "id": "128e5744",
   "metadata": {},
   "outputs": [
    {
     "data": {
      "text/plain": [
       "206598    1.0\n",
       "50685     0.0\n",
       "213283    0.0\n",
       "62596     0.0\n",
       "146360    0.0\n",
       "         ... \n",
       "121124    0.0\n",
       "163822    0.0\n",
       "188620    0.0\n",
       "16843     0.0\n",
       "42759     0.0\n",
       "Name: target, Length: 161328, dtype: float64"
      ]
     },
     "execution_count": 48,
     "metadata": {},
     "output_type": "execute_result"
    }
   ],
   "source": [
    "y_train"
   ]
  },
  {
   "cell_type": "code",
   "execution_count": 55,
   "id": "d24bafe1",
   "metadata": {},
   "outputs": [
    {
     "data": {
      "text/html": [
       "<style>#sk-f44ddbaa-9e40-40fd-9078-4996e21b3f5d {color: black;background-color: white;}#sk-f44ddbaa-9e40-40fd-9078-4996e21b3f5d pre{padding: 0;}#sk-f44ddbaa-9e40-40fd-9078-4996e21b3f5d div.sk-toggleable {background-color: white;}#sk-f44ddbaa-9e40-40fd-9078-4996e21b3f5d label.sk-toggleable__label {cursor: pointer;display: block;width: 100%;margin-bottom: 0;padding: 0.3em;box-sizing: border-box;text-align: center;}#sk-f44ddbaa-9e40-40fd-9078-4996e21b3f5d label.sk-toggleable__label-arrow:before {content: \"▸\";float: left;margin-right: 0.25em;color: #696969;}#sk-f44ddbaa-9e40-40fd-9078-4996e21b3f5d label.sk-toggleable__label-arrow:hover:before {color: black;}#sk-f44ddbaa-9e40-40fd-9078-4996e21b3f5d div.sk-estimator:hover label.sk-toggleable__label-arrow:before {color: black;}#sk-f44ddbaa-9e40-40fd-9078-4996e21b3f5d div.sk-toggleable__content {max-height: 0;max-width: 0;overflow: hidden;text-align: left;background-color: #f0f8ff;}#sk-f44ddbaa-9e40-40fd-9078-4996e21b3f5d div.sk-toggleable__content pre {margin: 0.2em;color: black;border-radius: 0.25em;background-color: #f0f8ff;}#sk-f44ddbaa-9e40-40fd-9078-4996e21b3f5d input.sk-toggleable__control:checked~div.sk-toggleable__content {max-height: 200px;max-width: 100%;overflow: auto;}#sk-f44ddbaa-9e40-40fd-9078-4996e21b3f5d input.sk-toggleable__control:checked~label.sk-toggleable__label-arrow:before {content: \"▾\";}#sk-f44ddbaa-9e40-40fd-9078-4996e21b3f5d div.sk-estimator input.sk-toggleable__control:checked~label.sk-toggleable__label {background-color: #d4ebff;}#sk-f44ddbaa-9e40-40fd-9078-4996e21b3f5d div.sk-label input.sk-toggleable__control:checked~label.sk-toggleable__label {background-color: #d4ebff;}#sk-f44ddbaa-9e40-40fd-9078-4996e21b3f5d input.sk-hidden--visually {border: 0;clip: rect(1px 1px 1px 1px);clip: rect(1px, 1px, 1px, 1px);height: 1px;margin: -1px;overflow: hidden;padding: 0;position: absolute;width: 1px;}#sk-f44ddbaa-9e40-40fd-9078-4996e21b3f5d div.sk-estimator {font-family: monospace;background-color: #f0f8ff;border: 1px dotted black;border-radius: 0.25em;box-sizing: border-box;margin-bottom: 0.5em;}#sk-f44ddbaa-9e40-40fd-9078-4996e21b3f5d div.sk-estimator:hover {background-color: #d4ebff;}#sk-f44ddbaa-9e40-40fd-9078-4996e21b3f5d div.sk-parallel-item::after {content: \"\";width: 100%;border-bottom: 1px solid gray;flex-grow: 1;}#sk-f44ddbaa-9e40-40fd-9078-4996e21b3f5d div.sk-label:hover label.sk-toggleable__label {background-color: #d4ebff;}#sk-f44ddbaa-9e40-40fd-9078-4996e21b3f5d div.sk-serial::before {content: \"\";position: absolute;border-left: 1px solid gray;box-sizing: border-box;top: 2em;bottom: 0;left: 50%;}#sk-f44ddbaa-9e40-40fd-9078-4996e21b3f5d div.sk-serial {display: flex;flex-direction: column;align-items: center;background-color: white;padding-right: 0.2em;padding-left: 0.2em;}#sk-f44ddbaa-9e40-40fd-9078-4996e21b3f5d div.sk-item {z-index: 1;}#sk-f44ddbaa-9e40-40fd-9078-4996e21b3f5d div.sk-parallel {display: flex;align-items: stretch;justify-content: center;background-color: white;}#sk-f44ddbaa-9e40-40fd-9078-4996e21b3f5d div.sk-parallel::before {content: \"\";position: absolute;border-left: 1px solid gray;box-sizing: border-box;top: 2em;bottom: 0;left: 50%;}#sk-f44ddbaa-9e40-40fd-9078-4996e21b3f5d div.sk-parallel-item {display: flex;flex-direction: column;position: relative;background-color: white;}#sk-f44ddbaa-9e40-40fd-9078-4996e21b3f5d div.sk-parallel-item:first-child::after {align-self: flex-end;width: 50%;}#sk-f44ddbaa-9e40-40fd-9078-4996e21b3f5d div.sk-parallel-item:last-child::after {align-self: flex-start;width: 50%;}#sk-f44ddbaa-9e40-40fd-9078-4996e21b3f5d div.sk-parallel-item:only-child::after {width: 0;}#sk-f44ddbaa-9e40-40fd-9078-4996e21b3f5d div.sk-dashed-wrapped {border: 1px dashed gray;margin: 0 0.4em 0.5em 0.4em;box-sizing: border-box;padding-bottom: 0.4em;background-color: white;position: relative;}#sk-f44ddbaa-9e40-40fd-9078-4996e21b3f5d div.sk-label label {font-family: monospace;font-weight: bold;background-color: white;display: inline-block;line-height: 1.2em;}#sk-f44ddbaa-9e40-40fd-9078-4996e21b3f5d div.sk-label-container {position: relative;z-index: 2;text-align: center;}#sk-f44ddbaa-9e40-40fd-9078-4996e21b3f5d div.sk-container {/* jupyter's `normalize.less` sets `[hidden] { display: none; }` but bootstrap.min.css set `[hidden] { display: none !important; }` so we also need the `!important` here to be able to override the default hidden behavior on the sphinx rendered scikit-learn.org. See: https://github.com/scikit-learn/scikit-learn/issues/21755 */display: inline-block !important;position: relative;}#sk-f44ddbaa-9e40-40fd-9078-4996e21b3f5d div.sk-text-repr-fallback {display: none;}</style><div id=\"sk-f44ddbaa-9e40-40fd-9078-4996e21b3f5d\" class=\"sk-top-container\"><div class=\"sk-text-repr-fallback\"><pre>Pipeline(steps=[(&#x27;columntransformer&#x27;,\n",
       "                 ColumnTransformer(transformers=[(&#x27;pipeline&#x27;,\n",
       "                                                  Pipeline(steps=[(&#x27;cleandftransformer&#x27;,\n",
       "                                                                   CleanDFTransformer()),\n",
       "                                                                  (&#x27;tfidfvectorizer&#x27;,\n",
       "                                                                   TfidfVectorizer(min_df=3))]),\n",
       "                                                  [&#x27;text&#x27;])])),\n",
       "                (&#x27;linearsvc&#x27;,\n",
       "                 LinearSVC(C=1, class_weight={0: 0.2, 1: 0.8}, dual=False,\n",
       "                           penalty=&#x27;l1&#x27;))])</pre><b>Please rerun this cell to show the HTML repr or trust the notebook.</b></div><div class=\"sk-container\" hidden><div class=\"sk-item sk-dashed-wrapped\"><div class=\"sk-label-container\"><div class=\"sk-label sk-toggleable\"><input class=\"sk-toggleable__control sk-hidden--visually\" id=\"4f6df96e-bd30-4d37-9afb-0cbe4c90949c\" type=\"checkbox\" ><label for=\"4f6df96e-bd30-4d37-9afb-0cbe4c90949c\" class=\"sk-toggleable__label sk-toggleable__label-arrow\">Pipeline</label><div class=\"sk-toggleable__content\"><pre>Pipeline(steps=[(&#x27;columntransformer&#x27;,\n",
       "                 ColumnTransformer(transformers=[(&#x27;pipeline&#x27;,\n",
       "                                                  Pipeline(steps=[(&#x27;cleandftransformer&#x27;,\n",
       "                                                                   CleanDFTransformer()),\n",
       "                                                                  (&#x27;tfidfvectorizer&#x27;,\n",
       "                                                                   TfidfVectorizer(min_df=3))]),\n",
       "                                                  [&#x27;text&#x27;])])),\n",
       "                (&#x27;linearsvc&#x27;,\n",
       "                 LinearSVC(C=1, class_weight={0: 0.2, 1: 0.8}, dual=False,\n",
       "                           penalty=&#x27;l1&#x27;))])</pre></div></div></div><div class=\"sk-serial\"><div class=\"sk-item sk-dashed-wrapped\"><div class=\"sk-label-container\"><div class=\"sk-label sk-toggleable\"><input class=\"sk-toggleable__control sk-hidden--visually\" id=\"0a3b22b6-5240-48b8-9ca8-442913ce7706\" type=\"checkbox\" ><label for=\"0a3b22b6-5240-48b8-9ca8-442913ce7706\" class=\"sk-toggleable__label sk-toggleable__label-arrow\">columntransformer: ColumnTransformer</label><div class=\"sk-toggleable__content\"><pre>ColumnTransformer(transformers=[(&#x27;pipeline&#x27;,\n",
       "                                 Pipeline(steps=[(&#x27;cleandftransformer&#x27;,\n",
       "                                                  CleanDFTransformer()),\n",
       "                                                 (&#x27;tfidfvectorizer&#x27;,\n",
       "                                                  TfidfVectorizer(min_df=3))]),\n",
       "                                 [&#x27;text&#x27;])])</pre></div></div></div><div class=\"sk-parallel\"><div class=\"sk-parallel-item\"><div class=\"sk-item\"><div class=\"sk-label-container\"><div class=\"sk-label sk-toggleable\"><input class=\"sk-toggleable__control sk-hidden--visually\" id=\"28933434-a0b3-4393-a728-88ac668c390e\" type=\"checkbox\" ><label for=\"28933434-a0b3-4393-a728-88ac668c390e\" class=\"sk-toggleable__label sk-toggleable__label-arrow\">pipeline</label><div class=\"sk-toggleable__content\"><pre>[&#x27;text&#x27;]</pre></div></div></div><div class=\"sk-serial\"><div class=\"sk-item\"><div class=\"sk-serial\"><div class=\"sk-item\"><div class=\"sk-estimator sk-toggleable\"><input class=\"sk-toggleable__control sk-hidden--visually\" id=\"1ee4fb00-5755-4937-b8e7-7ded32ef7671\" type=\"checkbox\" ><label for=\"1ee4fb00-5755-4937-b8e7-7ded32ef7671\" class=\"sk-toggleable__label sk-toggleable__label-arrow\">CleanDFTransformer</label><div class=\"sk-toggleable__content\"><pre>CleanDFTransformer()</pre></div></div></div><div class=\"sk-item\"><div class=\"sk-estimator sk-toggleable\"><input class=\"sk-toggleable__control sk-hidden--visually\" id=\"9b7c9ee5-2c9c-4571-bad1-2d895fe84ac8\" type=\"checkbox\" ><label for=\"9b7c9ee5-2c9c-4571-bad1-2d895fe84ac8\" class=\"sk-toggleable__label sk-toggleable__label-arrow\">TfidfVectorizer</label><div class=\"sk-toggleable__content\"><pre>TfidfVectorizer(min_df=3)</pre></div></div></div></div></div></div></div></div></div></div><div class=\"sk-item\"><div class=\"sk-estimator sk-toggleable\"><input class=\"sk-toggleable__control sk-hidden--visually\" id=\"f474d9d1-864f-464f-9189-c6bcf6496ff6\" type=\"checkbox\" ><label for=\"f474d9d1-864f-464f-9189-c6bcf6496ff6\" class=\"sk-toggleable__label sk-toggleable__label-arrow\">LinearSVC</label><div class=\"sk-toggleable__content\"><pre>LinearSVC(C=1, class_weight={0: 0.2, 1: 0.8}, dual=False, penalty=&#x27;l1&#x27;)</pre></div></div></div></div></div></div></div>"
      ],
      "text/plain": [
       "Pipeline(steps=[('columntransformer',\n",
       "                 ColumnTransformer(transformers=[('pipeline',\n",
       "                                                  Pipeline(steps=[('cleandftransformer',\n",
       "                                                                   CleanDFTransformer()),\n",
       "                                                                  ('tfidfvectorizer',\n",
       "                                                                   TfidfVectorizer(min_df=3))]),\n",
       "                                                  ['text'])])),\n",
       "                ('linearsvc',\n",
       "                 LinearSVC(C=1, class_weight={0: 0.2, 1: 0.8}, dual=False,\n",
       "                           penalty='l1'))])"
      ]
     },
     "execution_count": 55,
     "metadata": {},
     "output_type": "execute_result"
    }
   ],
   "source": [
    "package_model.pipeline.fit(X_train, y_train) #deberia ser package_model.train(X_train, y_train)"
   ]
  },
  {
   "cell_type": "code",
   "execution_count": 57,
   "id": "f3426e89",
   "metadata": {},
   "outputs": [],
   "source": [
    "from cyberbullying.utils import clean_df"
   ]
  },
  {
   "cell_type": "code",
   "execution_count": 58,
   "id": "2e2210db",
   "metadata": {},
   "outputs": [],
   "source": [
    "y_pred = package_model.predict(X_test)"
   ]
  },
  {
   "cell_type": "code",
   "execution_count": 59,
   "id": "9986c059",
   "metadata": {},
   "outputs": [
    {
     "data": {
      "text/plain": [
       "array([1., 0., 1., ..., 0., 0., 0.])"
      ]
     },
     "execution_count": 59,
     "metadata": {},
     "output_type": "execute_result"
    }
   ],
   "source": [
    "y_pred"
   ]
  },
  {
   "cell_type": "code",
   "execution_count": 60,
   "id": "297815c0",
   "metadata": {},
   "outputs": [],
   "source": [
    "y_pred_proba = package_model.predict_proba(X_test)"
   ]
  },
  {
   "cell_type": "code",
   "execution_count": 61,
   "id": "9e68bde6",
   "metadata": {},
   "outputs": [
    {
     "data": {
      "text/plain": [
       "array([[0.27379802, 0.72620198],\n",
       "       [0.62450381, 0.37549619],\n",
       "       [0.36775622, 0.63224378],\n",
       "       ...,\n",
       "       [0.56336308, 0.43663692],\n",
       "       [0.51949682, 0.48050318],\n",
       "       [0.71762595, 0.28237405]])"
      ]
     },
     "execution_count": 61,
     "metadata": {},
     "output_type": "execute_result"
    }
   ],
   "source": [
    "y_pred_proba"
   ]
  },
  {
   "cell_type": "code",
   "execution_count": 62,
   "id": "e01a4139",
   "metadata": {},
   "outputs": [
    {
     "data": {
      "text/plain": [
       "array([0.27379802, 0.62450381, 0.36775622, ..., 0.56336308, 0.51949682,\n",
       "       0.71762595])"
      ]
     },
     "execution_count": 62,
     "metadata": {},
     "output_type": "execute_result"
    }
   ],
   "source": [
    "y_pred_proba[:,0]"
   ]
  },
  {
   "cell_type": "code",
   "execution_count": 63,
   "id": "d45c8582",
   "metadata": {},
   "outputs": [
    {
     "name": "stdout",
     "output_type": "stream",
     "text": [
      "Recall: 0.733\n",
      "Precision: 0.627\n",
      "Accuracy: 0.915\n",
      "F1-score: 0.676\n"
     ]
    },
    {
     "data": {
      "text/plain": [
       "(0.733, 0.627, 0.915, 0.676)"
      ]
     },
     "execution_count": 63,
     "metadata": {},
     "output_type": "execute_result"
    },
    {
     "data": {
      "image/png": "[encoded data removed]",
      "text/plain": [
       "<Figure size 432x288 with 2 Axes>"
      ]
     },
     "metadata": {
      "needs_background": "light"
     },
     "output_type": "display_data"
    }
   ],
   "source": [
    "conf_mx_all(y_test, y_pred)"
   ]
  },
  {
   "cell_type": "code",
   "execution_count": 64,
   "id": "fd388440",
   "metadata": {},
   "outputs": [
    {
     "data": {
      "text/html": [
       "<div>\n",
       "<style scoped>\n",
       "    .dataframe tbody tr th:only-of-type {\n",
       "        vertical-align: middle;\n",
       "    }\n",
       "\n",
       "    .dataframe tbody tr th {\n",
       "        vertical-align: top;\n",
       "    }\n",
       "\n",
       "    .dataframe thead th {\n",
       "        text-align: right;\n",
       "    }\n",
       "</style>\n",
       "<table border=\"1\" class=\"dataframe\">\n",
       "  <thead>\n",
       "    <tr style=\"text-align: right;\">\n",
       "      <th></th>\n",
       "      <th>text</th>\n",
       "      <th>proba_0</th>\n",
       "      <th>proba_1</th>\n",
       "      <th>prediction</th>\n",
       "      <th>color</th>\n",
       "    </tr>\n",
       "  </thead>\n",
       "  <tbody>\n",
       "    <tr>\n",
       "      <th>215619</th>\n",
       "      <td>The kick ass part of the dessert was the ass c...</td>\n",
       "      <td>0.273798</td>\n",
       "      <td>0.726202</td>\n",
       "      <td>1.0</td>\n",
       "      <td>orange</td>\n",
       "    </tr>\n",
       "    <tr>\n",
       "      <th>221952</th>\n",
       "      <td>\"The Korem foundation will never see another d...</td>\n",
       "      <td>0.624504</td>\n",
       "      <td>0.375496</td>\n",
       "      <td>0.0</td>\n",
       "      <td>None</td>\n",
       "    </tr>\n",
       "    <tr>\n",
       "      <th>66532</th>\n",
       "      <td>PPS: by the way stop trying to become an admin...</td>\n",
       "      <td>0.367756</td>\n",
       "      <td>0.632244</td>\n",
       "      <td>1.0</td>\n",
       "      <td>yellow</td>\n",
       "    </tr>\n",
       "    <tr>\n",
       "      <th>187427</th>\n",
       "      <td>I've responded to your longer message on my ...</td>\n",
       "      <td>0.755872</td>\n",
       "      <td>0.244128</td>\n",
       "      <td>0.0</td>\n",
       "      <td>None</td>\n",
       "    </tr>\n",
       "    <tr>\n",
       "      <th>204350</th>\n",
       "      <td>@seanbonner @metsfan anything that requires a ...</td>\n",
       "      <td>0.659961</td>\n",
       "      <td>0.340039</td>\n",
       "      <td>0.0</td>\n",
       "      <td>None</td>\n",
       "    </tr>\n",
       "    <tr>\n",
       "      <th>...</th>\n",
       "      <td>...</td>\n",
       "      <td>...</td>\n",
       "      <td>...</td>\n",
       "      <td>...</td>\n",
       "      <td>...</td>\n",
       "    </tr>\n",
       "    <tr>\n",
       "      <th>174893</th>\n",
       "      <td>::*P.S. about disambig pages: it seems that y...</td>\n",
       "      <td>0.776209</td>\n",
       "      <td>0.223791</td>\n",
       "      <td>0.0</td>\n",
       "      <td>None</td>\n",
       "    </tr>\n",
       "    <tr>\n",
       "      <th>42249</th>\n",
       "      <td>If there was disagreement, someone would post ...</td>\n",
       "      <td>0.762451</td>\n",
       "      <td>0.237549</td>\n",
       "      <td>0.0</td>\n",
       "      <td>None</td>\n",
       "    </tr>\n",
       "    <tr>\n",
       "      <th>4290</th>\n",
       "      <td>I come from the Faroe Islands. Hoinga Hinga Ho...</td>\n",
       "      <td>0.563363</td>\n",
       "      <td>0.436637</td>\n",
       "      <td>0.0</td>\n",
       "      <td>None</td>\n",
       "    </tr>\n",
       "    <tr>\n",
       "      <th>39232</th>\n",
       "      <td>== clio's hair ==  i always had the picture ...</td>\n",
       "      <td>0.519497</td>\n",
       "      <td>0.480503</td>\n",
       "      <td>0.0</td>\n",
       "      <td>None</td>\n",
       "    </tr>\n",
       "    <tr>\n",
       "      <th>67386</th>\n",
       "      <td>`  :: No, the cloud came way before 'Cloud Com...</td>\n",
       "      <td>0.717626</td>\n",
       "      <td>0.282374</td>\n",
       "      <td>0.0</td>\n",
       "      <td>None</td>\n",
       "    </tr>\n",
       "  </tbody>\n",
       "</table>\n",
       "<p>69141 rows × 5 columns</p>\n",
       "</div>"
      ],
      "text/plain": [
       "                                                     text   proba_0   proba_1  \\\n",
       "215619  The kick ass part of the dessert was the ass c...  0.273798  0.726202   \n",
       "221952  \"The Korem foundation will never see another d...  0.624504  0.375496   \n",
       "66532   PPS: by the way stop trying to become an admin...  0.367756  0.632244   \n",
       "187427    I've responded to your longer message on my ...  0.755872  0.244128   \n",
       "204350  @seanbonner @metsfan anything that requires a ...  0.659961  0.340039   \n",
       "...                                                   ...       ...       ...   \n",
       "174893   ::*P.S. about disambig pages: it seems that y...  0.776209  0.223791   \n",
       "42249   If there was disagreement, someone would post ...  0.762451  0.237549   \n",
       "4290    I come from the Faroe Islands. Hoinga Hinga Ho...  0.563363  0.436637   \n",
       "39232     == clio's hair ==  i always had the picture ...  0.519497  0.480503   \n",
       "67386   `  :: No, the cloud came way before 'Cloud Com...  0.717626  0.282374   \n",
       "\n",
       "        prediction   color  \n",
       "215619         1.0  orange  \n",
       "221952         0.0    None  \n",
       "66532          1.0  yellow  \n",
       "187427         0.0    None  \n",
       "204350         0.0    None  \n",
       "...            ...     ...  \n",
       "174893         0.0    None  \n",
       "42249          0.0    None  \n",
       "4290           0.0    None  \n",
       "39232          0.0    None  \n",
       "67386          0.0    None  \n",
       "\n",
       "[69141 rows x 5 columns]"
      ]
     },
     "execution_count": 64,
     "metadata": {},
     "output_type": "execute_result"
    }
   ],
   "source": [
    "package_model.predict_all(X_test)"
   ]
  },
  {
   "cell_type": "code",
   "execution_count": 65,
   "id": "be4904a6",
   "metadata": {},
   "outputs": [
    {
     "data": {
      "text/html": [
       "<div>\n",
       "<style scoped>\n",
       "    .dataframe tbody tr th:only-of-type {\n",
       "        vertical-align: middle;\n",
       "    }\n",
       "\n",
       "    .dataframe tbody tr th {\n",
       "        vertical-align: top;\n",
       "    }\n",
       "\n",
       "    .dataframe thead th {\n",
       "        text-align: right;\n",
       "    }\n",
       "</style>\n",
       "<table border=\"1\" class=\"dataframe\">\n",
       "  <thead>\n",
       "    <tr style=\"text-align: right;\">\n",
       "      <th></th>\n",
       "      <th>text</th>\n",
       "      <th>target</th>\n",
       "    </tr>\n",
       "  </thead>\n",
       "  <tbody>\n",
       "    <tr>\n",
       "      <th>134352</th>\n",
       "      <td>` :::::I don't think it is pertinent. April 15...</td>\n",
       "      <td>0.0</td>\n",
       "    </tr>\n",
       "    <tr>\n",
       "      <th>112531</th>\n",
       "      <td>In that case why not just tweak the wording ...</td>\n",
       "      <td>0.0</td>\n",
       "    </tr>\n",
       "    <tr>\n",
       "      <th>78128</th>\n",
       "      <td>`  {| style=``border: 1px solid gray; backgrou...</td>\n",
       "      <td>0.0</td>\n",
       "    </tr>\n",
       "    <tr>\n",
       "      <th>64467</th>\n",
       "      <td>==Vandalislisilisilism===  Gee, Thanks!</td>\n",
       "      <td>0.0</td>\n",
       "    </tr>\n",
       "    <tr>\n",
       "      <th>165431</th>\n",
       "      <td>== sorry mate ==  Sorry mate, but your meaas...</td>\n",
       "      <td>1.0</td>\n",
       "    </tr>\n",
       "    <tr>\n",
       "      <th>189993</th>\n",
       "      <td>== U21 templates ==  Many thanks for creatin...</td>\n",
       "      <td>0.0</td>\n",
       "    </tr>\n",
       "    <tr>\n",
       "      <th>11818</th>\n",
       "      <td>For the same reasson that EPROM is called that...</td>\n",
       "      <td>0.0</td>\n",
       "    </tr>\n",
       "    <tr>\n",
       "      <th>81183</th>\n",
       "      <td>i dont care anymore i am going to continue u...</td>\n",
       "      <td>0.0</td>\n",
       "    </tr>\n",
       "    <tr>\n",
       "      <th>158643</th>\n",
       "      <td>27 - Romili||Seed|||Seed| |December 27</td>\n",
       "      <td>0.0</td>\n",
       "    </tr>\n",
       "    <tr>\n",
       "      <th>147542</th>\n",
       "      <td>`This editor is changing Infobox information c...</td>\n",
       "      <td>0.0</td>\n",
       "    </tr>\n",
       "    <tr>\n",
       "      <th>48061</th>\n",
       "      <td>`   == Palestine ==  Why isnt the palestinian ...</td>\n",
       "      <td>0.0</td>\n",
       "    </tr>\n",
       "    <tr>\n",
       "      <th>42636</th>\n",
       "      <td>AfD Help Hey, I also have a deletionist after ...</td>\n",
       "      <td>0.0</td>\n",
       "    </tr>\n",
       "    <tr>\n",
       "      <th>198775</th>\n",
       "      <td>:Then I think if you have references in Engli...</td>\n",
       "      <td>0.0</td>\n",
       "    </tr>\n",
       "    <tr>\n",
       "      <th>29303</th>\n",
       "      <td>== Gay ==  Isn't it notable that there are g...</td>\n",
       "      <td>1.0</td>\n",
       "    </tr>\n",
       "    <tr>\n",
       "      <th>46580</th>\n",
       "      <td>I think it should remain the same way until ...</td>\n",
       "      <td>0.0</td>\n",
       "    </tr>\n",
       "    <tr>\n",
       "      <th>225653</th>\n",
       "      <td>\"@Sara Besleaga Griji, doruri sau dorin\\\\xc8\\\\...</td>\n",
       "      <td>0.0</td>\n",
       "    </tr>\n",
       "    <tr>\n",
       "      <th>42716</th>\n",
       "      <td>:::So they didn't see anything, as there isn'...</td>\n",
       "      <td>0.0</td>\n",
       "    </tr>\n",
       "    <tr>\n",
       "      <th>142213</th>\n",
       "      <td>:::::::::We have two images, one contemporany...</td>\n",
       "      <td>0.0</td>\n",
       "    </tr>\n",
       "    <tr>\n",
       "      <th>35936</th>\n",
       "      <td>Please If I have done anything wrong on wiki w...</td>\n",
       "      <td>0.0</td>\n",
       "    </tr>\n",
       "    <tr>\n",
       "      <th>214551</th>\n",
       "      <td>I got it! They're bringing the slam dunk conte...</td>\n",
       "      <td>0.0</td>\n",
       "    </tr>\n",
       "  </tbody>\n",
       "</table>\n",
       "</div>"
      ],
      "text/plain": [
       "                                                     text  target\n",
       "134352  ` :::::I don't think it is pertinent. April 15...     0.0\n",
       "112531    In that case why not just tweak the wording ...     0.0\n",
       "78128   `  {| style=``border: 1px solid gray; backgrou...     0.0\n",
       "64467           ==Vandalislisilisilism===  Gee, Thanks!       0.0\n",
       "165431    == sorry mate ==  Sorry mate, but your meaas...     1.0\n",
       "189993    == U21 templates ==  Many thanks for creatin...     0.0\n",
       "11818   For the same reasson that EPROM is called that...     0.0\n",
       "81183     i dont care anymore i am going to continue u...     0.0\n",
       "158643             27 - Romili||Seed|||Seed| |December 27     0.0\n",
       "147542  `This editor is changing Infobox information c...     0.0\n",
       "48061   `   == Palestine ==  Why isnt the palestinian ...     0.0\n",
       "42636   AfD Help Hey, I also have a deletionist after ...     0.0\n",
       "198775   :Then I think if you have references in Engli...     0.0\n",
       "29303     == Gay ==  Isn't it notable that there are g...     1.0\n",
       "46580     I think it should remain the same way until ...     0.0\n",
       "225653  \"@Sara Besleaga Griji, doruri sau dorin\\\\xc8\\\\...     0.0\n",
       "42716    :::So they didn't see anything, as there isn'...     0.0\n",
       "142213   :::::::::We have two images, one contemporany...     0.0\n",
       "35936   Please If I have done anything wrong on wiki w...     0.0\n",
       "214551  I got it! They're bringing the slam dunk conte...     0.0"
      ]
     },
     "execution_count": 65,
     "metadata": {},
     "output_type": "execute_result"
    }
   ],
   "source": [
    "pd.DataFrame({'text': X_test['text'], 'target': y_test})[60:80]"
   ]
  },
  {
   "cell_type": "code",
   "execution_count": 69,
   "id": "73a8a7b3",
   "metadata": {},
   "outputs": [],
   "source": [
    "texto = '`   Please do not vandalize pages, as you did with this edit to Rhode Island. If you continue to do so, you will be blocked from editing.  \\xa0–\\xa0 `'"
   ]
  },
  {
   "cell_type": "code",
   "execution_count": 70,
   "id": "67ed4d44",
   "metadata": {},
   "outputs": [
    {
     "data": {
      "text/plain": [
       "array([0.])"
      ]
     },
     "execution_count": 70,
     "metadata": {},
     "output_type": "execute_result"
    }
   ],
   "source": [
    "package_model.predict(texto)"
   ]
  },
  {
   "cell_type": "code",
   "execution_count": 71,
   "id": "3d07ff2b",
   "metadata": {},
   "outputs": [
    {
     "data": {
      "text/plain": [
       "array([[0.74132437, 0.25867563]])"
      ]
     },
     "execution_count": 71,
     "metadata": {},
     "output_type": "execute_result"
    }
   ],
   "source": [
    "package_model.predict_proba(texto)"
   ]
  },
  {
   "cell_type": "code",
   "execution_count": 72,
   "id": "f09b04cc",
   "metadata": {
    "scrolled": true
   },
   "outputs": [
    {
     "data": {
      "text/html": [
       "<div>\n",
       "<style scoped>\n",
       "    .dataframe tbody tr th:only-of-type {\n",
       "        vertical-align: middle;\n",
       "    }\n",
       "\n",
       "    .dataframe tbody tr th {\n",
       "        vertical-align: top;\n",
       "    }\n",
       "\n",
       "    .dataframe thead th {\n",
       "        text-align: right;\n",
       "    }\n",
       "</style>\n",
       "<table border=\"1\" class=\"dataframe\">\n",
       "  <thead>\n",
       "    <tr style=\"text-align: right;\">\n",
       "      <th></th>\n",
       "      <th>text</th>\n",
       "      <th>proba_0</th>\n",
       "      <th>proba_1</th>\n",
       "      <th>prediction</th>\n",
       "      <th>color</th>\n",
       "    </tr>\n",
       "  </thead>\n",
       "  <tbody>\n",
       "    <tr>\n",
       "      <th>0</th>\n",
       "      <td>`</td>\n",
       "      <td>0.648487</td>\n",
       "      <td>0.351513</td>\n",
       "      <td>0.0</td>\n",
       "      <td>None</td>\n",
       "    </tr>\n",
       "    <tr>\n",
       "      <th>1</th>\n",
       "      <td>Please</td>\n",
       "      <td>0.824512</td>\n",
       "      <td>0.175488</td>\n",
       "      <td>0.0</td>\n",
       "      <td>None</td>\n",
       "    </tr>\n",
       "    <tr>\n",
       "      <th>2</th>\n",
       "      <td>do</td>\n",
       "      <td>0.648487</td>\n",
       "      <td>0.351513</td>\n",
       "      <td>0.0</td>\n",
       "      <td>None</td>\n",
       "    </tr>\n",
       "    <tr>\n",
       "      <th>3</th>\n",
       "      <td>not</td>\n",
       "      <td>0.648487</td>\n",
       "      <td>0.351513</td>\n",
       "      <td>0.0</td>\n",
       "      <td>None</td>\n",
       "    </tr>\n",
       "    <tr>\n",
       "      <th>4</th>\n",
       "      <td>vandalize</td>\n",
       "      <td>0.669443</td>\n",
       "      <td>0.330557</td>\n",
       "      <td>0.0</td>\n",
       "      <td>None</td>\n",
       "    </tr>\n",
       "    <tr>\n",
       "      <th>5</th>\n",
       "      <td>pages,</td>\n",
       "      <td>0.677093</td>\n",
       "      <td>0.322907</td>\n",
       "      <td>0.0</td>\n",
       "      <td>None</td>\n",
       "    </tr>\n",
       "    <tr>\n",
       "      <th>6</th>\n",
       "      <td>as</td>\n",
       "      <td>0.648487</td>\n",
       "      <td>0.351513</td>\n",
       "      <td>0.0</td>\n",
       "      <td>None</td>\n",
       "    </tr>\n",
       "    <tr>\n",
       "      <th>7</th>\n",
       "      <td>you</td>\n",
       "      <td>0.648487</td>\n",
       "      <td>0.351513</td>\n",
       "      <td>0.0</td>\n",
       "      <td>None</td>\n",
       "    </tr>\n",
       "    <tr>\n",
       "      <th>8</th>\n",
       "      <td>did</td>\n",
       "      <td>0.648487</td>\n",
       "      <td>0.351513</td>\n",
       "      <td>0.0</td>\n",
       "      <td>None</td>\n",
       "    </tr>\n",
       "    <tr>\n",
       "      <th>9</th>\n",
       "      <td>with</td>\n",
       "      <td>0.648487</td>\n",
       "      <td>0.351513</td>\n",
       "      <td>0.0</td>\n",
       "      <td>None</td>\n",
       "    </tr>\n",
       "    <tr>\n",
       "      <th>10</th>\n",
       "      <td>this</td>\n",
       "      <td>0.648487</td>\n",
       "      <td>0.351513</td>\n",
       "      <td>0.0</td>\n",
       "      <td>None</td>\n",
       "    </tr>\n",
       "    <tr>\n",
       "      <th>11</th>\n",
       "      <td>edit</td>\n",
       "      <td>0.661556</td>\n",
       "      <td>0.338444</td>\n",
       "      <td>0.0</td>\n",
       "      <td>None</td>\n",
       "    </tr>\n",
       "    <tr>\n",
       "      <th>12</th>\n",
       "      <td>to</td>\n",
       "      <td>0.648487</td>\n",
       "      <td>0.351513</td>\n",
       "      <td>0.0</td>\n",
       "      <td>None</td>\n",
       "    </tr>\n",
       "    <tr>\n",
       "      <th>13</th>\n",
       "      <td>Rhode</td>\n",
       "      <td>0.648487</td>\n",
       "      <td>0.351513</td>\n",
       "      <td>0.0</td>\n",
       "      <td>None</td>\n",
       "    </tr>\n",
       "    <tr>\n",
       "      <th>14</th>\n",
       "      <td>Island.</td>\n",
       "      <td>0.648487</td>\n",
       "      <td>0.351513</td>\n",
       "      <td>0.0</td>\n",
       "      <td>None</td>\n",
       "    </tr>\n",
       "    <tr>\n",
       "      <th>15</th>\n",
       "      <td>If</td>\n",
       "      <td>0.648487</td>\n",
       "      <td>0.351513</td>\n",
       "      <td>0.0</td>\n",
       "      <td>None</td>\n",
       "    </tr>\n",
       "    <tr>\n",
       "      <th>16</th>\n",
       "      <td>you</td>\n",
       "      <td>0.648487</td>\n",
       "      <td>0.351513</td>\n",
       "      <td>0.0</td>\n",
       "      <td>None</td>\n",
       "    </tr>\n",
       "    <tr>\n",
       "      <th>17</th>\n",
       "      <td>continue</td>\n",
       "      <td>0.721327</td>\n",
       "      <td>0.278673</td>\n",
       "      <td>0.0</td>\n",
       "      <td>None</td>\n",
       "    </tr>\n",
       "    <tr>\n",
       "      <th>18</th>\n",
       "      <td>to</td>\n",
       "      <td>0.648487</td>\n",
       "      <td>0.351513</td>\n",
       "      <td>0.0</td>\n",
       "      <td>None</td>\n",
       "    </tr>\n",
       "    <tr>\n",
       "      <th>19</th>\n",
       "      <td>do</td>\n",
       "      <td>0.648487</td>\n",
       "      <td>0.351513</td>\n",
       "      <td>0.0</td>\n",
       "      <td>None</td>\n",
       "    </tr>\n",
       "    <tr>\n",
       "      <th>20</th>\n",
       "      <td>so,</td>\n",
       "      <td>0.648487</td>\n",
       "      <td>0.351513</td>\n",
       "      <td>0.0</td>\n",
       "      <td>None</td>\n",
       "    </tr>\n",
       "    <tr>\n",
       "      <th>21</th>\n",
       "      <td>you</td>\n",
       "      <td>0.648487</td>\n",
       "      <td>0.351513</td>\n",
       "      <td>0.0</td>\n",
       "      <td>None</td>\n",
       "    </tr>\n",
       "    <tr>\n",
       "      <th>22</th>\n",
       "      <td>will</td>\n",
       "      <td>0.648487</td>\n",
       "      <td>0.351513</td>\n",
       "      <td>0.0</td>\n",
       "      <td>None</td>\n",
       "    </tr>\n",
       "    <tr>\n",
       "      <th>23</th>\n",
       "      <td>be</td>\n",
       "      <td>0.648487</td>\n",
       "      <td>0.351513</td>\n",
       "      <td>0.0</td>\n",
       "      <td>None</td>\n",
       "    </tr>\n",
       "    <tr>\n",
       "      <th>24</th>\n",
       "      <td>blocked</td>\n",
       "      <td>0.650513</td>\n",
       "      <td>0.349487</td>\n",
       "      <td>0.0</td>\n",
       "      <td>None</td>\n",
       "    </tr>\n",
       "    <tr>\n",
       "      <th>25</th>\n",
       "      <td>from</td>\n",
       "      <td>0.648487</td>\n",
       "      <td>0.351513</td>\n",
       "      <td>0.0</td>\n",
       "      <td>None</td>\n",
       "    </tr>\n",
       "    <tr>\n",
       "      <th>26</th>\n",
       "      <td>editing.</td>\n",
       "      <td>0.736323</td>\n",
       "      <td>0.263677</td>\n",
       "      <td>0.0</td>\n",
       "      <td>None</td>\n",
       "    </tr>\n",
       "    <tr>\n",
       "      <th>27</th>\n",
       "      <td>–</td>\n",
       "      <td>0.648487</td>\n",
       "      <td>0.351513</td>\n",
       "      <td>0.0</td>\n",
       "      <td>None</td>\n",
       "    </tr>\n",
       "    <tr>\n",
       "      <th>28</th>\n",
       "      <td>`</td>\n",
       "      <td>0.648487</td>\n",
       "      <td>0.351513</td>\n",
       "      <td>0.0</td>\n",
       "      <td>None</td>\n",
       "    </tr>\n",
       "  </tbody>\n",
       "</table>\n",
       "</div>"
      ],
      "text/plain": [
       "         text   proba_0   proba_1  prediction color\n",
       "0           `  0.648487  0.351513         0.0  None\n",
       "1      Please  0.824512  0.175488         0.0  None\n",
       "2          do  0.648487  0.351513         0.0  None\n",
       "3         not  0.648487  0.351513         0.0  None\n",
       "4   vandalize  0.669443  0.330557         0.0  None\n",
       "5      pages,  0.677093  0.322907         0.0  None\n",
       "6          as  0.648487  0.351513         0.0  None\n",
       "7         you  0.648487  0.351513         0.0  None\n",
       "8         did  0.648487  0.351513         0.0  None\n",
       "9        with  0.648487  0.351513         0.0  None\n",
       "10       this  0.648487  0.351513         0.0  None\n",
       "11       edit  0.661556  0.338444         0.0  None\n",
       "12         to  0.648487  0.351513         0.0  None\n",
       "13      Rhode  0.648487  0.351513         0.0  None\n",
       "14    Island.  0.648487  0.351513         0.0  None\n",
       "15         If  0.648487  0.351513         0.0  None\n",
       "16        you  0.648487  0.351513         0.0  None\n",
       "17   continue  0.721327  0.278673         0.0  None\n",
       "18         to  0.648487  0.351513         0.0  None\n",
       "19         do  0.648487  0.351513         0.0  None\n",
       "20        so,  0.648487  0.351513         0.0  None\n",
       "21        you  0.648487  0.351513         0.0  None\n",
       "22       will  0.648487  0.351513         0.0  None\n",
       "23         be  0.648487  0.351513         0.0  None\n",
       "24    blocked  0.650513  0.349487         0.0  None\n",
       "25       from  0.648487  0.351513         0.0  None\n",
       "26   editing.  0.736323  0.263677         0.0  None\n",
       "27          –  0.648487  0.351513         0.0  None\n",
       "28          `  0.648487  0.351513         0.0  None"
      ]
     },
     "execution_count": 72,
     "metadata": {},
     "output_type": "execute_result"
    }
   ],
   "source": [
    "package_model.predict_simple_text(texto)"
   ]
  },
  {
   "cell_type": "code",
   "execution_count": null,
   "id": "d10adccb",
   "metadata": {},
   "outputs": [],
   "source": [
    "test_html = package_model.predict_phrase(texto)\n",
    "test_html"
   ]
  },
  {
   "cell_type": "code",
   "execution_count": null,
   "id": "a19cc6c4",
   "metadata": {},
   "outputs": [],
   "source": []
  },
  {
   "cell_type": "code",
   "execution_count": null,
   "id": "e3dd2261",
   "metadata": {},
   "outputs": [],
   "source": [
    "#package_model.predict_all(' Your a prick. keep your personal thoughts to your self. Jeff is the best driver ever and thats a fact. You musy be an idiot redneck.')"
   ]
  },
  {
   "cell_type": "code",
   "execution_count": null,
   "id": "d1ef4e36",
   "metadata": {},
   "outputs": [],
   "source": [
    "#package_model.predict_simple_text(' Your a prick. keep your personal thoughts to your self. Jeff is the best driver ever and thats a fact. You musy be an idiot redneck.')"
   ]
  },
  {
   "cell_type": "code",
   "execution_count": null,
   "id": "632ac61b",
   "metadata": {},
   "outputs": [],
   "source": [
    "from cyberbullying.utils import get_trained_model, save_trained_model"
   ]
  },
  {
   "cell_type": "code",
   "execution_count": null,
   "id": "f39c5fcf",
   "metadata": {},
   "outputs": [],
   "source": [
    "save_trained_model(package_model, 'model_prediction')"
   ]
  },
  {
   "cell_type": "code",
   "execution_count": null,
   "id": "e73bb925",
   "metadata": {},
   "outputs": [],
   "source": [
    "trained_model = get_trained_model('model_prediction')"
   ]
  },
  {
   "cell_type": "code",
   "execution_count": null,
   "id": "429e84e8",
   "metadata": {},
   "outputs": [],
   "source": [
    "trained_model"
   ]
  },
  {
   "cell_type": "code",
   "execution_count": null,
   "id": "398bd9cf",
   "metadata": {},
   "outputs": [],
   "source": [
    "trained_model.predict(texto)"
   ]
  },
  {
   "cell_type": "code",
   "execution_count": null,
   "id": "40496a9d",
   "metadata": {},
   "outputs": [],
   "source": [
    "trained_model.predict_proba(texto)"
   ]
  },
  {
   "cell_type": "code",
   "execution_count": null,
   "id": "b7e26736",
   "metadata": {},
   "outputs": [],
   "source": [
    "trained_model.predict_phrase(texto)"
   ]
  },
  {
   "cell_type": "code",
   "execution_count": null,
   "id": "bcc12e08",
   "metadata": {},
   "outputs": [],
   "source": []
  },
  {
   "cell_type": "code",
   "execution_count": null,
   "id": "f6680b24",
   "metadata": {},
   "outputs": [],
   "source": []
  },
  {
   "cell_type": "markdown",
   "id": "a97f0c29",
   "metadata": {},
   "source": [
    "# Classification"
   ]
  },
  {
   "cell_type": "code",
   "execution_count": null,
   "id": "c109b912",
   "metadata": {},
   "outputs": [],
   "source": [
    "data_class = Data().get_data_classification()"
   ]
  },
  {
   "cell_type": "code",
   "execution_count": null,
   "id": "cf82a541",
   "metadata": {},
   "outputs": [],
   "source": [
    "data_class.head()"
   ]
  },
  {
   "cell_type": "code",
   "execution_count": null,
   "id": "bed5f9f0",
   "metadata": {},
   "outputs": [],
   "source": [
    "data_class.shape"
   ]
  },
  {
   "cell_type": "code",
   "execution_count": null,
   "id": "ca15d54f",
   "metadata": {},
   "outputs": [],
   "source": [
    "X_train, X_test, y_train, y_test = train_test_split(data_class[['text']], data_class['type'], test_size=0.3, random_state=0)"
   ]
  },
  {
   "cell_type": "code",
   "execution_count": null,
   "id": "6fce1c45",
   "metadata": {},
   "outputs": [],
   "source": [
    "classifier_model = MLClassifier()"
   ]
  },
  {
   "cell_type": "code",
   "execution_count": null,
   "id": "61a605a9",
   "metadata": {},
   "outputs": [],
   "source": [
    "classifier_model"
   ]
  },
  {
   "cell_type": "code",
   "execution_count": null,
   "id": "8afe3594",
   "metadata": {},
   "outputs": [],
   "source": [
    "classifier_model.vectorizer"
   ]
  },
  {
   "cell_type": "code",
   "execution_count": null,
   "id": "cf55b9c3",
   "metadata": {},
   "outputs": [],
   "source": [
    "classifier_model.model"
   ]
  },
  {
   "cell_type": "code",
   "execution_count": null,
   "id": "d2bfa553",
   "metadata": {},
   "outputs": [],
   "source": [
    "classifier_model.set_pipeline()"
   ]
  },
  {
   "cell_type": "code",
   "execution_count": null,
   "id": "866dc364",
   "metadata": {},
   "outputs": [],
   "source": [
    "classifier_model.pipeline"
   ]
  },
  {
   "cell_type": "code",
   "execution_count": null,
   "id": "70010212",
   "metadata": {},
   "outputs": [],
   "source": [
    "classifier_model.train(X_train, y_train)"
   ]
  },
  {
   "cell_type": "code",
   "execution_count": null,
   "id": "3ff40248",
   "metadata": {},
   "outputs": [],
   "source": [
    "y_pred = classifier_model.predict(X_test)"
   ]
  },
  {
   "cell_type": "code",
   "execution_count": null,
   "id": "277d7517",
   "metadata": {},
   "outputs": [],
   "source": [
    "y_pred"
   ]
  },
  {
   "cell_type": "code",
   "execution_count": null,
   "id": "0cb22419",
   "metadata": {},
   "outputs": [],
   "source": [
    "print(classification_report(y_test, y_pred))"
   ]
  },
  {
   "cell_type": "code",
   "execution_count": null,
   "id": "a1ff1718",
   "metadata": {},
   "outputs": [],
   "source": [
    "save_trained_model(classifier_model, 'model_classifier')"
   ]
  },
  {
   "cell_type": "code",
   "execution_count": null,
   "id": "f7d12bf4",
   "metadata": {},
   "outputs": [],
   "source": [
    "trained_classifier_model = get_trained_model('model_classifier')"
   ]
  },
  {
   "cell_type": "code",
   "execution_count": null,
   "id": "03057f4e",
   "metadata": {},
   "outputs": [],
   "source": [
    "trained_classifier_model"
   ]
  },
  {
   "cell_type": "code",
   "execution_count": null,
   "id": "dc1fd2fe",
   "metadata": {},
   "outputs": [],
   "source": [
    "texto"
   ]
  },
  {
   "cell_type": "code",
   "execution_count": null,
   "id": "32f2d5a1",
   "metadata": {},
   "outputs": [],
   "source": [
    "trained_classifier_model.predict(texto)[0]"
   ]
  },
  {
   "cell_type": "code",
   "execution_count": null,
   "id": "e744d56b",
   "metadata": {},
   "outputs": [],
   "source": [
    "from cyberbullying.utils import predict"
   ]
  },
  {
   "cell_type": "code",
   "execution_count": null,
   "id": "0798f4c7",
   "metadata": {},
   "outputs": [],
   "source": [
    "predict(texto)"
   ]
  },
  {
   "cell_type": "code",
   "execution_count": null,
   "id": "cd0cefd8",
   "metadata": {},
   "outputs": [],
   "source": [
    "predict('hello how are you')"
   ]
  },
  {
   "cell_type": "code",
   "execution_count": null,
   "id": "912ce293",
   "metadata": {},
   "outputs": [],
   "source": []
  }
 ],
 "metadata": {
  "kernelspec": {
   "display_name": "Python 3 (ipykernel)",
   "language": "python",
   "name": "python3"
  },
  "language_info": {
   "codemirror_mode": {
    "name": "ipython",
    "version": 3
   },
   "file_extension": ".py",
   "mimetype": "text/x-python",
   "name": "python",
   "nbconvert_exporter": "python",
   "pygments_lexer": "ipython3",
   "version": "3.8.12"
  },
  "toc": {
   "base_numbering": 1,
   "nav_menu": {},
   "number_sections": true,
   "sideBar": true,
   "skip_h1_title": false,
   "title_cell": "Table of Contents",
   "title_sidebar": "Contents",
   "toc_cell": false,
   "toc_position": {},
   "toc_section_display": true,
   "toc_window_display": false
  }
 },
 "nbformat": 4,
 "nbformat_minor": 5
}
