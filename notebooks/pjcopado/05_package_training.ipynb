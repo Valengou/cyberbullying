{
 "cells": [
  {
   "cell_type": "code",
   "execution_count": 1,
   "id": "0143b7fe",
   "metadata": {},
   "outputs": [],
   "source": [
    "%load_ext autoreload\n",
    "%autoreload 2"
   ]
  },
  {
   "cell_type": "code",
   "execution_count": 2,
   "id": "4a9095ee",
   "metadata": {},
   "outputs": [],
   "source": [
    "from cyberbullying.data import Data\n",
    "from cyberbullying.models import MLModel, MLClassifier\n",
    "from cyberbullying.utils import conf_mx_all\n",
    "from sklearn.metrics import classification_report"
   ]
  },
  {
   "cell_type": "code",
   "execution_count": 3,
   "id": "05033264",
   "metadata": {},
   "outputs": [],
   "source": [
    "from sklearn.model_selection import train_test_split\n",
    "import numpy as np\n",
    "import pandas as pd"
   ]
  },
  {
   "cell_type": "code",
   "execution_count": 4,
   "id": "f0065034",
   "metadata": {},
   "outputs": [],
   "source": [
    "import joblib"
   ]
  },
  {
   "cell_type": "code",
   "execution_count": 5,
   "id": "9a1314e5",
   "metadata": {},
   "outputs": [],
   "source": [
    "from sklearn import set_config\n",
    "set_config(display='diagram')"
   ]
  },
  {
   "cell_type": "code",
   "execution_count": 6,
   "id": "859f1bc8",
   "metadata": {},
   "outputs": [
    {
     "name": "stdout",
     "output_type": "stream",
     "text": [
      "dict_keys(['toxicity', 'aggression', 'twitter', 'twitter_racism', 'twitter_sexism', 'youtube', 'kaggle'])\n",
      "['toxicity', 'aggression', 'twitter', 'twitter_racism', 'twitter_sexism', 'youtube', 'kaggle']\n"
     ]
    }
   ],
   "source": [
    "data = Data().get_data(datasets='all')"
   ]
  },
  {
   "cell_type": "code",
   "execution_count": 7,
   "id": "e51bda44",
   "metadata": {},
   "outputs": [
    {
     "data": {
      "text/html": [
       "<div>\n",
       "<style scoped>\n",
       "    .dataframe tbody tr th:only-of-type {\n",
       "        vertical-align: middle;\n",
       "    }\n",
       "\n",
       "    .dataframe tbody tr th {\n",
       "        vertical-align: top;\n",
       "    }\n",
       "\n",
       "    .dataframe thead th {\n",
       "        text-align: right;\n",
       "    }\n",
       "</style>\n",
       "<table border=\"1\" class=\"dataframe\">\n",
       "  <thead>\n",
       "    <tr style=\"text-align: right;\">\n",
       "      <th></th>\n",
       "      <th>text</th>\n",
       "      <th>target</th>\n",
       "    </tr>\n",
       "  </thead>\n",
       "  <tbody>\n",
       "    <tr>\n",
       "      <th>0</th>\n",
       "      <td>This: :One can make an analogy in mathematical...</td>\n",
       "      <td>0.0</td>\n",
       "    </tr>\n",
       "    <tr>\n",
       "      <th>1</th>\n",
       "      <td>`  :Clarification for you  (and Zundark's righ...</td>\n",
       "      <td>0.0</td>\n",
       "    </tr>\n",
       "    <tr>\n",
       "      <th>2</th>\n",
       "      <td>Elected or Electoral? JHK</td>\n",
       "      <td>0.0</td>\n",
       "    </tr>\n",
       "    <tr>\n",
       "      <th>3</th>\n",
       "      <td>`This is such a fun entry.   Devotchka  I once...</td>\n",
       "      <td>0.0</td>\n",
       "    </tr>\n",
       "    <tr>\n",
       "      <th>4</th>\n",
       "      <td>Please relate the ozone hole to increases in c...</td>\n",
       "      <td>0.0</td>\n",
       "    </tr>\n",
       "    <tr>\n",
       "      <th>...</th>\n",
       "      <td>...</td>\n",
       "      <td>...</td>\n",
       "    </tr>\n",
       "    <tr>\n",
       "      <th>230944</th>\n",
       "      <td>\"Never really gave it much thought. I just fig...</td>\n",
       "      <td>0.0</td>\n",
       "    </tr>\n",
       "    <tr>\n",
       "      <th>230945</th>\n",
       "      <td>\"Nadie se salva de la regla 34 xd\"</td>\n",
       "      <td>0.0</td>\n",
       "    </tr>\n",
       "    <tr>\n",
       "      <th>230946</th>\n",
       "      <td>\"Question: Are you a boy or a girl?\"</td>\n",
       "      <td>0.0</td>\n",
       "    </tr>\n",
       "    <tr>\n",
       "      <th>230947</th>\n",
       "      <td>\"Leave your email or phone number and maybe yo...</td>\n",
       "      <td>1.0</td>\n",
       "    </tr>\n",
       "    <tr>\n",
       "      <th>230948</th>\n",
       "      <td>\"From the scenarios you present, I see you bel...</td>\n",
       "      <td>0.0</td>\n",
       "    </tr>\n",
       "  </tbody>\n",
       "</table>\n",
       "<p>230949 rows × 2 columns</p>\n",
       "</div>"
      ],
      "text/plain": [
       "                                                     text  target\n",
       "0       This: :One can make an analogy in mathematical...     0.0\n",
       "1       `  :Clarification for you  (and Zundark's righ...     0.0\n",
       "2                               Elected or Electoral? JHK     0.0\n",
       "3       `This is such a fun entry.   Devotchka  I once...     0.0\n",
       "4       Please relate the ozone hole to increases in c...     0.0\n",
       "...                                                   ...     ...\n",
       "230944  \"Never really gave it much thought. I just fig...     0.0\n",
       "230945                 \"Nadie se salva de la regla 34 xd\"     0.0\n",
       "230946               \"Question: Are you a boy or a girl?\"     0.0\n",
       "230947  \"Leave your email or phone number and maybe yo...     1.0\n",
       "230948  \"From the scenarios you present, I see you bel...     0.0\n",
       "\n",
       "[230949 rows x 2 columns]"
      ]
     },
     "execution_count": 7,
     "metadata": {},
     "output_type": "execute_result"
    }
   ],
   "source": [
    "data"
   ]
  },
  {
   "cell_type": "code",
   "execution_count": 8,
   "id": "622b57bf",
   "metadata": {},
   "outputs": [],
   "source": [
    "percentage_used = 1\n",
    "data = data.sample(frac=percentage_used, random_state=0)"
   ]
  },
  {
   "cell_type": "code",
   "execution_count": 9,
   "id": "f4e7875e",
   "metadata": {},
   "outputs": [],
   "source": [
    "X_train, X_test, y_train, y_test = train_test_split(data[['text']], data['target'], test_size=0.3, random_state=0)"
   ]
  },
  {
   "cell_type": "code",
   "execution_count": 10,
   "id": "d0819327",
   "metadata": {},
   "outputs": [
    {
     "data": {
      "text/html": [
       "<div>\n",
       "<style scoped>\n",
       "    .dataframe tbody tr th:only-of-type {\n",
       "        vertical-align: middle;\n",
       "    }\n",
       "\n",
       "    .dataframe tbody tr th {\n",
       "        vertical-align: top;\n",
       "    }\n",
       "\n",
       "    .dataframe thead th {\n",
       "        text-align: right;\n",
       "    }\n",
       "</style>\n",
       "<table border=\"1\" class=\"dataframe\">\n",
       "  <thead>\n",
       "    <tr style=\"text-align: right;\">\n",
       "      <th></th>\n",
       "      <th>text</th>\n",
       "    </tr>\n",
       "  </thead>\n",
       "  <tbody>\n",
       "    <tr>\n",
       "      <th>41325</th>\n",
       "      <td>:Could I please be unblocked?</td>\n",
       "    </tr>\n",
       "    <tr>\n",
       "      <th>63081</th>\n",
       "      <td>**** Carlo  you should not have given in to...</td>\n",
       "    </tr>\n",
       "    <tr>\n",
       "      <th>20725</th>\n",
       "      <td>` I have reverted a recent edit you made to th...</td>\n",
       "    </tr>\n",
       "    <tr>\n",
       "      <th>167785</th>\n",
       "      <td>*: I would be entirely in favor of someone m...</td>\n",
       "    </tr>\n",
       "    <tr>\n",
       "      <th>101388</th>\n",
       "      <td>`  == Reviewer granted ==   Hello. Your accoun...</td>\n",
       "    </tr>\n",
       "  </tbody>\n",
       "</table>\n",
       "</div>"
      ],
      "text/plain": [
       "                                                     text\n",
       "41325                       :Could I please be unblocked?\n",
       "63081      **** Carlo  you should not have given in to...\n",
       "20725   ` I have reverted a recent edit you made to th...\n",
       "167785    *: I would be entirely in favor of someone m...\n",
       "101388  `  == Reviewer granted ==   Hello. Your accoun..."
      ]
     },
     "execution_count": 10,
     "metadata": {},
     "output_type": "execute_result"
    }
   ],
   "source": [
    "X_train.head()"
   ]
  },
  {
   "cell_type": "code",
   "execution_count": 11,
   "id": "9e820629",
   "metadata": {},
   "outputs": [],
   "source": [
    "package_model = MLModel()"
   ]
  },
  {
   "cell_type": "code",
   "execution_count": 12,
   "id": "d4011cfb",
   "metadata": {},
   "outputs": [
    {
     "data": {
      "text/html": [
       "<style>#sk-8747c58e-7fa1-4b1c-8cdc-86808ab70510 {color: black;background-color: white;}#sk-8747c58e-7fa1-4b1c-8cdc-86808ab70510 pre{padding: 0;}#sk-8747c58e-7fa1-4b1c-8cdc-86808ab70510 div.sk-toggleable {background-color: white;}#sk-8747c58e-7fa1-4b1c-8cdc-86808ab70510 label.sk-toggleable__label {cursor: pointer;display: block;width: 100%;margin-bottom: 0;padding: 0.3em;box-sizing: border-box;text-align: center;}#sk-8747c58e-7fa1-4b1c-8cdc-86808ab70510 label.sk-toggleable__label-arrow:before {content: \"▸\";float: left;margin-right: 0.25em;color: #696969;}#sk-8747c58e-7fa1-4b1c-8cdc-86808ab70510 label.sk-toggleable__label-arrow:hover:before {color: black;}#sk-8747c58e-7fa1-4b1c-8cdc-86808ab70510 div.sk-estimator:hover label.sk-toggleable__label-arrow:before {color: black;}#sk-8747c58e-7fa1-4b1c-8cdc-86808ab70510 div.sk-toggleable__content {max-height: 0;max-width: 0;overflow: hidden;text-align: left;background-color: #f0f8ff;}#sk-8747c58e-7fa1-4b1c-8cdc-86808ab70510 div.sk-toggleable__content pre {margin: 0.2em;color: black;border-radius: 0.25em;background-color: #f0f8ff;}#sk-8747c58e-7fa1-4b1c-8cdc-86808ab70510 input.sk-toggleable__control:checked~div.sk-toggleable__content {max-height: 200px;max-width: 100%;overflow: auto;}#sk-8747c58e-7fa1-4b1c-8cdc-86808ab70510 input.sk-toggleable__control:checked~label.sk-toggleable__label-arrow:before {content: \"▾\";}#sk-8747c58e-7fa1-4b1c-8cdc-86808ab70510 div.sk-estimator input.sk-toggleable__control:checked~label.sk-toggleable__label {background-color: #d4ebff;}#sk-8747c58e-7fa1-4b1c-8cdc-86808ab70510 div.sk-label input.sk-toggleable__control:checked~label.sk-toggleable__label {background-color: #d4ebff;}#sk-8747c58e-7fa1-4b1c-8cdc-86808ab70510 input.sk-hidden--visually {border: 0;clip: rect(1px 1px 1px 1px);clip: rect(1px, 1px, 1px, 1px);height: 1px;margin: -1px;overflow: hidden;padding: 0;position: absolute;width: 1px;}#sk-8747c58e-7fa1-4b1c-8cdc-86808ab70510 div.sk-estimator {font-family: monospace;background-color: #f0f8ff;border: 1px dotted black;border-radius: 0.25em;box-sizing: border-box;margin-bottom: 0.5em;}#sk-8747c58e-7fa1-4b1c-8cdc-86808ab70510 div.sk-estimator:hover {background-color: #d4ebff;}#sk-8747c58e-7fa1-4b1c-8cdc-86808ab70510 div.sk-parallel-item::after {content: \"\";width: 100%;border-bottom: 1px solid gray;flex-grow: 1;}#sk-8747c58e-7fa1-4b1c-8cdc-86808ab70510 div.sk-label:hover label.sk-toggleable__label {background-color: #d4ebff;}#sk-8747c58e-7fa1-4b1c-8cdc-86808ab70510 div.sk-serial::before {content: \"\";position: absolute;border-left: 1px solid gray;box-sizing: border-box;top: 2em;bottom: 0;left: 50%;}#sk-8747c58e-7fa1-4b1c-8cdc-86808ab70510 div.sk-serial {display: flex;flex-direction: column;align-items: center;background-color: white;padding-right: 0.2em;padding-left: 0.2em;}#sk-8747c58e-7fa1-4b1c-8cdc-86808ab70510 div.sk-item {z-index: 1;}#sk-8747c58e-7fa1-4b1c-8cdc-86808ab70510 div.sk-parallel {display: flex;align-items: stretch;justify-content: center;background-color: white;}#sk-8747c58e-7fa1-4b1c-8cdc-86808ab70510 div.sk-parallel::before {content: \"\";position: absolute;border-left: 1px solid gray;box-sizing: border-box;top: 2em;bottom: 0;left: 50%;}#sk-8747c58e-7fa1-4b1c-8cdc-86808ab70510 div.sk-parallel-item {display: flex;flex-direction: column;position: relative;background-color: white;}#sk-8747c58e-7fa1-4b1c-8cdc-86808ab70510 div.sk-parallel-item:first-child::after {align-self: flex-end;width: 50%;}#sk-8747c58e-7fa1-4b1c-8cdc-86808ab70510 div.sk-parallel-item:last-child::after {align-self: flex-start;width: 50%;}#sk-8747c58e-7fa1-4b1c-8cdc-86808ab70510 div.sk-parallel-item:only-child::after {width: 0;}#sk-8747c58e-7fa1-4b1c-8cdc-86808ab70510 div.sk-dashed-wrapped {border: 1px dashed gray;margin: 0 0.4em 0.5em 0.4em;box-sizing: border-box;padding-bottom: 0.4em;background-color: white;position: relative;}#sk-8747c58e-7fa1-4b1c-8cdc-86808ab70510 div.sk-label label {font-family: monospace;font-weight: bold;background-color: white;display: inline-block;line-height: 1.2em;}#sk-8747c58e-7fa1-4b1c-8cdc-86808ab70510 div.sk-label-container {position: relative;z-index: 2;text-align: center;}#sk-8747c58e-7fa1-4b1c-8cdc-86808ab70510 div.sk-container {/* jupyter's `normalize.less` sets `[hidden] { display: none; }` but bootstrap.min.css set `[hidden] { display: none !important; }` so we also need the `!important` here to be able to override the default hidden behavior on the sphinx rendered scikit-learn.org. See: https://github.com/scikit-learn/scikit-learn/issues/21755 */display: inline-block !important;position: relative;}#sk-8747c58e-7fa1-4b1c-8cdc-86808ab70510 div.sk-text-repr-fallback {display: none;}</style><div id=\"sk-8747c58e-7fa1-4b1c-8cdc-86808ab70510\" class=\"sk-top-container\"><div class=\"sk-text-repr-fallback\"><pre>TfidfVectorizer(min_df=3)</pre><b>Please rerun this cell to show the HTML repr or trust the notebook.</b></div><div class=\"sk-container\" hidden><div class=\"sk-item\"><div class=\"sk-estimator sk-toggleable\"><input class=\"sk-toggleable__control sk-hidden--visually\" id=\"53d603d4-8558-4170-a6b3-35a927ffc5f1\" type=\"checkbox\" checked><label for=\"53d603d4-8558-4170-a6b3-35a927ffc5f1\" class=\"sk-toggleable__label sk-toggleable__label-arrow\">TfidfVectorizer</label><div class=\"sk-toggleable__content\"><pre>TfidfVectorizer(min_df=3)</pre></div></div></div></div></div>"
      ],
      "text/plain": [
       "TfidfVectorizer(min_df=3)"
      ]
     },
     "execution_count": 12,
     "metadata": {},
     "output_type": "execute_result"
    }
   ],
   "source": [
    "package_model.vectorizer"
   ]
  },
  {
   "cell_type": "code",
   "execution_count": 13,
   "id": "18f2ed60",
   "metadata": {},
   "outputs": [
    {
     "data": {
      "text/html": [
       "<style>#sk-e3076270-af93-4f54-955e-66a1aaa6452f {color: black;background-color: white;}#sk-e3076270-af93-4f54-955e-66a1aaa6452f pre{padding: 0;}#sk-e3076270-af93-4f54-955e-66a1aaa6452f div.sk-toggleable {background-color: white;}#sk-e3076270-af93-4f54-955e-66a1aaa6452f label.sk-toggleable__label {cursor: pointer;display: block;width: 100%;margin-bottom: 0;padding: 0.3em;box-sizing: border-box;text-align: center;}#sk-e3076270-af93-4f54-955e-66a1aaa6452f label.sk-toggleable__label-arrow:before {content: \"▸\";float: left;margin-right: 0.25em;color: #696969;}#sk-e3076270-af93-4f54-955e-66a1aaa6452f label.sk-toggleable__label-arrow:hover:before {color: black;}#sk-e3076270-af93-4f54-955e-66a1aaa6452f div.sk-estimator:hover label.sk-toggleable__label-arrow:before {color: black;}#sk-e3076270-af93-4f54-955e-66a1aaa6452f div.sk-toggleable__content {max-height: 0;max-width: 0;overflow: hidden;text-align: left;background-color: #f0f8ff;}#sk-e3076270-af93-4f54-955e-66a1aaa6452f div.sk-toggleable__content pre {margin: 0.2em;color: black;border-radius: 0.25em;background-color: #f0f8ff;}#sk-e3076270-af93-4f54-955e-66a1aaa6452f input.sk-toggleable__control:checked~div.sk-toggleable__content {max-height: 200px;max-width: 100%;overflow: auto;}#sk-e3076270-af93-4f54-955e-66a1aaa6452f input.sk-toggleable__control:checked~label.sk-toggleable__label-arrow:before {content: \"▾\";}#sk-e3076270-af93-4f54-955e-66a1aaa6452f div.sk-estimator input.sk-toggleable__control:checked~label.sk-toggleable__label {background-color: #d4ebff;}#sk-e3076270-af93-4f54-955e-66a1aaa6452f div.sk-label input.sk-toggleable__control:checked~label.sk-toggleable__label {background-color: #d4ebff;}#sk-e3076270-af93-4f54-955e-66a1aaa6452f input.sk-hidden--visually {border: 0;clip: rect(1px 1px 1px 1px);clip: rect(1px, 1px, 1px, 1px);height: 1px;margin: -1px;overflow: hidden;padding: 0;position: absolute;width: 1px;}#sk-e3076270-af93-4f54-955e-66a1aaa6452f div.sk-estimator {font-family: monospace;background-color: #f0f8ff;border: 1px dotted black;border-radius: 0.25em;box-sizing: border-box;margin-bottom: 0.5em;}#sk-e3076270-af93-4f54-955e-66a1aaa6452f div.sk-estimator:hover {background-color: #d4ebff;}#sk-e3076270-af93-4f54-955e-66a1aaa6452f div.sk-parallel-item::after {content: \"\";width: 100%;border-bottom: 1px solid gray;flex-grow: 1;}#sk-e3076270-af93-4f54-955e-66a1aaa6452f div.sk-label:hover label.sk-toggleable__label {background-color: #d4ebff;}#sk-e3076270-af93-4f54-955e-66a1aaa6452f div.sk-serial::before {content: \"\";position: absolute;border-left: 1px solid gray;box-sizing: border-box;top: 2em;bottom: 0;left: 50%;}#sk-e3076270-af93-4f54-955e-66a1aaa6452f div.sk-serial {display: flex;flex-direction: column;align-items: center;background-color: white;padding-right: 0.2em;padding-left: 0.2em;}#sk-e3076270-af93-4f54-955e-66a1aaa6452f div.sk-item {z-index: 1;}#sk-e3076270-af93-4f54-955e-66a1aaa6452f div.sk-parallel {display: flex;align-items: stretch;justify-content: center;background-color: white;}#sk-e3076270-af93-4f54-955e-66a1aaa6452f div.sk-parallel::before {content: \"\";position: absolute;border-left: 1px solid gray;box-sizing: border-box;top: 2em;bottom: 0;left: 50%;}#sk-e3076270-af93-4f54-955e-66a1aaa6452f div.sk-parallel-item {display: flex;flex-direction: column;position: relative;background-color: white;}#sk-e3076270-af93-4f54-955e-66a1aaa6452f div.sk-parallel-item:first-child::after {align-self: flex-end;width: 50%;}#sk-e3076270-af93-4f54-955e-66a1aaa6452f div.sk-parallel-item:last-child::after {align-self: flex-start;width: 50%;}#sk-e3076270-af93-4f54-955e-66a1aaa6452f div.sk-parallel-item:only-child::after {width: 0;}#sk-e3076270-af93-4f54-955e-66a1aaa6452f div.sk-dashed-wrapped {border: 1px dashed gray;margin: 0 0.4em 0.5em 0.4em;box-sizing: border-box;padding-bottom: 0.4em;background-color: white;position: relative;}#sk-e3076270-af93-4f54-955e-66a1aaa6452f div.sk-label label {font-family: monospace;font-weight: bold;background-color: white;display: inline-block;line-height: 1.2em;}#sk-e3076270-af93-4f54-955e-66a1aaa6452f div.sk-label-container {position: relative;z-index: 2;text-align: center;}#sk-e3076270-af93-4f54-955e-66a1aaa6452f div.sk-container {/* jupyter's `normalize.less` sets `[hidden] { display: none; }` but bootstrap.min.css set `[hidden] { display: none !important; }` so we also need the `!important` here to be able to override the default hidden behavior on the sphinx rendered scikit-learn.org. See: https://github.com/scikit-learn/scikit-learn/issues/21755 */display: inline-block !important;position: relative;}#sk-e3076270-af93-4f54-955e-66a1aaa6452f div.sk-text-repr-fallback {display: none;}</style><div id=\"sk-e3076270-af93-4f54-955e-66a1aaa6452f\" class=\"sk-top-container\"><div class=\"sk-text-repr-fallback\"><pre>LinearSVC(C=1, class_weight={0: 0.2, 1: 0.8}, dual=False, penalty=&#x27;l1&#x27;)</pre><b>Please rerun this cell to show the HTML repr or trust the notebook.</b></div><div class=\"sk-container\" hidden><div class=\"sk-item\"><div class=\"sk-estimator sk-toggleable\"><input class=\"sk-toggleable__control sk-hidden--visually\" id=\"42d67696-8a02-4134-9d8e-acef6be5d9e6\" type=\"checkbox\" checked><label for=\"42d67696-8a02-4134-9d8e-acef6be5d9e6\" class=\"sk-toggleable__label sk-toggleable__label-arrow\">LinearSVC</label><div class=\"sk-toggleable__content\"><pre>LinearSVC(C=1, class_weight={0: 0.2, 1: 0.8}, dual=False, penalty=&#x27;l1&#x27;)</pre></div></div></div></div></div>"
      ],
      "text/plain": [
       "LinearSVC(C=1, class_weight={0: 0.2, 1: 0.8}, dual=False, penalty='l1')"
      ]
     },
     "execution_count": 13,
     "metadata": {},
     "output_type": "execute_result"
    }
   ],
   "source": [
    "package_model.model"
   ]
  },
  {
   "cell_type": "code",
   "execution_count": 14,
   "id": "4311c90d",
   "metadata": {},
   "outputs": [],
   "source": [
    "package_model.set_pipeline()"
   ]
  },
  {
   "cell_type": "code",
   "execution_count": 15,
   "id": "82d33ad2",
   "metadata": {},
   "outputs": [
    {
     "data": {
      "text/html": [
       "<style>#sk-5dab12ba-3368-4f24-b6e0-3082ffafb043 {color: black;background-color: white;}#sk-5dab12ba-3368-4f24-b6e0-3082ffafb043 pre{padding: 0;}#sk-5dab12ba-3368-4f24-b6e0-3082ffafb043 div.sk-toggleable {background-color: white;}#sk-5dab12ba-3368-4f24-b6e0-3082ffafb043 label.sk-toggleable__label {cursor: pointer;display: block;width: 100%;margin-bottom: 0;padding: 0.3em;box-sizing: border-box;text-align: center;}#sk-5dab12ba-3368-4f24-b6e0-3082ffafb043 label.sk-toggleable__label-arrow:before {content: \"▸\";float: left;margin-right: 0.25em;color: #696969;}#sk-5dab12ba-3368-4f24-b6e0-3082ffafb043 label.sk-toggleable__label-arrow:hover:before {color: black;}#sk-5dab12ba-3368-4f24-b6e0-3082ffafb043 div.sk-estimator:hover label.sk-toggleable__label-arrow:before {color: black;}#sk-5dab12ba-3368-4f24-b6e0-3082ffafb043 div.sk-toggleable__content {max-height: 0;max-width: 0;overflow: hidden;text-align: left;background-color: #f0f8ff;}#sk-5dab12ba-3368-4f24-b6e0-3082ffafb043 div.sk-toggleable__content pre {margin: 0.2em;color: black;border-radius: 0.25em;background-color: #f0f8ff;}#sk-5dab12ba-3368-4f24-b6e0-3082ffafb043 input.sk-toggleable__control:checked~div.sk-toggleable__content {max-height: 200px;max-width: 100%;overflow: auto;}#sk-5dab12ba-3368-4f24-b6e0-3082ffafb043 input.sk-toggleable__control:checked~label.sk-toggleable__label-arrow:before {content: \"▾\";}#sk-5dab12ba-3368-4f24-b6e0-3082ffafb043 div.sk-estimator input.sk-toggleable__control:checked~label.sk-toggleable__label {background-color: #d4ebff;}#sk-5dab12ba-3368-4f24-b6e0-3082ffafb043 div.sk-label input.sk-toggleable__control:checked~label.sk-toggleable__label {background-color: #d4ebff;}#sk-5dab12ba-3368-4f24-b6e0-3082ffafb043 input.sk-hidden--visually {border: 0;clip: rect(1px 1px 1px 1px);clip: rect(1px, 1px, 1px, 1px);height: 1px;margin: -1px;overflow: hidden;padding: 0;position: absolute;width: 1px;}#sk-5dab12ba-3368-4f24-b6e0-3082ffafb043 div.sk-estimator {font-family: monospace;background-color: #f0f8ff;border: 1px dotted black;border-radius: 0.25em;box-sizing: border-box;margin-bottom: 0.5em;}#sk-5dab12ba-3368-4f24-b6e0-3082ffafb043 div.sk-estimator:hover {background-color: #d4ebff;}#sk-5dab12ba-3368-4f24-b6e0-3082ffafb043 div.sk-parallel-item::after {content: \"\";width: 100%;border-bottom: 1px solid gray;flex-grow: 1;}#sk-5dab12ba-3368-4f24-b6e0-3082ffafb043 div.sk-label:hover label.sk-toggleable__label {background-color: #d4ebff;}#sk-5dab12ba-3368-4f24-b6e0-3082ffafb043 div.sk-serial::before {content: \"\";position: absolute;border-left: 1px solid gray;box-sizing: border-box;top: 2em;bottom: 0;left: 50%;}#sk-5dab12ba-3368-4f24-b6e0-3082ffafb043 div.sk-serial {display: flex;flex-direction: column;align-items: center;background-color: white;padding-right: 0.2em;padding-left: 0.2em;}#sk-5dab12ba-3368-4f24-b6e0-3082ffafb043 div.sk-item {z-index: 1;}#sk-5dab12ba-3368-4f24-b6e0-3082ffafb043 div.sk-parallel {display: flex;align-items: stretch;justify-content: center;background-color: white;}#sk-5dab12ba-3368-4f24-b6e0-3082ffafb043 div.sk-parallel::before {content: \"\";position: absolute;border-left: 1px solid gray;box-sizing: border-box;top: 2em;bottom: 0;left: 50%;}#sk-5dab12ba-3368-4f24-b6e0-3082ffafb043 div.sk-parallel-item {display: flex;flex-direction: column;position: relative;background-color: white;}#sk-5dab12ba-3368-4f24-b6e0-3082ffafb043 div.sk-parallel-item:first-child::after {align-self: flex-end;width: 50%;}#sk-5dab12ba-3368-4f24-b6e0-3082ffafb043 div.sk-parallel-item:last-child::after {align-self: flex-start;width: 50%;}#sk-5dab12ba-3368-4f24-b6e0-3082ffafb043 div.sk-parallel-item:only-child::after {width: 0;}#sk-5dab12ba-3368-4f24-b6e0-3082ffafb043 div.sk-dashed-wrapped {border: 1px dashed gray;margin: 0 0.4em 0.5em 0.4em;box-sizing: border-box;padding-bottom: 0.4em;background-color: white;position: relative;}#sk-5dab12ba-3368-4f24-b6e0-3082ffafb043 div.sk-label label {font-family: monospace;font-weight: bold;background-color: white;display: inline-block;line-height: 1.2em;}#sk-5dab12ba-3368-4f24-b6e0-3082ffafb043 div.sk-label-container {position: relative;z-index: 2;text-align: center;}#sk-5dab12ba-3368-4f24-b6e0-3082ffafb043 div.sk-container {/* jupyter's `normalize.less` sets `[hidden] { display: none; }` but bootstrap.min.css set `[hidden] { display: none !important; }` so we also need the `!important` here to be able to override the default hidden behavior on the sphinx rendered scikit-learn.org. See: https://github.com/scikit-learn/scikit-learn/issues/21755 */display: inline-block !important;position: relative;}#sk-5dab12ba-3368-4f24-b6e0-3082ffafb043 div.sk-text-repr-fallback {display: none;}</style><div id=\"sk-5dab12ba-3368-4f24-b6e0-3082ffafb043\" class=\"sk-top-container\"><div class=\"sk-text-repr-fallback\"><pre>Pipeline(steps=[(&#x27;columntransformer&#x27;,\n",
       "                 ColumnTransformer(transformers=[(&#x27;pipeline&#x27;,\n",
       "                                                  Pipeline(steps=[(&#x27;cleandftransformer&#x27;,\n",
       "                                                                   CleanDFTransformer()),\n",
       "                                                                  (&#x27;tfidfvectorizer&#x27;,\n",
       "                                                                   TfidfVectorizer(min_df=3))]),\n",
       "                                                  [&#x27;text&#x27;])])),\n",
       "                (&#x27;linearsvc&#x27;,\n",
       "                 LinearSVC(C=1, class_weight={0: 0.2, 1: 0.8}, dual=False,\n",
       "                           penalty=&#x27;l1&#x27;))])</pre><b>Please rerun this cell to show the HTML repr or trust the notebook.</b></div><div class=\"sk-container\" hidden><div class=\"sk-item sk-dashed-wrapped\"><div class=\"sk-label-container\"><div class=\"sk-label sk-toggleable\"><input class=\"sk-toggleable__control sk-hidden--visually\" id=\"54794d17-f377-4b7d-8a37-a46212c2a14e\" type=\"checkbox\" ><label for=\"54794d17-f377-4b7d-8a37-a46212c2a14e\" class=\"sk-toggleable__label sk-toggleable__label-arrow\">Pipeline</label><div class=\"sk-toggleable__content\"><pre>Pipeline(steps=[(&#x27;columntransformer&#x27;,\n",
       "                 ColumnTransformer(transformers=[(&#x27;pipeline&#x27;,\n",
       "                                                  Pipeline(steps=[(&#x27;cleandftransformer&#x27;,\n",
       "                                                                   CleanDFTransformer()),\n",
       "                                                                  (&#x27;tfidfvectorizer&#x27;,\n",
       "                                                                   TfidfVectorizer(min_df=3))]),\n",
       "                                                  [&#x27;text&#x27;])])),\n",
       "                (&#x27;linearsvc&#x27;,\n",
       "                 LinearSVC(C=1, class_weight={0: 0.2, 1: 0.8}, dual=False,\n",
       "                           penalty=&#x27;l1&#x27;))])</pre></div></div></div><div class=\"sk-serial\"><div class=\"sk-item sk-dashed-wrapped\"><div class=\"sk-label-container\"><div class=\"sk-label sk-toggleable\"><input class=\"sk-toggleable__control sk-hidden--visually\" id=\"d16efbbf-99c6-49d9-a238-53a19651f28b\" type=\"checkbox\" ><label for=\"d16efbbf-99c6-49d9-a238-53a19651f28b\" class=\"sk-toggleable__label sk-toggleable__label-arrow\">columntransformer: ColumnTransformer</label><div class=\"sk-toggleable__content\"><pre>ColumnTransformer(transformers=[(&#x27;pipeline&#x27;,\n",
       "                                 Pipeline(steps=[(&#x27;cleandftransformer&#x27;,\n",
       "                                                  CleanDFTransformer()),\n",
       "                                                 (&#x27;tfidfvectorizer&#x27;,\n",
       "                                                  TfidfVectorizer(min_df=3))]),\n",
       "                                 [&#x27;text&#x27;])])</pre></div></div></div><div class=\"sk-parallel\"><div class=\"sk-parallel-item\"><div class=\"sk-item\"><div class=\"sk-label-container\"><div class=\"sk-label sk-toggleable\"><input class=\"sk-toggleable__control sk-hidden--visually\" id=\"bab080d2-5704-4e99-a5b9-a94e0ae7d4b9\" type=\"checkbox\" ><label for=\"bab080d2-5704-4e99-a5b9-a94e0ae7d4b9\" class=\"sk-toggleable__label sk-toggleable__label-arrow\">pipeline</label><div class=\"sk-toggleable__content\"><pre>[&#x27;text&#x27;]</pre></div></div></div><div class=\"sk-serial\"><div class=\"sk-item\"><div class=\"sk-serial\"><div class=\"sk-item\"><div class=\"sk-estimator sk-toggleable\"><input class=\"sk-toggleable__control sk-hidden--visually\" id=\"acdacd45-f83c-440b-ac66-5170cde9a2d5\" type=\"checkbox\" ><label for=\"acdacd45-f83c-440b-ac66-5170cde9a2d5\" class=\"sk-toggleable__label sk-toggleable__label-arrow\">CleanDFTransformer</label><div class=\"sk-toggleable__content\"><pre>CleanDFTransformer()</pre></div></div></div><div class=\"sk-item\"><div class=\"sk-estimator sk-toggleable\"><input class=\"sk-toggleable__control sk-hidden--visually\" id=\"3433d6b8-d40c-4156-9e73-ad2d9c0e65fd\" type=\"checkbox\" ><label for=\"3433d6b8-d40c-4156-9e73-ad2d9c0e65fd\" class=\"sk-toggleable__label sk-toggleable__label-arrow\">TfidfVectorizer</label><div class=\"sk-toggleable__content\"><pre>TfidfVectorizer(min_df=3)</pre></div></div></div></div></div></div></div></div></div></div><div class=\"sk-item\"><div class=\"sk-estimator sk-toggleable\"><input class=\"sk-toggleable__control sk-hidden--visually\" id=\"97591e6d-3cd7-43a3-af9d-8c053508ab19\" type=\"checkbox\" ><label for=\"97591e6d-3cd7-43a3-af9d-8c053508ab19\" class=\"sk-toggleable__label sk-toggleable__label-arrow\">LinearSVC</label><div class=\"sk-toggleable__content\"><pre>LinearSVC(C=1, class_weight={0: 0.2, 1: 0.8}, dual=False, penalty=&#x27;l1&#x27;)</pre></div></div></div></div></div></div></div>"
      ],
      "text/plain": [
       "Pipeline(steps=[('columntransformer',\n",
       "                 ColumnTransformer(transformers=[('pipeline',\n",
       "                                                  Pipeline(steps=[('cleandftransformer',\n",
       "                                                                   CleanDFTransformer()),\n",
       "                                                                  ('tfidfvectorizer',\n",
       "                                                                   TfidfVectorizer(min_df=3))]),\n",
       "                                                  ['text'])])),\n",
       "                ('linearsvc',\n",
       "                 LinearSVC(C=1, class_weight={0: 0.2, 1: 0.8}, dual=False,\n",
       "                           penalty='l1'))])"
      ]
     },
     "execution_count": 15,
     "metadata": {},
     "output_type": "execute_result"
    }
   ],
   "source": [
    "package_model.pipeline"
   ]
  },
  {
   "cell_type": "code",
   "execution_count": 16,
   "id": "207a5845",
   "metadata": {},
   "outputs": [],
   "source": [
    "from cyberbullying.transformers import CleanDFTransformer"
   ]
  },
  {
   "cell_type": "code",
   "execution_count": 17,
   "id": "c0df56e4",
   "metadata": {},
   "outputs": [
    {
     "data": {
      "text/plain": [
       "(161664, 1)"
      ]
     },
     "execution_count": 17,
     "metadata": {},
     "output_type": "execute_result"
    }
   ],
   "source": [
    "X_train.shape"
   ]
  },
  {
   "cell_type": "code",
   "execution_count": 18,
   "id": "064644af",
   "metadata": {},
   "outputs": [],
   "source": [
    "#transformer = CleanDFTransformer()"
   ]
  },
  {
   "cell_type": "code",
   "execution_count": 19,
   "id": "7b92922d",
   "metadata": {},
   "outputs": [],
   "source": [
    "#X_train_2 = transformer.fit_transform(X_train)\n",
    "#X_train_2"
   ]
  },
  {
   "cell_type": "code",
   "execution_count": 20,
   "id": "27c09be2",
   "metadata": {},
   "outputs": [],
   "source": [
    "#X_train_2.shape"
   ]
  },
  {
   "cell_type": "code",
   "execution_count": 21,
   "id": "474acc06",
   "metadata": {},
   "outputs": [],
   "source": [
    "#X_train_2.isin([np.inf, -np.inf]).sum()"
   ]
  },
  {
   "cell_type": "code",
   "execution_count": 22,
   "id": "cc799068",
   "metadata": {},
   "outputs": [],
   "source": [
    "#X_train_2['text'].map(lambda text: type(text)).value_counts()"
   ]
  },
  {
   "cell_type": "code",
   "execution_count": 23,
   "id": "c5c8e33f",
   "metadata": {},
   "outputs": [],
   "source": [
    "#X_train_2.isnull().sum()"
   ]
  },
  {
   "cell_type": "code",
   "execution_count": 24,
   "id": "128e5744",
   "metadata": {},
   "outputs": [
    {
     "data": {
      "text/plain": [
       "41325     0.0\n",
       "63081     0.0\n",
       "20725     0.0\n",
       "167785    0.0\n",
       "101388    0.0\n",
       "         ... \n",
       "136405    0.0\n",
       "91714     0.0\n",
       "180664    0.0\n",
       "71438     1.0\n",
       "124281    0.0\n",
       "Name: target, Length: 161664, dtype: float64"
      ]
     },
     "execution_count": 24,
     "metadata": {},
     "output_type": "execute_result"
    }
   ],
   "source": [
    "y_train"
   ]
  },
  {
   "cell_type": "code",
   "execution_count": 25,
   "id": "1a4009c7",
   "metadata": {},
   "outputs": [
    {
     "data": {
      "text/plain": [
       "0"
      ]
     },
     "execution_count": 25,
     "metadata": {},
     "output_type": "execute_result"
    }
   ],
   "source": [
    "y_train.isnull().sum()"
   ]
  },
  {
   "cell_type": "code",
   "execution_count": 26,
   "id": "791d5445",
   "metadata": {},
   "outputs": [],
   "source": [
    "#X_train_2['text'].sort_values()"
   ]
  },
  {
   "cell_type": "code",
   "execution_count": 27,
   "id": "79df9af8",
   "metadata": {},
   "outputs": [],
   "source": [
    "#X_train_2['text'].map(lambda text: len(text)).sort_values()"
   ]
  },
  {
   "cell_type": "code",
   "execution_count": 28,
   "id": "99ccac89",
   "metadata": {},
   "outputs": [],
   "source": [
    "#X_train_2.max()"
   ]
  },
  {
   "cell_type": "code",
   "execution_count": 29,
   "id": "1aeb6ed7",
   "metadata": {},
   "outputs": [],
   "source": [
    "#X_train_2.min()"
   ]
  },
  {
   "cell_type": "code",
   "execution_count": 30,
   "id": "018028d3",
   "metadata": {},
   "outputs": [
    {
     "data": {
      "text/plain": [
       "0.0"
      ]
     },
     "execution_count": 30,
     "metadata": {},
     "output_type": "execute_result"
    }
   ],
   "source": [
    "y_train.min()"
   ]
  },
  {
   "cell_type": "code",
   "execution_count": 31,
   "id": "d24bafe1",
   "metadata": {},
   "outputs": [
    {
     "data": {
      "text/html": [
       "<style>#sk-70d4ed83-125b-471e-9e5b-18b2d3d2a2e2 {color: black;background-color: white;}#sk-70d4ed83-125b-471e-9e5b-18b2d3d2a2e2 pre{padding: 0;}#sk-70d4ed83-125b-471e-9e5b-18b2d3d2a2e2 div.sk-toggleable {background-color: white;}#sk-70d4ed83-125b-471e-9e5b-18b2d3d2a2e2 label.sk-toggleable__label {cursor: pointer;display: block;width: 100%;margin-bottom: 0;padding: 0.3em;box-sizing: border-box;text-align: center;}#sk-70d4ed83-125b-471e-9e5b-18b2d3d2a2e2 label.sk-toggleable__label-arrow:before {content: \"▸\";float: left;margin-right: 0.25em;color: #696969;}#sk-70d4ed83-125b-471e-9e5b-18b2d3d2a2e2 label.sk-toggleable__label-arrow:hover:before {color: black;}#sk-70d4ed83-125b-471e-9e5b-18b2d3d2a2e2 div.sk-estimator:hover label.sk-toggleable__label-arrow:before {color: black;}#sk-70d4ed83-125b-471e-9e5b-18b2d3d2a2e2 div.sk-toggleable__content {max-height: 0;max-width: 0;overflow: hidden;text-align: left;background-color: #f0f8ff;}#sk-70d4ed83-125b-471e-9e5b-18b2d3d2a2e2 div.sk-toggleable__content pre {margin: 0.2em;color: black;border-radius: 0.25em;background-color: #f0f8ff;}#sk-70d4ed83-125b-471e-9e5b-18b2d3d2a2e2 input.sk-toggleable__control:checked~div.sk-toggleable__content {max-height: 200px;max-width: 100%;overflow: auto;}#sk-70d4ed83-125b-471e-9e5b-18b2d3d2a2e2 input.sk-toggleable__control:checked~label.sk-toggleable__label-arrow:before {content: \"▾\";}#sk-70d4ed83-125b-471e-9e5b-18b2d3d2a2e2 div.sk-estimator input.sk-toggleable__control:checked~label.sk-toggleable__label {background-color: #d4ebff;}#sk-70d4ed83-125b-471e-9e5b-18b2d3d2a2e2 div.sk-label input.sk-toggleable__control:checked~label.sk-toggleable__label {background-color: #d4ebff;}#sk-70d4ed83-125b-471e-9e5b-18b2d3d2a2e2 input.sk-hidden--visually {border: 0;clip: rect(1px 1px 1px 1px);clip: rect(1px, 1px, 1px, 1px);height: 1px;margin: -1px;overflow: hidden;padding: 0;position: absolute;width: 1px;}#sk-70d4ed83-125b-471e-9e5b-18b2d3d2a2e2 div.sk-estimator {font-family: monospace;background-color: #f0f8ff;border: 1px dotted black;border-radius: 0.25em;box-sizing: border-box;margin-bottom: 0.5em;}#sk-70d4ed83-125b-471e-9e5b-18b2d3d2a2e2 div.sk-estimator:hover {background-color: #d4ebff;}#sk-70d4ed83-125b-471e-9e5b-18b2d3d2a2e2 div.sk-parallel-item::after {content: \"\";width: 100%;border-bottom: 1px solid gray;flex-grow: 1;}#sk-70d4ed83-125b-471e-9e5b-18b2d3d2a2e2 div.sk-label:hover label.sk-toggleable__label {background-color: #d4ebff;}#sk-70d4ed83-125b-471e-9e5b-18b2d3d2a2e2 div.sk-serial::before {content: \"\";position: absolute;border-left: 1px solid gray;box-sizing: border-box;top: 2em;bottom: 0;left: 50%;}#sk-70d4ed83-125b-471e-9e5b-18b2d3d2a2e2 div.sk-serial {display: flex;flex-direction: column;align-items: center;background-color: white;padding-right: 0.2em;padding-left: 0.2em;}#sk-70d4ed83-125b-471e-9e5b-18b2d3d2a2e2 div.sk-item {z-index: 1;}#sk-70d4ed83-125b-471e-9e5b-18b2d3d2a2e2 div.sk-parallel {display: flex;align-items: stretch;justify-content: center;background-color: white;}#sk-70d4ed83-125b-471e-9e5b-18b2d3d2a2e2 div.sk-parallel::before {content: \"\";position: absolute;border-left: 1px solid gray;box-sizing: border-box;top: 2em;bottom: 0;left: 50%;}#sk-70d4ed83-125b-471e-9e5b-18b2d3d2a2e2 div.sk-parallel-item {display: flex;flex-direction: column;position: relative;background-color: white;}#sk-70d4ed83-125b-471e-9e5b-18b2d3d2a2e2 div.sk-parallel-item:first-child::after {align-self: flex-end;width: 50%;}#sk-70d4ed83-125b-471e-9e5b-18b2d3d2a2e2 div.sk-parallel-item:last-child::after {align-self: flex-start;width: 50%;}#sk-70d4ed83-125b-471e-9e5b-18b2d3d2a2e2 div.sk-parallel-item:only-child::after {width: 0;}#sk-70d4ed83-125b-471e-9e5b-18b2d3d2a2e2 div.sk-dashed-wrapped {border: 1px dashed gray;margin: 0 0.4em 0.5em 0.4em;box-sizing: border-box;padding-bottom: 0.4em;background-color: white;position: relative;}#sk-70d4ed83-125b-471e-9e5b-18b2d3d2a2e2 div.sk-label label {font-family: monospace;font-weight: bold;background-color: white;display: inline-block;line-height: 1.2em;}#sk-70d4ed83-125b-471e-9e5b-18b2d3d2a2e2 div.sk-label-container {position: relative;z-index: 2;text-align: center;}#sk-70d4ed83-125b-471e-9e5b-18b2d3d2a2e2 div.sk-container {/* jupyter's `normalize.less` sets `[hidden] { display: none; }` but bootstrap.min.css set `[hidden] { display: none !important; }` so we also need the `!important` here to be able to override the default hidden behavior on the sphinx rendered scikit-learn.org. See: https://github.com/scikit-learn/scikit-learn/issues/21755 */display: inline-block !important;position: relative;}#sk-70d4ed83-125b-471e-9e5b-18b2d3d2a2e2 div.sk-text-repr-fallback {display: none;}</style><div id=\"sk-70d4ed83-125b-471e-9e5b-18b2d3d2a2e2\" class=\"sk-top-container\"><div class=\"sk-text-repr-fallback\"><pre>Pipeline(steps=[(&#x27;columntransformer&#x27;,\n",
       "                 ColumnTransformer(transformers=[(&#x27;pipeline&#x27;,\n",
       "                                                  Pipeline(steps=[(&#x27;cleandftransformer&#x27;,\n",
       "                                                                   CleanDFTransformer()),\n",
       "                                                                  (&#x27;tfidfvectorizer&#x27;,\n",
       "                                                                   TfidfVectorizer(min_df=3))]),\n",
       "                                                  [&#x27;text&#x27;])])),\n",
       "                (&#x27;linearsvc&#x27;,\n",
       "                 LinearSVC(C=1, class_weight={0: 0.2, 1: 0.8}, dual=False,\n",
       "                           penalty=&#x27;l1&#x27;))])</pre><b>Please rerun this cell to show the HTML repr or trust the notebook.</b></div><div class=\"sk-container\" hidden><div class=\"sk-item sk-dashed-wrapped\"><div class=\"sk-label-container\"><div class=\"sk-label sk-toggleable\"><input class=\"sk-toggleable__control sk-hidden--visually\" id=\"4657c303-fc18-497a-84a6-6a810f760664\" type=\"checkbox\" ><label for=\"4657c303-fc18-497a-84a6-6a810f760664\" class=\"sk-toggleable__label sk-toggleable__label-arrow\">Pipeline</label><div class=\"sk-toggleable__content\"><pre>Pipeline(steps=[(&#x27;columntransformer&#x27;,\n",
       "                 ColumnTransformer(transformers=[(&#x27;pipeline&#x27;,\n",
       "                                                  Pipeline(steps=[(&#x27;cleandftransformer&#x27;,\n",
       "                                                                   CleanDFTransformer()),\n",
       "                                                                  (&#x27;tfidfvectorizer&#x27;,\n",
       "                                                                   TfidfVectorizer(min_df=3))]),\n",
       "                                                  [&#x27;text&#x27;])])),\n",
       "                (&#x27;linearsvc&#x27;,\n",
       "                 LinearSVC(C=1, class_weight={0: 0.2, 1: 0.8}, dual=False,\n",
       "                           penalty=&#x27;l1&#x27;))])</pre></div></div></div><div class=\"sk-serial\"><div class=\"sk-item sk-dashed-wrapped\"><div class=\"sk-label-container\"><div class=\"sk-label sk-toggleable\"><input class=\"sk-toggleable__control sk-hidden--visually\" id=\"398ceb8c-b159-49a4-bba8-c452c4309009\" type=\"checkbox\" ><label for=\"398ceb8c-b159-49a4-bba8-c452c4309009\" class=\"sk-toggleable__label sk-toggleable__label-arrow\">columntransformer: ColumnTransformer</label><div class=\"sk-toggleable__content\"><pre>ColumnTransformer(transformers=[(&#x27;pipeline&#x27;,\n",
       "                                 Pipeline(steps=[(&#x27;cleandftransformer&#x27;,\n",
       "                                                  CleanDFTransformer()),\n",
       "                                                 (&#x27;tfidfvectorizer&#x27;,\n",
       "                                                  TfidfVectorizer(min_df=3))]),\n",
       "                                 [&#x27;text&#x27;])])</pre></div></div></div><div class=\"sk-parallel\"><div class=\"sk-parallel-item\"><div class=\"sk-item\"><div class=\"sk-label-container\"><div class=\"sk-label sk-toggleable\"><input class=\"sk-toggleable__control sk-hidden--visually\" id=\"d1f1c873-6d43-4370-a7f1-5b3259baac85\" type=\"checkbox\" ><label for=\"d1f1c873-6d43-4370-a7f1-5b3259baac85\" class=\"sk-toggleable__label sk-toggleable__label-arrow\">pipeline</label><div class=\"sk-toggleable__content\"><pre>[&#x27;text&#x27;]</pre></div></div></div><div class=\"sk-serial\"><div class=\"sk-item\"><div class=\"sk-serial\"><div class=\"sk-item\"><div class=\"sk-estimator sk-toggleable\"><input class=\"sk-toggleable__control sk-hidden--visually\" id=\"20491545-8604-4a7f-8a06-3e7c45529084\" type=\"checkbox\" ><label for=\"20491545-8604-4a7f-8a06-3e7c45529084\" class=\"sk-toggleable__label sk-toggleable__label-arrow\">CleanDFTransformer</label><div class=\"sk-toggleable__content\"><pre>CleanDFTransformer()</pre></div></div></div><div class=\"sk-item\"><div class=\"sk-estimator sk-toggleable\"><input class=\"sk-toggleable__control sk-hidden--visually\" id=\"73744625-fd97-457d-a90e-4a5faf3c0a52\" type=\"checkbox\" ><label for=\"73744625-fd97-457d-a90e-4a5faf3c0a52\" class=\"sk-toggleable__label sk-toggleable__label-arrow\">TfidfVectorizer</label><div class=\"sk-toggleable__content\"><pre>TfidfVectorizer(min_df=3)</pre></div></div></div></div></div></div></div></div></div></div><div class=\"sk-item\"><div class=\"sk-estimator sk-toggleable\"><input class=\"sk-toggleable__control sk-hidden--visually\" id=\"8b5efdb1-9460-4868-b949-10b59f8ebc0f\" type=\"checkbox\" ><label for=\"8b5efdb1-9460-4868-b949-10b59f8ebc0f\" class=\"sk-toggleable__label sk-toggleable__label-arrow\">LinearSVC</label><div class=\"sk-toggleable__content\"><pre>LinearSVC(C=1, class_weight={0: 0.2, 1: 0.8}, dual=False, penalty=&#x27;l1&#x27;)</pre></div></div></div></div></div></div></div>"
      ],
      "text/plain": [
       "Pipeline(steps=[('columntransformer',\n",
       "                 ColumnTransformer(transformers=[('pipeline',\n",
       "                                                  Pipeline(steps=[('cleandftransformer',\n",
       "                                                                   CleanDFTransformer()),\n",
       "                                                                  ('tfidfvectorizer',\n",
       "                                                                   TfidfVectorizer(min_df=3))]),\n",
       "                                                  ['text'])])),\n",
       "                ('linearsvc',\n",
       "                 LinearSVC(C=1, class_weight={0: 0.2, 1: 0.8}, dual=False,\n",
       "                           penalty='l1'))])"
      ]
     },
     "execution_count": 31,
     "metadata": {},
     "output_type": "execute_result"
    }
   ],
   "source": [
    "package_model.pipeline.fit(X_train, y_train) #deberia ser package_model.train(X_train, y_train)"
   ]
  },
  {
   "cell_type": "code",
   "execution_count": 32,
   "id": "85cc6828",
   "metadata": {},
   "outputs": [],
   "source": [
    "#package_model.save_model()"
   ]
  },
  {
   "cell_type": "code",
   "execution_count": 33,
   "id": "f3426e89",
   "metadata": {},
   "outputs": [],
   "source": [
    "from cyberbullying.utils import clean_df"
   ]
  },
  {
   "cell_type": "code",
   "execution_count": 34,
   "id": "2e2210db",
   "metadata": {},
   "outputs": [],
   "source": [
    "y_pred = package_model.predict(X_test)"
   ]
  },
  {
   "cell_type": "code",
   "execution_count": 35,
   "id": "9986c059",
   "metadata": {},
   "outputs": [
    {
     "data": {
      "text/plain": [
       "array([0., 1., 1., ..., 0., 0., 0.])"
      ]
     },
     "execution_count": 35,
     "metadata": {},
     "output_type": "execute_result"
    }
   ],
   "source": [
    "y_pred"
   ]
  },
  {
   "cell_type": "code",
   "execution_count": 36,
   "id": "297815c0",
   "metadata": {},
   "outputs": [],
   "source": [
    "y_pred_proba = package_model.predict_proba(X_test)"
   ]
  },
  {
   "cell_type": "code",
   "execution_count": 37,
   "id": "9e68bde6",
   "metadata": {},
   "outputs": [
    {
     "data": {
      "text/plain": [
       "array([[0.5091305 , 0.4908695 ],\n",
       "       [0.32415139, 0.67584861],\n",
       "       [0.38353477, 0.61646523],\n",
       "       ...,\n",
       "       [0.66721125, 0.33278875],\n",
       "       [0.58771338, 0.41228662],\n",
       "       [0.6474978 , 0.3525022 ]])"
      ]
     },
     "execution_count": 37,
     "metadata": {},
     "output_type": "execute_result"
    }
   ],
   "source": [
    "y_pred_proba"
   ]
  },
  {
   "cell_type": "code",
   "execution_count": 38,
   "id": "e01a4139",
   "metadata": {},
   "outputs": [
    {
     "data": {
      "text/plain": [
       "array([0.5091305 , 0.32415139, 0.38353477, ..., 0.66721125, 0.58771338,\n",
       "       0.6474978 ])"
      ]
     },
     "execution_count": 38,
     "metadata": {},
     "output_type": "execute_result"
    }
   ],
   "source": [
    "y_pred_proba[:,0]"
   ]
  },
  {
   "cell_type": "code",
   "execution_count": 39,
   "id": "d45c8582",
   "metadata": {},
   "outputs": [
    {
     "name": "stdout",
     "output_type": "stream",
     "text": [
      "Recall: 0.733\n",
      "Precision: 0.611\n",
      "Accuracy: 0.913\n",
      "F1-score: 0.666\n"
     ]
    },
    {
     "data": {
      "text/plain": [
       "(0.733, 0.611, 0.913, 0.666)"
      ]
     },
     "execution_count": 39,
     "metadata": {},
     "output_type": "execute_result"
    },
    {
     "data": {
      "image/png": "[encoded data removed]",
      "text/plain": [
       "<Figure size 432x288 with 2 Axes>"
      ]
     },
     "metadata": {
      "needs_background": "light"
     },
     "output_type": "display_data"
    }
   ],
   "source": [
    "conf_mx_all(y_test, y_pred)"
   ]
  },
  {
   "cell_type": "code",
   "execution_count": 40,
   "id": "fd388440",
   "metadata": {},
   "outputs": [
    {
     "data": {
      "text/html": [
       "<div>\n",
       "<style scoped>\n",
       "    .dataframe tbody tr th:only-of-type {\n",
       "        vertical-align: middle;\n",
       "    }\n",
       "\n",
       "    .dataframe tbody tr th {\n",
       "        vertical-align: top;\n",
       "    }\n",
       "\n",
       "    .dataframe thead th {\n",
       "        text-align: right;\n",
       "    }\n",
       "</style>\n",
       "<table border=\"1\" class=\"dataframe\">\n",
       "  <thead>\n",
       "    <tr style=\"text-align: right;\">\n",
       "      <th></th>\n",
       "      <th>text</th>\n",
       "      <th>proba_0</th>\n",
       "      <th>proba_1</th>\n",
       "      <th>prediction</th>\n",
       "      <th>color</th>\n",
       "    </tr>\n",
       "  </thead>\n",
       "  <tbody>\n",
       "    <tr>\n",
       "      <th>216249</th>\n",
       "      <td>@mutaSawwif @TawheedNetwork_ Are you actually ...</td>\n",
       "      <td>0.509130</td>\n",
       "      <td>0.490870</td>\n",
       "      <td>0.0</td>\n",
       "      <td>None</td>\n",
       "    </tr>\n",
       "    <tr>\n",
       "      <th>200383</th>\n",
       "      <td>== Excuse you? ==  Did you just fart?</td>\n",
       "      <td>0.324151</td>\n",
       "      <td>0.675849</td>\n",
       "      <td>1.0</td>\n",
       "      <td>orange</td>\n",
       "    </tr>\n",
       "    <tr>\n",
       "      <th>29777</th>\n",
       "      <td>MY IP IS DYNAMIC AND MY PENIS IS 10 INCHES LONG</td>\n",
       "      <td>0.383535</td>\n",
       "      <td>0.616465</td>\n",
       "      <td>1.0</td>\n",
       "      <td>yellow</td>\n",
       "    </tr>\n",
       "    <tr>\n",
       "      <th>9952</th>\n",
       "      <td>`  Hi, , Welcome to Wikipedia!    I hope you l...</td>\n",
       "      <td>0.781384</td>\n",
       "      <td>0.218616</td>\n",
       "      <td>0.0</td>\n",
       "      <td>None</td>\n",
       "    </tr>\n",
       "    <tr>\n",
       "      <th>72162</th>\n",
       "      <td>`   Please do not vandalize pages, as you did ...</td>\n",
       "      <td>0.747410</td>\n",
       "      <td>0.252590</td>\n",
       "      <td>0.0</td>\n",
       "      <td>None</td>\n",
       "    </tr>\n",
       "    <tr>\n",
       "      <th>...</th>\n",
       "      <td>...</td>\n",
       "      <td>...</td>\n",
       "      <td>...</td>\n",
       "      <td>...</td>\n",
       "      <td>...</td>\n",
       "    </tr>\n",
       "    <tr>\n",
       "      <th>19723</th>\n",
       "      <td>My two demands are, leave the flagship alone...</td>\n",
       "      <td>0.450420</td>\n",
       "      <td>0.549580</td>\n",
       "      <td>1.0</td>\n",
       "      <td>yellow</td>\n",
       "    </tr>\n",
       "    <tr>\n",
       "      <th>49595</th>\n",
       "      <td>::Note that someone tossed the page up for d...</td>\n",
       "      <td>0.664955</td>\n",
       "      <td>0.335045</td>\n",
       "      <td>0.0</td>\n",
       "      <td>None</td>\n",
       "    </tr>\n",
       "    <tr>\n",
       "      <th>131669</th>\n",
       "      <td>`  Only thing relevant here is but ``THE' SHIT...</td>\n",
       "      <td>0.667211</td>\n",
       "      <td>0.332789</td>\n",
       "      <td>0.0</td>\n",
       "      <td>None</td>\n",
       "    </tr>\n",
       "    <tr>\n",
       "      <th>84864</th>\n",
       "      <td>`right about the body though it's quite possib...</td>\n",
       "      <td>0.587713</td>\n",
       "      <td>0.412287</td>\n",
       "      <td>0.0</td>\n",
       "      <td>None</td>\n",
       "    </tr>\n",
       "    <tr>\n",
       "      <th>37780</th>\n",
       "      <td>:::Fine. But which ancient or medieval bridg...</td>\n",
       "      <td>0.647498</td>\n",
       "      <td>0.352502</td>\n",
       "      <td>0.0</td>\n",
       "      <td>None</td>\n",
       "    </tr>\n",
       "  </tbody>\n",
       "</table>\n",
       "<p>69285 rows × 5 columns</p>\n",
       "</div>"
      ],
      "text/plain": [
       "                                                     text   proba_0   proba_1  \\\n",
       "216249  @mutaSawwif @TawheedNetwork_ Are you actually ...  0.509130  0.490870   \n",
       "200383              == Excuse you? ==  Did you just fart?  0.324151  0.675849   \n",
       "29777    MY IP IS DYNAMIC AND MY PENIS IS 10 INCHES LONG   0.383535  0.616465   \n",
       "9952    `  Hi, , Welcome to Wikipedia!    I hope you l...  0.781384  0.218616   \n",
       "72162   `   Please do not vandalize pages, as you did ...  0.747410  0.252590   \n",
       "...                                                   ...       ...       ...   \n",
       "19723     My two demands are, leave the flagship alone...  0.450420  0.549580   \n",
       "49595     ::Note that someone tossed the page up for d...  0.664955  0.335045   \n",
       "131669  `  Only thing relevant here is but ``THE' SHIT...  0.667211  0.332789   \n",
       "84864   `right about the body though it's quite possib...  0.587713  0.412287   \n",
       "37780     :::Fine. But which ancient or medieval bridg...  0.647498  0.352502   \n",
       "\n",
       "        prediction   color  \n",
       "216249         0.0    None  \n",
       "200383         1.0  orange  \n",
       "29777          1.0  yellow  \n",
       "9952           0.0    None  \n",
       "72162          0.0    None  \n",
       "...            ...     ...  \n",
       "19723          1.0  yellow  \n",
       "49595          0.0    None  \n",
       "131669         0.0    None  \n",
       "84864          0.0    None  \n",
       "37780          0.0    None  \n",
       "\n",
       "[69285 rows x 5 columns]"
      ]
     },
     "execution_count": 40,
     "metadata": {},
     "output_type": "execute_result"
    }
   ],
   "source": [
    "package_model.predict_all(X_test)"
   ]
  },
  {
   "cell_type": "code",
   "execution_count": 41,
   "id": "be4904a6",
   "metadata": {},
   "outputs": [
    {
     "data": {
      "text/html": [
       "<div>\n",
       "<style scoped>\n",
       "    .dataframe tbody tr th:only-of-type {\n",
       "        vertical-align: middle;\n",
       "    }\n",
       "\n",
       "    .dataframe tbody tr th {\n",
       "        vertical-align: top;\n",
       "    }\n",
       "\n",
       "    .dataframe thead th {\n",
       "        text-align: right;\n",
       "    }\n",
       "</style>\n",
       "<table border=\"1\" class=\"dataframe\">\n",
       "  <thead>\n",
       "    <tr style=\"text-align: right;\">\n",
       "      <th></th>\n",
       "      <th>text</th>\n",
       "      <th>target</th>\n",
       "    </tr>\n",
       "  </thead>\n",
       "  <tbody>\n",
       "    <tr>\n",
       "      <th>137792</th>\n",
       "      <td>`  ::See in my userpage the Articles I've crea...</td>\n",
       "      <td>0.0</td>\n",
       "    </tr>\n",
       "    <tr>\n",
       "      <th>153873</th>\n",
       "      <td>== Transnistria ==  The recent addition to t...</td>\n",
       "      <td>0.0</td>\n",
       "    </tr>\n",
       "    <tr>\n",
       "      <th>53601</th>\n",
       "      <td>`  Note also that the previously highlighted t...</td>\n",
       "      <td>0.0</td>\n",
       "    </tr>\n",
       "    <tr>\n",
       "      <th>205335</th>\n",
       "      <td>@Damhan97 @niall_cullen @AC360 Having more chi...</td>\n",
       "      <td>1.0</td>\n",
       "    </tr>\n",
       "    <tr>\n",
       "      <th>213374</th>\n",
       "      <td>RT @howlintwolf I swear it's not sexist but Ch...</td>\n",
       "      <td>1.0</td>\n",
       "    </tr>\n",
       "    <tr>\n",
       "      <th>159241</th>\n",
       "      <td>== Skywalk / new tourist attraction ==  Wire...</td>\n",
       "      <td>0.0</td>\n",
       "    </tr>\n",
       "    <tr>\n",
       "      <th>35902</th>\n",
       "      <td>33, 2 March 2007 (UTC) ::::::::::::You are bei...</td>\n",
       "      <td>0.0</td>\n",
       "    </tr>\n",
       "    <tr>\n",
       "      <th>222384</th>\n",
       "      <td>\"@nilbymouth \\\\n\\\\nYou are right concerning Ca...</td>\n",
       "      <td>0.0</td>\n",
       "    </tr>\n",
       "    <tr>\n",
       "      <th>146068</th>\n",
       "      <td>`   :::::ETTENTIO PLEASE ::``Israeli offensive...</td>\n",
       "      <td>0.0</td>\n",
       "    </tr>\n",
       "    <tr>\n",
       "      <th>202625</th>\n",
       "      <td>Saudi cleric: \"sun revolves around the earth.\"...</td>\n",
       "      <td>1.0</td>\n",
       "    </tr>\n",
       "    <tr>\n",
       "      <th>14307</th>\n",
       "      <td>Gsd2000, I saw the comments by Rjensen and Gra...</td>\n",
       "      <td>0.0</td>\n",
       "    </tr>\n",
       "    <tr>\n",
       "      <th>151501</th>\n",
       "      <td>Funny, I don't feel blocked.</td>\n",
       "      <td>0.0</td>\n",
       "    </tr>\n",
       "    <tr>\n",
       "      <th>35384</th>\n",
       "      <td>`  == Czech Republic ==  I am sorry but I am C...</td>\n",
       "      <td>0.0</td>\n",
       "    </tr>\n",
       "    <tr>\n",
       "      <th>125125</th>\n",
       "      <td>`  == I would like answers please ==  Please s...</td>\n",
       "      <td>0.0</td>\n",
       "    </tr>\n",
       "    <tr>\n",
       "      <th>15506</th>\n",
       "      <td>=Twisted Facts=  1. Wal-Mart does not spend ...</td>\n",
       "      <td>0.0</td>\n",
       "    </tr>\n",
       "    <tr>\n",
       "      <th>81596</th>\n",
       "      <td>== RDT ==  Just a quick question, should the...</td>\n",
       "      <td>0.0</td>\n",
       "    </tr>\n",
       "    <tr>\n",
       "      <th>157632</th>\n",
       "      <td>| accept=Allowing username change to requested...</td>\n",
       "      <td>0.0</td>\n",
       "    </tr>\n",
       "    <tr>\n",
       "      <th>156639</th>\n",
       "      <td>` ::::I'm sure you'll do finely without me her...</td>\n",
       "      <td>0.0</td>\n",
       "    </tr>\n",
       "    <tr>\n",
       "      <th>210727</th>\n",
       "      <td>@discerningmumin So if you are against slavery...</td>\n",
       "      <td>1.0</td>\n",
       "    </tr>\n",
       "    <tr>\n",
       "      <th>193267</th>\n",
       "      <td>::::::I never said that this article has to ...</td>\n",
       "      <td>0.0</td>\n",
       "    </tr>\n",
       "  </tbody>\n",
       "</table>\n",
       "</div>"
      ],
      "text/plain": [
       "                                                     text  target\n",
       "137792  `  ::See in my userpage the Articles I've crea...     0.0\n",
       "153873    == Transnistria ==  The recent addition to t...     0.0\n",
       "53601   `  Note also that the previously highlighted t...     0.0\n",
       "205335  @Damhan97 @niall_cullen @AC360 Having more chi...     1.0\n",
       "213374  RT @howlintwolf I swear it's not sexist but Ch...     1.0\n",
       "159241    == Skywalk / new tourist attraction ==  Wire...     0.0\n",
       "35902   33, 2 March 2007 (UTC) ::::::::::::You are bei...     0.0\n",
       "222384  \"@nilbymouth \\\\n\\\\nYou are right concerning Ca...     0.0\n",
       "146068  `   :::::ETTENTIO PLEASE ::``Israeli offensive...     0.0\n",
       "202625  Saudi cleric: \"sun revolves around the earth.\"...     1.0\n",
       "14307   Gsd2000, I saw the comments by Rjensen and Gra...     0.0\n",
       "151501                     Funny, I don't feel blocked.       0.0\n",
       "35384   `  == Czech Republic ==  I am sorry but I am C...     0.0\n",
       "125125  `  == I would like answers please ==  Please s...     0.0\n",
       "15506     =Twisted Facts=  1. Wal-Mart does not spend ...     0.0\n",
       "81596     == RDT ==  Just a quick question, should the...     0.0\n",
       "157632  | accept=Allowing username change to requested...     0.0\n",
       "156639  ` ::::I'm sure you'll do finely without me her...     0.0\n",
       "210727  @discerningmumin So if you are against slavery...     1.0\n",
       "193267    ::::::I never said that this article has to ...     0.0"
      ]
     },
     "execution_count": 41,
     "metadata": {},
     "output_type": "execute_result"
    }
   ],
   "source": [
    "pd.DataFrame({'text': X_test['text'], 'target': y_test})[60:80]"
   ]
  },
  {
   "cell_type": "code",
   "execution_count": 42,
   "id": "519a0864",
   "metadata": {},
   "outputs": [
    {
     "data": {
      "text/plain": [
       "'@discerningmumin So if you are against slavery, you cannot be a Muslim. So why are you crying about slavery when the Quran approves it?'"
      ]
     },
     "execution_count": 42,
     "metadata": {},
     "output_type": "execute_result"
    }
   ],
   "source": [
    "X_test.loc[210727, 'text']"
   ]
  },
  {
   "cell_type": "code",
   "execution_count": 43,
   "id": "3392aa96",
   "metadata": {},
   "outputs": [
    {
     "data": {
      "text/plain": [
       "\"`  :::Why is ``per second`` the most important measurement? That little factoid is about a policy which doesn't apply per second; it applies per month. Converting it to any other time frame makes it meaningless.   /  `\""
      ]
     },
     "execution_count": 43,
     "metadata": {},
     "output_type": "execute_result"
    }
   ],
   "source": [
    "X_test.iloc[20,:]['text']"
   ]
  },
  {
   "cell_type": "code",
   "execution_count": 44,
   "id": "73a8a7b3",
   "metadata": {},
   "outputs": [],
   "source": [
    "#texto = '`   Please do not vandalize pages, as you did with this edit to Rhode Island. If you continue to do so, you will be blocked from editing.  \\xa0–\\xa0 `'"
   ]
  },
  {
   "cell_type": "code",
   "execution_count": 45,
   "id": "68c5b990",
   "metadata": {},
   "outputs": [],
   "source": [
    "texto = X_test.loc[210727,:]['text']"
   ]
  },
  {
   "cell_type": "code",
   "execution_count": 46,
   "id": "67ed4d44",
   "metadata": {},
   "outputs": [
    {
     "data": {
      "text/plain": [
       "array([1.])"
      ]
     },
     "execution_count": 46,
     "metadata": {},
     "output_type": "execute_result"
    }
   ],
   "source": [
    "package_model.predict(texto)"
   ]
  },
  {
   "cell_type": "code",
   "execution_count": 47,
   "id": "3d07ff2b",
   "metadata": {},
   "outputs": [
    {
     "data": {
      "text/plain": [
       "array([[0.3036623, 0.6963377]])"
      ]
     },
     "execution_count": 47,
     "metadata": {},
     "output_type": "execute_result"
    }
   ],
   "source": [
    "package_model.predict_proba(texto)"
   ]
  },
  {
   "cell_type": "code",
   "execution_count": 48,
   "id": "f09b04cc",
   "metadata": {
    "scrolled": true
   },
   "outputs": [
    {
     "data": {
      "text/html": [
       "<div>\n",
       "<style scoped>\n",
       "    .dataframe tbody tr th:only-of-type {\n",
       "        vertical-align: middle;\n",
       "    }\n",
       "\n",
       "    .dataframe tbody tr th {\n",
       "        vertical-align: top;\n",
       "    }\n",
       "\n",
       "    .dataframe thead th {\n",
       "        text-align: right;\n",
       "    }\n",
       "</style>\n",
       "<table border=\"1\" class=\"dataframe\">\n",
       "  <thead>\n",
       "    <tr style=\"text-align: right;\">\n",
       "      <th></th>\n",
       "      <th>text</th>\n",
       "      <th>proba_0</th>\n",
       "      <th>proba_1</th>\n",
       "      <th>prediction</th>\n",
       "      <th>color</th>\n",
       "    </tr>\n",
       "  </thead>\n",
       "  <tbody>\n",
       "    <tr>\n",
       "      <th>0</th>\n",
       "      <td>@discerningmumin</td>\n",
       "      <td>0.648872</td>\n",
       "      <td>0.351128</td>\n",
       "      <td>0.0</td>\n",
       "      <td>None</td>\n",
       "    </tr>\n",
       "    <tr>\n",
       "      <th>1</th>\n",
       "      <td>So</td>\n",
       "      <td>0.648872</td>\n",
       "      <td>0.351128</td>\n",
       "      <td>0.0</td>\n",
       "      <td>None</td>\n",
       "    </tr>\n",
       "    <tr>\n",
       "      <th>2</th>\n",
       "      <td>if</td>\n",
       "      <td>0.648872</td>\n",
       "      <td>0.351128</td>\n",
       "      <td>0.0</td>\n",
       "      <td>None</td>\n",
       "    </tr>\n",
       "    <tr>\n",
       "      <th>3</th>\n",
       "      <td>you</td>\n",
       "      <td>0.648872</td>\n",
       "      <td>0.351128</td>\n",
       "      <td>0.0</td>\n",
       "      <td>None</td>\n",
       "    </tr>\n",
       "    <tr>\n",
       "      <th>4</th>\n",
       "      <td>are</td>\n",
       "      <td>0.648872</td>\n",
       "      <td>0.351128</td>\n",
       "      <td>0.0</td>\n",
       "      <td>None</td>\n",
       "    </tr>\n",
       "    <tr>\n",
       "      <th>5</th>\n",
       "      <td>against</td>\n",
       "      <td>0.648872</td>\n",
       "      <td>0.351128</td>\n",
       "      <td>0.0</td>\n",
       "      <td>None</td>\n",
       "    </tr>\n",
       "    <tr>\n",
       "      <th>6</th>\n",
       "      <td>slavery,</td>\n",
       "      <td>0.465384</td>\n",
       "      <td>0.534616</td>\n",
       "      <td>1.0</td>\n",
       "      <td>yellow</td>\n",
       "    </tr>\n",
       "    <tr>\n",
       "      <th>7</th>\n",
       "      <td>you</td>\n",
       "      <td>0.648872</td>\n",
       "      <td>0.351128</td>\n",
       "      <td>0.0</td>\n",
       "      <td>None</td>\n",
       "    </tr>\n",
       "    <tr>\n",
       "      <th>8</th>\n",
       "      <td>cannot</td>\n",
       "      <td>0.648872</td>\n",
       "      <td>0.351128</td>\n",
       "      <td>0.0</td>\n",
       "      <td>None</td>\n",
       "    </tr>\n",
       "    <tr>\n",
       "      <th>9</th>\n",
       "      <td>be</td>\n",
       "      <td>0.648872</td>\n",
       "      <td>0.351128</td>\n",
       "      <td>0.0</td>\n",
       "      <td>None</td>\n",
       "    </tr>\n",
       "    <tr>\n",
       "      <th>10</th>\n",
       "      <td>a</td>\n",
       "      <td>0.648872</td>\n",
       "      <td>0.351128</td>\n",
       "      <td>0.0</td>\n",
       "      <td>None</td>\n",
       "    </tr>\n",
       "    <tr>\n",
       "      <th>11</th>\n",
       "      <td>Muslim.</td>\n",
       "      <td>0.258629</td>\n",
       "      <td>0.741371</td>\n",
       "      <td>1.0</td>\n",
       "      <td>orange</td>\n",
       "    </tr>\n",
       "    <tr>\n",
       "      <th>12</th>\n",
       "      <td>So</td>\n",
       "      <td>0.648872</td>\n",
       "      <td>0.351128</td>\n",
       "      <td>0.0</td>\n",
       "      <td>None</td>\n",
       "    </tr>\n",
       "    <tr>\n",
       "      <th>13</th>\n",
       "      <td>why</td>\n",
       "      <td>0.648872</td>\n",
       "      <td>0.351128</td>\n",
       "      <td>0.0</td>\n",
       "      <td>None</td>\n",
       "    </tr>\n",
       "    <tr>\n",
       "      <th>14</th>\n",
       "      <td>are</td>\n",
       "      <td>0.648872</td>\n",
       "      <td>0.351128</td>\n",
       "      <td>0.0</td>\n",
       "      <td>None</td>\n",
       "    </tr>\n",
       "    <tr>\n",
       "      <th>15</th>\n",
       "      <td>you</td>\n",
       "      <td>0.648872</td>\n",
       "      <td>0.351128</td>\n",
       "      <td>0.0</td>\n",
       "      <td>None</td>\n",
       "    </tr>\n",
       "    <tr>\n",
       "      <th>16</th>\n",
       "      <td>crying</td>\n",
       "      <td>0.593174</td>\n",
       "      <td>0.406826</td>\n",
       "      <td>0.0</td>\n",
       "      <td>None</td>\n",
       "    </tr>\n",
       "    <tr>\n",
       "      <th>17</th>\n",
       "      <td>about</td>\n",
       "      <td>0.648872</td>\n",
       "      <td>0.351128</td>\n",
       "      <td>0.0</td>\n",
       "      <td>None</td>\n",
       "    </tr>\n",
       "    <tr>\n",
       "      <th>18</th>\n",
       "      <td>slavery</td>\n",
       "      <td>0.465384</td>\n",
       "      <td>0.534616</td>\n",
       "      <td>1.0</td>\n",
       "      <td>yellow</td>\n",
       "    </tr>\n",
       "    <tr>\n",
       "      <th>19</th>\n",
       "      <td>when</td>\n",
       "      <td>0.648872</td>\n",
       "      <td>0.351128</td>\n",
       "      <td>0.0</td>\n",
       "      <td>None</td>\n",
       "    </tr>\n",
       "    <tr>\n",
       "      <th>20</th>\n",
       "      <td>the</td>\n",
       "      <td>0.648872</td>\n",
       "      <td>0.351128</td>\n",
       "      <td>0.0</td>\n",
       "      <td>None</td>\n",
       "    </tr>\n",
       "    <tr>\n",
       "      <th>21</th>\n",
       "      <td>Quran</td>\n",
       "      <td>0.389424</td>\n",
       "      <td>0.610576</td>\n",
       "      <td>1.0</td>\n",
       "      <td>yellow</td>\n",
       "    </tr>\n",
       "    <tr>\n",
       "      <th>22</th>\n",
       "      <td>approves</td>\n",
       "      <td>0.648872</td>\n",
       "      <td>0.351128</td>\n",
       "      <td>0.0</td>\n",
       "      <td>None</td>\n",
       "    </tr>\n",
       "    <tr>\n",
       "      <th>23</th>\n",
       "      <td>it?</td>\n",
       "      <td>0.648872</td>\n",
       "      <td>0.351128</td>\n",
       "      <td>0.0</td>\n",
       "      <td>None</td>\n",
       "    </tr>\n",
       "  </tbody>\n",
       "</table>\n",
       "</div>"
      ],
      "text/plain": [
       "                text   proba_0   proba_1  prediction   color\n",
       "0   @discerningmumin  0.648872  0.351128         0.0    None\n",
       "1                 So  0.648872  0.351128         0.0    None\n",
       "2                 if  0.648872  0.351128         0.0    None\n",
       "3                you  0.648872  0.351128         0.0    None\n",
       "4                are  0.648872  0.351128         0.0    None\n",
       "5            against  0.648872  0.351128         0.0    None\n",
       "6           slavery,  0.465384  0.534616         1.0  yellow\n",
       "7                you  0.648872  0.351128         0.0    None\n",
       "8             cannot  0.648872  0.351128         0.0    None\n",
       "9                 be  0.648872  0.351128         0.0    None\n",
       "10                 a  0.648872  0.351128         0.0    None\n",
       "11           Muslim.  0.258629  0.741371         1.0  orange\n",
       "12                So  0.648872  0.351128         0.0    None\n",
       "13               why  0.648872  0.351128         0.0    None\n",
       "14               are  0.648872  0.351128         0.0    None\n",
       "15               you  0.648872  0.351128         0.0    None\n",
       "16            crying  0.593174  0.406826         0.0    None\n",
       "17             about  0.648872  0.351128         0.0    None\n",
       "18           slavery  0.465384  0.534616         1.0  yellow\n",
       "19              when  0.648872  0.351128         0.0    None\n",
       "20               the  0.648872  0.351128         0.0    None\n",
       "21             Quran  0.389424  0.610576         1.0  yellow\n",
       "22          approves  0.648872  0.351128         0.0    None\n",
       "23               it?  0.648872  0.351128         0.0    None"
      ]
     },
     "execution_count": 48,
     "metadata": {},
     "output_type": "execute_result"
    }
   ],
   "source": [
    "package_model.predict_simple_text(texto)"
   ]
  },
  {
   "cell_type": "code",
   "execution_count": 49,
   "id": "d10adccb",
   "metadata": {},
   "outputs": [
    {
     "data": {
      "text/plain": [
       "{'prediction': 1.0,\n",
       " 'text': '@discerningmumin So if you are against <yellow>slavery,</yellow> you cannot be a <orange>Muslim.</orange> So why are you crying about <yellow>slavery</yellow> when the <yellow>Quran</yellow> approves it?'}"
      ]
     },
     "execution_count": 49,
     "metadata": {},
     "output_type": "execute_result"
    }
   ],
   "source": [
    "test_html = package_model.predict_phrase(texto)\n",
    "test_html"
   ]
  },
  {
   "cell_type": "code",
   "execution_count": null,
   "id": "a19cc6c4",
   "metadata": {},
   "outputs": [],
   "source": []
  },
  {
   "cell_type": "code",
   "execution_count": 50,
   "id": "e3dd2261",
   "metadata": {},
   "outputs": [],
   "source": [
    "#package_model.predict_all(' Your a prick. keep your personal thoughts to your self. Jeff is the best driver ever and thats a fact. You musy be an idiot redneck.')"
   ]
  },
  {
   "cell_type": "code",
   "execution_count": 51,
   "id": "d1ef4e36",
   "metadata": {},
   "outputs": [],
   "source": [
    "#package_model.predict_simple_text(' Your a prick. keep your personal thoughts to your self. Jeff is the best driver ever and thats a fact. You musy be an idiot redneck.')"
   ]
  },
  {
   "cell_type": "code",
   "execution_count": 52,
   "id": "632ac61b",
   "metadata": {},
   "outputs": [],
   "source": [
    "from cyberbullying.utils import get_trained_model, save_trained_model"
   ]
  },
  {
   "cell_type": "code",
   "execution_count": 53,
   "id": "f39c5fcf",
   "metadata": {},
   "outputs": [],
   "source": [
    "save_trained_model(package_model, 'model_prediction')"
   ]
  },
  {
   "cell_type": "code",
   "execution_count": 54,
   "id": "e73bb925",
   "metadata": {},
   "outputs": [],
   "source": [
    "trained_model = get_trained_model('model_prediction')"
   ]
  },
  {
   "cell_type": "code",
   "execution_count": 55,
   "id": "429e84e8",
   "metadata": {},
   "outputs": [
    {
     "data": {
      "text/plain": [
       "<cyberbullying.models.MLModel at 0x7f4902fe2970>"
      ]
     },
     "execution_count": 55,
     "metadata": {},
     "output_type": "execute_result"
    }
   ],
   "source": [
    "trained_model"
   ]
  },
  {
   "cell_type": "code",
   "execution_count": 56,
   "id": "398bd9cf",
   "metadata": {},
   "outputs": [
    {
     "data": {
      "text/plain": [
       "array([1.])"
      ]
     },
     "execution_count": 56,
     "metadata": {},
     "output_type": "execute_result"
    }
   ],
   "source": [
    "trained_model.predict(texto)"
   ]
  },
  {
   "cell_type": "code",
   "execution_count": 57,
   "id": "40496a9d",
   "metadata": {},
   "outputs": [
    {
     "data": {
      "text/plain": [
       "array([[0.3036623, 0.6963377]])"
      ]
     },
     "execution_count": 57,
     "metadata": {},
     "output_type": "execute_result"
    }
   ],
   "source": [
    "trained_model.predict_proba(texto)"
   ]
  },
  {
   "cell_type": "code",
   "execution_count": 58,
   "id": "b7e26736",
   "metadata": {},
   "outputs": [
    {
     "data": {
      "text/plain": [
       "{'prediction': 1.0,\n",
       " 'text': '@discerningmumin So if you are against <yellow>slavery,</yellow> you cannot be a <orange>Muslim.</orange> So why are you crying about <yellow>slavery</yellow> when the <yellow>Quran</yellow> approves it?'}"
      ]
     },
     "execution_count": 58,
     "metadata": {},
     "output_type": "execute_result"
    }
   ],
   "source": [
    "trained_model.predict_phrase(texto)"
   ]
  },
  {
   "cell_type": "code",
   "execution_count": null,
   "id": "9093c6aa",
   "metadata": {},
   "outputs": [],
   "source": []
  },
  {
   "cell_type": "code",
   "execution_count": null,
   "id": "a537928a",
   "metadata": {},
   "outputs": [],
   "source": []
  },
  {
   "cell_type": "markdown",
   "id": "0e35e5b5",
   "metadata": {},
   "source": [
    "# Classification"
   ]
  },
  {
   "cell_type": "code",
   "execution_count": 61,
   "id": "34829db9",
   "metadata": {},
   "outputs": [],
   "source": [
    "data_class = Data().get_data_classification()"
   ]
  },
  {
   "cell_type": "code",
   "execution_count": 62,
   "id": "93105b2a",
   "metadata": {},
   "outputs": [
    {
     "data": {
      "text/html": [
       "<div>\n",
       "<style scoped>\n",
       "    .dataframe tbody tr th:only-of-type {\n",
       "        vertical-align: middle;\n",
       "    }\n",
       "\n",
       "    .dataframe tbody tr th {\n",
       "        vertical-align: top;\n",
       "    }\n",
       "\n",
       "    .dataframe thead th {\n",
       "        text-align: right;\n",
       "    }\n",
       "</style>\n",
       "<table border=\"1\" class=\"dataframe\">\n",
       "  <thead>\n",
       "    <tr style=\"text-align: right;\">\n",
       "      <th></th>\n",
       "      <th>text</th>\n",
       "      <th>type</th>\n",
       "    </tr>\n",
       "  </thead>\n",
       "  <tbody>\n",
       "    <tr>\n",
       "      <th>7945</th>\n",
       "      <td>rape is real..zvasiyana nema jokes about being...</td>\n",
       "      <td>gender</td>\n",
       "    </tr>\n",
       "    <tr>\n",
       "      <th>7946</th>\n",
       "      <td>You never saw any celebrity say anything like ...</td>\n",
       "      <td>gender</td>\n",
       "    </tr>\n",
       "    <tr>\n",
       "      <th>7947</th>\n",
       "      <td>@ManhattaKnight I mean he's gay, but he uses g...</td>\n",
       "      <td>gender</td>\n",
       "    </tr>\n",
       "    <tr>\n",
       "      <th>7948</th>\n",
       "      <td>RT @Raul_Novoa16: @AliciaBernardez @Alex_Aim @...</td>\n",
       "      <td>gender</td>\n",
       "    </tr>\n",
       "    <tr>\n",
       "      <th>7949</th>\n",
       "      <td>Rape is rape. And the fact that I read one pos...</td>\n",
       "      <td>gender</td>\n",
       "    </tr>\n",
       "  </tbody>\n",
       "</table>\n",
       "</div>"
      ],
      "text/plain": [
       "                                                   text    type\n",
       "7945  rape is real..zvasiyana nema jokes about being...  gender\n",
       "7946  You never saw any celebrity say anything like ...  gender\n",
       "7947  @ManhattaKnight I mean he's gay, but he uses g...  gender\n",
       "7948  RT @Raul_Novoa16: @AliciaBernardez @Alex_Aim @...  gender\n",
       "7949  Rape is rape. And the fact that I read one pos...  gender"
      ]
     },
     "execution_count": 62,
     "metadata": {},
     "output_type": "execute_result"
    }
   ],
   "source": [
    "data_class.head()"
   ]
  },
  {
   "cell_type": "code",
   "execution_count": 63,
   "id": "3cc688fd",
   "metadata": {},
   "outputs": [
    {
     "data": {
      "text/plain": [
       "(45094, 2)"
      ]
     },
     "execution_count": 63,
     "metadata": {},
     "output_type": "execute_result"
    }
   ],
   "source": [
    "data_class.shape"
   ]
  },
  {
   "cell_type": "code",
   "execution_count": 66,
   "id": "8d61ebbc",
   "metadata": {},
   "outputs": [],
   "source": [
    "X_train, X_test, y_train, y_test = train_test_split(data_class[['text']], data_class['type'], test_size=0.3, random_state=0)"
   ]
  },
  {
   "cell_type": "code",
   "execution_count": 67,
   "id": "df7ed7c2",
   "metadata": {},
   "outputs": [],
   "source": [
    "classifier_model = MLClassifier()"
   ]
  },
  {
   "cell_type": "code",
   "execution_count": 68,
   "id": "71303876",
   "metadata": {},
   "outputs": [
    {
     "data": {
      "text/plain": [
       "<cyberbullying.models.MLClassifier at 0x7f4902fe95b0>"
      ]
     },
     "execution_count": 68,
     "metadata": {},
     "output_type": "execute_result"
    }
   ],
   "source": [
    "classifier_model"
   ]
  },
  {
   "cell_type": "code",
   "execution_count": 69,
   "id": "3cf23e2e",
   "metadata": {},
   "outputs": [
    {
     "data": {
      "text/html": [
       "<style>#sk-207d599b-e29f-4ac5-b32e-6befe96ca2e1 {color: black;background-color: white;}#sk-207d599b-e29f-4ac5-b32e-6befe96ca2e1 pre{padding: 0;}#sk-207d599b-e29f-4ac5-b32e-6befe96ca2e1 div.sk-toggleable {background-color: white;}#sk-207d599b-e29f-4ac5-b32e-6befe96ca2e1 label.sk-toggleable__label {cursor: pointer;display: block;width: 100%;margin-bottom: 0;padding: 0.3em;box-sizing: border-box;text-align: center;}#sk-207d599b-e29f-4ac5-b32e-6befe96ca2e1 label.sk-toggleable__label-arrow:before {content: \"▸\";float: left;margin-right: 0.25em;color: #696969;}#sk-207d599b-e29f-4ac5-b32e-6befe96ca2e1 label.sk-toggleable__label-arrow:hover:before {color: black;}#sk-207d599b-e29f-4ac5-b32e-6befe96ca2e1 div.sk-estimator:hover label.sk-toggleable__label-arrow:before {color: black;}#sk-207d599b-e29f-4ac5-b32e-6befe96ca2e1 div.sk-toggleable__content {max-height: 0;max-width: 0;overflow: hidden;text-align: left;background-color: #f0f8ff;}#sk-207d599b-e29f-4ac5-b32e-6befe96ca2e1 div.sk-toggleable__content pre {margin: 0.2em;color: black;border-radius: 0.25em;background-color: #f0f8ff;}#sk-207d599b-e29f-4ac5-b32e-6befe96ca2e1 input.sk-toggleable__control:checked~div.sk-toggleable__content {max-height: 200px;max-width: 100%;overflow: auto;}#sk-207d599b-e29f-4ac5-b32e-6befe96ca2e1 input.sk-toggleable__control:checked~label.sk-toggleable__label-arrow:before {content: \"▾\";}#sk-207d599b-e29f-4ac5-b32e-6befe96ca2e1 div.sk-estimator input.sk-toggleable__control:checked~label.sk-toggleable__label {background-color: #d4ebff;}#sk-207d599b-e29f-4ac5-b32e-6befe96ca2e1 div.sk-label input.sk-toggleable__control:checked~label.sk-toggleable__label {background-color: #d4ebff;}#sk-207d599b-e29f-4ac5-b32e-6befe96ca2e1 input.sk-hidden--visually {border: 0;clip: rect(1px 1px 1px 1px);clip: rect(1px, 1px, 1px, 1px);height: 1px;margin: -1px;overflow: hidden;padding: 0;position: absolute;width: 1px;}#sk-207d599b-e29f-4ac5-b32e-6befe96ca2e1 div.sk-estimator {font-family: monospace;background-color: #f0f8ff;border: 1px dotted black;border-radius: 0.25em;box-sizing: border-box;margin-bottom: 0.5em;}#sk-207d599b-e29f-4ac5-b32e-6befe96ca2e1 div.sk-estimator:hover {background-color: #d4ebff;}#sk-207d599b-e29f-4ac5-b32e-6befe96ca2e1 div.sk-parallel-item::after {content: \"\";width: 100%;border-bottom: 1px solid gray;flex-grow: 1;}#sk-207d599b-e29f-4ac5-b32e-6befe96ca2e1 div.sk-label:hover label.sk-toggleable__label {background-color: #d4ebff;}#sk-207d599b-e29f-4ac5-b32e-6befe96ca2e1 div.sk-serial::before {content: \"\";position: absolute;border-left: 1px solid gray;box-sizing: border-box;top: 2em;bottom: 0;left: 50%;}#sk-207d599b-e29f-4ac5-b32e-6befe96ca2e1 div.sk-serial {display: flex;flex-direction: column;align-items: center;background-color: white;padding-right: 0.2em;padding-left: 0.2em;}#sk-207d599b-e29f-4ac5-b32e-6befe96ca2e1 div.sk-item {z-index: 1;}#sk-207d599b-e29f-4ac5-b32e-6befe96ca2e1 div.sk-parallel {display: flex;align-items: stretch;justify-content: center;background-color: white;}#sk-207d599b-e29f-4ac5-b32e-6befe96ca2e1 div.sk-parallel::before {content: \"\";position: absolute;border-left: 1px solid gray;box-sizing: border-box;top: 2em;bottom: 0;left: 50%;}#sk-207d599b-e29f-4ac5-b32e-6befe96ca2e1 div.sk-parallel-item {display: flex;flex-direction: column;position: relative;background-color: white;}#sk-207d599b-e29f-4ac5-b32e-6befe96ca2e1 div.sk-parallel-item:first-child::after {align-self: flex-end;width: 50%;}#sk-207d599b-e29f-4ac5-b32e-6befe96ca2e1 div.sk-parallel-item:last-child::after {align-self: flex-start;width: 50%;}#sk-207d599b-e29f-4ac5-b32e-6befe96ca2e1 div.sk-parallel-item:only-child::after {width: 0;}#sk-207d599b-e29f-4ac5-b32e-6befe96ca2e1 div.sk-dashed-wrapped {border: 1px dashed gray;margin: 0 0.4em 0.5em 0.4em;box-sizing: border-box;padding-bottom: 0.4em;background-color: white;position: relative;}#sk-207d599b-e29f-4ac5-b32e-6befe96ca2e1 div.sk-label label {font-family: monospace;font-weight: bold;background-color: white;display: inline-block;line-height: 1.2em;}#sk-207d599b-e29f-4ac5-b32e-6befe96ca2e1 div.sk-label-container {position: relative;z-index: 2;text-align: center;}#sk-207d599b-e29f-4ac5-b32e-6befe96ca2e1 div.sk-container {/* jupyter's `normalize.less` sets `[hidden] { display: none; }` but bootstrap.min.css set `[hidden] { display: none !important; }` so we also need the `!important` here to be able to override the default hidden behavior on the sphinx rendered scikit-learn.org. See: https://github.com/scikit-learn/scikit-learn/issues/21755 */display: inline-block !important;position: relative;}#sk-207d599b-e29f-4ac5-b32e-6befe96ca2e1 div.sk-text-repr-fallback {display: none;}</style><div id=\"sk-207d599b-e29f-4ac5-b32e-6befe96ca2e1\" class=\"sk-top-container\"><div class=\"sk-text-repr-fallback\"><pre>TfidfVectorizer(max_df=0.8, max_features=25000, min_df=10, ngram_range=(1, 2))</pre><b>Please rerun this cell to show the HTML repr or trust the notebook.</b></div><div class=\"sk-container\" hidden><div class=\"sk-item\"><div class=\"sk-estimator sk-toggleable\"><input class=\"sk-toggleable__control sk-hidden--visually\" id=\"2f7a99bb-4dbd-44af-b31a-b60cdf88ce4a\" type=\"checkbox\" checked><label for=\"2f7a99bb-4dbd-44af-b31a-b60cdf88ce4a\" class=\"sk-toggleable__label sk-toggleable__label-arrow\">TfidfVectorizer</label><div class=\"sk-toggleable__content\"><pre>TfidfVectorizer(max_df=0.8, max_features=25000, min_df=10, ngram_range=(1, 2))</pre></div></div></div></div></div>"
      ],
      "text/plain": [
       "TfidfVectorizer(max_df=0.8, max_features=25000, min_df=10, ngram_range=(1, 2))"
      ]
     },
     "execution_count": 69,
     "metadata": {},
     "output_type": "execute_result"
    }
   ],
   "source": [
    "classifier_model.vectorizer"
   ]
  },
  {
   "cell_type": "code",
   "execution_count": 70,
   "id": "02cf7285",
   "metadata": {},
   "outputs": [
    {
     "data": {
      "text/html": [
       "<style>#sk-be77db8d-fd1d-46af-b70a-a2e015282fb0 {color: black;background-color: white;}#sk-be77db8d-fd1d-46af-b70a-a2e015282fb0 pre{padding: 0;}#sk-be77db8d-fd1d-46af-b70a-a2e015282fb0 div.sk-toggleable {background-color: white;}#sk-be77db8d-fd1d-46af-b70a-a2e015282fb0 label.sk-toggleable__label {cursor: pointer;display: block;width: 100%;margin-bottom: 0;padding: 0.3em;box-sizing: border-box;text-align: center;}#sk-be77db8d-fd1d-46af-b70a-a2e015282fb0 label.sk-toggleable__label-arrow:before {content: \"▸\";float: left;margin-right: 0.25em;color: #696969;}#sk-be77db8d-fd1d-46af-b70a-a2e015282fb0 label.sk-toggleable__label-arrow:hover:before {color: black;}#sk-be77db8d-fd1d-46af-b70a-a2e015282fb0 div.sk-estimator:hover label.sk-toggleable__label-arrow:before {color: black;}#sk-be77db8d-fd1d-46af-b70a-a2e015282fb0 div.sk-toggleable__content {max-height: 0;max-width: 0;overflow: hidden;text-align: left;background-color: #f0f8ff;}#sk-be77db8d-fd1d-46af-b70a-a2e015282fb0 div.sk-toggleable__content pre {margin: 0.2em;color: black;border-radius: 0.25em;background-color: #f0f8ff;}#sk-be77db8d-fd1d-46af-b70a-a2e015282fb0 input.sk-toggleable__control:checked~div.sk-toggleable__content {max-height: 200px;max-width: 100%;overflow: auto;}#sk-be77db8d-fd1d-46af-b70a-a2e015282fb0 input.sk-toggleable__control:checked~label.sk-toggleable__label-arrow:before {content: \"▾\";}#sk-be77db8d-fd1d-46af-b70a-a2e015282fb0 div.sk-estimator input.sk-toggleable__control:checked~label.sk-toggleable__label {background-color: #d4ebff;}#sk-be77db8d-fd1d-46af-b70a-a2e015282fb0 div.sk-label input.sk-toggleable__control:checked~label.sk-toggleable__label {background-color: #d4ebff;}#sk-be77db8d-fd1d-46af-b70a-a2e015282fb0 input.sk-hidden--visually {border: 0;clip: rect(1px 1px 1px 1px);clip: rect(1px, 1px, 1px, 1px);height: 1px;margin: -1px;overflow: hidden;padding: 0;position: absolute;width: 1px;}#sk-be77db8d-fd1d-46af-b70a-a2e015282fb0 div.sk-estimator {font-family: monospace;background-color: #f0f8ff;border: 1px dotted black;border-radius: 0.25em;box-sizing: border-box;margin-bottom: 0.5em;}#sk-be77db8d-fd1d-46af-b70a-a2e015282fb0 div.sk-estimator:hover {background-color: #d4ebff;}#sk-be77db8d-fd1d-46af-b70a-a2e015282fb0 div.sk-parallel-item::after {content: \"\";width: 100%;border-bottom: 1px solid gray;flex-grow: 1;}#sk-be77db8d-fd1d-46af-b70a-a2e015282fb0 div.sk-label:hover label.sk-toggleable__label {background-color: #d4ebff;}#sk-be77db8d-fd1d-46af-b70a-a2e015282fb0 div.sk-serial::before {content: \"\";position: absolute;border-left: 1px solid gray;box-sizing: border-box;top: 2em;bottom: 0;left: 50%;}#sk-be77db8d-fd1d-46af-b70a-a2e015282fb0 div.sk-serial {display: flex;flex-direction: column;align-items: center;background-color: white;padding-right: 0.2em;padding-left: 0.2em;}#sk-be77db8d-fd1d-46af-b70a-a2e015282fb0 div.sk-item {z-index: 1;}#sk-be77db8d-fd1d-46af-b70a-a2e015282fb0 div.sk-parallel {display: flex;align-items: stretch;justify-content: center;background-color: white;}#sk-be77db8d-fd1d-46af-b70a-a2e015282fb0 div.sk-parallel::before {content: \"\";position: absolute;border-left: 1px solid gray;box-sizing: border-box;top: 2em;bottom: 0;left: 50%;}#sk-be77db8d-fd1d-46af-b70a-a2e015282fb0 div.sk-parallel-item {display: flex;flex-direction: column;position: relative;background-color: white;}#sk-be77db8d-fd1d-46af-b70a-a2e015282fb0 div.sk-parallel-item:first-child::after {align-self: flex-end;width: 50%;}#sk-be77db8d-fd1d-46af-b70a-a2e015282fb0 div.sk-parallel-item:last-child::after {align-self: flex-start;width: 50%;}#sk-be77db8d-fd1d-46af-b70a-a2e015282fb0 div.sk-parallel-item:only-child::after {width: 0;}#sk-be77db8d-fd1d-46af-b70a-a2e015282fb0 div.sk-dashed-wrapped {border: 1px dashed gray;margin: 0 0.4em 0.5em 0.4em;box-sizing: border-box;padding-bottom: 0.4em;background-color: white;position: relative;}#sk-be77db8d-fd1d-46af-b70a-a2e015282fb0 div.sk-label label {font-family: monospace;font-weight: bold;background-color: white;display: inline-block;line-height: 1.2em;}#sk-be77db8d-fd1d-46af-b70a-a2e015282fb0 div.sk-label-container {position: relative;z-index: 2;text-align: center;}#sk-be77db8d-fd1d-46af-b70a-a2e015282fb0 div.sk-container {/* jupyter's `normalize.less` sets `[hidden] { display: none; }` but bootstrap.min.css set `[hidden] { display: none !important; }` so we also need the `!important` here to be able to override the default hidden behavior on the sphinx rendered scikit-learn.org. See: https://github.com/scikit-learn/scikit-learn/issues/21755 */display: inline-block !important;position: relative;}#sk-be77db8d-fd1d-46af-b70a-a2e015282fb0 div.sk-text-repr-fallback {display: none;}</style><div id=\"sk-be77db8d-fd1d-46af-b70a-a2e015282fb0\" class=\"sk-top-container\"><div class=\"sk-text-repr-fallback\"><pre>AdaBoostClassifier(base_estimator=DecisionTreeClassifier(max_depth=3),\n",
       "                   n_estimators=10)</pre><b>Please rerun this cell to show the HTML repr or trust the notebook.</b></div><div class=\"sk-container\" hidden><div class=\"sk-item sk-dashed-wrapped\"><div class=\"sk-label-container\"><div class=\"sk-label sk-toggleable\"><input class=\"sk-toggleable__control sk-hidden--visually\" id=\"c3b2b8cf-ef71-4e2e-ab98-40804c8ac073\" type=\"checkbox\" ><label for=\"c3b2b8cf-ef71-4e2e-ab98-40804c8ac073\" class=\"sk-toggleable__label sk-toggleable__label-arrow\">AdaBoostClassifier</label><div class=\"sk-toggleable__content\"><pre>AdaBoostClassifier(base_estimator=DecisionTreeClassifier(max_depth=3),\n",
       "                   n_estimators=10)</pre></div></div></div><div class=\"sk-parallel\"><div class=\"sk-parallel-item\"><div class=\"sk-item\"><div class=\"sk-serial\"><div class=\"sk-item\"><div class=\"sk-estimator sk-toggleable\"><input class=\"sk-toggleable__control sk-hidden--visually\" id=\"1a0d3acf-d911-4852-bfb8-4ba4947c84b7\" type=\"checkbox\" ><label for=\"1a0d3acf-d911-4852-bfb8-4ba4947c84b7\" class=\"sk-toggleable__label sk-toggleable__label-arrow\">DecisionTreeClassifier</label><div class=\"sk-toggleable__content\"><pre>DecisionTreeClassifier(max_depth=3)</pre></div></div></div></div></div></div></div></div></div></div>"
      ],
      "text/plain": [
       "AdaBoostClassifier(base_estimator=DecisionTreeClassifier(max_depth=3),\n",
       "                   n_estimators=10)"
      ]
     },
     "execution_count": 70,
     "metadata": {},
     "output_type": "execute_result"
    }
   ],
   "source": [
    "classifier_model.model"
   ]
  },
  {
   "cell_type": "code",
   "execution_count": 71,
   "id": "0329052f",
   "metadata": {},
   "outputs": [],
   "source": [
    "classifier_model.set_pipeline()"
   ]
  },
  {
   "cell_type": "code",
   "execution_count": 72,
   "id": "1931f46b",
   "metadata": {},
   "outputs": [
    {
     "data": {
      "text/html": [
       "<style>#sk-3c4f81ea-5b4b-449e-bfcd-f24a77d33971 {color: black;background-color: white;}#sk-3c4f81ea-5b4b-449e-bfcd-f24a77d33971 pre{padding: 0;}#sk-3c4f81ea-5b4b-449e-bfcd-f24a77d33971 div.sk-toggleable {background-color: white;}#sk-3c4f81ea-5b4b-449e-bfcd-f24a77d33971 label.sk-toggleable__label {cursor: pointer;display: block;width: 100%;margin-bottom: 0;padding: 0.3em;box-sizing: border-box;text-align: center;}#sk-3c4f81ea-5b4b-449e-bfcd-f24a77d33971 label.sk-toggleable__label-arrow:before {content: \"▸\";float: left;margin-right: 0.25em;color: #696969;}#sk-3c4f81ea-5b4b-449e-bfcd-f24a77d33971 label.sk-toggleable__label-arrow:hover:before {color: black;}#sk-3c4f81ea-5b4b-449e-bfcd-f24a77d33971 div.sk-estimator:hover label.sk-toggleable__label-arrow:before {color: black;}#sk-3c4f81ea-5b4b-449e-bfcd-f24a77d33971 div.sk-toggleable__content {max-height: 0;max-width: 0;overflow: hidden;text-align: left;background-color: #f0f8ff;}#sk-3c4f81ea-5b4b-449e-bfcd-f24a77d33971 div.sk-toggleable__content pre {margin: 0.2em;color: black;border-radius: 0.25em;background-color: #f0f8ff;}#sk-3c4f81ea-5b4b-449e-bfcd-f24a77d33971 input.sk-toggleable__control:checked~div.sk-toggleable__content {max-height: 200px;max-width: 100%;overflow: auto;}#sk-3c4f81ea-5b4b-449e-bfcd-f24a77d33971 input.sk-toggleable__control:checked~label.sk-toggleable__label-arrow:before {content: \"▾\";}#sk-3c4f81ea-5b4b-449e-bfcd-f24a77d33971 div.sk-estimator input.sk-toggleable__control:checked~label.sk-toggleable__label {background-color: #d4ebff;}#sk-3c4f81ea-5b4b-449e-bfcd-f24a77d33971 div.sk-label input.sk-toggleable__control:checked~label.sk-toggleable__label {background-color: #d4ebff;}#sk-3c4f81ea-5b4b-449e-bfcd-f24a77d33971 input.sk-hidden--visually {border: 0;clip: rect(1px 1px 1px 1px);clip: rect(1px, 1px, 1px, 1px);height: 1px;margin: -1px;overflow: hidden;padding: 0;position: absolute;width: 1px;}#sk-3c4f81ea-5b4b-449e-bfcd-f24a77d33971 div.sk-estimator {font-family: monospace;background-color: #f0f8ff;border: 1px dotted black;border-radius: 0.25em;box-sizing: border-box;margin-bottom: 0.5em;}#sk-3c4f81ea-5b4b-449e-bfcd-f24a77d33971 div.sk-estimator:hover {background-color: #d4ebff;}#sk-3c4f81ea-5b4b-449e-bfcd-f24a77d33971 div.sk-parallel-item::after {content: \"\";width: 100%;border-bottom: 1px solid gray;flex-grow: 1;}#sk-3c4f81ea-5b4b-449e-bfcd-f24a77d33971 div.sk-label:hover label.sk-toggleable__label {background-color: #d4ebff;}#sk-3c4f81ea-5b4b-449e-bfcd-f24a77d33971 div.sk-serial::before {content: \"\";position: absolute;border-left: 1px solid gray;box-sizing: border-box;top: 2em;bottom: 0;left: 50%;}#sk-3c4f81ea-5b4b-449e-bfcd-f24a77d33971 div.sk-serial {display: flex;flex-direction: column;align-items: center;background-color: white;padding-right: 0.2em;padding-left: 0.2em;}#sk-3c4f81ea-5b4b-449e-bfcd-f24a77d33971 div.sk-item {z-index: 1;}#sk-3c4f81ea-5b4b-449e-bfcd-f24a77d33971 div.sk-parallel {display: flex;align-items: stretch;justify-content: center;background-color: white;}#sk-3c4f81ea-5b4b-449e-bfcd-f24a77d33971 div.sk-parallel::before {content: \"\";position: absolute;border-left: 1px solid gray;box-sizing: border-box;top: 2em;bottom: 0;left: 50%;}#sk-3c4f81ea-5b4b-449e-bfcd-f24a77d33971 div.sk-parallel-item {display: flex;flex-direction: column;position: relative;background-color: white;}#sk-3c4f81ea-5b4b-449e-bfcd-f24a77d33971 div.sk-parallel-item:first-child::after {align-self: flex-end;width: 50%;}#sk-3c4f81ea-5b4b-449e-bfcd-f24a77d33971 div.sk-parallel-item:last-child::after {align-self: flex-start;width: 50%;}#sk-3c4f81ea-5b4b-449e-bfcd-f24a77d33971 div.sk-parallel-item:only-child::after {width: 0;}#sk-3c4f81ea-5b4b-449e-bfcd-f24a77d33971 div.sk-dashed-wrapped {border: 1px dashed gray;margin: 0 0.4em 0.5em 0.4em;box-sizing: border-box;padding-bottom: 0.4em;background-color: white;position: relative;}#sk-3c4f81ea-5b4b-449e-bfcd-f24a77d33971 div.sk-label label {font-family: monospace;font-weight: bold;background-color: white;display: inline-block;line-height: 1.2em;}#sk-3c4f81ea-5b4b-449e-bfcd-f24a77d33971 div.sk-label-container {position: relative;z-index: 2;text-align: center;}#sk-3c4f81ea-5b4b-449e-bfcd-f24a77d33971 div.sk-container {/* jupyter's `normalize.less` sets `[hidden] { display: none; }` but bootstrap.min.css set `[hidden] { display: none !important; }` so we also need the `!important` here to be able to override the default hidden behavior on the sphinx rendered scikit-learn.org. See: https://github.com/scikit-learn/scikit-learn/issues/21755 */display: inline-block !important;position: relative;}#sk-3c4f81ea-5b4b-449e-bfcd-f24a77d33971 div.sk-text-repr-fallback {display: none;}</style><div id=\"sk-3c4f81ea-5b4b-449e-bfcd-f24a77d33971\" class=\"sk-top-container\"><div class=\"sk-text-repr-fallback\"><pre>Pipeline(steps=[(&#x27;columntransformer&#x27;,\n",
       "                 ColumnTransformer(transformers=[(&#x27;pipeline&#x27;,\n",
       "                                                  Pipeline(steps=[(&#x27;cleandftransformer&#x27;,\n",
       "                                                                   CleanDFTransformer()),\n",
       "                                                                  (&#x27;tfidfvectorizer&#x27;,\n",
       "                                                                   TfidfVectorizer(max_df=0.8,\n",
       "                                                                                   max_features=25000,\n",
       "                                                                                   min_df=10,\n",
       "                                                                                   ngram_range=(1,\n",
       "                                                                                                2)))]),\n",
       "                                                  [&#x27;text&#x27;])])),\n",
       "                (&#x27;adaboostclassifier&#x27;,\n",
       "                 AdaBoostClassifier(base_estimator=DecisionTreeClassifier(max_depth=3),\n",
       "                                    n_estimators=10))])</pre><b>Please rerun this cell to show the HTML repr or trust the notebook.</b></div><div class=\"sk-container\" hidden><div class=\"sk-item sk-dashed-wrapped\"><div class=\"sk-label-container\"><div class=\"sk-label sk-toggleable\"><input class=\"sk-toggleable__control sk-hidden--visually\" id=\"b03acd10-1047-492e-97f2-93bf73d3467e\" type=\"checkbox\" ><label for=\"b03acd10-1047-492e-97f2-93bf73d3467e\" class=\"sk-toggleable__label sk-toggleable__label-arrow\">Pipeline</label><div class=\"sk-toggleable__content\"><pre>Pipeline(steps=[(&#x27;columntransformer&#x27;,\n",
       "                 ColumnTransformer(transformers=[(&#x27;pipeline&#x27;,\n",
       "                                                  Pipeline(steps=[(&#x27;cleandftransformer&#x27;,\n",
       "                                                                   CleanDFTransformer()),\n",
       "                                                                  (&#x27;tfidfvectorizer&#x27;,\n",
       "                                                                   TfidfVectorizer(max_df=0.8,\n",
       "                                                                                   max_features=25000,\n",
       "                                                                                   min_df=10,\n",
       "                                                                                   ngram_range=(1,\n",
       "                                                                                                2)))]),\n",
       "                                                  [&#x27;text&#x27;])])),\n",
       "                (&#x27;adaboostclassifier&#x27;,\n",
       "                 AdaBoostClassifier(base_estimator=DecisionTreeClassifier(max_depth=3),\n",
       "                                    n_estimators=10))])</pre></div></div></div><div class=\"sk-serial\"><div class=\"sk-item sk-dashed-wrapped\"><div class=\"sk-label-container\"><div class=\"sk-label sk-toggleable\"><input class=\"sk-toggleable__control sk-hidden--visually\" id=\"5dc613e5-149d-4ca9-89fe-0a73917e5bdb\" type=\"checkbox\" ><label for=\"5dc613e5-149d-4ca9-89fe-0a73917e5bdb\" class=\"sk-toggleable__label sk-toggleable__label-arrow\">columntransformer: ColumnTransformer</label><div class=\"sk-toggleable__content\"><pre>ColumnTransformer(transformers=[(&#x27;pipeline&#x27;,\n",
       "                                 Pipeline(steps=[(&#x27;cleandftransformer&#x27;,\n",
       "                                                  CleanDFTransformer()),\n",
       "                                                 (&#x27;tfidfvectorizer&#x27;,\n",
       "                                                  TfidfVectorizer(max_df=0.8,\n",
       "                                                                  max_features=25000,\n",
       "                                                                  min_df=10,\n",
       "                                                                  ngram_range=(1,\n",
       "                                                                               2)))]),\n",
       "                                 [&#x27;text&#x27;])])</pre></div></div></div><div class=\"sk-parallel\"><div class=\"sk-parallel-item\"><div class=\"sk-item\"><div class=\"sk-label-container\"><div class=\"sk-label sk-toggleable\"><input class=\"sk-toggleable__control sk-hidden--visually\" id=\"f340e451-3c27-494b-b7b9-b88619c479a5\" type=\"checkbox\" ><label for=\"f340e451-3c27-494b-b7b9-b88619c479a5\" class=\"sk-toggleable__label sk-toggleable__label-arrow\">pipeline</label><div class=\"sk-toggleable__content\"><pre>[&#x27;text&#x27;]</pre></div></div></div><div class=\"sk-serial\"><div class=\"sk-item\"><div class=\"sk-serial\"><div class=\"sk-item\"><div class=\"sk-estimator sk-toggleable\"><input class=\"sk-toggleable__control sk-hidden--visually\" id=\"531ade78-61a9-4076-be6c-606e16d54f80\" type=\"checkbox\" ><label for=\"531ade78-61a9-4076-be6c-606e16d54f80\" class=\"sk-toggleable__label sk-toggleable__label-arrow\">CleanDFTransformer</label><div class=\"sk-toggleable__content\"><pre>CleanDFTransformer()</pre></div></div></div><div class=\"sk-item\"><div class=\"sk-estimator sk-toggleable\"><input class=\"sk-toggleable__control sk-hidden--visually\" id=\"fb470bc4-34dc-4ff8-b7d8-3f7f32199daf\" type=\"checkbox\" ><label for=\"fb470bc4-34dc-4ff8-b7d8-3f7f32199daf\" class=\"sk-toggleable__label sk-toggleable__label-arrow\">TfidfVectorizer</label><div class=\"sk-toggleable__content\"><pre>TfidfVectorizer(max_df=0.8, max_features=25000, min_df=10, ngram_range=(1, 2))</pre></div></div></div></div></div></div></div></div></div></div><div class=\"sk-item sk-dashed-wrapped\"><div class=\"sk-label-container\"><div class=\"sk-label sk-toggleable\"><input class=\"sk-toggleable__control sk-hidden--visually\" id=\"4f6b8b77-61dd-4cd0-acaf-2f538928ef03\" type=\"checkbox\" ><label for=\"4f6b8b77-61dd-4cd0-acaf-2f538928ef03\" class=\"sk-toggleable__label sk-toggleable__label-arrow\">adaboostclassifier: AdaBoostClassifier</label><div class=\"sk-toggleable__content\"><pre>AdaBoostClassifier(base_estimator=DecisionTreeClassifier(max_depth=3),\n",
       "                   n_estimators=10)</pre></div></div></div><div class=\"sk-parallel\"><div class=\"sk-parallel-item\"><div class=\"sk-item\"><div class=\"sk-serial\"><div class=\"sk-item\"><div class=\"sk-estimator sk-toggleable\"><input class=\"sk-toggleable__control sk-hidden--visually\" id=\"34d5e757-768e-4879-864c-e0cbcf444dc1\" type=\"checkbox\" ><label for=\"34d5e757-768e-4879-864c-e0cbcf444dc1\" class=\"sk-toggleable__label sk-toggleable__label-arrow\">DecisionTreeClassifier</label><div class=\"sk-toggleable__content\"><pre>DecisionTreeClassifier(max_depth=3)</pre></div></div></div></div></div></div></div></div></div></div></div></div>"
      ],
      "text/plain": [
       "Pipeline(steps=[('columntransformer',\n",
       "                 ColumnTransformer(transformers=[('pipeline',\n",
       "                                                  Pipeline(steps=[('cleandftransformer',\n",
       "                                                                   CleanDFTransformer()),\n",
       "                                                                  ('tfidfvectorizer',\n",
       "                                                                   TfidfVectorizer(max_df=0.8,\n",
       "                                                                                   max_features=25000,\n",
       "                                                                                   min_df=10,\n",
       "                                                                                   ngram_range=(1,\n",
       "                                                                                                2)))]),\n",
       "                                                  ['text'])])),\n",
       "                ('adaboostclassifier',\n",
       "                 AdaBoostClassifier(base_estimator=DecisionTreeClassifier(max_depth=3),\n",
       "                                    n_estimators=10))])"
      ]
     },
     "execution_count": 72,
     "metadata": {},
     "output_type": "execute_result"
    }
   ],
   "source": [
    "classifier_model.pipeline"
   ]
  },
  {
   "cell_type": "code",
   "execution_count": 73,
   "id": "57470456",
   "metadata": {},
   "outputs": [],
   "source": [
    "classifier_model.train(X_train, y_train)"
   ]
  },
  {
   "cell_type": "code",
   "execution_count": 77,
   "id": "82d2b633",
   "metadata": {},
   "outputs": [],
   "source": [
    "y_pred = classifier_model.predict(X_test)"
   ]
  },
  {
   "cell_type": "code",
   "execution_count": 78,
   "id": "5aa10708",
   "metadata": {},
   "outputs": [
    {
     "data": {
      "text/plain": [
       "['ethnicity',\n",
       " 'age',\n",
       " 'gender',\n",
       " 'ethnicity',\n",
       " 'age',\n",
       " 'ethnicity',\n",
       " 'religion',\n",
       " 'gender',\n",
       " 'religion',\n",
       " 'other',\n",
       " 'religion',\n",
       " 'religion',\n",
       " 'religion',\n",
       " 'ethnicity',\n",
       " 'religion',\n",
       " 'ethnicity',\n",
       " 'other',\n",
       " 'age',\n",
       " 'other',\n",
       " 'age',\n",
       " 'age',\n",
       " 'gender',\n",
       " 'gender',\n",
       " 'other',\n",
       " 'ethnicity',\n",
       " 'age',\n",
       " 'gender',\n",
       " 'other',\n",
       " 'ethnicity',\n",
       " 'other',\n",
       " 'gender',\n",
       " 'other',\n",
       " 'gender',\n",
       " 'ethnicity',\n",
       " 'gender',\n",
       " 'other',\n",
       " 'religion',\n",
       " 'gender',\n",
       " 'other',\n",
       " 'age',\n",
       " 'age',\n",
       " 'religion',\n",
       " 'religion',\n",
       " 'other',\n",
       " 'other',\n",
       " 'other',\n",
       " 'ethnicity',\n",
       " 'religion',\n",
       " 'gender',\n",
       " 'ethnicity',\n",
       " 'religion',\n",
       " 'ethnicity',\n",
       " 'gender',\n",
       " 'other',\n",
       " 'gender',\n",
       " 'religion',\n",
       " 'age',\n",
       " 'age',\n",
       " 'gender',\n",
       " 'other',\n",
       " 'age',\n",
       " 'gender',\n",
       " 'other',\n",
       " 'other',\n",
       " 'religion',\n",
       " 'religion',\n",
       " 'other',\n",
       " 'ethnicity',\n",
       " 'religion',\n",
       " 'age',\n",
       " 'gender',\n",
       " 'other',\n",
       " 'age',\n",
       " 'religion',\n",
       " 'ethnicity',\n",
       " 'religion',\n",
       " 'gender',\n",
       " 'religion',\n",
       " 'age',\n",
       " 'ethnicity',\n",
       " 'age',\n",
       " 'ethnicity',\n",
       " 'age',\n",
       " 'other',\n",
       " 'ethnicity',\n",
       " 'age',\n",
       " 'religion',\n",
       " 'ethnicity',\n",
       " 'ethnicity',\n",
       " 'religion',\n",
       " 'ethnicity',\n",
       " 'other',\n",
       " 'religion',\n",
       " 'gender',\n",
       " 'religion',\n",
       " 'religion',\n",
       " 'ethnicity',\n",
       " 'religion',\n",
       " 'religion',\n",
       " 'gender',\n",
       " 'gender',\n",
       " 'religion',\n",
       " 'gender',\n",
       " 'ethnicity',\n",
       " 'other',\n",
       " 'religion',\n",
       " 'other',\n",
       " 'religion',\n",
       " 'other',\n",
       " 'religion',\n",
       " 'age',\n",
       " 'gender',\n",
       " 'other',\n",
       " 'age',\n",
       " 'other',\n",
       " 'religion',\n",
       " 'gender',\n",
       " 'religion',\n",
       " 'other',\n",
       " 'religion',\n",
       " 'other',\n",
       " 'religion',\n",
       " 'age',\n",
       " 'gender',\n",
       " 'gender',\n",
       " 'religion',\n",
       " 'gender',\n",
       " 'ethnicity',\n",
       " 'age',\n",
       " 'age',\n",
       " 'religion',\n",
       " 'ethnicity',\n",
       " 'age',\n",
       " 'religion',\n",
       " 'ethnicity',\n",
       " 'age',\n",
       " 'religion',\n",
       " 'religion',\n",
       " 'other',\n",
       " 'other',\n",
       " 'gender',\n",
       " 'other',\n",
       " 'ethnicity',\n",
       " 'religion',\n",
       " 'gender',\n",
       " 'religion',\n",
       " 'age',\n",
       " 'religion',\n",
       " 'age',\n",
       " 'gender',\n",
       " 'ethnicity',\n",
       " 'age',\n",
       " 'ethnicity',\n",
       " 'age',\n",
       " 'other',\n",
       " 'ethnicity',\n",
       " 'age',\n",
       " 'other',\n",
       " 'other',\n",
       " 'ethnicity',\n",
       " 'religion',\n",
       " 'ethnicity',\n",
       " 'ethnicity',\n",
       " 'other',\n",
       " 'other',\n",
       " 'ethnicity',\n",
       " 'ethnicity',\n",
       " 'other',\n",
       " 'other',\n",
       " 'other',\n",
       " 'age',\n",
       " 'religion',\n",
       " 'age',\n",
       " 'other',\n",
       " 'ethnicity',\n",
       " 'other',\n",
       " 'other',\n",
       " 'gender',\n",
       " 'religion',\n",
       " 'other',\n",
       " 'other',\n",
       " 'gender',\n",
       " 'other',\n",
       " 'age',\n",
       " 'religion',\n",
       " 'age',\n",
       " 'other',\n",
       " 'age',\n",
       " 'gender',\n",
       " 'other',\n",
       " 'religion',\n",
       " 'religion',\n",
       " 'religion',\n",
       " 'ethnicity',\n",
       " 'age',\n",
       " 'religion',\n",
       " 'age',\n",
       " 'gender',\n",
       " 'age',\n",
       " 'religion',\n",
       " 'gender',\n",
       " 'other',\n",
       " 'other',\n",
       " 'other',\n",
       " 'ethnicity',\n",
       " 'ethnicity',\n",
       " 'age',\n",
       " 'other',\n",
       " 'age',\n",
       " 'religion',\n",
       " 'religion',\n",
       " 'age',\n",
       " 'religion',\n",
       " 'other',\n",
       " 'ethnicity',\n",
       " 'religion',\n",
       " 'other',\n",
       " 'gender',\n",
       " 'ethnicity',\n",
       " 'religion',\n",
       " 'age',\n",
       " 'religion',\n",
       " 'ethnicity',\n",
       " 'other',\n",
       " 'gender',\n",
       " 'other',\n",
       " 'other',\n",
       " 'age',\n",
       " 'gender',\n",
       " 'ethnicity',\n",
       " 'religion',\n",
       " 'ethnicity',\n",
       " 'gender',\n",
       " 'religion',\n",
       " 'age',\n",
       " 'ethnicity',\n",
       " 'ethnicity',\n",
       " 'other',\n",
       " 'religion',\n",
       " 'other',\n",
       " 'religion',\n",
       " 'religion',\n",
       " 'ethnicity',\n",
       " 'gender',\n",
       " 'other',\n",
       " 'gender',\n",
       " 'ethnicity',\n",
       " 'ethnicity',\n",
       " 'gender',\n",
       " 'gender',\n",
       " 'gender',\n",
       " 'gender',\n",
       " 'other',\n",
       " 'other',\n",
       " 'other',\n",
       " 'other',\n",
       " 'other',\n",
       " 'other',\n",
       " 'ethnicity',\n",
       " 'other',\n",
       " 'age',\n",
       " 'other',\n",
       " 'religion',\n",
       " 'ethnicity',\n",
       " 'religion',\n",
       " 'religion',\n",
       " 'other',\n",
       " 'ethnicity',\n",
       " 'other',\n",
       " 'other',\n",
       " 'gender',\n",
       " 'other',\n",
       " 'other',\n",
       " 'other',\n",
       " 'ethnicity',\n",
       " 'other',\n",
       " 'ethnicity',\n",
       " 'ethnicity',\n",
       " 'age',\n",
       " 'ethnicity',\n",
       " 'ethnicity',\n",
       " 'age',\n",
       " 'ethnicity',\n",
       " 'ethnicity',\n",
       " 'religion',\n",
       " 'gender',\n",
       " 'age',\n",
       " 'other',\n",
       " 'religion',\n",
       " 'age',\n",
       " 'age',\n",
       " 'religion',\n",
       " 'other',\n",
       " 'other',\n",
       " 'age',\n",
       " 'gender',\n",
       " 'other',\n",
       " 'other',\n",
       " 'religion',\n",
       " 'gender',\n",
       " 'other',\n",
       " 'other',\n",
       " 'gender',\n",
       " 'ethnicity',\n",
       " 'gender',\n",
       " 'gender',\n",
       " 'other',\n",
       " 'age',\n",
       " 'gender',\n",
       " 'age',\n",
       " 'other',\n",
       " 'religion',\n",
       " 'age',\n",
       " 'religion',\n",
       " 'religion',\n",
       " 'other',\n",
       " 'age',\n",
       " 'age',\n",
       " 'other',\n",
       " 'gender',\n",
       " 'other',\n",
       " 'age',\n",
       " 'ethnicity',\n",
       " 'other',\n",
       " 'other',\n",
       " 'religion',\n",
       " 'other',\n",
       " 'other',\n",
       " 'age',\n",
       " 'religion',\n",
       " 'gender',\n",
       " 'religion',\n",
       " 'other',\n",
       " 'other',\n",
       " 'other',\n",
       " 'other',\n",
       " 'other',\n",
       " 'gender',\n",
       " 'religion',\n",
       " 'gender',\n",
       " 'other',\n",
       " 'religion',\n",
       " 'other',\n",
       " 'gender',\n",
       " 'religion',\n",
       " 'ethnicity',\n",
       " 'religion',\n",
       " 'gender',\n",
       " 'gender',\n",
       " 'other',\n",
       " 'religion',\n",
       " 'other',\n",
       " 'other',\n",
       " 'other',\n",
       " 'ethnicity',\n",
       " 'gender',\n",
       " 'age',\n",
       " 'other',\n",
       " 'age',\n",
       " 'age',\n",
       " 'other',\n",
       " 'other',\n",
       " 'ethnicity',\n",
       " 'ethnicity',\n",
       " 'age',\n",
       " 'other',\n",
       " 'gender',\n",
       " 'other',\n",
       " 'gender',\n",
       " 'age',\n",
       " 'gender',\n",
       " 'other',\n",
       " 'age',\n",
       " 'other',\n",
       " 'gender',\n",
       " 'gender',\n",
       " 'other',\n",
       " 'gender',\n",
       " 'ethnicity',\n",
       " 'religion',\n",
       " 'gender',\n",
       " 'gender',\n",
       " 'gender',\n",
       " 'gender',\n",
       " 'religion',\n",
       " 'other',\n",
       " 'religion',\n",
       " 'age',\n",
       " 'ethnicity',\n",
       " 'religion',\n",
       " 'age',\n",
       " 'religion',\n",
       " 'other',\n",
       " 'gender',\n",
       " 'religion',\n",
       " 'religion',\n",
       " 'religion',\n",
       " 'age',\n",
       " 'other',\n",
       " 'religion',\n",
       " 'other',\n",
       " 'age',\n",
       " 'ethnicity',\n",
       " 'gender',\n",
       " 'age',\n",
       " 'gender',\n",
       " 'gender',\n",
       " 'gender',\n",
       " 'age',\n",
       " 'ethnicity',\n",
       " 'age',\n",
       " 'ethnicity',\n",
       " 'religion',\n",
       " 'other',\n",
       " 'other',\n",
       " 'age',\n",
       " 'other',\n",
       " 'other',\n",
       " 'gender',\n",
       " 'gender',\n",
       " 'gender',\n",
       " 'ethnicity',\n",
       " 'religion',\n",
       " 'gender',\n",
       " 'religion',\n",
       " 'religion',\n",
       " 'religion',\n",
       " 'religion',\n",
       " 'religion',\n",
       " 'gender',\n",
       " 'ethnicity',\n",
       " 'gender',\n",
       " 'ethnicity',\n",
       " 'other',\n",
       " 'religion',\n",
       " 'other',\n",
       " 'other',\n",
       " 'ethnicity',\n",
       " 'gender',\n",
       " 'religion',\n",
       " 'other',\n",
       " 'age',\n",
       " 'other',\n",
       " 'religion',\n",
       " 'ethnicity',\n",
       " 'other',\n",
       " 'religion',\n",
       " 'ethnicity',\n",
       " 'religion',\n",
       " 'ethnicity',\n",
       " 'religion',\n",
       " 'gender',\n",
       " 'religion',\n",
       " 'gender',\n",
       " 'other',\n",
       " 'gender',\n",
       " 'religion',\n",
       " 'ethnicity',\n",
       " 'religion',\n",
       " 'gender',\n",
       " 'religion',\n",
       " 'religion',\n",
       " 'gender',\n",
       " 'religion',\n",
       " 'other',\n",
       " 'religion',\n",
       " 'other',\n",
       " 'other',\n",
       " 'religion',\n",
       " 'age',\n",
       " 'religion',\n",
       " 'gender',\n",
       " 'ethnicity',\n",
       " 'other',\n",
       " 'age',\n",
       " 'age',\n",
       " 'gender',\n",
       " 'gender',\n",
       " 'other',\n",
       " 'age',\n",
       " 'ethnicity',\n",
       " 'ethnicity',\n",
       " 'other',\n",
       " 'religion',\n",
       " 'other',\n",
       " 'other',\n",
       " 'religion',\n",
       " 'religion',\n",
       " 'gender',\n",
       " 'ethnicity',\n",
       " 'ethnicity',\n",
       " 'other',\n",
       " 'other',\n",
       " 'ethnicity',\n",
       " 'religion',\n",
       " 'age',\n",
       " 'gender',\n",
       " 'age',\n",
       " 'age',\n",
       " 'other',\n",
       " 'ethnicity',\n",
       " 'gender',\n",
       " 'ethnicity',\n",
       " 'age',\n",
       " 'gender',\n",
       " 'age',\n",
       " 'gender',\n",
       " 'gender',\n",
       " 'gender',\n",
       " 'ethnicity',\n",
       " 'other',\n",
       " 'religion',\n",
       " 'religion',\n",
       " 'other',\n",
       " 'ethnicity',\n",
       " 'other',\n",
       " 'other',\n",
       " 'religion',\n",
       " 'other',\n",
       " 'religion',\n",
       " 'religion',\n",
       " 'ethnicity',\n",
       " 'other',\n",
       " 'age',\n",
       " 'other',\n",
       " 'religion',\n",
       " 'gender',\n",
       " 'age',\n",
       " 'other',\n",
       " 'gender',\n",
       " 'religion',\n",
       " 'other',\n",
       " 'religion',\n",
       " 'other',\n",
       " 'ethnicity',\n",
       " 'age',\n",
       " 'age',\n",
       " 'other',\n",
       " 'other',\n",
       " 'age',\n",
       " 'gender',\n",
       " 'religion',\n",
       " 'religion',\n",
       " 'religion',\n",
       " 'age',\n",
       " 'religion',\n",
       " 'religion',\n",
       " 'other',\n",
       " 'age',\n",
       " 'ethnicity',\n",
       " 'ethnicity',\n",
       " 'ethnicity',\n",
       " 'other',\n",
       " 'other',\n",
       " 'religion',\n",
       " 'gender',\n",
       " 'religion',\n",
       " 'gender',\n",
       " 'ethnicity',\n",
       " 'gender',\n",
       " 'gender',\n",
       " 'age',\n",
       " 'religion',\n",
       " 'age',\n",
       " 'gender',\n",
       " 'age',\n",
       " 'religion',\n",
       " 'other',\n",
       " 'other',\n",
       " 'age',\n",
       " 'other',\n",
       " 'other',\n",
       " 'age',\n",
       " 'gender',\n",
       " 'gender',\n",
       " 'other',\n",
       " 'gender',\n",
       " 'other',\n",
       " 'other',\n",
       " 'religion',\n",
       " 'religion',\n",
       " 'other',\n",
       " 'other',\n",
       " 'religion',\n",
       " 'age',\n",
       " 'religion',\n",
       " 'ethnicity',\n",
       " 'gender',\n",
       " 'religion',\n",
       " 'other',\n",
       " 'other',\n",
       " 'other',\n",
       " 'other',\n",
       " 'gender',\n",
       " 'age',\n",
       " 'gender',\n",
       " 'other',\n",
       " 'ethnicity',\n",
       " 'gender',\n",
       " 'age',\n",
       " 'other',\n",
       " 'other',\n",
       " 'ethnicity',\n",
       " 'gender',\n",
       " 'other',\n",
       " 'age',\n",
       " 'religion',\n",
       " 'other',\n",
       " 'other',\n",
       " 'ethnicity',\n",
       " 'other',\n",
       " 'ethnicity',\n",
       " 'ethnicity',\n",
       " 'gender',\n",
       " 'other',\n",
       " 'religion',\n",
       " 'gender',\n",
       " 'religion',\n",
       " 'other',\n",
       " 'gender',\n",
       " 'age',\n",
       " 'religion',\n",
       " 'ethnicity',\n",
       " 'ethnicity',\n",
       " 'age',\n",
       " 'religion',\n",
       " 'ethnicity',\n",
       " 'religion',\n",
       " 'age',\n",
       " 'gender',\n",
       " 'other',\n",
       " 'ethnicity',\n",
       " 'ethnicity',\n",
       " 'ethnicity',\n",
       " 'gender',\n",
       " 'ethnicity',\n",
       " 'gender',\n",
       " 'other',\n",
       " 'ethnicity',\n",
       " 'other',\n",
       " 'age',\n",
       " 'gender',\n",
       " 'gender',\n",
       " 'age',\n",
       " 'religion',\n",
       " 'ethnicity',\n",
       " 'gender',\n",
       " 'age',\n",
       " 'religion',\n",
       " 'other',\n",
       " 'ethnicity',\n",
       " 'gender',\n",
       " 'ethnicity',\n",
       " 'gender',\n",
       " 'gender',\n",
       " 'other',\n",
       " 'religion',\n",
       " 'ethnicity',\n",
       " 'gender',\n",
       " 'gender',\n",
       " 'ethnicity',\n",
       " 'religion',\n",
       " 'other',\n",
       " 'other',\n",
       " 'gender',\n",
       " 'age',\n",
       " 'ethnicity',\n",
       " 'ethnicity',\n",
       " 'other',\n",
       " 'other',\n",
       " 'gender',\n",
       " 'religion',\n",
       " 'other',\n",
       " 'religion',\n",
       " 'age',\n",
       " 'religion',\n",
       " 'other',\n",
       " 'other',\n",
       " 'gender',\n",
       " 'other',\n",
       " 'religion',\n",
       " 'gender',\n",
       " 'other',\n",
       " 'age',\n",
       " 'age',\n",
       " 'ethnicity',\n",
       " 'ethnicity',\n",
       " 'gender',\n",
       " 'ethnicity',\n",
       " 'other',\n",
       " 'other',\n",
       " 'other',\n",
       " 'other',\n",
       " 'religion',\n",
       " 'age',\n",
       " 'ethnicity',\n",
       " 'religion',\n",
       " 'ethnicity',\n",
       " 'ethnicity',\n",
       " 'other',\n",
       " 'ethnicity',\n",
       " 'gender',\n",
       " 'other',\n",
       " 'gender',\n",
       " 'age',\n",
       " 'gender',\n",
       " 'other',\n",
       " 'age',\n",
       " 'gender',\n",
       " 'other',\n",
       " 'age',\n",
       " 'ethnicity',\n",
       " 'other',\n",
       " 'religion',\n",
       " 'other',\n",
       " 'ethnicity',\n",
       " 'other',\n",
       " 'ethnicity',\n",
       " 'age',\n",
       " 'other',\n",
       " 'age',\n",
       " 'age',\n",
       " 'other',\n",
       " 'gender',\n",
       " 'other',\n",
       " 'age',\n",
       " 'ethnicity',\n",
       " 'religion',\n",
       " 'ethnicity',\n",
       " 'ethnicity',\n",
       " 'age',\n",
       " 'religion',\n",
       " 'other',\n",
       " 'religion',\n",
       " 'other',\n",
       " 'other',\n",
       " 'ethnicity',\n",
       " 'religion',\n",
       " 'ethnicity',\n",
       " 'religion',\n",
       " 'ethnicity',\n",
       " 'ethnicity',\n",
       " 'other',\n",
       " 'other',\n",
       " 'religion',\n",
       " 'gender',\n",
       " 'ethnicity',\n",
       " 'ethnicity',\n",
       " 'other',\n",
       " 'age',\n",
       " 'age',\n",
       " 'ethnicity',\n",
       " 'other',\n",
       " 'other',\n",
       " 'ethnicity',\n",
       " 'age',\n",
       " 'age',\n",
       " 'other',\n",
       " 'gender',\n",
       " 'other',\n",
       " 'other',\n",
       " 'religion',\n",
       " 'gender',\n",
       " 'religion',\n",
       " 'ethnicity',\n",
       " 'religion',\n",
       " 'gender',\n",
       " 'ethnicity',\n",
       " 'ethnicity',\n",
       " 'religion',\n",
       " 'other',\n",
       " 'gender',\n",
       " 'religion',\n",
       " 'ethnicity',\n",
       " 'religion',\n",
       " 'gender',\n",
       " 'age',\n",
       " 'religion',\n",
       " 'other',\n",
       " 'other',\n",
       " 'other',\n",
       " 'ethnicity',\n",
       " 'gender',\n",
       " 'ethnicity',\n",
       " 'age',\n",
       " 'religion',\n",
       " 'other',\n",
       " 'age',\n",
       " 'gender',\n",
       " 'religion',\n",
       " 'age',\n",
       " 'gender',\n",
       " 'other',\n",
       " 'ethnicity',\n",
       " 'ethnicity',\n",
       " 'age',\n",
       " 'religion',\n",
       " 'gender',\n",
       " 'other',\n",
       " 'other',\n",
       " 'gender',\n",
       " 'gender',\n",
       " 'other',\n",
       " 'ethnicity',\n",
       " 'age',\n",
       " 'age',\n",
       " 'religion',\n",
       " 'other',\n",
       " 'ethnicity',\n",
       " 'gender',\n",
       " 'gender',\n",
       " 'gender',\n",
       " 'gender',\n",
       " 'other',\n",
       " 'ethnicity',\n",
       " 'other',\n",
       " 'other',\n",
       " 'other',\n",
       " 'other',\n",
       " 'religion',\n",
       " 'other',\n",
       " 'other',\n",
       " 'religion',\n",
       " 'other',\n",
       " 'religion',\n",
       " 'gender',\n",
       " 'ethnicity',\n",
       " 'gender',\n",
       " 'other',\n",
       " 'other',\n",
       " 'religion',\n",
       " 'ethnicity',\n",
       " 'gender',\n",
       " 'ethnicity',\n",
       " 'other',\n",
       " 'gender',\n",
       " 'other',\n",
       " 'age',\n",
       " 'gender',\n",
       " 'ethnicity',\n",
       " 'age',\n",
       " 'gender',\n",
       " 'gender',\n",
       " 'religion',\n",
       " 'gender',\n",
       " 'other',\n",
       " 'age',\n",
       " 'other',\n",
       " 'gender',\n",
       " 'age',\n",
       " 'religion',\n",
       " 'religion',\n",
       " 'other',\n",
       " 'age',\n",
       " 'gender',\n",
       " 'religion',\n",
       " 'religion',\n",
       " 'age',\n",
       " 'age',\n",
       " 'other',\n",
       " 'other',\n",
       " 'religion',\n",
       " 'ethnicity',\n",
       " 'ethnicity',\n",
       " 'ethnicity',\n",
       " 'gender',\n",
       " 'religion',\n",
       " 'gender',\n",
       " 'age',\n",
       " 'gender',\n",
       " 'other',\n",
       " 'gender',\n",
       " 'gender',\n",
       " 'age',\n",
       " 'other',\n",
       " 'ethnicity',\n",
       " 'religion',\n",
       " 'age',\n",
       " 'age',\n",
       " 'ethnicity',\n",
       " 'ethnicity',\n",
       " 'gender',\n",
       " 'religion',\n",
       " 'religion',\n",
       " 'other',\n",
       " 'religion',\n",
       " 'age',\n",
       " 'gender',\n",
       " 'other',\n",
       " 'gender',\n",
       " 'other',\n",
       " 'gender',\n",
       " 'age',\n",
       " 'gender',\n",
       " 'gender',\n",
       " 'ethnicity',\n",
       " 'gender',\n",
       " 'other',\n",
       " 'ethnicity',\n",
       " 'age',\n",
       " 'religion',\n",
       " 'other',\n",
       " 'religion',\n",
       " 'gender',\n",
       " 'age',\n",
       " 'religion',\n",
       " 'ethnicity',\n",
       " 'age',\n",
       " 'other',\n",
       " 'other',\n",
       " 'religion',\n",
       " 'gender',\n",
       " 'other',\n",
       " 'gender',\n",
       " 'gender',\n",
       " 'ethnicity',\n",
       " 'age',\n",
       " 'gender',\n",
       " 'ethnicity',\n",
       " 'other',\n",
       " 'gender',\n",
       " 'religion',\n",
       " 'religion',\n",
       " 'age',\n",
       " 'religion',\n",
       " 'other',\n",
       " 'gender',\n",
       " 'religion',\n",
       " 'gender',\n",
       " 'religion',\n",
       " 'religion',\n",
       " 'gender',\n",
       " 'religion',\n",
       " 'other',\n",
       " 'gender',\n",
       " 'religion',\n",
       " 'other',\n",
       " 'ethnicity',\n",
       " 'gender',\n",
       " 'gender',\n",
       " 'other',\n",
       " 'other',\n",
       " 'ethnicity',\n",
       " 'gender',\n",
       " 'religion',\n",
       " 'ethnicity',\n",
       " 'gender',\n",
       " 'religion',\n",
       " 'ethnicity',\n",
       " 'other',\n",
       " 'ethnicity',\n",
       " 'age',\n",
       " 'religion',\n",
       " 'other',\n",
       " 'ethnicity',\n",
       " 'other',\n",
       " 'other',\n",
       " 'other',\n",
       " 'gender',\n",
       " 'age',\n",
       " 'other',\n",
       " 'religion',\n",
       " 'ethnicity',\n",
       " 'gender',\n",
       " 'ethnicity',\n",
       " 'gender',\n",
       " 'religion',\n",
       " 'gender',\n",
       " 'ethnicity',\n",
       " 'ethnicity',\n",
       " 'gender',\n",
       " 'ethnicity',\n",
       " 'other',\n",
       " 'gender',\n",
       " 'gender',\n",
       " 'age',\n",
       " 'gender',\n",
       " 'other',\n",
       " 'other',\n",
       " 'religion',\n",
       " 'other',\n",
       " 'religion',\n",
       " 'ethnicity',\n",
       " 'ethnicity',\n",
       " 'religion',\n",
       " 'religion',\n",
       " 'other',\n",
       " 'gender',\n",
       " 'ethnicity',\n",
       " 'gender',\n",
       " 'ethnicity',\n",
       " 'age',\n",
       " 'gender',\n",
       " 'other',\n",
       " 'gender',\n",
       " 'gender',\n",
       " 'age',\n",
       " 'age',\n",
       " 'other',\n",
       " 'ethnicity',\n",
       " ...]"
      ]
     },
     "execution_count": 78,
     "metadata": {},
     "output_type": "execute_result"
    }
   ],
   "source": [
    "y_pred"
   ]
  },
  {
   "cell_type": "code",
   "execution_count": 79,
   "id": "5b9227d3",
   "metadata": {},
   "outputs": [
    {
     "name": "stdout",
     "output_type": "stream",
     "text": [
      "              precision    recall  f1-score   support\n",
      "\n",
      "         age       0.99      0.98      0.98      2416\n",
      "   ethnicity       0.91      0.78      0.84      2955\n",
      "      gender       0.95      0.72      0.82      3424\n",
      "       other       0.62      0.93      0.74      2332\n",
      "    religion       0.84      0.87      0.85      2402\n",
      "\n",
      "    accuracy                           0.84     13529\n",
      "   macro avg       0.86      0.86      0.85     13529\n",
      "weighted avg       0.87      0.84      0.85     13529\n",
      "\n"
     ]
    }
   ],
   "source": [
    "print(classification_report(y_test, y_pred))"
   ]
  },
  {
   "cell_type": "code",
   "execution_count": 80,
   "id": "1ac6b61e",
   "metadata": {},
   "outputs": [],
   "source": [
    "save_trained_model(classifier_model, 'model_classification')"
   ]
  },
  {
   "cell_type": "code",
   "execution_count": 81,
   "id": "5f3eb4d4",
   "metadata": {},
   "outputs": [],
   "source": [
    "trained_classifier_model = get_trained_model('model_classification')"
   ]
  },
  {
   "cell_type": "code",
   "execution_count": 82,
   "id": "738e2c92",
   "metadata": {},
   "outputs": [
    {
     "data": {
      "text/plain": [
       "<cyberbullying.models.MLClassifier at 0x7f4902ff3a60>"
      ]
     },
     "execution_count": 82,
     "metadata": {},
     "output_type": "execute_result"
    }
   ],
   "source": [
    "trained_classifier_model"
   ]
  },
  {
   "cell_type": "code",
   "execution_count": 83,
   "id": "b6ea894f",
   "metadata": {},
   "outputs": [
    {
     "data": {
      "text/plain": [
       "'@discerningmumin So if you are against slavery, you cannot be a Muslim. So why are you crying about slavery when the Quran approves it?'"
      ]
     },
     "execution_count": 83,
     "metadata": {},
     "output_type": "execute_result"
    }
   ],
   "source": [
    "texto"
   ]
  },
  {
   "cell_type": "code",
   "execution_count": 84,
   "id": "541e2730",
   "metadata": {},
   "outputs": [
    {
     "data": {
      "text/plain": [
       "'religion'"
      ]
     },
     "execution_count": 84,
     "metadata": {},
     "output_type": "execute_result"
    }
   ],
   "source": [
    "trained_classifier_model.predict(texto)[0]"
   ]
  },
  {
   "cell_type": "code",
   "execution_count": null,
   "id": "2510e199",
   "metadata": {},
   "outputs": [],
   "source": []
  }
 ],
 "metadata": {
  "kernelspec": {
   "display_name": "Python 3 (ipykernel)",
   "language": "python",
   "name": "python3"
  },
  "language_info": {
   "codemirror_mode": {
    "name": "ipython",
    "version": 3
   },
   "file_extension": ".py",
   "mimetype": "text/x-python",
   "name": "python",
   "nbconvert_exporter": "python",
   "pygments_lexer": "ipython3",
   "version": "3.8.12"
  },
  "toc": {
   "base_numbering": 1,
   "nav_menu": {},
   "number_sections": true,
   "sideBar": true,
   "skip_h1_title": false,
   "title_cell": "Table of Contents",
   "title_sidebar": "Contents",
   "toc_cell": false,
   "toc_position": {},
   "toc_section_display": true,
   "toc_window_display": false
  }
 },
 "nbformat": 4,
 "nbformat_minor": 5
}
