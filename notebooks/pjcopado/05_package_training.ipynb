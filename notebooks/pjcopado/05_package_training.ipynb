{
 "cells": [
  {
   "cell_type": "code",
   "execution_count": 1,
   "id": "0143b7fe",
   "metadata": {},
   "outputs": [],
   "source": [
    "%load_ext autoreload\n",
    "%autoreload 2"
   ]
  },
  {
   "cell_type": "code",
   "execution_count": 2,
   "id": "4a9095ee",
   "metadata": {},
   "outputs": [],
   "source": [
    "from cyberbullying.data import Data\n",
    "from cyberbullying.models import MLModel\n",
    "from cyberbullying.utils import conf_mx_all"
   ]
  },
  {
   "cell_type": "code",
   "execution_count": 3,
   "id": "05033264",
   "metadata": {},
   "outputs": [],
   "source": [
    "from sklearn.model_selection import train_test_split\n",
    "import numpy as np\n",
    "import pandas as pd"
   ]
  },
  {
   "cell_type": "code",
   "execution_count": 4,
   "id": "f0065034",
   "metadata": {},
   "outputs": [],
   "source": [
    "import joblib"
   ]
  },
  {
   "cell_type": "code",
   "execution_count": 5,
   "id": "9a1314e5",
   "metadata": {},
   "outputs": [],
   "source": [
    "from sklearn import set_config\n",
    "set_config(display='diagram')"
   ]
  },
  {
   "cell_type": "code",
   "execution_count": 6,
   "id": "859f1bc8",
   "metadata": {},
   "outputs": [
    {
     "name": "stdout",
     "output_type": "stream",
     "text": [
      "dict_keys(['toxicity', 'aggression', 'twitter', 'twitter_racism', 'twitter_sexism', 'youtube', 'kaggle'])\n",
      "['toxicity', 'aggression', 'twitter', 'twitter_racism', 'twitter_sexism', 'youtube', 'kaggle']\n"
     ]
    }
   ],
   "source": [
    "data = Data().get_data(datasets='all')"
   ]
  },
  {
   "cell_type": "code",
   "execution_count": 7,
   "id": "e51bda44",
   "metadata": {},
   "outputs": [
    {
     "data": {
      "text/html": [
       "<div>\n",
       "<style scoped>\n",
       "    .dataframe tbody tr th:only-of-type {\n",
       "        vertical-align: middle;\n",
       "    }\n",
       "\n",
       "    .dataframe tbody tr th {\n",
       "        vertical-align: top;\n",
       "    }\n",
       "\n",
       "    .dataframe thead th {\n",
       "        text-align: right;\n",
       "    }\n",
       "</style>\n",
       "<table border=\"1\" class=\"dataframe\">\n",
       "  <thead>\n",
       "    <tr style=\"text-align: right;\">\n",
       "      <th></th>\n",
       "      <th>text</th>\n",
       "      <th>target</th>\n",
       "    </tr>\n",
       "  </thead>\n",
       "  <tbody>\n",
       "    <tr>\n",
       "      <th>0</th>\n",
       "      <td>This: :One can make an analogy in mathematical...</td>\n",
       "      <td>0.0</td>\n",
       "    </tr>\n",
       "    <tr>\n",
       "      <th>1</th>\n",
       "      <td>`  :Clarification for you  (and Zundark's righ...</td>\n",
       "      <td>0.0</td>\n",
       "    </tr>\n",
       "    <tr>\n",
       "      <th>2</th>\n",
       "      <td>Elected or Electoral? JHK</td>\n",
       "      <td>0.0</td>\n",
       "    </tr>\n",
       "    <tr>\n",
       "      <th>3</th>\n",
       "      <td>`This is such a fun entry.   Devotchka  I once...</td>\n",
       "      <td>0.0</td>\n",
       "    </tr>\n",
       "    <tr>\n",
       "      <th>4</th>\n",
       "      <td>Please relate the ozone hole to increases in c...</td>\n",
       "      <td>0.0</td>\n",
       "    </tr>\n",
       "    <tr>\n",
       "      <th>...</th>\n",
       "      <td>...</td>\n",
       "      <td>...</td>\n",
       "    </tr>\n",
       "    <tr>\n",
       "      <th>230944</th>\n",
       "      <td>\"Never really gave it much thought. I just fig...</td>\n",
       "      <td>0.0</td>\n",
       "    </tr>\n",
       "    <tr>\n",
       "      <th>230945</th>\n",
       "      <td>\"Nadie se salva de la regla 34 xd\"</td>\n",
       "      <td>0.0</td>\n",
       "    </tr>\n",
       "    <tr>\n",
       "      <th>230946</th>\n",
       "      <td>\"Question: Are you a boy or a girl?\"</td>\n",
       "      <td>0.0</td>\n",
       "    </tr>\n",
       "    <tr>\n",
       "      <th>230947</th>\n",
       "      <td>\"Leave your email or phone number and maybe yo...</td>\n",
       "      <td>1.0</td>\n",
       "    </tr>\n",
       "    <tr>\n",
       "      <th>230948</th>\n",
       "      <td>\"From the scenarios you present, I see you bel...</td>\n",
       "      <td>0.0</td>\n",
       "    </tr>\n",
       "  </tbody>\n",
       "</table>\n",
       "<p>230949 rows × 2 columns</p>\n",
       "</div>"
      ],
      "text/plain": [
       "                                                     text  target\n",
       "0       This: :One can make an analogy in mathematical...     0.0\n",
       "1       `  :Clarification for you  (and Zundark's righ...     0.0\n",
       "2                               Elected or Electoral? JHK     0.0\n",
       "3       `This is such a fun entry.   Devotchka  I once...     0.0\n",
       "4       Please relate the ozone hole to increases in c...     0.0\n",
       "...                                                   ...     ...\n",
       "230944  \"Never really gave it much thought. I just fig...     0.0\n",
       "230945                 \"Nadie se salva de la regla 34 xd\"     0.0\n",
       "230946               \"Question: Are you a boy or a girl?\"     0.0\n",
       "230947  \"Leave your email or phone number and maybe yo...     1.0\n",
       "230948  \"From the scenarios you present, I see you bel...     0.0\n",
       "\n",
       "[230949 rows x 2 columns]"
      ]
     },
     "execution_count": 7,
     "metadata": {},
     "output_type": "execute_result"
    }
   ],
   "source": [
    "data"
   ]
  },
  {
   "cell_type": "code",
   "execution_count": 8,
   "id": "622b57bf",
   "metadata": {},
   "outputs": [],
   "source": [
    "percentage_used = 1\n",
    "data = data.sample(frac=percentage_used, random_state=0)"
   ]
  },
  {
   "cell_type": "code",
   "execution_count": 9,
   "id": "f4e7875e",
   "metadata": {},
   "outputs": [],
   "source": [
    "X_train, X_test, y_train, y_test = train_test_split(data[['text']], data['target'], test_size=0.3, random_state=0)"
   ]
  },
  {
   "cell_type": "code",
   "execution_count": 10,
   "id": "d0819327",
   "metadata": {},
   "outputs": [
    {
     "data": {
      "text/html": [
       "<div>\n",
       "<style scoped>\n",
       "    .dataframe tbody tr th:only-of-type {\n",
       "        vertical-align: middle;\n",
       "    }\n",
       "\n",
       "    .dataframe tbody tr th {\n",
       "        vertical-align: top;\n",
       "    }\n",
       "\n",
       "    .dataframe thead th {\n",
       "        text-align: right;\n",
       "    }\n",
       "</style>\n",
       "<table border=\"1\" class=\"dataframe\">\n",
       "  <thead>\n",
       "    <tr style=\"text-align: right;\">\n",
       "      <th></th>\n",
       "      <th>text</th>\n",
       "    </tr>\n",
       "  </thead>\n",
       "  <tbody>\n",
       "    <tr>\n",
       "      <th>41325</th>\n",
       "      <td>:Could I please be unblocked?</td>\n",
       "    </tr>\n",
       "    <tr>\n",
       "      <th>63081</th>\n",
       "      <td>**** Carlo  you should not have given in to...</td>\n",
       "    </tr>\n",
       "    <tr>\n",
       "      <th>20725</th>\n",
       "      <td>` I have reverted a recent edit you made to th...</td>\n",
       "    </tr>\n",
       "    <tr>\n",
       "      <th>167785</th>\n",
       "      <td>*: I would be entirely in favor of someone m...</td>\n",
       "    </tr>\n",
       "    <tr>\n",
       "      <th>101388</th>\n",
       "      <td>`  == Reviewer granted ==   Hello. Your accoun...</td>\n",
       "    </tr>\n",
       "  </tbody>\n",
       "</table>\n",
       "</div>"
      ],
      "text/plain": [
       "                                                     text\n",
       "41325                       :Could I please be unblocked?\n",
       "63081      **** Carlo  you should not have given in to...\n",
       "20725   ` I have reverted a recent edit you made to th...\n",
       "167785    *: I would be entirely in favor of someone m...\n",
       "101388  `  == Reviewer granted ==   Hello. Your accoun..."
      ]
     },
     "execution_count": 10,
     "metadata": {},
     "output_type": "execute_result"
    }
   ],
   "source": [
    "X_train.head()"
   ]
  },
  {
   "cell_type": "code",
   "execution_count": 11,
   "id": "9e820629",
   "metadata": {},
   "outputs": [],
   "source": [
    "package_model = MLModel()"
   ]
  },
  {
   "cell_type": "code",
   "execution_count": 12,
   "id": "d4011cfb",
   "metadata": {},
   "outputs": [
    {
     "data": {
      "text/html": [
       "<style>#sk-debdcba9-38ab-4709-9ea4-56763b29e77f {color: black;background-color: white;}#sk-debdcba9-38ab-4709-9ea4-56763b29e77f pre{padding: 0;}#sk-debdcba9-38ab-4709-9ea4-56763b29e77f div.sk-toggleable {background-color: white;}#sk-debdcba9-38ab-4709-9ea4-56763b29e77f label.sk-toggleable__label {cursor: pointer;display: block;width: 100%;margin-bottom: 0;padding: 0.3em;box-sizing: border-box;text-align: center;}#sk-debdcba9-38ab-4709-9ea4-56763b29e77f label.sk-toggleable__label-arrow:before {content: \"▸\";float: left;margin-right: 0.25em;color: #696969;}#sk-debdcba9-38ab-4709-9ea4-56763b29e77f label.sk-toggleable__label-arrow:hover:before {color: black;}#sk-debdcba9-38ab-4709-9ea4-56763b29e77f div.sk-estimator:hover label.sk-toggleable__label-arrow:before {color: black;}#sk-debdcba9-38ab-4709-9ea4-56763b29e77f div.sk-toggleable__content {max-height: 0;max-width: 0;overflow: hidden;text-align: left;background-color: #f0f8ff;}#sk-debdcba9-38ab-4709-9ea4-56763b29e77f div.sk-toggleable__content pre {margin: 0.2em;color: black;border-radius: 0.25em;background-color: #f0f8ff;}#sk-debdcba9-38ab-4709-9ea4-56763b29e77f input.sk-toggleable__control:checked~div.sk-toggleable__content {max-height: 200px;max-width: 100%;overflow: auto;}#sk-debdcba9-38ab-4709-9ea4-56763b29e77f input.sk-toggleable__control:checked~label.sk-toggleable__label-arrow:before {content: \"▾\";}#sk-debdcba9-38ab-4709-9ea4-56763b29e77f div.sk-estimator input.sk-toggleable__control:checked~label.sk-toggleable__label {background-color: #d4ebff;}#sk-debdcba9-38ab-4709-9ea4-56763b29e77f div.sk-label input.sk-toggleable__control:checked~label.sk-toggleable__label {background-color: #d4ebff;}#sk-debdcba9-38ab-4709-9ea4-56763b29e77f input.sk-hidden--visually {border: 0;clip: rect(1px 1px 1px 1px);clip: rect(1px, 1px, 1px, 1px);height: 1px;margin: -1px;overflow: hidden;padding: 0;position: absolute;width: 1px;}#sk-debdcba9-38ab-4709-9ea4-56763b29e77f div.sk-estimator {font-family: monospace;background-color: #f0f8ff;border: 1px dotted black;border-radius: 0.25em;box-sizing: border-box;margin-bottom: 0.5em;}#sk-debdcba9-38ab-4709-9ea4-56763b29e77f div.sk-estimator:hover {background-color: #d4ebff;}#sk-debdcba9-38ab-4709-9ea4-56763b29e77f div.sk-parallel-item::after {content: \"\";width: 100%;border-bottom: 1px solid gray;flex-grow: 1;}#sk-debdcba9-38ab-4709-9ea4-56763b29e77f div.sk-label:hover label.sk-toggleable__label {background-color: #d4ebff;}#sk-debdcba9-38ab-4709-9ea4-56763b29e77f div.sk-serial::before {content: \"\";position: absolute;border-left: 1px solid gray;box-sizing: border-box;top: 2em;bottom: 0;left: 50%;}#sk-debdcba9-38ab-4709-9ea4-56763b29e77f div.sk-serial {display: flex;flex-direction: column;align-items: center;background-color: white;padding-right: 0.2em;padding-left: 0.2em;}#sk-debdcba9-38ab-4709-9ea4-56763b29e77f div.sk-item {z-index: 1;}#sk-debdcba9-38ab-4709-9ea4-56763b29e77f div.sk-parallel {display: flex;align-items: stretch;justify-content: center;background-color: white;}#sk-debdcba9-38ab-4709-9ea4-56763b29e77f div.sk-parallel::before {content: \"\";position: absolute;border-left: 1px solid gray;box-sizing: border-box;top: 2em;bottom: 0;left: 50%;}#sk-debdcba9-38ab-4709-9ea4-56763b29e77f div.sk-parallel-item {display: flex;flex-direction: column;position: relative;background-color: white;}#sk-debdcba9-38ab-4709-9ea4-56763b29e77f div.sk-parallel-item:first-child::after {align-self: flex-end;width: 50%;}#sk-debdcba9-38ab-4709-9ea4-56763b29e77f div.sk-parallel-item:last-child::after {align-self: flex-start;width: 50%;}#sk-debdcba9-38ab-4709-9ea4-56763b29e77f div.sk-parallel-item:only-child::after {width: 0;}#sk-debdcba9-38ab-4709-9ea4-56763b29e77f div.sk-dashed-wrapped {border: 1px dashed gray;margin: 0 0.4em 0.5em 0.4em;box-sizing: border-box;padding-bottom: 0.4em;background-color: white;position: relative;}#sk-debdcba9-38ab-4709-9ea4-56763b29e77f div.sk-label label {font-family: monospace;font-weight: bold;background-color: white;display: inline-block;line-height: 1.2em;}#sk-debdcba9-38ab-4709-9ea4-56763b29e77f div.sk-label-container {position: relative;z-index: 2;text-align: center;}#sk-debdcba9-38ab-4709-9ea4-56763b29e77f div.sk-container {/* jupyter's `normalize.less` sets `[hidden] { display: none; }` but bootstrap.min.css set `[hidden] { display: none !important; }` so we also need the `!important` here to be able to override the default hidden behavior on the sphinx rendered scikit-learn.org. See: https://github.com/scikit-learn/scikit-learn/issues/21755 */display: inline-block !important;position: relative;}#sk-debdcba9-38ab-4709-9ea4-56763b29e77f div.sk-text-repr-fallback {display: none;}</style><div id=\"sk-debdcba9-38ab-4709-9ea4-56763b29e77f\" class=\"sk-top-container\"><div class=\"sk-text-repr-fallback\"><pre>TfidfVectorizer(min_df=3)</pre><b>Please rerun this cell to show the HTML repr or trust the notebook.</b></div><div class=\"sk-container\" hidden><div class=\"sk-item\"><div class=\"sk-estimator sk-toggleable\"><input class=\"sk-toggleable__control sk-hidden--visually\" id=\"9dbb7a73-440b-44fc-a2e0-bbdc4df3ad26\" type=\"checkbox\" checked><label for=\"9dbb7a73-440b-44fc-a2e0-bbdc4df3ad26\" class=\"sk-toggleable__label sk-toggleable__label-arrow\">TfidfVectorizer</label><div class=\"sk-toggleable__content\"><pre>TfidfVectorizer(min_df=3)</pre></div></div></div></div></div>"
      ],
      "text/plain": [
       "TfidfVectorizer(min_df=3)"
      ]
     },
     "execution_count": 12,
     "metadata": {},
     "output_type": "execute_result"
    }
   ],
   "source": [
    "package_model.vectorizer"
   ]
  },
  {
   "cell_type": "code",
   "execution_count": 13,
   "id": "18f2ed60",
   "metadata": {},
   "outputs": [
    {
     "data": {
      "text/html": [
       "<style>#sk-59c76ba2-9710-4f7d-94a6-2ee9e97fff6a {color: black;background-color: white;}#sk-59c76ba2-9710-4f7d-94a6-2ee9e97fff6a pre{padding: 0;}#sk-59c76ba2-9710-4f7d-94a6-2ee9e97fff6a div.sk-toggleable {background-color: white;}#sk-59c76ba2-9710-4f7d-94a6-2ee9e97fff6a label.sk-toggleable__label {cursor: pointer;display: block;width: 100%;margin-bottom: 0;padding: 0.3em;box-sizing: border-box;text-align: center;}#sk-59c76ba2-9710-4f7d-94a6-2ee9e97fff6a label.sk-toggleable__label-arrow:before {content: \"▸\";float: left;margin-right: 0.25em;color: #696969;}#sk-59c76ba2-9710-4f7d-94a6-2ee9e97fff6a label.sk-toggleable__label-arrow:hover:before {color: black;}#sk-59c76ba2-9710-4f7d-94a6-2ee9e97fff6a div.sk-estimator:hover label.sk-toggleable__label-arrow:before {color: black;}#sk-59c76ba2-9710-4f7d-94a6-2ee9e97fff6a div.sk-toggleable__content {max-height: 0;max-width: 0;overflow: hidden;text-align: left;background-color: #f0f8ff;}#sk-59c76ba2-9710-4f7d-94a6-2ee9e97fff6a div.sk-toggleable__content pre {margin: 0.2em;color: black;border-radius: 0.25em;background-color: #f0f8ff;}#sk-59c76ba2-9710-4f7d-94a6-2ee9e97fff6a input.sk-toggleable__control:checked~div.sk-toggleable__content {max-height: 200px;max-width: 100%;overflow: auto;}#sk-59c76ba2-9710-4f7d-94a6-2ee9e97fff6a input.sk-toggleable__control:checked~label.sk-toggleable__label-arrow:before {content: \"▾\";}#sk-59c76ba2-9710-4f7d-94a6-2ee9e97fff6a div.sk-estimator input.sk-toggleable__control:checked~label.sk-toggleable__label {background-color: #d4ebff;}#sk-59c76ba2-9710-4f7d-94a6-2ee9e97fff6a div.sk-label input.sk-toggleable__control:checked~label.sk-toggleable__label {background-color: #d4ebff;}#sk-59c76ba2-9710-4f7d-94a6-2ee9e97fff6a input.sk-hidden--visually {border: 0;clip: rect(1px 1px 1px 1px);clip: rect(1px, 1px, 1px, 1px);height: 1px;margin: -1px;overflow: hidden;padding: 0;position: absolute;width: 1px;}#sk-59c76ba2-9710-4f7d-94a6-2ee9e97fff6a div.sk-estimator {font-family: monospace;background-color: #f0f8ff;border: 1px dotted black;border-radius: 0.25em;box-sizing: border-box;margin-bottom: 0.5em;}#sk-59c76ba2-9710-4f7d-94a6-2ee9e97fff6a div.sk-estimator:hover {background-color: #d4ebff;}#sk-59c76ba2-9710-4f7d-94a6-2ee9e97fff6a div.sk-parallel-item::after {content: \"\";width: 100%;border-bottom: 1px solid gray;flex-grow: 1;}#sk-59c76ba2-9710-4f7d-94a6-2ee9e97fff6a div.sk-label:hover label.sk-toggleable__label {background-color: #d4ebff;}#sk-59c76ba2-9710-4f7d-94a6-2ee9e97fff6a div.sk-serial::before {content: \"\";position: absolute;border-left: 1px solid gray;box-sizing: border-box;top: 2em;bottom: 0;left: 50%;}#sk-59c76ba2-9710-4f7d-94a6-2ee9e97fff6a div.sk-serial {display: flex;flex-direction: column;align-items: center;background-color: white;padding-right: 0.2em;padding-left: 0.2em;}#sk-59c76ba2-9710-4f7d-94a6-2ee9e97fff6a div.sk-item {z-index: 1;}#sk-59c76ba2-9710-4f7d-94a6-2ee9e97fff6a div.sk-parallel {display: flex;align-items: stretch;justify-content: center;background-color: white;}#sk-59c76ba2-9710-4f7d-94a6-2ee9e97fff6a div.sk-parallel::before {content: \"\";position: absolute;border-left: 1px solid gray;box-sizing: border-box;top: 2em;bottom: 0;left: 50%;}#sk-59c76ba2-9710-4f7d-94a6-2ee9e97fff6a div.sk-parallel-item {display: flex;flex-direction: column;position: relative;background-color: white;}#sk-59c76ba2-9710-4f7d-94a6-2ee9e97fff6a div.sk-parallel-item:first-child::after {align-self: flex-end;width: 50%;}#sk-59c76ba2-9710-4f7d-94a6-2ee9e97fff6a div.sk-parallel-item:last-child::after {align-self: flex-start;width: 50%;}#sk-59c76ba2-9710-4f7d-94a6-2ee9e97fff6a div.sk-parallel-item:only-child::after {width: 0;}#sk-59c76ba2-9710-4f7d-94a6-2ee9e97fff6a div.sk-dashed-wrapped {border: 1px dashed gray;margin: 0 0.4em 0.5em 0.4em;box-sizing: border-box;padding-bottom: 0.4em;background-color: white;position: relative;}#sk-59c76ba2-9710-4f7d-94a6-2ee9e97fff6a div.sk-label label {font-family: monospace;font-weight: bold;background-color: white;display: inline-block;line-height: 1.2em;}#sk-59c76ba2-9710-4f7d-94a6-2ee9e97fff6a div.sk-label-container {position: relative;z-index: 2;text-align: center;}#sk-59c76ba2-9710-4f7d-94a6-2ee9e97fff6a div.sk-container {/* jupyter's `normalize.less` sets `[hidden] { display: none; }` but bootstrap.min.css set `[hidden] { display: none !important; }` so we also need the `!important` here to be able to override the default hidden behavior on the sphinx rendered scikit-learn.org. See: https://github.com/scikit-learn/scikit-learn/issues/21755 */display: inline-block !important;position: relative;}#sk-59c76ba2-9710-4f7d-94a6-2ee9e97fff6a div.sk-text-repr-fallback {display: none;}</style><div id=\"sk-59c76ba2-9710-4f7d-94a6-2ee9e97fff6a\" class=\"sk-top-container\"><div class=\"sk-text-repr-fallback\"><pre>LinearSVC(C=1, class_weight={0: 0.2, 1: 0.8}, dual=False, penalty=&#x27;l1&#x27;)</pre><b>Please rerun this cell to show the HTML repr or trust the notebook.</b></div><div class=\"sk-container\" hidden><div class=\"sk-item\"><div class=\"sk-estimator sk-toggleable\"><input class=\"sk-toggleable__control sk-hidden--visually\" id=\"68203123-cd71-40f2-b303-acc05b18ff48\" type=\"checkbox\" checked><label for=\"68203123-cd71-40f2-b303-acc05b18ff48\" class=\"sk-toggleable__label sk-toggleable__label-arrow\">LinearSVC</label><div class=\"sk-toggleable__content\"><pre>LinearSVC(C=1, class_weight={0: 0.2, 1: 0.8}, dual=False, penalty=&#x27;l1&#x27;)</pre></div></div></div></div></div>"
      ],
      "text/plain": [
       "LinearSVC(C=1, class_weight={0: 0.2, 1: 0.8}, dual=False, penalty='l1')"
      ]
     },
     "execution_count": 13,
     "metadata": {},
     "output_type": "execute_result"
    }
   ],
   "source": [
    "package_model.model"
   ]
  },
  {
   "cell_type": "code",
   "execution_count": 14,
   "id": "4311c90d",
   "metadata": {},
   "outputs": [],
   "source": [
    "package_model.set_pipeline()"
   ]
  },
  {
   "cell_type": "code",
   "execution_count": 15,
   "id": "82d33ad2",
   "metadata": {},
   "outputs": [
    {
     "data": {
      "text/html": [
       "<style>#sk-f06e925c-bcb1-47cc-aa33-fc45c5cea16a {color: black;background-color: white;}#sk-f06e925c-bcb1-47cc-aa33-fc45c5cea16a pre{padding: 0;}#sk-f06e925c-bcb1-47cc-aa33-fc45c5cea16a div.sk-toggleable {background-color: white;}#sk-f06e925c-bcb1-47cc-aa33-fc45c5cea16a label.sk-toggleable__label {cursor: pointer;display: block;width: 100%;margin-bottom: 0;padding: 0.3em;box-sizing: border-box;text-align: center;}#sk-f06e925c-bcb1-47cc-aa33-fc45c5cea16a label.sk-toggleable__label-arrow:before {content: \"▸\";float: left;margin-right: 0.25em;color: #696969;}#sk-f06e925c-bcb1-47cc-aa33-fc45c5cea16a label.sk-toggleable__label-arrow:hover:before {color: black;}#sk-f06e925c-bcb1-47cc-aa33-fc45c5cea16a div.sk-estimator:hover label.sk-toggleable__label-arrow:before {color: black;}#sk-f06e925c-bcb1-47cc-aa33-fc45c5cea16a div.sk-toggleable__content {max-height: 0;max-width: 0;overflow: hidden;text-align: left;background-color: #f0f8ff;}#sk-f06e925c-bcb1-47cc-aa33-fc45c5cea16a div.sk-toggleable__content pre {margin: 0.2em;color: black;border-radius: 0.25em;background-color: #f0f8ff;}#sk-f06e925c-bcb1-47cc-aa33-fc45c5cea16a input.sk-toggleable__control:checked~div.sk-toggleable__content {max-height: 200px;max-width: 100%;overflow: auto;}#sk-f06e925c-bcb1-47cc-aa33-fc45c5cea16a input.sk-toggleable__control:checked~label.sk-toggleable__label-arrow:before {content: \"▾\";}#sk-f06e925c-bcb1-47cc-aa33-fc45c5cea16a div.sk-estimator input.sk-toggleable__control:checked~label.sk-toggleable__label {background-color: #d4ebff;}#sk-f06e925c-bcb1-47cc-aa33-fc45c5cea16a div.sk-label input.sk-toggleable__control:checked~label.sk-toggleable__label {background-color: #d4ebff;}#sk-f06e925c-bcb1-47cc-aa33-fc45c5cea16a input.sk-hidden--visually {border: 0;clip: rect(1px 1px 1px 1px);clip: rect(1px, 1px, 1px, 1px);height: 1px;margin: -1px;overflow: hidden;padding: 0;position: absolute;width: 1px;}#sk-f06e925c-bcb1-47cc-aa33-fc45c5cea16a div.sk-estimator {font-family: monospace;background-color: #f0f8ff;border: 1px dotted black;border-radius: 0.25em;box-sizing: border-box;margin-bottom: 0.5em;}#sk-f06e925c-bcb1-47cc-aa33-fc45c5cea16a div.sk-estimator:hover {background-color: #d4ebff;}#sk-f06e925c-bcb1-47cc-aa33-fc45c5cea16a div.sk-parallel-item::after {content: \"\";width: 100%;border-bottom: 1px solid gray;flex-grow: 1;}#sk-f06e925c-bcb1-47cc-aa33-fc45c5cea16a div.sk-label:hover label.sk-toggleable__label {background-color: #d4ebff;}#sk-f06e925c-bcb1-47cc-aa33-fc45c5cea16a div.sk-serial::before {content: \"\";position: absolute;border-left: 1px solid gray;box-sizing: border-box;top: 2em;bottom: 0;left: 50%;}#sk-f06e925c-bcb1-47cc-aa33-fc45c5cea16a div.sk-serial {display: flex;flex-direction: column;align-items: center;background-color: white;padding-right: 0.2em;padding-left: 0.2em;}#sk-f06e925c-bcb1-47cc-aa33-fc45c5cea16a div.sk-item {z-index: 1;}#sk-f06e925c-bcb1-47cc-aa33-fc45c5cea16a div.sk-parallel {display: flex;align-items: stretch;justify-content: center;background-color: white;}#sk-f06e925c-bcb1-47cc-aa33-fc45c5cea16a div.sk-parallel::before {content: \"\";position: absolute;border-left: 1px solid gray;box-sizing: border-box;top: 2em;bottom: 0;left: 50%;}#sk-f06e925c-bcb1-47cc-aa33-fc45c5cea16a div.sk-parallel-item {display: flex;flex-direction: column;position: relative;background-color: white;}#sk-f06e925c-bcb1-47cc-aa33-fc45c5cea16a div.sk-parallel-item:first-child::after {align-self: flex-end;width: 50%;}#sk-f06e925c-bcb1-47cc-aa33-fc45c5cea16a div.sk-parallel-item:last-child::after {align-self: flex-start;width: 50%;}#sk-f06e925c-bcb1-47cc-aa33-fc45c5cea16a div.sk-parallel-item:only-child::after {width: 0;}#sk-f06e925c-bcb1-47cc-aa33-fc45c5cea16a div.sk-dashed-wrapped {border: 1px dashed gray;margin: 0 0.4em 0.5em 0.4em;box-sizing: border-box;padding-bottom: 0.4em;background-color: white;position: relative;}#sk-f06e925c-bcb1-47cc-aa33-fc45c5cea16a div.sk-label label {font-family: monospace;font-weight: bold;background-color: white;display: inline-block;line-height: 1.2em;}#sk-f06e925c-bcb1-47cc-aa33-fc45c5cea16a div.sk-label-container {position: relative;z-index: 2;text-align: center;}#sk-f06e925c-bcb1-47cc-aa33-fc45c5cea16a div.sk-container {/* jupyter's `normalize.less` sets `[hidden] { display: none; }` but bootstrap.min.css set `[hidden] { display: none !important; }` so we also need the `!important` here to be able to override the default hidden behavior on the sphinx rendered scikit-learn.org. See: https://github.com/scikit-learn/scikit-learn/issues/21755 */display: inline-block !important;position: relative;}#sk-f06e925c-bcb1-47cc-aa33-fc45c5cea16a div.sk-text-repr-fallback {display: none;}</style><div id=\"sk-f06e925c-bcb1-47cc-aa33-fc45c5cea16a\" class=\"sk-top-container\"><div class=\"sk-text-repr-fallback\"><pre>Pipeline(steps=[(&#x27;columntransformer&#x27;,\n",
       "                 ColumnTransformer(transformers=[(&#x27;pipeline&#x27;,\n",
       "                                                  Pipeline(steps=[(&#x27;cleandftransformer&#x27;,\n",
       "                                                                   CleanDFTransformer()),\n",
       "                                                                  (&#x27;tfidfvectorizer&#x27;,\n",
       "                                                                   TfidfVectorizer(min_df=3))]),\n",
       "                                                  [&#x27;text&#x27;])])),\n",
       "                (&#x27;linearsvc&#x27;,\n",
       "                 LinearSVC(C=1, class_weight={0: 0.2, 1: 0.8}, dual=False,\n",
       "                           penalty=&#x27;l1&#x27;))])</pre><b>Please rerun this cell to show the HTML repr or trust the notebook.</b></div><div class=\"sk-container\" hidden><div class=\"sk-item sk-dashed-wrapped\"><div class=\"sk-label-container\"><div class=\"sk-label sk-toggleable\"><input class=\"sk-toggleable__control sk-hidden--visually\" id=\"d8fa535c-1ee7-4c4f-bafb-850c86908730\" type=\"checkbox\" ><label for=\"d8fa535c-1ee7-4c4f-bafb-850c86908730\" class=\"sk-toggleable__label sk-toggleable__label-arrow\">Pipeline</label><div class=\"sk-toggleable__content\"><pre>Pipeline(steps=[(&#x27;columntransformer&#x27;,\n",
       "                 ColumnTransformer(transformers=[(&#x27;pipeline&#x27;,\n",
       "                                                  Pipeline(steps=[(&#x27;cleandftransformer&#x27;,\n",
       "                                                                   CleanDFTransformer()),\n",
       "                                                                  (&#x27;tfidfvectorizer&#x27;,\n",
       "                                                                   TfidfVectorizer(min_df=3))]),\n",
       "                                                  [&#x27;text&#x27;])])),\n",
       "                (&#x27;linearsvc&#x27;,\n",
       "                 LinearSVC(C=1, class_weight={0: 0.2, 1: 0.8}, dual=False,\n",
       "                           penalty=&#x27;l1&#x27;))])</pre></div></div></div><div class=\"sk-serial\"><div class=\"sk-item sk-dashed-wrapped\"><div class=\"sk-label-container\"><div class=\"sk-label sk-toggleable\"><input class=\"sk-toggleable__control sk-hidden--visually\" id=\"1b0ee143-ce1b-4a40-a3db-5e75b49ed943\" type=\"checkbox\" ><label for=\"1b0ee143-ce1b-4a40-a3db-5e75b49ed943\" class=\"sk-toggleable__label sk-toggleable__label-arrow\">columntransformer: ColumnTransformer</label><div class=\"sk-toggleable__content\"><pre>ColumnTransformer(transformers=[(&#x27;pipeline&#x27;,\n",
       "                                 Pipeline(steps=[(&#x27;cleandftransformer&#x27;,\n",
       "                                                  CleanDFTransformer()),\n",
       "                                                 (&#x27;tfidfvectorizer&#x27;,\n",
       "                                                  TfidfVectorizer(min_df=3))]),\n",
       "                                 [&#x27;text&#x27;])])</pre></div></div></div><div class=\"sk-parallel\"><div class=\"sk-parallel-item\"><div class=\"sk-item\"><div class=\"sk-label-container\"><div class=\"sk-label sk-toggleable\"><input class=\"sk-toggleable__control sk-hidden--visually\" id=\"4522453f-22d0-490e-8936-b615282f0950\" type=\"checkbox\" ><label for=\"4522453f-22d0-490e-8936-b615282f0950\" class=\"sk-toggleable__label sk-toggleable__label-arrow\">pipeline</label><div class=\"sk-toggleable__content\"><pre>[&#x27;text&#x27;]</pre></div></div></div><div class=\"sk-serial\"><div class=\"sk-item\"><div class=\"sk-serial\"><div class=\"sk-item\"><div class=\"sk-estimator sk-toggleable\"><input class=\"sk-toggleable__control sk-hidden--visually\" id=\"2217b62c-fd7e-4170-8e93-f013f47d2598\" type=\"checkbox\" ><label for=\"2217b62c-fd7e-4170-8e93-f013f47d2598\" class=\"sk-toggleable__label sk-toggleable__label-arrow\">CleanDFTransformer</label><div class=\"sk-toggleable__content\"><pre>CleanDFTransformer()</pre></div></div></div><div class=\"sk-item\"><div class=\"sk-estimator sk-toggleable\"><input class=\"sk-toggleable__control sk-hidden--visually\" id=\"2c47d2e1-b28f-4150-880b-505c2a378e4f\" type=\"checkbox\" ><label for=\"2c47d2e1-b28f-4150-880b-505c2a378e4f\" class=\"sk-toggleable__label sk-toggleable__label-arrow\">TfidfVectorizer</label><div class=\"sk-toggleable__content\"><pre>TfidfVectorizer(min_df=3)</pre></div></div></div></div></div></div></div></div></div></div><div class=\"sk-item\"><div class=\"sk-estimator sk-toggleable\"><input class=\"sk-toggleable__control sk-hidden--visually\" id=\"8f663da5-7d72-4011-8fe4-2cb4824d6fe2\" type=\"checkbox\" ><label for=\"8f663da5-7d72-4011-8fe4-2cb4824d6fe2\" class=\"sk-toggleable__label sk-toggleable__label-arrow\">LinearSVC</label><div class=\"sk-toggleable__content\"><pre>LinearSVC(C=1, class_weight={0: 0.2, 1: 0.8}, dual=False, penalty=&#x27;l1&#x27;)</pre></div></div></div></div></div></div></div>"
      ],
      "text/plain": [
       "Pipeline(steps=[('columntransformer',\n",
       "                 ColumnTransformer(transformers=[('pipeline',\n",
       "                                                  Pipeline(steps=[('cleandftransformer',\n",
       "                                                                   CleanDFTransformer()),\n",
       "                                                                  ('tfidfvectorizer',\n",
       "                                                                   TfidfVectorizer(min_df=3))]),\n",
       "                                                  ['text'])])),\n",
       "                ('linearsvc',\n",
       "                 LinearSVC(C=1, class_weight={0: 0.2, 1: 0.8}, dual=False,\n",
       "                           penalty='l1'))])"
      ]
     },
     "execution_count": 15,
     "metadata": {},
     "output_type": "execute_result"
    }
   ],
   "source": [
    "package_model.pipeline"
   ]
  },
  {
   "cell_type": "code",
   "execution_count": 16,
   "id": "207a5845",
   "metadata": {},
   "outputs": [],
   "source": [
    "from cyberbullying.transformers import CleanDFTransformer"
   ]
  },
  {
   "cell_type": "code",
   "execution_count": 17,
   "id": "c0df56e4",
   "metadata": {},
   "outputs": [
    {
     "data": {
      "text/plain": [
       "(161664, 1)"
      ]
     },
     "execution_count": 17,
     "metadata": {},
     "output_type": "execute_result"
    }
   ],
   "source": [
    "X_train.shape"
   ]
  },
  {
   "cell_type": "code",
   "execution_count": 18,
   "id": "064644af",
   "metadata": {},
   "outputs": [],
   "source": [
    "#transformer = CleanDFTransformer()"
   ]
  },
  {
   "cell_type": "code",
   "execution_count": 19,
   "id": "7b92922d",
   "metadata": {},
   "outputs": [],
   "source": [
    "#X_train_2 = transformer.fit_transform(X_train)\n",
    "#X_train_2"
   ]
  },
  {
   "cell_type": "code",
   "execution_count": 20,
   "id": "27c09be2",
   "metadata": {},
   "outputs": [],
   "source": [
    "#X_train_2.shape"
   ]
  },
  {
   "cell_type": "code",
   "execution_count": 21,
   "id": "474acc06",
   "metadata": {},
   "outputs": [],
   "source": [
    "#X_train_2.isin([np.inf, -np.inf]).sum()"
   ]
  },
  {
   "cell_type": "code",
   "execution_count": 22,
   "id": "cc799068",
   "metadata": {},
   "outputs": [],
   "source": [
    "#X_train_2['text'].map(lambda text: type(text)).value_counts()"
   ]
  },
  {
   "cell_type": "code",
   "execution_count": 23,
   "id": "c5c8e33f",
   "metadata": {},
   "outputs": [],
   "source": [
    "#X_train_2.isnull().sum()"
   ]
  },
  {
   "cell_type": "code",
   "execution_count": 24,
   "id": "128e5744",
   "metadata": {},
   "outputs": [
    {
     "data": {
      "text/plain": [
       "41325     0.0\n",
       "63081     0.0\n",
       "20725     0.0\n",
       "167785    0.0\n",
       "101388    0.0\n",
       "         ... \n",
       "136405    0.0\n",
       "91714     0.0\n",
       "180664    0.0\n",
       "71438     1.0\n",
       "124281    0.0\n",
       "Name: target, Length: 161664, dtype: float64"
      ]
     },
     "execution_count": 24,
     "metadata": {},
     "output_type": "execute_result"
    }
   ],
   "source": [
    "y_train"
   ]
  },
  {
   "cell_type": "code",
   "execution_count": 25,
   "id": "1a4009c7",
   "metadata": {},
   "outputs": [
    {
     "data": {
      "text/plain": [
       "0"
      ]
     },
     "execution_count": 25,
     "metadata": {},
     "output_type": "execute_result"
    }
   ],
   "source": [
    "y_train.isnull().sum()"
   ]
  },
  {
   "cell_type": "code",
   "execution_count": 26,
   "id": "791d5445",
   "metadata": {},
   "outputs": [],
   "source": [
    "#X_train_2['text'].sort_values()"
   ]
  },
  {
   "cell_type": "code",
   "execution_count": 27,
   "id": "79df9af8",
   "metadata": {},
   "outputs": [],
   "source": [
    "#X_train_2['text'].map(lambda text: len(text)).sort_values()"
   ]
  },
  {
   "cell_type": "code",
   "execution_count": 28,
   "id": "99ccac89",
   "metadata": {},
   "outputs": [],
   "source": [
    "#X_train_2.max()"
   ]
  },
  {
   "cell_type": "code",
   "execution_count": 29,
   "id": "1aeb6ed7",
   "metadata": {},
   "outputs": [],
   "source": [
    "#X_train_2.min()"
   ]
  },
  {
   "cell_type": "code",
   "execution_count": 30,
   "id": "018028d3",
   "metadata": {},
   "outputs": [
    {
     "data": {
      "text/plain": [
       "0.0"
      ]
     },
     "execution_count": 30,
     "metadata": {},
     "output_type": "execute_result"
    }
   ],
   "source": [
    "y_train.min()"
   ]
  },
  {
   "cell_type": "code",
   "execution_count": 31,
   "id": "d24bafe1",
   "metadata": {},
   "outputs": [
    {
     "data": {
      "text/html": [
       "<style>#sk-ad1ce1c1-b75f-4a3d-9996-014b1d99e3f5 {color: black;background-color: white;}#sk-ad1ce1c1-b75f-4a3d-9996-014b1d99e3f5 pre{padding: 0;}#sk-ad1ce1c1-b75f-4a3d-9996-014b1d99e3f5 div.sk-toggleable {background-color: white;}#sk-ad1ce1c1-b75f-4a3d-9996-014b1d99e3f5 label.sk-toggleable__label {cursor: pointer;display: block;width: 100%;margin-bottom: 0;padding: 0.3em;box-sizing: border-box;text-align: center;}#sk-ad1ce1c1-b75f-4a3d-9996-014b1d99e3f5 label.sk-toggleable__label-arrow:before {content: \"▸\";float: left;margin-right: 0.25em;color: #696969;}#sk-ad1ce1c1-b75f-4a3d-9996-014b1d99e3f5 label.sk-toggleable__label-arrow:hover:before {color: black;}#sk-ad1ce1c1-b75f-4a3d-9996-014b1d99e3f5 div.sk-estimator:hover label.sk-toggleable__label-arrow:before {color: black;}#sk-ad1ce1c1-b75f-4a3d-9996-014b1d99e3f5 div.sk-toggleable__content {max-height: 0;max-width: 0;overflow: hidden;text-align: left;background-color: #f0f8ff;}#sk-ad1ce1c1-b75f-4a3d-9996-014b1d99e3f5 div.sk-toggleable__content pre {margin: 0.2em;color: black;border-radius: 0.25em;background-color: #f0f8ff;}#sk-ad1ce1c1-b75f-4a3d-9996-014b1d99e3f5 input.sk-toggleable__control:checked~div.sk-toggleable__content {max-height: 200px;max-width: 100%;overflow: auto;}#sk-ad1ce1c1-b75f-4a3d-9996-014b1d99e3f5 input.sk-toggleable__control:checked~label.sk-toggleable__label-arrow:before {content: \"▾\";}#sk-ad1ce1c1-b75f-4a3d-9996-014b1d99e3f5 div.sk-estimator input.sk-toggleable__control:checked~label.sk-toggleable__label {background-color: #d4ebff;}#sk-ad1ce1c1-b75f-4a3d-9996-014b1d99e3f5 div.sk-label input.sk-toggleable__control:checked~label.sk-toggleable__label {background-color: #d4ebff;}#sk-ad1ce1c1-b75f-4a3d-9996-014b1d99e3f5 input.sk-hidden--visually {border: 0;clip: rect(1px 1px 1px 1px);clip: rect(1px, 1px, 1px, 1px);height: 1px;margin: -1px;overflow: hidden;padding: 0;position: absolute;width: 1px;}#sk-ad1ce1c1-b75f-4a3d-9996-014b1d99e3f5 div.sk-estimator {font-family: monospace;background-color: #f0f8ff;border: 1px dotted black;border-radius: 0.25em;box-sizing: border-box;margin-bottom: 0.5em;}#sk-ad1ce1c1-b75f-4a3d-9996-014b1d99e3f5 div.sk-estimator:hover {background-color: #d4ebff;}#sk-ad1ce1c1-b75f-4a3d-9996-014b1d99e3f5 div.sk-parallel-item::after {content: \"\";width: 100%;border-bottom: 1px solid gray;flex-grow: 1;}#sk-ad1ce1c1-b75f-4a3d-9996-014b1d99e3f5 div.sk-label:hover label.sk-toggleable__label {background-color: #d4ebff;}#sk-ad1ce1c1-b75f-4a3d-9996-014b1d99e3f5 div.sk-serial::before {content: \"\";position: absolute;border-left: 1px solid gray;box-sizing: border-box;top: 2em;bottom: 0;left: 50%;}#sk-ad1ce1c1-b75f-4a3d-9996-014b1d99e3f5 div.sk-serial {display: flex;flex-direction: column;align-items: center;background-color: white;padding-right: 0.2em;padding-left: 0.2em;}#sk-ad1ce1c1-b75f-4a3d-9996-014b1d99e3f5 div.sk-item {z-index: 1;}#sk-ad1ce1c1-b75f-4a3d-9996-014b1d99e3f5 div.sk-parallel {display: flex;align-items: stretch;justify-content: center;background-color: white;}#sk-ad1ce1c1-b75f-4a3d-9996-014b1d99e3f5 div.sk-parallel::before {content: \"\";position: absolute;border-left: 1px solid gray;box-sizing: border-box;top: 2em;bottom: 0;left: 50%;}#sk-ad1ce1c1-b75f-4a3d-9996-014b1d99e3f5 div.sk-parallel-item {display: flex;flex-direction: column;position: relative;background-color: white;}#sk-ad1ce1c1-b75f-4a3d-9996-014b1d99e3f5 div.sk-parallel-item:first-child::after {align-self: flex-end;width: 50%;}#sk-ad1ce1c1-b75f-4a3d-9996-014b1d99e3f5 div.sk-parallel-item:last-child::after {align-self: flex-start;width: 50%;}#sk-ad1ce1c1-b75f-4a3d-9996-014b1d99e3f5 div.sk-parallel-item:only-child::after {width: 0;}#sk-ad1ce1c1-b75f-4a3d-9996-014b1d99e3f5 div.sk-dashed-wrapped {border: 1px dashed gray;margin: 0 0.4em 0.5em 0.4em;box-sizing: border-box;padding-bottom: 0.4em;background-color: white;position: relative;}#sk-ad1ce1c1-b75f-4a3d-9996-014b1d99e3f5 div.sk-label label {font-family: monospace;font-weight: bold;background-color: white;display: inline-block;line-height: 1.2em;}#sk-ad1ce1c1-b75f-4a3d-9996-014b1d99e3f5 div.sk-label-container {position: relative;z-index: 2;text-align: center;}#sk-ad1ce1c1-b75f-4a3d-9996-014b1d99e3f5 div.sk-container {/* jupyter's `normalize.less` sets `[hidden] { display: none; }` but bootstrap.min.css set `[hidden] { display: none !important; }` so we also need the `!important` here to be able to override the default hidden behavior on the sphinx rendered scikit-learn.org. See: https://github.com/scikit-learn/scikit-learn/issues/21755 */display: inline-block !important;position: relative;}#sk-ad1ce1c1-b75f-4a3d-9996-014b1d99e3f5 div.sk-text-repr-fallback {display: none;}</style><div id=\"sk-ad1ce1c1-b75f-4a3d-9996-014b1d99e3f5\" class=\"sk-top-container\"><div class=\"sk-text-repr-fallback\"><pre>Pipeline(steps=[(&#x27;columntransformer&#x27;,\n",
       "                 ColumnTransformer(transformers=[(&#x27;pipeline&#x27;,\n",
       "                                                  Pipeline(steps=[(&#x27;cleandftransformer&#x27;,\n",
       "                                                                   CleanDFTransformer()),\n",
       "                                                                  (&#x27;tfidfvectorizer&#x27;,\n",
       "                                                                   TfidfVectorizer(min_df=3))]),\n",
       "                                                  [&#x27;text&#x27;])])),\n",
       "                (&#x27;linearsvc&#x27;,\n",
       "                 LinearSVC(C=1, class_weight={0: 0.2, 1: 0.8}, dual=False,\n",
       "                           penalty=&#x27;l1&#x27;))])</pre><b>Please rerun this cell to show the HTML repr or trust the notebook.</b></div><div class=\"sk-container\" hidden><div class=\"sk-item sk-dashed-wrapped\"><div class=\"sk-label-container\"><div class=\"sk-label sk-toggleable\"><input class=\"sk-toggleable__control sk-hidden--visually\" id=\"b1cf8d39-17bd-4b9a-978a-4d62efc00d90\" type=\"checkbox\" ><label for=\"b1cf8d39-17bd-4b9a-978a-4d62efc00d90\" class=\"sk-toggleable__label sk-toggleable__label-arrow\">Pipeline</label><div class=\"sk-toggleable__content\"><pre>Pipeline(steps=[(&#x27;columntransformer&#x27;,\n",
       "                 ColumnTransformer(transformers=[(&#x27;pipeline&#x27;,\n",
       "                                                  Pipeline(steps=[(&#x27;cleandftransformer&#x27;,\n",
       "                                                                   CleanDFTransformer()),\n",
       "                                                                  (&#x27;tfidfvectorizer&#x27;,\n",
       "                                                                   TfidfVectorizer(min_df=3))]),\n",
       "                                                  [&#x27;text&#x27;])])),\n",
       "                (&#x27;linearsvc&#x27;,\n",
       "                 LinearSVC(C=1, class_weight={0: 0.2, 1: 0.8}, dual=False,\n",
       "                           penalty=&#x27;l1&#x27;))])</pre></div></div></div><div class=\"sk-serial\"><div class=\"sk-item sk-dashed-wrapped\"><div class=\"sk-label-container\"><div class=\"sk-label sk-toggleable\"><input class=\"sk-toggleable__control sk-hidden--visually\" id=\"a42cf6bb-2014-480f-b8f0-7f7faa6813eb\" type=\"checkbox\" ><label for=\"a42cf6bb-2014-480f-b8f0-7f7faa6813eb\" class=\"sk-toggleable__label sk-toggleable__label-arrow\">columntransformer: ColumnTransformer</label><div class=\"sk-toggleable__content\"><pre>ColumnTransformer(transformers=[(&#x27;pipeline&#x27;,\n",
       "                                 Pipeline(steps=[(&#x27;cleandftransformer&#x27;,\n",
       "                                                  CleanDFTransformer()),\n",
       "                                                 (&#x27;tfidfvectorizer&#x27;,\n",
       "                                                  TfidfVectorizer(min_df=3))]),\n",
       "                                 [&#x27;text&#x27;])])</pre></div></div></div><div class=\"sk-parallel\"><div class=\"sk-parallel-item\"><div class=\"sk-item\"><div class=\"sk-label-container\"><div class=\"sk-label sk-toggleable\"><input class=\"sk-toggleable__control sk-hidden--visually\" id=\"b2db0a13-003a-4e62-902d-574927ff7524\" type=\"checkbox\" ><label for=\"b2db0a13-003a-4e62-902d-574927ff7524\" class=\"sk-toggleable__label sk-toggleable__label-arrow\">pipeline</label><div class=\"sk-toggleable__content\"><pre>[&#x27;text&#x27;]</pre></div></div></div><div class=\"sk-serial\"><div class=\"sk-item\"><div class=\"sk-serial\"><div class=\"sk-item\"><div class=\"sk-estimator sk-toggleable\"><input class=\"sk-toggleable__control sk-hidden--visually\" id=\"475b3dee-aeda-4c07-9f6b-555a0809a129\" type=\"checkbox\" ><label for=\"475b3dee-aeda-4c07-9f6b-555a0809a129\" class=\"sk-toggleable__label sk-toggleable__label-arrow\">CleanDFTransformer</label><div class=\"sk-toggleable__content\"><pre>CleanDFTransformer()</pre></div></div></div><div class=\"sk-item\"><div class=\"sk-estimator sk-toggleable\"><input class=\"sk-toggleable__control sk-hidden--visually\" id=\"cbb61af8-e578-47c0-b979-5a0c301e55bb\" type=\"checkbox\" ><label for=\"cbb61af8-e578-47c0-b979-5a0c301e55bb\" class=\"sk-toggleable__label sk-toggleable__label-arrow\">TfidfVectorizer</label><div class=\"sk-toggleable__content\"><pre>TfidfVectorizer(min_df=3)</pre></div></div></div></div></div></div></div></div></div></div><div class=\"sk-item\"><div class=\"sk-estimator sk-toggleable\"><input class=\"sk-toggleable__control sk-hidden--visually\" id=\"5f04fa68-cb1c-470c-98a3-2c61e531e3eb\" type=\"checkbox\" ><label for=\"5f04fa68-cb1c-470c-98a3-2c61e531e3eb\" class=\"sk-toggleable__label sk-toggleable__label-arrow\">LinearSVC</label><div class=\"sk-toggleable__content\"><pre>LinearSVC(C=1, class_weight={0: 0.2, 1: 0.8}, dual=False, penalty=&#x27;l1&#x27;)</pre></div></div></div></div></div></div></div>"
      ],
      "text/plain": [
       "Pipeline(steps=[('columntransformer',\n",
       "                 ColumnTransformer(transformers=[('pipeline',\n",
       "                                                  Pipeline(steps=[('cleandftransformer',\n",
       "                                                                   CleanDFTransformer()),\n",
       "                                                                  ('tfidfvectorizer',\n",
       "                                                                   TfidfVectorizer(min_df=3))]),\n",
       "                                                  ['text'])])),\n",
       "                ('linearsvc',\n",
       "                 LinearSVC(C=1, class_weight={0: 0.2, 1: 0.8}, dual=False,\n",
       "                           penalty='l1'))])"
      ]
     },
     "execution_count": 31,
     "metadata": {},
     "output_type": "execute_result"
    }
   ],
   "source": [
    "package_model.pipeline.fit(X_train, y_train)"
   ]
  },
  {
   "cell_type": "code",
   "execution_count": 32,
   "id": "85cc6828",
   "metadata": {},
   "outputs": [],
   "source": [
    "package_model.save_model()"
   ]
  },
  {
   "cell_type": "code",
   "execution_count": 33,
   "id": "f3426e89",
   "metadata": {},
   "outputs": [],
   "source": [
    "from cyberbullying.utils import clean_df"
   ]
  },
  {
   "cell_type": "code",
   "execution_count": 34,
   "id": "2e2210db",
   "metadata": {},
   "outputs": [],
   "source": [
    "y_pred = package_model.predict(X_test)"
   ]
  },
  {
   "cell_type": "code",
   "execution_count": 35,
   "id": "9986c059",
   "metadata": {},
   "outputs": [
    {
     "data": {
      "text/plain": [
       "array([0., 1., 1., ..., 0., 0., 0.])"
      ]
     },
     "execution_count": 35,
     "metadata": {},
     "output_type": "execute_result"
    }
   ],
   "source": [
    "y_pred"
   ]
  },
  {
   "cell_type": "code",
   "execution_count": 36,
   "id": "297815c0",
   "metadata": {},
   "outputs": [],
   "source": [
    "y_pred_proba = package_model.predict_proba(X_test)"
   ]
  },
  {
   "cell_type": "code",
   "execution_count": 37,
   "id": "9e68bde6",
   "metadata": {},
   "outputs": [
    {
     "data": {
      "text/plain": [
       "array([[0.50912285, 0.49087715],\n",
       "       [0.32415135, 0.67584865],\n",
       "       [0.38353722, 0.61646278],\n",
       "       ...,\n",
       "       [0.66721448, 0.33278552],\n",
       "       [0.58771294, 0.41228706],\n",
       "       [0.6475001 , 0.3524999 ]])"
      ]
     },
     "execution_count": 37,
     "metadata": {},
     "output_type": "execute_result"
    }
   ],
   "source": [
    "y_pred_proba"
   ]
  },
  {
   "cell_type": "code",
   "execution_count": 38,
   "id": "e01a4139",
   "metadata": {},
   "outputs": [
    {
     "data": {
      "text/plain": [
       "array([0.50912285, 0.32415135, 0.38353722, ..., 0.66721448, 0.58771294,\n",
       "       0.6475001 ])"
      ]
     },
     "execution_count": 38,
     "metadata": {},
     "output_type": "execute_result"
    }
   ],
   "source": [
    "y_pred_proba[:,0]"
   ]
  },
  {
   "cell_type": "code",
   "execution_count": 39,
   "id": "d45c8582",
   "metadata": {},
   "outputs": [
    {
     "name": "stdout",
     "output_type": "stream",
     "text": [
      "Recall: 0.733\n",
      "Precision: 0.611\n",
      "Accuracy: 0.913\n",
      "F1-score: 0.666\n"
     ]
    },
    {
     "data": {
      "text/plain": [
       "(0.733, 0.611, 0.913, 0.666)"
      ]
     },
     "execution_count": 39,
     "metadata": {},
     "output_type": "execute_result"
    },
    {
     "data": {
      "image/png": "[encoded data removed]",
      "text/plain": [
       "<Figure size 432x288 with 2 Axes>"
      ]
     },
     "metadata": {
      "needs_background": "light"
     },
     "output_type": "display_data"
    }
   ],
   "source": [
    "conf_mx_all(y_test, y_pred)"
   ]
  },
  {
   "cell_type": "code",
   "execution_count": 40,
   "id": "fd388440",
   "metadata": {},
   "outputs": [
    {
     "data": {
      "text/html": [
       "<div>\n",
       "<style scoped>\n",
       "    .dataframe tbody tr th:only-of-type {\n",
       "        vertical-align: middle;\n",
       "    }\n",
       "\n",
       "    .dataframe tbody tr th {\n",
       "        vertical-align: top;\n",
       "    }\n",
       "\n",
       "    .dataframe thead th {\n",
       "        text-align: right;\n",
       "    }\n",
       "</style>\n",
       "<table border=\"1\" class=\"dataframe\">\n",
       "  <thead>\n",
       "    <tr style=\"text-align: right;\">\n",
       "      <th></th>\n",
       "      <th>text</th>\n",
       "      <th>proba_0</th>\n",
       "      <th>proba_1</th>\n",
       "      <th>prediction</th>\n",
       "      <th>color</th>\n",
       "    </tr>\n",
       "  </thead>\n",
       "  <tbody>\n",
       "    <tr>\n",
       "      <th>216249</th>\n",
       "      <td>@mutaSawwif @TawheedNetwork_ Are you actually ...</td>\n",
       "      <td>0.509123</td>\n",
       "      <td>0.490877</td>\n",
       "      <td>0.0</td>\n",
       "      <td>None</td>\n",
       "    </tr>\n",
       "    <tr>\n",
       "      <th>200383</th>\n",
       "      <td>== Excuse you? ==  Did you just fart?</td>\n",
       "      <td>0.324151</td>\n",
       "      <td>0.675849</td>\n",
       "      <td>1.0</td>\n",
       "      <td>orange</td>\n",
       "    </tr>\n",
       "    <tr>\n",
       "      <th>29777</th>\n",
       "      <td>MY IP IS DYNAMIC AND MY PENIS IS 10 INCHES LONG</td>\n",
       "      <td>0.383537</td>\n",
       "      <td>0.616463</td>\n",
       "      <td>1.0</td>\n",
       "      <td>yellow</td>\n",
       "    </tr>\n",
       "    <tr>\n",
       "      <th>9952</th>\n",
       "      <td>`  Hi, , Welcome to Wikipedia!    I hope you l...</td>\n",
       "      <td>0.781382</td>\n",
       "      <td>0.218618</td>\n",
       "      <td>0.0</td>\n",
       "      <td>None</td>\n",
       "    </tr>\n",
       "    <tr>\n",
       "      <th>72162</th>\n",
       "      <td>`   Please do not vandalize pages, as you did ...</td>\n",
       "      <td>0.747411</td>\n",
       "      <td>0.252589</td>\n",
       "      <td>0.0</td>\n",
       "      <td>None</td>\n",
       "    </tr>\n",
       "    <tr>\n",
       "      <th>...</th>\n",
       "      <td>...</td>\n",
       "      <td>...</td>\n",
       "      <td>...</td>\n",
       "      <td>...</td>\n",
       "      <td>...</td>\n",
       "    </tr>\n",
       "    <tr>\n",
       "      <th>19723</th>\n",
       "      <td>My two demands are, leave the flagship alone...</td>\n",
       "      <td>0.450411</td>\n",
       "      <td>0.549589</td>\n",
       "      <td>1.0</td>\n",
       "      <td>yellow</td>\n",
       "    </tr>\n",
       "    <tr>\n",
       "      <th>49595</th>\n",
       "      <td>::Note that someone tossed the page up for d...</td>\n",
       "      <td>0.664955</td>\n",
       "      <td>0.335045</td>\n",
       "      <td>0.0</td>\n",
       "      <td>None</td>\n",
       "    </tr>\n",
       "    <tr>\n",
       "      <th>131669</th>\n",
       "      <td>`  Only thing relevant here is but ``THE' SHIT...</td>\n",
       "      <td>0.667214</td>\n",
       "      <td>0.332786</td>\n",
       "      <td>0.0</td>\n",
       "      <td>None</td>\n",
       "    </tr>\n",
       "    <tr>\n",
       "      <th>84864</th>\n",
       "      <td>`right about the body though it's quite possib...</td>\n",
       "      <td>0.587713</td>\n",
       "      <td>0.412287</td>\n",
       "      <td>0.0</td>\n",
       "      <td>None</td>\n",
       "    </tr>\n",
       "    <tr>\n",
       "      <th>37780</th>\n",
       "      <td>:::Fine. But which ancient or medieval bridg...</td>\n",
       "      <td>0.647500</td>\n",
       "      <td>0.352500</td>\n",
       "      <td>0.0</td>\n",
       "      <td>None</td>\n",
       "    </tr>\n",
       "  </tbody>\n",
       "</table>\n",
       "<p>69285 rows × 5 columns</p>\n",
       "</div>"
      ],
      "text/plain": [
       "                                                     text   proba_0   proba_1  \\\n",
       "216249  @mutaSawwif @TawheedNetwork_ Are you actually ...  0.509123  0.490877   \n",
       "200383              == Excuse you? ==  Did you just fart?  0.324151  0.675849   \n",
       "29777    MY IP IS DYNAMIC AND MY PENIS IS 10 INCHES LONG   0.383537  0.616463   \n",
       "9952    `  Hi, , Welcome to Wikipedia!    I hope you l...  0.781382  0.218618   \n",
       "72162   `   Please do not vandalize pages, as you did ...  0.747411  0.252589   \n",
       "...                                                   ...       ...       ...   \n",
       "19723     My two demands are, leave the flagship alone...  0.450411  0.549589   \n",
       "49595     ::Note that someone tossed the page up for d...  0.664955  0.335045   \n",
       "131669  `  Only thing relevant here is but ``THE' SHIT...  0.667214  0.332786   \n",
       "84864   `right about the body though it's quite possib...  0.587713  0.412287   \n",
       "37780     :::Fine. But which ancient or medieval bridg...  0.647500  0.352500   \n",
       "\n",
       "        prediction   color  \n",
       "216249         0.0    None  \n",
       "200383         1.0  orange  \n",
       "29777          1.0  yellow  \n",
       "9952           0.0    None  \n",
       "72162          0.0    None  \n",
       "...            ...     ...  \n",
       "19723          1.0  yellow  \n",
       "49595          0.0    None  \n",
       "131669         0.0    None  \n",
       "84864          0.0    None  \n",
       "37780          0.0    None  \n",
       "\n",
       "[69285 rows x 5 columns]"
      ]
     },
     "execution_count": 40,
     "metadata": {},
     "output_type": "execute_result"
    }
   ],
   "source": [
    "package_model.predict_all(X_test)"
   ]
  },
  {
   "cell_type": "code",
   "execution_count": 41,
   "id": "be4904a6",
   "metadata": {},
   "outputs": [
    {
     "data": {
      "text/html": [
       "<div>\n",
       "<style scoped>\n",
       "    .dataframe tbody tr th:only-of-type {\n",
       "        vertical-align: middle;\n",
       "    }\n",
       "\n",
       "    .dataframe tbody tr th {\n",
       "        vertical-align: top;\n",
       "    }\n",
       "\n",
       "    .dataframe thead th {\n",
       "        text-align: right;\n",
       "    }\n",
       "</style>\n",
       "<table border=\"1\" class=\"dataframe\">\n",
       "  <thead>\n",
       "    <tr style=\"text-align: right;\">\n",
       "      <th></th>\n",
       "      <th>text</th>\n",
       "      <th>target</th>\n",
       "    </tr>\n",
       "  </thead>\n",
       "  <tbody>\n",
       "    <tr>\n",
       "      <th>137792</th>\n",
       "      <td>`  ::See in my userpage the Articles I've crea...</td>\n",
       "      <td>0.0</td>\n",
       "    </tr>\n",
       "    <tr>\n",
       "      <th>153873</th>\n",
       "      <td>== Transnistria ==  The recent addition to t...</td>\n",
       "      <td>0.0</td>\n",
       "    </tr>\n",
       "    <tr>\n",
       "      <th>53601</th>\n",
       "      <td>`  Note also that the previously highlighted t...</td>\n",
       "      <td>0.0</td>\n",
       "    </tr>\n",
       "    <tr>\n",
       "      <th>205335</th>\n",
       "      <td>@Damhan97 @niall_cullen @AC360 Having more chi...</td>\n",
       "      <td>1.0</td>\n",
       "    </tr>\n",
       "    <tr>\n",
       "      <th>213374</th>\n",
       "      <td>RT @howlintwolf I swear it's not sexist but Ch...</td>\n",
       "      <td>1.0</td>\n",
       "    </tr>\n",
       "    <tr>\n",
       "      <th>159241</th>\n",
       "      <td>== Skywalk / new tourist attraction ==  Wire...</td>\n",
       "      <td>0.0</td>\n",
       "    </tr>\n",
       "    <tr>\n",
       "      <th>35902</th>\n",
       "      <td>33, 2 March 2007 (UTC) ::::::::::::You are bei...</td>\n",
       "      <td>0.0</td>\n",
       "    </tr>\n",
       "    <tr>\n",
       "      <th>222384</th>\n",
       "      <td>\"@nilbymouth \\\\n\\\\nYou are right concerning Ca...</td>\n",
       "      <td>0.0</td>\n",
       "    </tr>\n",
       "    <tr>\n",
       "      <th>146068</th>\n",
       "      <td>`   :::::ETTENTIO PLEASE ::``Israeli offensive...</td>\n",
       "      <td>0.0</td>\n",
       "    </tr>\n",
       "    <tr>\n",
       "      <th>202625</th>\n",
       "      <td>Saudi cleric: \"sun revolves around the earth.\"...</td>\n",
       "      <td>1.0</td>\n",
       "    </tr>\n",
       "    <tr>\n",
       "      <th>14307</th>\n",
       "      <td>Gsd2000, I saw the comments by Rjensen and Gra...</td>\n",
       "      <td>0.0</td>\n",
       "    </tr>\n",
       "    <tr>\n",
       "      <th>151501</th>\n",
       "      <td>Funny, I don't feel blocked.</td>\n",
       "      <td>0.0</td>\n",
       "    </tr>\n",
       "    <tr>\n",
       "      <th>35384</th>\n",
       "      <td>`  == Czech Republic ==  I am sorry but I am C...</td>\n",
       "      <td>0.0</td>\n",
       "    </tr>\n",
       "    <tr>\n",
       "      <th>125125</th>\n",
       "      <td>`  == I would like answers please ==  Please s...</td>\n",
       "      <td>0.0</td>\n",
       "    </tr>\n",
       "    <tr>\n",
       "      <th>15506</th>\n",
       "      <td>=Twisted Facts=  1. Wal-Mart does not spend ...</td>\n",
       "      <td>0.0</td>\n",
       "    </tr>\n",
       "    <tr>\n",
       "      <th>81596</th>\n",
       "      <td>== RDT ==  Just a quick question, should the...</td>\n",
       "      <td>0.0</td>\n",
       "    </tr>\n",
       "    <tr>\n",
       "      <th>157632</th>\n",
       "      <td>| accept=Allowing username change to requested...</td>\n",
       "      <td>0.0</td>\n",
       "    </tr>\n",
       "    <tr>\n",
       "      <th>156639</th>\n",
       "      <td>` ::::I'm sure you'll do finely without me her...</td>\n",
       "      <td>0.0</td>\n",
       "    </tr>\n",
       "    <tr>\n",
       "      <th>210727</th>\n",
       "      <td>@discerningmumin So if you are against slavery...</td>\n",
       "      <td>1.0</td>\n",
       "    </tr>\n",
       "    <tr>\n",
       "      <th>193267</th>\n",
       "      <td>::::::I never said that this article has to ...</td>\n",
       "      <td>0.0</td>\n",
       "    </tr>\n",
       "  </tbody>\n",
       "</table>\n",
       "</div>"
      ],
      "text/plain": [
       "                                                     text  target\n",
       "137792  `  ::See in my userpage the Articles I've crea...     0.0\n",
       "153873    == Transnistria ==  The recent addition to t...     0.0\n",
       "53601   `  Note also that the previously highlighted t...     0.0\n",
       "205335  @Damhan97 @niall_cullen @AC360 Having more chi...     1.0\n",
       "213374  RT @howlintwolf I swear it's not sexist but Ch...     1.0\n",
       "159241    == Skywalk / new tourist attraction ==  Wire...     0.0\n",
       "35902   33, 2 March 2007 (UTC) ::::::::::::You are bei...     0.0\n",
       "222384  \"@nilbymouth \\\\n\\\\nYou are right concerning Ca...     0.0\n",
       "146068  `   :::::ETTENTIO PLEASE ::``Israeli offensive...     0.0\n",
       "202625  Saudi cleric: \"sun revolves around the earth.\"...     1.0\n",
       "14307   Gsd2000, I saw the comments by Rjensen and Gra...     0.0\n",
       "151501                     Funny, I don't feel blocked.       0.0\n",
       "35384   `  == Czech Republic ==  I am sorry but I am C...     0.0\n",
       "125125  `  == I would like answers please ==  Please s...     0.0\n",
       "15506     =Twisted Facts=  1. Wal-Mart does not spend ...     0.0\n",
       "81596     == RDT ==  Just a quick question, should the...     0.0\n",
       "157632  | accept=Allowing username change to requested...     0.0\n",
       "156639  ` ::::I'm sure you'll do finely without me her...     0.0\n",
       "210727  @discerningmumin So if you are against slavery...     1.0\n",
       "193267    ::::::I never said that this article has to ...     0.0"
      ]
     },
     "execution_count": 41,
     "metadata": {},
     "output_type": "execute_result"
    }
   ],
   "source": [
    "pd.DataFrame({'text': X_test['text'], 'target': y_test})[60:80]"
   ]
  },
  {
   "cell_type": "code",
   "execution_count": 42,
   "id": "519a0864",
   "metadata": {},
   "outputs": [
    {
     "data": {
      "text/plain": [
       "'@discerningmumin So if you are against slavery, you cannot be a Muslim. So why are you crying about slavery when the Quran approves it?'"
      ]
     },
     "execution_count": 42,
     "metadata": {},
     "output_type": "execute_result"
    }
   ],
   "source": [
    "X_test.loc[210727, 'text']"
   ]
  },
  {
   "cell_type": "code",
   "execution_count": 43,
   "id": "3392aa96",
   "metadata": {},
   "outputs": [
    {
     "data": {
      "text/plain": [
       "\"`  :::Why is ``per second`` the most important measurement? That little factoid is about a policy which doesn't apply per second; it applies per month. Converting it to any other time frame makes it meaningless.   /  `\""
      ]
     },
     "execution_count": 43,
     "metadata": {},
     "output_type": "execute_result"
    }
   ],
   "source": [
    "X_test.iloc[20,:]['text']"
   ]
  },
  {
   "cell_type": "code",
   "execution_count": 44,
   "id": "73a8a7b3",
   "metadata": {},
   "outputs": [],
   "source": [
    "#texto = '`   Please do not vandalize pages, as you did with this edit to Rhode Island. If you continue to do so, you will be blocked from editing.  \\xa0–\\xa0 `'"
   ]
  },
  {
   "cell_type": "code",
   "execution_count": 45,
   "id": "68c5b990",
   "metadata": {},
   "outputs": [],
   "source": [
    "texto = X_test.loc[210727,:]['text']"
   ]
  },
  {
   "cell_type": "code",
   "execution_count": 46,
   "id": "67ed4d44",
   "metadata": {},
   "outputs": [
    {
     "data": {
      "text/plain": [
       "array([1.])"
      ]
     },
     "execution_count": 46,
     "metadata": {},
     "output_type": "execute_result"
    }
   ],
   "source": [
    "package_model.predict(texto)"
   ]
  },
  {
   "cell_type": "code",
   "execution_count": 47,
   "id": "3d07ff2b",
   "metadata": {},
   "outputs": [
    {
     "data": {
      "text/plain": [
       "array([[0.3036708, 0.6963292]])"
      ]
     },
     "execution_count": 47,
     "metadata": {},
     "output_type": "execute_result"
    }
   ],
   "source": [
    "package_model.predict_proba(texto)"
   ]
  },
  {
   "cell_type": "code",
   "execution_count": 48,
   "id": "f09b04cc",
   "metadata": {
    "scrolled": true
   },
   "outputs": [
    {
     "data": {
      "text/html": [
       "<div>\n",
       "<style scoped>\n",
       "    .dataframe tbody tr th:only-of-type {\n",
       "        vertical-align: middle;\n",
       "    }\n",
       "\n",
       "    .dataframe tbody tr th {\n",
       "        vertical-align: top;\n",
       "    }\n",
       "\n",
       "    .dataframe thead th {\n",
       "        text-align: right;\n",
       "    }\n",
       "</style>\n",
       "<table border=\"1\" class=\"dataframe\">\n",
       "  <thead>\n",
       "    <tr style=\"text-align: right;\">\n",
       "      <th></th>\n",
       "      <th>text</th>\n",
       "      <th>proba_0</th>\n",
       "      <th>proba_1</th>\n",
       "      <th>prediction</th>\n",
       "      <th>color</th>\n",
       "    </tr>\n",
       "  </thead>\n",
       "  <tbody>\n",
       "    <tr>\n",
       "      <th>0</th>\n",
       "      <td>@discerningmumin</td>\n",
       "      <td>0.648875</td>\n",
       "      <td>0.351125</td>\n",
       "      <td>0.0</td>\n",
       "      <td>None</td>\n",
       "    </tr>\n",
       "    <tr>\n",
       "      <th>1</th>\n",
       "      <td>So</td>\n",
       "      <td>0.648875</td>\n",
       "      <td>0.351125</td>\n",
       "      <td>0.0</td>\n",
       "      <td>None</td>\n",
       "    </tr>\n",
       "    <tr>\n",
       "      <th>2</th>\n",
       "      <td>if</td>\n",
       "      <td>0.648875</td>\n",
       "      <td>0.351125</td>\n",
       "      <td>0.0</td>\n",
       "      <td>None</td>\n",
       "    </tr>\n",
       "    <tr>\n",
       "      <th>3</th>\n",
       "      <td>you</td>\n",
       "      <td>0.648875</td>\n",
       "      <td>0.351125</td>\n",
       "      <td>0.0</td>\n",
       "      <td>None</td>\n",
       "    </tr>\n",
       "    <tr>\n",
       "      <th>4</th>\n",
       "      <td>are</td>\n",
       "      <td>0.648875</td>\n",
       "      <td>0.351125</td>\n",
       "      <td>0.0</td>\n",
       "      <td>None</td>\n",
       "    </tr>\n",
       "    <tr>\n",
       "      <th>5</th>\n",
       "      <td>against</td>\n",
       "      <td>0.648875</td>\n",
       "      <td>0.351125</td>\n",
       "      <td>0.0</td>\n",
       "      <td>None</td>\n",
       "    </tr>\n",
       "    <tr>\n",
       "      <th>6</th>\n",
       "      <td>slavery,</td>\n",
       "      <td>0.465418</td>\n",
       "      <td>0.534582</td>\n",
       "      <td>1.0</td>\n",
       "      <td>yellow</td>\n",
       "    </tr>\n",
       "    <tr>\n",
       "      <th>7</th>\n",
       "      <td>you</td>\n",
       "      <td>0.648875</td>\n",
       "      <td>0.351125</td>\n",
       "      <td>0.0</td>\n",
       "      <td>None</td>\n",
       "    </tr>\n",
       "    <tr>\n",
       "      <th>8</th>\n",
       "      <td>cannot</td>\n",
       "      <td>0.648875</td>\n",
       "      <td>0.351125</td>\n",
       "      <td>0.0</td>\n",
       "      <td>None</td>\n",
       "    </tr>\n",
       "    <tr>\n",
       "      <th>9</th>\n",
       "      <td>be</td>\n",
       "      <td>0.648875</td>\n",
       "      <td>0.351125</td>\n",
       "      <td>0.0</td>\n",
       "      <td>None</td>\n",
       "    </tr>\n",
       "    <tr>\n",
       "      <th>10</th>\n",
       "      <td>a</td>\n",
       "      <td>0.648875</td>\n",
       "      <td>0.351125</td>\n",
       "      <td>0.0</td>\n",
       "      <td>None</td>\n",
       "    </tr>\n",
       "    <tr>\n",
       "      <th>11</th>\n",
       "      <td>Muslim.</td>\n",
       "      <td>0.258649</td>\n",
       "      <td>0.741351</td>\n",
       "      <td>1.0</td>\n",
       "      <td>orange</td>\n",
       "    </tr>\n",
       "    <tr>\n",
       "      <th>12</th>\n",
       "      <td>So</td>\n",
       "      <td>0.648875</td>\n",
       "      <td>0.351125</td>\n",
       "      <td>0.0</td>\n",
       "      <td>None</td>\n",
       "    </tr>\n",
       "    <tr>\n",
       "      <th>13</th>\n",
       "      <td>why</td>\n",
       "      <td>0.648875</td>\n",
       "      <td>0.351125</td>\n",
       "      <td>0.0</td>\n",
       "      <td>None</td>\n",
       "    </tr>\n",
       "    <tr>\n",
       "      <th>14</th>\n",
       "      <td>are</td>\n",
       "      <td>0.648875</td>\n",
       "      <td>0.351125</td>\n",
       "      <td>0.0</td>\n",
       "      <td>None</td>\n",
       "    </tr>\n",
       "    <tr>\n",
       "      <th>15</th>\n",
       "      <td>you</td>\n",
       "      <td>0.648875</td>\n",
       "      <td>0.351125</td>\n",
       "      <td>0.0</td>\n",
       "      <td>None</td>\n",
       "    </tr>\n",
       "    <tr>\n",
       "      <th>16</th>\n",
       "      <td>crying</td>\n",
       "      <td>0.593178</td>\n",
       "      <td>0.406822</td>\n",
       "      <td>0.0</td>\n",
       "      <td>None</td>\n",
       "    </tr>\n",
       "    <tr>\n",
       "      <th>17</th>\n",
       "      <td>about</td>\n",
       "      <td>0.648875</td>\n",
       "      <td>0.351125</td>\n",
       "      <td>0.0</td>\n",
       "      <td>None</td>\n",
       "    </tr>\n",
       "    <tr>\n",
       "      <th>18</th>\n",
       "      <td>slavery</td>\n",
       "      <td>0.465418</td>\n",
       "      <td>0.534582</td>\n",
       "      <td>1.0</td>\n",
       "      <td>yellow</td>\n",
       "    </tr>\n",
       "    <tr>\n",
       "      <th>19</th>\n",
       "      <td>when</td>\n",
       "      <td>0.648875</td>\n",
       "      <td>0.351125</td>\n",
       "      <td>0.0</td>\n",
       "      <td>None</td>\n",
       "    </tr>\n",
       "    <tr>\n",
       "      <th>20</th>\n",
       "      <td>the</td>\n",
       "      <td>0.648875</td>\n",
       "      <td>0.351125</td>\n",
       "      <td>0.0</td>\n",
       "      <td>None</td>\n",
       "    </tr>\n",
       "    <tr>\n",
       "      <th>21</th>\n",
       "      <td>Quran</td>\n",
       "      <td>0.389369</td>\n",
       "      <td>0.610631</td>\n",
       "      <td>1.0</td>\n",
       "      <td>yellow</td>\n",
       "    </tr>\n",
       "    <tr>\n",
       "      <th>22</th>\n",
       "      <td>approves</td>\n",
       "      <td>0.648875</td>\n",
       "      <td>0.351125</td>\n",
       "      <td>0.0</td>\n",
       "      <td>None</td>\n",
       "    </tr>\n",
       "    <tr>\n",
       "      <th>23</th>\n",
       "      <td>it?</td>\n",
       "      <td>0.648875</td>\n",
       "      <td>0.351125</td>\n",
       "      <td>0.0</td>\n",
       "      <td>None</td>\n",
       "    </tr>\n",
       "  </tbody>\n",
       "</table>\n",
       "</div>"
      ],
      "text/plain": [
       "                text   proba_0   proba_1  prediction   color\n",
       "0   @discerningmumin  0.648875  0.351125         0.0    None\n",
       "1                 So  0.648875  0.351125         0.0    None\n",
       "2                 if  0.648875  0.351125         0.0    None\n",
       "3                you  0.648875  0.351125         0.0    None\n",
       "4                are  0.648875  0.351125         0.0    None\n",
       "5            against  0.648875  0.351125         0.0    None\n",
       "6           slavery,  0.465418  0.534582         1.0  yellow\n",
       "7                you  0.648875  0.351125         0.0    None\n",
       "8             cannot  0.648875  0.351125         0.0    None\n",
       "9                 be  0.648875  0.351125         0.0    None\n",
       "10                 a  0.648875  0.351125         0.0    None\n",
       "11           Muslim.  0.258649  0.741351         1.0  orange\n",
       "12                So  0.648875  0.351125         0.0    None\n",
       "13               why  0.648875  0.351125         0.0    None\n",
       "14               are  0.648875  0.351125         0.0    None\n",
       "15               you  0.648875  0.351125         0.0    None\n",
       "16            crying  0.593178  0.406822         0.0    None\n",
       "17             about  0.648875  0.351125         0.0    None\n",
       "18           slavery  0.465418  0.534582         1.0  yellow\n",
       "19              when  0.648875  0.351125         0.0    None\n",
       "20               the  0.648875  0.351125         0.0    None\n",
       "21             Quran  0.389369  0.610631         1.0  yellow\n",
       "22          approves  0.648875  0.351125         0.0    None\n",
       "23               it?  0.648875  0.351125         0.0    None"
      ]
     },
     "execution_count": 48,
     "metadata": {},
     "output_type": "execute_result"
    }
   ],
   "source": [
    "package_model.predict_simple_text(texto)"
   ]
  },
  {
   "cell_type": "code",
   "execution_count": 49,
   "id": "d10adccb",
   "metadata": {},
   "outputs": [
    {
     "data": {
      "text/plain": [
       "{'prediction': 1.0,\n",
       " 'text': '@discerningmumin So if you are against <yellow>slavery,</yellow> you cannot be a <orange>Muslim.</orange> So why are you crying about <yellow>slavery</yellow> when the <yellow>Quran</yellow> approves it?'}"
      ]
     },
     "execution_count": 49,
     "metadata": {},
     "output_type": "execute_result"
    }
   ],
   "source": [
    "test_html = package_model.predict_phrase(texto)\n",
    "test_html"
   ]
  },
  {
   "cell_type": "code",
   "execution_count": null,
   "id": "a19cc6c4",
   "metadata": {},
   "outputs": [],
   "source": []
  },
  {
   "cell_type": "code",
   "execution_count": null,
   "id": "4dc37ce6",
   "metadata": {},
   "outputs": [],
   "source": []
  },
  {
   "cell_type": "code",
   "execution_count": 50,
   "id": "34478246",
   "metadata": {},
   "outputs": [
    {
     "ename": "SyntaxError",
     "evalue": "cannot assign to literal (3312293683.py, line 1)",
     "output_type": "error",
     "traceback": [
      "\u001b[0;36m  File \u001b[0;32m\"/tmp/ipykernel_27542/3312293683.py\"\u001b[0;36m, line \u001b[0;32m1\u001b[0m\n\u001b[0;31m    2=1\u001b[0m\n\u001b[0m    ^\u001b[0m\n\u001b[0;31mSyntaxError\u001b[0m\u001b[0;31m:\u001b[0m cannot assign to literal\n"
     ]
    }
   ],
   "source": [
    "2=1"
   ]
  },
  {
   "cell_type": "code",
   "execution_count": null,
   "id": "e3dd2261",
   "metadata": {},
   "outputs": [],
   "source": [
    "#package_model.predict_all(' Your a prick. keep your personal thoughts to your self. Jeff is the best driver ever and thats a fact. You musy be an idiot redneck.')"
   ]
  },
  {
   "cell_type": "code",
   "execution_count": null,
   "id": "d1ef4e36",
   "metadata": {},
   "outputs": [],
   "source": [
    "#package_model.predict_simple_text(' Your a prick. keep your personal thoughts to your self. Jeff is the best driver ever and thats a fact. You musy be an idiot redneck.')"
   ]
  },
  {
   "cell_type": "code",
   "execution_count": 51,
   "id": "632ac61b",
   "metadata": {},
   "outputs": [],
   "source": [
    "from cyberbullying.utils import get_trained_model, save_trained_model"
   ]
  },
  {
   "cell_type": "code",
   "execution_count": 52,
   "id": "f39c5fcf",
   "metadata": {},
   "outputs": [],
   "source": [
    "save_trained_model(package_model)"
   ]
  },
  {
   "cell_type": "code",
   "execution_count": 53,
   "id": "e73bb925",
   "metadata": {},
   "outputs": [],
   "source": [
    "trained_model = get_trained_model()"
   ]
  },
  {
   "cell_type": "code",
   "execution_count": 54,
   "id": "429e84e8",
   "metadata": {},
   "outputs": [
    {
     "data": {
      "text/plain": [
       "<cyberbullying.models.MLModel at 0x7fb12e02ce50>"
      ]
     },
     "execution_count": 54,
     "metadata": {},
     "output_type": "execute_result"
    }
   ],
   "source": [
    "trained_model"
   ]
  },
  {
   "cell_type": "code",
   "execution_count": 55,
   "id": "398bd9cf",
   "metadata": {},
   "outputs": [
    {
     "data": {
      "text/plain": [
       "array([1.])"
      ]
     },
     "execution_count": 55,
     "metadata": {},
     "output_type": "execute_result"
    }
   ],
   "source": [
    "trained_model.predict(texto)"
   ]
  },
  {
   "cell_type": "code",
   "execution_count": 56,
   "id": "40496a9d",
   "metadata": {},
   "outputs": [
    {
     "data": {
      "text/plain": [
       "array([[0.3036708, 0.6963292]])"
      ]
     },
     "execution_count": 56,
     "metadata": {},
     "output_type": "execute_result"
    }
   ],
   "source": [
    "trained_model.predict_proba(texto)"
   ]
  },
  {
   "cell_type": "code",
   "execution_count": 57,
   "id": "b7e26736",
   "metadata": {},
   "outputs": [
    {
     "data": {
      "text/plain": [
       "{'prediction': 1.0,\n",
       " 'text': '@discerningmumin So if you are against <yellow>slavery,</yellow> you cannot be a <orange>Muslim.</orange> So why are you crying about <yellow>slavery</yellow> when the <yellow>Quran</yellow> approves it?'}"
      ]
     },
     "execution_count": 57,
     "metadata": {},
     "output_type": "execute_result"
    }
   ],
   "source": [
    "trained_model.predict_phrase(texto)"
   ]
  },
  {
   "cell_type": "code",
   "execution_count": null,
   "id": "804d11c8",
   "metadata": {},
   "outputs": [],
   "source": []
  }
 ],
 "metadata": {
  "kernelspec": {
   "display_name": "Python 3 (ipykernel)",
   "language": "python",
   "name": "python3"
  },
  "language_info": {
   "codemirror_mode": {
    "name": "ipython",
    "version": 3
   },
   "file_extension": ".py",
   "mimetype": "text/x-python",
   "name": "python",
   "nbconvert_exporter": "python",
   "pygments_lexer": "ipython3",
   "version": "3.8.12"
  },
  "toc": {
   "base_numbering": 1,
   "nav_menu": {},
   "number_sections": true,
   "sideBar": true,
   "skip_h1_title": false,
   "title_cell": "Table of Contents",
   "title_sidebar": "Contents",
   "toc_cell": false,
   "toc_position": {},
   "toc_section_display": true,
   "toc_window_display": false
  }
 },
 "nbformat": 4,
 "nbformat_minor": 5
}
