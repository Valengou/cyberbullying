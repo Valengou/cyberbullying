{
 "cells": [
  {
   "cell_type": "markdown",
   "id": "794d2ecf",
   "metadata": {},
   "source": [
    "# Deep Learning"
   ]
  },
  {
   "cell_type": "code",
   "execution_count": 1,
   "id": "af27a36a",
   "metadata": {},
   "outputs": [],
   "source": [
    "%load_ext autoreload\n",
    "%autoreload 2"
   ]
  },
  {
   "cell_type": "code",
   "execution_count": 2,
   "id": "9829baa6",
   "metadata": {},
   "outputs": [],
   "source": [
    "import numpy as np\n",
    "import pandas as pd\n",
    "\n",
    "from gensim.models import Word2Vec\n",
    "\n",
    "from sklearn.model_selection import train_test_split\n",
    "\n",
    "from tensorflow.keras.preprocessing.text import text_to_word_sequence\n",
    "from tensorflow.keras.preprocessing.sequence import pad_sequences\n",
    "from tensorflow.keras import Sequential\n",
    "from tensorflow.keras.layers import SimpleRNN, LSTM, GRU, Dense, Masking\n",
    "from tensorflow.keras.metrics import Recall, Precision\n",
    "from tensorflow.keras.callbacks import EarlyStopping\n",
    "\n",
    "import joblib"
   ]
  },
  {
   "cell_type": "markdown",
   "id": "894ab2ad",
   "metadata": {},
   "source": [
    "Check si corre en Colab"
   ]
  },
  {
   "cell_type": "code",
   "execution_count": 3,
   "id": "afac6c9f",
   "metadata": {},
   "outputs": [],
   "source": [
    "try:\n",
    "    DRIVE = True\n",
    "    from google.colab import files\n",
    "except ModuleNotFoundError:\n",
    "    DRIVE = False"
   ]
  },
  {
   "cell_type": "code",
   "execution_count": 4,
   "id": "44ecba88",
   "metadata": {},
   "outputs": [],
   "source": [
    "if DRIVE:\n",
    "    #from google.colab import drive\n",
    "    #drive.mount('/content/drive')\n",
    "    #uploaded = files.upload()\n",
    "    #for fn in uploaded.keys():\n",
    "    #    print('User uploaded file \"{name}\" with length {length} bytes'.format(\n",
    "    #        name=fn, length=len(uploaded[fn])))\n",
    "    data = pd.read_csv('data.csv')\n",
    "else:\n",
    "    data = pd.read_csv('../../cyberbullying/data/data.csv')"
   ]
  },
  {
   "cell_type": "code",
   "execution_count": 5,
   "id": "ead30984",
   "metadata": {},
   "outputs": [
    {
     "data": {
      "text/html": [
       "<div>\n",
       "<style scoped>\n",
       "    .dataframe tbody tr th:only-of-type {\n",
       "        vertical-align: middle;\n",
       "    }\n",
       "\n",
       "    .dataframe tbody tr th {\n",
       "        vertical-align: top;\n",
       "    }\n",
       "\n",
       "    .dataframe thead th {\n",
       "        text-align: right;\n",
       "    }\n",
       "</style>\n",
       "<table border=\"1\" class=\"dataframe\">\n",
       "  <thead>\n",
       "    <tr style=\"text-align: right;\">\n",
       "      <th></th>\n",
       "      <th>text</th>\n",
       "      <th>target</th>\n",
       "    </tr>\n",
       "  </thead>\n",
       "  <tbody>\n",
       "    <tr>\n",
       "      <th>0</th>\n",
       "      <td>this: :one can make an analogy in mathematical...</td>\n",
       "      <td>0</td>\n",
       "    </tr>\n",
       "    <tr>\n",
       "      <th>1</th>\n",
       "      <td>`  :clarification for you  (and zundark's righ...</td>\n",
       "      <td>0</td>\n",
       "    </tr>\n",
       "    <tr>\n",
       "      <th>2</th>\n",
       "      <td>elected or electoral? jhk</td>\n",
       "      <td>0</td>\n",
       "    </tr>\n",
       "    <tr>\n",
       "      <th>3</th>\n",
       "      <td>`this is such a fun entry.   devotchka  i once...</td>\n",
       "      <td>0</td>\n",
       "    </tr>\n",
       "    <tr>\n",
       "      <th>4</th>\n",
       "      <td>please relate the ozone hole to increases in c...</td>\n",
       "      <td>0</td>\n",
       "    </tr>\n",
       "  </tbody>\n",
       "</table>\n",
       "</div>"
      ],
      "text/plain": [
       "                                                text  target\n",
       "0  this: :one can make an analogy in mathematical...       0\n",
       "1  `  :clarification for you  (and zundark's righ...       0\n",
       "2                          elected or electoral? jhk       0\n",
       "3  `this is such a fun entry.   devotchka  i once...       0\n",
       "4  please relate the ozone hole to increases in c...       0"
      ]
     },
     "execution_count": 5,
     "metadata": {},
     "output_type": "execute_result"
    }
   ],
   "source": [
    "data['text']=data['text'].astype(str)\n",
    "data.loc[:,'target'] = pd.to_numeric(data.loc[:,'target'], downcast='integer')\n",
    "\n",
    "data.head()"
   ]
  },
  {
   "cell_type": "code",
   "execution_count": 6,
   "id": "5203f427",
   "metadata": {},
   "outputs": [],
   "source": [
    "def load_data(percentage_of_sentences=None):\n",
    "    \n",
    "    X_train, X_test, y_train, y_test = train_test_split(data['text'],data['target'],test_size=0.3,random_state=0)\n",
    "    \n",
    "    # Take only a given percentage of the entire data\n",
    "    if percentage_of_sentences is not None:\n",
    "        assert(percentage_of_sentences> 0 and percentage_of_sentences<=100)\n",
    "        \n",
    "        len_train = int(percentage_of_sentences/100*len(X_train))\n",
    "        X_train, y_train = X_train[:len_train], y_train[:len_train]\n",
    "  \n",
    "        len_test = int(percentage_of_sentences/100*len(X_test))\n",
    "        X_test, y_test = X_test[:len_test], y_test[:len_test]\n",
    "    \n",
    "    #X_train = [text_to_word_sequence(_) for _ in X_train]\n",
    "    #X_test = [text_to_word_sequence(_) for _ in X_test]\n",
    "    \n",
    "    X_train = X_train.map(text_to_word_sequence)\n",
    "    X_test = X_test.map(text_to_word_sequence)\n",
    "    \n",
    "    return X_train, y_train, X_test, y_test\n",
    "\n",
    "X_train, y_train, X_test, y_test = load_data(percentage_of_sentences=100)"
   ]
  },
  {
   "cell_type": "markdown",
   "id": "b6b3ae89",
   "metadata": {},
   "source": [
    "### Balanceo el dataset"
   ]
  },
  {
   "cell_type": "code",
   "execution_count": 7,
   "id": "6b11a3fa",
   "metadata": {},
   "outputs": [],
   "source": [
    "def balance_df(X, y, ratio=0.3):\n",
    "    df = pd.DataFrame({'text': X_train, 'target': y_train})\n",
    "    df_class_0 = df[df['target'] == 0]\n",
    "    df_class_1 = df[df['target'] == 1]\n",
    "    df_class_1_len = df_class_1.shape[0]\n",
    "    \n",
    "    df_class_0_new = df_class_0.sample(int(df_class_1_len * (1-ratio)/ratio))\n",
    "    df_new = pd.concat([df_class_0_new, df_class_1]).sample(frac=1).reset_index(drop=True)\n",
    "    \n",
    "    X = df_new['text']\n",
    "    y = df_new['target']\n",
    "\n",
    "    return X, y\n",
    "\n",
    "X_train, y_train = balance_df(X_train,y_train)"
   ]
  },
  {
   "cell_type": "code",
   "execution_count": 8,
   "id": "78a096ea",
   "metadata": {},
   "outputs": [],
   "source": [
    "# Size of your embedding space = size to represent each word\n",
    "embedding_size = 32"
   ]
  },
  {
   "cell_type": "code",
   "execution_count": 9,
   "id": "b62bb0b5",
   "metadata": {},
   "outputs": [],
   "source": [
    "if DRIVE:\n",
    "    word2vec = Word2Vec(sentences=X_train, size=embedding_size, window=5, min_count=5) # colab\n",
    "else:\n",
    "    word2vec = Word2Vec(sentences=X_train, vector_size=embedding_size, window=5, min_count=5) # jupyter"
   ]
  },
  {
   "cell_type": "code",
   "execution_count": 10,
   "id": "15dc56cf",
   "metadata": {},
   "outputs": [
    {
     "data": {
      "text/plain": [
       "[('cunt', 0.8905279040336609),\n",
       " ('idiot', 0.8625967502593994),\n",
       " ('motherfucker', 0.8594926595687866),\n",
       " ('retard', 0.8496772646903992),\n",
       " ('prick', 0.8363613486289978),\n",
       " ('fucking', 0.8290894031524658),\n",
       " ('loser', 0.8249950408935547),\n",
       " ('retarded', 0.8243739008903503),\n",
       " ('bitch', 0.8214358687400818),\n",
       " ('faggot', 0.820199191570282)]"
      ]
     },
     "execution_count": 10,
     "metadata": {},
     "output_type": "execute_result"
    }
   ],
   "source": [
    "comm_1 = word2vec.wv.most_similar('asshole')\n",
    "comm_1"
   ]
  },
  {
   "cell_type": "code",
   "execution_count": 11,
   "id": "4a8c7a09",
   "metadata": {},
   "outputs": [
    {
     "data": {
      "text/plain": [
       "18126"
      ]
     },
     "execution_count": 11,
     "metadata": {},
     "output_type": "execute_result"
    }
   ],
   "source": [
    "if DRIVE:\n",
    "    vocab_size = len(word2vec.wv.vocab.keys()) # colab\n",
    "else:\n",
    "    vocab_size = len(word2vec.wv.key_to_index) # jupyter\n",
    "vocab_size"
   ]
  },
  {
   "cell_type": "code",
   "execution_count": 12,
   "id": "e447c9c9",
   "metadata": {},
   "outputs": [],
   "source": [
    "# Function to convert a sentence (list of words) into a matrix representing the words in the embedding space\n",
    "def embed_sentence(word2vec, sentence):\n",
    "    embedded_sentence = []\n",
    "    for word in sentence:\n",
    "        if word in word2vec.wv:\n",
    "            embedded_sentence.append(word2vec.wv[word])\n",
    "        \n",
    "    return np.array(embedded_sentence)\n",
    "\n",
    "# Function that converts a list of sentences into a list of matrices\n",
    "def embedding(word2vec, sentences):\n",
    "    embed = []\n",
    "    \n",
    "    for sentence in sentences:\n",
    "        embedded_sentence = embed_sentence(word2vec, sentence)\n",
    "        embed.append(embedded_sentence)\n",
    "        \n",
    "    return embed\n",
    "\n",
    "# Embed the training and test sentences\n",
    "X_train_embed = embedding(word2vec, X_train)\n",
    "X_test_embed = embedding(word2vec, X_test)"
   ]
  },
  {
   "cell_type": "code",
   "execution_count": 13,
   "id": "a1086486",
   "metadata": {},
   "outputs": [
    {
     "data": {
      "image/png": "[encoded data removed]",
      "text/plain": [
       "<Figure size 864x288 with 2 Axes>"
      ]
     },
     "metadata": {
      "needs_background": "light"
     },
     "output_type": "display_data"
    }
   ],
   "source": [
    "import matplotlib.pyplot as plt\n",
    "\n",
    "def plot_hist(X):\n",
    "    fig, (ax1, ax2) = plt.subplots(1, 2, figsize=(12,4))\n",
    "    len_ = [len(_) for _ in X]\n",
    "    ax1.hist(len_)\n",
    "    ax1.set_title('All length')\n",
    "    \n",
    "    len_2 = [len(_) for _ in X if len(_) < 300]\n",
    "    ax2.hist(len_2)\n",
    "    ax2.set_title('Only length < 300')\n",
    "    \n",
    "    plt.suptitle('Histogram of the number of sentences that have a given number of words')\n",
    "    plt.tight_layout(pad=1)\n",
    "    plt.show()\n",
    "    \n",
    "plot_hist(X_train_embed)"
   ]
  },
  {
   "cell_type": "code",
   "execution_count": 14,
   "id": "cf560ba8",
   "metadata": {},
   "outputs": [],
   "source": [
    "# Pad the training and test embedded sentences\n",
    "maxlen = 100\n",
    "X_train_pad = pad_sequences(X_train_embed, dtype='float32', padding='post', maxlen=maxlen)\n",
    "X_test_pad = pad_sequences(X_test_embed, dtype='float32', padding='post', maxlen=maxlen)"
   ]
  },
  {
   "cell_type": "code",
   "execution_count": 15,
   "id": "7e7cfab3",
   "metadata": {},
   "outputs": [
    {
     "data": {
      "text/plain": [
       "(63586, 100, 32)"
      ]
     },
     "execution_count": 15,
     "metadata": {},
     "output_type": "execute_result"
    }
   ],
   "source": [
    "X_train_pad.shape"
   ]
  },
  {
   "cell_type": "code",
   "execution_count": 16,
   "id": "8cd7ea01",
   "metadata": {},
   "outputs": [
    {
     "data": {
      "text/plain": [
       "(68847, 100, 32)"
      ]
     },
     "execution_count": 16,
     "metadata": {},
     "output_type": "execute_result"
    }
   ],
   "source": [
    "X_test_pad.shape"
   ]
  },
  {
   "cell_type": "code",
   "execution_count": 17,
   "id": "90f542f0",
   "metadata": {},
   "outputs": [],
   "source": [
    "# TEST ME\n",
    "for X in [X_train_pad, X_test_pad]:\n",
    "    assert type(X) == np.ndarray\n",
    "    assert X.shape[-1] == word2vec.wv.vector_size\n",
    "\n",
    "\n",
    "assert X_train_pad.shape[0] == len(X_train)\n",
    "assert X_test_pad.shape[0] == len(X_test)"
   ]
  },
  {
   "cell_type": "code",
   "execution_count": 18,
   "id": "d9a1fe76",
   "metadata": {},
   "outputs": [],
   "source": [
    "input_shape = (maxlen,embedding_size)"
   ]
  },
  {
   "cell_type": "markdown",
   "id": "0589b66c",
   "metadata": {},
   "source": [
    "# Deep Learning Models "
   ]
  },
  {
   "cell_type": "code",
   "execution_count": 19,
   "id": "4e7aebec",
   "metadata": {},
   "outputs": [],
   "source": [
    "es = EarlyStopping(patience=5, restore_best_weights=True)"
   ]
  },
  {
   "cell_type": "code",
   "execution_count": 34,
   "id": "057c6e4c",
   "metadata": {},
   "outputs": [],
   "source": [
    "def print_metrics(result):\n",
    "    for metric, value in zip(['Loss', 'Accuracy', 'Recall', 'Precision'], result):\n",
    "        print(f'{metric}: {value:.2f}')"
   ]
  },
  {
   "cell_type": "markdown",
   "id": "d965957c",
   "metadata": {},
   "source": [
    "## SimpleRNN Model"
   ]
  },
  {
   "cell_type": "raw",
   "id": "c011ce52",
   "metadata": {},
   "source": [
    "def init_model_rnn():\n",
    "\n",
    "    model = Sequential()\n",
    "    \n",
    "    model.add(Masking(mask_value=0, input_shape=input_shape))\n",
    "    \n",
    "    model.add(SimpleRNN(20, activation='tanh'))\n",
    "    \n",
    "    model.add(Dense(10, activation='relu'))\n",
    "    \n",
    "    model.add(Dense(1, activation='sigmoid'))\n",
    "    \n",
    "    model.compile(loss='binary_crossentropy',\n",
    "                  optimizer='rmsprop',\n",
    "                  metrics=Recall())\n",
    "    \n",
    "    model.summary()\n",
    "    \n",
    "    return model\n",
    "\n",
    "model_rnn = init_model_rnn()"
   ]
  },
  {
   "cell_type": "raw",
   "id": "0d2c3fdb",
   "metadata": {},
   "source": [
    "%%time\n",
    "history_rnn = model_rnn.fit(X_train_pad, y_train, validation_split=0.3, callbacks=es, verbose=1, batch_size=128, epochs=100)"
   ]
  },
  {
   "cell_type": "raw",
   "id": "71595fbf",
   "metadata": {},
   "source": [
    "res_rnn = model_rnn.evaluate(X_test_pad, y_test, verbose=0)\n",
    "\n",
    "print(f'The recall evaluated on the test set is of {res_rnn[1]*100:.1f}%')"
   ]
  },
  {
   "cell_type": "markdown",
   "id": "68435939",
   "metadata": {},
   "source": [
    "## LSTM Model"
   ]
  },
  {
   "cell_type": "raw",
   "id": "d68680ce",
   "metadata": {},
   "source": [
    "def init_model_lstm():\n",
    "\n",
    "    model = Sequential()\n",
    "    \n",
    "    model.add(Masking(mask_value=0, input_shape=input_shape))\n",
    "    \n",
    "    model.add(LSTM(20, activation='tanh'))\n",
    "    \n",
    "    model.add(Dense(10, activation='relu'))\n",
    "    \n",
    "    model.add(Dense(1, activation='sigmoid'))\n",
    "    \n",
    "    model.compile(loss='binary_crossentropy',\n",
    "                  optimizer='rmsprop',\n",
    "                  metrics=Recall())\n",
    "    \n",
    "    model.summary()\n",
    "    \n",
    "    return model\n",
    "\n",
    "model_lstm = init_model_lstm()"
   ]
  },
  {
   "cell_type": "raw",
   "id": "ebd541ef",
   "metadata": {},
   "source": [
    "%%time\n",
    "history_lstm = model_lstm.fit(X_train_pad, y_train, validation_split=0.3, callbacks=es, verbose=1, batch_size=128, epochs=100)"
   ]
  },
  {
   "cell_type": "raw",
   "id": "f33c6cf7",
   "metadata": {},
   "source": [
    "res_lstm = model_lstm.evaluate(X_test_pad, y_test, verbose=0)\n",
    "\n",
    "print(f'The recall evaluated on the test set is of {res_lstm[1]*100:.1f}%')"
   ]
  },
  {
   "cell_type": "markdown",
   "id": "7352f756",
   "metadata": {},
   "source": [
    "## GRU Model"
   ]
  },
  {
   "cell_type": "raw",
   "id": "73fc7541",
   "metadata": {},
   "source": [
    "def init_model_gru():\n",
    "\n",
    "    model = Sequential()\n",
    "    \n",
    "    model.add(Masking(mask_value=0, input_shape=input_shape))\n",
    "    \n",
    "    model.add(LSTM(20, activation='tanh'))\n",
    "    \n",
    "    model.add(Dense(10, activation='relu'))\n",
    "    \n",
    "    model.add(Dense(1, activation='sigmoid'))\n",
    "    \n",
    "    model.compile(loss='binary_crossentropy',\n",
    "                  optimizer='rmsprop',\n",
    "                  metrics=Recall())\n",
    "    \n",
    "    model.summary()\n",
    "    \n",
    "    return model\n",
    "\n",
    "model_gru = init_model_gru()"
   ]
  },
  {
   "cell_type": "raw",
   "id": "79f6c802",
   "metadata": {},
   "source": [
    "%%time\n",
    "history_gru = model_gru.fit(X_train_pad, y_train, validation_split=0.3, callbacks=es, verbose=1, batch_size=128, epochs=100)"
   ]
  },
  {
   "cell_type": "raw",
   "id": "475491b2",
   "metadata": {},
   "source": [
    "res_gru = model_gru.evaluate(X_test_pad, y_test, verbose=0)\n",
    "\n",
    "print(f'The recall evaluated on the test set is of {res_gru[1]*100:.1f}%')"
   ]
  },
  {
   "cell_type": "markdown",
   "id": "8318317f",
   "metadata": {},
   "source": [
    "Best base model: GRU"
   ]
  },
  {
   "cell_type": "markdown",
   "id": "48de38d5",
   "metadata": {},
   "source": [
    "## Tunning GRU Model"
   ]
  },
  {
   "cell_type": "markdown",
   "id": "8707731c",
   "metadata": {},
   "source": [
    "### "
   ]
  },
  {
   "cell_type": "raw",
   "id": "0a692787",
   "metadata": {},
   "source": [
    "def init_model_gru_2():\n",
    "\n",
    "    model = Sequential()\n",
    "    \n",
    "    model.add(Masking(mask_value=0, input_shape=input_shape))\n",
    "    \n",
    "    model.add(LSTM(32, activation='tanh'))\n",
    "    \n",
    "    model.add(Dense(10, activation='relu'))\n",
    "    \n",
    "    model.add(Dense(1, activation='sigmoid'))\n",
    "    \n",
    "    model.compile(loss='binary_crossentropy',\n",
    "                  optimizer='rmsprop',\n",
    "                  metrics=Recall())\n",
    "    \n",
    "    model.summary()\n",
    "    \n",
    "    return model\n",
    "\n",
    "model_gru_2 = init_model_gru_2()"
   ]
  },
  {
   "cell_type": "raw",
   "id": "96ed247d",
   "metadata": {},
   "source": [
    "%%time\n",
    "history_gru_2 = model_gru_2.fit(X_train_pad, y_train, validation_split=0.3, callbacks=es, verbose=1, batch_size=128, epochs=100)"
   ]
  },
  {
   "cell_type": "raw",
   "id": "7621e950",
   "metadata": {},
   "source": [
    "res_gru_2 = model_gru_2.evaluate(X_test_pad, y_test, verbose=0)\n",
    "\n",
    "print(f'The recall evaluated on the test set is of {res_gru_2[1]*100:.1f}%')"
   ]
  },
  {
   "cell_type": "code",
   "execution_count": 20,
   "id": "a9131d93",
   "metadata": {},
   "outputs": [
    {
     "name": "stderr",
     "output_type": "stream",
     "text": [
      "2022-03-08 21:39:36.241765: I tensorflow/stream_executor/cuda/cuda_gpu_executor.cc:925] could not open file to read NUMA node: /sys/bus/pci/devices/0000:01:00.0/numa_node\n",
      "Your kernel may have been built without NUMA support.\n",
      "2022-03-08 21:39:36.244754: W tensorflow/stream_executor/platform/default/dso_loader.cc:64] Could not load dynamic library 'libcusolver.so.11'; dlerror: libcusolver.so.11: cannot open shared object file: No such file or directory\n",
      "2022-03-08 21:39:36.245376: W tensorflow/core/common_runtime/gpu/gpu_device.cc:1850] Cannot dlopen some GPU libraries. Please make sure the missing libraries mentioned above are installed properly if you would like to use GPU. Follow the guide at https://www.tensorflow.org/install/gpu for how to download and setup the required libraries for your platform.\n",
      "Skipping registering GPU devices...\n",
      "2022-03-08 21:39:36.246110: I tensorflow/core/platform/cpu_feature_guard.cc:151] This TensorFlow binary is optimized with oneAPI Deep Neural Network Library (oneDNN) to use the following CPU instructions in performance-critical operations:  AVX2 FMA\n",
      "To enable them in other operations, rebuild TensorFlow with the appropriate compiler flags.\n"
     ]
    },
    {
     "name": "stdout",
     "output_type": "stream",
     "text": [
      "Model: \"sequential\"\n",
      "_________________________________________________________________\n",
      " Layer (type)                Output Shape              Param #   \n",
      "=================================================================\n",
      " masking (Masking)           (None, 100, 32)           0         \n",
      "                                                                 \n",
      " lstm (LSTM)                 (None, 16)                3136      \n",
      "                                                                 \n",
      " dense (Dense)               (None, 10)                170       \n",
      "                                                                 \n",
      " dense_1 (Dense)             (None, 1)                 11        \n",
      "                                                                 \n",
      "=================================================================\n",
      "Total params: 3,317\n",
      "Trainable params: 3,317\n",
      "Non-trainable params: 0\n",
      "_________________________________________________________________\n"
     ]
    }
   ],
   "source": [
    "def init_model_gru_3():\n",
    "\n",
    "    model = Sequential()\n",
    "    \n",
    "    model.add(Masking(mask_value=0, input_shape=input_shape))\n",
    "    \n",
    "    model.add(LSTM(16, activation='tanh'))\n",
    "    \n",
    "    model.add(Dense(10, activation='relu'))\n",
    "    \n",
    "    model.add(Dense(1, activation='sigmoid'))\n",
    "    \n",
    "    model.compile(loss='binary_crossentropy',\n",
    "                  optimizer='rmsprop',\n",
    "                  metrics=['accuracy', Recall(), Precision()])\n",
    "    \n",
    "    model.summary()\n",
    "    \n",
    "    return model\n",
    "\n",
    "model_gru_3 = init_model_gru_3()"
   ]
  },
  {
   "cell_type": "code",
   "execution_count": 21,
   "id": "7c1e394b",
   "metadata": {},
   "outputs": [
    {
     "name": "stdout",
     "output_type": "stream",
     "text": [
      "Epoch 1/100\n",
      "696/696 [==============================] - 49s 66ms/step - loss: 0.3984 - accuracy: 0.8180 - recall: 0.6614 - precision: 0.7126 - val_loss: 0.3478 - val_accuracy: 0.8480 - val_recall: 0.7029 - val_precision: 0.7683\n",
      "Epoch 2/100\n",
      "696/696 [==============================] - 45s 65ms/step - loss: 0.3359 - accuracy: 0.8486 - recall: 0.7183 - precision: 0.7640 - val_loss: 0.3232 - val_accuracy: 0.8583 - val_recall: 0.7475 - val_precision: 0.7709\n",
      "Epoch 3/100\n",
      "696/696 [==============================] - 43s 62ms/step - loss: 0.3193 - accuracy: 0.8562 - recall: 0.7341 - precision: 0.7755 - val_loss: 0.3141 - val_accuracy: 0.8612 - val_recall: 0.7651 - val_precision: 0.7688\n",
      "Epoch 4/100\n",
      "696/696 [==============================] - 42s 61ms/step - loss: 0.3106 - accuracy: 0.8610 - recall: 0.7423 - precision: 0.7840 - val_loss: 0.3091 - val_accuracy: 0.8639 - val_recall: 0.7032 - val_precision: 0.8154\n",
      "Epoch 5/100\n",
      "696/696 [==============================] - 43s 61ms/step - loss: 0.3040 - accuracy: 0.8640 - recall: 0.7484 - precision: 0.7885 - val_loss: 0.3022 - val_accuracy: 0.8676 - val_recall: 0.7406 - val_precision: 0.8008\n",
      "Epoch 6/100\n",
      "696/696 [==============================] - 43s 61ms/step - loss: 0.2985 - accuracy: 0.8671 - recall: 0.7546 - precision: 0.7934 - val_loss: 0.3036 - val_accuracy: 0.8674 - val_recall: 0.7150 - val_precision: 0.8180\n",
      "Epoch 7/100\n",
      "696/696 [==============================] - 45s 65ms/step - loss: 0.2942 - accuracy: 0.8693 - recall: 0.7570 - precision: 0.7978 - val_loss: 0.3023 - val_accuracy: 0.8675 - val_recall: 0.7108 - val_precision: 0.8213\n",
      "Epoch 8/100\n",
      "696/696 [==============================] - 44s 63ms/step - loss: 0.2914 - accuracy: 0.8712 - recall: 0.7605 - precision: 0.8009 - val_loss: 0.2981 - val_accuracy: 0.8705 - val_recall: 0.7475 - val_precision: 0.8049\n",
      "Epoch 9/100\n",
      "696/696 [==============================] - 42s 60ms/step - loss: 0.2883 - accuracy: 0.8734 - recall: 0.7643 - precision: 0.8047 - val_loss: 0.2959 - val_accuracy: 0.8710 - val_recall: 0.7810 - val_precision: 0.7857\n",
      "Epoch 10/100\n",
      "696/696 [==============================] - 42s 60ms/step - loss: 0.2848 - accuracy: 0.8748 - recall: 0.7648 - precision: 0.8083 - val_loss: 0.2981 - val_accuracy: 0.8696 - val_recall: 0.8130 - val_precision: 0.7650\n",
      "Epoch 11/100\n",
      "696/696 [==============================] - 41s 60ms/step - loss: 0.2829 - accuracy: 0.8762 - recall: 0.7725 - precision: 0.8073 - val_loss: 0.2963 - val_accuracy: 0.8744 - val_recall: 0.7503 - val_precision: 0.8145\n",
      "Epoch 12/100\n",
      "696/696 [==============================] - 42s 60ms/step - loss: 0.2801 - accuracy: 0.8778 - recall: 0.7704 - precision: 0.8131 - val_loss: 0.2954 - val_accuracy: 0.8752 - val_recall: 0.7600 - val_precision: 0.8103\n",
      "Epoch 13/100\n",
      "696/696 [==============================] - 42s 60ms/step - loss: 0.2782 - accuracy: 0.8777 - recall: 0.7741 - precision: 0.8107 - val_loss: 0.3006 - val_accuracy: 0.8692 - val_recall: 0.8084 - val_precision: 0.7663\n",
      "Epoch 14/100\n",
      "696/696 [==============================] - 41s 60ms/step - loss: 0.2763 - accuracy: 0.8780 - recall: 0.7748 - precision: 0.8109 - val_loss: 0.2953 - val_accuracy: 0.8735 - val_recall: 0.7421 - val_precision: 0.8173\n",
      "Epoch 15/100\n",
      "696/696 [==============================] - 41s 59ms/step - loss: 0.2743 - accuracy: 0.8794 - recall: 0.7779 - precision: 0.8129 - val_loss: 0.3062 - val_accuracy: 0.8621 - val_recall: 0.8344 - val_precision: 0.7380\n",
      "Epoch 16/100\n",
      "696/696 [==============================] - 41s 59ms/step - loss: 0.2726 - accuracy: 0.8795 - recall: 0.7794 - precision: 0.8122 - val_loss: 0.3002 - val_accuracy: 0.8713 - val_recall: 0.8135 - val_precision: 0.7688\n",
      "Epoch 17/100\n",
      "696/696 [==============================] - 42s 60ms/step - loss: 0.2710 - accuracy: 0.8804 - recall: 0.7806 - precision: 0.8140 - val_loss: 0.2939 - val_accuracy: 0.8726 - val_recall: 0.7510 - val_precision: 0.8087\n",
      "Epoch 18/100\n",
      "696/696 [==============================] - 43s 62ms/step - loss: 0.2695 - accuracy: 0.8818 - recall: 0.7822 - precision: 0.8169 - val_loss: 0.3025 - val_accuracy: 0.8691 - val_recall: 0.7076 - val_precision: 0.8287\n",
      "Epoch 19/100\n",
      "696/696 [==============================] - 43s 61ms/step - loss: 0.2677 - accuracy: 0.8818 - recall: 0.7818 - precision: 0.8171 - val_loss: 0.3107 - val_accuracy: 0.8653 - val_recall: 0.8328 - val_precision: 0.7458\n",
      "Epoch 20/100\n",
      "696/696 [==============================] - 43s 62ms/step - loss: 0.2668 - accuracy: 0.8829 - recall: 0.7866 - precision: 0.8170 - val_loss: 0.2937 - val_accuracy: 0.8722 - val_recall: 0.7745 - val_precision: 0.7926\n",
      "Epoch 21/100\n",
      "696/696 [==============================] - 41s 59ms/step - loss: 0.2651 - accuracy: 0.8841 - recall: 0.7857 - precision: 0.8211 - val_loss: 0.2953 - val_accuracy: 0.8728 - val_recall: 0.7833 - val_precision: 0.7891\n",
      "Epoch 22/100\n",
      "696/696 [==============================] - 43s 62ms/step - loss: 0.2637 - accuracy: 0.8837 - recall: 0.7891 - precision: 0.8176 - val_loss: 0.2970 - val_accuracy: 0.8714 - val_recall: 0.7982 - val_precision: 0.7770\n",
      "Epoch 23/100\n",
      "696/696 [==============================] - 41s 59ms/step - loss: 0.2629 - accuracy: 0.8844 - recall: 0.7904 - precision: 0.8188 - val_loss: 0.2964 - val_accuracy: 0.8725 - val_recall: 0.7770 - val_precision: 0.7919\n",
      "Epoch 24/100\n",
      "696/696 [==============================] - 42s 60ms/step - loss: 0.2612 - accuracy: 0.8857 - recall: 0.7906 - precision: 0.8224 - val_loss: 0.3063 - val_accuracy: 0.8704 - val_recall: 0.7180 - val_precision: 0.8252\n",
      "Epoch 25/100\n",
      "696/696 [==============================] - 42s 61ms/step - loss: 0.2602 - accuracy: 0.8858 - recall: 0.7907 - precision: 0.8224 - val_loss: 0.2984 - val_accuracy: 0.8719 - val_recall: 0.7821 - val_precision: 0.7873\n",
      "CPU times: user 52min 52s, sys: 28min 27s, total: 1h 21min 20s\n",
      "Wall time: 17min 47s\n"
     ]
    }
   ],
   "source": [
    "%%time\n",
    "history_gru_3 = model_gru_3.fit(X_train_pad, y_train, validation_split=0.3, callbacks=es, verbose=1, batch_size=64, epochs=100)"
   ]
  },
  {
   "cell_type": "code",
   "execution_count": 22,
   "id": "da92c889",
   "metadata": {},
   "outputs": [
    {
     "name": "stdout",
     "output_type": "stream",
     "text": [
      "  12/2152 [..............................] - ETA: 21s - loss: 0.2984 - accuracy: 0.8333 - recall: 0.6286 - precision: 0.3014"
     ]
    },
    {
     "name": "stderr",
     "output_type": "stream",
     "text": [
      "2022-03-08 21:57:24.853507: W tensorflow/core/framework/cpu_allocator_impl.cc:82] Allocation of 881241600 exceeds 10% of free system memory.\n"
     ]
    },
    {
     "name": "stdout",
     "output_type": "stream",
     "text": [
      "2152/2152 [==============================] - 22s 10ms/step - loss: 0.2406 - accuracy: 0.8952 - recall: 0.7633 - precision: 0.5434\n"
     ]
    }
   ],
   "source": [
    "res_gru_3 = model_gru_3.evaluate(X_test_pad, y_test, verbose=1)\n",
    "print_metrics(res_gru_3)"
   ]
  },
  {
   "cell_type": "code",
   "execution_count": 35,
   "id": "b08df4c6",
   "metadata": {},
   "outputs": [
    {
     "name": "stdout",
     "output_type": "stream",
     "text": [
      "Loss: 0.24\n",
      "Accuracy: 0.90\n",
      "Recall: 0.76\n",
      "Precision: 0.54\n"
     ]
    }
   ],
   "source": [
    "print_metrics(res_gru_3)"
   ]
  },
  {
   "cell_type": "code",
   "execution_count": 37,
   "id": "6d4d0244",
   "metadata": {},
   "outputs": [
    {
     "name": "stderr",
     "output_type": "stream",
     "text": [
      "2022-03-08 23:17:36.873060: W tensorflow/python/util/util.cc:368] Sets are not currently considered sequences, but this may change in the future, so consider avoiding using them.\n",
      "WARNING:absl:Found untraced functions such as lstm_cell_layer_call_fn, lstm_cell_layer_call_and_return_conditional_losses, lstm_cell_layer_call_fn, lstm_cell_layer_call_and_return_conditional_losses, lstm_cell_layer_call_and_return_conditional_losses while saving (showing 5 of 5). These functions will not be directly callable after loading.\n"
     ]
    },
    {
     "name": "stdout",
     "output_type": "stream",
     "text": [
      "INFO:tensorflow:Assets written to: ram://0f027b57-59bf-4634-941d-ada9bc526e54/assets\n"
     ]
    },
    {
     "name": "stderr",
     "output_type": "stream",
     "text": [
      "INFO:tensorflow:Assets written to: ram://0f027b57-59bf-4634-941d-ada9bc526e54/assets\n",
      "WARNING:absl:<keras.layers.recurrent.LSTMCell object at 0x7f9d818e4b50> has the same name 'LSTMCell' as a built-in Keras object. Consider renaming <class 'keras.layers.recurrent.LSTMCell'> to avoid naming conflicts when loading with `tf.keras.models.load_model`. If renaming is not possible, pass the object in the `custom_objects` parameter of the load function.\n"
     ]
    },
    {
     "data": {
      "text/plain": [
       "['model_gru_3.joblib']"
      ]
     },
     "execution_count": 37,
     "metadata": {},
     "output_type": "execute_result"
    }
   ],
   "source": [
    "joblib.dump(model_gru_3, 'model_gru_3.joblib')"
   ]
  },
  {
   "cell_type": "code",
   "execution_count": null,
   "id": "4959a249",
   "metadata": {},
   "outputs": [],
   "source": []
  }
 ],
 "metadata": {
  "kernelspec": {
   "display_name": "Python 3 (ipykernel)",
   "language": "python",
   "name": "python3"
  },
  "language_info": {
   "codemirror_mode": {
    "name": "ipython",
    "version": 3
   },
   "file_extension": ".py",
   "mimetype": "text/x-python",
   "name": "python",
   "nbconvert_exporter": "python",
   "pygments_lexer": "ipython3",
   "version": "3.8.12"
  },
  "toc": {
   "base_numbering": 1,
   "nav_menu": {},
   "number_sections": true,
   "sideBar": true,
   "skip_h1_title": false,
   "title_cell": "Table of Contents",
   "title_sidebar": "Contents",
   "toc_cell": false,
   "toc_position": {},
   "toc_section_display": true,
   "toc_window_display": false
  }
 },
 "nbformat": 4,
 "nbformat_minor": 5
}
