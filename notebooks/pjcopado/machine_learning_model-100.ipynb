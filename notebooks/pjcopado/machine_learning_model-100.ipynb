{
 "cells": [
  {
   "cell_type": "code",
   "execution_count": 1,
   "id": "965501fa",
   "metadata": {},
   "outputs": [],
   "source": [
    "import numpy as np\n",
    "import pandas as pd\n",
    "import matplotlib.pyplot as plt\n",
    "import seaborn as sns\n",
    "\n",
    "from time import time\n",
    "\n",
    "from sklearn.model_selection import train_test_split, GridSearchCV\n",
    "from sklearn.feature_extraction.text import CountVectorizer\n",
    "from sklearn.metrics import f1_score, accuracy_score, precision_score, recall_score, make_scorer\n",
    "\n",
    "from sklearn.naive_bayes import MultinomialNB\n",
    "from sklearn.tree import DecisionTreeClassifier\n",
    "from sklearn.svm import LinearSVC\n",
    "from sklearn.ensemble import AdaBoostClassifier, RandomForestClassifier, BaggingClassifier\n",
    "from sklearn.linear_model import LogisticRegression, SGDClassifier\n",
    "from sklearn.neighbors import KNeighborsClassifier\n",
    "import joblib"
   ]
  },
  {
   "cell_type": "code",
   "execution_count": 2,
   "id": "168f569b",
   "metadata": {},
   "outputs": [
    {
     "data": {
      "text/html": [
       "<div>\n",
       "<style scoped>\n",
       "    .dataframe tbody tr th:only-of-type {\n",
       "        vertical-align: middle;\n",
       "    }\n",
       "\n",
       "    .dataframe tbody tr th {\n",
       "        vertical-align: top;\n",
       "    }\n",
       "\n",
       "    .dataframe thead th {\n",
       "        text-align: right;\n",
       "    }\n",
       "</style>\n",
       "<table border=\"1\" class=\"dataframe\">\n",
       "  <thead>\n",
       "    <tr style=\"text-align: right;\">\n",
       "      <th></th>\n",
       "      <th>text</th>\n",
       "      <th>target</th>\n",
       "    </tr>\n",
       "  </thead>\n",
       "  <tbody>\n",
       "    <tr>\n",
       "      <th>0</th>\n",
       "      <td>this one can make an analogy in mathematical t...</td>\n",
       "      <td>0</td>\n",
       "    </tr>\n",
       "    <tr>\n",
       "      <th>1</th>\n",
       "      <td>clarification for you  and zundarks right i ...</td>\n",
       "      <td>0</td>\n",
       "    </tr>\n",
       "    <tr>\n",
       "      <th>2</th>\n",
       "      <td>elected or electoral jhk</td>\n",
       "      <td>0</td>\n",
       "    </tr>\n",
       "    <tr>\n",
       "      <th>3</th>\n",
       "      <td>this is such a fun entry   devotchka  i once h...</td>\n",
       "      <td>0</td>\n",
       "    </tr>\n",
       "    <tr>\n",
       "      <th>4</th>\n",
       "      <td>please relate the ozone hole to increases in c...</td>\n",
       "      <td>0</td>\n",
       "    </tr>\n",
       "  </tbody>\n",
       "</table>\n",
       "</div>"
      ],
      "text/plain": [
       "                                                text  target\n",
       "0  this one can make an analogy in mathematical t...       0\n",
       "1    clarification for you  and zundarks right i ...       0\n",
       "2                           elected or electoral jhk       0\n",
       "3  this is such a fun entry   devotchka  i once h...       0\n",
       "4  please relate the ozone hole to increases in c...       0"
      ]
     },
     "execution_count": 2,
     "metadata": {},
     "output_type": "execute_result"
    }
   ],
   "source": [
    "df = pd.read_csv('../../cyberbullying/data/data.csv')\n",
    "df.head()"
   ]
  },
  {
   "cell_type": "code",
   "execution_count": 3,
   "id": "8f893bf9",
   "metadata": {},
   "outputs": [
    {
     "data": {
      "text/plain": [
       "(158883, 2)"
      ]
     },
     "execution_count": 3,
     "metadata": {},
     "output_type": "execute_result"
    }
   ],
   "source": [
    "df.shape"
   ]
  },
  {
   "cell_type": "code",
   "execution_count": 4,
   "id": "6eed49c8",
   "metadata": {},
   "outputs": [
    {
     "data": {
      "text/html": [
       "<div>\n",
       "<style scoped>\n",
       "    .dataframe tbody tr th:only-of-type {\n",
       "        vertical-align: middle;\n",
       "    }\n",
       "\n",
       "    .dataframe tbody tr th {\n",
       "        vertical-align: top;\n",
       "    }\n",
       "\n",
       "    .dataframe thead th {\n",
       "        text-align: right;\n",
       "    }\n",
       "</style>\n",
       "<table border=\"1\" class=\"dataframe\">\n",
       "  <thead>\n",
       "    <tr style=\"text-align: right;\">\n",
       "      <th></th>\n",
       "      <th>text</th>\n",
       "      <th>target</th>\n",
       "    </tr>\n",
       "  </thead>\n",
       "  <tbody>\n",
       "    <tr>\n",
       "      <th>0</th>\n",
       "      <td>one make analogy mathematical terms envisionin...</td>\n",
       "      <td>0</td>\n",
       "    </tr>\n",
       "    <tr>\n",
       "      <th>1</th>\n",
       "      <td>clarification zundarks right checked wikipedia...</td>\n",
       "      <td>0</td>\n",
       "    </tr>\n",
       "    <tr>\n",
       "      <th>2</th>\n",
       "      <td>elected electoral jhk</td>\n",
       "      <td>0</td>\n",
       "    </tr>\n",
       "    <tr>\n",
       "      <th>3</th>\n",
       "      <td>fun entry devotchka coworker korea couldnt tel...</td>\n",
       "      <td>0</td>\n",
       "    </tr>\n",
       "    <tr>\n",
       "      <th>4</th>\n",
       "      <td>please relate ozone hole increases cancer prov...</td>\n",
       "      <td>0</td>\n",
       "    </tr>\n",
       "  </tbody>\n",
       "</table>\n",
       "</div>"
      ],
      "text/plain": [
       "                                                text  target\n",
       "0  one make analogy mathematical terms envisionin...       0\n",
       "1  clarification zundarks right checked wikipedia...       0\n",
       "2                              elected electoral jhk       0\n",
       "3  fun entry devotchka coworker korea couldnt tel...       0\n",
       "4  please relate ozone hole increases cancer prov...       0"
      ]
     },
     "execution_count": 4,
     "metadata": {},
     "output_type": "execute_result"
    }
   ],
   "source": [
    "df_lem = pd.read_csv('../../cyberbullying/data/data_lem.csv')\n",
    "df_lem.head()"
   ]
  },
  {
   "cell_type": "code",
   "execution_count": 5,
   "id": "d679d057",
   "metadata": {},
   "outputs": [
    {
     "data": {
      "text/plain": [
       "(157203, 2)"
      ]
     },
     "execution_count": 5,
     "metadata": {},
     "output_type": "execute_result"
    }
   ],
   "source": [
    "df_lem.shape"
   ]
  },
  {
   "cell_type": "code",
   "execution_count": 6,
   "id": "09eb0431",
   "metadata": {},
   "outputs": [],
   "source": [
    "def plot_dist(df):\n",
    "    plt.figure(figsize = (7,7))\n",
    "    sorted_counts = df['target'].value_counts()\n",
    "    plt.pie(sorted_counts, labels = ['not bullying', 'bullying'], startangle = 90, counterclock = False,\n",
    "            wedgeprops = {'width' : 0.6}, autopct='%1.1f%%', pctdistance = 0.7,\n",
    "            textprops = {'color': 'black', 'fontsize' : 15}, shadow = True,\n",
    "            colors = sns.color_palette(\"Paired\")[7:])\n",
    "    plt.text(x = -0.35, y = 0, s = f'Total comments: {df.shape[0]}')\n",
    "    plt.title('Distribution of Comments in the Dataset', fontsize = 16);"
   ]
  },
  {
   "cell_type": "code",
   "execution_count": 7,
   "id": "16142bfa",
   "metadata": {},
   "outputs": [
    {
     "data": {
      "image/png": "[encoded data removed]",
      "text/plain": [
       "<Figure size 504x504 with 1 Axes>"
      ]
     },
     "metadata": {},
     "output_type": "display_data"
    }
   ],
   "source": [
    "plot_dist(df)"
   ]
  },
  {
   "cell_type": "code",
   "execution_count": 8,
   "id": "87155650",
   "metadata": {},
   "outputs": [],
   "source": [
    "percentage_used = 1\n",
    "df_sample = df_lem.sample(frac=percentage_used, random_state=0)"
   ]
  },
  {
   "cell_type": "code",
   "execution_count": 9,
   "id": "c0a37aaa",
   "metadata": {},
   "outputs": [
    {
     "data": {
      "image/png": "[encoded data removed]",
      "text/plain": [
       "<Figure size 504x504 with 1 Axes>"
      ]
     },
     "metadata": {},
     "output_type": "display_data"
    }
   ],
   "source": [
    "plot_dist(df_sample)"
   ]
  },
  {
   "cell_type": "code",
   "execution_count": 10,
   "id": "0b0aaba0",
   "metadata": {},
   "outputs": [],
   "source": [
    "X_train, X_test, y_train, y_test = train_test_split(df_sample['text'], df_sample['target'], test_size=0.3, random_state=0)"
   ]
  },
  {
   "cell_type": "code",
   "execution_count": 11,
   "id": "339e3fe4",
   "metadata": {},
   "outputs": [],
   "source": [
    "# Instantiate the CountVectorizer method\n",
    "count_vector = CountVectorizer()\n",
    "\n",
    "# Fit the training data and then return the matrix\n",
    "X_train_vec = count_vector.fit_transform(X_train)\n",
    "\n",
    "# Transform testing data and return the matrix. Note we are not fitting the testing data into the CountVectorizer()\n",
    "X_test_vec = count_vector.transform(X_test)"
   ]
  },
  {
   "cell_type": "code",
   "execution_count": 12,
   "id": "48d60706",
   "metadata": {},
   "outputs": [],
   "source": [
    "training_data = X_train_vec\n",
    "testing_data = X_test_vec"
   ]
  },
  {
   "cell_type": "code",
   "execution_count": 13,
   "id": "0bf47de4",
   "metadata": {},
   "outputs": [],
   "source": [
    "def pipeline(learner_list, X_train, y_train, X_test, y_test): \n",
    "    '''\n",
    "    inputs:\n",
    "       - learner: the learning algorithm to be trained and predicted on\n",
    "       - X_train: features training set\n",
    "       - y_train: income training set\n",
    "       - X_test: features testing set\n",
    "       - y_test: income testing set\n",
    "    '''\n",
    "    \n",
    "    # Get length of Training Data:\n",
    "    size = len(y_train)\n",
    "    \n",
    "    results = {}\n",
    "    final_results = []\n",
    "    \n",
    "    for learner in learner_list:\n",
    "        \n",
    "        # Store the learner name:\n",
    "        results['Algorithm'] = learner.__class__.__name__\n",
    "\n",
    "        # Fit the learner:\n",
    "        start = time() # Get start time\n",
    "        print(\"Training {}\".format(learner.__class__.__name__))\n",
    "        learner = learner.fit(X_train, y_train)\n",
    "        end = time() # Get end time\n",
    "\n",
    "        # Store the training time\n",
    "        results['Training Time'] = end - start\n",
    "\n",
    "        start = time() # Get start time\n",
    "        predictions_test = learner.predict(X_test)\n",
    "        predictions_train = learner.predict(X_train)\n",
    "        end = time() # Get end time\n",
    "\n",
    "        # Store the prediction time\n",
    "        results['Prediction Time'] = end - start\n",
    "\n",
    "        # Compute the Accuracy on Test Set\n",
    "        results['Accuracy: Test'] = accuracy_score(y_test, predictions_test)\n",
    "\n",
    "        # Compute the Accuracy on Training Set\n",
    "        results['Accuracy: Train'] = accuracy_score(y_train, predictions_train)\n",
    "\n",
    "        # Compute the F1 Score on Test Set\n",
    "        results['F1 Score: Test'] = f1_score(y_test, predictions_test)\n",
    "\n",
    "        # Compute the F1 Score on Training Set\n",
    "        results['F1 Score: Train'] = f1_score(y_train, predictions_train)\n",
    "\n",
    "        # Compute the Precision on Test Set\n",
    "        results['Precision: Test'] = precision_score(y_test, predictions_test)\n",
    "\n",
    "        # Compute the Precision on Training Set\n",
    "        results['Precision: Train'] = precision_score(y_train, predictions_train)\n",
    "\n",
    "        # Compute the Recall on Test Set\n",
    "        results['Recall: Test'] = recall_score(y_test, predictions_test)\n",
    "\n",
    "        # Compute the Recall on Training Set\n",
    "        results['Recall: Train'] = recall_score(y_train, predictions_train)\n",
    "\n",
    "        # Success\n",
    "        print(\"Training {} finished in {:.2f} sec\".format(learner.__class__.__name__, results['Training Time']))\n",
    "        print('----------------------------------------------------')\n",
    "        \n",
    "        final_results.append(results.copy())\n",
    "    # Return a dataframe of the results\n",
    "    return final_results"
   ]
  },
  {
   "cell_type": "code",
   "execution_count": 14,
   "id": "23dc17e4",
   "metadata": {},
   "outputs": [],
   "source": [
    "# make a list of models\n",
    "models = [MultinomialNB(),\n",
    "          DecisionTreeClassifier(),\n",
    "          LinearSVC(),\n",
    "          AdaBoostClassifier(),\n",
    "          RandomForestClassifier(),\n",
    "          BaggingClassifier(),\n",
    "          LogisticRegression(solver='liblinear'),\n",
    "          SGDClassifier(),\n",
    "          KNeighborsClassifier()\n",
    "]"
   ]
  },
  {
   "cell_type": "code",
   "execution_count": 15,
   "id": "51fdae23",
   "metadata": {},
   "outputs": [
    {
     "name": "stdout",
     "output_type": "stream",
     "text": [
      "Training MultinomialNB\n",
      "Training MultinomialNB finished in 0.03 sec\n",
      "----------------------------------------------------\n",
      "Training DecisionTreeClassifier\n",
      "Training DecisionTreeClassifier finished in 108.36 sec\n",
      "----------------------------------------------------\n",
      "Training LinearSVC\n"
     ]
    },
    {
     "name": "stderr",
     "output_type": "stream",
     "text": [
      "/home/pjcopado/.pyenv/versions/3.8.12/envs/lewagon/lib/python3.8/site-packages/sklearn/svm/_base.py:946: ConvergenceWarning: Liblinear failed to converge, increase the number of iterations.\n",
      "  warnings.warn(\"Liblinear failed to converge, increase \"\n"
     ]
    },
    {
     "name": "stdout",
     "output_type": "stream",
     "text": [
      "Training LinearSVC finished in 6.10 sec\n",
      "----------------------------------------------------\n",
      "Training AdaBoostClassifier\n",
      "Training AdaBoostClassifier finished in 9.32 sec\n",
      "----------------------------------------------------\n",
      "Training RandomForestClassifier\n",
      "Training RandomForestClassifier finished in 419.96 sec\n",
      "----------------------------------------------------\n",
      "Training BaggingClassifier\n",
      "Training BaggingClassifier finished in 808.90 sec\n",
      "----------------------------------------------------\n",
      "Training LogisticRegression\n"
     ]
    },
    {
     "name": "stderr",
     "output_type": "stream",
     "text": [
      "/home/pjcopado/.pyenv/versions/3.8.12/envs/lewagon/lib/python3.8/site-packages/sklearn/svm/_base.py:946: ConvergenceWarning: Liblinear failed to converge, increase the number of iterations.\n",
      "  warnings.warn(\"Liblinear failed to converge, increase \"\n"
     ]
    },
    {
     "name": "stdout",
     "output_type": "stream",
     "text": [
      "Training LogisticRegression finished in 8.94 sec\n",
      "----------------------------------------------------\n",
      "Training SGDClassifier\n",
      "Training SGDClassifier finished in 0.37 sec\n",
      "----------------------------------------------------\n",
      "Training KNeighborsClassifier\n",
      "Training KNeighborsClassifier finished in 0.01 sec\n",
      "----------------------------------------------------\n",
      "CPU times: user 28min 48s, sys: 3min 8s, total: 31min 57s\n",
      "Wall time: 30min 26s\n"
     ]
    }
   ],
   "source": [
    "%%time\n",
    "re = pipeline(models, X_train_vec, y_train, X_test_vec, y_test)\n",
    "results = pd.DataFrame(re)\n",
    "results = results.reindex(columns = ['Algorithm', 'Accuracy: Test', 'Precision: Test', 'Recall: Test', 'F1 Score: Test', 'Prediction Time',\n",
    "                          'Accuracy: Train', 'Precision: Train', 'Recall: Train', 'F1 Score: Train', 'Training Time'])"
   ]
  },
  {
   "cell_type": "code",
   "execution_count": 16,
   "id": "28ee4bdb",
   "metadata": {},
   "outputs": [],
   "source": [
    "results = results.reindex(columns = ['Algorithm', 'Accuracy: Test', 'Precision: Test', 'Recall: Test', 'F1 Score: Test', 'Prediction Time',\n",
    "                          'Accuracy: Train', 'Precision: Train', 'Recall: Train', 'F1 Score: Train', 'Training Time'])\n",
    "\n",
    "results.sort_values(by = 'F1 Score: Test', inplace = True, ascending = False)"
   ]
  },
  {
   "cell_type": "code",
   "execution_count": 17,
   "id": "424d4524",
   "metadata": {
    "scrolled": true
   },
   "outputs": [
    {
     "data": {
      "text/html": [
       "<div>\n",
       "<style scoped>\n",
       "    .dataframe tbody tr th:only-of-type {\n",
       "        vertical-align: middle;\n",
       "    }\n",
       "\n",
       "    .dataframe tbody tr th {\n",
       "        vertical-align: top;\n",
       "    }\n",
       "\n",
       "    .dataframe thead th {\n",
       "        text-align: right;\n",
       "    }\n",
       "</style>\n",
       "<table border=\"1\" class=\"dataframe\">\n",
       "  <thead>\n",
       "    <tr style=\"text-align: right;\">\n",
       "      <th></th>\n",
       "      <th>Algorithm</th>\n",
       "      <th>Accuracy: Test</th>\n",
       "      <th>Precision: Test</th>\n",
       "      <th>Recall: Test</th>\n",
       "      <th>F1 Score: Test</th>\n",
       "      <th>Prediction Time</th>\n",
       "      <th>Accuracy: Train</th>\n",
       "      <th>Precision: Train</th>\n",
       "      <th>Recall: Train</th>\n",
       "      <th>F1 Score: Train</th>\n",
       "      <th>Training Time</th>\n",
       "    </tr>\n",
       "  </thead>\n",
       "  <tbody>\n",
       "    <tr>\n",
       "      <th>0</th>\n",
       "      <td>LinearSVC</td>\n",
       "      <td>0.951719</td>\n",
       "      <td>0.763082</td>\n",
       "      <td>0.711345</td>\n",
       "      <td>0.736306</td>\n",
       "      <td>0.014510</td>\n",
       "      <td>0.996092</td>\n",
       "      <td>0.990626</td>\n",
       "      <td>0.968940</td>\n",
       "      <td>0.979663</td>\n",
       "      <td>6.103989</td>\n",
       "    </tr>\n",
       "    <tr>\n",
       "      <th>1</th>\n",
       "      <td>SGDClassifier</td>\n",
       "      <td>0.955302</td>\n",
       "      <td>0.856539</td>\n",
       "      <td>0.634594</td>\n",
       "      <td>0.729049</td>\n",
       "      <td>0.012035</td>\n",
       "      <td>0.969203</td>\n",
       "      <td>0.947194</td>\n",
       "      <td>0.723267</td>\n",
       "      <td>0.820222</td>\n",
       "      <td>0.365451</td>\n",
       "    </tr>\n",
       "    <tr>\n",
       "      <th>2</th>\n",
       "      <td>BaggingClassifier</td>\n",
       "      <td>0.947902</td>\n",
       "      <td>0.758878</td>\n",
       "      <td>0.659879</td>\n",
       "      <td>0.705925</td>\n",
       "      <td>3.527881</td>\n",
       "      <td>0.993475</td>\n",
       "      <td>0.991812</td>\n",
       "      <td>0.940593</td>\n",
       "      <td>0.965524</td>\n",
       "      <td>808.901729</td>\n",
       "    </tr>\n",
       "    <tr>\n",
       "      <th>3</th>\n",
       "      <td>RandomForestClassifier</td>\n",
       "      <td>0.952037</td>\n",
       "      <td>0.897371</td>\n",
       "      <td>0.557619</td>\n",
       "      <td>0.687828</td>\n",
       "      <td>20.234199</td>\n",
       "      <td>0.999755</td>\n",
       "      <td>0.999251</td>\n",
       "      <td>0.998222</td>\n",
       "      <td>0.998736</td>\n",
       "      <td>419.955667</td>\n",
       "    </tr>\n",
       "    <tr>\n",
       "      <th>4</th>\n",
       "      <td>MultinomialNB</td>\n",
       "      <td>0.949577</td>\n",
       "      <td>0.847689</td>\n",
       "      <td>0.570374</td>\n",
       "      <td>0.681915</td>\n",
       "      <td>0.034106</td>\n",
       "      <td>0.955017</td>\n",
       "      <td>0.824347</td>\n",
       "      <td>0.682290</td>\n",
       "      <td>0.746622</td>\n",
       "      <td>0.027516</td>\n",
       "    </tr>\n",
       "    <tr>\n",
       "      <th>5</th>\n",
       "      <td>DecisionTreeClassifier</td>\n",
       "      <td>0.939251</td>\n",
       "      <td>0.682273</td>\n",
       "      <td>0.671739</td>\n",
       "      <td>0.676965</td>\n",
       "      <td>0.406386</td>\n",
       "      <td>0.999764</td>\n",
       "      <td>0.999906</td>\n",
       "      <td>0.997661</td>\n",
       "      <td>0.998782</td>\n",
       "      <td>108.355803</td>\n",
       "    </tr>\n",
       "    <tr>\n",
       "      <th>6</th>\n",
       "      <td>LogisticRegression</td>\n",
       "      <td>0.948411</td>\n",
       "      <td>0.881273</td>\n",
       "      <td>0.526516</td>\n",
       "      <td>0.659196</td>\n",
       "      <td>0.024589</td>\n",
       "      <td>0.952018</td>\n",
       "      <td>0.926376</td>\n",
       "      <td>0.549724</td>\n",
       "      <td>0.689995</td>\n",
       "      <td>8.937154</td>\n",
       "    </tr>\n",
       "    <tr>\n",
       "      <th>7</th>\n",
       "      <td>AdaBoostClassifier</td>\n",
       "      <td>0.943767</td>\n",
       "      <td>0.885121</td>\n",
       "      <td>0.467219</td>\n",
       "      <td>0.611599</td>\n",
       "      <td>1.488233</td>\n",
       "      <td>0.942949</td>\n",
       "      <td>0.893769</td>\n",
       "      <td>0.468332</td>\n",
       "      <td>0.614610</td>\n",
       "      <td>9.316473</td>\n",
       "    </tr>\n",
       "    <tr>\n",
       "      <th>8</th>\n",
       "      <td>KNeighborsClassifier</td>\n",
       "      <td>0.926804</td>\n",
       "      <td>0.791738</td>\n",
       "      <td>0.308794</td>\n",
       "      <td>0.444301</td>\n",
       "      <td>438.450275</td>\n",
       "      <td>0.940068</td>\n",
       "      <td>0.909073</td>\n",
       "      <td>0.425578</td>\n",
       "      <td>0.579749</td>\n",
       "      <td>0.006981</td>\n",
       "    </tr>\n",
       "  </tbody>\n",
       "</table>\n",
       "</div>"
      ],
      "text/plain": [
       "                Algorithm  Accuracy: Test  Precision: Test  Recall: Test  \\\n",
       "0               LinearSVC        0.951719         0.763082      0.711345   \n",
       "1           SGDClassifier        0.955302         0.856539      0.634594   \n",
       "2       BaggingClassifier        0.947902         0.758878      0.659879   \n",
       "3  RandomForestClassifier        0.952037         0.897371      0.557619   \n",
       "4           MultinomialNB        0.949577         0.847689      0.570374   \n",
       "5  DecisionTreeClassifier        0.939251         0.682273      0.671739   \n",
       "6      LogisticRegression        0.948411         0.881273      0.526516   \n",
       "7      AdaBoostClassifier        0.943767         0.885121      0.467219   \n",
       "8    KNeighborsClassifier        0.926804         0.791738      0.308794   \n",
       "\n",
       "   F1 Score: Test  Prediction Time  Accuracy: Train  Precision: Train  \\\n",
       "0        0.736306         0.014510         0.996092          0.990626   \n",
       "1        0.729049         0.012035         0.969203          0.947194   \n",
       "2        0.705925         3.527881         0.993475          0.991812   \n",
       "3        0.687828        20.234199         0.999755          0.999251   \n",
       "4        0.681915         0.034106         0.955017          0.824347   \n",
       "5        0.676965         0.406386         0.999764          0.999906   \n",
       "6        0.659196         0.024589         0.952018          0.926376   \n",
       "7        0.611599         1.488233         0.942949          0.893769   \n",
       "8        0.444301       438.450275         0.940068          0.909073   \n",
       "\n",
       "   Recall: Train  F1 Score: Train  Training Time  \n",
       "0       0.968940         0.979663       6.103989  \n",
       "1       0.723267         0.820222       0.365451  \n",
       "2       0.940593         0.965524     808.901729  \n",
       "3       0.998222         0.998736     419.955667  \n",
       "4       0.682290         0.746622       0.027516  \n",
       "5       0.997661         0.998782     108.355803  \n",
       "6       0.549724         0.689995       8.937154  \n",
       "7       0.468332         0.614610       9.316473  \n",
       "8       0.425578         0.579749       0.006981  "
      ]
     },
     "execution_count": 17,
     "metadata": {},
     "output_type": "execute_result"
    }
   ],
   "source": [
    "results.reset_index(drop = True)"
   ]
  },
  {
   "cell_type": "code",
   "execution_count": 18,
   "id": "2cdb0e6f",
   "metadata": {},
   "outputs": [
    {
     "data": {
      "text/html": [
       "<div>\n",
       "<style scoped>\n",
       "    .dataframe tbody tr th:only-of-type {\n",
       "        vertical-align: middle;\n",
       "    }\n",
       "\n",
       "    .dataframe tbody tr th {\n",
       "        vertical-align: top;\n",
       "    }\n",
       "\n",
       "    .dataframe thead th {\n",
       "        text-align: right;\n",
       "    }\n",
       "</style>\n",
       "<table border=\"1\" class=\"dataframe\">\n",
       "  <thead>\n",
       "    <tr style=\"text-align: right;\">\n",
       "      <th></th>\n",
       "      <th>Accuracy: Test</th>\n",
       "      <th>Precision: Test</th>\n",
       "      <th>Recall: Test</th>\n",
       "      <th>F1 Score: Test</th>\n",
       "      <th>Prediction Time</th>\n",
       "      <th>Accuracy: Train</th>\n",
       "      <th>Precision: Train</th>\n",
       "      <th>Recall: Train</th>\n",
       "      <th>F1 Score: Train</th>\n",
       "      <th>Training Time</th>\n",
       "    </tr>\n",
       "  </thead>\n",
       "  <tbody>\n",
       "    <tr>\n",
       "      <th>min</th>\n",
       "      <td>0.926804</td>\n",
       "      <td>0.682273</td>\n",
       "      <td>0.308794</td>\n",
       "      <td>0.444301</td>\n",
       "      <td>0.012035</td>\n",
       "      <td>0.940068</td>\n",
       "      <td>0.824347</td>\n",
       "      <td>0.425578</td>\n",
       "      <td>0.579749</td>\n",
       "      <td>0.006981</td>\n",
       "    </tr>\n",
       "    <tr>\n",
       "      <th>max</th>\n",
       "      <td>0.955302</td>\n",
       "      <td>0.897371</td>\n",
       "      <td>0.711345</td>\n",
       "      <td>0.736306</td>\n",
       "      <td>438.450275</td>\n",
       "      <td>0.999764</td>\n",
       "      <td>0.999906</td>\n",
       "      <td>0.998222</td>\n",
       "      <td>0.998782</td>\n",
       "      <td>808.901729</td>\n",
       "    </tr>\n",
       "  </tbody>\n",
       "</table>\n",
       "</div>"
      ],
      "text/plain": [
       "     Accuracy: Test  Precision: Test  Recall: Test  F1 Score: Test  \\\n",
       "min        0.926804         0.682273      0.308794        0.444301   \n",
       "max        0.955302         0.897371      0.711345        0.736306   \n",
       "\n",
       "     Prediction Time  Accuracy: Train  Precision: Train  Recall: Train  \\\n",
       "min         0.012035         0.940068          0.824347       0.425578   \n",
       "max       438.450275         0.999764          0.999906       0.998222   \n",
       "\n",
       "     F1 Score: Train  Training Time  \n",
       "min         0.579749       0.006981  \n",
       "max         0.998782     808.901729  "
      ]
     },
     "execution_count": 18,
     "metadata": {},
     "output_type": "execute_result"
    }
   ],
   "source": [
    "results.describe().loc[['min', 'max'], :]"
   ]
  },
  {
   "cell_type": "code",
   "execution_count": 19,
   "id": "8d4c671c",
   "metadata": {},
   "outputs": [],
   "source": [
    "# store the best metric scores\n",
    "best_acc = results[results['Accuracy: Test'] == results['Accuracy: Test'].max()]\n",
    "best_f1 = results[results['F1 Score: Test'] == results['F1 Score: Test'].max()]\n",
    "best_precision = results[results['Precision: Test'] == results['Precision: Test'].max()]\n",
    "best_recall = results[results['Recall: Test'] == results['Recall: Test'].max()]"
   ]
  },
  {
   "cell_type": "code",
   "execution_count": 20,
   "id": "b8631bf0",
   "metadata": {},
   "outputs": [
    {
     "data": {
      "image/png": "[encoded data removed]",
      "text/plain": [
       "<Figure size 1224x504 with 1 Axes>"
      ]
     },
     "metadata": {},
     "output_type": "display_data"
    }
   ],
   "source": [
    "sns.set_style('darkgrid')\n",
    "plt.figure(figsize = (17, 7))\n",
    "\n",
    "barWidth = 0.17\n",
    " \n",
    "# set height of bar\n",
    "bars1 = results['Accuracy: Test']\n",
    "bars2 = results['F1 Score: Test']\n",
    "bars3 = results['Precision: Test']\n",
    "bars4 = results['Recall: Test']\n",
    "\n",
    " \n",
    "# Set position of bar on X axis\n",
    "r1 = np.arange(len(bars1))\n",
    "r2 = [x + barWidth for x in r1]\n",
    "r3 = [x + barWidth for x in r2]\n",
    "r4 = [x + barWidth for x in r3]\n",
    "\n",
    " \n",
    "# Make the plot\n",
    "pal = sns.color_palette()\n",
    "plt.bar(r1, bars1, color= pal[0], width=barWidth, edgecolor='white', label='Test Accuracy')\n",
    "plt.bar(r2, bars2, color= pal[1], width=barWidth, edgecolor='white', label='F1 Score')\n",
    "plt.bar(r3, bars3, color= pal[2], width=barWidth, edgecolor='white', label='Precision')\n",
    "plt.bar(r4, bars4, color= pal[4], width=barWidth, edgecolor='white', label='Recall')\n",
    "\n",
    " \n",
    "# Add xticks on the middle of the group bars\n",
    "plt.xlabel('Algorithm', fontweight='bold', fontsize = 13)\n",
    "plt.ylabel('Score', fontweight = 'bold', fontsize = 13)\n",
    "plt.xticks([r + barWidth for r in range(len(bars1))], results['Algorithm'], rotation = 15, fontsize = 11)\n",
    " \n",
    "# Create legend & Show graphic\n",
    "plt.legend(fontsize = 13)\n",
    "\n",
    "textstr = '\\n'.join(['Best Accuracy: {:.3f} - {}'.format(best_acc['Accuracy: Test'].values[0], best_acc['Algorithm'].values[0]), \n",
    "                     'Best F1 Score: {:.3f} - {}'.format(best_f1['F1 Score: Test'].values[0], best_f1['Algorithm'].values[0]),\n",
    "                   'Best Precision: {:.3f} - {}'.format(best_precision['Precision: Test'].values[0], best_precision['Algorithm'].values[0]), \n",
    "                    'Best Recall: {:.3f} - {}'.format(best_recall['Recall: Test'].values[0], best_recall['Algorithm'].values[0])])\n",
    "props = dict(boxstyle='round', facecolor='lightgrey', alpha=0.5)\n",
    "\n",
    "#place a text box\n",
    "#plt.text(9.2, 1, textstr, fontsize=14,\n",
    "#        verticalalignment='top', bbox=props)\n",
    "\n",
    "plt.title('Classification Summary of Algorithms', fontweight = 'bold', fontsize = 17);"
   ]
  },
  {
   "cell_type": "code",
   "execution_count": 21,
   "id": "adf63043",
   "metadata": {},
   "outputs": [],
   "source": [
    "# store the best/worst performance time\n",
    "best_train_time = results[results['Training Time'] == results['Training Time'].min()]\n",
    "worst_train_time = results[results['Training Time'] == results['Training Time'].max()]\n",
    "best_prediction_time = results[results['Prediction Time'] == results['Prediction Time'].min()]\n",
    "worst_prediction_time = results[results['Prediction Time'] == results['Prediction Time'].max()]"
   ]
  },
  {
   "cell_type": "code",
   "execution_count": 22,
   "id": "009b9aa1",
   "metadata": {},
   "outputs": [
    {
     "data": {
      "image/png": "[encoded data removed]",
      "text/plain": [
       "<Figure size 864x504 with 1 Axes>"
      ]
     },
     "metadata": {},
     "output_type": "display_data"
    }
   ],
   "source": [
    "plt.figure(figsize = (12, 7))\n",
    "\n",
    "barWidth = 0.17\n",
    " \n",
    "# set height of bar\n",
    "bars1 = results['Training Time']\n",
    "bars2 = results['Prediction Time']\n",
    " \n",
    "# Set position of bar on X axis\n",
    "r1 = np.arange(len(bars1))\n",
    "r2 = [x + barWidth for x in r1]\n",
    " \n",
    "# Make the plot\n",
    "plt.bar(r1, bars1, color= pal[0], width=barWidth, edgecolor='white', label='Training Time')\n",
    "plt.bar(r2, bars2, color= pal[1], width=barWidth, edgecolor='white', label='Prediction Time')\n",
    " \n",
    "# Add xticks on the middle of the group bars\n",
    "plt.xlabel('Algorithm', fontweight='bold', fontsize = 13)\n",
    "plt.ylabel('Time (seconds)', fontweight = 'bold', fontsize = 13)\n",
    "plt.xticks([r + barWidth for r in range(len(bars1))], results['Algorithm'], rotation = 15, fontsize = 11)\n",
    " \n",
    "# Create legend & Show graphic\n",
    "plt.legend(fontsize = 13)\n",
    "\n",
    "textstr = '\\n'.join(('Best Training Time: {:.3f} - {}'.format(best_train_time['Training Time'].values[0], best_train_time['Algorithm'].values[0]), \n",
    "                     'Worst Training Time: {:.3f} - {}'.format(worst_train_time['Training Time'].values[0], worst_train_time['Algorithm'].values[0]),\n",
    "                   'Best Prediction Time: {:.3f} - {}'.format(best_prediction_time['Training Time'].values[0], best_prediction_time['Algorithm'].values[0]), \n",
    "                    'Worst Prediction Time: {:.3f} - {}'.format(worst_prediction_time['Training Time'].values[0], worst_prediction_time['Algorithm'].values[0])))\n",
    "\n",
    "props = dict(boxstyle='round', facecolor='lightgrey', alpha=0.5)\n",
    "\n",
    "#place a text box\n",
    "#plt.text(9, 36, textstr, fontsize=14,  bbox=props)\n",
    "\n",
    "plt.title('Time Complexity of Algorithms', fontweight = 'bold', fontsize = 17);"
   ]
  },
  {
   "cell_type": "markdown",
   "id": "36288c59",
   "metadata": {},
   "source": [
    "## Tunning Hyperparameters"
   ]
  },
  {
   "cell_type": "code",
   "execution_count": 23,
   "id": "57c5e669",
   "metadata": {},
   "outputs": [],
   "source": [
    "def param_tuning(clf, param_dict, X_train, y_train, X_test, y_test):\n",
    "    \n",
    "    # make scorer object\n",
    "    scorer = make_scorer(f1_score)\n",
    "\n",
    "    # perform Grid Search for Parameters\n",
    "    grid_obj = GridSearchCV(estimator = clf,\n",
    "                           param_grid = param_dict,\n",
    "                           scoring = scorer,\n",
    "                           cv = 5)\n",
    "\n",
    "    grid_fit = grid_obj.fit(X_train, y_train)\n",
    "\n",
    "    # Get the estimator\n",
    "    best_clf = grid_fit.best_estimator_\n",
    "\n",
    "    # Make predictions using the unoptimized and model\n",
    "    predictions = (clf.fit(X_train, y_train)).predict(X_test)\n",
    "    best_predictions = best_clf.predict(X_test)\n",
    "    \n",
    "    # Report the before-and-afterscores\n",
    "    print(clf.__class__.__name__)\n",
    "    print(\"\\nOptimized Model\\n------\")\n",
    "    print(f\"Best Parameters: {grid_fit.best_params_}\")\n",
    "    print(f\"Accuracy: {accuracy_score(y_test, best_predictions):.4f}\")\n",
    "    print(f\"F1-score: {f1_score(y_test, best_predictions):.4f}\")\n",
    "    print(f\"Precision: {precision_score(y_test, best_predictions):.4f}\")\n",
    "    print(f\"Recall: {recall_score(y_test, best_predictions):.4f}\")\n",
    "    \n",
    "    return best_clf"
   ]
  },
  {
   "cell_type": "code",
   "execution_count": 24,
   "id": "364c92b9",
   "metadata": {},
   "outputs": [
    {
     "name": "stdout",
     "output_type": "stream",
     "text": [
      "SGDClassifier\n",
      "\n",
      "Optimized Model\n",
      "------\n",
      "Best Parameters: {'alpha': 0.0002, 'max_iter': 2500}\n",
      "Accuracy: 0.9532\n",
      "F1-score: 0.7022\n",
      "Precision: 0.8850\n",
      "Recall: 0.5820\n",
      "CPU times: user 27.7 s, sys: 39.1 s, total: 1min 6s\n",
      "Wall time: 18.2 s\n"
     ]
    }
   ],
   "source": [
    "%%time\n",
    "# Stochastic Gradient Descent\n",
    "param_grid = {\n",
    "    'alpha' : [0.095, 0.0002, 0.0003],\n",
    "    'max_iter' : [2500, 3000, 4000]\n",
    "}\n",
    "\n",
    "clf_sgd = SGDClassifier()\n",
    "\n",
    "best_clf_sgd = param_tuning(clf_sgd, param_grid, training_data, y_train, testing_data, y_test)"
   ]
  },
  {
   "cell_type": "raw",
   "id": "d837a04a",
   "metadata": {},
   "source": [
    "%%time\n",
    "# Logistic Regression\n",
    "param_grid = {\n",
    "    'C': [1, 1.2, 1.3, 1.4]\n",
    "}\n",
    "\n",
    "clf_lr = LogisticRegression(solver='liblinear')\n",
    "\n",
    "best_clf_lr = param_tuning(clf_lr, param_grid, training_data, y_train, testing_data, y_test)"
   ]
  },
  {
   "cell_type": "raw",
   "id": "0f816e92",
   "metadata": {},
   "source": [
    "%%time\n",
    "# Decision Tree\n",
    "param_grid = {\n",
    "    'min_samples_split': [2, 5, 8],\n",
    "    'min_samples_leaf': [1, 2, 5, 8]\n",
    "}\n",
    "\n",
    "clf_dt = DecisionTreeClassifier()\n",
    "\n",
    "best_clf_dt = param_tuning(clf_dt, param_grid, training_data, y_train, testing_data, y_test)"
   ]
  },
  {
   "cell_type": "raw",
   "id": "42542b04",
   "metadata": {},
   "source": [
    "%%time\n",
    "# Random Forest Classifier\n",
    "param_grid = {\n",
    "    'n_estimators': [50,150],\n",
    "    'min_samples_leaf': [1, 5],\n",
    "    'min_samples_split': [2, 5]\n",
    "}\n",
    "\n",
    "clf_rf = RandomForestClassifier()\n",
    "\n",
    "best_clf_rf = param_tuning(clf_rf, param_grid, training_data, y_train, testing_data, y_test)"
   ]
  },
  {
   "cell_type": "code",
   "execution_count": null,
   "id": "5fb2fcd0",
   "metadata": {},
   "outputs": [],
   "source": [
    "%%time\n",
    "# Linear SVC\n",
    "param_grid = {\n",
    "    'C': [0.25, 0.5, 0.75, 1, 1.2]\n",
    "}\n",
    "\n",
    "clf_linsvc = LinearSVC()\n",
    "\n",
    "best_clf_linsvc = param_tuning(clf_linsvc, param_grid, training_data, y_train, testing_data, y_test)"
   ]
  },
  {
   "cell_type": "code",
   "execution_count": 29,
   "id": "f7b3c762",
   "metadata": {},
   "outputs": [
    {
     "data": {
      "text/plain": [
       "1"
      ]
     },
     "execution_count": 29,
     "metadata": {},
     "output_type": "execute_result"
    }
   ],
   "source": [
    "1results_tunned = {'Model':[], 'Best Parameters':[], 'Accuracy':[], 'F1-score':[], 'Precision':[], 'Recall':[]}\n",
    "\n",
    "for model in [best_clf_sgd, best_clf_linsvc]:\n",
    "    best_predictions = model.predict(X_test_vec)\n",
    "    results_tunned['Model'].append(model.__class__.__name__)\n",
    "    results_tunned[\"Best Parameters\"].append(model.get_params())\n",
    "    results_tunned[\"Accuracy\"].append(accuracy_score(y_test, best_predictions))\n",
    "    results_tunned[\"F1-score\"].append(f1_score(y_test, best_predictions))\n",
    "    results_tunned[\"Precision\"].append(precision_score(y_test, best_predictions))\n",
    "    results_tunned[\"Recall\"].append(recall_score(y_test, best_predictions))\n",
    "\n",
    "#results_tunned\n",
    "pd.DataFrame(results_tunned)"
   ]
  },
  {
   "cell_type": "code",
   "execution_count": null,
   "id": "95a2609f",
   "metadata": {},
   "outputs": [],
   "source": [
    "1"
   ]
  },
  {
   "cell_type": "code",
   "execution_count": null,
   "id": "7ff99705",
   "metadata": {},
   "outputs": [],
   "source": []
  }
 ],
 "metadata": {
  "kernelspec": {
   "display_name": "Python 3 (ipykernel)",
   "language": "python",
   "name": "python3"
  },
  "language_info": {
   "codemirror_mode": {
    "name": "ipython",
    "version": 3
   },
   "file_extension": ".py",
   "mimetype": "text/x-python",
   "name": "python",
   "nbconvert_exporter": "python",
   "pygments_lexer": "ipython3",
   "version": "3.8.12"
  },
  "toc": {
   "base_numbering": 1,
   "nav_menu": {},
   "number_sections": true,
   "sideBar": true,
   "skip_h1_title": false,
   "title_cell": "Table of Contents",
   "title_sidebar": "Contents",
   "toc_cell": false,
   "toc_position": {},
   "toc_section_display": true,
   "toc_window_display": false
  }
 },
 "nbformat": 4,
 "nbformat_minor": 5
}
