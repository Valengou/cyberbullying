{
 "cells": [
  {
   "cell_type": "code",
   "execution_count": 1,
   "id": "9d121970",
   "metadata": {},
   "outputs": [],
   "source": [
    "import numpy as np\n",
    "import pandas as pd\n",
    "import matplotlib.pyplot as plt\n",
    "import seaborn as sns\n",
    "\n",
    "from time import time\n",
    "\n",
    "from sklearn.model_selection import train_test_split, GridSearchCV\n",
    "from sklearn.feature_extraction.text import CountVectorizer\n",
    "from sklearn.metrics import f1_score, accuracy_score, precision_score, recall_score, make_scorer\n",
    "\n",
    "from sklearn.naive_bayes import MultinomialNB\n",
    "from sklearn.tree import DecisionTreeClassifier\n",
    "from sklearn.svm import LinearSVC\n",
    "from sklearn.ensemble import AdaBoostClassifier, RandomForestClassifier, BaggingClassifier\n",
    "from sklearn.linear_model import LogisticRegression, SGDClassifier\n",
    "from sklearn.neighbors import KNeighborsClassifier\n",
    "import joblib"
   ]
  },
  {
   "cell_type": "code",
   "execution_count": 2,
   "id": "e894dc7d",
   "metadata": {},
   "outputs": [
    {
     "data": {
      "text/html": [
       "<div>\n",
       "<style scoped>\n",
       "    .dataframe tbody tr th:only-of-type {\n",
       "        vertical-align: middle;\n",
       "    }\n",
       "\n",
       "    .dataframe tbody tr th {\n",
       "        vertical-align: top;\n",
       "    }\n",
       "\n",
       "    .dataframe thead th {\n",
       "        text-align: right;\n",
       "    }\n",
       "</style>\n",
       "<table border=\"1\" class=\"dataframe\">\n",
       "  <thead>\n",
       "    <tr style=\"text-align: right;\">\n",
       "      <th></th>\n",
       "      <th>text</th>\n",
       "      <th>target</th>\n",
       "    </tr>\n",
       "  </thead>\n",
       "  <tbody>\n",
       "    <tr>\n",
       "      <th>0</th>\n",
       "      <td>this one can make an analogy in mathematical t...</td>\n",
       "      <td>0</td>\n",
       "    </tr>\n",
       "    <tr>\n",
       "      <th>1</th>\n",
       "      <td>clarification for you  and zundarks right i ...</td>\n",
       "      <td>0</td>\n",
       "    </tr>\n",
       "    <tr>\n",
       "      <th>2</th>\n",
       "      <td>elected or electoral jhk</td>\n",
       "      <td>0</td>\n",
       "    </tr>\n",
       "    <tr>\n",
       "      <th>3</th>\n",
       "      <td>this is such a fun entry   devotchka  i once h...</td>\n",
       "      <td>0</td>\n",
       "    </tr>\n",
       "    <tr>\n",
       "      <th>4</th>\n",
       "      <td>please relate the ozone hole to increases in c...</td>\n",
       "      <td>0</td>\n",
       "    </tr>\n",
       "  </tbody>\n",
       "</table>\n",
       "</div>"
      ],
      "text/plain": [
       "                                                text  target\n",
       "0  this one can make an analogy in mathematical t...       0\n",
       "1    clarification for you  and zundarks right i ...       0\n",
       "2                           elected or electoral jhk       0\n",
       "3  this is such a fun entry   devotchka  i once h...       0\n",
       "4  please relate the ozone hole to increases in c...       0"
      ]
     },
     "execution_count": 2,
     "metadata": {},
     "output_type": "execute_result"
    }
   ],
   "source": [
    "df = pd.read_csv('../../cyberbullying/data/data.csv')\n",
    "df.head()"
   ]
  },
  {
   "cell_type": "code",
   "execution_count": 3,
   "id": "ae57750c",
   "metadata": {},
   "outputs": [
    {
     "data": {
      "text/plain": [
       "(158883, 2)"
      ]
     },
     "execution_count": 3,
     "metadata": {},
     "output_type": "execute_result"
    }
   ],
   "source": [
    "df.shape"
   ]
  },
  {
   "cell_type": "code",
   "execution_count": 4,
   "id": "9a2635ad",
   "metadata": {},
   "outputs": [
    {
     "data": {
      "text/html": [
       "<div>\n",
       "<style scoped>\n",
       "    .dataframe tbody tr th:only-of-type {\n",
       "        vertical-align: middle;\n",
       "    }\n",
       "\n",
       "    .dataframe tbody tr th {\n",
       "        vertical-align: top;\n",
       "    }\n",
       "\n",
       "    .dataframe thead th {\n",
       "        text-align: right;\n",
       "    }\n",
       "</style>\n",
       "<table border=\"1\" class=\"dataframe\">\n",
       "  <thead>\n",
       "    <tr style=\"text-align: right;\">\n",
       "      <th></th>\n",
       "      <th>text</th>\n",
       "      <th>target</th>\n",
       "    </tr>\n",
       "  </thead>\n",
       "  <tbody>\n",
       "    <tr>\n",
       "      <th>0</th>\n",
       "      <td>one make analogy mathematical terms envisionin...</td>\n",
       "      <td>0</td>\n",
       "    </tr>\n",
       "    <tr>\n",
       "      <th>1</th>\n",
       "      <td>clarification zundarks right checked wikipedia...</td>\n",
       "      <td>0</td>\n",
       "    </tr>\n",
       "    <tr>\n",
       "      <th>2</th>\n",
       "      <td>elected electoral jhk</td>\n",
       "      <td>0</td>\n",
       "    </tr>\n",
       "    <tr>\n",
       "      <th>3</th>\n",
       "      <td>fun entry devotchka coworker korea couldnt tel...</td>\n",
       "      <td>0</td>\n",
       "    </tr>\n",
       "    <tr>\n",
       "      <th>4</th>\n",
       "      <td>please relate ozone hole increases cancer prov...</td>\n",
       "      <td>0</td>\n",
       "    </tr>\n",
       "  </tbody>\n",
       "</table>\n",
       "</div>"
      ],
      "text/plain": [
       "                                                text  target\n",
       "0  one make analogy mathematical terms envisionin...       0\n",
       "1  clarification zundarks right checked wikipedia...       0\n",
       "2                              elected electoral jhk       0\n",
       "3  fun entry devotchka coworker korea couldnt tel...       0\n",
       "4  please relate ozone hole increases cancer prov...       0"
      ]
     },
     "execution_count": 4,
     "metadata": {},
     "output_type": "execute_result"
    }
   ],
   "source": [
    "df_lem = pd.read_csv('../../cyberbullying/data/data_lem.csv')\n",
    "df_lem.head()"
   ]
  },
  {
   "cell_type": "code",
   "execution_count": 5,
   "id": "3b217c80",
   "metadata": {},
   "outputs": [
    {
     "data": {
      "text/plain": [
       "(157203, 2)"
      ]
     },
     "execution_count": 5,
     "metadata": {},
     "output_type": "execute_result"
    }
   ],
   "source": [
    "df_lem.shape"
   ]
  },
  {
   "cell_type": "code",
   "execution_count": 6,
   "id": "5cdcd7a4",
   "metadata": {},
   "outputs": [],
   "source": [
    "def plot_dist(df):\n",
    "    plt.figure(figsize = (7,7))\n",
    "    sorted_counts = df['target'].value_counts()\n",
    "    plt.pie(sorted_counts, labels = ['not bullying', 'bullying'], startangle = 90, counterclock = False,\n",
    "            wedgeprops = {'width' : 0.6}, autopct='%1.1f%%', pctdistance = 0.7,\n",
    "            textprops = {'color': 'black', 'fontsize' : 15}, shadow = True,\n",
    "            colors = sns.color_palette(\"Paired\")[7:])\n",
    "    plt.text(x = -0.35, y = 0, s = f'Total comments: {df.shape[0]}')\n",
    "    plt.title('Distribution of Comments in the Dataset', fontsize = 16);"
   ]
  },
  {
   "cell_type": "code",
   "execution_count": 7,
   "id": "5e23841e",
   "metadata": {},
   "outputs": [
    {
     "data": {
      "image/png": "[encoded data removed]",
      "text/plain": [
       "<Figure size 504x504 with 1 Axes>"
      ]
     },
     "metadata": {},
     "output_type": "display_data"
    }
   ],
   "source": [
    "plot_dist(df)"
   ]
  },
  {
   "cell_type": "code",
   "execution_count": 8,
   "id": "b3cc8dc6",
   "metadata": {},
   "outputs": [],
   "source": [
    "percentage_used = 0.3\n",
    "df_sample = df_lem.sample(frac=percentage_used, random_state=0)"
   ]
  },
  {
   "cell_type": "code",
   "execution_count": 9,
   "id": "6509f9ed",
   "metadata": {},
   "outputs": [
    {
     "data": {
      "image/png": "[encoded data removed]",
      "text/plain": [
       "<Figure size 504x504 with 1 Axes>"
      ]
     },
     "metadata": {},
     "output_type": "display_data"
    }
   ],
   "source": [
    "plot_dist(df_sample)"
   ]
  },
  {
   "cell_type": "code",
   "execution_count": 10,
   "id": "0cf99c55",
   "metadata": {},
   "outputs": [],
   "source": [
    "X_train, X_test, y_train, y_test = train_test_split(df_sample['text'], df_sample['target'], test_size=0.3, random_state=0)"
   ]
  },
  {
   "cell_type": "code",
   "execution_count": 11,
   "id": "28a30fa6",
   "metadata": {},
   "outputs": [],
   "source": [
    "# Instantiate the CountVectorizer method\n",
    "count_vector = CountVectorizer()\n",
    "\n",
    "# Fit the training data and then return the matrix\n",
    "X_train_vec = count_vector.fit_transform(X_train)\n",
    "\n",
    "# Transform testing data and return the matrix. Note we are not fitting the testing data into the CountVectorizer()\n",
    "X_test_vec = count_vector.transform(X_test)"
   ]
  },
  {
   "cell_type": "code",
   "execution_count": 12,
   "id": "19860044",
   "metadata": {},
   "outputs": [],
   "source": [
    "training_data = X_train_vec\n",
    "testing_data = X_test_vec"
   ]
  },
  {
   "cell_type": "code",
   "execution_count": 13,
   "id": "47457409",
   "metadata": {},
   "outputs": [],
   "source": [
    "def pipeline(learner_list, X_train, y_train, X_test, y_test): \n",
    "    '''\n",
    "    inputs:\n",
    "       - learner: the learning algorithm to be trained and predicted on\n",
    "       - X_train: features training set\n",
    "       - y_train: income training set\n",
    "       - X_test: features testing set\n",
    "       - y_test: income testing set\n",
    "    '''\n",
    "    \n",
    "    # Get length of Training Data:\n",
    "    size = len(y_train)\n",
    "    \n",
    "    results = {}\n",
    "    final_results = []\n",
    "    \n",
    "    for learner in learner_list:\n",
    "        \n",
    "        # Store the learner name:\n",
    "        results['Algorithm'] = learner.__class__.__name__\n",
    "\n",
    "        # Fit the learner:\n",
    "        start = time() # Get start time\n",
    "        print(\"Training {}\".format(learner.__class__.__name__))\n",
    "        learner = learner.fit(X_train, y_train)\n",
    "        end = time() # Get end time\n",
    "\n",
    "        # Store the training time\n",
    "        results['Training Time'] = end - start\n",
    "\n",
    "        start = time() # Get start time\n",
    "        predictions_test = learner.predict(X_test)\n",
    "        predictions_train = learner.predict(X_train)\n",
    "        end = time() # Get end time\n",
    "\n",
    "        # Store the prediction time\n",
    "        results['Prediction Time'] = end - start\n",
    "\n",
    "        # Compute the Accuracy on Test Set\n",
    "        results['Accuracy: Test'] = accuracy_score(y_test, predictions_test)\n",
    "\n",
    "        # Compute the Accuracy on Training Set\n",
    "        results['Accuracy: Train'] = accuracy_score(y_train, predictions_train)\n",
    "\n",
    "        # Compute the F1 Score on Test Set\n",
    "        results['F1 Score: Test'] = f1_score(y_test, predictions_test)\n",
    "\n",
    "        # Compute the F1 Score on Training Set\n",
    "        results['F1 Score: Train'] = f1_score(y_train, predictions_train)\n",
    "\n",
    "        # Compute the Precision on Test Set\n",
    "        results['Precision: Test'] = precision_score(y_test, predictions_test)\n",
    "\n",
    "        # Compute the Precision on Training Set\n",
    "        results['Precision: Train'] = precision_score(y_train, predictions_train)\n",
    "\n",
    "        # Compute the Recall on Test Set\n",
    "        results['Recall: Test'] = recall_score(y_test, predictions_test)\n",
    "\n",
    "        # Compute the Recall on Training Set\n",
    "        results['Recall: Train'] = recall_score(y_train, predictions_train)\n",
    "\n",
    "        # Success\n",
    "        print(\"Training {} finished in {:.2f} sec\".format(learner.__class__.__name__, results['Training Time']))\n",
    "        print('----------------------------------------------------')\n",
    "        \n",
    "        final_results.append(results.copy())\n",
    "    # Return a dataframe of the results\n",
    "    return final_results"
   ]
  },
  {
   "cell_type": "code",
   "execution_count": 14,
   "id": "a0333e05",
   "metadata": {},
   "outputs": [],
   "source": [
    "# make a list of models\n",
    "models = [MultinomialNB(),\n",
    "          DecisionTreeClassifier(),\n",
    "          LinearSVC(),\n",
    "          AdaBoostClassifier(),\n",
    "          RandomForestClassifier(),\n",
    "          BaggingClassifier(),\n",
    "          LogisticRegression(solver='liblinear'),\n",
    "          SGDClassifier(),\n",
    "          KNeighborsClassifier()\n",
    "]"
   ]
  },
  {
   "cell_type": "code",
   "execution_count": 15,
   "id": "8e1dc550",
   "metadata": {},
   "outputs": [
    {
     "name": "stdout",
     "output_type": "stream",
     "text": [
      "Training MultinomialNB\n",
      "Training MultinomialNB finished in 0.01 sec\n",
      "----------------------------------------------------\n",
      "Training DecisionTreeClassifier\n",
      "Training DecisionTreeClassifier finished in 13.49 sec\n",
      "----------------------------------------------------\n",
      "Training LinearSVC\n"
     ]
    },
    {
     "name": "stderr",
     "output_type": "stream",
     "text": [
      "/home/pjcopado/.pyenv/versions/3.8.12/envs/lewagon/lib/python3.8/site-packages/sklearn/svm/_base.py:946: ConvergenceWarning: Liblinear failed to converge, increase the number of iterations.\n",
      "  warnings.warn(\"Liblinear failed to converge, increase \"\n"
     ]
    },
    {
     "name": "stdout",
     "output_type": "stream",
     "text": [
      "Training LinearSVC finished in 0.72 sec\n",
      "----------------------------------------------------\n",
      "Training AdaBoostClassifier\n",
      "Training AdaBoostClassifier finished in 2.20 sec\n",
      "----------------------------------------------------\n",
      "Training RandomForestClassifier\n",
      "Training RandomForestClassifier finished in 38.81 sec\n",
      "----------------------------------------------------\n",
      "Training BaggingClassifier\n",
      "Training BaggingClassifier finished in 96.16 sec\n",
      "----------------------------------------------------\n",
      "Training LogisticRegression\n",
      "Training LogisticRegression finished in 2.90 sec\n",
      "----------------------------------------------------\n",
      "Training SGDClassifier\n",
      "Training SGDClassifier finished in 0.13 sec\n",
      "----------------------------------------------------\n",
      "Training KNeighborsClassifier\n",
      "Training KNeighborsClassifier finished in 0.00 sec\n",
      "----------------------------------------------------\n",
      "CPU times: user 3min 12s, sys: 35.9 s, total: 3min 48s\n",
      "Wall time: 3min 14s\n"
     ]
    }
   ],
   "source": [
    "%%time\n",
    "re = pipeline(models, X_train_vec, y_train, X_test_vec, y_test)\n",
    "results = pd.DataFrame(re)\n",
    "results = results.reindex(columns = ['Algorithm', 'Accuracy: Test', 'Precision: Test', 'Recall: Test', 'F1 Score: Test', 'Prediction Time',\n",
    "                          'Accuracy: Train', 'Precision: Train', 'Recall: Train', 'F1 Score: Train', 'Training Time'])"
   ]
  },
  {
   "cell_type": "code",
   "execution_count": 16,
   "id": "1957641c",
   "metadata": {},
   "outputs": [],
   "source": [
    "results = results.reindex(columns = ['Algorithm', 'Accuracy: Test', 'Precision: Test', 'Recall: Test', 'F1 Score: Test', 'Prediction Time',\n",
    "                          'Accuracy: Train', 'Precision: Train', 'Recall: Train', 'F1 Score: Train', 'Training Time'])\n",
    "\n",
    "results.sort_values(by = 'F1 Score: Test', inplace = True, ascending = False)"
   ]
  },
  {
   "cell_type": "code",
   "execution_count": 17,
   "id": "bba83142",
   "metadata": {},
   "outputs": [
    {
     "data": {
      "text/html": [
       "<div>\n",
       "<style scoped>\n",
       "    .dataframe tbody tr th:only-of-type {\n",
       "        vertical-align: middle;\n",
       "    }\n",
       "\n",
       "    .dataframe tbody tr th {\n",
       "        vertical-align: top;\n",
       "    }\n",
       "\n",
       "    .dataframe thead th {\n",
       "        text-align: right;\n",
       "    }\n",
       "</style>\n",
       "<table border=\"1\" class=\"dataframe\">\n",
       "  <thead>\n",
       "    <tr style=\"text-align: right;\">\n",
       "      <th></th>\n",
       "      <th>Algorithm</th>\n",
       "      <th>Accuracy: Test</th>\n",
       "      <th>Precision: Test</th>\n",
       "      <th>Recall: Test</th>\n",
       "      <th>F1 Score: Test</th>\n",
       "      <th>Prediction Time</th>\n",
       "      <th>Accuracy: Train</th>\n",
       "      <th>Precision: Train</th>\n",
       "      <th>Recall: Train</th>\n",
       "      <th>F1 Score: Train</th>\n",
       "      <th>Training Time</th>\n",
       "    </tr>\n",
       "  </thead>\n",
       "  <tbody>\n",
       "    <tr>\n",
       "      <th>0</th>\n",
       "      <td>SGDClassifier</td>\n",
       "      <td>0.949749</td>\n",
       "      <td>0.826590</td>\n",
       "      <td>0.617711</td>\n",
       "      <td>0.707046</td>\n",
       "      <td>0.004166</td>\n",
       "      <td>0.988822</td>\n",
       "      <td>0.992126</td>\n",
       "      <td>0.888746</td>\n",
       "      <td>0.937595</td>\n",
       "      <td>0.133759</td>\n",
       "    </tr>\n",
       "    <tr>\n",
       "      <th>1</th>\n",
       "      <td>LinearSVC</td>\n",
       "      <td>0.946498</td>\n",
       "      <td>0.765546</td>\n",
       "      <td>0.655868</td>\n",
       "      <td>0.706475</td>\n",
       "      <td>0.004302</td>\n",
       "      <td>0.999152</td>\n",
       "      <td>0.998709</td>\n",
       "      <td>0.992305</td>\n",
       "      <td>0.995497</td>\n",
       "      <td>0.721117</td>\n",
       "    </tr>\n",
       "    <tr>\n",
       "      <th>2</th>\n",
       "      <td>BaggingClassifier</td>\n",
       "      <td>0.944731</td>\n",
       "      <td>0.757859</td>\n",
       "      <td>0.642189</td>\n",
       "      <td>0.695246</td>\n",
       "      <td>0.642711</td>\n",
       "      <td>0.992336</td>\n",
       "      <td>0.990082</td>\n",
       "      <td>0.928182</td>\n",
       "      <td>0.958133</td>\n",
       "      <td>96.159988</td>\n",
       "    </tr>\n",
       "    <tr>\n",
       "      <th>3</th>\n",
       "      <td>RandomForestClassifier</td>\n",
       "      <td>0.950315</td>\n",
       "      <td>0.881960</td>\n",
       "      <td>0.570194</td>\n",
       "      <td>0.692610</td>\n",
       "      <td>4.211527</td>\n",
       "      <td>0.999879</td>\n",
       "      <td>1.000000</td>\n",
       "      <td>0.998718</td>\n",
       "      <td>0.999358</td>\n",
       "      <td>38.809098</td>\n",
       "    </tr>\n",
       "    <tr>\n",
       "      <th>4</th>\n",
       "      <td>LogisticRegression</td>\n",
       "      <td>0.948830</td>\n",
       "      <td>0.849632</td>\n",
       "      <td>0.581713</td>\n",
       "      <td>0.690598</td>\n",
       "      <td>0.005253</td>\n",
       "      <td>0.985611</td>\n",
       "      <td>0.991815</td>\n",
       "      <td>0.854761</td>\n",
       "      <td>0.918202</td>\n",
       "      <td>2.900531</td>\n",
       "    </tr>\n",
       "    <tr>\n",
       "      <th>5</th>\n",
       "      <td>DecisionTreeClassifier</td>\n",
       "      <td>0.937522</td>\n",
       "      <td>0.688856</td>\n",
       "      <td>0.663067</td>\n",
       "      <td>0.675715</td>\n",
       "      <td>0.070027</td>\n",
       "      <td>0.999970</td>\n",
       "      <td>1.000000</td>\n",
       "      <td>0.999679</td>\n",
       "      <td>0.999840</td>\n",
       "      <td>13.488327</td>\n",
       "    </tr>\n",
       "    <tr>\n",
       "      <th>6</th>\n",
       "      <td>MultinomialNB</td>\n",
       "      <td>0.942257</td>\n",
       "      <td>0.868557</td>\n",
       "      <td>0.485241</td>\n",
       "      <td>0.622633</td>\n",
       "      <td>0.009797</td>\n",
       "      <td>0.956107</td>\n",
       "      <td>0.832935</td>\n",
       "      <td>0.669766</td>\n",
       "      <td>0.742492</td>\n",
       "      <td>0.010524</td>\n",
       "    </tr>\n",
       "    <tr>\n",
       "      <th>7</th>\n",
       "      <td>AdaBoostClassifier</td>\n",
       "      <td>0.940066</td>\n",
       "      <td>0.875173</td>\n",
       "      <td>0.454284</td>\n",
       "      <td>0.598104</td>\n",
       "      <td>0.397985</td>\n",
       "      <td>0.943748</td>\n",
       "      <td>0.883820</td>\n",
       "      <td>0.465854</td>\n",
       "      <td>0.610120</td>\n",
       "      <td>2.199302</td>\n",
       "    </tr>\n",
       "    <tr>\n",
       "      <th>8</th>\n",
       "      <td>KNeighborsClassifier</td>\n",
       "      <td>0.921125</td>\n",
       "      <td>0.854545</td>\n",
       "      <td>0.236861</td>\n",
       "      <td>0.370913</td>\n",
       "      <td>34.846399</td>\n",
       "      <td>0.935357</td>\n",
       "      <td>0.928634</td>\n",
       "      <td>0.342097</td>\n",
       "      <td>0.500000</td>\n",
       "      <td>0.002271</td>\n",
       "    </tr>\n",
       "  </tbody>\n",
       "</table>\n",
       "</div>"
      ],
      "text/plain": [
       "                Algorithm  Accuracy: Test  Precision: Test  Recall: Test  \\\n",
       "0           SGDClassifier        0.949749         0.826590      0.617711   \n",
       "1               LinearSVC        0.946498         0.765546      0.655868   \n",
       "2       BaggingClassifier        0.944731         0.757859      0.642189   \n",
       "3  RandomForestClassifier        0.950315         0.881960      0.570194   \n",
       "4      LogisticRegression        0.948830         0.849632      0.581713   \n",
       "5  DecisionTreeClassifier        0.937522         0.688856      0.663067   \n",
       "6           MultinomialNB        0.942257         0.868557      0.485241   \n",
       "7      AdaBoostClassifier        0.940066         0.875173      0.454284   \n",
       "8    KNeighborsClassifier        0.921125         0.854545      0.236861   \n",
       "\n",
       "   F1 Score: Test  Prediction Time  Accuracy: Train  Precision: Train  \\\n",
       "0        0.707046         0.004166         0.988822          0.992126   \n",
       "1        0.706475         0.004302         0.999152          0.998709   \n",
       "2        0.695246         0.642711         0.992336          0.990082   \n",
       "3        0.692610         4.211527         0.999879          1.000000   \n",
       "4        0.690598         0.005253         0.985611          0.991815   \n",
       "5        0.675715         0.070027         0.999970          1.000000   \n",
       "6        0.622633         0.009797         0.956107          0.832935   \n",
       "7        0.598104         0.397985         0.943748          0.883820   \n",
       "8        0.370913        34.846399         0.935357          0.928634   \n",
       "\n",
       "   Recall: Train  F1 Score: Train  Training Time  \n",
       "0       0.888746         0.937595       0.133759  \n",
       "1       0.992305         0.995497       0.721117  \n",
       "2       0.928182         0.958133      96.159988  \n",
       "3       0.998718         0.999358      38.809098  \n",
       "4       0.854761         0.918202       2.900531  \n",
       "5       0.999679         0.999840      13.488327  \n",
       "6       0.669766         0.742492       0.010524  \n",
       "7       0.465854         0.610120       2.199302  \n",
       "8       0.342097         0.500000       0.002271  "
      ]
     },
     "execution_count": 17,
     "metadata": {},
     "output_type": "execute_result"
    }
   ],
   "source": [
    "results.reset_index(drop = True)"
   ]
  },
  {
   "cell_type": "code",
   "execution_count": 18,
   "id": "62d3b88e",
   "metadata": {},
   "outputs": [
    {
     "data": {
      "text/html": [
       "<div>\n",
       "<style scoped>\n",
       "    .dataframe tbody tr th:only-of-type {\n",
       "        vertical-align: middle;\n",
       "    }\n",
       "\n",
       "    .dataframe tbody tr th {\n",
       "        vertical-align: top;\n",
       "    }\n",
       "\n",
       "    .dataframe thead th {\n",
       "        text-align: right;\n",
       "    }\n",
       "</style>\n",
       "<table border=\"1\" class=\"dataframe\">\n",
       "  <thead>\n",
       "    <tr style=\"text-align: right;\">\n",
       "      <th></th>\n",
       "      <th>Accuracy: Test</th>\n",
       "      <th>Precision: Test</th>\n",
       "      <th>Recall: Test</th>\n",
       "      <th>F1 Score: Test</th>\n",
       "      <th>Prediction Time</th>\n",
       "      <th>Accuracy: Train</th>\n",
       "      <th>Precision: Train</th>\n",
       "      <th>Recall: Train</th>\n",
       "      <th>F1 Score: Train</th>\n",
       "      <th>Training Time</th>\n",
       "    </tr>\n",
       "  </thead>\n",
       "  <tbody>\n",
       "    <tr>\n",
       "      <th>min</th>\n",
       "      <td>0.921125</td>\n",
       "      <td>0.688856</td>\n",
       "      <td>0.236861</td>\n",
       "      <td>0.370913</td>\n",
       "      <td>0.004166</td>\n",
       "      <td>0.935357</td>\n",
       "      <td>0.832935</td>\n",
       "      <td>0.342097</td>\n",
       "      <td>0.50000</td>\n",
       "      <td>0.002271</td>\n",
       "    </tr>\n",
       "    <tr>\n",
       "      <th>max</th>\n",
       "      <td>0.950315</td>\n",
       "      <td>0.881960</td>\n",
       "      <td>0.663067</td>\n",
       "      <td>0.707046</td>\n",
       "      <td>34.846399</td>\n",
       "      <td>0.999970</td>\n",
       "      <td>1.000000</td>\n",
       "      <td>0.999679</td>\n",
       "      <td>0.99984</td>\n",
       "      <td>96.159988</td>\n",
       "    </tr>\n",
       "  </tbody>\n",
       "</table>\n",
       "</div>"
      ],
      "text/plain": [
       "     Accuracy: Test  Precision: Test  Recall: Test  F1 Score: Test  \\\n",
       "min        0.921125         0.688856      0.236861        0.370913   \n",
       "max        0.950315         0.881960      0.663067        0.707046   \n",
       "\n",
       "     Prediction Time  Accuracy: Train  Precision: Train  Recall: Train  \\\n",
       "min         0.004166         0.935357          0.832935       0.342097   \n",
       "max        34.846399         0.999970          1.000000       0.999679   \n",
       "\n",
       "     F1 Score: Train  Training Time  \n",
       "min          0.50000       0.002271  \n",
       "max          0.99984      96.159988  "
      ]
     },
     "execution_count": 18,
     "metadata": {},
     "output_type": "execute_result"
    }
   ],
   "source": [
    "results.describe().loc[['min', 'max'], :]"
   ]
  },
  {
   "cell_type": "code",
   "execution_count": 19,
   "id": "5da06764",
   "metadata": {},
   "outputs": [],
   "source": [
    "# store the best metric scores\n",
    "best_acc = results[results['Accuracy: Test'] == results['Accuracy: Test'].max()]\n",
    "best_f1 = results[results['F1 Score: Test'] == results['F1 Score: Test'].max()]\n",
    "best_precision = results[results['Precision: Test'] == results['Precision: Test'].max()]\n",
    "best_recall = results[results['Recall: Test'] == results['Recall: Test'].max()]"
   ]
  },
  {
   "cell_type": "code",
   "execution_count": 20,
   "id": "cffafe5f",
   "metadata": {},
   "outputs": [
    {
     "data": {
      "image/png": "[encoded data removed]",
      "text/plain": [
       "<Figure size 1224x504 with 1 Axes>"
      ]
     },
     "metadata": {},
     "output_type": "display_data"
    }
   ],
   "source": [
    "sns.set_style('darkgrid')\n",
    "plt.figure(figsize = (17, 7))\n",
    "\n",
    "barWidth = 0.17\n",
    " \n",
    "# set height of bar\n",
    "bars1 = results['Accuracy: Test']\n",
    "bars2 = results['F1 Score: Test']\n",
    "bars3 = results['Precision: Test']\n",
    "bars4 = results['Recall: Test']\n",
    "\n",
    " \n",
    "# Set position of bar on X axis\n",
    "r1 = np.arange(len(bars1))\n",
    "r2 = [x + barWidth for x in r1]\n",
    "r3 = [x + barWidth for x in r2]\n",
    "r4 = [x + barWidth for x in r3]\n",
    "\n",
    " \n",
    "# Make the plot\n",
    "pal = sns.color_palette()\n",
    "plt.bar(r1, bars1, color= pal[0], width=barWidth, edgecolor='white', label='Test Accuracy')\n",
    "plt.bar(r2, bars2, color= pal[1], width=barWidth, edgecolor='white', label='F1 Score')\n",
    "plt.bar(r3, bars3, color= pal[2], width=barWidth, edgecolor='white', label='Precision')\n",
    "plt.bar(r4, bars4, color= pal[4], width=barWidth, edgecolor='white', label='Recall')\n",
    "\n",
    " \n",
    "# Add xticks on the middle of the group bars\n",
    "plt.xlabel('Algorithm', fontweight='bold', fontsize = 13)\n",
    "plt.ylabel('Score', fontweight = 'bold', fontsize = 13)\n",
    "plt.xticks([r + barWidth for r in range(len(bars1))], results['Algorithm'], rotation = 15, fontsize = 11)\n",
    " \n",
    "# Create legend & Show graphic\n",
    "plt.legend(fontsize = 13)\n",
    "\n",
    "textstr = '\\n'.join(['Best Accuracy: {:.3f} - {}'.format(best_acc['Accuracy: Test'].values[0], best_acc['Algorithm'].values[0]), \n",
    "                     'Best F1 Score: {:.3f} - {}'.format(best_f1['F1 Score: Test'].values[0], best_f1['Algorithm'].values[0]),\n",
    "                   'Best Precision: {:.3f} - {}'.format(best_precision['Precision: Test'].values[0], best_precision['Algorithm'].values[0]), \n",
    "                    'Best Recall: {:.3f} - {}'.format(best_recall['Recall: Test'].values[0], best_recall['Algorithm'].values[0])])\n",
    "props = dict(boxstyle='round', facecolor='lightgrey', alpha=0.5)\n",
    "\n",
    "#place a text box\n",
    "#plt.text(9.2, 1, textstr, fontsize=14,\n",
    "#        verticalalignment='top', bbox=props)\n",
    "\n",
    "plt.title('Classification Summary of Algorithms', fontweight = 'bold', fontsize = 17);"
   ]
  },
  {
   "cell_type": "code",
   "execution_count": 21,
   "id": "9c178afc",
   "metadata": {},
   "outputs": [],
   "source": [
    "# store the best/worst performance time\n",
    "best_train_time = results[results['Training Time'] == results['Training Time'].min()]\n",
    "worst_train_time = results[results['Training Time'] == results['Training Time'].max()]\n",
    "best_prediction_time = results[results['Prediction Time'] == results['Prediction Time'].min()]\n",
    "worst_prediction_time = results[results['Prediction Time'] == results['Prediction Time'].max()]"
   ]
  },
  {
   "cell_type": "code",
   "execution_count": 22,
   "id": "f93abd28",
   "metadata": {},
   "outputs": [
    {
     "data": {
      "image/png": "[encoded data removed]",
      "text/plain": [
       "<Figure size 864x504 with 1 Axes>"
      ]
     },
     "metadata": {},
     "output_type": "display_data"
    }
   ],
   "source": [
    "plt.figure(figsize = (12, 7))\n",
    "\n",
    "barWidth = 0.17\n",
    " \n",
    "# set height of bar\n",
    "bars1 = results['Training Time']\n",
    "bars2 = results['Prediction Time']\n",
    " \n",
    "# Set position of bar on X axis\n",
    "r1 = np.arange(len(bars1))\n",
    "r2 = [x + barWidth for x in r1]\n",
    " \n",
    "# Make the plot\n",
    "plt.bar(r1, bars1, color= pal[0], width=barWidth, edgecolor='white', label='Training Time')\n",
    "plt.bar(r2, bars2, color= pal[1], width=barWidth, edgecolor='white', label='Prediction Time')\n",
    " \n",
    "# Add xticks on the middle of the group bars\n",
    "plt.xlabel('Algorithm', fontweight='bold', fontsize = 13)\n",
    "plt.ylabel('Time (seconds)', fontweight = 'bold', fontsize = 13)\n",
    "plt.xticks([r + barWidth for r in range(len(bars1))], results['Algorithm'], rotation = 15, fontsize = 11)\n",
    " \n",
    "# Create legend & Show graphic\n",
    "plt.legend(fontsize = 13)\n",
    "\n",
    "textstr = '\\n'.join(('Best Training Time: {:.3f} - {}'.format(best_train_time['Training Time'].values[0], best_train_time['Algorithm'].values[0]), \n",
    "                     'Worst Training Time: {:.3f} - {}'.format(worst_train_time['Training Time'].values[0], worst_train_time['Algorithm'].values[0]),\n",
    "                   'Best Prediction Time: {:.3f} - {}'.format(best_prediction_time['Training Time'].values[0], best_prediction_time['Algorithm'].values[0]), \n",
    "                    'Worst Prediction Time: {:.3f} - {}'.format(worst_prediction_time['Training Time'].values[0], worst_prediction_time['Algorithm'].values[0])))\n",
    "\n",
    "props = dict(boxstyle='round', facecolor='lightgrey', alpha=0.5)\n",
    "\n",
    "#place a text box\n",
    "#plt.text(9, 36, textstr, fontsize=14,  bbox=props)\n",
    "\n",
    "plt.title('Time Complexity of Algorithms', fontweight = 'bold', fontsize = 17);"
   ]
  },
  {
   "cell_type": "markdown",
   "id": "ca4e17d0",
   "metadata": {},
   "source": [
    "## Tunning Hyperparameters"
   ]
  },
  {
   "cell_type": "code",
   "execution_count": 23,
   "id": "f9f9df4e",
   "metadata": {},
   "outputs": [],
   "source": [
    "def param_tuning(clf, param_dict, X_train, y_train, X_test, y_test):\n",
    "    \n",
    "    # make scorer object\n",
    "    scorer = make_scorer(f1_score)\n",
    "\n",
    "    # perform Grid Search for Parameters\n",
    "    grid_obj = GridSearchCV(estimator = clf,\n",
    "                           param_grid = param_dict,\n",
    "                           scoring = scorer,\n",
    "                           cv = 5)\n",
    "\n",
    "    grid_fit = grid_obj.fit(X_train, y_train)\n",
    "\n",
    "    # Get the estimator\n",
    "    best_clf = grid_fit.best_estimator_\n",
    "\n",
    "    # Make predictions using the unoptimized and model\n",
    "    predictions = (clf.fit(X_train, y_train)).predict(X_test)\n",
    "    best_predictions = best_clf.predict(X_test)\n",
    "    \n",
    "    # Report the before-and-afterscores\n",
    "    print(clf.__class__.__name__)\n",
    "    print(\"\\nOptimized Model\\n------\")\n",
    "    print(f\"Best Parameters: {grid_fit.best_params_}\")\n",
    "    print(f\"Accuracy: {accuracy_score(y_test, best_predictions):.4f}\")\n",
    "    print(f\"F1-score: {f1_score(y_test, best_predictions):.4f}\")\n",
    "    print(f\"Precision: {precision_score(y_test, best_predictions):.4f}\")\n",
    "    print(f\"Recall: {recall_score(y_test, best_predictions):.4f}\")\n",
    "    \n",
    "    return best_clf"
   ]
  },
  {
   "cell_type": "code",
   "execution_count": 24,
   "id": "e763f0a4",
   "metadata": {},
   "outputs": [
    {
     "name": "stdout",
     "output_type": "stream",
     "text": [
      "SGDClassifier\n",
      "\n",
      "Optimized Model\n",
      "------\n",
      "Best Parameters: {'alpha': 0.0002, 'max_iter': 2500}\n",
      "Accuracy: 0.9500\n",
      "F1-score: 0.6967\n",
      "Precision: 0.8620\n",
      "Recall: 0.5846\n",
      "CPU times: user 14.7 s, sys: 41.5 s, total: 56.2 s\n",
      "Wall time: 4.99 s\n"
     ]
    }
   ],
   "source": [
    "%%time\n",
    "# Stochastic Gradient Descent\n",
    "param_grid = {\n",
    "    'alpha' : [0.095, 0.0002, 0.0003],\n",
    "    'max_iter' : [2500, 3000, 4000]\n",
    "}\n",
    "\n",
    "clf_sgd = SGDClassifier()\n",
    "\n",
    "best_clf_sgd = param_tuning(clf_sgd, param_grid, training_data, y_train, testing_data, y_test)"
   ]
  },
  {
   "cell_type": "code",
   "execution_count": 25,
   "id": "eb686916",
   "metadata": {},
   "outputs": [
    {
     "name": "stderr",
     "output_type": "stream",
     "text": [
      "/home/pjcopado/.pyenv/versions/3.8.12/envs/lewagon/lib/python3.8/site-packages/sklearn/svm/_base.py:946: ConvergenceWarning: Liblinear failed to converge, increase the number of iterations.\n",
      "  warnings.warn(\"Liblinear failed to converge, increase \"\n"
     ]
    },
    {
     "name": "stdout",
     "output_type": "stream",
     "text": [
      "LogisticRegression\n",
      "\n",
      "Optimized Model\n",
      "------\n",
      "Best Parameters: {'C': 1.3}\n",
      "Accuracy: 0.9490\n",
      "F1-score: 0.6933\n",
      "Precision: 0.8472\n",
      "Recall: 0.5868\n",
      "CPU times: user 3min 1s, sys: 9min 4s, total: 12min 6s\n",
      "Wall time: 1min\n"
     ]
    }
   ],
   "source": [
    "%%time\n",
    "# Logistic Regression\n",
    "param_grid = {\n",
    "    'C': [1, 1.2, 1.3, 1.4]\n",
    "}\n",
    "\n",
    "clf_lr = LogisticRegression(solver='liblinear')\n",
    "\n",
    "best_clf_lr = param_tuning(clf_lr, param_grid, training_data, y_train, testing_data, y_test)"
   ]
  },
  {
   "cell_type": "code",
   "execution_count": 26,
   "id": "33f54413",
   "metadata": {},
   "outputs": [
    {
     "name": "stdout",
     "output_type": "stream",
     "text": [
      "DecisionTreeClassifier\n",
      "\n",
      "Optimized Model\n",
      "------\n",
      "Best Parameters: {'min_samples_leaf': 2, 'min_samples_split': 8}\n",
      "Accuracy: 0.9414\n",
      "F1-score: 0.6798\n",
      "Precision: 0.7333\n",
      "Recall: 0.6335\n",
      "CPU times: user 8min 32s, sys: 607 ms, total: 8min 32s\n",
      "Wall time: 8min 32s\n"
     ]
    }
   ],
   "source": [
    "%%time\n",
    "# Decision Tree\n",
    "param_grid = {\n",
    "    'min_samples_split': [2, 5, 8],\n",
    "    'min_samples_leaf': [1, 2, 5, 8]\n",
    "}\n",
    "\n",
    "clf_dt = DecisionTreeClassifier()\n",
    "\n",
    "best_clf_dt = param_tuning(clf_dt, param_grid, training_data, y_train, testing_data, y_test)"
   ]
  },
  {
   "cell_type": "code",
   "execution_count": 29,
   "id": "5a65a8db",
   "metadata": {},
   "outputs": [
    {
     "name": "stdout",
     "output_type": "stream",
     "text": [
      "RandomForestClassifier\n",
      "\n",
      "Optimized Model\n",
      "------\n",
      "Best Parameters: {'min_samples_leaf': 1, 'min_samples_split': 2, 'n_estimators': 150}\n",
      "Accuracy: 0.9488\n",
      "F1-score: 0.6796\n",
      "Precision: 0.8799\n",
      "Recall: 0.5536\n",
      "CPU times: user 42min 43s, sys: 0 ns, total: 42min 43s\n",
      "Wall time: 42min 43s\n"
     ]
    }
   ],
   "source": [
    "%%time\n",
    "# Random Forest Classifier\n",
    "param_grid = {\n",
    "    'n_estimators': [50,150],\n",
    "    'min_samples_leaf': [1, 5],\n",
    "    'min_samples_split': [2, 5]\n",
    "}\n",
    "\n",
    "clf_rf = RandomForestClassifier()\n",
    "\n",
    "best_clf_rf = param_tuning(clf_rf, param_grid, training_data, y_train, testing_data, y_test)"
   ]
  },
  {
   "cell_type": "code",
   "execution_count": 49,
   "id": "f1063bd5",
   "metadata": {},
   "outputs": [
    {
     "name": "stderr",
     "output_type": "stream",
     "text": [
      "/home/pjcopado/.pyenv/versions/3.8.12/envs/lewagon/lib/python3.8/site-packages/sklearn/svm/_base.py:946: ConvergenceWarning: Liblinear failed to converge, increase the number of iterations.\n",
      "  warnings.warn(\"Liblinear failed to converge, increase \"\n"
     ]
    },
    {
     "name": "stdout",
     "output_type": "stream",
     "text": [
      "LinearSVC\n",
      "\n",
      "Optimized Model\n",
      "------\n",
      "Best Parameters: {'C': 0.25}\n",
      "Accuracy: 0.9490\n",
      "F1-score: 0.7080\n",
      "Precision: 0.8093\n",
      "Recall: 0.6292\n",
      "CPU times: user 2min 6s, sys: 0 ns, total: 2min 6s\n",
      "Wall time: 2min 6s\n"
     ]
    }
   ],
   "source": [
    "%%time\n",
    "# Linear SVC\n",
    "param_grid = {\n",
    "    'C': [0.25, 0.5, 0.75, 1, 1.2]\n",
    "}\n",
    "\n",
    "clf_linsvc = LinearSVC(max_iter=10000, dual=True)\n",
    "\n",
    "best_clf_linsvc = param_tuning(clf_linsvc, param_grid, training_data, y_train, testing_data, y_test)"
   ]
  },
  {
   "cell_type": "code",
   "execution_count": 50,
   "id": "dbc6a63b",
   "metadata": {},
   "outputs": [
    {
     "data": {
      "text/plain": [
       "<33012x80684 sparse matrix of type '<class 'numpy.int64'>'\n",
       "\twith 906168 stored elements in Compressed Sparse Row format>"
      ]
     },
     "execution_count": 50,
     "metadata": {},
     "output_type": "execute_result"
    }
   ],
   "source": [
    "X_train_vec"
   ]
  },
  {
   "cell_type": "code",
   "execution_count": 48,
   "id": "deab9fe3",
   "metadata": {},
   "outputs": [
    {
     "data": {
      "text/html": [
       "<div>\n",
       "<style scoped>\n",
       "    .dataframe tbody tr th:only-of-type {\n",
       "        vertical-align: middle;\n",
       "    }\n",
       "\n",
       "    .dataframe tbody tr th {\n",
       "        vertical-align: top;\n",
       "    }\n",
       "\n",
       "    .dataframe thead th {\n",
       "        text-align: right;\n",
       "    }\n",
       "</style>\n",
       "<table border=\"1\" class=\"dataframe\">\n",
       "  <thead>\n",
       "    <tr style=\"text-align: right;\">\n",
       "      <th></th>\n",
       "      <th>Model</th>\n",
       "      <th>Best Parameters</th>\n",
       "      <th>Accuracy</th>\n",
       "      <th>F1-score</th>\n",
       "      <th>Precision</th>\n",
       "      <th>Recall</th>\n",
       "    </tr>\n",
       "  </thead>\n",
       "  <tbody>\n",
       "    <tr>\n",
       "      <th>0</th>\n",
       "      <td>SGDClassifier</td>\n",
       "      <td>{'alpha': 0.0002, 'average': False, 'class_wei...</td>\n",
       "      <td>0.950032</td>\n",
       "      <td>0.696697</td>\n",
       "      <td>0.861996</td>\n",
       "      <td>0.584593</td>\n",
       "    </tr>\n",
       "    <tr>\n",
       "      <th>1</th>\n",
       "      <td>LogisticRegression</td>\n",
       "      <td>{'C': 1.3, 'class_weight': None, 'dual': False...</td>\n",
       "      <td>0.949042</td>\n",
       "      <td>0.693322</td>\n",
       "      <td>0.847193</td>\n",
       "      <td>0.586753</td>\n",
       "    </tr>\n",
       "    <tr>\n",
       "      <th>2</th>\n",
       "      <td>DecisionTreeClassifier</td>\n",
       "      <td>{'ccp_alpha': 0.0, 'class_weight': None, 'crit...</td>\n",
       "      <td>0.941409</td>\n",
       "      <td>0.679799</td>\n",
       "      <td>0.733333</td>\n",
       "      <td>0.633549</td>\n",
       "    </tr>\n",
       "    <tr>\n",
       "      <th>3</th>\n",
       "      <td>RandomForestClassifier</td>\n",
       "      <td>{'bootstrap': True, 'ccp_alpha': 0.0, 'class_w...</td>\n",
       "      <td>0.948760</td>\n",
       "      <td>0.679629</td>\n",
       "      <td>0.879863</td>\n",
       "      <td>0.553636</td>\n",
       "    </tr>\n",
       "    <tr>\n",
       "      <th>4</th>\n",
       "      <td>LinearSVC</td>\n",
       "      <td>{'C': 0.25, 'class_weight': None, 'dual': True...</td>\n",
       "      <td>0.949042</td>\n",
       "      <td>0.707979</td>\n",
       "      <td>0.809259</td>\n",
       "      <td>0.629230</td>\n",
       "    </tr>\n",
       "  </tbody>\n",
       "</table>\n",
       "</div>"
      ],
      "text/plain": [
       "                    Model                                    Best Parameters  \\\n",
       "0           SGDClassifier  {'alpha': 0.0002, 'average': False, 'class_wei...   \n",
       "1      LogisticRegression  {'C': 1.3, 'class_weight': None, 'dual': False...   \n",
       "2  DecisionTreeClassifier  {'ccp_alpha': 0.0, 'class_weight': None, 'crit...   \n",
       "3  RandomForestClassifier  {'bootstrap': True, 'ccp_alpha': 0.0, 'class_w...   \n",
       "4               LinearSVC  {'C': 0.25, 'class_weight': None, 'dual': True...   \n",
       "\n",
       "   Accuracy  F1-score  Precision    Recall  \n",
       "0  0.950032  0.696697   0.861996  0.584593  \n",
       "1  0.949042  0.693322   0.847193  0.586753  \n",
       "2  0.941409  0.679799   0.733333  0.633549  \n",
       "3  0.948760  0.679629   0.879863  0.553636  \n",
       "4  0.949042  0.707979   0.809259  0.629230  "
      ]
     },
     "execution_count": 48,
     "metadata": {},
     "output_type": "execute_result"
    }
   ],
   "source": [
    "results_tunned = {'Model':[], 'Best Parameters':[], 'Accuracy':[], 'F1-score':[], 'Precision':[], 'Recall':[]}\n",
    "\n",
    "for model in [best_clf_sgd, best_clf_lr, best_clf_dt, best_clf_rf, best_clf_linsvc]:\n",
    "    best_predictions = model.predict(X_test_vec)\n",
    "    results_tunned['Model'].append(model.__class__.__name__)\n",
    "    results_tunned[\"Best Parameters\"].append(model.get_params())\n",
    "    results_tunned[\"Accuracy\"].append(accuracy_score(y_test, best_predictions))\n",
    "    results_tunned[\"F1-score\"].append(f1_score(y_test, best_predictions))\n",
    "    results_tunned[\"Precision\"].append(precision_score(y_test, best_predictions))\n",
    "    results_tunned[\"Recall\"].append(recall_score(y_test, best_predictions))\n",
    "\n",
    "#results_tunned\n",
    "pd.DataFrame(results_tunned)"
   ]
  },
  {
   "cell_type": "code",
   "execution_count": null,
   "id": "2d20bc36",
   "metadata": {},
   "outputs": [],
   "source": []
  }
 ],
 "metadata": {
  "kernelspec": {
   "display_name": "Python 3 (ipykernel)",
   "language": "python",
   "name": "python3"
  },
  "language_info": {
   "codemirror_mode": {
    "name": "ipython",
    "version": 3
   },
   "file_extension": ".py",
   "mimetype": "text/x-python",
   "name": "python",
   "nbconvert_exporter": "python",
   "pygments_lexer": "ipython3",
   "version": "3.8.12"
  },
  "toc": {
   "base_numbering": 1,
   "nav_menu": {},
   "number_sections": true,
   "sideBar": true,
   "skip_h1_title": false,
   "title_cell": "Table of Contents",
   "title_sidebar": "Contents",
   "toc_cell": false,
   "toc_position": {},
   "toc_section_display": true,
   "toc_window_display": false
  }
 },
 "nbformat": 4,
 "nbformat_minor": 5
}
