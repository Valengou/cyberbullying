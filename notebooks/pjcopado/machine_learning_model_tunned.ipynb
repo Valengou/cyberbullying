{
 "cells": [
  {
   "cell_type": "markdown",
   "id": "bfb494e4",
   "metadata": {},
   "source": [
    "# Modelos de Machine Learning "
   ]
  },
  {
   "cell_type": "code",
   "execution_count": 1,
   "id": "422111f1",
   "metadata": {},
   "outputs": [],
   "source": [
    "%load_ext autoreload\n",
    "%autoreload 2"
   ]
  },
  {
   "cell_type": "code",
   "execution_count": 2,
   "id": "9d121970",
   "metadata": {},
   "outputs": [],
   "source": [
    "import numpy as np\n",
    "import pandas as pd\n",
    "import matplotlib.pyplot as plt\n",
    "import seaborn as sns\n",
    "\n",
    "from time import time\n",
    "\n",
    "from sklearn.model_selection import train_test_split, GridSearchCV\n",
    "from sklearn.feature_extraction.text import CountVectorizer, TfidfVectorizer\n",
    "from sklearn.metrics import f1_score, accuracy_score, precision_score, recall_score, make_scorer\n",
    "\n",
    "from sklearn.svm import LinearSVC\n",
    "from sklearn.linear_model import SGDClassifier\n",
    "import joblib\n",
    "\n",
    "\n",
    "from sklearn.model_selection import cross_validate\n",
    "from sklearn.pipeline import make_pipeline\n",
    "from sklearn.preprocessing import FunctionTransformer, StandardScaler\n",
    "from sklearn.compose import make_column_transformer\n",
    "from sklearn.metrics import ConfusionMatrixDisplay,confusion_matrix\n",
    "\n",
    "from sklearn import set_config; set_config(display='diagram')"
   ]
  },
  {
   "cell_type": "markdown",
   "id": "3de7b1a8",
   "metadata": {},
   "source": [
    "## Importamos el Dataset"
   ]
  },
  {
   "cell_type": "code",
   "execution_count": 3,
   "id": "7d4d7641",
   "metadata": {},
   "outputs": [],
   "source": [
    "def simple_spam(s):\n",
    "    text=word_tokenize(s)\n",
    "    for index in range(len(text)-1):    \n",
    "        if text[index]==text[index+1]:\n",
    "            text[index]=''\n",
    "        s=' '.join(w for w in text if w != '')\n",
    "    return s\n",
    "\n",
    "def double_spam(s):\n",
    "    text=word_tokenize(s)\n",
    "    for index in range(len(text)-3):    \n",
    "        if text[index]+' '+text[index+1]==text[index+2]+' '+text[index+3]:\n",
    "            text[index]=''\n",
    "            text[index+1]=''\n",
    "        s=' '.join(w for w in text if w != '').strip()\n",
    "    return s"
   ]
  },
  {
   "cell_type": "code",
   "execution_count": 4,
   "id": "65b41266",
   "metadata": {},
   "outputs": [],
   "source": [
    "def spam(s):\n",
    "    text=word_tokenize(s)\n",
    "    for index in range(len(text)-1):    \n",
    "        if text[index]==text[index+1]:\n",
    "            text[index]=''\n",
    "        text= [w for w in text if w != '']\n",
    "        \n",
    "    for index in range(len(text)-3):    \n",
    "        if text[index]+' '+text[index+1]==text[index+2]+' '+text[index+3]:\n",
    "            text[index]=''\n",
    "            text[index+1]=''\n",
    "        s=' '.join(w for w in text if w != '').strip()\n",
    "    return s"
   ]
  },
  {
   "cell_type": "code",
   "execution_count": 5,
   "id": "9a2635ad",
   "metadata": {},
   "outputs": [
    {
     "data": {
      "text/html": [
       "<div>\n",
       "<style scoped>\n",
       "    .dataframe tbody tr th:only-of-type {\n",
       "        vertical-align: middle;\n",
       "    }\n",
       "\n",
       "    .dataframe tbody tr th {\n",
       "        vertical-align: top;\n",
       "    }\n",
       "\n",
       "    .dataframe thead th {\n",
       "        text-align: right;\n",
       "    }\n",
       "</style>\n",
       "<table border=\"1\" class=\"dataframe\">\n",
       "  <thead>\n",
       "    <tr style=\"text-align: right;\">\n",
       "      <th></th>\n",
       "      <th>text</th>\n",
       "      <th>target</th>\n",
       "    </tr>\n",
       "  </thead>\n",
       "  <tbody>\n",
       "    <tr>\n",
       "      <th>0</th>\n",
       "      <td>one make analogy mathematical terms envisionin...</td>\n",
       "      <td>0.0</td>\n",
       "    </tr>\n",
       "    <tr>\n",
       "      <th>1</th>\n",
       "      <td>clarification zundark right checked wikipedia ...</td>\n",
       "      <td>0.0</td>\n",
       "    </tr>\n",
       "    <tr>\n",
       "      <th>2</th>\n",
       "      <td>elected electoral jhk</td>\n",
       "      <td>0.0</td>\n",
       "    </tr>\n",
       "    <tr>\n",
       "      <th>3</th>\n",
       "      <td>fun entry devotchka coworker korea tell differ...</td>\n",
       "      <td>0.0</td>\n",
       "    </tr>\n",
       "    <tr>\n",
       "      <th>4</th>\n",
       "      <td>please relate ozone hole increases cancer prov...</td>\n",
       "      <td>0.0</td>\n",
       "    </tr>\n",
       "  </tbody>\n",
       "</table>\n",
       "</div>"
      ],
      "text/plain": [
       "                                                text  target\n",
       "0  one make analogy mathematical terms envisionin...     0.0\n",
       "1  clarification zundark right checked wikipedia ...     0.0\n",
       "2                              elected electoral jhk     0.0\n",
       "3  fun entry devotchka coworker korea tell differ...     0.0\n",
       "4  please relate ozone hole increases cancer prov...     0.0"
      ]
     },
     "execution_count": 5,
     "metadata": {},
     "output_type": "execute_result"
    }
   ],
   "source": [
    "df_lem = pd.read_csv('../../cyberbullying/data/lem_all_df.csv')\n",
    "df_lem.head()"
   ]
  },
  {
   "cell_type": "code",
   "execution_count": 6,
   "id": "3b217c80",
   "metadata": {
    "scrolled": true
   },
   "outputs": [
    {
     "data": {
      "text/plain": [
       "(226497, 2)"
      ]
     },
     "execution_count": 6,
     "metadata": {},
     "output_type": "execute_result"
    }
   ],
   "source": [
    "df_lem.shape"
   ]
  },
  {
   "cell_type": "code",
   "execution_count": 7,
   "id": "da41afb7",
   "metadata": {},
   "outputs": [],
   "source": [
    "#from nltk.tokenize import word_tokenize"
   ]
  },
  {
   "cell_type": "code",
   "execution_count": 8,
   "id": "2f9ad1a1",
   "metadata": {},
   "outputs": [],
   "source": [
    "#df_lem['text'] = df_lem['text'].map(simple_spam)"
   ]
  },
  {
   "cell_type": "code",
   "execution_count": 9,
   "id": "588784bf",
   "metadata": {},
   "outputs": [],
   "source": [
    "#df_lem['text'] = df_lem['text'].map(double_spam)"
   ]
  },
  {
   "cell_type": "code",
   "execution_count": null,
   "id": "76c0dda3",
   "metadata": {},
   "outputs": [],
   "source": []
  },
  {
   "cell_type": "markdown",
   "id": "d12b10fa",
   "metadata": {},
   "source": [
    "## Distribución"
   ]
  },
  {
   "cell_type": "code",
   "execution_count": 10,
   "id": "5cdcd7a4",
   "metadata": {},
   "outputs": [],
   "source": [
    "def plot_dist(df):\n",
    "    plt.figure(figsize = (7,7))\n",
    "    sorted_counts = df['target'].value_counts()\n",
    "    plt.pie(sorted_counts, labels = ['not bullying', 'bullying'], startangle = 90, counterclock = False,\n",
    "            wedgeprops = {'width' : 0.6}, autopct='%1.1f%%', pctdistance = 0.7,\n",
    "            textprops = {'color': 'black', 'fontsize' : 15}, shadow = True,\n",
    "            colors = sns.color_palette(\"Paired\")[7:])\n",
    "    plt.text(x = -0.35, y = 0, s = f'Total comments: {df.shape[0]}')\n",
    "    plt.title('Distribution of Comments in the Dataset', fontsize = 16);"
   ]
  },
  {
   "cell_type": "code",
   "execution_count": 11,
   "id": "b3cc8dc6",
   "metadata": {},
   "outputs": [],
   "source": [
    "percentage_used = 1\n",
    "df_sample = df_lem.sample(frac=percentage_used, random_state=0)"
   ]
  },
  {
   "cell_type": "code",
   "execution_count": 12,
   "id": "6509f9ed",
   "metadata": {},
   "outputs": [
    {
     "data": {
      "image/png": "[encoded data removed]",
      "text/plain": [
       "<Figure size 504x504 with 1 Axes>"
      ]
     },
     "metadata": {},
     "output_type": "display_data"
    }
   ],
   "source": [
    "plot_dist(df_sample)"
   ]
  },
  {
   "cell_type": "markdown",
   "id": "c0f5a5f6",
   "metadata": {},
   "source": [
    "## Holdout"
   ]
  },
  {
   "cell_type": "code",
   "execution_count": 13,
   "id": "0cf99c55",
   "metadata": {},
   "outputs": [],
   "source": [
    "X_train, X_test, y_train, y_test = train_test_split(df_sample['text'], df_sample['target'], test_size=0.3, random_state=0)"
   ]
  },
  {
   "cell_type": "code",
   "execution_count": 14,
   "id": "eb07beea",
   "metadata": {},
   "outputs": [],
   "source": [
    "X_train = pd.DataFrame(data=X_train, columns=['text'])\n",
    "X_test = pd.DataFrame(data=X_test, columns=['text'])"
   ]
  },
  {
   "cell_type": "code",
   "execution_count": 15,
   "id": "fc34e6a5",
   "metadata": {},
   "outputs": [],
   "source": [
    "def balance_df(X, y, ratio=0.3):\n",
    "    df = pd.DataFrame({'text': X, 'target': y})\n",
    "    df_class_0 = df[df['target'] == 0]\n",
    "    df_class_1 = df[df['target'] == 1]\n",
    "    df_class_1_len = df_class_1.shape[0]\n",
    "    \n",
    "    df_class_0_new = df_class_0.sample(int(df_class_1_len * (1-ratio)/ratio))\n",
    "    df_new = pd.concat([df_class_0_new, df_class_1]).sample(frac=1).reset_index(drop=True)\n",
    "    \n",
    "    X = df_new['text']\n",
    "    y = df_new['target']\n",
    "\n",
    "    return X, y\n",
    "\n",
    "#X_train, y_train = balance_df(X_train, y_train, ratio=0.1)\n",
    "# no lo usamos"
   ]
  },
  {
   "cell_type": "code",
   "execution_count": 16,
   "id": "b9f49f6c",
   "metadata": {},
   "outputs": [],
   "source": [
    "scoring = ['accuracy', 'precision', 'recall', 'f1']\n",
    "scorer = make_scorer(f1_score)"
   ]
  },
  {
   "cell_type": "code",
   "execution_count": 17,
   "id": "68250130",
   "metadata": {},
   "outputs": [],
   "source": [
    "def scores(cv_results):\n",
    "    score_results = {'accuracy': None, 'precision': None, 'recall': None, 'f1': None, 'time': None}\n",
    "    for key in score_results.keys():\n",
    "        if key == 'time':\n",
    "            score_results[key] = round(cv_results['fit_time'].mean() + cv_results['score_time'].mean(), 1)\n",
    "        else:\n",
    "            score_results[key] = round(cv_results[f'test_{key}'].mean(), 4)\n",
    "    return score_results"
   ]
  },
  {
   "cell_type": "code",
   "execution_count": 18,
   "id": "4ace33a7",
   "metadata": {},
   "outputs": [],
   "source": [
    "def conf_mx_all(y_test, y_pred):\n",
    "    \n",
    "    cm = confusion_matrix(y_test, y_pred)\n",
    "    \n",
    "    TN = cm[0,0]\n",
    "    TP = cm[1,1]\n",
    "    FN = cm[1,0]\n",
    "    FP = cm[0,1]\n",
    "    \n",
    "    recall = np.round_(TP/(TP+FN),3)\n",
    "    precision = np.round_(TP/(TP+FP),3)\n",
    "    accuracy = np.round_((TP+TN)/(TP+TN+FP+FN),3)\n",
    "    F1= np.round((2*precision*recall)/(precision+recall), 3)\n",
    "    \n",
    "    print(f\"Recall: {recall}\")\n",
    "    print(f\"Precision: {precision}\")\n",
    "    print(f\"Accuracy: {accuracy}\")\n",
    "    print(f\"F1-score: {F1}\")\n",
    "    \n",
    "    disp = ConfusionMatrixDisplay(confusion_matrix=cm,display_labels=[0,1])\n",
    "    disp.plot();\n",
    "    \n",
    "    return recall, precision, accuracy, F1"
   ]
  },
  {
   "cell_type": "code",
   "execution_count": 19,
   "id": "47457409",
   "metadata": {},
   "outputs": [],
   "source": [
    "def pipeline(vectorizer_list, learner_list, X_train, y_train, X_test, y_test): \n",
    "    '''\n",
    "    inputs:\n",
    "       - learner: the learning algorithm to be trained and predicted on\n",
    "       - X_train: features training set\n",
    "       - y_train: income training set\n",
    "       - X_test: features testing set\n",
    "       - y_test: income testing set\n",
    "    '''\n",
    "    \n",
    "    def list_params(new_class):\n",
    "        name = new_class.__class__.__name__\n",
    "        default_class = eval(name + '()').get_params()\n",
    "        new_class = new_class.get_params()\n",
    "\n",
    "        new_dict = {}\n",
    "\n",
    "        for key in new_class.keys():\n",
    "            if new_class[key] != default_class[key]:\n",
    "                new_dict[key] = new_class[key]\n",
    "        return new_dict\n",
    "    \n",
    "    \n",
    "    # Get length of Training Data:\n",
    "    size = len(y_train)\n",
    "    \n",
    "    results = {}\n",
    "    final_results = []\n",
    "    \n",
    "    for vectorizer in vectorizer_list:\n",
    "        \n",
    "        X_train_vec = vectorizer.fit_transform(X_train['text'])\n",
    "        X_test_vec = vectorizer.transform(X_test['text'])\n",
    "        \n",
    "    \n",
    "        for learner in learner_list:\n",
    "\n",
    "            # Store the vectorizer name and params:\n",
    "            results['Vectorizer'] = vectorizer.__class__.__name__\n",
    "            results['Vectorizer Params'] = list_params(vectorizer)\n",
    "\n",
    "            # Store the learner name and params:\n",
    "            results['Algorithm'] = learner.__class__.__name__\n",
    "            results['Algorithm Params'] = list_params(learner)\n",
    "\n",
    "            # Fit the learner:\n",
    "            start = time() # Get start time\n",
    "            learner = learner.fit(X_train_vec, y_train)\n",
    "            end = time() # Get end time\n",
    "\n",
    "            # Store the training time\n",
    "            results['Training Time'] = round(end - start, 2)\n",
    "\n",
    "            start = time() # Get start time\n",
    "            predictions_test = learner.predict(X_test_vec)\n",
    "            predictions_train = learner.predict(X_train_vec)\n",
    "            end = time() # Get end time\n",
    "\n",
    "            # Store the prediction time\n",
    "            results['Prediction Time'] = round(end - start, 2)\n",
    "\n",
    "            # Compute the F1 Score on Test Set\n",
    "            results['f1'] = round(f1_score(y_test, predictions_test), 4)\n",
    "\n",
    "            # Compute the Recall on Test Set\n",
    "            results['recall'] = round(recall_score(y_test, predictions_test), 4)\n",
    "            \n",
    "            # Compute the Precision on Test Set\n",
    "            results['precision'] = round(precision_score(y_test, predictions_test), 4)\n",
    "            \n",
    "            # Compute the Accuracy on Test Set\n",
    "            results['accuracy'] = round(accuracy_score(y_test, predictions_test), 4)\n",
    "\n",
    "            final_results.append(results.copy())\n",
    "            \n",
    "    # Return a dataframe of the results\n",
    "    return final_results"
   ]
  },
  {
   "cell_type": "code",
   "execution_count": 20,
   "id": "a0333e05",
   "metadata": {},
   "outputs": [
    {
     "name": "stdout",
     "output_type": "stream",
     "text": [
      "CPU times: user 37.9 s, sys: 205 ms, total: 38.1 s\n",
      "Wall time: 38.1 s\n"
     ]
    },
    {
     "data": {
      "text/html": [
       "<div>\n",
       "<style scoped>\n",
       "    .dataframe tbody tr th:only-of-type {\n",
       "        vertical-align: middle;\n",
       "    }\n",
       "\n",
       "    .dataframe tbody tr th {\n",
       "        vertical-align: top;\n",
       "    }\n",
       "\n",
       "    .dataframe thead th {\n",
       "        text-align: right;\n",
       "    }\n",
       "</style>\n",
       "<table border=\"1\" class=\"dataframe\">\n",
       "  <thead>\n",
       "    <tr style=\"text-align: right;\">\n",
       "      <th></th>\n",
       "      <th>Vectorizer</th>\n",
       "      <th>Vectorizer Params</th>\n",
       "      <th>Algorithm</th>\n",
       "      <th>Algorithm Params</th>\n",
       "      <th>Training Time</th>\n",
       "      <th>Prediction Time</th>\n",
       "      <th>f1</th>\n",
       "      <th>recall</th>\n",
       "      <th>precision</th>\n",
       "      <th>accuracy</th>\n",
       "    </tr>\n",
       "  </thead>\n",
       "  <tbody>\n",
       "    <tr>\n",
       "      <th>0</th>\n",
       "      <td>TfidfVectorizer</td>\n",
       "      <td>{'max_features': 20000, 'min_df': 3}</td>\n",
       "      <td>LinearSVC</td>\n",
       "      <td>{'class_weight': {0: 0.24, 1: 0.76}}</td>\n",
       "      <td>1.55</td>\n",
       "      <td>0.01</td>\n",
       "      <td>0.6597</td>\n",
       "      <td>0.6980</td>\n",
       "      <td>0.6253</td>\n",
       "      <td>0.9153</td>\n",
       "    </tr>\n",
       "    <tr>\n",
       "      <th>1</th>\n",
       "      <td>TfidfVectorizer</td>\n",
       "      <td>{'max_features': 20000, 'min_df': 3}</td>\n",
       "      <td>LinearSVC</td>\n",
       "      <td>{'class_weight': {0: 0.25, 1: 0.75}}</td>\n",
       "      <td>1.35</td>\n",
       "      <td>0.01</td>\n",
       "      <td>0.6592</td>\n",
       "      <td>0.6896</td>\n",
       "      <td>0.6313</td>\n",
       "      <td>0.9161</td>\n",
       "    </tr>\n",
       "    <tr>\n",
       "      <th>2</th>\n",
       "      <td>TfidfVectorizer</td>\n",
       "      <td>{'max_features': 20000, 'min_df': 3}</td>\n",
       "      <td>LinearSVC</td>\n",
       "      <td>{'class_weight': {0: 0.26, 1: 0.74}}</td>\n",
       "      <td>1.70</td>\n",
       "      <td>0.02</td>\n",
       "      <td>0.6592</td>\n",
       "      <td>0.6805</td>\n",
       "      <td>0.6392</td>\n",
       "      <td>0.9172</td>\n",
       "    </tr>\n",
       "    <tr>\n",
       "      <th>3</th>\n",
       "      <td>TfidfVectorizer</td>\n",
       "      <td>{'max_features': 20000, 'min_df': 3}</td>\n",
       "      <td>LinearSVC</td>\n",
       "      <td>{'class_weight': {0: 0.27, 1: 0.73}}</td>\n",
       "      <td>1.51</td>\n",
       "      <td>0.02</td>\n",
       "      <td>0.6590</td>\n",
       "      <td>0.6736</td>\n",
       "      <td>0.6449</td>\n",
       "      <td>0.9180</td>\n",
       "    </tr>\n",
       "    <tr>\n",
       "      <th>4</th>\n",
       "      <td>TfidfVectorizer</td>\n",
       "      <td>{'max_features': 20000, 'min_df': 3}</td>\n",
       "      <td>LinearSVC</td>\n",
       "      <td>{'class_weight': {0: 0.23, 1: 0.77}}</td>\n",
       "      <td>1.34</td>\n",
       "      <td>0.02</td>\n",
       "      <td>0.6585</td>\n",
       "      <td>0.7054</td>\n",
       "      <td>0.6174</td>\n",
       "      <td>0.9139</td>\n",
       "    </tr>\n",
       "    <tr>\n",
       "      <th>5</th>\n",
       "      <td>TfidfVectorizer</td>\n",
       "      <td>{'max_features': 20000, 'min_df': 3}</td>\n",
       "      <td>LinearSVC</td>\n",
       "      <td>{'class_weight': {0: 0.28, 1: 0.72}}</td>\n",
       "      <td>1.58</td>\n",
       "      <td>0.02</td>\n",
       "      <td>0.6580</td>\n",
       "      <td>0.6671</td>\n",
       "      <td>0.6491</td>\n",
       "      <td>0.9184</td>\n",
       "    </tr>\n",
       "    <tr>\n",
       "      <th>6</th>\n",
       "      <td>TfidfVectorizer</td>\n",
       "      <td>{'max_features': 20000, 'min_df': 3}</td>\n",
       "      <td>LinearSVC</td>\n",
       "      <td>{'class_weight': {0: 0.22, 1: 0.78}}</td>\n",
       "      <td>1.26</td>\n",
       "      <td>0.02</td>\n",
       "      <td>0.6574</td>\n",
       "      <td>0.7138</td>\n",
       "      <td>0.6092</td>\n",
       "      <td>0.9125</td>\n",
       "    </tr>\n",
       "    <tr>\n",
       "      <th>7</th>\n",
       "      <td>TfidfVectorizer</td>\n",
       "      <td>{'max_features': 20000, 'min_df': 3}</td>\n",
       "      <td>LinearSVC</td>\n",
       "      <td>{'class_weight': {0: 0.21, 1: 0.79}}</td>\n",
       "      <td>1.20</td>\n",
       "      <td>0.01</td>\n",
       "      <td>0.6572</td>\n",
       "      <td>0.7228</td>\n",
       "      <td>0.6024</td>\n",
       "      <td>0.9113</td>\n",
       "    </tr>\n",
       "    <tr>\n",
       "      <th>8</th>\n",
       "      <td>TfidfVectorizer</td>\n",
       "      <td>{'max_features': 20000, 'min_df': 3}</td>\n",
       "      <td>LinearSVC</td>\n",
       "      <td>{'class_weight': {0: 0.29, 1: 0.71}}</td>\n",
       "      <td>1.56</td>\n",
       "      <td>0.02</td>\n",
       "      <td>0.6572</td>\n",
       "      <td>0.6600</td>\n",
       "      <td>0.6543</td>\n",
       "      <td>0.9190</td>\n",
       "    </tr>\n",
       "    <tr>\n",
       "      <th>9</th>\n",
       "      <td>TfidfVectorizer</td>\n",
       "      <td>{'max_features': 20000, 'min_df': 3}</td>\n",
       "      <td>LinearSVC</td>\n",
       "      <td>{'class_weight': {0: 0.3, 1: 0.7}}</td>\n",
       "      <td>1.28</td>\n",
       "      <td>0.01</td>\n",
       "      <td>0.6568</td>\n",
       "      <td>0.6534</td>\n",
       "      <td>0.6602</td>\n",
       "      <td>0.9197</td>\n",
       "    </tr>\n",
       "    <tr>\n",
       "      <th>10</th>\n",
       "      <td>TfidfVectorizer</td>\n",
       "      <td>{'max_features': 20000, 'min_df': 3}</td>\n",
       "      <td>LinearSVC</td>\n",
       "      <td>{'class_weight': {0: 0.31, 1: 0.69}}</td>\n",
       "      <td>1.07</td>\n",
       "      <td>0.01</td>\n",
       "      <td>0.6561</td>\n",
       "      <td>0.6465</td>\n",
       "      <td>0.6660</td>\n",
       "      <td>0.9203</td>\n",
       "    </tr>\n",
       "    <tr>\n",
       "      <th>11</th>\n",
       "      <td>TfidfVectorizer</td>\n",
       "      <td>{'max_features': 20000, 'min_df': 3}</td>\n",
       "      <td>LinearSVC</td>\n",
       "      <td>{'class_weight': {0: 0.2, 1: 0.8}}</td>\n",
       "      <td>1.16</td>\n",
       "      <td>0.01</td>\n",
       "      <td>0.6559</td>\n",
       "      <td>0.7309</td>\n",
       "      <td>0.5948</td>\n",
       "      <td>0.9098</td>\n",
       "    </tr>\n",
       "    <tr>\n",
       "      <th>12</th>\n",
       "      <td>TfidfVectorizer</td>\n",
       "      <td>{'max_features': 20000, 'min_df': 3}</td>\n",
       "      <td>LinearSVC</td>\n",
       "      <td>{'class_weight': {0: 0.33, 1: 0.66999999999999...</td>\n",
       "      <td>0.98</td>\n",
       "      <td>0.01</td>\n",
       "      <td>0.6559</td>\n",
       "      <td>0.6355</td>\n",
       "      <td>0.6776</td>\n",
       "      <td>0.9215</td>\n",
       "    </tr>\n",
       "    <tr>\n",
       "      <th>13</th>\n",
       "      <td>TfidfVectorizer</td>\n",
       "      <td>{'max_features': 20000, 'min_df': 3}</td>\n",
       "      <td>LinearSVC</td>\n",
       "      <td>{'class_weight': {0: 0.34, 1: 0.65999999999999...</td>\n",
       "      <td>0.94</td>\n",
       "      <td>0.01</td>\n",
       "      <td>0.6555</td>\n",
       "      <td>0.6302</td>\n",
       "      <td>0.6828</td>\n",
       "      <td>0.9221</td>\n",
       "    </tr>\n",
       "    <tr>\n",
       "      <th>14</th>\n",
       "      <td>TfidfVectorizer</td>\n",
       "      <td>{'max_features': 20000, 'min_df': 3}</td>\n",
       "      <td>LinearSVC</td>\n",
       "      <td>{'class_weight': {0: 0.32, 1: 0.67999999999999...</td>\n",
       "      <td>1.11</td>\n",
       "      <td>0.01</td>\n",
       "      <td>0.6547</td>\n",
       "      <td>0.6392</td>\n",
       "      <td>0.6710</td>\n",
       "      <td>0.9207</td>\n",
       "    </tr>\n",
       "    <tr>\n",
       "      <th>15</th>\n",
       "      <td>TfidfVectorizer</td>\n",
       "      <td>{'max_features': 20000, 'min_df': 3}</td>\n",
       "      <td>LinearSVC</td>\n",
       "      <td>{'class_weight': {0: 0.35, 1: 0.65}}</td>\n",
       "      <td>0.87</td>\n",
       "      <td>0.01</td>\n",
       "      <td>0.6538</td>\n",
       "      <td>0.6222</td>\n",
       "      <td>0.6887</td>\n",
       "      <td>0.9225</td>\n",
       "    </tr>\n",
       "    <tr>\n",
       "      <th>16</th>\n",
       "      <td>TfidfVectorizer</td>\n",
       "      <td>{'max_features': 20000, 'min_df': 3}</td>\n",
       "      <td>LinearSVC</td>\n",
       "      <td>{'class_weight': {0: 0.19, 1: 0.81}}</td>\n",
       "      <td>1.13</td>\n",
       "      <td>0.01</td>\n",
       "      <td>0.6532</td>\n",
       "      <td>0.7381</td>\n",
       "      <td>0.5858</td>\n",
       "      <td>0.9078</td>\n",
       "    </tr>\n",
       "    <tr>\n",
       "      <th>17</th>\n",
       "      <td>TfidfVectorizer</td>\n",
       "      <td>{'max_features': 20000, 'min_df': 3}</td>\n",
       "      <td>LinearSVC</td>\n",
       "      <td>{'class_weight': {0: 0.37, 1: 0.63}}</td>\n",
       "      <td>0.92</td>\n",
       "      <td>0.01</td>\n",
       "      <td>0.6524</td>\n",
       "      <td>0.6107</td>\n",
       "      <td>0.7001</td>\n",
       "      <td>0.9234</td>\n",
       "    </tr>\n",
       "    <tr>\n",
       "      <th>18</th>\n",
       "      <td>TfidfVectorizer</td>\n",
       "      <td>{'max_features': 20000, 'min_df': 3}</td>\n",
       "      <td>LinearSVC</td>\n",
       "      <td>{'class_weight': {0: 0.36, 1: 0.64}}</td>\n",
       "      <td>0.89</td>\n",
       "      <td>0.01</td>\n",
       "      <td>0.6524</td>\n",
       "      <td>0.6155</td>\n",
       "      <td>0.6941</td>\n",
       "      <td>0.9229</td>\n",
       "    </tr>\n",
       "    <tr>\n",
       "      <th>19</th>\n",
       "      <td>TfidfVectorizer</td>\n",
       "      <td>{'max_features': 20000, 'min_df': 3}</td>\n",
       "      <td>LinearSVC</td>\n",
       "      <td>{'class_weight': {0: 0.38, 1: 0.62}}</td>\n",
       "      <td>0.88</td>\n",
       "      <td>0.01</td>\n",
       "      <td>0.6513</td>\n",
       "      <td>0.6051</td>\n",
       "      <td>0.7052</td>\n",
       "      <td>0.9238</td>\n",
       "    </tr>\n",
       "    <tr>\n",
       "      <th>20</th>\n",
       "      <td>TfidfVectorizer</td>\n",
       "      <td>{'max_features': 20000, 'min_df': 3}</td>\n",
       "      <td>LinearSVC</td>\n",
       "      <td>{'class_weight': {0: 0.39, 1: 0.61}}</td>\n",
       "      <td>0.88</td>\n",
       "      <td>0.01</td>\n",
       "      <td>0.6505</td>\n",
       "      <td>0.5987</td>\n",
       "      <td>0.7122</td>\n",
       "      <td>0.9243</td>\n",
       "    </tr>\n",
       "    <tr>\n",
       "      <th>21</th>\n",
       "      <td>TfidfVectorizer</td>\n",
       "      <td>{'max_features': 20000, 'min_df': 3}</td>\n",
       "      <td>LinearSVC</td>\n",
       "      <td>{'class_weight': {0: 0.18, 1: 0.82000000000000...</td>\n",
       "      <td>1.18</td>\n",
       "      <td>0.01</td>\n",
       "      <td>0.6501</td>\n",
       "      <td>0.7449</td>\n",
       "      <td>0.5766</td>\n",
       "      <td>0.9057</td>\n",
       "    </tr>\n",
       "    <tr>\n",
       "      <th>22</th>\n",
       "      <td>TfidfVectorizer</td>\n",
       "      <td>{'max_features': 20000, 'min_df': 3}</td>\n",
       "      <td>LinearSVC</td>\n",
       "      <td>{'class_weight': {0: 0.17, 1: 0.83}}</td>\n",
       "      <td>1.21</td>\n",
       "      <td>0.01</td>\n",
       "      <td>0.6474</td>\n",
       "      <td>0.7528</td>\n",
       "      <td>0.5680</td>\n",
       "      <td>0.9035</td>\n",
       "    </tr>\n",
       "    <tr>\n",
       "      <th>23</th>\n",
       "      <td>TfidfVectorizer</td>\n",
       "      <td>{'max_features': 20000, 'min_df': 3}</td>\n",
       "      <td>LinearSVC</td>\n",
       "      <td>{'class_weight': {0: 0.16, 1: 0.84}}</td>\n",
       "      <td>1.16</td>\n",
       "      <td>0.01</td>\n",
       "      <td>0.6451</td>\n",
       "      <td>0.7624</td>\n",
       "      <td>0.5590</td>\n",
       "      <td>0.9013</td>\n",
       "    </tr>\n",
       "    <tr>\n",
       "      <th>24</th>\n",
       "      <td>TfidfVectorizer</td>\n",
       "      <td>{'max_features': 20000, 'min_df': 3}</td>\n",
       "      <td>LinearSVC</td>\n",
       "      <td>{'class_weight': {0: 0.15, 1: 0.85}}</td>\n",
       "      <td>1.26</td>\n",
       "      <td>0.01</td>\n",
       "      <td>0.6420</td>\n",
       "      <td>0.7728</td>\n",
       "      <td>0.5491</td>\n",
       "      <td>0.8986</td>\n",
       "    </tr>\n",
       "  </tbody>\n",
       "</table>\n",
       "</div>"
      ],
      "text/plain": [
       "         Vectorizer                     Vectorizer Params  Algorithm  \\\n",
       "0   TfidfVectorizer  {'max_features': 20000, 'min_df': 3}  LinearSVC   \n",
       "1   TfidfVectorizer  {'max_features': 20000, 'min_df': 3}  LinearSVC   \n",
       "2   TfidfVectorizer  {'max_features': 20000, 'min_df': 3}  LinearSVC   \n",
       "3   TfidfVectorizer  {'max_features': 20000, 'min_df': 3}  LinearSVC   \n",
       "4   TfidfVectorizer  {'max_features': 20000, 'min_df': 3}  LinearSVC   \n",
       "5   TfidfVectorizer  {'max_features': 20000, 'min_df': 3}  LinearSVC   \n",
       "6   TfidfVectorizer  {'max_features': 20000, 'min_df': 3}  LinearSVC   \n",
       "7   TfidfVectorizer  {'max_features': 20000, 'min_df': 3}  LinearSVC   \n",
       "8   TfidfVectorizer  {'max_features': 20000, 'min_df': 3}  LinearSVC   \n",
       "9   TfidfVectorizer  {'max_features': 20000, 'min_df': 3}  LinearSVC   \n",
       "10  TfidfVectorizer  {'max_features': 20000, 'min_df': 3}  LinearSVC   \n",
       "11  TfidfVectorizer  {'max_features': 20000, 'min_df': 3}  LinearSVC   \n",
       "12  TfidfVectorizer  {'max_features': 20000, 'min_df': 3}  LinearSVC   \n",
       "13  TfidfVectorizer  {'max_features': 20000, 'min_df': 3}  LinearSVC   \n",
       "14  TfidfVectorizer  {'max_features': 20000, 'min_df': 3}  LinearSVC   \n",
       "15  TfidfVectorizer  {'max_features': 20000, 'min_df': 3}  LinearSVC   \n",
       "16  TfidfVectorizer  {'max_features': 20000, 'min_df': 3}  LinearSVC   \n",
       "17  TfidfVectorizer  {'max_features': 20000, 'min_df': 3}  LinearSVC   \n",
       "18  TfidfVectorizer  {'max_features': 20000, 'min_df': 3}  LinearSVC   \n",
       "19  TfidfVectorizer  {'max_features': 20000, 'min_df': 3}  LinearSVC   \n",
       "20  TfidfVectorizer  {'max_features': 20000, 'min_df': 3}  LinearSVC   \n",
       "21  TfidfVectorizer  {'max_features': 20000, 'min_df': 3}  LinearSVC   \n",
       "22  TfidfVectorizer  {'max_features': 20000, 'min_df': 3}  LinearSVC   \n",
       "23  TfidfVectorizer  {'max_features': 20000, 'min_df': 3}  LinearSVC   \n",
       "24  TfidfVectorizer  {'max_features': 20000, 'min_df': 3}  LinearSVC   \n",
       "\n",
       "                                     Algorithm Params  Training Time  \\\n",
       "0                {'class_weight': {0: 0.24, 1: 0.76}}           1.55   \n",
       "1                {'class_weight': {0: 0.25, 1: 0.75}}           1.35   \n",
       "2                {'class_weight': {0: 0.26, 1: 0.74}}           1.70   \n",
       "3                {'class_weight': {0: 0.27, 1: 0.73}}           1.51   \n",
       "4                {'class_weight': {0: 0.23, 1: 0.77}}           1.34   \n",
       "5                {'class_weight': {0: 0.28, 1: 0.72}}           1.58   \n",
       "6                {'class_weight': {0: 0.22, 1: 0.78}}           1.26   \n",
       "7                {'class_weight': {0: 0.21, 1: 0.79}}           1.20   \n",
       "8                {'class_weight': {0: 0.29, 1: 0.71}}           1.56   \n",
       "9                  {'class_weight': {0: 0.3, 1: 0.7}}           1.28   \n",
       "10               {'class_weight': {0: 0.31, 1: 0.69}}           1.07   \n",
       "11                 {'class_weight': {0: 0.2, 1: 0.8}}           1.16   \n",
       "12  {'class_weight': {0: 0.33, 1: 0.66999999999999...           0.98   \n",
       "13  {'class_weight': {0: 0.34, 1: 0.65999999999999...           0.94   \n",
       "14  {'class_weight': {0: 0.32, 1: 0.67999999999999...           1.11   \n",
       "15               {'class_weight': {0: 0.35, 1: 0.65}}           0.87   \n",
       "16               {'class_weight': {0: 0.19, 1: 0.81}}           1.13   \n",
       "17               {'class_weight': {0: 0.37, 1: 0.63}}           0.92   \n",
       "18               {'class_weight': {0: 0.36, 1: 0.64}}           0.89   \n",
       "19               {'class_weight': {0: 0.38, 1: 0.62}}           0.88   \n",
       "20               {'class_weight': {0: 0.39, 1: 0.61}}           0.88   \n",
       "21  {'class_weight': {0: 0.18, 1: 0.82000000000000...           1.18   \n",
       "22               {'class_weight': {0: 0.17, 1: 0.83}}           1.21   \n",
       "23               {'class_weight': {0: 0.16, 1: 0.84}}           1.16   \n",
       "24               {'class_weight': {0: 0.15, 1: 0.85}}           1.26   \n",
       "\n",
       "    Prediction Time      f1  recall  precision  accuracy  \n",
       "0              0.01  0.6597  0.6980     0.6253    0.9153  \n",
       "1              0.01  0.6592  0.6896     0.6313    0.9161  \n",
       "2              0.02  0.6592  0.6805     0.6392    0.9172  \n",
       "3              0.02  0.6590  0.6736     0.6449    0.9180  \n",
       "4              0.02  0.6585  0.7054     0.6174    0.9139  \n",
       "5              0.02  0.6580  0.6671     0.6491    0.9184  \n",
       "6              0.02  0.6574  0.7138     0.6092    0.9125  \n",
       "7              0.01  0.6572  0.7228     0.6024    0.9113  \n",
       "8              0.02  0.6572  0.6600     0.6543    0.9190  \n",
       "9              0.01  0.6568  0.6534     0.6602    0.9197  \n",
       "10             0.01  0.6561  0.6465     0.6660    0.9203  \n",
       "11             0.01  0.6559  0.7309     0.5948    0.9098  \n",
       "12             0.01  0.6559  0.6355     0.6776    0.9215  \n",
       "13             0.01  0.6555  0.6302     0.6828    0.9221  \n",
       "14             0.01  0.6547  0.6392     0.6710    0.9207  \n",
       "15             0.01  0.6538  0.6222     0.6887    0.9225  \n",
       "16             0.01  0.6532  0.7381     0.5858    0.9078  \n",
       "17             0.01  0.6524  0.6107     0.7001    0.9234  \n",
       "18             0.01  0.6524  0.6155     0.6941    0.9229  \n",
       "19             0.01  0.6513  0.6051     0.7052    0.9238  \n",
       "20             0.01  0.6505  0.5987     0.7122    0.9243  \n",
       "21             0.01  0.6501  0.7449     0.5766    0.9057  \n",
       "22             0.01  0.6474  0.7528     0.5680    0.9035  \n",
       "23             0.01  0.6451  0.7624     0.5590    0.9013  \n",
       "24             0.01  0.6420  0.7728     0.5491    0.8986  "
      ]
     },
     "execution_count": 20,
     "metadata": {},
     "output_type": "execute_result"
    }
   ],
   "source": [
    "%%time\n",
    "# make a list of vectorizers\n",
    "vectorizers = [TfidfVectorizer(min_df=3, max_df=1.0, max_features=20000)]\n",
    "\n",
    "C = 1\n",
    "class_weight_list = [{0: round(weight_0, 2), 1: 1-round(weight_0,2)} for weight_0 in np.arange(0.15, 0.4, 0.01)]\n",
    "\n",
    "# make a list of models\n",
    "models = [LinearSVC(C=C, class_weight=class_weight) for class_weight in class_weight_list]\n",
    "\n",
    "re = pipeline(vectorizers, models, X_train, y_train, X_test, y_test)\n",
    "results = pd.DataFrame(re)\n",
    "\n",
    "results = results.sort_values(by = 'f1', ascending = False).reset_index(drop = True)\n",
    "\n",
    "best_model = results\n",
    "\n",
    "results"
   ]
  },
  {
   "cell_type": "code",
   "execution_count": 21,
   "id": "05b1ba39",
   "metadata": {},
   "outputs": [],
   "source": [
    "def get_best_model(model, type_):\n",
    "    name = model[type_]\n",
    "    params = model[f'{type_} Params']\n",
    "    return eval(f'{name}(**{params})')"
   ]
  },
  {
   "cell_type": "code",
   "execution_count": 22,
   "id": "a5e0c2ae",
   "metadata": {},
   "outputs": [],
   "source": [
    "best_vectorizer = get_best_model(results.iloc[0], 'Vectorizer')\n",
    "best_model = get_best_model(results.iloc[0], 'Algorithm')"
   ]
  },
  {
   "cell_type": "code",
   "execution_count": 23,
   "id": "9399afc5",
   "metadata": {},
   "outputs": [],
   "source": [
    "def plot_scores(results):\n",
    "    score_results = {'class_weight': [dic['class_weight'][0] for dic in results['Algorithm Params'].values],\n",
    "                     'accuracy': results['accuracy'],\n",
    "                     'precision': results['precision'],\n",
    "                     'recall': results['recall'],\n",
    "                     'f1': results['f1'],\n",
    "                     'time': results['Training Time'] + results['Prediction Time']}\n",
    "    \n",
    "    score_results = pd.DataFrame(data=score_results).sort_values(by = 'class_weight').reset_index(drop = True)\n",
    "    \n",
    "    plt.figure(figsize=(12,6))\n",
    "        \n",
    "    plt.plot(score_results['class_weight'], score_results['recall'], c='r', label='recall')\n",
    "    plt.plot(score_results['class_weight'], score_results['precision'], c='b', label='precision')    \n",
    "    plt.plot(score_results['class_weight'], score_results['f1'], c='g', label='f1')\n",
    "    plt.xlabel('class weight')\n",
    "    plt.ylabel('score')\n",
    "    plt.legend()\n",
    "    plt.grid(alpha=0.3)\n",
    "        \n",
    "    #return score_results"
   ]
  },
  {
   "cell_type": "code",
   "execution_count": 24,
   "id": "95b3bf7f",
   "metadata": {},
   "outputs": [
    {
     "data": {
      "image/png": "[encoded data removed]",
      "text/plain": [
       "<Figure size 864x432 with 1 Axes>"
      ]
     },
     "metadata": {
      "needs_background": "light"
     },
     "output_type": "display_data"
    }
   ],
   "source": [
    "plot_scores(results)"
   ]
  },
  {
   "cell_type": "code",
   "execution_count": 25,
   "id": "4f9ef0d1",
   "metadata": {},
   "outputs": [],
   "source": [
    "vectorizer = best_vectorizer\n",
    "model = best_model"
   ]
  },
  {
   "cell_type": "code",
   "execution_count": 26,
   "id": "851ab67f",
   "metadata": {},
   "outputs": [],
   "source": [
    "preprocessing = make_column_transformer(\n",
    "    (make_pipeline(vectorizer), 'text')\n",
    ")"
   ]
  },
  {
   "cell_type": "code",
   "execution_count": 27,
   "id": "0e4128aa",
   "metadata": {},
   "outputs": [
    {
     "data": {
      "text/html": [
       "<style>#sk-648a5521-6b32-424b-b047-67a6a52d57f3 {color: black;background-color: white;}#sk-648a5521-6b32-424b-b047-67a6a52d57f3 pre{padding: 0;}#sk-648a5521-6b32-424b-b047-67a6a52d57f3 div.sk-toggleable {background-color: white;}#sk-648a5521-6b32-424b-b047-67a6a52d57f3 label.sk-toggleable__label {cursor: pointer;display: block;width: 100%;margin-bottom: 0;padding: 0.3em;box-sizing: border-box;text-align: center;}#sk-648a5521-6b32-424b-b047-67a6a52d57f3 label.sk-toggleable__label-arrow:before {content: \"▸\";float: left;margin-right: 0.25em;color: #696969;}#sk-648a5521-6b32-424b-b047-67a6a52d57f3 label.sk-toggleable__label-arrow:hover:before {color: black;}#sk-648a5521-6b32-424b-b047-67a6a52d57f3 div.sk-estimator:hover label.sk-toggleable__label-arrow:before {color: black;}#sk-648a5521-6b32-424b-b047-67a6a52d57f3 div.sk-toggleable__content {max-height: 0;max-width: 0;overflow: hidden;text-align: left;background-color: #f0f8ff;}#sk-648a5521-6b32-424b-b047-67a6a52d57f3 div.sk-toggleable__content pre {margin: 0.2em;color: black;border-radius: 0.25em;background-color: #f0f8ff;}#sk-648a5521-6b32-424b-b047-67a6a52d57f3 input.sk-toggleable__control:checked~div.sk-toggleable__content {max-height: 200px;max-width: 100%;overflow: auto;}#sk-648a5521-6b32-424b-b047-67a6a52d57f3 input.sk-toggleable__control:checked~label.sk-toggleable__label-arrow:before {content: \"▾\";}#sk-648a5521-6b32-424b-b047-67a6a52d57f3 div.sk-estimator input.sk-toggleable__control:checked~label.sk-toggleable__label {background-color: #d4ebff;}#sk-648a5521-6b32-424b-b047-67a6a52d57f3 div.sk-label input.sk-toggleable__control:checked~label.sk-toggleable__label {background-color: #d4ebff;}#sk-648a5521-6b32-424b-b047-67a6a52d57f3 input.sk-hidden--visually {border: 0;clip: rect(1px 1px 1px 1px);clip: rect(1px, 1px, 1px, 1px);height: 1px;margin: -1px;overflow: hidden;padding: 0;position: absolute;width: 1px;}#sk-648a5521-6b32-424b-b047-67a6a52d57f3 div.sk-estimator {font-family: monospace;background-color: #f0f8ff;border: 1px dotted black;border-radius: 0.25em;box-sizing: border-box;margin-bottom: 0.5em;}#sk-648a5521-6b32-424b-b047-67a6a52d57f3 div.sk-estimator:hover {background-color: #d4ebff;}#sk-648a5521-6b32-424b-b047-67a6a52d57f3 div.sk-parallel-item::after {content: \"\";width: 100%;border-bottom: 1px solid gray;flex-grow: 1;}#sk-648a5521-6b32-424b-b047-67a6a52d57f3 div.sk-label:hover label.sk-toggleable__label {background-color: #d4ebff;}#sk-648a5521-6b32-424b-b047-67a6a52d57f3 div.sk-serial::before {content: \"\";position: absolute;border-left: 1px solid gray;box-sizing: border-box;top: 2em;bottom: 0;left: 50%;}#sk-648a5521-6b32-424b-b047-67a6a52d57f3 div.sk-serial {display: flex;flex-direction: column;align-items: center;background-color: white;padding-right: 0.2em;padding-left: 0.2em;}#sk-648a5521-6b32-424b-b047-67a6a52d57f3 div.sk-item {z-index: 1;}#sk-648a5521-6b32-424b-b047-67a6a52d57f3 div.sk-parallel {display: flex;align-items: stretch;justify-content: center;background-color: white;}#sk-648a5521-6b32-424b-b047-67a6a52d57f3 div.sk-parallel::before {content: \"\";position: absolute;border-left: 1px solid gray;box-sizing: border-box;top: 2em;bottom: 0;left: 50%;}#sk-648a5521-6b32-424b-b047-67a6a52d57f3 div.sk-parallel-item {display: flex;flex-direction: column;position: relative;background-color: white;}#sk-648a5521-6b32-424b-b047-67a6a52d57f3 div.sk-parallel-item:first-child::after {align-self: flex-end;width: 50%;}#sk-648a5521-6b32-424b-b047-67a6a52d57f3 div.sk-parallel-item:last-child::after {align-self: flex-start;width: 50%;}#sk-648a5521-6b32-424b-b047-67a6a52d57f3 div.sk-parallel-item:only-child::after {width: 0;}#sk-648a5521-6b32-424b-b047-67a6a52d57f3 div.sk-dashed-wrapped {border: 1px dashed gray;margin: 0 0.4em 0.5em 0.4em;box-sizing: border-box;padding-bottom: 0.4em;background-color: white;position: relative;}#sk-648a5521-6b32-424b-b047-67a6a52d57f3 div.sk-label label {font-family: monospace;font-weight: bold;background-color: white;display: inline-block;line-height: 1.2em;}#sk-648a5521-6b32-424b-b047-67a6a52d57f3 div.sk-label-container {position: relative;z-index: 2;text-align: center;}#sk-648a5521-6b32-424b-b047-67a6a52d57f3 div.sk-container {/* jupyter's `normalize.less` sets `[hidden] { display: none; }` but bootstrap.min.css set `[hidden] { display: none !important; }` so we also need the `!important` here to be able to override the default hidden behavior on the sphinx rendered scikit-learn.org. See: https://github.com/scikit-learn/scikit-learn/issues/21755 */display: inline-block !important;position: relative;}#sk-648a5521-6b32-424b-b047-67a6a52d57f3 div.sk-text-repr-fallback {display: none;}</style><div id=\"sk-648a5521-6b32-424b-b047-67a6a52d57f3\" class=\"sk-top-container\"><div class=\"sk-text-repr-fallback\"><pre>Pipeline(steps=[(&#x27;columntransformer&#x27;,\n",
       "                 ColumnTransformer(transformers=[(&#x27;pipeline&#x27;,\n",
       "                                                  Pipeline(steps=[(&#x27;tfidfvectorizer&#x27;,\n",
       "                                                                   TfidfVectorizer(max_features=20000,\n",
       "                                                                                   min_df=3))]),\n",
       "                                                  &#x27;text&#x27;)])),\n",
       "                (&#x27;linearsvc&#x27;, LinearSVC(class_weight={0: 0.24, 1: 0.76}))])</pre><b>Please rerun this cell to show the HTML repr or trust the notebook.</b></div><div class=\"sk-container\" hidden><div class=\"sk-item sk-dashed-wrapped\"><div class=\"sk-label-container\"><div class=\"sk-label sk-toggleable\"><input class=\"sk-toggleable__control sk-hidden--visually\" id=\"476ce158-0c8d-4a08-b6d9-a8f1c01e38f1\" type=\"checkbox\" ><label for=\"476ce158-0c8d-4a08-b6d9-a8f1c01e38f1\" class=\"sk-toggleable__label sk-toggleable__label-arrow\">Pipeline</label><div class=\"sk-toggleable__content\"><pre>Pipeline(steps=[(&#x27;columntransformer&#x27;,\n",
       "                 ColumnTransformer(transformers=[(&#x27;pipeline&#x27;,\n",
       "                                                  Pipeline(steps=[(&#x27;tfidfvectorizer&#x27;,\n",
       "                                                                   TfidfVectorizer(max_features=20000,\n",
       "                                                                                   min_df=3))]),\n",
       "                                                  &#x27;text&#x27;)])),\n",
       "                (&#x27;linearsvc&#x27;, LinearSVC(class_weight={0: 0.24, 1: 0.76}))])</pre></div></div></div><div class=\"sk-serial\"><div class=\"sk-item sk-dashed-wrapped\"><div class=\"sk-label-container\"><div class=\"sk-label sk-toggleable\"><input class=\"sk-toggleable__control sk-hidden--visually\" id=\"66ae4615-f1be-450e-ba47-1600b70a747f\" type=\"checkbox\" ><label for=\"66ae4615-f1be-450e-ba47-1600b70a747f\" class=\"sk-toggleable__label sk-toggleable__label-arrow\">columntransformer: ColumnTransformer</label><div class=\"sk-toggleable__content\"><pre>ColumnTransformer(transformers=[(&#x27;pipeline&#x27;,\n",
       "                                 Pipeline(steps=[(&#x27;tfidfvectorizer&#x27;,\n",
       "                                                  TfidfVectorizer(max_features=20000,\n",
       "                                                                  min_df=3))]),\n",
       "                                 &#x27;text&#x27;)])</pre></div></div></div><div class=\"sk-parallel\"><div class=\"sk-parallel-item\"><div class=\"sk-item\"><div class=\"sk-label-container\"><div class=\"sk-label sk-toggleable\"><input class=\"sk-toggleable__control sk-hidden--visually\" id=\"65cebae3-594b-4f50-9152-ef4b318c0927\" type=\"checkbox\" ><label for=\"65cebae3-594b-4f50-9152-ef4b318c0927\" class=\"sk-toggleable__label sk-toggleable__label-arrow\">pipeline</label><div class=\"sk-toggleable__content\"><pre>text</pre></div></div></div><div class=\"sk-serial\"><div class=\"sk-item\"><div class=\"sk-serial\"><div class=\"sk-item\"><div class=\"sk-estimator sk-toggleable\"><input class=\"sk-toggleable__control sk-hidden--visually\" id=\"9a0356e2-bf3e-45f9-825e-fb0e3f5be5ac\" type=\"checkbox\" ><label for=\"9a0356e2-bf3e-45f9-825e-fb0e3f5be5ac\" class=\"sk-toggleable__label sk-toggleable__label-arrow\">TfidfVectorizer</label><div class=\"sk-toggleable__content\"><pre>TfidfVectorizer(max_features=20000, min_df=3)</pre></div></div></div></div></div></div></div></div></div></div><div class=\"sk-item\"><div class=\"sk-estimator sk-toggleable\"><input class=\"sk-toggleable__control sk-hidden--visually\" id=\"1030d7dc-80d7-4e21-b901-de7d1e3331d1\" type=\"checkbox\" ><label for=\"1030d7dc-80d7-4e21-b901-de7d1e3331d1\" class=\"sk-toggleable__label sk-toggleable__label-arrow\">LinearSVC</label><div class=\"sk-toggleable__content\"><pre>LinearSVC(class_weight={0: 0.24, 1: 0.76})</pre></div></div></div></div></div></div></div>"
      ],
      "text/plain": [
       "Pipeline(steps=[('columntransformer',\n",
       "                 ColumnTransformer(transformers=[('pipeline',\n",
       "                                                  Pipeline(steps=[('tfidfvectorizer',\n",
       "                                                                   TfidfVectorizer(max_features=20000,\n",
       "                                                                                   min_df=3))]),\n",
       "                                                  'text')])),\n",
       "                ('linearsvc', LinearSVC(class_weight={0: 0.24, 1: 0.76}))])"
      ]
     },
     "execution_count": 27,
     "metadata": {},
     "output_type": "execute_result"
    }
   ],
   "source": [
    "pipe = make_pipeline(\n",
    "    preprocessing,\n",
    "    model\n",
    ")\n",
    "\n",
    "pipe"
   ]
  },
  {
   "cell_type": "code",
   "execution_count": 28,
   "id": "2822ef1a",
   "metadata": {},
   "outputs": [
    {
     "data": {
      "text/plain": [
       "{'memory': None,\n",
       " 'steps': [('columntransformer',\n",
       "   ColumnTransformer(transformers=[('pipeline',\n",
       "                                    Pipeline(steps=[('tfidfvectorizer',\n",
       "                                                     TfidfVectorizer(max_features=20000,\n",
       "                                                                     min_df=3))]),\n",
       "                                    'text')])),\n",
       "  ('linearsvc', LinearSVC(class_weight={0: 0.24, 1: 0.76}))],\n",
       " 'verbose': False,\n",
       " 'columntransformer': ColumnTransformer(transformers=[('pipeline',\n",
       "                                  Pipeline(steps=[('tfidfvectorizer',\n",
       "                                                   TfidfVectorizer(max_features=20000,\n",
       "                                                                   min_df=3))]),\n",
       "                                  'text')]),\n",
       " 'linearsvc': LinearSVC(class_weight={0: 0.24, 1: 0.76}),\n",
       " 'columntransformer__n_jobs': None,\n",
       " 'columntransformer__remainder': 'drop',\n",
       " 'columntransformer__sparse_threshold': 0.3,\n",
       " 'columntransformer__transformer_weights': None,\n",
       " 'columntransformer__transformers': [('pipeline',\n",
       "   Pipeline(steps=[('tfidfvectorizer',\n",
       "                    TfidfVectorizer(max_features=20000, min_df=3))]),\n",
       "   'text')],\n",
       " 'columntransformer__verbose': False,\n",
       " 'columntransformer__verbose_feature_names_out': True,\n",
       " 'columntransformer__pipeline': Pipeline(steps=[('tfidfvectorizer',\n",
       "                  TfidfVectorizer(max_features=20000, min_df=3))]),\n",
       " 'columntransformer__pipeline__memory': None,\n",
       " 'columntransformer__pipeline__steps': [('tfidfvectorizer',\n",
       "   TfidfVectorizer(max_features=20000, min_df=3))],\n",
       " 'columntransformer__pipeline__verbose': False,\n",
       " 'columntransformer__pipeline__tfidfvectorizer': TfidfVectorizer(max_features=20000, min_df=3),\n",
       " 'columntransformer__pipeline__tfidfvectorizer__analyzer': 'word',\n",
       " 'columntransformer__pipeline__tfidfvectorizer__binary': False,\n",
       " 'columntransformer__pipeline__tfidfvectorizer__decode_error': 'strict',\n",
       " 'columntransformer__pipeline__tfidfvectorizer__dtype': numpy.float64,\n",
       " 'columntransformer__pipeline__tfidfvectorizer__encoding': 'utf-8',\n",
       " 'columntransformer__pipeline__tfidfvectorizer__input': 'content',\n",
       " 'columntransformer__pipeline__tfidfvectorizer__lowercase': True,\n",
       " 'columntransformer__pipeline__tfidfvectorizer__max_df': 1.0,\n",
       " 'columntransformer__pipeline__tfidfvectorizer__max_features': 20000,\n",
       " 'columntransformer__pipeline__tfidfvectorizer__min_df': 3,\n",
       " 'columntransformer__pipeline__tfidfvectorizer__ngram_range': (1, 1),\n",
       " 'columntransformer__pipeline__tfidfvectorizer__norm': 'l2',\n",
       " 'columntransformer__pipeline__tfidfvectorizer__preprocessor': None,\n",
       " 'columntransformer__pipeline__tfidfvectorizer__smooth_idf': True,\n",
       " 'columntransformer__pipeline__tfidfvectorizer__stop_words': None,\n",
       " 'columntransformer__pipeline__tfidfvectorizer__strip_accents': None,\n",
       " 'columntransformer__pipeline__tfidfvectorizer__sublinear_tf': False,\n",
       " 'columntransformer__pipeline__tfidfvectorizer__token_pattern': '(?u)\\\\b\\\\w\\\\w+\\\\b',\n",
       " 'columntransformer__pipeline__tfidfvectorizer__tokenizer': None,\n",
       " 'columntransformer__pipeline__tfidfvectorizer__use_idf': True,\n",
       " 'columntransformer__pipeline__tfidfvectorizer__vocabulary': None,\n",
       " 'linearsvc__C': 1.0,\n",
       " 'linearsvc__class_weight': {0: 0.24, 1: 0.76},\n",
       " 'linearsvc__dual': True,\n",
       " 'linearsvc__fit_intercept': True,\n",
       " 'linearsvc__intercept_scaling': 1,\n",
       " 'linearsvc__loss': 'squared_hinge',\n",
       " 'linearsvc__max_iter': 1000,\n",
       " 'linearsvc__multi_class': 'ovr',\n",
       " 'linearsvc__penalty': 'l2',\n",
       " 'linearsvc__random_state': None,\n",
       " 'linearsvc__tol': 0.0001,\n",
       " 'linearsvc__verbose': 0}"
      ]
     },
     "execution_count": 28,
     "metadata": {},
     "output_type": "execute_result"
    }
   ],
   "source": [
    "pipe.get_params()"
   ]
  },
  {
   "cell_type": "code",
   "execution_count": 29,
   "id": "916892bf",
   "metadata": {},
   "outputs": [],
   "source": [
    "#X_train = pd.DataFrame(data=X_train, columns=['text'])\n",
    "#X_test = pd.DataFrame(data=X_test, columns=['text'])"
   ]
  },
  {
   "cell_type": "code",
   "execution_count": 30,
   "id": "ca2f8f5a",
   "metadata": {},
   "outputs": [],
   "source": [
    "cv_results = cross_validate(pipe, X_train, y_train, cv=5, n_jobs=-1, scoring=scoring)"
   ]
  },
  {
   "cell_type": "code",
   "execution_count": 31,
   "id": "6b331baa",
   "metadata": {},
   "outputs": [
    {
     "data": {
      "text/plain": [
       "{'accuracy': 0.9131,\n",
       " 'precision': 0.6225,\n",
       " 'recall': 0.6941,\n",
       " 'f1': 0.6564,\n",
       " 'time': 7.0}"
      ]
     },
     "execution_count": 31,
     "metadata": {},
     "output_type": "execute_result"
    }
   ],
   "source": [
    "scores(cv_results)"
   ]
  },
  {
   "cell_type": "code",
   "execution_count": 32,
   "id": "e1eeacf2",
   "metadata": {},
   "outputs": [],
   "source": [
    "pipe.fit(X_train, y_train);"
   ]
  },
  {
   "cell_type": "code",
   "execution_count": 33,
   "id": "28344321",
   "metadata": {},
   "outputs": [],
   "source": [
    "y_pred = pipe.predict(X_test)"
   ]
  },
  {
   "cell_type": "code",
   "execution_count": 34,
   "id": "e661c52b",
   "metadata": {},
   "outputs": [
    {
     "name": "stdout",
     "output_type": "stream",
     "text": [
      "Recall: 0.698\n",
      "Precision: 0.625\n",
      "Accuracy: 0.915\n",
      "F1-score: 0.659\n"
     ]
    },
    {
     "data": {
      "text/plain": [
       "(0.698, 0.625, 0.915, 0.659)"
      ]
     },
     "execution_count": 34,
     "metadata": {},
     "output_type": "execute_result"
    },
    {
     "data": {
      "image/png": "[encoded data removed]",
      "text/plain": [
       "<Figure size 432x288 with 2 Axes>"
      ]
     },
     "metadata": {
      "needs_background": "light"
     },
     "output_type": "display_data"
    }
   ],
   "source": [
    "conf_mx_all(y_test, y_pred)"
   ]
  },
  {
   "cell_type": "code",
   "execution_count": null,
   "id": "b17fdb84",
   "metadata": {},
   "outputs": [],
   "source": []
  },
  {
   "cell_type": "code",
   "execution_count": null,
   "id": "fcde6e86",
   "metadata": {},
   "outputs": [],
   "source": []
  },
  {
   "cell_type": "code",
   "execution_count": null,
   "id": "d06303af",
   "metadata": {},
   "outputs": [],
   "source": []
  },
  {
   "cell_type": "code",
   "execution_count": 35,
   "id": "3bab0617",
   "metadata": {},
   "outputs": [],
   "source": [
    "params = {\n",
    "    'columntransformer__pipeline__tfidfvectorizer__min_df': np.arange(5, 11),\n",
    "    'linearsvc__C': np.arange(0.8, 1.3, 0.1),\n",
    "    'linearsvc__class_weight': [{0: weight_0, 1: 1-weight_0} for weight_0 in np.arange(0.17, 0.24, 0.01)]\n",
    "    \n",
    "}"
   ]
  },
  {
   "cell_type": "code",
   "execution_count": 36,
   "id": "cbd4fc49",
   "metadata": {},
   "outputs": [],
   "source": [
    "params = {\n",
    "    'columntransformer__pipeline__tfidfvectorizer__min_df': np.arange(5, 11),\n",
    "    'linearsvc__C': np.arange(0.9, 1.2, 0.1),\n",
    "    'linearsvc__class_weight': [{0: weight_0, 1: 1-weight_0} for weight_0 in np.arange(0.18, 0.24, 0.01)],\n",
    "    'linearsvc__dual': [False]\n",
    "}"
   ]
  },
  {
   "cell_type": "code",
   "execution_count": 37,
   "id": "d015f852",
   "metadata": {},
   "outputs": [],
   "source": [
    "search = GridSearchCV(pipe, param_grid=params, cv=5, n_jobs=-1, scoring='f1')"
   ]
  },
  {
   "cell_type": "code",
   "execution_count": 38,
   "id": "93d64d7e",
   "metadata": {},
   "outputs": [
    {
     "name": "stdout",
     "output_type": "stream",
     "text": [
      "CPU times: user 3 µs, sys: 1 µs, total: 4 µs\n",
      "Wall time: 9.78 µs\n"
     ]
    }
   ],
   "source": [
    "%%time\n",
    "#search.fit(X_train, y_train)"
   ]
  },
  {
   "cell_type": "code",
   "execution_count": 39,
   "id": "ca9f3335",
   "metadata": {},
   "outputs": [],
   "source": [
    "#search.best_params_"
   ]
  },
  {
   "cell_type": "code",
   "execution_count": 40,
   "id": "e86e7b8e",
   "metadata": {},
   "outputs": [],
   "source": [
    "#best_estimator = search.best_estimator_"
   ]
  },
  {
   "cell_type": "code",
   "execution_count": 41,
   "id": "43f2a769",
   "metadata": {},
   "outputs": [],
   "source": [
    "#y_pred = best_estimator.predict(X_test)"
   ]
  },
  {
   "cell_type": "code",
   "execution_count": 42,
   "id": "5ecc3e81",
   "metadata": {},
   "outputs": [],
   "source": [
    "#y_train.sum()"
   ]
  },
  {
   "cell_type": "code",
   "execution_count": 43,
   "id": "6bd4b6bb",
   "metadata": {},
   "outputs": [],
   "source": [
    "#y_train.mean()"
   ]
  },
  {
   "cell_type": "code",
   "execution_count": 44,
   "id": "0e59e019",
   "metadata": {},
   "outputs": [],
   "source": [
    "#conf_mx_all(y_test, y_pred)"
   ]
  },
  {
   "cell_type": "code",
   "execution_count": null,
   "id": "83ed596e",
   "metadata": {},
   "outputs": [],
   "source": []
  },
  {
   "cell_type": "code",
   "execution_count": null,
   "id": "12c6b73e",
   "metadata": {},
   "outputs": [],
   "source": []
  },
  {
   "cell_type": "code",
   "execution_count": 45,
   "id": "d7632896",
   "metadata": {},
   "outputs": [],
   "source": [
    "#lista = ['you fucking retard', 'asshole', 'stupid bitch', 'hello!',\n",
    "#        \"ns he can use and practice with. I can't say much more coz I don't have more space. Retard. This is all we need an Australian version of 1 Direction.... my dick was bleeding from how hard I was masturbating to this\",\n",
    "#        ]\n",
    "#lista = pd.DataFrame(data=lista, columns=['text'])\n",
    "\n",
    "#best_estimator.predict(lista)"
   ]
  },
  {
   "cell_type": "code",
   "execution_count": null,
   "id": "50a15a38",
   "metadata": {},
   "outputs": [],
   "source": []
  },
  {
   "cell_type": "code",
   "execution_count": null,
   "id": "17e87cd1",
   "metadata": {},
   "outputs": [],
   "source": []
  },
  {
   "cell_type": "code",
   "execution_count": null,
   "id": "cbb26110",
   "metadata": {},
   "outputs": [],
   "source": []
  },
  {
   "cell_type": "code",
   "execution_count": 46,
   "id": "5d6d3513",
   "metadata": {},
   "outputs": [],
   "source": [
    "X_train_vec = best_vectorizer.fit_transform(X_train['text'])\n",
    "X_test_vec = best_vectorizer.transform(X_test['text'])"
   ]
  },
  {
   "cell_type": "code",
   "execution_count": 47,
   "id": "926a0e4c",
   "metadata": {},
   "outputs": [],
   "source": [
    "def tune_threshold(C=1):\n",
    "    score_results = {'class_weight': [], 'accuracy': [], 'precision': [], 'recall': [], 'f1': [], 'time': []}\n",
    "    \n",
    "    def scores2(cv_results, class_weight):\n",
    "        score_results = {'class_weight': None, 'accuracy': None, 'precision': None, 'recall': None, 'f1': None, 'time': None}\n",
    "        for key in score_results.keys():\n",
    "            if key == 'class_weight':\n",
    "                score_results[key] = class_weight\n",
    "            elif key == 'time':\n",
    "                score_results[key] = round(cv_results['fit_time'].mean() + cv_results['score_time'].mean(), 1)\n",
    "            else:\n",
    "                score_results[key] = round(cv_results[f'test_{key}'].mean(), 4)\n",
    "        return score_results\n",
    "    \n",
    "    for class_weight in np.arange(0.05, 0.3, 0.05):\n",
    "        print(class_weight)\n",
    "        \n",
    "        cv_results = cross_validate(LinearSVC(C=C, class_weight={0:class_weight, 1:1-class_weight}),\n",
    "                                    X_train_vec, y_train, cv=5, n_jobs=-1,\n",
    "                                    scoring=['accuracy', 'precision', 'recall', 'f1'])\n",
    "\n",
    "        score_results_new = scores2(cv_results, class_weight)\n",
    "        \n",
    "        for key in score_results.keys():\n",
    "            score_results[key].append(score_results_new[key])\n",
    "            \n",
    "        \n",
    "    plt.figure(figsize=(12,6))\n",
    "        \n",
    "    plt.plot(score_results['class_weight'], score_results['recall'], c='r', label='recall')\n",
    "    plt.plot(score_results['class_weight'], score_results['precision'], c='b', label='precision')    \n",
    "    plt.plot(score_results['class_weight'], score_results['f1'], c='g', label='f1')\n",
    "    plt.xlabel('class weight')\n",
    "    plt.ylabel('score')\n",
    "    plt.legend()\n",
    "    plt.grid(alpha=0.3)\n",
    "        \n",
    "    return score_results"
   ]
  },
  {
   "cell_type": "code",
   "execution_count": 48,
   "id": "34e63bdf",
   "metadata": {},
   "outputs": [
    {
     "name": "stdout",
     "output_type": "stream",
     "text": [
      "0.05\n",
      "0.1\n",
      "0.15000000000000002\n",
      "0.2\n",
      "0.25\n"
     ]
    },
    {
     "data": {
      "text/plain": [
       "{'class_weight': [0.05, 0.1, 0.15000000000000002, 0.2, 0.25],\n",
       " 'accuracy': [0.8219, 0.8766, 0.8974, 0.9082, 0.9142],\n",
       " 'precision': [0.3924, 0.4904, 0.5511, 0.5956, 0.6298],\n",
       " 'recall': [0.8925, 0.8199, 0.7672, 0.7247, 0.6846],\n",
       " 'f1': [0.5452, 0.6137, 0.6414, 0.6539, 0.6561],\n",
       " 'time': [2.0, 1.5, 1.5, 1.4, 1.3]}"
      ]
     },
     "execution_count": 48,
     "metadata": {},
     "output_type": "execute_result"
    },
    {
     "data": {
      "image/png": "[encoded data removed]",
      "text/plain": [
       "<Figure size 864x432 with 1 Axes>"
      ]
     },
     "metadata": {
      "needs_background": "light"
     },
     "output_type": "display_data"
    }
   ],
   "source": [
    "tune_threshold()"
   ]
  },
  {
   "cell_type": "code",
   "execution_count": 49,
   "id": "095283cb",
   "metadata": {},
   "outputs": [
    {
     "name": "stdout",
     "output_type": "stream",
     "text": [
      "0.05\n",
      "0.1\n",
      "0.15000000000000002\n",
      "0.2\n",
      "0.25\n"
     ]
    },
    {
     "data": {
      "text/plain": [
       "{'class_weight': [0.05, 0.1, 0.15000000000000002, 0.2, 0.25],\n",
       " 'accuracy': [0.7764, 0.8743, 0.9011, 0.9142, 0.92],\n",
       " 'precision': [0.3407, 0.4852, 0.5632, 0.6224, 0.6644],\n",
       " 'recall': [0.9304, 0.84, 0.7718, 0.719, 0.6697],\n",
       " 'f1': [0.4988, 0.6151, 0.6512, 0.6672, 0.667],\n",
       " 'time': [0.9, 0.8, 0.8, 0.9, 0.8]}"
      ]
     },
     "execution_count": 49,
     "metadata": {},
     "output_type": "execute_result"
    },
    {
     "data": {
      "image/png": "[encoded data removed]",
      "text/plain": [
       "<Figure size 864x432 with 1 Axes>"
      ]
     },
     "metadata": {
      "needs_background": "light"
     },
     "output_type": "display_data"
    }
   ],
   "source": [
    "tune_threshold(C=0.25)"
   ]
  },
  {
   "cell_type": "code",
   "execution_count": 50,
   "id": "b797d592",
   "metadata": {},
   "outputs": [
    {
     "name": "stdout",
     "output_type": "stream",
     "text": [
      "0.05\n",
      "0.1\n",
      "0.15000000000000002\n",
      "0.2\n",
      "0.25\n"
     ]
    },
    {
     "data": {
      "text/plain": [
       "{'class_weight': [0.05, 0.1, 0.15000000000000002, 0.2, 0.25],\n",
       " 'accuracy': [0.8052, 0.8766, 0.9001, 0.9115, 0.9178],\n",
       " 'precision': [0.3716, 0.4905, 0.5597, 0.609, 0.6488],\n",
       " 'recall': [0.9105, 0.8316, 0.7726, 0.7254, 0.6816],\n",
       " 'f1': [0.5278, 0.6171, 0.6492, 0.6621, 0.6648],\n",
       " 'time': [1.4, 1.3, 1.1, 1.0, 1.0]}"
      ]
     },
     "execution_count": 50,
     "metadata": {},
     "output_type": "execute_result"
    },
    {
     "data": {
      "image/png": "[encoded data removed]",
      "text/plain": [
       "<Figure size 864x432 with 1 Axes>"
      ]
     },
     "metadata": {
      "needs_background": "light"
     },
     "output_type": "display_data"
    }
   ],
   "source": [
    "tune_threshold(C=0.5)"
   ]
  },
  {
   "cell_type": "code",
   "execution_count": 51,
   "id": "81b4fc9c",
   "metadata": {},
   "outputs": [
    {
     "name": "stdout",
     "output_type": "stream",
     "text": [
      "0.05\n",
      "0.1\n",
      "0.15000000000000002\n",
      "0.2\n",
      "0.25\n"
     ]
    },
    {
     "data": {
      "text/plain": [
       "{'class_weight': [0.05, 0.1, 0.15000000000000002, 0.2, 0.25],\n",
       " 'accuracy': [0.8158, 0.877, 0.8987, 0.9097, 0.9158],\n",
       " 'precision': [0.3846, 0.4915, 0.5552, 0.6016, 0.6379],\n",
       " 'recall': [0.9009, 0.8263, 0.7703, 0.7258, 0.6838],\n",
       " 'f1': [0.5391, 0.6164, 0.6453, 0.6579, 0.6601],\n",
       " 'time': [1.6, 1.4, 1.3, 1.2, 1.3]}"
      ]
     },
     "execution_count": 51,
     "metadata": {},
     "output_type": "execute_result"
    },
    {
     "data": {
      "image/png": "[encoded data removed]",
      "text/plain": [
       "<Figure size 864x432 with 1 Axes>"
      ]
     },
     "metadata": {
      "needs_background": "light"
     },
     "output_type": "display_data"
    }
   ],
   "source": [
    "tune_threshold(C=0.75)"
   ]
  },
  {
   "cell_type": "code",
   "execution_count": null,
   "id": "0634d636",
   "metadata": {},
   "outputs": [],
   "source": []
  },
  {
   "cell_type": "markdown",
   "id": "6595cbea",
   "metadata": {},
   "source": [
    "# ESTE ES EL MODELO QUE VAMOS A USAR"
   ]
  },
  {
   "cell_type": "code",
   "execution_count": 178,
   "id": "09d3b7f9",
   "metadata": {},
   "outputs": [],
   "source": [
    "from sklearn.calibration import CalibratedClassifierCV"
   ]
  },
  {
   "cell_type": "code",
   "execution_count": 175,
   "id": "d2a6a18e",
   "metadata": {},
   "outputs": [],
   "source": [
    "min_df = 3\n",
    "max_df = 1.0\n",
    "max_features = None\n",
    "\n",
    "vectorizer = TfidfVectorizer(min_df=min_df,\n",
    "                             max_df=max_df,\n",
    "                             max_features=max_features)"
   ]
  },
  {
   "cell_type": "code",
   "execution_count": 182,
   "id": "c07e1720",
   "metadata": {},
   "outputs": [],
   "source": [
    "C = 1\n",
    "penalty = 'l1'\n",
    "loss = 'squared_hinge'\n",
    "dual = False\n",
    "class_weight_0 = 0.22\n",
    "class_weight = {0:class_weight_0, 1:1-class_weight_0}\n",
    "\n",
    "model_svc = LinearSVC(C=C,\n",
    "                  class_weight=class_weight,\n",
    "                  penalty=penalty,\n",
    "                  loss=loss,\n",
    "                  dual=dual)\n",
    "\n",
    "model = model_svc\n",
    "#model = CalibratedClassifierCV(model_svc)"
   ]
  },
  {
   "cell_type": "code",
   "execution_count": 183,
   "id": "be22bcfc",
   "metadata": {},
   "outputs": [
    {
     "data": {
      "text/html": [
       "<style>#sk-bc9a2884-6e09-4925-b960-ae475e94a2ad {color: black;background-color: white;}#sk-bc9a2884-6e09-4925-b960-ae475e94a2ad pre{padding: 0;}#sk-bc9a2884-6e09-4925-b960-ae475e94a2ad div.sk-toggleable {background-color: white;}#sk-bc9a2884-6e09-4925-b960-ae475e94a2ad label.sk-toggleable__label {cursor: pointer;display: block;width: 100%;margin-bottom: 0;padding: 0.3em;box-sizing: border-box;text-align: center;}#sk-bc9a2884-6e09-4925-b960-ae475e94a2ad label.sk-toggleable__label-arrow:before {content: \"▸\";float: left;margin-right: 0.25em;color: #696969;}#sk-bc9a2884-6e09-4925-b960-ae475e94a2ad label.sk-toggleable__label-arrow:hover:before {color: black;}#sk-bc9a2884-6e09-4925-b960-ae475e94a2ad div.sk-estimator:hover label.sk-toggleable__label-arrow:before {color: black;}#sk-bc9a2884-6e09-4925-b960-ae475e94a2ad div.sk-toggleable__content {max-height: 0;max-width: 0;overflow: hidden;text-align: left;background-color: #f0f8ff;}#sk-bc9a2884-6e09-4925-b960-ae475e94a2ad div.sk-toggleable__content pre {margin: 0.2em;color: black;border-radius: 0.25em;background-color: #f0f8ff;}#sk-bc9a2884-6e09-4925-b960-ae475e94a2ad input.sk-toggleable__control:checked~div.sk-toggleable__content {max-height: 200px;max-width: 100%;overflow: auto;}#sk-bc9a2884-6e09-4925-b960-ae475e94a2ad input.sk-toggleable__control:checked~label.sk-toggleable__label-arrow:before {content: \"▾\";}#sk-bc9a2884-6e09-4925-b960-ae475e94a2ad div.sk-estimator input.sk-toggleable__control:checked~label.sk-toggleable__label {background-color: #d4ebff;}#sk-bc9a2884-6e09-4925-b960-ae475e94a2ad div.sk-label input.sk-toggleable__control:checked~label.sk-toggleable__label {background-color: #d4ebff;}#sk-bc9a2884-6e09-4925-b960-ae475e94a2ad input.sk-hidden--visually {border: 0;clip: rect(1px 1px 1px 1px);clip: rect(1px, 1px, 1px, 1px);height: 1px;margin: -1px;overflow: hidden;padding: 0;position: absolute;width: 1px;}#sk-bc9a2884-6e09-4925-b960-ae475e94a2ad div.sk-estimator {font-family: monospace;background-color: #f0f8ff;border: 1px dotted black;border-radius: 0.25em;box-sizing: border-box;margin-bottom: 0.5em;}#sk-bc9a2884-6e09-4925-b960-ae475e94a2ad div.sk-estimator:hover {background-color: #d4ebff;}#sk-bc9a2884-6e09-4925-b960-ae475e94a2ad div.sk-parallel-item::after {content: \"\";width: 100%;border-bottom: 1px solid gray;flex-grow: 1;}#sk-bc9a2884-6e09-4925-b960-ae475e94a2ad div.sk-label:hover label.sk-toggleable__label {background-color: #d4ebff;}#sk-bc9a2884-6e09-4925-b960-ae475e94a2ad div.sk-serial::before {content: \"\";position: absolute;border-left: 1px solid gray;box-sizing: border-box;top: 2em;bottom: 0;left: 50%;}#sk-bc9a2884-6e09-4925-b960-ae475e94a2ad div.sk-serial {display: flex;flex-direction: column;align-items: center;background-color: white;padding-right: 0.2em;padding-left: 0.2em;}#sk-bc9a2884-6e09-4925-b960-ae475e94a2ad div.sk-item {z-index: 1;}#sk-bc9a2884-6e09-4925-b960-ae475e94a2ad div.sk-parallel {display: flex;align-items: stretch;justify-content: center;background-color: white;}#sk-bc9a2884-6e09-4925-b960-ae475e94a2ad div.sk-parallel::before {content: \"\";position: absolute;border-left: 1px solid gray;box-sizing: border-box;top: 2em;bottom: 0;left: 50%;}#sk-bc9a2884-6e09-4925-b960-ae475e94a2ad div.sk-parallel-item {display: flex;flex-direction: column;position: relative;background-color: white;}#sk-bc9a2884-6e09-4925-b960-ae475e94a2ad div.sk-parallel-item:first-child::after {align-self: flex-end;width: 50%;}#sk-bc9a2884-6e09-4925-b960-ae475e94a2ad div.sk-parallel-item:last-child::after {align-self: flex-start;width: 50%;}#sk-bc9a2884-6e09-4925-b960-ae475e94a2ad div.sk-parallel-item:only-child::after {width: 0;}#sk-bc9a2884-6e09-4925-b960-ae475e94a2ad div.sk-dashed-wrapped {border: 1px dashed gray;margin: 0 0.4em 0.5em 0.4em;box-sizing: border-box;padding-bottom: 0.4em;background-color: white;position: relative;}#sk-bc9a2884-6e09-4925-b960-ae475e94a2ad div.sk-label label {font-family: monospace;font-weight: bold;background-color: white;display: inline-block;line-height: 1.2em;}#sk-bc9a2884-6e09-4925-b960-ae475e94a2ad div.sk-label-container {position: relative;z-index: 2;text-align: center;}#sk-bc9a2884-6e09-4925-b960-ae475e94a2ad div.sk-container {/* jupyter's `normalize.less` sets `[hidden] { display: none; }` but bootstrap.min.css set `[hidden] { display: none !important; }` so we also need the `!important` here to be able to override the default hidden behavior on the sphinx rendered scikit-learn.org. See: https://github.com/scikit-learn/scikit-learn/issues/21755 */display: inline-block !important;position: relative;}#sk-bc9a2884-6e09-4925-b960-ae475e94a2ad div.sk-text-repr-fallback {display: none;}</style><div id=\"sk-bc9a2884-6e09-4925-b960-ae475e94a2ad\" class=\"sk-top-container\"><div class=\"sk-text-repr-fallback\"><pre>Pipeline(steps=[(&#x27;columntransformer&#x27;,\n",
       "                 ColumnTransformer(transformers=[(&#x27;pipeline&#x27;,\n",
       "                                                  Pipeline(steps=[(&#x27;tfidfvectorizer&#x27;,\n",
       "                                                                   TfidfVectorizer(min_df=3))]),\n",
       "                                                  &#x27;text&#x27;)])),\n",
       "                (&#x27;linearsvc&#x27;,\n",
       "                 LinearSVC(C=1, class_weight={0: 0.22, 1: 0.78}, dual=False,\n",
       "                           penalty=&#x27;l1&#x27;))])</pre><b>Please rerun this cell to show the HTML repr or trust the notebook.</b></div><div class=\"sk-container\" hidden><div class=\"sk-item sk-dashed-wrapped\"><div class=\"sk-label-container\"><div class=\"sk-label sk-toggleable\"><input class=\"sk-toggleable__control sk-hidden--visually\" id=\"45c77232-c18e-4570-8e5b-b15805a637f7\" type=\"checkbox\" ><label for=\"45c77232-c18e-4570-8e5b-b15805a637f7\" class=\"sk-toggleable__label sk-toggleable__label-arrow\">Pipeline</label><div class=\"sk-toggleable__content\"><pre>Pipeline(steps=[(&#x27;columntransformer&#x27;,\n",
       "                 ColumnTransformer(transformers=[(&#x27;pipeline&#x27;,\n",
       "                                                  Pipeline(steps=[(&#x27;tfidfvectorizer&#x27;,\n",
       "                                                                   TfidfVectorizer(min_df=3))]),\n",
       "                                                  &#x27;text&#x27;)])),\n",
       "                (&#x27;linearsvc&#x27;,\n",
       "                 LinearSVC(C=1, class_weight={0: 0.22, 1: 0.78}, dual=False,\n",
       "                           penalty=&#x27;l1&#x27;))])</pre></div></div></div><div class=\"sk-serial\"><div class=\"sk-item sk-dashed-wrapped\"><div class=\"sk-label-container\"><div class=\"sk-label sk-toggleable\"><input class=\"sk-toggleable__control sk-hidden--visually\" id=\"3d1481f7-a949-4a70-8aa7-2e53367960f6\" type=\"checkbox\" ><label for=\"3d1481f7-a949-4a70-8aa7-2e53367960f6\" class=\"sk-toggleable__label sk-toggleable__label-arrow\">columntransformer: ColumnTransformer</label><div class=\"sk-toggleable__content\"><pre>ColumnTransformer(transformers=[(&#x27;pipeline&#x27;,\n",
       "                                 Pipeline(steps=[(&#x27;tfidfvectorizer&#x27;,\n",
       "                                                  TfidfVectorizer(min_df=3))]),\n",
       "                                 &#x27;text&#x27;)])</pre></div></div></div><div class=\"sk-parallel\"><div class=\"sk-parallel-item\"><div class=\"sk-item\"><div class=\"sk-label-container\"><div class=\"sk-label sk-toggleable\"><input class=\"sk-toggleable__control sk-hidden--visually\" id=\"4e8ebdf7-8b91-4170-a47d-33c0968c3864\" type=\"checkbox\" ><label for=\"4e8ebdf7-8b91-4170-a47d-33c0968c3864\" class=\"sk-toggleable__label sk-toggleable__label-arrow\">pipeline</label><div class=\"sk-toggleable__content\"><pre>text</pre></div></div></div><div class=\"sk-serial\"><div class=\"sk-item\"><div class=\"sk-serial\"><div class=\"sk-item\"><div class=\"sk-estimator sk-toggleable\"><input class=\"sk-toggleable__control sk-hidden--visually\" id=\"98060717-1809-4912-ad73-4dd06fd7e5e2\" type=\"checkbox\" ><label for=\"98060717-1809-4912-ad73-4dd06fd7e5e2\" class=\"sk-toggleable__label sk-toggleable__label-arrow\">TfidfVectorizer</label><div class=\"sk-toggleable__content\"><pre>TfidfVectorizer(min_df=3)</pre></div></div></div></div></div></div></div></div></div></div><div class=\"sk-item\"><div class=\"sk-estimator sk-toggleable\"><input class=\"sk-toggleable__control sk-hidden--visually\" id=\"a37e32a3-970e-4116-aacc-300d10a03d30\" type=\"checkbox\" ><label for=\"a37e32a3-970e-4116-aacc-300d10a03d30\" class=\"sk-toggleable__label sk-toggleable__label-arrow\">LinearSVC</label><div class=\"sk-toggleable__content\"><pre>LinearSVC(C=1, class_weight={0: 0.22, 1: 0.78}, dual=False, penalty=&#x27;l1&#x27;)</pre></div></div></div></div></div></div></div>"
      ],
      "text/plain": [
       "Pipeline(steps=[('columntransformer',\n",
       "                 ColumnTransformer(transformers=[('pipeline',\n",
       "                                                  Pipeline(steps=[('tfidfvectorizer',\n",
       "                                                                   TfidfVectorizer(min_df=3))]),\n",
       "                                                  'text')])),\n",
       "                ('linearsvc',\n",
       "                 LinearSVC(C=1, class_weight={0: 0.22, 1: 0.78}, dual=False,\n",
       "                           penalty='l1'))])"
      ]
     },
     "execution_count": 183,
     "metadata": {},
     "output_type": "execute_result"
    }
   ],
   "source": [
    "preprocessing = make_column_transformer(\n",
    "    (make_pipeline(vectorizer), 'text')\n",
    ")\n",
    "\n",
    "\n",
    "pipe = make_pipeline(\n",
    "    preprocessing,\n",
    "    model\n",
    ")\n",
    "\n",
    "pipe"
   ]
  },
  {
   "cell_type": "code",
   "execution_count": 184,
   "id": "a719f7b2",
   "metadata": {},
   "outputs": [
    {
     "name": "stdout",
     "output_type": "stream",
     "text": [
      "Recall: 0.724\n",
      "Precision: 0.636\n",
      "Accuracy: 0.919\n",
      "F1-score: 0.677\n",
      "CPU times: user 15.3 s, sys: 77.6 ms, total: 15.4 s\n",
      "Wall time: 15.4 s\n"
     ]
    },
    {
     "data": {
      "text/plain": [
       "(0.724, 0.636, 0.919, 0.677)"
      ]
     },
     "execution_count": 184,
     "metadata": {},
     "output_type": "execute_result"
    },
    {
     "data": {
      "image/png": "[encoded data removed]",
      "text/plain": [
       "<Figure size 432x288 with 2 Axes>"
      ]
     },
     "metadata": {
      "needs_background": "light"
     },
     "output_type": "display_data"
    }
   ],
   "source": [
    "%%time\n",
    "\n",
    "pipe.fit(X_train, y_train);\n",
    "\n",
    "y_pred = pipe.predict(X_test)\n",
    "\n",
    "conf_mx_all(y_test, y_pred)"
   ]
  },
  {
   "cell_type": "code",
   "execution_count": 157,
   "id": "d0379335",
   "metadata": {},
   "outputs": [
    {
     "data": {
      "text/plain": [
       "[('columntransformer',\n",
       "  ColumnTransformer(transformers=[('pipeline',\n",
       "                                   Pipeline(steps=[('tfidfvectorizer',\n",
       "                                                    TfidfVectorizer(min_df=3))]),\n",
       "                                   'text')])),\n",
       " ('linearsvc',\n",
       "  LinearSVC(C=1, class_weight={0: 0.22, 1: 0.78}, dual=False, penalty='l1'))]"
      ]
     },
     "execution_count": 157,
     "metadata": {},
     "output_type": "execute_result"
    }
   ],
   "source": [
    "pipe.steps"
   ]
  },
  {
   "cell_type": "code",
   "execution_count": 134,
   "id": "ddcfb143",
   "metadata": {},
   "outputs": [
    {
     "data": {
      "text/plain": [
       "<67950x51802 sparse matrix of type '<class 'numpy.float64'>'\n",
       "\twith 1734542 stored elements in Compressed Sparse Row format>"
      ]
     },
     "execution_count": 134,
     "metadata": {},
     "output_type": "execute_result"
    }
   ],
   "source": [
    "pipe.steps[:-1][0][1].transform(X_test)"
   ]
  },
  {
   "cell_type": "code",
   "execution_count": null,
   "id": "0d3cf9f8",
   "metadata": {},
   "outputs": [],
   "source": [
    "def pipe_predict_proba(pipe, X_test):\n",
    "    "
   ]
  },
  {
   "cell_type": "code",
   "execution_count": 56,
   "id": "3e98439f",
   "metadata": {},
   "outputs": [
    {
     "data": {
      "text/html": [
       "<div>\n",
       "<style scoped>\n",
       "    .dataframe tbody tr th:only-of-type {\n",
       "        vertical-align: middle;\n",
       "    }\n",
       "\n",
       "    .dataframe tbody tr th {\n",
       "        vertical-align: top;\n",
       "    }\n",
       "\n",
       "    .dataframe thead th {\n",
       "        text-align: right;\n",
       "    }\n",
       "</style>\n",
       "<table border=\"1\" class=\"dataframe\">\n",
       "  <thead>\n",
       "    <tr style=\"text-align: right;\">\n",
       "      <th></th>\n",
       "      <th>text</th>\n",
       "      <th>test</th>\n",
       "      <th>pred</th>\n",
       "    </tr>\n",
       "  </thead>\n",
       "  <tbody>\n",
       "    <tr>\n",
       "      <th>93663</th>\n",
       "      <td>script assisted fucking grumble yeah know us l...</td>\n",
       "      <td>1.0</td>\n",
       "      <td>0.0</td>\n",
       "    </tr>\n",
       "    <tr>\n",
       "      <th>89140</th>\n",
       "      <td>stalking harassment call chzz deletes contribu...</td>\n",
       "      <td>1.0</td>\n",
       "      <td>0.0</td>\n",
       "    </tr>\n",
       "    <tr>\n",
       "      <th>222916</th>\n",
       "      <td>juxtaposition jaguar pitch joan evening fuckin...</td>\n",
       "      <td>0.0</td>\n",
       "      <td>1.0</td>\n",
       "    </tr>\n",
       "    <tr>\n",
       "      <th>186817</th>\n",
       "      <td>nice completely ignored main thing whereas che...</td>\n",
       "      <td>1.0</td>\n",
       "      <td>0.0</td>\n",
       "    </tr>\n",
       "    <tr>\n",
       "      <th>194091</th>\n",
       "      <td>pr team lair sas stinks ha</td>\n",
       "      <td>0.0</td>\n",
       "      <td>1.0</td>\n",
       "    </tr>\n",
       "    <tr>\n",
       "      <th>...</th>\n",
       "      <td>...</td>\n",
       "      <td>...</td>\n",
       "      <td>...</td>\n",
       "    </tr>\n",
       "    <tr>\n",
       "      <th>39389</th>\n",
       "      <td>look oh gosh actually complaining yesterday in...</td>\n",
       "      <td>0.0</td>\n",
       "      <td>1.0</td>\n",
       "    </tr>\n",
       "    <tr>\n",
       "      <th>68876</th>\n",
       "      <td>interesting stupid strange interesting william...</td>\n",
       "      <td>1.0</td>\n",
       "      <td>0.0</td>\n",
       "    </tr>\n",
       "    <tr>\n",
       "      <th>214106</th>\n",
       "      <td>shaner ahem pens fan appreciate system rewards...</td>\n",
       "      <td>1.0</td>\n",
       "      <td>0.0</td>\n",
       "    </tr>\n",
       "    <tr>\n",
       "      <th>149887</th>\n",
       "      <td>poor theories</td>\n",
       "      <td>1.0</td>\n",
       "      <td>0.0</td>\n",
       "    </tr>\n",
       "    <tr>\n",
       "      <th>133733</th>\n",
       "      <td>mother</td>\n",
       "      <td>0.0</td>\n",
       "      <td>1.0</td>\n",
       "    </tr>\n",
       "  </tbody>\n",
       "</table>\n",
       "<p>5520 rows × 3 columns</p>\n",
       "</div>"
      ],
      "text/plain": [
       "                                                     text  test  pred\n",
       "93663   script assisted fucking grumble yeah know us l...   1.0   0.0\n",
       "89140   stalking harassment call chzz deletes contribu...   1.0   0.0\n",
       "222916  juxtaposition jaguar pitch joan evening fuckin...   0.0   1.0\n",
       "186817  nice completely ignored main thing whereas che...   1.0   0.0\n",
       "194091                         pr team lair sas stinks ha   0.0   1.0\n",
       "...                                                   ...   ...   ...\n",
       "39389   look oh gosh actually complaining yesterday in...   0.0   1.0\n",
       "68876   interesting stupid strange interesting william...   1.0   0.0\n",
       "214106  shaner ahem pens fan appreciate system rewards...   1.0   0.0\n",
       "149887                                      poor theories   1.0   0.0\n",
       "133733                                             mother   0.0   1.0\n",
       "\n",
       "[5520 rows x 3 columns]"
      ]
     },
     "execution_count": 56,
     "metadata": {},
     "output_type": "execute_result"
    }
   ],
   "source": [
    "new_df = pd.DataFrame({'text': X_test['text'], 'test': y_test, 'pred': y_pred})\n",
    "new_df[(new_df['test'] + new_df['pred'])==1]"
   ]
  },
  {
   "cell_type": "code",
   "execution_count": 57,
   "id": "41177a96",
   "metadata": {},
   "outputs": [
    {
     "data": {
      "text/plain": [
       "{'fit_time': array([3.92180419, 3.91841841, 3.81030941, 3.88249016, 3.85729194]),\n",
       " 'score_time': array([0.03616023, 0.04164863, 0.05556202, 0.04981256, 0.03998208]),\n",
       " 'test_accuracy': array([0.91573636, 0.913655  , 0.91485067, 0.91459838, 0.91567063]),\n",
       " 'test_precision': array([0.63023256, 0.62092703, 0.626097  , 0.62488479, 0.63122066]),\n",
       " 'test_recall': array([0.71466245, 0.71360759, 0.71492616, 0.71518987, 0.70912447]),\n",
       " 'test_f1': array([0.66979733, 0.66404908, 0.66756956, 0.66699459, 0.66790859])}"
      ]
     },
     "execution_count": 57,
     "metadata": {},
     "output_type": "execute_result"
    }
   ],
   "source": [
    "cv_results = cross_validate(model, X_train_vec, y_train, cv=5, n_jobs=-1, scoring=scoring)\n",
    "cv_results"
   ]
  },
  {
   "cell_type": "code",
   "execution_count": null,
   "id": "032272b8",
   "metadata": {},
   "outputs": [],
   "source": []
  },
  {
   "cell_type": "code",
   "execution_count": 58,
   "id": "30402678",
   "metadata": {},
   "outputs": [
    {
     "data": {
      "image/png": "[encoded data removed]",
      "text/plain": [
       "<Figure size 432x288 with 1 Axes>"
      ]
     },
     "metadata": {
      "needs_background": "light"
     },
     "output_type": "display_data"
    }
   ],
   "source": [
    "from sklearn.model_selection import learning_curve\n",
    "\n",
    "\n",
    "train_sizes = np.linspace(.1,  1, 10)\n",
    "# Get train scores (R2), train sizes, and validation scores using `learning_curve`\n",
    "train_sizes, train_scores, test_scores = learning_curve(\n",
    "    estimator=model, X=X_train_vec, y=y_train, train_sizes=train_sizes, cv=5, scoring='recall')\n",
    "\n",
    "# Take the mean of cross-validated train scores and validation scores\n",
    "train_scores_mean = np.mean(train_scores, axis=1)\n",
    "test_scores_mean = np.mean(test_scores, axis=1)\n",
    "plt.plot(train_sizes, train_scores_mean, label = 'Training score')\n",
    "plt.plot(train_sizes, test_scores_mean, label = 'Test score')\n",
    "plt.ylabel('recall', fontsize = 14)\n",
    "plt.xlabel('Training set size', fontsize = 14)\n",
    "plt.title('Learning curves', fontsize = 18, y = 1.03)\n",
    "plt.ylim(0, 1)\n",
    "plt.legend();"
   ]
  },
  {
   "cell_type": "markdown",
   "id": "a2ed4850",
   "metadata": {},
   "source": [
    "# Package"
   ]
  },
  {
   "cell_type": "code",
   "execution_count": 135,
   "id": "f9175b68",
   "metadata": {},
   "outputs": [],
   "source": [
    "from cyberbullying.models import MLModel"
   ]
  },
  {
   "cell_type": "code",
   "execution_count": 192,
   "id": "394b0738",
   "metadata": {},
   "outputs": [],
   "source": [
    "package_model = MLModel(min_df=min_df, max_df=max_df, max_features=max_features,\n",
    "                        C=1, class_weight_0=class_weight_0, penalty=penalty, loss=loss, dual=dual)"
   ]
  },
  {
   "cell_type": "code",
   "execution_count": 193,
   "id": "36c28e41",
   "metadata": {},
   "outputs": [],
   "source": [
    "package_model.set_pipeline()"
   ]
  },
  {
   "cell_type": "code",
   "execution_count": 194,
   "id": "df5ed55a",
   "metadata": {},
   "outputs": [],
   "source": [
    "package_model.train(X_train, y_train)"
   ]
  },
  {
   "cell_type": "code",
   "execution_count": 195,
   "id": "f8f2d57c",
   "metadata": {},
   "outputs": [],
   "source": [
    "y_pred = package_model.predict(X_test)"
   ]
  },
  {
   "cell_type": "code",
   "execution_count": 196,
   "id": "3b18d3b0",
   "metadata": {},
   "outputs": [
    {
     "data": {
      "text/plain": [
       "array([0., 0., 0., ..., 0., 0., 0.])"
      ]
     },
     "execution_count": 196,
     "metadata": {},
     "output_type": "execute_result"
    }
   ],
   "source": [
    "y_pred"
   ]
  },
  {
   "cell_type": "code",
   "execution_count": 197,
   "id": "e9be84f3",
   "metadata": {},
   "outputs": [
    {
     "name": "stdout",
     "output_type": "stream",
     "text": [
      "Recall: 0.724\n",
      "Precision: 0.636\n",
      "Accuracy: 0.919\n",
      "F1-score: 0.677\n"
     ]
    },
    {
     "data": {
      "text/plain": [
       "(0.724, 0.636, 0.919, 0.677)"
      ]
     },
     "execution_count": 197,
     "metadata": {},
     "output_type": "execute_result"
    },
    {
     "data": {
      "image/png": "[encoded data removed]",
      "text/plain": [
       "<Figure size 432x288 with 2 Axes>"
      ]
     },
     "metadata": {
      "needs_background": "light"
     },
     "output_type": "display_data"
    }
   ],
   "source": [
    "conf_mx_all(y_test, y_pred)"
   ]
  },
  {
   "cell_type": "code",
   "execution_count": 198,
   "id": "858d1e17",
   "metadata": {},
   "outputs": [],
   "source": [
    "y_predict_proba = package_model.predict_proba(X_test)"
   ]
  },
  {
   "cell_type": "code",
   "execution_count": 199,
   "id": "49a12631",
   "metadata": {},
   "outputs": [
    {
     "data": {
      "text/plain": [
       "array([0.58504091, 0.41495909])"
      ]
     },
     "execution_count": 199,
     "metadata": {},
     "output_type": "execute_result"
    }
   ],
   "source": [
    "y_predict_proba[0]"
   ]
  },
  {
   "cell_type": "markdown",
   "id": "fadd4259",
   "metadata": {},
   "source": [
    "# TUNNING"
   ]
  },
  {
   "cell_type": "code",
   "execution_count": 59,
   "id": "abe2264e",
   "metadata": {},
   "outputs": [],
   "source": [
    "vectorizer = TfidfVectorizer(min_df=3,\n",
    "                             max_df=1.0,\n",
    "                             max_features=20000)"
   ]
  },
  {
   "cell_type": "code",
   "execution_count": 107,
   "id": "2575a6ba",
   "metadata": {},
   "outputs": [],
   "source": [
    "class_weight_0 = 0.22\n",
    "class_weight = {0:class_weight_0, 1:1-class_weight_0}\n",
    "\n",
    "model = LinearSVC(C=1,\n",
    "                  class_weight=class_weight,\n",
    "                  penalty='l1',\n",
    "                  loss='squared_hinge',\n",
    "                  dual=False)\n",
    "\n",
    "\n",
    "\n",
    "class_weight_0 = 0.15\n",
    "class_weight = {0:class_weight_0, 1:1-class_weight_0}\n",
    "\n",
    "model2 = LinearSVC(C=1,\n",
    "                  class_weight=class_weight,\n",
    "                  penalty='l1',\n",
    "                  loss='squared_hinge',\n",
    "                  dual=False)\n",
    "\n",
    "\n",
    "class_weight_0 = 0.4\n",
    "class_weight = {0:class_weight_0, 1:1-class_weight_0}\n",
    "\n",
    "model3 = LinearSVC(C=1,\n",
    "                  class_weight=class_weight,\n",
    "                  penalty='l1',\n",
    "                  loss='squared_hinge',\n",
    "                  dual=False)"
   ]
  },
  {
   "cell_type": "code",
   "execution_count": 108,
   "id": "8087d152",
   "metadata": {},
   "outputs": [],
   "source": [
    "from sklearn.linear_model import LogisticRegression"
   ]
  },
  {
   "cell_type": "code",
   "execution_count": 109,
   "id": "a620cb9c",
   "metadata": {},
   "outputs": [],
   "source": [
    "#model2 = LogisticRegression(max_iter=10000, class_weight=class_weight, penalty='l2')"
   ]
  },
  {
   "cell_type": "code",
   "execution_count": 113,
   "id": "53f816b6",
   "metadata": {},
   "outputs": [],
   "source": [
    "from sklearn.ensemble import VotingClassifier\n",
    "\n",
    "ensemble = VotingClassifier(\n",
    "    estimators = [(\"svc\", model),(\"svc2\", model2),(\"svc3\", model3)],\n",
    "    voting = 'hard', # to use predict_proba of each classifier before voting\n",
    "    weights = [1,1,1] # to equally weight forest and logreg in the vote\n",
    ")"
   ]
  },
  {
   "cell_type": "code",
   "execution_count": null,
   "id": "492a74dc",
   "metadata": {},
   "outputs": [],
   "source": []
  },
  {
   "cell_type": "code",
   "execution_count": null,
   "id": "55622df3",
   "metadata": {},
   "outputs": [],
   "source": []
  },
  {
   "cell_type": "code",
   "execution_count": null,
   "id": "db58851f",
   "metadata": {},
   "outputs": [],
   "source": []
  },
  {
   "cell_type": "code",
   "execution_count": 114,
   "id": "9ab33dc3",
   "metadata": {},
   "outputs": [
    {
     "data": {
      "text/html": [
       "<style>#sk-b71c57d6-c7a1-4602-b669-760daf28e0fb {color: black;background-color: white;}#sk-b71c57d6-c7a1-4602-b669-760daf28e0fb pre{padding: 0;}#sk-b71c57d6-c7a1-4602-b669-760daf28e0fb div.sk-toggleable {background-color: white;}#sk-b71c57d6-c7a1-4602-b669-760daf28e0fb label.sk-toggleable__label {cursor: pointer;display: block;width: 100%;margin-bottom: 0;padding: 0.3em;box-sizing: border-box;text-align: center;}#sk-b71c57d6-c7a1-4602-b669-760daf28e0fb label.sk-toggleable__label-arrow:before {content: \"▸\";float: left;margin-right: 0.25em;color: #696969;}#sk-b71c57d6-c7a1-4602-b669-760daf28e0fb label.sk-toggleable__label-arrow:hover:before {color: black;}#sk-b71c57d6-c7a1-4602-b669-760daf28e0fb div.sk-estimator:hover label.sk-toggleable__label-arrow:before {color: black;}#sk-b71c57d6-c7a1-4602-b669-760daf28e0fb div.sk-toggleable__content {max-height: 0;max-width: 0;overflow: hidden;text-align: left;background-color: #f0f8ff;}#sk-b71c57d6-c7a1-4602-b669-760daf28e0fb div.sk-toggleable__content pre {margin: 0.2em;color: black;border-radius: 0.25em;background-color: #f0f8ff;}#sk-b71c57d6-c7a1-4602-b669-760daf28e0fb input.sk-toggleable__control:checked~div.sk-toggleable__content {max-height: 200px;max-width: 100%;overflow: auto;}#sk-b71c57d6-c7a1-4602-b669-760daf28e0fb input.sk-toggleable__control:checked~label.sk-toggleable__label-arrow:before {content: \"▾\";}#sk-b71c57d6-c7a1-4602-b669-760daf28e0fb div.sk-estimator input.sk-toggleable__control:checked~label.sk-toggleable__label {background-color: #d4ebff;}#sk-b71c57d6-c7a1-4602-b669-760daf28e0fb div.sk-label input.sk-toggleable__control:checked~label.sk-toggleable__label {background-color: #d4ebff;}#sk-b71c57d6-c7a1-4602-b669-760daf28e0fb input.sk-hidden--visually {border: 0;clip: rect(1px 1px 1px 1px);clip: rect(1px, 1px, 1px, 1px);height: 1px;margin: -1px;overflow: hidden;padding: 0;position: absolute;width: 1px;}#sk-b71c57d6-c7a1-4602-b669-760daf28e0fb div.sk-estimator {font-family: monospace;background-color: #f0f8ff;border: 1px dotted black;border-radius: 0.25em;box-sizing: border-box;margin-bottom: 0.5em;}#sk-b71c57d6-c7a1-4602-b669-760daf28e0fb div.sk-estimator:hover {background-color: #d4ebff;}#sk-b71c57d6-c7a1-4602-b669-760daf28e0fb div.sk-parallel-item::after {content: \"\";width: 100%;border-bottom: 1px solid gray;flex-grow: 1;}#sk-b71c57d6-c7a1-4602-b669-760daf28e0fb div.sk-label:hover label.sk-toggleable__label {background-color: #d4ebff;}#sk-b71c57d6-c7a1-4602-b669-760daf28e0fb div.sk-serial::before {content: \"\";position: absolute;border-left: 1px solid gray;box-sizing: border-box;top: 2em;bottom: 0;left: 50%;}#sk-b71c57d6-c7a1-4602-b669-760daf28e0fb div.sk-serial {display: flex;flex-direction: column;align-items: center;background-color: white;padding-right: 0.2em;padding-left: 0.2em;}#sk-b71c57d6-c7a1-4602-b669-760daf28e0fb div.sk-item {z-index: 1;}#sk-b71c57d6-c7a1-4602-b669-760daf28e0fb div.sk-parallel {display: flex;align-items: stretch;justify-content: center;background-color: white;}#sk-b71c57d6-c7a1-4602-b669-760daf28e0fb div.sk-parallel::before {content: \"\";position: absolute;border-left: 1px solid gray;box-sizing: border-box;top: 2em;bottom: 0;left: 50%;}#sk-b71c57d6-c7a1-4602-b669-760daf28e0fb div.sk-parallel-item {display: flex;flex-direction: column;position: relative;background-color: white;}#sk-b71c57d6-c7a1-4602-b669-760daf28e0fb div.sk-parallel-item:first-child::after {align-self: flex-end;width: 50%;}#sk-b71c57d6-c7a1-4602-b669-760daf28e0fb div.sk-parallel-item:last-child::after {align-self: flex-start;width: 50%;}#sk-b71c57d6-c7a1-4602-b669-760daf28e0fb div.sk-parallel-item:only-child::after {width: 0;}#sk-b71c57d6-c7a1-4602-b669-760daf28e0fb div.sk-dashed-wrapped {border: 1px dashed gray;margin: 0 0.4em 0.5em 0.4em;box-sizing: border-box;padding-bottom: 0.4em;background-color: white;position: relative;}#sk-b71c57d6-c7a1-4602-b669-760daf28e0fb div.sk-label label {font-family: monospace;font-weight: bold;background-color: white;display: inline-block;line-height: 1.2em;}#sk-b71c57d6-c7a1-4602-b669-760daf28e0fb div.sk-label-container {position: relative;z-index: 2;text-align: center;}#sk-b71c57d6-c7a1-4602-b669-760daf28e0fb div.sk-container {/* jupyter's `normalize.less` sets `[hidden] { display: none; }` but bootstrap.min.css set `[hidden] { display: none !important; }` so we also need the `!important` here to be able to override the default hidden behavior on the sphinx rendered scikit-learn.org. See: https://github.com/scikit-learn/scikit-learn/issues/21755 */display: inline-block !important;position: relative;}#sk-b71c57d6-c7a1-4602-b669-760daf28e0fb div.sk-text-repr-fallback {display: none;}</style><div id=\"sk-b71c57d6-c7a1-4602-b669-760daf28e0fb\" class=\"sk-top-container\"><div class=\"sk-text-repr-fallback\"><pre>Pipeline(steps=[(&#x27;columntransformer&#x27;,\n",
       "                 ColumnTransformer(transformers=[(&#x27;pipeline&#x27;,\n",
       "                                                  Pipeline(steps=[(&#x27;tfidfvectorizer&#x27;,\n",
       "                                                                   TfidfVectorizer(max_features=20000,\n",
       "                                                                                   min_df=3))]),\n",
       "                                                  &#x27;text&#x27;)])),\n",
       "                (&#x27;votingclassifier&#x27;,\n",
       "                 VotingClassifier(estimators=[(&#x27;svc&#x27;,\n",
       "                                               LinearSVC(C=1,\n",
       "                                                         class_weight={0: 0.22,\n",
       "                                                                       1: 0.78},\n",
       "                                                         dual=False,\n",
       "                                                         penalty=&#x27;l1&#x27;)),\n",
       "                                              (&#x27;svc2&#x27;,\n",
       "                                               LinearSVC(C=1,\n",
       "                                                         class_weight={0: 0.15,\n",
       "                                                                       1: 0.85},\n",
       "                                                         dual=False,\n",
       "                                                         penalty=&#x27;l1&#x27;)),\n",
       "                                              (&#x27;svc3&#x27;,\n",
       "                                               LinearSVC(C=1,\n",
       "                                                         class_weight={0: 0.4,\n",
       "                                                                       1: 0.6},\n",
       "                                                         dual=False,\n",
       "                                                         penalty=&#x27;l1&#x27;))],\n",
       "                                  weights=[1, 1, 1]))])</pre><b>Please rerun this cell to show the HTML repr or trust the notebook.</b></div><div class=\"sk-container\" hidden><div class=\"sk-item sk-dashed-wrapped\"><div class=\"sk-label-container\"><div class=\"sk-label sk-toggleable\"><input class=\"sk-toggleable__control sk-hidden--visually\" id=\"39fbf261-531f-45ca-9284-65ad23ce7be3\" type=\"checkbox\" ><label for=\"39fbf261-531f-45ca-9284-65ad23ce7be3\" class=\"sk-toggleable__label sk-toggleable__label-arrow\">Pipeline</label><div class=\"sk-toggleable__content\"><pre>Pipeline(steps=[(&#x27;columntransformer&#x27;,\n",
       "                 ColumnTransformer(transformers=[(&#x27;pipeline&#x27;,\n",
       "                                                  Pipeline(steps=[(&#x27;tfidfvectorizer&#x27;,\n",
       "                                                                   TfidfVectorizer(max_features=20000,\n",
       "                                                                                   min_df=3))]),\n",
       "                                                  &#x27;text&#x27;)])),\n",
       "                (&#x27;votingclassifier&#x27;,\n",
       "                 VotingClassifier(estimators=[(&#x27;svc&#x27;,\n",
       "                                               LinearSVC(C=1,\n",
       "                                                         class_weight={0: 0.22,\n",
       "                                                                       1: 0.78},\n",
       "                                                         dual=False,\n",
       "                                                         penalty=&#x27;l1&#x27;)),\n",
       "                                              (&#x27;svc2&#x27;,\n",
       "                                               LinearSVC(C=1,\n",
       "                                                         class_weight={0: 0.15,\n",
       "                                                                       1: 0.85},\n",
       "                                                         dual=False,\n",
       "                                                         penalty=&#x27;l1&#x27;)),\n",
       "                                              (&#x27;svc3&#x27;,\n",
       "                                               LinearSVC(C=1,\n",
       "                                                         class_weight={0: 0.4,\n",
       "                                                                       1: 0.6},\n",
       "                                                         dual=False,\n",
       "                                                         penalty=&#x27;l1&#x27;))],\n",
       "                                  weights=[1, 1, 1]))])</pre></div></div></div><div class=\"sk-serial\"><div class=\"sk-item sk-dashed-wrapped\"><div class=\"sk-label-container\"><div class=\"sk-label sk-toggleable\"><input class=\"sk-toggleable__control sk-hidden--visually\" id=\"3b9f3129-ea59-449e-b189-7fb161bc3d4a\" type=\"checkbox\" ><label for=\"3b9f3129-ea59-449e-b189-7fb161bc3d4a\" class=\"sk-toggleable__label sk-toggleable__label-arrow\">columntransformer: ColumnTransformer</label><div class=\"sk-toggleable__content\"><pre>ColumnTransformer(transformers=[(&#x27;pipeline&#x27;,\n",
       "                                 Pipeline(steps=[(&#x27;tfidfvectorizer&#x27;,\n",
       "                                                  TfidfVectorizer(max_features=20000,\n",
       "                                                                  min_df=3))]),\n",
       "                                 &#x27;text&#x27;)])</pre></div></div></div><div class=\"sk-parallel\"><div class=\"sk-parallel-item\"><div class=\"sk-item\"><div class=\"sk-label-container\"><div class=\"sk-label sk-toggleable\"><input class=\"sk-toggleable__control sk-hidden--visually\" id=\"91d4a70d-9c9b-4796-beec-9666967e7867\" type=\"checkbox\" ><label for=\"91d4a70d-9c9b-4796-beec-9666967e7867\" class=\"sk-toggleable__label sk-toggleable__label-arrow\">pipeline</label><div class=\"sk-toggleable__content\"><pre>text</pre></div></div></div><div class=\"sk-serial\"><div class=\"sk-item\"><div class=\"sk-serial\"><div class=\"sk-item\"><div class=\"sk-estimator sk-toggleable\"><input class=\"sk-toggleable__control sk-hidden--visually\" id=\"648ca576-ba32-4eed-9a49-c1ee80ce6d39\" type=\"checkbox\" ><label for=\"648ca576-ba32-4eed-9a49-c1ee80ce6d39\" class=\"sk-toggleable__label sk-toggleable__label-arrow\">TfidfVectorizer</label><div class=\"sk-toggleable__content\"><pre>TfidfVectorizer(max_features=20000, min_df=3)</pre></div></div></div></div></div></div></div></div></div></div><div class=\"sk-item sk-dashed-wrapped\"><div class=\"sk-label-container\"><div class=\"sk-label sk-toggleable\"><input class=\"sk-toggleable__control sk-hidden--visually\" id=\"13271812-b959-4e77-ae87-fee84411f859\" type=\"checkbox\" ><label for=\"13271812-b959-4e77-ae87-fee84411f859\" class=\"sk-toggleable__label sk-toggleable__label-arrow\">votingclassifier: VotingClassifier</label><div class=\"sk-toggleable__content\"><pre>VotingClassifier(estimators=[(&#x27;svc&#x27;,\n",
       "                              LinearSVC(C=1, class_weight={0: 0.22, 1: 0.78},\n",
       "                                        dual=False, penalty=&#x27;l1&#x27;)),\n",
       "                             (&#x27;svc2&#x27;,\n",
       "                              LinearSVC(C=1, class_weight={0: 0.15, 1: 0.85},\n",
       "                                        dual=False, penalty=&#x27;l1&#x27;)),\n",
       "                             (&#x27;svc3&#x27;,\n",
       "                              LinearSVC(C=1, class_weight={0: 0.4, 1: 0.6},\n",
       "                                        dual=False, penalty=&#x27;l1&#x27;))],\n",
       "                 weights=[1, 1, 1])</pre></div></div></div><div class=\"sk-parallel\"><div class=\"sk-parallel-item\"><div class=\"sk-item\"><div class=\"sk-label-container\"><div class=\"sk-label sk-toggleable\"><label>svc</label></div></div><div class=\"sk-serial\"><div class=\"sk-item\"><div class=\"sk-estimator sk-toggleable\"><input class=\"sk-toggleable__control sk-hidden--visually\" id=\"14033045-31ae-4133-aa04-75dd72139210\" type=\"checkbox\" ><label for=\"14033045-31ae-4133-aa04-75dd72139210\" class=\"sk-toggleable__label sk-toggleable__label-arrow\">LinearSVC</label><div class=\"sk-toggleable__content\"><pre>LinearSVC(C=1, class_weight={0: 0.22, 1: 0.78}, dual=False, penalty=&#x27;l1&#x27;)</pre></div></div></div></div></div></div><div class=\"sk-parallel-item\"><div class=\"sk-item\"><div class=\"sk-label-container\"><div class=\"sk-label sk-toggleable\"><label>svc2</label></div></div><div class=\"sk-serial\"><div class=\"sk-item\"><div class=\"sk-estimator sk-toggleable\"><input class=\"sk-toggleable__control sk-hidden--visually\" id=\"2e9844e6-0b7a-4fc0-9bd3-03ab06cb8944\" type=\"checkbox\" ><label for=\"2e9844e6-0b7a-4fc0-9bd3-03ab06cb8944\" class=\"sk-toggleable__label sk-toggleable__label-arrow\">LinearSVC</label><div class=\"sk-toggleable__content\"><pre>LinearSVC(C=1, class_weight={0: 0.15, 1: 0.85}, dual=False, penalty=&#x27;l1&#x27;)</pre></div></div></div></div></div></div><div class=\"sk-parallel-item\"><div class=\"sk-item\"><div class=\"sk-label-container\"><div class=\"sk-label sk-toggleable\"><label>svc3</label></div></div><div class=\"sk-serial\"><div class=\"sk-item\"><div class=\"sk-estimator sk-toggleable\"><input class=\"sk-toggleable__control sk-hidden--visually\" id=\"972036b3-3d39-4314-88a1-2f8afe2a4446\" type=\"checkbox\" ><label for=\"972036b3-3d39-4314-88a1-2f8afe2a4446\" class=\"sk-toggleable__label sk-toggleable__label-arrow\">LinearSVC</label><div class=\"sk-toggleable__content\"><pre>LinearSVC(C=1, class_weight={0: 0.4, 1: 0.6}, dual=False, penalty=&#x27;l1&#x27;)</pre></div></div></div></div></div></div></div></div></div></div></div></div>"
      ],
      "text/plain": [
       "Pipeline(steps=[('columntransformer',\n",
       "                 ColumnTransformer(transformers=[('pipeline',\n",
       "                                                  Pipeline(steps=[('tfidfvectorizer',\n",
       "                                                                   TfidfVectorizer(max_features=20000,\n",
       "                                                                                   min_df=3))]),\n",
       "                                                  'text')])),\n",
       "                ('votingclassifier',\n",
       "                 VotingClassifier(estimators=[('svc',\n",
       "                                               LinearSVC(C=1,\n",
       "                                                         class_weight={0: 0.22,\n",
       "                                                                       1: 0.78},\n",
       "                                                         dual=False,\n",
       "                                                         penalty='l1')),\n",
       "                                              ('svc2',\n",
       "                                               LinearSVC(C=1,\n",
       "                                                         class_weight={0: 0.15,\n",
       "                                                                       1: 0.85},\n",
       "                                                         dual=False,\n",
       "                                                         penalty='l1')),\n",
       "                                              ('svc3',\n",
       "                                               LinearSVC(C=1,\n",
       "                                                         class_weight={0: 0.4,\n",
       "                                                                       1: 0.6},\n",
       "                                                         dual=False,\n",
       "                                                         penalty='l1'))],\n",
       "                                  weights=[1, 1, 1]))])"
      ]
     },
     "execution_count": 114,
     "metadata": {},
     "output_type": "execute_result"
    }
   ],
   "source": [
    "preprocessing = make_column_transformer(\n",
    "    (make_pipeline(vectorizer), 'text')\n",
    ")\n",
    "\n",
    "\n",
    "pipe = make_pipeline(\n",
    "    preprocessing,\n",
    "    ensemble\n",
    ")\n",
    "\n",
    "pipe"
   ]
  },
  {
   "cell_type": "code",
   "execution_count": 115,
   "id": "a04fa650",
   "metadata": {},
   "outputs": [
    {
     "name": "stdout",
     "output_type": "stream",
     "text": [
      "Recall: 0.719\n",
      "Precision: 0.628\n",
      "Accuracy: 0.917\n",
      "F1-score: 0.67\n",
      "CPU times: user 14.1 s, sys: 48.8 ms, total: 14.2 s\n",
      "Wall time: 14.2 s\n"
     ]
    },
    {
     "data": {
      "text/plain": [
       "(0.719, 0.628, 0.917, 0.67)"
      ]
     },
     "execution_count": 115,
     "metadata": {},
     "output_type": "execute_result"
    },
    {
     "data": {
      "image/png": "[encoded data removed]",
      "text/plain": [
       "<Figure size 432x288 with 2 Axes>"
      ]
     },
     "metadata": {
      "needs_background": "light"
     },
     "output_type": "display_data"
    }
   ],
   "source": [
    "%%time\n",
    "\n",
    "pipe.fit(X_train, y_train);\n",
    "\n",
    "y_pred = pipe.predict(X_test)\n",
    "\n",
    "conf_mx_all(y_test, y_pred)"
   ]
  },
  {
   "cell_type": "code",
   "execution_count": 66,
   "id": "505de569",
   "metadata": {},
   "outputs": [
    {
     "data": {
      "text/html": [
       "<div>\n",
       "<style scoped>\n",
       "    .dataframe tbody tr th:only-of-type {\n",
       "        vertical-align: middle;\n",
       "    }\n",
       "\n",
       "    .dataframe tbody tr th {\n",
       "        vertical-align: top;\n",
       "    }\n",
       "\n",
       "    .dataframe thead th {\n",
       "        text-align: right;\n",
       "    }\n",
       "</style>\n",
       "<table border=\"1\" class=\"dataframe\">\n",
       "  <thead>\n",
       "    <tr style=\"text-align: right;\">\n",
       "      <th></th>\n",
       "      <th>text</th>\n",
       "      <th>test</th>\n",
       "      <th>pred</th>\n",
       "    </tr>\n",
       "  </thead>\n",
       "  <tbody>\n",
       "    <tr>\n",
       "      <th>93663</th>\n",
       "      <td>script assisted fucking grumble yeah know us l...</td>\n",
       "      <td>1.0</td>\n",
       "      <td>0.0</td>\n",
       "    </tr>\n",
       "    <tr>\n",
       "      <th>68501</th>\n",
       "      <td>protect page gon na kill user page tomorrow mo...</td>\n",
       "      <td>1.0</td>\n",
       "      <td>0.0</td>\n",
       "    </tr>\n",
       "    <tr>\n",
       "      <th>222916</th>\n",
       "      <td>juxtaposition jaguar pitch joan evening fuckin...</td>\n",
       "      <td>0.0</td>\n",
       "      <td>1.0</td>\n",
       "    </tr>\n",
       "    <tr>\n",
       "      <th>186817</th>\n",
       "      <td>nice completely ignored main thing whereas che...</td>\n",
       "      <td>1.0</td>\n",
       "      <td>0.0</td>\n",
       "    </tr>\n",
       "    <tr>\n",
       "      <th>194091</th>\n",
       "      <td>pr team lair sas stinks ha</td>\n",
       "      <td>0.0</td>\n",
       "      <td>1.0</td>\n",
       "    </tr>\n",
       "    <tr>\n",
       "      <th>...</th>\n",
       "      <td>...</td>\n",
       "      <td>...</td>\n",
       "      <td>...</td>\n",
       "    </tr>\n",
       "    <tr>\n",
       "      <th>39389</th>\n",
       "      <td>look oh gosh actually complaining yesterday in...</td>\n",
       "      <td>0.0</td>\n",
       "      <td>1.0</td>\n",
       "    </tr>\n",
       "    <tr>\n",
       "      <th>68876</th>\n",
       "      <td>interesting stupid strange interesting william...</td>\n",
       "      <td>1.0</td>\n",
       "      <td>0.0</td>\n",
       "    </tr>\n",
       "    <tr>\n",
       "      <th>214106</th>\n",
       "      <td>shaner ahem pens fan appreciate system rewards...</td>\n",
       "      <td>1.0</td>\n",
       "      <td>0.0</td>\n",
       "    </tr>\n",
       "    <tr>\n",
       "      <th>149887</th>\n",
       "      <td>poor theories</td>\n",
       "      <td>1.0</td>\n",
       "      <td>0.0</td>\n",
       "    </tr>\n",
       "    <tr>\n",
       "      <th>133733</th>\n",
       "      <td>mother</td>\n",
       "      <td>0.0</td>\n",
       "      <td>1.0</td>\n",
       "    </tr>\n",
       "  </tbody>\n",
       "</table>\n",
       "<p>5655 rows × 3 columns</p>\n",
       "</div>"
      ],
      "text/plain": [
       "                                                     text  test  pred\n",
       "93663   script assisted fucking grumble yeah know us l...   1.0   0.0\n",
       "68501   protect page gon na kill user page tomorrow mo...   1.0   0.0\n",
       "222916  juxtaposition jaguar pitch joan evening fuckin...   0.0   1.0\n",
       "186817  nice completely ignored main thing whereas che...   1.0   0.0\n",
       "194091                         pr team lair sas stinks ha   0.0   1.0\n",
       "...                                                   ...   ...   ...\n",
       "39389   look oh gosh actually complaining yesterday in...   0.0   1.0\n",
       "68876   interesting stupid strange interesting william...   1.0   0.0\n",
       "214106  shaner ahem pens fan appreciate system rewards...   1.0   0.0\n",
       "149887                                      poor theories   1.0   0.0\n",
       "133733                                             mother   0.0   1.0\n",
       "\n",
       "[5655 rows x 3 columns]"
      ]
     },
     "execution_count": 66,
     "metadata": {},
     "output_type": "execute_result"
    }
   ],
   "source": [
    "new_df = pd.DataFrame({'text': X_test['text'], 'test': y_test, 'pred': y_pred})\n",
    "new_df[(new_df['test'] + new_df['pred'])==1]"
   ]
  },
  {
   "cell_type": "code",
   "execution_count": 67,
   "id": "830ef1f7",
   "metadata": {},
   "outputs": [
    {
     "data": {
      "text/plain": [
       "{'fit_time': array([3.98487091, 3.44664192, 3.33751941, 3.37145472, 3.46618676]),\n",
       " 'score_time': array([0.03467917, 0.03454447, 0.0539577 , 0.04239821, 0.03208971]),\n",
       " 'test_accuracy': array([0.9157679 , 0.91368653, 0.91485067, 0.91459838, 0.91567063]),\n",
       " 'test_precision': array([0.63037916, 0.62101399, 0.626097  , 0.62488479, 0.63122066]),\n",
       " 'test_recall': array([0.71466245, 0.71387131, 0.71492616, 0.71518987, 0.70912447]),\n",
       " 'test_f1': array([0.66988011, 0.66421298, 0.66756956, 0.66699459, 0.66790859])}"
      ]
     },
     "execution_count": 67,
     "metadata": {},
     "output_type": "execute_result"
    }
   ],
   "source": [
    "cv_results = cross_validate(model, X_train_vec, y_train, cv=5, n_jobs=-1, scoring=scoring)\n",
    "cv_results"
   ]
  },
  {
   "cell_type": "code",
   "execution_count": null,
   "id": "11e3ae0d",
   "metadata": {},
   "outputs": [],
   "source": []
  },
  {
   "cell_type": "code",
   "execution_count": 68,
   "id": "75f0d04d",
   "metadata": {},
   "outputs": [
    {
     "data": {
      "image/png": "[encoded data removed]",
      "text/plain": [
       "<Figure size 432x288 with 1 Axes>"
      ]
     },
     "metadata": {
      "needs_background": "light"
     },
     "output_type": "display_data"
    }
   ],
   "source": [
    "from sklearn.model_selection import learning_curve\n",
    "\n",
    "\n",
    "train_sizes = np.linspace(.1,  1, 10)\n",
    "# Get train scores (R2), train sizes, and validation scores using `learning_curve`\n",
    "train_sizes, train_scores, test_scores = learning_curve(\n",
    "    estimator=model, X=X_train_vec, y=y_train, train_sizes=train_sizes, cv=5, scoring='recall')\n",
    "\n",
    "# Take the mean of cross-validated train scores and validation scores\n",
    "train_scores_mean = np.mean(train_scores, axis=1)\n",
    "test_scores_mean = np.mean(test_scores, axis=1)\n",
    "plt.plot(train_sizes, train_scores_mean, label = 'Training score')\n",
    "plt.plot(train_sizes, test_scores_mean, label = 'Test score')\n",
    "plt.ylabel('recall', fontsize = 14)\n",
    "plt.xlabel('Training set size', fontsize = 14)\n",
    "plt.title('Learning curves', fontsize = 18, y = 1.03)\n",
    "plt.ylim(0, 1)\n",
    "plt.legend();"
   ]
  },
  {
   "cell_type": "markdown",
   "id": "aa43f9a8",
   "metadata": {},
   "source": [
    "# Prueba nueva función de predict "
   ]
  },
  {
   "cell_type": "code",
   "execution_count": 69,
   "id": "74004702",
   "metadata": {},
   "outputs": [],
   "source": [
    "import math"
   ]
  },
  {
   "cell_type": "code",
   "execution_count": 70,
   "id": "403b44e5",
   "metadata": {},
   "outputs": [],
   "source": [
    "def slicing_input(text):\n",
    "    n=20\n",
    "    words_list = text.split(\" \")\n",
    "    subdivisions = []\n",
    "    coef = math.ceil(len(words_list)/n)\n",
    "    for i in range(coef):\n",
    "            subdivisions.append(\" \".join(words_list[i*n:(i+1)*n]))\n",
    "    return subdivisions"
   ]
  },
  {
   "cell_type": "code",
   "execution_count": 71,
   "id": "711c45ca",
   "metadata": {},
   "outputs": [
    {
     "data": {
      "text/plain": [
       "80955     712\n",
       "55070     680\n",
       "57940     642\n",
       "166842    634\n",
       "122427    626\n",
       "37439     622\n",
       "117130    617\n",
       "110821    612\n",
       "195071    601\n",
       "177829    592\n",
       "Name: text, dtype: int64"
      ]
     },
     "execution_count": 71,
     "metadata": {},
     "output_type": "execute_result"
    }
   ],
   "source": [
    "X_test['text'].map(lambda text: len(text.split())).sort_values(ascending=False)[0:10]"
   ]
  },
  {
   "cell_type": "code",
   "execution_count": 72,
   "id": "4172fff9",
   "metadata": {},
   "outputs": [
    {
     "data": {
      "text/plain": [
       "[\"There are so many things that are incorrect with your comment it's unbelievable. Guns don't kill people. A gun doesn't\",\n",
       " \"get up off a table and then shoot someone. He's not the reason soldiers are at war he's merely showing\",\n",
       " 'us weapons and explaining how they work and whether he likes them or not. You blame him for violent video',\n",
       " 'games...Why would this guy mess around with video games when he has real weapons he can use and practice with.',\n",
       " \"I can't say much more coz I don't have more space. Retard. This is all we need an Australian version\",\n",
       " 'of 1 Direction.... my dick was bleeding from how hard I was masturbating to this']"
      ]
     },
     "execution_count": 72,
     "metadata": {},
     "output_type": "execute_result"
    }
   ],
   "source": [
    "#index = 195358\n",
    "\n",
    "#word_1 = X_test.loc[index, 'text']\n",
    "\n",
    "word_1 = \"There are so many things that are incorrect with your comment it's unbelievable. Guns don't kill people. A gun doesn't get up off a table and then shoot someone. He's not the reason soldiers are at war he's merely showing us weapons and explaining how they work and whether he likes them or not. You blame him for violent video games...Why would this guy mess around with video games when he has real weapons he can use and practice with. I can't say much more coz I don't have more space. Retard. This is all we need an Australian version of 1 Direction.... my dick was bleeding from how hard I was masturbating to this\"\n",
    "\n",
    "\n",
    "word_1 = slicing_input(word_1)\n",
    "word_1"
   ]
  },
  {
   "cell_type": "code",
   "execution_count": 73,
   "id": "32b922fb",
   "metadata": {},
   "outputs": [],
   "source": [
    "#y_test[index]"
   ]
  },
  {
   "cell_type": "code",
   "execution_count": null,
   "id": "166c9f17",
   "metadata": {},
   "outputs": [],
   "source": []
  },
  {
   "cell_type": "code",
   "execution_count": 74,
   "id": "febafcb3",
   "metadata": {},
   "outputs": [
    {
     "data": {
      "text/html": [
       "<div>\n",
       "<style scoped>\n",
       "    .dataframe tbody tr th:only-of-type {\n",
       "        vertical-align: middle;\n",
       "    }\n",
       "\n",
       "    .dataframe tbody tr th {\n",
       "        vertical-align: top;\n",
       "    }\n",
       "\n",
       "    .dataframe thead th {\n",
       "        text-align: right;\n",
       "    }\n",
       "</style>\n",
       "<table border=\"1\" class=\"dataframe\">\n",
       "  <thead>\n",
       "    <tr style=\"text-align: right;\">\n",
       "      <th></th>\n",
       "      <th>text</th>\n",
       "    </tr>\n",
       "  </thead>\n",
       "  <tbody>\n",
       "    <tr>\n",
       "      <th>0</th>\n",
       "      <td>There are so many things that are incorrect wi...</td>\n",
       "    </tr>\n",
       "    <tr>\n",
       "      <th>1</th>\n",
       "      <td>get up off a table and then shoot someone. He'...</td>\n",
       "    </tr>\n",
       "    <tr>\n",
       "      <th>2</th>\n",
       "      <td>us weapons and explaining how they work and wh...</td>\n",
       "    </tr>\n",
       "    <tr>\n",
       "      <th>3</th>\n",
       "      <td>games...Why would this guy mess around with vi...</td>\n",
       "    </tr>\n",
       "    <tr>\n",
       "      <th>4</th>\n",
       "      <td>I can't say much more coz I don't have more sp...</td>\n",
       "    </tr>\n",
       "    <tr>\n",
       "      <th>5</th>\n",
       "      <td>of 1 Direction.... my dick was bleeding from h...</td>\n",
       "    </tr>\n",
       "  </tbody>\n",
       "</table>\n",
       "</div>"
      ],
      "text/plain": [
       "                                                text\n",
       "0  There are so many things that are incorrect wi...\n",
       "1  get up off a table and then shoot someone. He'...\n",
       "2  us weapons and explaining how they work and wh...\n",
       "3  games...Why would this guy mess around with vi...\n",
       "4  I can't say much more coz I don't have more sp...\n",
       "5  of 1 Direction.... my dick was bleeding from h..."
      ]
     },
     "execution_count": 74,
     "metadata": {},
     "output_type": "execute_result"
    }
   ],
   "source": [
    "word_1_df = pd.DataFrame({'text': word_1})\n",
    "word_1_df"
   ]
  },
  {
   "cell_type": "code",
   "execution_count": 75,
   "id": "6a278b2b",
   "metadata": {},
   "outputs": [
    {
     "data": {
      "text/plain": [
       "array([0., 0., 0., 0., 0., 1.])"
      ]
     },
     "execution_count": 75,
     "metadata": {},
     "output_type": "execute_result"
    }
   ],
   "source": [
    "pipe.predict(word_1_df)"
   ]
  },
  {
   "cell_type": "code",
   "execution_count": null,
   "id": "5b76f519",
   "metadata": {},
   "outputs": [],
   "source": []
  },
  {
   "cell_type": "code",
   "execution_count": null,
   "id": "d93c98d3",
   "metadata": {},
   "outputs": [],
   "source": []
  },
  {
   "cell_type": "code",
   "execution_count": 76,
   "id": "151759fb",
   "metadata": {},
   "outputs": [],
   "source": [
    "prueba = pd.DataFrame({'text':X_train['text'], 'target':y_train})\n",
    "prueba_0 = prueba[prueba['target']==0]\n",
    "prueba_0_ = prueba_0"
   ]
  },
  {
   "cell_type": "code",
   "execution_count": 77,
   "id": "10d2b1db",
   "metadata": {},
   "outputs": [],
   "source": [
    "X_train_prueba = prueba_0[['text']]"
   ]
  },
  {
   "cell_type": "code",
   "execution_count": 78,
   "id": "a5252661",
   "metadata": {},
   "outputs": [],
   "source": [
    "def predict_slicing_input(text):\n",
    "    n=100\n",
    "    words_list = text.split(\" \")\n",
    "    subdivisions = []\n",
    "    coef = math.ceil(len(words_list)/n)\n",
    "    for i in range(coef):\n",
    "            subdivisions.append(\" \".join(words_list[i*n:(i+1)*n]))\n",
    "    \n",
    "    subdivisions = pd.DataFrame({'text':subdivisions})\n",
    "    \n",
    "    predictions = pipe.predict(subdivisions).max()\n",
    "    \n",
    "    return predictions"
   ]
  },
  {
   "cell_type": "code",
   "execution_count": 79,
   "id": "35d139f7",
   "metadata": {},
   "outputs": [],
   "source": [
    "texto = \"There are so many things that are incorrect with your comment it's unbelievable. Guns don't kill people. A gun doesn't get up off a table and then shoot someone. He's not the reason soldiers are at war he's merely showing us weapons and explaining how they work and whether he likes them or not. You blame him for violent video games...Why would this guy mess around with video games when he has real weapons he can use and practice with. I can't say much more coz I don't have more space. Retard. This is all we need an Australian version of 1 Direction.... my dick was bleeding from how hard I was masturbating to this\""
   ]
  },
  {
   "cell_type": "code",
   "execution_count": 80,
   "id": "3d626261",
   "metadata": {},
   "outputs": [
    {
     "data": {
      "text/plain": [
       "1.0"
      ]
     },
     "execution_count": 80,
     "metadata": {},
     "output_type": "execute_result"
    }
   ],
   "source": [
    "predict_slicing_input(texto)"
   ]
  },
  {
   "cell_type": "code",
   "execution_count": 81,
   "id": "c089fd32",
   "metadata": {},
   "outputs": [],
   "source": [
    "suma = []\n",
    "#for texto in prueba_0_['text']:\n",
    "#    suma.append(predict_slicing_input(texto))"
   ]
  },
  {
   "cell_type": "code",
   "execution_count": 82,
   "id": "c8311862",
   "metadata": {},
   "outputs": [],
   "source": [
    "#sum(suma)"
   ]
  },
  {
   "cell_type": "code",
   "execution_count": 83,
   "id": "8a74a3d5",
   "metadata": {},
   "outputs": [],
   "source": [
    "#pd.DataFrame({'text':prueba_0['text'], 'target': prueba_0['target'], 'y_pred':suma})"
   ]
  },
  {
   "cell_type": "code",
   "execution_count": 84,
   "id": "756c2dc3",
   "metadata": {},
   "outputs": [],
   "source": [
    "#sum(suma)"
   ]
  },
  {
   "cell_type": "code",
   "execution_count": null,
   "id": "a1d35b32",
   "metadata": {},
   "outputs": [],
   "source": []
  },
  {
   "cell_type": "code",
   "execution_count": null,
   "id": "7848b364",
   "metadata": {},
   "outputs": [],
   "source": []
  },
  {
   "cell_type": "code",
   "execution_count": 85,
   "id": "b4ce189d",
   "metadata": {},
   "outputs": [],
   "source": [
    "#pipe.predict(X_train_prueba).sum()"
   ]
  },
  {
   "cell_type": "code",
   "execution_count": null,
   "id": "ea0b0e7a",
   "metadata": {},
   "outputs": [],
   "source": []
  },
  {
   "cell_type": "code",
   "execution_count": null,
   "id": "aba72d7b",
   "metadata": {},
   "outputs": [],
   "source": []
  },
  {
   "cell_type": "code",
   "execution_count": 86,
   "id": "41c59a05",
   "metadata": {},
   "outputs": [],
   "source": [
    "def predict_slicing_df(X_test):\n",
    "    x = X_test['text']\n",
    "    y_pred = []\n",
    "    for text in x:\n",
    "        y_pred.append(predict_slicing_input(text))\n",
    "    return y_pred"
   ]
  },
  {
   "cell_type": "code",
   "execution_count": 87,
   "id": "5a16f5a4",
   "metadata": {},
   "outputs": [],
   "source": [
    "#y_pred_3 = predict_slicing_df(X_test)"
   ]
  },
  {
   "cell_type": "code",
   "execution_count": 88,
   "id": "3913ea03",
   "metadata": {},
   "outputs": [],
   "source": [
    "#conf_mx_all(y_test, y_pred_3)"
   ]
  },
  {
   "cell_type": "code",
   "execution_count": null,
   "id": "d9c07b21",
   "metadata": {},
   "outputs": [],
   "source": []
  },
  {
   "cell_type": "code",
   "execution_count": null,
   "id": "50dcbb93",
   "metadata": {},
   "outputs": [],
   "source": []
  },
  {
   "cell_type": "markdown",
   "id": "0dad1f5f",
   "metadata": {},
   "source": [
    "# Prueba con otro dataset"
   ]
  },
  {
   "cell_type": "code",
   "execution_count": 89,
   "id": "0a79c2c1",
   "metadata": {},
   "outputs": [
    {
     "data": {
      "text/html": [
       "<div>\n",
       "<style scoped>\n",
       "    .dataframe tbody tr th:only-of-type {\n",
       "        vertical-align: middle;\n",
       "    }\n",
       "\n",
       "    .dataframe tbody tr th {\n",
       "        vertical-align: top;\n",
       "    }\n",
       "\n",
       "    .dataframe thead th {\n",
       "        text-align: right;\n",
       "    }\n",
       "</style>\n",
       "<table border=\"1\" class=\"dataframe\">\n",
       "  <thead>\n",
       "    <tr style=\"text-align: right;\">\n",
       "      <th></th>\n",
       "      <th>text</th>\n",
       "      <th>target</th>\n",
       "    </tr>\n",
       "  </thead>\n",
       "  <tbody>\n",
       "    <tr>\n",
       "      <th>0</th>\n",
       "      <td>@halalflaws @biebervalue @greenlinerzjm I read...</td>\n",
       "      <td>0.0</td>\n",
       "    </tr>\n",
       "    <tr>\n",
       "      <th>1</th>\n",
       "      <td>@ShreyaBafna3 Now you idiots claim that people...</td>\n",
       "      <td>0.0</td>\n",
       "    </tr>\n",
       "    <tr>\n",
       "      <th>2</th>\n",
       "      <td>RT @Mooseoftorment Call me sexist, but when I ...</td>\n",
       "      <td>1.0</td>\n",
       "    </tr>\n",
       "    <tr>\n",
       "      <th>3</th>\n",
       "      <td>@g0ssipsquirrelx Wrong, ISIS follows the examp...</td>\n",
       "      <td>1.0</td>\n",
       "    </tr>\n",
       "    <tr>\n",
       "      <th>4</th>\n",
       "      <td>#mkr No No No No No No</td>\n",
       "      <td>0.0</td>\n",
       "    </tr>\n",
       "  </tbody>\n",
       "</table>\n",
       "</div>"
      ],
      "text/plain": [
       "                                                text  target\n",
       "0  @halalflaws @biebervalue @greenlinerzjm I read...     0.0\n",
       "1  @ShreyaBafna3 Now you idiots claim that people...     0.0\n",
       "2  RT @Mooseoftorment Call me sexist, but when I ...     1.0\n",
       "3  @g0ssipsquirrelx Wrong, ISIS follows the examp...     1.0\n",
       "4                             #mkr No No No No No No     0.0"
      ]
     },
     "execution_count": 89,
     "metadata": {},
     "output_type": "execute_result"
    }
   ],
   "source": [
    "df_test = pd.read_csv('../../raw_data/twitter_parsed_dataset.csv', usecols=['Text', 'oh_label'])\n",
    "df_test = df_test.rename(columns={'Text': 'text', 'oh_label': 'target'})\n",
    "df_test.head()"
   ]
  },
  {
   "cell_type": "code",
   "execution_count": 90,
   "id": "6ae9836c",
   "metadata": {},
   "outputs": [
    {
     "data": {
      "text/plain": [
       "(16851, 2)"
      ]
     },
     "execution_count": 90,
     "metadata": {},
     "output_type": "execute_result"
    }
   ],
   "source": [
    "df_test.shape"
   ]
  },
  {
   "cell_type": "code",
   "execution_count": 91,
   "id": "a44a2837",
   "metadata": {},
   "outputs": [],
   "source": [
    "import re\n",
    "import string\n",
    "from nltk.corpus import stopwords\n",
    "from nltk.tokenize import word_tokenize\n",
    "from nltk.stem.porter import PorterStemmer\n",
    "from nltk.stem import WordNetLemmatizer"
   ]
  },
  {
   "cell_type": "code",
   "execution_count": 92,
   "id": "769bccf2",
   "metadata": {},
   "outputs": [],
   "source": [
    "def clean_data(text,\n",
    "               remove_punctuation=True,\n",
    "               lower_text=True,\n",
    "               remove_numbers=True,\n",
    "               remove_stopwords=False, \n",
    "               lemmatize=False):\n",
    "    \n",
    "    text = str(text)\n",
    "    \n",
    "    # replace emojis with text\n",
    "    #text = demoji.replace_with_desc(text, ' ')\n",
    "    \n",
    "    # keep only letters\n",
    "    if remove_punctuation:\n",
    "        text = re.sub(r'[^a-zA-Z]+', ' ', text)\n",
    "    \n",
    "    # remove punctuation\n",
    "    #if remove_punctuation:\n",
    "    #    for punctuation in string.punctuation:\n",
    "    #        text = text.replace(punctuation, ' ')\n",
    "    \n",
    "    # lower text\n",
    "    if lower_text:\n",
    "        text = text.lower()\n",
    "    \n",
    "    # remove numbers\n",
    "    if remove_numbers:\n",
    "        text = ''.join([w for w in text if not w.isdigit()])\n",
    "    \n",
    "    # remove stopwords\n",
    "    if remove_stopwords:\n",
    "        stop_words = set(stopwords.words('english'))\n",
    "        word_tokens = word_tokenize(text)\n",
    "        text = ' '.join([w for w in word_tokens if not w in stop_words])\n",
    "    \n",
    "    # lemmatize\n",
    "    if lemmatize:\n",
    "        lemmatizer = WordNetLemmatizer()\n",
    "        text = ''.join([lemmatizer.lemmatize(word) for word in text]) # no entiendo por qué no va un espacio\n",
    "    \n",
    "    text = text.strip()\n",
    "    \n",
    "    return text\n",
    "\n",
    "\n",
    "def clean_df(df, \n",
    "            remove_punctuation=True,\n",
    "            lower_text=True,\n",
    "            remove_numbers=True,\n",
    "            remove_stopwords=False, \n",
    "            lemmatize=False):\n",
    "    \n",
    "    df = df.copy()\n",
    "    \n",
    "    df = df.drop_duplicates()\n",
    "    \n",
    "    df['text'] = df['text'].apply(lambda text: clean_data(text,\n",
    "                                                          remove_punctuation,\n",
    "                                                          lower_text,\n",
    "                                                          remove_numbers,\n",
    "                                                          remove_stopwords,\n",
    "                                                          lemmatize))\n",
    "    \n",
    "    df = df.drop_duplicates()\n",
    "    \n",
    "    df = df.replace(['', ' '], np.nan)\n",
    "    df = df.dropna().reset_index(drop=True)\n",
    "    \n",
    "    return df"
   ]
  },
  {
   "cell_type": "code",
   "execution_count": 93,
   "id": "7b98af06",
   "metadata": {},
   "outputs": [
    {
     "name": "stdout",
     "output_type": "stream",
     "text": [
      "CPU times: user 2 µs, sys: 0 ns, total: 2 µs\n",
      "Wall time: 3.81 µs\n"
     ]
    }
   ],
   "source": [
    "%%time\n",
    "#df_test = clean_df(df_test, remove_punctuation=True, lower_text=True, remove_numbers=True, remove_stopwords=True, lemmatize=True)\n",
    "#df_test.head()"
   ]
  },
  {
   "cell_type": "code",
   "execution_count": 94,
   "id": "a0734845",
   "metadata": {},
   "outputs": [],
   "source": [
    "#df_test = df_test[df_test['text'].map(lambda text: len(text.split())) < 1000]"
   ]
  },
  {
   "cell_type": "code",
   "execution_count": 95,
   "id": "6f22ed11",
   "metadata": {},
   "outputs": [],
   "source": [
    "#df_test['text'] = df_test['text'].map(simple_spam)"
   ]
  },
  {
   "cell_type": "code",
   "execution_count": 96,
   "id": "fd0ebf83",
   "metadata": {},
   "outputs": [],
   "source": [
    "#df_test['text'] = df_test['text'].map(double_spam)"
   ]
  },
  {
   "cell_type": "code",
   "execution_count": null,
   "id": "d1003012",
   "metadata": {},
   "outputs": [],
   "source": []
  },
  {
   "cell_type": "code",
   "execution_count": 97,
   "id": "7bb3a4df",
   "metadata": {},
   "outputs": [],
   "source": [
    "#df_test.shape"
   ]
  },
  {
   "cell_type": "code",
   "execution_count": 98,
   "id": "8e571840",
   "metadata": {},
   "outputs": [],
   "source": [
    "#X_test_2 = df_test[['text']]\n",
    "#y_test_2 = df_test['target']"
   ]
  },
  {
   "cell_type": "code",
   "execution_count": 99,
   "id": "1474d92a",
   "metadata": {},
   "outputs": [],
   "source": [
    "#y_pred_2 = pipe.predict(X_test_2)"
   ]
  },
  {
   "cell_type": "code",
   "execution_count": 100,
   "id": "2feaf196",
   "metadata": {},
   "outputs": [],
   "source": [
    "#y_pred_2"
   ]
  },
  {
   "cell_type": "code",
   "execution_count": 101,
   "id": "79371394",
   "metadata": {},
   "outputs": [],
   "source": [
    "#conf_mx_all(y_test_2, y_pred_2)"
   ]
  },
  {
   "cell_type": "code",
   "execution_count": 102,
   "id": "139545f8",
   "metadata": {},
   "outputs": [],
   "source": [
    "#new_df_2 = pd.DataFrame({'text': X_test_2['text'], 'test': y_test_2, 'pred': y_pred_2})\n",
    "#new_df_2[(new_df_2['test'] + new_df_2['pred'])==1]"
   ]
  },
  {
   "cell_type": "code",
   "execution_count": null,
   "id": "40d5e239",
   "metadata": {},
   "outputs": [],
   "source": []
  },
  {
   "cell_type": "code",
   "execution_count": null,
   "id": "db6c9ca1",
   "metadata": {},
   "outputs": [],
   "source": []
  },
  {
   "cell_type": "markdown",
   "id": "08c849b7",
   "metadata": {},
   "source": [
    "# FIN DEL MODELO "
   ]
  },
  {
   "cell_type": "code",
   "execution_count": null,
   "id": "911f56ba",
   "metadata": {},
   "outputs": [],
   "source": []
  },
  {
   "cell_type": "code",
   "execution_count": null,
   "id": "1cd3be2f",
   "metadata": {},
   "outputs": [],
   "source": []
  },
  {
   "cell_type": "code",
   "execution_count": null,
   "id": "1f729ec0",
   "metadata": {},
   "outputs": [],
   "source": []
  },
  {
   "cell_type": "code",
   "execution_count": null,
   "id": "55b67c0e",
   "metadata": {},
   "outputs": [],
   "source": []
  },
  {
   "cell_type": "code",
   "execution_count": null,
   "id": "273fd8bf",
   "metadata": {},
   "outputs": [],
   "source": []
  },
  {
   "cell_type": "code",
   "execution_count": null,
   "id": "9840e796",
   "metadata": {},
   "outputs": [],
   "source": []
  },
  {
   "cell_type": "code",
   "execution_count": 103,
   "id": "30f7f3f3",
   "metadata": {},
   "outputs": [],
   "source": [
    "def best_threshold(thresholds_list,model,x_test,y_test, y_pred):\n",
    "    recalls=[]\n",
    "    accuracies=[]\n",
    "    precisions=[]\n",
    "    F1_scores=[]\n",
    "    for threshold in thresholds:\n",
    "        y_pred=threshold_modifier(model,x_test,threshold)\n",
    "        cm = confusion_matrix(y_test, y_pred)\n",
    "        recall, precision, accuracy,F1_score=conf_mx_all(y_test, y_pred)\n",
    "        recalls.append(recall)\n",
    "        accuracies.append(accuracy)\n",
    "        precisions.append(precision)\n",
    "        F1_scores.append(F1_score)     \n",
    "\n",
    "    metrics={'thresholds': thresholds,'recall':recalls, 'accuracy': accuracies, 'precision':precisions,'F1_score':F1_scores}\n",
    "    return metrics"
   ]
  },
  {
   "cell_type": "code",
   "execution_count": 104,
   "id": "9e048841",
   "metadata": {},
   "outputs": [],
   "source": [
    "def threshold_modifier(model,xtest,threshold):\n",
    "    ypred=model._predict_proba_lr(xtest)[:,1]>threshold\n",
    "    ypred=ypred.astype(int)\n",
    "    return ypred"
   ]
  },
  {
   "cell_type": "code",
   "execution_count": 105,
   "id": "4c9b184e",
   "metadata": {},
   "outputs": [
    {
     "ename": "NotFittedError",
     "evalue": "This LinearSVC instance is not fitted yet. Call 'fit' with appropriate arguments before using this estimator.",
     "output_type": "error",
     "traceback": [
      "\u001b[0;31m---------------------------------------------------------------------------\u001b[0m",
      "\u001b[0;31mNotFittedError\u001b[0m                            Traceback (most recent call last)",
      "\u001b[0;32m/tmp/ipykernel_6169/2053190045.py\u001b[0m in \u001b[0;36m<module>\u001b[0;34m\u001b[0m\n\u001b[0;32m----> 1\u001b[0;31m \u001b[0mmodel\u001b[0m\u001b[0;34m.\u001b[0m\u001b[0m_predict_proba_lr\u001b[0m\u001b[0;34m(\u001b[0m\u001b[0mX_test_vec\u001b[0m\u001b[0;34m)\u001b[0m\u001b[0;34m\u001b[0m\u001b[0;34m\u001b[0m\u001b[0m\n\u001b[0m",
      "\u001b[0;32m~/.pyenv/versions/3.8.12/envs/lewagon/lib/python3.8/site-packages/sklearn/linear_model/_base.py\u001b[0m in \u001b[0;36m_predict_proba_lr\u001b[0;34m(self, X)\u001b[0m\n\u001b[1;32m    437\u001b[0m         \u001b[0mmulticlass\u001b[0m \u001b[0;32mis\u001b[0m \u001b[0mhandled\u001b[0m \u001b[0mby\u001b[0m \u001b[0mnormalizing\u001b[0m \u001b[0mthat\u001b[0m \u001b[0mover\u001b[0m \u001b[0mall\u001b[0m \u001b[0mclasses\u001b[0m\u001b[0;34m.\u001b[0m\u001b[0;34m\u001b[0m\u001b[0;34m\u001b[0m\u001b[0m\n\u001b[1;32m    438\u001b[0m         \"\"\"\n\u001b[0;32m--> 439\u001b[0;31m         \u001b[0mprob\u001b[0m \u001b[0;34m=\u001b[0m \u001b[0mself\u001b[0m\u001b[0;34m.\u001b[0m\u001b[0mdecision_function\u001b[0m\u001b[0;34m(\u001b[0m\u001b[0mX\u001b[0m\u001b[0;34m)\u001b[0m\u001b[0;34m\u001b[0m\u001b[0;34m\u001b[0m\u001b[0m\n\u001b[0m\u001b[1;32m    440\u001b[0m         \u001b[0mexpit\u001b[0m\u001b[0;34m(\u001b[0m\u001b[0mprob\u001b[0m\u001b[0;34m,\u001b[0m \u001b[0mout\u001b[0m\u001b[0;34m=\u001b[0m\u001b[0mprob\u001b[0m\u001b[0;34m)\u001b[0m\u001b[0;34m\u001b[0m\u001b[0;34m\u001b[0m\u001b[0m\n\u001b[1;32m    441\u001b[0m         \u001b[0;32mif\u001b[0m \u001b[0mprob\u001b[0m\u001b[0;34m.\u001b[0m\u001b[0mndim\u001b[0m \u001b[0;34m==\u001b[0m \u001b[0;36m1\u001b[0m\u001b[0;34m:\u001b[0m\u001b[0;34m\u001b[0m\u001b[0;34m\u001b[0m\u001b[0m\n",
      "\u001b[0;32m~/.pyenv/versions/3.8.12/envs/lewagon/lib/python3.8/site-packages/sklearn/linear_model/_base.py\u001b[0m in \u001b[0;36mdecision_function\u001b[0;34m(self, X)\u001b[0m\n\u001b[1;32m    403\u001b[0m             \u001b[0mthis\u001b[0m \u001b[0;32mclass\u001b[0m \u001b[0mwould\u001b[0m \u001b[0mbe\u001b[0m \u001b[0mpredicted\u001b[0m\u001b[0;34m.\u001b[0m\u001b[0;34m\u001b[0m\u001b[0;34m\u001b[0m\u001b[0m\n\u001b[1;32m    404\u001b[0m         \"\"\"\n\u001b[0;32m--> 405\u001b[0;31m         \u001b[0mcheck_is_fitted\u001b[0m\u001b[0;34m(\u001b[0m\u001b[0mself\u001b[0m\u001b[0;34m)\u001b[0m\u001b[0;34m\u001b[0m\u001b[0;34m\u001b[0m\u001b[0m\n\u001b[0m\u001b[1;32m    406\u001b[0m \u001b[0;34m\u001b[0m\u001b[0m\n\u001b[1;32m    407\u001b[0m         \u001b[0mX\u001b[0m \u001b[0;34m=\u001b[0m \u001b[0mself\u001b[0m\u001b[0;34m.\u001b[0m\u001b[0m_validate_data\u001b[0m\u001b[0;34m(\u001b[0m\u001b[0mX\u001b[0m\u001b[0;34m,\u001b[0m \u001b[0maccept_sparse\u001b[0m\u001b[0;34m=\u001b[0m\u001b[0;34m\"csr\"\u001b[0m\u001b[0;34m,\u001b[0m \u001b[0mreset\u001b[0m\u001b[0;34m=\u001b[0m\u001b[0;32mFalse\u001b[0m\u001b[0;34m)\u001b[0m\u001b[0;34m\u001b[0m\u001b[0;34m\u001b[0m\u001b[0m\n",
      "\u001b[0;32m~/.pyenv/versions/3.8.12/envs/lewagon/lib/python3.8/site-packages/sklearn/utils/validation.py\u001b[0m in \u001b[0;36mcheck_is_fitted\u001b[0;34m(estimator, attributes, msg, all_or_any)\u001b[0m\n\u001b[1;32m   1220\u001b[0m \u001b[0;34m\u001b[0m\u001b[0m\n\u001b[1;32m   1221\u001b[0m     \u001b[0;32mif\u001b[0m \u001b[0;32mnot\u001b[0m \u001b[0mfitted\u001b[0m\u001b[0;34m:\u001b[0m\u001b[0;34m\u001b[0m\u001b[0;34m\u001b[0m\u001b[0m\n\u001b[0;32m-> 1222\u001b[0;31m         \u001b[0;32mraise\u001b[0m \u001b[0mNotFittedError\u001b[0m\u001b[0;34m(\u001b[0m\u001b[0mmsg\u001b[0m \u001b[0;34m%\u001b[0m \u001b[0;34m{\u001b[0m\u001b[0;34m\"name\"\u001b[0m\u001b[0;34m:\u001b[0m \u001b[0mtype\u001b[0m\u001b[0;34m(\u001b[0m\u001b[0mestimator\u001b[0m\u001b[0;34m)\u001b[0m\u001b[0;34m.\u001b[0m\u001b[0m__name__\u001b[0m\u001b[0;34m}\u001b[0m\u001b[0;34m)\u001b[0m\u001b[0;34m\u001b[0m\u001b[0;34m\u001b[0m\u001b[0m\n\u001b[0m\u001b[1;32m   1223\u001b[0m \u001b[0;34m\u001b[0m\u001b[0m\n\u001b[1;32m   1224\u001b[0m \u001b[0;34m\u001b[0m\u001b[0m\n",
      "\u001b[0;31mNotFittedError\u001b[0m: This LinearSVC instance is not fitted yet. Call 'fit' with appropriate arguments before using this estimator."
     ]
    }
   ],
   "source": [
    "model._predict_proba_lr(X_test_vec)"
   ]
  },
  {
   "cell_type": "code",
   "execution_count": null,
   "id": "2118faea",
   "metadata": {},
   "outputs": [],
   "source": [
    "thresholds= np.arange(0.1, 0.9, 0.05)\n",
    "thres = best_threshold(thresholds, model, X_test_vec, y_test, y_pred)"
   ]
  },
  {
   "cell_type": "code",
   "execution_count": null,
   "id": "809aea36",
   "metadata": {},
   "outputs": [],
   "source": [
    "plt.figure(figsize=(12,6))\n",
    "plt.plot(thresholds, thres['recall'], label='recall')\n",
    "plt.plot(thresholds, thres['accuracy'], label='accuracy')\n",
    "plt.plot(thresholds, thres['precision'], label='precision')\n",
    "plt.plot(thresholds, thres['F1_score'], label='F1_score')\n",
    "plt.grid(alpha=0.3)\n",
    "plt.legend();"
   ]
  },
  {
   "cell_type": "code",
   "execution_count": null,
   "id": "e1187e23",
   "metadata": {},
   "outputs": [],
   "source": []
  },
  {
   "cell_type": "code",
   "execution_count": null,
   "id": "3082e1e7",
   "metadata": {},
   "outputs": [],
   "source": []
  },
  {
   "cell_type": "code",
   "execution_count": null,
   "id": "a9299982",
   "metadata": {},
   "outputs": [],
   "source": []
  },
  {
   "cell_type": "code",
   "execution_count": null,
   "id": "2adf97ff",
   "metadata": {},
   "outputs": [],
   "source": [
    "X_train_vec"
   ]
  },
  {
   "cell_type": "code",
   "execution_count": null,
   "id": "215ea616",
   "metadata": {},
   "outputs": [],
   "source": [
    "tune_threshold(C=1)"
   ]
  },
  {
   "cell_type": "code",
   "execution_count": null,
   "id": "e491a808",
   "metadata": {},
   "outputs": [],
   "source": [
    "%%time\n",
    "cv_results = cross_validate(LinearSVC(class_weight={0:.1, 1:.9}), X_train_vec, y_train, cv=5, n_jobs=-1,\n",
    "                            scoring=['accuracy', 'precision', 'recall', 'f1'])"
   ]
  },
  {
   "cell_type": "code",
   "execution_count": null,
   "id": "e7dcf37e",
   "metadata": {},
   "outputs": [],
   "source": []
  },
  {
   "cell_type": "code",
   "execution_count": null,
   "id": "cf1d639f",
   "metadata": {},
   "outputs": [],
   "source": [
    "scores(cv_results)"
   ]
  },
  {
   "cell_type": "code",
   "execution_count": null,
   "id": "d7ed3d1c",
   "metadata": {},
   "outputs": [],
   "source": []
  },
  {
   "cell_type": "code",
   "execution_count": null,
   "id": "dcde8fab",
   "metadata": {},
   "outputs": [],
   "source": [
    "2=1"
   ]
  },
  {
   "cell_type": "code",
   "execution_count": null,
   "id": "5da06764",
   "metadata": {},
   "outputs": [],
   "source": [
    "# store the best metric scores\n",
    "best_acc = results[results['Accuracy: Test'] == results['Accuracy: Test'].max()]\n",
    "best_f1 = results[results['F1 Score: Test'] == results['F1 Score: Test'].max()]\n",
    "best_precision = results[results['Precision: Test'] == results['Precision: Test'].max()]\n",
    "best_recall = results[results['Recall: Test'] == results['Recall: Test'].max()]"
   ]
  },
  {
   "cell_type": "code",
   "execution_count": null,
   "id": "cffafe5f",
   "metadata": {},
   "outputs": [],
   "source": [
    "sns.set_style('darkgrid')\n",
    "plt.figure(figsize = (17, 7))\n",
    "\n",
    "barWidth = 0.17\n",
    " \n",
    "# set height of bar\n",
    "bars1 = results['Accuracy: Test']\n",
    "bars2 = results['F1 Score: Test']\n",
    "bars3 = results['Precision: Test']\n",
    "bars4 = results['Recall: Test']\n",
    "\n",
    " \n",
    "# Set position of bar on X axis\n",
    "r1 = np.arange(len(bars1))\n",
    "r2 = [x + barWidth for x in r1]\n",
    "r3 = [x + barWidth for x in r2]\n",
    "r4 = [x + barWidth for x in r3]\n",
    "\n",
    " \n",
    "# Make the plot\n",
    "pal = sns.color_palette()\n",
    "plt.bar(r1, bars1, color= pal[0], width=barWidth, edgecolor='white', label='Test Accuracy')\n",
    "plt.bar(r2, bars2, color= pal[1], width=barWidth, edgecolor='white', label='F1 Score')\n",
    "plt.bar(r3, bars3, color= pal[2], width=barWidth, edgecolor='white', label='Precision')\n",
    "plt.bar(r4, bars4, color= pal[4], width=barWidth, edgecolor='white', label='Recall')\n",
    "\n",
    " \n",
    "# Add xticks on the middle of the group bars\n",
    "plt.xlabel('Algorithm', fontweight='bold', fontsize = 13)\n",
    "plt.ylabel('Score', fontweight = 'bold', fontsize = 13)\n",
    "plt.xticks([r + barWidth for r in range(len(bars1))], results['Algorithm'], rotation = 15, fontsize = 11)\n",
    " \n",
    "# Create legend & Show graphic\n",
    "plt.legend(fontsize = 13)\n",
    "\n",
    "textstr = '\\n'.join(['Best Accuracy: {:.3f} - {}'.format(best_acc['Accuracy: Test'].values[0], best_acc['Algorithm'].values[0]), \n",
    "                     'Best F1 Score: {:.3f} - {}'.format(best_f1['F1 Score: Test'].values[0], best_f1['Algorithm'].values[0]),\n",
    "                   'Best Precision: {:.3f} - {}'.format(best_precision['Precision: Test'].values[0], best_precision['Algorithm'].values[0]), \n",
    "                    'Best Recall: {:.3f} - {}'.format(best_recall['Recall: Test'].values[0], best_recall['Algorithm'].values[0])])\n",
    "props = dict(boxstyle='round', facecolor='lightgrey', alpha=0.5)\n",
    "\n",
    "#place a text box\n",
    "#plt.text(9.2, 1, textstr, fontsize=14,\n",
    "#        verticalalignment='top', bbox=props)\n",
    "\n",
    "plt.title('Classification Summary of Algorithms', fontweight = 'bold', fontsize = 17);"
   ]
  },
  {
   "cell_type": "code",
   "execution_count": null,
   "id": "9c178afc",
   "metadata": {},
   "outputs": [],
   "source": [
    "# store the best/worst performance time\n",
    "best_train_time = results[results['Training Time'] == results['Training Time'].min()]\n",
    "worst_train_time = results[results['Training Time'] == results['Training Time'].max()]\n",
    "best_prediction_time = results[results['Prediction Time'] == results['Prediction Time'].min()]\n",
    "worst_prediction_time = results[results['Prediction Time'] == results['Prediction Time'].max()]"
   ]
  },
  {
   "cell_type": "code",
   "execution_count": null,
   "id": "f93abd28",
   "metadata": {},
   "outputs": [],
   "source": [
    "plt.figure(figsize = (12, 7))\n",
    "\n",
    "barWidth = 0.17\n",
    " \n",
    "# set height of bar\n",
    "bars1 = results['Training Time']\n",
    "bars2 = results['Prediction Time']\n",
    " \n",
    "# Set position of bar on X axis\n",
    "r1 = np.arange(len(bars1))\n",
    "r2 = [x + barWidth for x in r1]\n",
    " \n",
    "# Make the plot\n",
    "plt.bar(r1, bars1, color= pal[0], width=barWidth, edgecolor='white', label='Training Time')\n",
    "plt.bar(r2, bars2, color= pal[1], width=barWidth, edgecolor='white', label='Prediction Time')\n",
    " \n",
    "# Add xticks on the middle of the group bars\n",
    "plt.xlabel('Algorithm', fontweight='bold', fontsize = 13)\n",
    "plt.ylabel('Time (seconds)', fontweight = 'bold', fontsize = 13)\n",
    "plt.xticks([r + barWidth for r in range(len(bars1))], results['Algorithm'], rotation = 15, fontsize = 11)\n",
    " \n",
    "# Create legend & Show graphic\n",
    "plt.legend(fontsize = 13)\n",
    "\n",
    "textstr = '\\n'.join(('Best Training Time: {:.3f} - {}'.format(best_train_time['Training Time'].values[0], best_train_time['Algorithm'].values[0]), \n",
    "                     'Worst Training Time: {:.3f} - {}'.format(worst_train_time['Training Time'].values[0], worst_train_time['Algorithm'].values[0]),\n",
    "                   'Best Prediction Time: {:.3f} - {}'.format(best_prediction_time['Training Time'].values[0], best_prediction_time['Algorithm'].values[0]), \n",
    "                    'Worst Prediction Time: {:.3f} - {}'.format(worst_prediction_time['Training Time'].values[0], worst_prediction_time['Algorithm'].values[0])))\n",
    "\n",
    "props = dict(boxstyle='round', facecolor='lightgrey', alpha=0.5)\n",
    "\n",
    "#place a text box\n",
    "#plt.text(9, 36, textstr, fontsize=14,  bbox=props)\n",
    "\n",
    "plt.title('Time Complexity of Algorithms', fontweight = 'bold', fontsize = 17);"
   ]
  },
  {
   "cell_type": "markdown",
   "id": "ca4e17d0",
   "metadata": {},
   "source": [
    "## Tunning Hyperparameters"
   ]
  },
  {
   "cell_type": "code",
   "execution_count": null,
   "id": "f9f9df4e",
   "metadata": {},
   "outputs": [],
   "source": [
    "def param_tuning(clf, param_dict, X_train, y_train, X_test, y_test):\n",
    "    \n",
    "    # make scorer object\n",
    "    scorer = make_scorer(f1_score)\n",
    "\n",
    "    # perform Grid Search for Parameters\n",
    "    grid_obj = GridSearchCV(estimator = clf,\n",
    "                           param_grid = param_dict,\n",
    "                           scoring = scorer,\n",
    "                           cv = 5)\n",
    "\n",
    "    grid_fit = grid_obj.fit(X_train, y_train)\n",
    "\n",
    "    # Get the estimator\n",
    "    best_clf = grid_fit.best_estimator_\n",
    "\n",
    "    # Make predictions using the unoptimized and model\n",
    "    predictions = (clf.fit(X_train, y_train)).predict(X_test)\n",
    "    best_predictions = best_clf.predict(X_test)\n",
    "    \n",
    "    # Report the before-and-afterscores\n",
    "    print(clf.__class__.__name__)\n",
    "    print(\"\\nOptimized Model\\n------\")\n",
    "    print(f\"Best Parameters: {grid_fit.best_params_}\")\n",
    "    print(f\"Accuracy: {accuracy_score(y_test, best_predictions):.4f}\")\n",
    "    print(f\"F1-score: {f1_score(y_test, best_predictions):.4f}\")\n",
    "    print(f\"Precision: {precision_score(y_test, best_predictions):.4f}\")\n",
    "    print(f\"Recall: {recall_score(y_test, best_predictions):.4f}\")\n",
    "    \n",
    "    return best_clf"
   ]
  },
  {
   "cell_type": "code",
   "execution_count": null,
   "id": "f1063bd5",
   "metadata": {},
   "outputs": [],
   "source": [
    "%%time\n",
    "# Linear SVC\n",
    "param_grid = {\n",
    "    'C': [0.25, 0.5, 0.75, 1]\n",
    "}\n",
    "\n",
    "clf_linsvc = LinearSVC(max_iter=10000, dual=True)\n",
    "\n",
    "best_clf_linsvc = param_tuning(clf_linsvc, param_grid, training_data, y_train, testing_data, y_test)"
   ]
  },
  {
   "cell_type": "code",
   "execution_count": null,
   "id": "dbc6a63b",
   "metadata": {},
   "outputs": [],
   "source": [
    "X_train_vec"
   ]
  },
  {
   "cell_type": "code",
   "execution_count": null,
   "id": "2d20bc36",
   "metadata": {},
   "outputs": [],
   "source": []
  },
  {
   "cell_type": "code",
   "execution_count": null,
   "id": "deab9fe3",
   "metadata": {},
   "outputs": [],
   "source": [
    "results_tunned = {'Model':[], 'Best Parameters':[], 'Accuracy':[], 'F1-score':[], 'Precision':[], 'Recall':[]}\n",
    "\n",
    "for model in [best_clf_sgd, best_clf_linsvc]:\n",
    "    best_predictions = model.predict(X_test_vec)\n",
    "    results_tunned['Model'].append(model.__class__.__name__)\n",
    "    results_tunned[\"Best Parameters\"].append(model.get_params())\n",
    "    results_tunned[\"Accuracy\"].append(accuracy_score(y_test, best_predictions))\n",
    "    results_tunned[\"F1-score\"].append(f1_score(y_test, best_predictions))\n",
    "    results_tunned[\"Precision\"].append(precision_score(y_test, best_predictions))\n",
    "    results_tunned[\"Recall\"].append(recall_score(y_test, best_predictions))\n",
    "\n",
    "#results_tunned\n",
    "results_tunned = pd.DataFrame(results_tunned).sort_values(by = 'F1-score', ascending = False)\n",
    "results_tunned"
   ]
  },
  {
   "cell_type": "code",
   "execution_count": null,
   "id": "c0fed721",
   "metadata": {},
   "outputs": [],
   "source": []
  },
  {
   "cell_type": "code",
   "execution_count": null,
   "id": "25f07c2f",
   "metadata": {},
   "outputs": [],
   "source": []
  }
 ],
 "metadata": {
  "kernelspec": {
   "display_name": "Python 3 (ipykernel)",
   "language": "python",
   "name": "python3"
  },
  "language_info": {
   "codemirror_mode": {
    "name": "ipython",
    "version": 3
   },
   "file_extension": ".py",
   "mimetype": "text/x-python",
   "name": "python",
   "nbconvert_exporter": "python",
   "pygments_lexer": "ipython3",
   "version": "3.8.12"
  },
  "toc": {
   "base_numbering": 1,
   "nav_menu": {},
   "number_sections": true,
   "sideBar": true,
   "skip_h1_title": false,
   "title_cell": "Table of Contents",
   "title_sidebar": "Contents",
   "toc_cell": false,
   "toc_position": {},
   "toc_section_display": true,
   "toc_window_display": false
  }
 },
 "nbformat": 4,
 "nbformat_minor": 5
}
