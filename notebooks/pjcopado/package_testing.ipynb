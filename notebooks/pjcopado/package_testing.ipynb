{
 "cells": [
  {
   "cell_type": "code",
   "execution_count": 1,
   "id": "0143b7fe",
   "metadata": {},
   "outputs": [],
   "source": [
    "%load_ext autoreload\n",
    "%autoreload 2"
   ]
  },
  {
   "cell_type": "code",
   "execution_count": 2,
   "id": "4a9095ee",
   "metadata": {},
   "outputs": [],
   "source": [
    "from cyberbullying.data import Data\n",
    "from cyberbullying.models import MLModel\n",
    "from cyberbullying.utils import conf_mx_all"
   ]
  },
  {
   "cell_type": "code",
   "execution_count": 3,
   "id": "05033264",
   "metadata": {},
   "outputs": [],
   "source": [
    "from sklearn.model_selection import train_test_split\n",
    "import numpy as np\n",
    "import pandas as pd"
   ]
  },
  {
   "cell_type": "code",
   "execution_count": 4,
   "id": "f0065034",
   "metadata": {},
   "outputs": [],
   "source": [
    "import joblib"
   ]
  },
  {
   "cell_type": "code",
   "execution_count": 5,
   "id": "9a1314e5",
   "metadata": {},
   "outputs": [],
   "source": [
    "from sklearn import set_config\n",
    "set_config(display='diagram')"
   ]
  },
  {
   "cell_type": "code",
   "execution_count": 6,
   "id": "859f1bc8",
   "metadata": {},
   "outputs": [
    {
     "name": "stdout",
     "output_type": "stream",
     "text": [
      "dict_keys(['toxicity', 'aggression', 'twitter', 'twitter_racism', 'twitter_sexism', 'youtube', 'kaggle'])\n",
      "['toxicity', 'aggression', 'twitter', 'twitter_racism', 'twitter_sexism', 'youtube', 'kaggle']\n"
     ]
    }
   ],
   "source": [
    "data = Data().get_data(datasets='all')"
   ]
  },
  {
   "cell_type": "code",
   "execution_count": 9,
   "id": "e51bda44",
   "metadata": {},
   "outputs": [
    {
     "data": {
      "text/html": [
       "<div>\n",
       "<style scoped>\n",
       "    .dataframe tbody tr th:only-of-type {\n",
       "        vertical-align: middle;\n",
       "    }\n",
       "\n",
       "    .dataframe tbody tr th {\n",
       "        vertical-align: top;\n",
       "    }\n",
       "\n",
       "    .dataframe thead th {\n",
       "        text-align: right;\n",
       "    }\n",
       "</style>\n",
       "<table border=\"1\" class=\"dataframe\">\n",
       "  <thead>\n",
       "    <tr style=\"text-align: right;\">\n",
       "      <th></th>\n",
       "      <th>text</th>\n",
       "      <th>target</th>\n",
       "    </tr>\n",
       "  </thead>\n",
       "  <tbody>\n",
       "    <tr>\n",
       "      <th>0</th>\n",
       "      <td>This: :One can make an analogy in mathematical...</td>\n",
       "      <td>0.0</td>\n",
       "    </tr>\n",
       "    <tr>\n",
       "      <th>1</th>\n",
       "      <td>`  :Clarification for you  (and Zundark's righ...</td>\n",
       "      <td>0.0</td>\n",
       "    </tr>\n",
       "    <tr>\n",
       "      <th>2</th>\n",
       "      <td>Elected or Electoral? JHK</td>\n",
       "      <td>0.0</td>\n",
       "    </tr>\n",
       "    <tr>\n",
       "      <th>3</th>\n",
       "      <td>`This is such a fun entry.   Devotchka  I once...</td>\n",
       "      <td>0.0</td>\n",
       "    </tr>\n",
       "    <tr>\n",
       "      <th>4</th>\n",
       "      <td>Please relate the ozone hole to increases in c...</td>\n",
       "      <td>0.0</td>\n",
       "    </tr>\n",
       "    <tr>\n",
       "      <th>...</th>\n",
       "      <td>...</td>\n",
       "      <td>...</td>\n",
       "    </tr>\n",
       "    <tr>\n",
       "      <th>230944</th>\n",
       "      <td>\"Never really gave it much thought. I just fig...</td>\n",
       "      <td>0.0</td>\n",
       "    </tr>\n",
       "    <tr>\n",
       "      <th>230945</th>\n",
       "      <td>\"Nadie se salva de la regla 34 xd\"</td>\n",
       "      <td>0.0</td>\n",
       "    </tr>\n",
       "    <tr>\n",
       "      <th>230946</th>\n",
       "      <td>\"Question: Are you a boy or a girl?\"</td>\n",
       "      <td>0.0</td>\n",
       "    </tr>\n",
       "    <tr>\n",
       "      <th>230947</th>\n",
       "      <td>\"Leave your email or phone number and maybe yo...</td>\n",
       "      <td>1.0</td>\n",
       "    </tr>\n",
       "    <tr>\n",
       "      <th>230948</th>\n",
       "      <td>\"From the scenarios you present, I see you bel...</td>\n",
       "      <td>0.0</td>\n",
       "    </tr>\n",
       "  </tbody>\n",
       "</table>\n",
       "<p>230949 rows × 2 columns</p>\n",
       "</div>"
      ],
      "text/plain": [
       "                                                     text  target\n",
       "0       This: :One can make an analogy in mathematical...     0.0\n",
       "1       `  :Clarification for you  (and Zundark's righ...     0.0\n",
       "2                               Elected or Electoral? JHK     0.0\n",
       "3       `This is such a fun entry.   Devotchka  I once...     0.0\n",
       "4       Please relate the ozone hole to increases in c...     0.0\n",
       "...                                                   ...     ...\n",
       "230944  \"Never really gave it much thought. I just fig...     0.0\n",
       "230945                 \"Nadie se salva de la regla 34 xd\"     0.0\n",
       "230946               \"Question: Are you a boy or a girl?\"     0.0\n",
       "230947  \"Leave your email or phone number and maybe yo...     1.0\n",
       "230948  \"From the scenarios you present, I see you bel...     0.0\n",
       "\n",
       "[230949 rows x 2 columns]"
      ]
     },
     "execution_count": 9,
     "metadata": {},
     "output_type": "execute_result"
    }
   ],
   "source": [
    "data"
   ]
  },
  {
   "cell_type": "code",
   "execution_count": 10,
   "id": "622b57bf",
   "metadata": {},
   "outputs": [],
   "source": [
    "percentage_used = 1\n",
    "data = data.sample(frac=percentage_used, random_state=0)"
   ]
  },
  {
   "cell_type": "code",
   "execution_count": 11,
   "id": "f4e7875e",
   "metadata": {},
   "outputs": [],
   "source": [
    "X_train, X_test, y_train, y_test = train_test_split(data[['text']], data['target'], test_size=0.3, random_state=0)"
   ]
  },
  {
   "cell_type": "code",
   "execution_count": 12,
   "id": "d0819327",
   "metadata": {},
   "outputs": [
    {
     "data": {
      "text/html": [
       "<div>\n",
       "<style scoped>\n",
       "    .dataframe tbody tr th:only-of-type {\n",
       "        vertical-align: middle;\n",
       "    }\n",
       "\n",
       "    .dataframe tbody tr th {\n",
       "        vertical-align: top;\n",
       "    }\n",
       "\n",
       "    .dataframe thead th {\n",
       "        text-align: right;\n",
       "    }\n",
       "</style>\n",
       "<table border=\"1\" class=\"dataframe\">\n",
       "  <thead>\n",
       "    <tr style=\"text-align: right;\">\n",
       "      <th></th>\n",
       "      <th>text</th>\n",
       "    </tr>\n",
       "  </thead>\n",
       "  <tbody>\n",
       "    <tr>\n",
       "      <th>41325</th>\n",
       "      <td>:Could I please be unblocked?</td>\n",
       "    </tr>\n",
       "    <tr>\n",
       "      <th>63081</th>\n",
       "      <td>**** Carlo  you should not have given in to...</td>\n",
       "    </tr>\n",
       "    <tr>\n",
       "      <th>20725</th>\n",
       "      <td>` I have reverted a recent edit you made to th...</td>\n",
       "    </tr>\n",
       "    <tr>\n",
       "      <th>167785</th>\n",
       "      <td>*: I would be entirely in favor of someone m...</td>\n",
       "    </tr>\n",
       "    <tr>\n",
       "      <th>101388</th>\n",
       "      <td>`  == Reviewer granted ==   Hello. Your accoun...</td>\n",
       "    </tr>\n",
       "  </tbody>\n",
       "</table>\n",
       "</div>"
      ],
      "text/plain": [
       "                                                     text\n",
       "41325                       :Could I please be unblocked?\n",
       "63081      **** Carlo  you should not have given in to...\n",
       "20725   ` I have reverted a recent edit you made to th...\n",
       "167785    *: I would be entirely in favor of someone m...\n",
       "101388  `  == Reviewer granted ==   Hello. Your accoun..."
      ]
     },
     "execution_count": 12,
     "metadata": {},
     "output_type": "execute_result"
    }
   ],
   "source": [
    "X_train.head()"
   ]
  },
  {
   "cell_type": "code",
   "execution_count": 13,
   "id": "9e820629",
   "metadata": {},
   "outputs": [],
   "source": [
    "package_model = MLModel()"
   ]
  },
  {
   "cell_type": "code",
   "execution_count": 14,
   "id": "d4011cfb",
   "metadata": {},
   "outputs": [
    {
     "data": {
      "text/html": [
       "<style>#sk-1cf2c7a0-5f90-424b-9ca7-b8ad4bd45b4a {color: black;background-color: white;}#sk-1cf2c7a0-5f90-424b-9ca7-b8ad4bd45b4a pre{padding: 0;}#sk-1cf2c7a0-5f90-424b-9ca7-b8ad4bd45b4a div.sk-toggleable {background-color: white;}#sk-1cf2c7a0-5f90-424b-9ca7-b8ad4bd45b4a label.sk-toggleable__label {cursor: pointer;display: block;width: 100%;margin-bottom: 0;padding: 0.3em;box-sizing: border-box;text-align: center;}#sk-1cf2c7a0-5f90-424b-9ca7-b8ad4bd45b4a label.sk-toggleable__label-arrow:before {content: \"▸\";float: left;margin-right: 0.25em;color: #696969;}#sk-1cf2c7a0-5f90-424b-9ca7-b8ad4bd45b4a label.sk-toggleable__label-arrow:hover:before {color: black;}#sk-1cf2c7a0-5f90-424b-9ca7-b8ad4bd45b4a div.sk-estimator:hover label.sk-toggleable__label-arrow:before {color: black;}#sk-1cf2c7a0-5f90-424b-9ca7-b8ad4bd45b4a div.sk-toggleable__content {max-height: 0;max-width: 0;overflow: hidden;text-align: left;background-color: #f0f8ff;}#sk-1cf2c7a0-5f90-424b-9ca7-b8ad4bd45b4a div.sk-toggleable__content pre {margin: 0.2em;color: black;border-radius: 0.25em;background-color: #f0f8ff;}#sk-1cf2c7a0-5f90-424b-9ca7-b8ad4bd45b4a input.sk-toggleable__control:checked~div.sk-toggleable__content {max-height: 200px;max-width: 100%;overflow: auto;}#sk-1cf2c7a0-5f90-424b-9ca7-b8ad4bd45b4a input.sk-toggleable__control:checked~label.sk-toggleable__label-arrow:before {content: \"▾\";}#sk-1cf2c7a0-5f90-424b-9ca7-b8ad4bd45b4a div.sk-estimator input.sk-toggleable__control:checked~label.sk-toggleable__label {background-color: #d4ebff;}#sk-1cf2c7a0-5f90-424b-9ca7-b8ad4bd45b4a div.sk-label input.sk-toggleable__control:checked~label.sk-toggleable__label {background-color: #d4ebff;}#sk-1cf2c7a0-5f90-424b-9ca7-b8ad4bd45b4a input.sk-hidden--visually {border: 0;clip: rect(1px 1px 1px 1px);clip: rect(1px, 1px, 1px, 1px);height: 1px;margin: -1px;overflow: hidden;padding: 0;position: absolute;width: 1px;}#sk-1cf2c7a0-5f90-424b-9ca7-b8ad4bd45b4a div.sk-estimator {font-family: monospace;background-color: #f0f8ff;border: 1px dotted black;border-radius: 0.25em;box-sizing: border-box;margin-bottom: 0.5em;}#sk-1cf2c7a0-5f90-424b-9ca7-b8ad4bd45b4a div.sk-estimator:hover {background-color: #d4ebff;}#sk-1cf2c7a0-5f90-424b-9ca7-b8ad4bd45b4a div.sk-parallel-item::after {content: \"\";width: 100%;border-bottom: 1px solid gray;flex-grow: 1;}#sk-1cf2c7a0-5f90-424b-9ca7-b8ad4bd45b4a div.sk-label:hover label.sk-toggleable__label {background-color: #d4ebff;}#sk-1cf2c7a0-5f90-424b-9ca7-b8ad4bd45b4a div.sk-serial::before {content: \"\";position: absolute;border-left: 1px solid gray;box-sizing: border-box;top: 2em;bottom: 0;left: 50%;}#sk-1cf2c7a0-5f90-424b-9ca7-b8ad4bd45b4a div.sk-serial {display: flex;flex-direction: column;align-items: center;background-color: white;padding-right: 0.2em;padding-left: 0.2em;}#sk-1cf2c7a0-5f90-424b-9ca7-b8ad4bd45b4a div.sk-item {z-index: 1;}#sk-1cf2c7a0-5f90-424b-9ca7-b8ad4bd45b4a div.sk-parallel {display: flex;align-items: stretch;justify-content: center;background-color: white;}#sk-1cf2c7a0-5f90-424b-9ca7-b8ad4bd45b4a div.sk-parallel::before {content: \"\";position: absolute;border-left: 1px solid gray;box-sizing: border-box;top: 2em;bottom: 0;left: 50%;}#sk-1cf2c7a0-5f90-424b-9ca7-b8ad4bd45b4a div.sk-parallel-item {display: flex;flex-direction: column;position: relative;background-color: white;}#sk-1cf2c7a0-5f90-424b-9ca7-b8ad4bd45b4a div.sk-parallel-item:first-child::after {align-self: flex-end;width: 50%;}#sk-1cf2c7a0-5f90-424b-9ca7-b8ad4bd45b4a div.sk-parallel-item:last-child::after {align-self: flex-start;width: 50%;}#sk-1cf2c7a0-5f90-424b-9ca7-b8ad4bd45b4a div.sk-parallel-item:only-child::after {width: 0;}#sk-1cf2c7a0-5f90-424b-9ca7-b8ad4bd45b4a div.sk-dashed-wrapped {border: 1px dashed gray;margin: 0 0.4em 0.5em 0.4em;box-sizing: border-box;padding-bottom: 0.4em;background-color: white;position: relative;}#sk-1cf2c7a0-5f90-424b-9ca7-b8ad4bd45b4a div.sk-label label {font-family: monospace;font-weight: bold;background-color: white;display: inline-block;line-height: 1.2em;}#sk-1cf2c7a0-5f90-424b-9ca7-b8ad4bd45b4a div.sk-label-container {position: relative;z-index: 2;text-align: center;}#sk-1cf2c7a0-5f90-424b-9ca7-b8ad4bd45b4a div.sk-container {/* jupyter's `normalize.less` sets `[hidden] { display: none; }` but bootstrap.min.css set `[hidden] { display: none !important; }` so we also need the `!important` here to be able to override the default hidden behavior on the sphinx rendered scikit-learn.org. See: https://github.com/scikit-learn/scikit-learn/issues/21755 */display: inline-block !important;position: relative;}#sk-1cf2c7a0-5f90-424b-9ca7-b8ad4bd45b4a div.sk-text-repr-fallback {display: none;}</style><div id=\"sk-1cf2c7a0-5f90-424b-9ca7-b8ad4bd45b4a\" class=\"sk-top-container\"><div class=\"sk-text-repr-fallback\"><pre>TfidfVectorizer(min_df=3)</pre><b>Please rerun this cell to show the HTML repr or trust the notebook.</b></div><div class=\"sk-container\" hidden><div class=\"sk-item\"><div class=\"sk-estimator sk-toggleable\"><input class=\"sk-toggleable__control sk-hidden--visually\" id=\"9b4ec182-1b75-4fde-b89a-9fd7b2983736\" type=\"checkbox\" checked><label for=\"9b4ec182-1b75-4fde-b89a-9fd7b2983736\" class=\"sk-toggleable__label sk-toggleable__label-arrow\">TfidfVectorizer</label><div class=\"sk-toggleable__content\"><pre>TfidfVectorizer(min_df=3)</pre></div></div></div></div></div>"
      ],
      "text/plain": [
       "TfidfVectorizer(min_df=3)"
      ]
     },
     "execution_count": 14,
     "metadata": {},
     "output_type": "execute_result"
    }
   ],
   "source": [
    "package_model.vectorizer"
   ]
  },
  {
   "cell_type": "code",
   "execution_count": 15,
   "id": "18f2ed60",
   "metadata": {},
   "outputs": [
    {
     "data": {
      "text/html": [
       "<style>#sk-554c8b1f-1aea-4abb-81c6-1483985e6bf0 {color: black;background-color: white;}#sk-554c8b1f-1aea-4abb-81c6-1483985e6bf0 pre{padding: 0;}#sk-554c8b1f-1aea-4abb-81c6-1483985e6bf0 div.sk-toggleable {background-color: white;}#sk-554c8b1f-1aea-4abb-81c6-1483985e6bf0 label.sk-toggleable__label {cursor: pointer;display: block;width: 100%;margin-bottom: 0;padding: 0.3em;box-sizing: border-box;text-align: center;}#sk-554c8b1f-1aea-4abb-81c6-1483985e6bf0 label.sk-toggleable__label-arrow:before {content: \"▸\";float: left;margin-right: 0.25em;color: #696969;}#sk-554c8b1f-1aea-4abb-81c6-1483985e6bf0 label.sk-toggleable__label-arrow:hover:before {color: black;}#sk-554c8b1f-1aea-4abb-81c6-1483985e6bf0 div.sk-estimator:hover label.sk-toggleable__label-arrow:before {color: black;}#sk-554c8b1f-1aea-4abb-81c6-1483985e6bf0 div.sk-toggleable__content {max-height: 0;max-width: 0;overflow: hidden;text-align: left;background-color: #f0f8ff;}#sk-554c8b1f-1aea-4abb-81c6-1483985e6bf0 div.sk-toggleable__content pre {margin: 0.2em;color: black;border-radius: 0.25em;background-color: #f0f8ff;}#sk-554c8b1f-1aea-4abb-81c6-1483985e6bf0 input.sk-toggleable__control:checked~div.sk-toggleable__content {max-height: 200px;max-width: 100%;overflow: auto;}#sk-554c8b1f-1aea-4abb-81c6-1483985e6bf0 input.sk-toggleable__control:checked~label.sk-toggleable__label-arrow:before {content: \"▾\";}#sk-554c8b1f-1aea-4abb-81c6-1483985e6bf0 div.sk-estimator input.sk-toggleable__control:checked~label.sk-toggleable__label {background-color: #d4ebff;}#sk-554c8b1f-1aea-4abb-81c6-1483985e6bf0 div.sk-label input.sk-toggleable__control:checked~label.sk-toggleable__label {background-color: #d4ebff;}#sk-554c8b1f-1aea-4abb-81c6-1483985e6bf0 input.sk-hidden--visually {border: 0;clip: rect(1px 1px 1px 1px);clip: rect(1px, 1px, 1px, 1px);height: 1px;margin: -1px;overflow: hidden;padding: 0;position: absolute;width: 1px;}#sk-554c8b1f-1aea-4abb-81c6-1483985e6bf0 div.sk-estimator {font-family: monospace;background-color: #f0f8ff;border: 1px dotted black;border-radius: 0.25em;box-sizing: border-box;margin-bottom: 0.5em;}#sk-554c8b1f-1aea-4abb-81c6-1483985e6bf0 div.sk-estimator:hover {background-color: #d4ebff;}#sk-554c8b1f-1aea-4abb-81c6-1483985e6bf0 div.sk-parallel-item::after {content: \"\";width: 100%;border-bottom: 1px solid gray;flex-grow: 1;}#sk-554c8b1f-1aea-4abb-81c6-1483985e6bf0 div.sk-label:hover label.sk-toggleable__label {background-color: #d4ebff;}#sk-554c8b1f-1aea-4abb-81c6-1483985e6bf0 div.sk-serial::before {content: \"\";position: absolute;border-left: 1px solid gray;box-sizing: border-box;top: 2em;bottom: 0;left: 50%;}#sk-554c8b1f-1aea-4abb-81c6-1483985e6bf0 div.sk-serial {display: flex;flex-direction: column;align-items: center;background-color: white;padding-right: 0.2em;padding-left: 0.2em;}#sk-554c8b1f-1aea-4abb-81c6-1483985e6bf0 div.sk-item {z-index: 1;}#sk-554c8b1f-1aea-4abb-81c6-1483985e6bf0 div.sk-parallel {display: flex;align-items: stretch;justify-content: center;background-color: white;}#sk-554c8b1f-1aea-4abb-81c6-1483985e6bf0 div.sk-parallel::before {content: \"\";position: absolute;border-left: 1px solid gray;box-sizing: border-box;top: 2em;bottom: 0;left: 50%;}#sk-554c8b1f-1aea-4abb-81c6-1483985e6bf0 div.sk-parallel-item {display: flex;flex-direction: column;position: relative;background-color: white;}#sk-554c8b1f-1aea-4abb-81c6-1483985e6bf0 div.sk-parallel-item:first-child::after {align-self: flex-end;width: 50%;}#sk-554c8b1f-1aea-4abb-81c6-1483985e6bf0 div.sk-parallel-item:last-child::after {align-self: flex-start;width: 50%;}#sk-554c8b1f-1aea-4abb-81c6-1483985e6bf0 div.sk-parallel-item:only-child::after {width: 0;}#sk-554c8b1f-1aea-4abb-81c6-1483985e6bf0 div.sk-dashed-wrapped {border: 1px dashed gray;margin: 0 0.4em 0.5em 0.4em;box-sizing: border-box;padding-bottom: 0.4em;background-color: white;position: relative;}#sk-554c8b1f-1aea-4abb-81c6-1483985e6bf0 div.sk-label label {font-family: monospace;font-weight: bold;background-color: white;display: inline-block;line-height: 1.2em;}#sk-554c8b1f-1aea-4abb-81c6-1483985e6bf0 div.sk-label-container {position: relative;z-index: 2;text-align: center;}#sk-554c8b1f-1aea-4abb-81c6-1483985e6bf0 div.sk-container {/* jupyter's `normalize.less` sets `[hidden] { display: none; }` but bootstrap.min.css set `[hidden] { display: none !important; }` so we also need the `!important` here to be able to override the default hidden behavior on the sphinx rendered scikit-learn.org. See: https://github.com/scikit-learn/scikit-learn/issues/21755 */display: inline-block !important;position: relative;}#sk-554c8b1f-1aea-4abb-81c6-1483985e6bf0 div.sk-text-repr-fallback {display: none;}</style><div id=\"sk-554c8b1f-1aea-4abb-81c6-1483985e6bf0\" class=\"sk-top-container\"><div class=\"sk-text-repr-fallback\"><pre>LinearSVC(C=1, class_weight={0: 0.22, 1: 0.78}, dual=False, penalty=&#x27;l1&#x27;)</pre><b>Please rerun this cell to show the HTML repr or trust the notebook.</b></div><div class=\"sk-container\" hidden><div class=\"sk-item\"><div class=\"sk-estimator sk-toggleable\"><input class=\"sk-toggleable__control sk-hidden--visually\" id=\"2cd6d105-500f-46fa-8c77-15d371ecbe75\" type=\"checkbox\" checked><label for=\"2cd6d105-500f-46fa-8c77-15d371ecbe75\" class=\"sk-toggleable__label sk-toggleable__label-arrow\">LinearSVC</label><div class=\"sk-toggleable__content\"><pre>LinearSVC(C=1, class_weight={0: 0.22, 1: 0.78}, dual=False, penalty=&#x27;l1&#x27;)</pre></div></div></div></div></div>"
      ],
      "text/plain": [
       "LinearSVC(C=1, class_weight={0: 0.22, 1: 0.78}, dual=False, penalty='l1')"
      ]
     },
     "execution_count": 15,
     "metadata": {},
     "output_type": "execute_result"
    }
   ],
   "source": [
    "package_model.model"
   ]
  },
  {
   "cell_type": "code",
   "execution_count": 16,
   "id": "4311c90d",
   "metadata": {},
   "outputs": [],
   "source": [
    "package_model.set_pipeline()"
   ]
  },
  {
   "cell_type": "code",
   "execution_count": 17,
   "id": "82d33ad2",
   "metadata": {},
   "outputs": [
    {
     "data": {
      "text/html": [
       "<style>#sk-08c77e18-db7a-45c3-a6b3-fdc3b3c4fcde {color: black;background-color: white;}#sk-08c77e18-db7a-45c3-a6b3-fdc3b3c4fcde pre{padding: 0;}#sk-08c77e18-db7a-45c3-a6b3-fdc3b3c4fcde div.sk-toggleable {background-color: white;}#sk-08c77e18-db7a-45c3-a6b3-fdc3b3c4fcde label.sk-toggleable__label {cursor: pointer;display: block;width: 100%;margin-bottom: 0;padding: 0.3em;box-sizing: border-box;text-align: center;}#sk-08c77e18-db7a-45c3-a6b3-fdc3b3c4fcde label.sk-toggleable__label-arrow:before {content: \"▸\";float: left;margin-right: 0.25em;color: #696969;}#sk-08c77e18-db7a-45c3-a6b3-fdc3b3c4fcde label.sk-toggleable__label-arrow:hover:before {color: black;}#sk-08c77e18-db7a-45c3-a6b3-fdc3b3c4fcde div.sk-estimator:hover label.sk-toggleable__label-arrow:before {color: black;}#sk-08c77e18-db7a-45c3-a6b3-fdc3b3c4fcde div.sk-toggleable__content {max-height: 0;max-width: 0;overflow: hidden;text-align: left;background-color: #f0f8ff;}#sk-08c77e18-db7a-45c3-a6b3-fdc3b3c4fcde div.sk-toggleable__content pre {margin: 0.2em;color: black;border-radius: 0.25em;background-color: #f0f8ff;}#sk-08c77e18-db7a-45c3-a6b3-fdc3b3c4fcde input.sk-toggleable__control:checked~div.sk-toggleable__content {max-height: 200px;max-width: 100%;overflow: auto;}#sk-08c77e18-db7a-45c3-a6b3-fdc3b3c4fcde input.sk-toggleable__control:checked~label.sk-toggleable__label-arrow:before {content: \"▾\";}#sk-08c77e18-db7a-45c3-a6b3-fdc3b3c4fcde div.sk-estimator input.sk-toggleable__control:checked~label.sk-toggleable__label {background-color: #d4ebff;}#sk-08c77e18-db7a-45c3-a6b3-fdc3b3c4fcde div.sk-label input.sk-toggleable__control:checked~label.sk-toggleable__label {background-color: #d4ebff;}#sk-08c77e18-db7a-45c3-a6b3-fdc3b3c4fcde input.sk-hidden--visually {border: 0;clip: rect(1px 1px 1px 1px);clip: rect(1px, 1px, 1px, 1px);height: 1px;margin: -1px;overflow: hidden;padding: 0;position: absolute;width: 1px;}#sk-08c77e18-db7a-45c3-a6b3-fdc3b3c4fcde div.sk-estimator {font-family: monospace;background-color: #f0f8ff;border: 1px dotted black;border-radius: 0.25em;box-sizing: border-box;margin-bottom: 0.5em;}#sk-08c77e18-db7a-45c3-a6b3-fdc3b3c4fcde div.sk-estimator:hover {background-color: #d4ebff;}#sk-08c77e18-db7a-45c3-a6b3-fdc3b3c4fcde div.sk-parallel-item::after {content: \"\";width: 100%;border-bottom: 1px solid gray;flex-grow: 1;}#sk-08c77e18-db7a-45c3-a6b3-fdc3b3c4fcde div.sk-label:hover label.sk-toggleable__label {background-color: #d4ebff;}#sk-08c77e18-db7a-45c3-a6b3-fdc3b3c4fcde div.sk-serial::before {content: \"\";position: absolute;border-left: 1px solid gray;box-sizing: border-box;top: 2em;bottom: 0;left: 50%;}#sk-08c77e18-db7a-45c3-a6b3-fdc3b3c4fcde div.sk-serial {display: flex;flex-direction: column;align-items: center;background-color: white;padding-right: 0.2em;padding-left: 0.2em;}#sk-08c77e18-db7a-45c3-a6b3-fdc3b3c4fcde div.sk-item {z-index: 1;}#sk-08c77e18-db7a-45c3-a6b3-fdc3b3c4fcde div.sk-parallel {display: flex;align-items: stretch;justify-content: center;background-color: white;}#sk-08c77e18-db7a-45c3-a6b3-fdc3b3c4fcde div.sk-parallel::before {content: \"\";position: absolute;border-left: 1px solid gray;box-sizing: border-box;top: 2em;bottom: 0;left: 50%;}#sk-08c77e18-db7a-45c3-a6b3-fdc3b3c4fcde div.sk-parallel-item {display: flex;flex-direction: column;position: relative;background-color: white;}#sk-08c77e18-db7a-45c3-a6b3-fdc3b3c4fcde div.sk-parallel-item:first-child::after {align-self: flex-end;width: 50%;}#sk-08c77e18-db7a-45c3-a6b3-fdc3b3c4fcde div.sk-parallel-item:last-child::after {align-self: flex-start;width: 50%;}#sk-08c77e18-db7a-45c3-a6b3-fdc3b3c4fcde div.sk-parallel-item:only-child::after {width: 0;}#sk-08c77e18-db7a-45c3-a6b3-fdc3b3c4fcde div.sk-dashed-wrapped {border: 1px dashed gray;margin: 0 0.4em 0.5em 0.4em;box-sizing: border-box;padding-bottom: 0.4em;background-color: white;position: relative;}#sk-08c77e18-db7a-45c3-a6b3-fdc3b3c4fcde div.sk-label label {font-family: monospace;font-weight: bold;background-color: white;display: inline-block;line-height: 1.2em;}#sk-08c77e18-db7a-45c3-a6b3-fdc3b3c4fcde div.sk-label-container {position: relative;z-index: 2;text-align: center;}#sk-08c77e18-db7a-45c3-a6b3-fdc3b3c4fcde div.sk-container {/* jupyter's `normalize.less` sets `[hidden] { display: none; }` but bootstrap.min.css set `[hidden] { display: none !important; }` so we also need the `!important` here to be able to override the default hidden behavior on the sphinx rendered scikit-learn.org. See: https://github.com/scikit-learn/scikit-learn/issues/21755 */display: inline-block !important;position: relative;}#sk-08c77e18-db7a-45c3-a6b3-fdc3b3c4fcde div.sk-text-repr-fallback {display: none;}</style><div id=\"sk-08c77e18-db7a-45c3-a6b3-fdc3b3c4fcde\" class=\"sk-top-container\"><div class=\"sk-text-repr-fallback\"><pre>Pipeline(steps=[(&#x27;columntransformer&#x27;,\n",
       "                 ColumnTransformer(transformers=[(&#x27;pipeline&#x27;,\n",
       "                                                  Pipeline(steps=[(&#x27;cleandftransformer&#x27;,\n",
       "                                                                   CleanDFTransformer()),\n",
       "                                                                  (&#x27;tfidfvectorizer&#x27;,\n",
       "                                                                   TfidfVectorizer(min_df=3))]),\n",
       "                                                  [&#x27;text&#x27;])])),\n",
       "                (&#x27;linearsvc&#x27;,\n",
       "                 LinearSVC(C=1, class_weight={0: 0.22, 1: 0.78}, dual=False,\n",
       "                           penalty=&#x27;l1&#x27;))])</pre><b>Please rerun this cell to show the HTML repr or trust the notebook.</b></div><div class=\"sk-container\" hidden><div class=\"sk-item sk-dashed-wrapped\"><div class=\"sk-label-container\"><div class=\"sk-label sk-toggleable\"><input class=\"sk-toggleable__control sk-hidden--visually\" id=\"462359f7-c3a5-4bae-b74b-0d112e43fe86\" type=\"checkbox\" ><label for=\"462359f7-c3a5-4bae-b74b-0d112e43fe86\" class=\"sk-toggleable__label sk-toggleable__label-arrow\">Pipeline</label><div class=\"sk-toggleable__content\"><pre>Pipeline(steps=[(&#x27;columntransformer&#x27;,\n",
       "                 ColumnTransformer(transformers=[(&#x27;pipeline&#x27;,\n",
       "                                                  Pipeline(steps=[(&#x27;cleandftransformer&#x27;,\n",
       "                                                                   CleanDFTransformer()),\n",
       "                                                                  (&#x27;tfidfvectorizer&#x27;,\n",
       "                                                                   TfidfVectorizer(min_df=3))]),\n",
       "                                                  [&#x27;text&#x27;])])),\n",
       "                (&#x27;linearsvc&#x27;,\n",
       "                 LinearSVC(C=1, class_weight={0: 0.22, 1: 0.78}, dual=False,\n",
       "                           penalty=&#x27;l1&#x27;))])</pre></div></div></div><div class=\"sk-serial\"><div class=\"sk-item sk-dashed-wrapped\"><div class=\"sk-label-container\"><div class=\"sk-label sk-toggleable\"><input class=\"sk-toggleable__control sk-hidden--visually\" id=\"1115df6b-a7f4-4dc4-a7ac-62fa4c3b6136\" type=\"checkbox\" ><label for=\"1115df6b-a7f4-4dc4-a7ac-62fa4c3b6136\" class=\"sk-toggleable__label sk-toggleable__label-arrow\">columntransformer: ColumnTransformer</label><div class=\"sk-toggleable__content\"><pre>ColumnTransformer(transformers=[(&#x27;pipeline&#x27;,\n",
       "                                 Pipeline(steps=[(&#x27;cleandftransformer&#x27;,\n",
       "                                                  CleanDFTransformer()),\n",
       "                                                 (&#x27;tfidfvectorizer&#x27;,\n",
       "                                                  TfidfVectorizer(min_df=3))]),\n",
       "                                 [&#x27;text&#x27;])])</pre></div></div></div><div class=\"sk-parallel\"><div class=\"sk-parallel-item\"><div class=\"sk-item\"><div class=\"sk-label-container\"><div class=\"sk-label sk-toggleable\"><input class=\"sk-toggleable__control sk-hidden--visually\" id=\"4aa7b716-d6b8-4a74-b5cc-a6d6899372f7\" type=\"checkbox\" ><label for=\"4aa7b716-d6b8-4a74-b5cc-a6d6899372f7\" class=\"sk-toggleable__label sk-toggleable__label-arrow\">pipeline</label><div class=\"sk-toggleable__content\"><pre>[&#x27;text&#x27;]</pre></div></div></div><div class=\"sk-serial\"><div class=\"sk-item\"><div class=\"sk-serial\"><div class=\"sk-item\"><div class=\"sk-estimator sk-toggleable\"><input class=\"sk-toggleable__control sk-hidden--visually\" id=\"1ccadadd-cf1c-482e-9357-36f8cad7804d\" type=\"checkbox\" ><label for=\"1ccadadd-cf1c-482e-9357-36f8cad7804d\" class=\"sk-toggleable__label sk-toggleable__label-arrow\">CleanDFTransformer</label><div class=\"sk-toggleable__content\"><pre>CleanDFTransformer()</pre></div></div></div><div class=\"sk-item\"><div class=\"sk-estimator sk-toggleable\"><input class=\"sk-toggleable__control sk-hidden--visually\" id=\"9b14c602-062d-4a8b-823e-62fd8fdfcb31\" type=\"checkbox\" ><label for=\"9b14c602-062d-4a8b-823e-62fd8fdfcb31\" class=\"sk-toggleable__label sk-toggleable__label-arrow\">TfidfVectorizer</label><div class=\"sk-toggleable__content\"><pre>TfidfVectorizer(min_df=3)</pre></div></div></div></div></div></div></div></div></div></div><div class=\"sk-item\"><div class=\"sk-estimator sk-toggleable\"><input class=\"sk-toggleable__control sk-hidden--visually\" id=\"85227f95-ffe1-430b-89f6-fb191464d709\" type=\"checkbox\" ><label for=\"85227f95-ffe1-430b-89f6-fb191464d709\" class=\"sk-toggleable__label sk-toggleable__label-arrow\">LinearSVC</label><div class=\"sk-toggleable__content\"><pre>LinearSVC(C=1, class_weight={0: 0.22, 1: 0.78}, dual=False, penalty=&#x27;l1&#x27;)</pre></div></div></div></div></div></div></div>"
      ],
      "text/plain": [
       "Pipeline(steps=[('columntransformer',\n",
       "                 ColumnTransformer(transformers=[('pipeline',\n",
       "                                                  Pipeline(steps=[('cleandftransformer',\n",
       "                                                                   CleanDFTransformer()),\n",
       "                                                                  ('tfidfvectorizer',\n",
       "                                                                   TfidfVectorizer(min_df=3))]),\n",
       "                                                  ['text'])])),\n",
       "                ('linearsvc',\n",
       "                 LinearSVC(C=1, class_weight={0: 0.22, 1: 0.78}, dual=False,\n",
       "                           penalty='l1'))])"
      ]
     },
     "execution_count": 17,
     "metadata": {},
     "output_type": "execute_result"
    }
   ],
   "source": [
    "package_model.pipeline"
   ]
  },
  {
   "cell_type": "code",
   "execution_count": 18,
   "id": "207a5845",
   "metadata": {},
   "outputs": [],
   "source": [
    "from cyberbullying.transformers import CleanDFTransformer"
   ]
  },
  {
   "cell_type": "code",
   "execution_count": 19,
   "id": "c0df56e4",
   "metadata": {},
   "outputs": [
    {
     "data": {
      "text/plain": [
       "(161664, 1)"
      ]
     },
     "execution_count": 19,
     "metadata": {},
     "output_type": "execute_result"
    }
   ],
   "source": [
    "X_train.shape"
   ]
  },
  {
   "cell_type": "code",
   "execution_count": 23,
   "id": "064644af",
   "metadata": {},
   "outputs": [],
   "source": [
    "#transformer = CleanDFTransformer()"
   ]
  },
  {
   "cell_type": "code",
   "execution_count": 24,
   "id": "7b92922d",
   "metadata": {},
   "outputs": [],
   "source": [
    "#X_train_2 = transformer.fit_transform(X_train)\n",
    "#X_train_2"
   ]
  },
  {
   "cell_type": "code",
   "execution_count": 25,
   "id": "27c09be2",
   "metadata": {},
   "outputs": [],
   "source": [
    "#X_train_2.shape"
   ]
  },
  {
   "cell_type": "code",
   "execution_count": 26,
   "id": "474acc06",
   "metadata": {},
   "outputs": [],
   "source": [
    "#X_train_2.isin([np.inf, -np.inf]).sum()"
   ]
  },
  {
   "cell_type": "code",
   "execution_count": 27,
   "id": "cc799068",
   "metadata": {},
   "outputs": [],
   "source": [
    "#X_train_2['text'].map(lambda text: type(text)).value_counts()"
   ]
  },
  {
   "cell_type": "code",
   "execution_count": 28,
   "id": "c5c8e33f",
   "metadata": {},
   "outputs": [],
   "source": [
    "#X_train_2.isnull().sum()"
   ]
  },
  {
   "cell_type": "code",
   "execution_count": 29,
   "id": "128e5744",
   "metadata": {},
   "outputs": [
    {
     "data": {
      "text/plain": [
       "41325     0.0\n",
       "63081     0.0\n",
       "20725     0.0\n",
       "167785    0.0\n",
       "101388    0.0\n",
       "         ... \n",
       "136405    0.0\n",
       "91714     0.0\n",
       "180664    0.0\n",
       "71438     1.0\n",
       "124281    0.0\n",
       "Name: target, Length: 161664, dtype: float64"
      ]
     },
     "execution_count": 29,
     "metadata": {},
     "output_type": "execute_result"
    }
   ],
   "source": [
    "y_train"
   ]
  },
  {
   "cell_type": "code",
   "execution_count": 30,
   "id": "1a4009c7",
   "metadata": {},
   "outputs": [
    {
     "data": {
      "text/plain": [
       "0"
      ]
     },
     "execution_count": 30,
     "metadata": {},
     "output_type": "execute_result"
    }
   ],
   "source": [
    "y_train.isnull().sum()"
   ]
  },
  {
   "cell_type": "code",
   "execution_count": 31,
   "id": "791d5445",
   "metadata": {},
   "outputs": [],
   "source": [
    "#X_train_2['text'].sort_values()"
   ]
  },
  {
   "cell_type": "code",
   "execution_count": 32,
   "id": "79df9af8",
   "metadata": {},
   "outputs": [],
   "source": [
    "#X_train_2['text'].map(lambda text: len(text)).sort_values()"
   ]
  },
  {
   "cell_type": "code",
   "execution_count": 33,
   "id": "99ccac89",
   "metadata": {},
   "outputs": [],
   "source": [
    "#X_train_2.max()"
   ]
  },
  {
   "cell_type": "code",
   "execution_count": 34,
   "id": "1aeb6ed7",
   "metadata": {},
   "outputs": [],
   "source": [
    "#X_train_2.min()"
   ]
  },
  {
   "cell_type": "code",
   "execution_count": 35,
   "id": "018028d3",
   "metadata": {},
   "outputs": [
    {
     "data": {
      "text/plain": [
       "0.0"
      ]
     },
     "execution_count": 35,
     "metadata": {},
     "output_type": "execute_result"
    }
   ],
   "source": [
    "y_train.min()"
   ]
  },
  {
   "cell_type": "code",
   "execution_count": 36,
   "id": "d24bafe1",
   "metadata": {},
   "outputs": [
    {
     "name": "stdout",
     "output_type": "stream",
     "text": [
      "ok\n"
     ]
    },
    {
     "data": {
      "text/html": [
       "<style>#sk-e915652b-5c13-4f59-8406-de58853b50a3 {color: black;background-color: white;}#sk-e915652b-5c13-4f59-8406-de58853b50a3 pre{padding: 0;}#sk-e915652b-5c13-4f59-8406-de58853b50a3 div.sk-toggleable {background-color: white;}#sk-e915652b-5c13-4f59-8406-de58853b50a3 label.sk-toggleable__label {cursor: pointer;display: block;width: 100%;margin-bottom: 0;padding: 0.3em;box-sizing: border-box;text-align: center;}#sk-e915652b-5c13-4f59-8406-de58853b50a3 label.sk-toggleable__label-arrow:before {content: \"▸\";float: left;margin-right: 0.25em;color: #696969;}#sk-e915652b-5c13-4f59-8406-de58853b50a3 label.sk-toggleable__label-arrow:hover:before {color: black;}#sk-e915652b-5c13-4f59-8406-de58853b50a3 div.sk-estimator:hover label.sk-toggleable__label-arrow:before {color: black;}#sk-e915652b-5c13-4f59-8406-de58853b50a3 div.sk-toggleable__content {max-height: 0;max-width: 0;overflow: hidden;text-align: left;background-color: #f0f8ff;}#sk-e915652b-5c13-4f59-8406-de58853b50a3 div.sk-toggleable__content pre {margin: 0.2em;color: black;border-radius: 0.25em;background-color: #f0f8ff;}#sk-e915652b-5c13-4f59-8406-de58853b50a3 input.sk-toggleable__control:checked~div.sk-toggleable__content {max-height: 200px;max-width: 100%;overflow: auto;}#sk-e915652b-5c13-4f59-8406-de58853b50a3 input.sk-toggleable__control:checked~label.sk-toggleable__label-arrow:before {content: \"▾\";}#sk-e915652b-5c13-4f59-8406-de58853b50a3 div.sk-estimator input.sk-toggleable__control:checked~label.sk-toggleable__label {background-color: #d4ebff;}#sk-e915652b-5c13-4f59-8406-de58853b50a3 div.sk-label input.sk-toggleable__control:checked~label.sk-toggleable__label {background-color: #d4ebff;}#sk-e915652b-5c13-4f59-8406-de58853b50a3 input.sk-hidden--visually {border: 0;clip: rect(1px 1px 1px 1px);clip: rect(1px, 1px, 1px, 1px);height: 1px;margin: -1px;overflow: hidden;padding: 0;position: absolute;width: 1px;}#sk-e915652b-5c13-4f59-8406-de58853b50a3 div.sk-estimator {font-family: monospace;background-color: #f0f8ff;border: 1px dotted black;border-radius: 0.25em;box-sizing: border-box;margin-bottom: 0.5em;}#sk-e915652b-5c13-4f59-8406-de58853b50a3 div.sk-estimator:hover {background-color: #d4ebff;}#sk-e915652b-5c13-4f59-8406-de58853b50a3 div.sk-parallel-item::after {content: \"\";width: 100%;border-bottom: 1px solid gray;flex-grow: 1;}#sk-e915652b-5c13-4f59-8406-de58853b50a3 div.sk-label:hover label.sk-toggleable__label {background-color: #d4ebff;}#sk-e915652b-5c13-4f59-8406-de58853b50a3 div.sk-serial::before {content: \"\";position: absolute;border-left: 1px solid gray;box-sizing: border-box;top: 2em;bottom: 0;left: 50%;}#sk-e915652b-5c13-4f59-8406-de58853b50a3 div.sk-serial {display: flex;flex-direction: column;align-items: center;background-color: white;padding-right: 0.2em;padding-left: 0.2em;}#sk-e915652b-5c13-4f59-8406-de58853b50a3 div.sk-item {z-index: 1;}#sk-e915652b-5c13-4f59-8406-de58853b50a3 div.sk-parallel {display: flex;align-items: stretch;justify-content: center;background-color: white;}#sk-e915652b-5c13-4f59-8406-de58853b50a3 div.sk-parallel::before {content: \"\";position: absolute;border-left: 1px solid gray;box-sizing: border-box;top: 2em;bottom: 0;left: 50%;}#sk-e915652b-5c13-4f59-8406-de58853b50a3 div.sk-parallel-item {display: flex;flex-direction: column;position: relative;background-color: white;}#sk-e915652b-5c13-4f59-8406-de58853b50a3 div.sk-parallel-item:first-child::after {align-self: flex-end;width: 50%;}#sk-e915652b-5c13-4f59-8406-de58853b50a3 div.sk-parallel-item:last-child::after {align-self: flex-start;width: 50%;}#sk-e915652b-5c13-4f59-8406-de58853b50a3 div.sk-parallel-item:only-child::after {width: 0;}#sk-e915652b-5c13-4f59-8406-de58853b50a3 div.sk-dashed-wrapped {border: 1px dashed gray;margin: 0 0.4em 0.5em 0.4em;box-sizing: border-box;padding-bottom: 0.4em;background-color: white;position: relative;}#sk-e915652b-5c13-4f59-8406-de58853b50a3 div.sk-label label {font-family: monospace;font-weight: bold;background-color: white;display: inline-block;line-height: 1.2em;}#sk-e915652b-5c13-4f59-8406-de58853b50a3 div.sk-label-container {position: relative;z-index: 2;text-align: center;}#sk-e915652b-5c13-4f59-8406-de58853b50a3 div.sk-container {/* jupyter's `normalize.less` sets `[hidden] { display: none; }` but bootstrap.min.css set `[hidden] { display: none !important; }` so we also need the `!important` here to be able to override the default hidden behavior on the sphinx rendered scikit-learn.org. See: https://github.com/scikit-learn/scikit-learn/issues/21755 */display: inline-block !important;position: relative;}#sk-e915652b-5c13-4f59-8406-de58853b50a3 div.sk-text-repr-fallback {display: none;}</style><div id=\"sk-e915652b-5c13-4f59-8406-de58853b50a3\" class=\"sk-top-container\"><div class=\"sk-text-repr-fallback\"><pre>Pipeline(steps=[(&#x27;columntransformer&#x27;,\n",
       "                 ColumnTransformer(transformers=[(&#x27;pipeline&#x27;,\n",
       "                                                  Pipeline(steps=[(&#x27;cleandftransformer&#x27;,\n",
       "                                                                   CleanDFTransformer()),\n",
       "                                                                  (&#x27;tfidfvectorizer&#x27;,\n",
       "                                                                   TfidfVectorizer(min_df=3))]),\n",
       "                                                  [&#x27;text&#x27;])])),\n",
       "                (&#x27;linearsvc&#x27;,\n",
       "                 LinearSVC(C=1, class_weight={0: 0.22, 1: 0.78}, dual=False,\n",
       "                           penalty=&#x27;l1&#x27;))])</pre><b>Please rerun this cell to show the HTML repr or trust the notebook.</b></div><div class=\"sk-container\" hidden><div class=\"sk-item sk-dashed-wrapped\"><div class=\"sk-label-container\"><div class=\"sk-label sk-toggleable\"><input class=\"sk-toggleable__control sk-hidden--visually\" id=\"f95d5e64-2f08-42bd-a68c-a4acba6bdec1\" type=\"checkbox\" ><label for=\"f95d5e64-2f08-42bd-a68c-a4acba6bdec1\" class=\"sk-toggleable__label sk-toggleable__label-arrow\">Pipeline</label><div class=\"sk-toggleable__content\"><pre>Pipeline(steps=[(&#x27;columntransformer&#x27;,\n",
       "                 ColumnTransformer(transformers=[(&#x27;pipeline&#x27;,\n",
       "                                                  Pipeline(steps=[(&#x27;cleandftransformer&#x27;,\n",
       "                                                                   CleanDFTransformer()),\n",
       "                                                                  (&#x27;tfidfvectorizer&#x27;,\n",
       "                                                                   TfidfVectorizer(min_df=3))]),\n",
       "                                                  [&#x27;text&#x27;])])),\n",
       "                (&#x27;linearsvc&#x27;,\n",
       "                 LinearSVC(C=1, class_weight={0: 0.22, 1: 0.78}, dual=False,\n",
       "                           penalty=&#x27;l1&#x27;))])</pre></div></div></div><div class=\"sk-serial\"><div class=\"sk-item sk-dashed-wrapped\"><div class=\"sk-label-container\"><div class=\"sk-label sk-toggleable\"><input class=\"sk-toggleable__control sk-hidden--visually\" id=\"627ee526-2297-470f-8ed2-44b97abf0627\" type=\"checkbox\" ><label for=\"627ee526-2297-470f-8ed2-44b97abf0627\" class=\"sk-toggleable__label sk-toggleable__label-arrow\">columntransformer: ColumnTransformer</label><div class=\"sk-toggleable__content\"><pre>ColumnTransformer(transformers=[(&#x27;pipeline&#x27;,\n",
       "                                 Pipeline(steps=[(&#x27;cleandftransformer&#x27;,\n",
       "                                                  CleanDFTransformer()),\n",
       "                                                 (&#x27;tfidfvectorizer&#x27;,\n",
       "                                                  TfidfVectorizer(min_df=3))]),\n",
       "                                 [&#x27;text&#x27;])])</pre></div></div></div><div class=\"sk-parallel\"><div class=\"sk-parallel-item\"><div class=\"sk-item\"><div class=\"sk-label-container\"><div class=\"sk-label sk-toggleable\"><input class=\"sk-toggleable__control sk-hidden--visually\" id=\"fff128f0-08d8-4e48-9ddf-2f771e677cf0\" type=\"checkbox\" ><label for=\"fff128f0-08d8-4e48-9ddf-2f771e677cf0\" class=\"sk-toggleable__label sk-toggleable__label-arrow\">pipeline</label><div class=\"sk-toggleable__content\"><pre>[&#x27;text&#x27;]</pre></div></div></div><div class=\"sk-serial\"><div class=\"sk-item\"><div class=\"sk-serial\"><div class=\"sk-item\"><div class=\"sk-estimator sk-toggleable\"><input class=\"sk-toggleable__control sk-hidden--visually\" id=\"ff79c183-255b-4789-adee-540bd07b283b\" type=\"checkbox\" ><label for=\"ff79c183-255b-4789-adee-540bd07b283b\" class=\"sk-toggleable__label sk-toggleable__label-arrow\">CleanDFTransformer</label><div class=\"sk-toggleable__content\"><pre>CleanDFTransformer()</pre></div></div></div><div class=\"sk-item\"><div class=\"sk-estimator sk-toggleable\"><input class=\"sk-toggleable__control sk-hidden--visually\" id=\"bdc053ab-ebaf-4170-a796-3e8d50b68da2\" type=\"checkbox\" ><label for=\"bdc053ab-ebaf-4170-a796-3e8d50b68da2\" class=\"sk-toggleable__label sk-toggleable__label-arrow\">TfidfVectorizer</label><div class=\"sk-toggleable__content\"><pre>TfidfVectorizer(min_df=3)</pre></div></div></div></div></div></div></div></div></div></div><div class=\"sk-item\"><div class=\"sk-estimator sk-toggleable\"><input class=\"sk-toggleable__control sk-hidden--visually\" id=\"411d06ea-658a-4845-929d-efac9934fb13\" type=\"checkbox\" ><label for=\"411d06ea-658a-4845-929d-efac9934fb13\" class=\"sk-toggleable__label sk-toggleable__label-arrow\">LinearSVC</label><div class=\"sk-toggleable__content\"><pre>LinearSVC(C=1, class_weight={0: 0.22, 1: 0.78}, dual=False, penalty=&#x27;l1&#x27;)</pre></div></div></div></div></div></div></div>"
      ],
      "text/plain": [
       "Pipeline(steps=[('columntransformer',\n",
       "                 ColumnTransformer(transformers=[('pipeline',\n",
       "                                                  Pipeline(steps=[('cleandftransformer',\n",
       "                                                                   CleanDFTransformer()),\n",
       "                                                                  ('tfidfvectorizer',\n",
       "                                                                   TfidfVectorizer(min_df=3))]),\n",
       "                                                  ['text'])])),\n",
       "                ('linearsvc',\n",
       "                 LinearSVC(C=1, class_weight={0: 0.22, 1: 0.78}, dual=False,\n",
       "                           penalty='l1'))])"
      ]
     },
     "execution_count": 36,
     "metadata": {},
     "output_type": "execute_result"
    }
   ],
   "source": [
    "package_model.pipeline.fit(X_train, y_train)"
   ]
  },
  {
   "cell_type": "code",
   "execution_count": 37,
   "id": "f3426e89",
   "metadata": {},
   "outputs": [],
   "source": [
    "from cyberbullying.utils import clean_df"
   ]
  },
  {
   "cell_type": "code",
   "execution_count": 39,
   "id": "2e2210db",
   "metadata": {},
   "outputs": [
    {
     "name": "stdout",
     "output_type": "stream",
     "text": [
      "ok\n"
     ]
    }
   ],
   "source": [
    "y_pred = package_model.predict(X_test)"
   ]
  },
  {
   "cell_type": "code",
   "execution_count": 40,
   "id": "9986c059",
   "metadata": {},
   "outputs": [
    {
     "data": {
      "text/plain": [
       "array([0., 1., 1., ..., 0., 0., 0.])"
      ]
     },
     "execution_count": 40,
     "metadata": {},
     "output_type": "execute_result"
    }
   ],
   "source": [
    "y_pred"
   ]
  },
  {
   "cell_type": "code",
   "execution_count": 41,
   "id": "297815c0",
   "metadata": {},
   "outputs": [
    {
     "name": "stdout",
     "output_type": "stream",
     "text": [
      "ok\n"
     ]
    }
   ],
   "source": [
    "y_pred_proba = package_model.predict_proba(X_test)"
   ]
  },
  {
   "cell_type": "code",
   "execution_count": 42,
   "id": "9e68bde6",
   "metadata": {},
   "outputs": [
    {
     "data": {
      "text/plain": [
       "array([[0.52342301, 0.47657699],\n",
       "       [0.45051131, 0.54948869],\n",
       "       [0.3860013 , 0.6139987 ],\n",
       "       ...,\n",
       "       [0.68267751, 0.31732249],\n",
       "       [0.60838256, 0.39161744],\n",
       "       [0.64744169, 0.35255831]])"
      ]
     },
     "execution_count": 42,
     "metadata": {},
     "output_type": "execute_result"
    }
   ],
   "source": [
    "y_pred_proba"
   ]
  },
  {
   "cell_type": "code",
   "execution_count": 43,
   "id": "e01a4139",
   "metadata": {},
   "outputs": [
    {
     "data": {
      "text/plain": [
       "array([0.52342301, 0.45051131, 0.3860013 , ..., 0.68267751, 0.60838256,\n",
       "       0.64744169])"
      ]
     },
     "execution_count": 43,
     "metadata": {},
     "output_type": "execute_result"
    }
   ],
   "source": [
    "y_pred_proba[:,0]"
   ]
  },
  {
   "cell_type": "code",
   "execution_count": 44,
   "id": "d45c8582",
   "metadata": {},
   "outputs": [
    {
     "name": "stdout",
     "output_type": "stream",
     "text": [
      "Recall: 0.729\n",
      "Precision: 0.632\n",
      "Accuracy: 0.918\n",
      "F1-score: 0.677\n"
     ]
    },
    {
     "data": {
      "text/plain": [
       "(0.729, 0.632, 0.918, 0.677)"
      ]
     },
     "execution_count": 44,
     "metadata": {},
     "output_type": "execute_result"
    },
    {
     "data": {
      "image/png": "[encoded data removed]",
      "text/plain": [
       "<Figure size 432x288 with 2 Axes>"
      ]
     },
     "metadata": {
      "needs_background": "light"
     },
     "output_type": "display_data"
    }
   ],
   "source": [
    "conf_mx_all(y_test, y_pred)"
   ]
  },
  {
   "cell_type": "code",
   "execution_count": 45,
   "id": "fd388440",
   "metadata": {},
   "outputs": [
    {
     "name": "stdout",
     "output_type": "stream",
     "text": [
      "ok\n",
      "ok\n"
     ]
    },
    {
     "data": {
      "text/html": [
       "<div>\n",
       "<style scoped>\n",
       "    .dataframe tbody tr th:only-of-type {\n",
       "        vertical-align: middle;\n",
       "    }\n",
       "\n",
       "    .dataframe tbody tr th {\n",
       "        vertical-align: top;\n",
       "    }\n",
       "\n",
       "    .dataframe thead th {\n",
       "        text-align: right;\n",
       "    }\n",
       "</style>\n",
       "<table border=\"1\" class=\"dataframe\">\n",
       "  <thead>\n",
       "    <tr style=\"text-align: right;\">\n",
       "      <th></th>\n",
       "      <th>text</th>\n",
       "      <th>proba_0</th>\n",
       "      <th>proba_1</th>\n",
       "      <th>prediction</th>\n",
       "      <th>color</th>\n",
       "    </tr>\n",
       "  </thead>\n",
       "  <tbody>\n",
       "    <tr>\n",
       "      <th>216249</th>\n",
       "      <td>@mutaSawwif @TawheedNetwork_ Are you actually ...</td>\n",
       "      <td>0.523423</td>\n",
       "      <td>0.476577</td>\n",
       "      <td>0.0</td>\n",
       "      <td>None</td>\n",
       "    </tr>\n",
       "    <tr>\n",
       "      <th>200383</th>\n",
       "      <td>== Excuse you? ==  Did you just fart?</td>\n",
       "      <td>0.450511</td>\n",
       "      <td>0.549489</td>\n",
       "      <td>1.0</td>\n",
       "      <td>yellow</td>\n",
       "    </tr>\n",
       "    <tr>\n",
       "      <th>29777</th>\n",
       "      <td>MY IP IS DYNAMIC AND MY PENIS IS 10 INCHES LONG</td>\n",
       "      <td>0.386001</td>\n",
       "      <td>0.613999</td>\n",
       "      <td>1.0</td>\n",
       "      <td>yellow</td>\n",
       "    </tr>\n",
       "    <tr>\n",
       "      <th>9952</th>\n",
       "      <td>`  Hi, , Welcome to Wikipedia!    I hope you l...</td>\n",
       "      <td>0.777679</td>\n",
       "      <td>0.222321</td>\n",
       "      <td>0.0</td>\n",
       "      <td>None</td>\n",
       "    </tr>\n",
       "    <tr>\n",
       "      <th>72162</th>\n",
       "      <td>`   Please do not vandalize pages, as you did ...</td>\n",
       "      <td>0.751598</td>\n",
       "      <td>0.248402</td>\n",
       "      <td>0.0</td>\n",
       "      <td>None</td>\n",
       "    </tr>\n",
       "    <tr>\n",
       "      <th>...</th>\n",
       "      <td>...</td>\n",
       "      <td>...</td>\n",
       "      <td>...</td>\n",
       "      <td>...</td>\n",
       "      <td>...</td>\n",
       "    </tr>\n",
       "    <tr>\n",
       "      <th>19723</th>\n",
       "      <td>My two demands are, leave the flagship alone...</td>\n",
       "      <td>0.461151</td>\n",
       "      <td>0.538849</td>\n",
       "      <td>1.0</td>\n",
       "      <td>yellow</td>\n",
       "    </tr>\n",
       "    <tr>\n",
       "      <th>49595</th>\n",
       "      <td>::Note that someone tossed the page up for d...</td>\n",
       "      <td>0.667642</td>\n",
       "      <td>0.332358</td>\n",
       "      <td>0.0</td>\n",
       "      <td>None</td>\n",
       "    </tr>\n",
       "    <tr>\n",
       "      <th>131669</th>\n",
       "      <td>`  Only thing relevant here is but ``THE' SHIT...</td>\n",
       "      <td>0.682678</td>\n",
       "      <td>0.317322</td>\n",
       "      <td>0.0</td>\n",
       "      <td>None</td>\n",
       "    </tr>\n",
       "    <tr>\n",
       "      <th>84864</th>\n",
       "      <td>`right about the body though it's quite possib...</td>\n",
       "      <td>0.608383</td>\n",
       "      <td>0.391617</td>\n",
       "      <td>0.0</td>\n",
       "      <td>None</td>\n",
       "    </tr>\n",
       "    <tr>\n",
       "      <th>37780</th>\n",
       "      <td>:::Fine. But which ancient or medieval bridg...</td>\n",
       "      <td>0.647442</td>\n",
       "      <td>0.352558</td>\n",
       "      <td>0.0</td>\n",
       "      <td>None</td>\n",
       "    </tr>\n",
       "  </tbody>\n",
       "</table>\n",
       "<p>69285 rows × 5 columns</p>\n",
       "</div>"
      ],
      "text/plain": [
       "                                                     text   proba_0   proba_1  \\\n",
       "216249  @mutaSawwif @TawheedNetwork_ Are you actually ...  0.523423  0.476577   \n",
       "200383              == Excuse you? ==  Did you just fart?  0.450511  0.549489   \n",
       "29777    MY IP IS DYNAMIC AND MY PENIS IS 10 INCHES LONG   0.386001  0.613999   \n",
       "9952    `  Hi, , Welcome to Wikipedia!    I hope you l...  0.777679  0.222321   \n",
       "72162   `   Please do not vandalize pages, as you did ...  0.751598  0.248402   \n",
       "...                                                   ...       ...       ...   \n",
       "19723     My two demands are, leave the flagship alone...  0.461151  0.538849   \n",
       "49595     ::Note that someone tossed the page up for d...  0.667642  0.332358   \n",
       "131669  `  Only thing relevant here is but ``THE' SHIT...  0.682678  0.317322   \n",
       "84864   `right about the body though it's quite possib...  0.608383  0.391617   \n",
       "37780     :::Fine. But which ancient or medieval bridg...  0.647442  0.352558   \n",
       "\n",
       "        prediction   color  \n",
       "216249         0.0    None  \n",
       "200383         1.0  yellow  \n",
       "29777          1.0  yellow  \n",
       "9952           0.0    None  \n",
       "72162          0.0    None  \n",
       "...            ...     ...  \n",
       "19723          1.0  yellow  \n",
       "49595          0.0    None  \n",
       "131669         0.0    None  \n",
       "84864          0.0    None  \n",
       "37780          0.0    None  \n",
       "\n",
       "[69285 rows x 5 columns]"
      ]
     },
     "execution_count": 45,
     "metadata": {},
     "output_type": "execute_result"
    }
   ],
   "source": [
    "package_model.predict_all(X_test)"
   ]
  },
  {
   "cell_type": "code",
   "execution_count": 46,
   "id": "3392aa96",
   "metadata": {},
   "outputs": [
    {
     "data": {
      "text/plain": [
       "'`   Please do not vandalize pages, as you did with this edit to Rhode Island. If you continue to do so, you will be blocked from editing.  \\xa0–\\xa0 `'"
      ]
     },
     "execution_count": 46,
     "metadata": {},
     "output_type": "execute_result"
    }
   ],
   "source": [
    "X_test.iloc[4,:]['text']"
   ]
  },
  {
   "cell_type": "code",
   "execution_count": 48,
   "id": "739f5121",
   "metadata": {},
   "outputs": [],
   "source": [
    "texto = '`   Please do not vandalize pages, as you did with this edit to Rhode Island. If you continue to do so, you will be blocked from editing.  \\xa0–\\xa0 `'"
   ]
  },
  {
   "cell_type": "code",
   "execution_count": 49,
   "id": "f09b04cc",
   "metadata": {},
   "outputs": [
    {
     "ename": "ValueError",
     "evalue": "Expected 2D array, got 1D array instead:\narray=['`' 'Please' 'do' 'not' 'vandalize' 'pages,' 'as' 'you' 'did' 'with'\n 'this' 'edit' 'to' 'Rhode' 'Island.' 'If' 'you' 'continue' 'to' 'do'\n 'so,' 'you' 'will' 'be' 'blocked' 'from' 'editing.' '–' '`'].\nReshape your data either using array.reshape(-1, 1) if your data has a single feature or array.reshape(1, -1) if it contains a single sample.",
     "output_type": "error",
     "traceback": [
      "\u001b[0;31m---------------------------------------------------------------------------\u001b[0m",
      "\u001b[0;31mValueError\u001b[0m                                Traceback (most recent call last)",
      "\u001b[0;32m/tmp/ipykernel_2770/3428142475.py\u001b[0m in \u001b[0;36m<module>\u001b[0;34m\u001b[0m\n\u001b[0;32m----> 1\u001b[0;31m \u001b[0mpackage_model\u001b[0m\u001b[0;34m.\u001b[0m\u001b[0mpredict_simple_text\u001b[0m\u001b[0;34m(\u001b[0m\u001b[0mtexto\u001b[0m\u001b[0;34m)\u001b[0m\u001b[0;34m\u001b[0m\u001b[0;34m\u001b[0m\u001b[0m\n\u001b[0m",
      "\u001b[0;32m~/code/juanpedrobesenyi/cyberbullying/cyberbullying/models.py\u001b[0m in \u001b[0;36mpredict_simple_text\u001b[0;34m(self, X_test)\u001b[0m\n\u001b[1;32m     99\u001b[0m     \u001b[0;32mdef\u001b[0m \u001b[0mpredict_simple_text\u001b[0m\u001b[0;34m(\u001b[0m\u001b[0mself\u001b[0m\u001b[0;34m,\u001b[0m \u001b[0mX_test\u001b[0m\u001b[0;34m)\u001b[0m\u001b[0;34m:\u001b[0m\u001b[0;34m\u001b[0m\u001b[0;34m\u001b[0m\u001b[0m\n\u001b[1;32m    100\u001b[0m         \u001b[0mX_test\u001b[0m \u001b[0;34m=\u001b[0m \u001b[0mX_test\u001b[0m\u001b[0;34m.\u001b[0m\u001b[0msplit\u001b[0m\u001b[0;34m(\u001b[0m\u001b[0;34m)\u001b[0m\u001b[0;34m\u001b[0m\u001b[0;34m\u001b[0m\u001b[0m\n\u001b[0;32m--> 101\u001b[0;31m         \u001b[0;32mreturn\u001b[0m \u001b[0mself\u001b[0m\u001b[0;34m.\u001b[0m\u001b[0mpredict_all\u001b[0m\u001b[0;34m(\u001b[0m\u001b[0mX_test\u001b[0m\u001b[0;34m)\u001b[0m\u001b[0;34m\u001b[0m\u001b[0;34m\u001b[0m\u001b[0m\n\u001b[0m",
      "\u001b[0;32m~/code/juanpedrobesenyi/cyberbullying/cyberbullying/models.py\u001b[0m in \u001b[0;36mpredict_all\u001b[0;34m(self, X_test)\u001b[0m\n\u001b[1;32m     71\u001b[0m         \u001b[0;31m#X_test = preprocess_x(X_test)\u001b[0m\u001b[0;34m\u001b[0m\u001b[0;34m\u001b[0m\u001b[0;34m\u001b[0m\u001b[0m\n\u001b[1;32m     72\u001b[0m         \u001b[0;31m#X_test = clean_df(X_test)\u001b[0m\u001b[0;34m\u001b[0m\u001b[0;34m\u001b[0m\u001b[0;34m\u001b[0m\u001b[0m\n\u001b[0;32m---> 73\u001b[0;31m         \u001b[0my_pred\u001b[0m \u001b[0;34m=\u001b[0m \u001b[0mself\u001b[0m\u001b[0;34m.\u001b[0m\u001b[0mpredict\u001b[0m\u001b[0;34m(\u001b[0m\u001b[0mX_test\u001b[0m\u001b[0;34m)\u001b[0m\u001b[0;34m\u001b[0m\u001b[0;34m\u001b[0m\u001b[0m\n\u001b[0m\u001b[1;32m     74\u001b[0m         \u001b[0my_pred_proba\u001b[0m \u001b[0;34m=\u001b[0m \u001b[0mself\u001b[0m\u001b[0;34m.\u001b[0m\u001b[0mpredict_proba\u001b[0m\u001b[0;34m(\u001b[0m\u001b[0mX_test\u001b[0m\u001b[0;34m)\u001b[0m\u001b[0;34m\u001b[0m\u001b[0;34m\u001b[0m\u001b[0m\n\u001b[1;32m     75\u001b[0m         \u001b[0mcolor\u001b[0m \u001b[0;34m=\u001b[0m \u001b[0;34m[\u001b[0m\u001b[0;34m'red'\u001b[0m \u001b[0;32mif\u001b[0m \u001b[0mproba\u001b[0m\u001b[0;34m==\u001b[0m\u001b[0;36m1\u001b[0m \u001b[0;32melse\u001b[0m \u001b[0;32mNone\u001b[0m \u001b[0;32mfor\u001b[0m \u001b[0mproba\u001b[0m \u001b[0;32min\u001b[0m \u001b[0my_pred\u001b[0m\u001b[0;34m]\u001b[0m\u001b[0;34m\u001b[0m\u001b[0;34m\u001b[0m\u001b[0m\n",
      "\u001b[0;32m~/code/juanpedrobesenyi/cyberbullying/cyberbullying/models.py\u001b[0m in \u001b[0;36mpredict\u001b[0;34m(self, X_test)\u001b[0m\n\u001b[1;32m     58\u001b[0m         \u001b[0;31m#X_test = preprocess_x(X_test)\u001b[0m\u001b[0;34m\u001b[0m\u001b[0;34m\u001b[0m\u001b[0;34m\u001b[0m\u001b[0m\n\u001b[1;32m     59\u001b[0m         \u001b[0;31m#X_test = clean_df(X_test)\u001b[0m\u001b[0;34m\u001b[0m\u001b[0;34m\u001b[0m\u001b[0;34m\u001b[0m\u001b[0m\n\u001b[0;32m---> 60\u001b[0;31m         \u001b[0my_pred\u001b[0m \u001b[0;34m=\u001b[0m \u001b[0mself\u001b[0m\u001b[0;34m.\u001b[0m\u001b[0mpipeline\u001b[0m\u001b[0;34m.\u001b[0m\u001b[0mpredict\u001b[0m\u001b[0;34m(\u001b[0m\u001b[0mX_test\u001b[0m\u001b[0;34m)\u001b[0m\u001b[0;34m\u001b[0m\u001b[0;34m\u001b[0m\u001b[0m\n\u001b[0m\u001b[1;32m     61\u001b[0m         \u001b[0;32mreturn\u001b[0m \u001b[0my_pred\u001b[0m\u001b[0;34m\u001b[0m\u001b[0;34m\u001b[0m\u001b[0m\n\u001b[1;32m     62\u001b[0m \u001b[0;34m\u001b[0m\u001b[0m\n",
      "\u001b[0;32m~/.pyenv/versions/3.8.12/envs/lewagon/lib/python3.8/site-packages/sklearn/utils/metaestimators.py\u001b[0m in \u001b[0;36m<lambda>\u001b[0;34m(*args, **kwargs)\u001b[0m\n\u001b[1;32m    111\u001b[0m \u001b[0;34m\u001b[0m\u001b[0m\n\u001b[1;32m    112\u001b[0m             \u001b[0;31m# lambda, but not partial, allows help() to work with update_wrapper\u001b[0m\u001b[0;34m\u001b[0m\u001b[0;34m\u001b[0m\u001b[0;34m\u001b[0m\u001b[0m\n\u001b[0;32m--> 113\u001b[0;31m             \u001b[0mout\u001b[0m \u001b[0;34m=\u001b[0m \u001b[0;32mlambda\u001b[0m \u001b[0;34m*\u001b[0m\u001b[0margs\u001b[0m\u001b[0;34m,\u001b[0m \u001b[0;34m**\u001b[0m\u001b[0mkwargs\u001b[0m\u001b[0;34m:\u001b[0m \u001b[0mself\u001b[0m\u001b[0;34m.\u001b[0m\u001b[0mfn\u001b[0m\u001b[0;34m(\u001b[0m\u001b[0mobj\u001b[0m\u001b[0;34m,\u001b[0m \u001b[0;34m*\u001b[0m\u001b[0margs\u001b[0m\u001b[0;34m,\u001b[0m \u001b[0;34m**\u001b[0m\u001b[0mkwargs\u001b[0m\u001b[0;34m)\u001b[0m  \u001b[0;31m# noqa\u001b[0m\u001b[0;34m\u001b[0m\u001b[0;34m\u001b[0m\u001b[0m\n\u001b[0m\u001b[1;32m    114\u001b[0m         \u001b[0;32melse\u001b[0m\u001b[0;34m:\u001b[0m\u001b[0;34m\u001b[0m\u001b[0;34m\u001b[0m\u001b[0m\n\u001b[1;32m    115\u001b[0m \u001b[0;34m\u001b[0m\u001b[0m\n",
      "\u001b[0;32m~/.pyenv/versions/3.8.12/envs/lewagon/lib/python3.8/site-packages/sklearn/pipeline.py\u001b[0m in \u001b[0;36mpredict\u001b[0;34m(self, X, **predict_params)\u001b[0m\n\u001b[1;32m    467\u001b[0m         \u001b[0mXt\u001b[0m \u001b[0;34m=\u001b[0m \u001b[0mX\u001b[0m\u001b[0;34m\u001b[0m\u001b[0;34m\u001b[0m\u001b[0m\n\u001b[1;32m    468\u001b[0m         \u001b[0;32mfor\u001b[0m \u001b[0m_\u001b[0m\u001b[0;34m,\u001b[0m \u001b[0mname\u001b[0m\u001b[0;34m,\u001b[0m \u001b[0mtransform\u001b[0m \u001b[0;32min\u001b[0m \u001b[0mself\u001b[0m\u001b[0;34m.\u001b[0m\u001b[0m_iter\u001b[0m\u001b[0;34m(\u001b[0m\u001b[0mwith_final\u001b[0m\u001b[0;34m=\u001b[0m\u001b[0;32mFalse\u001b[0m\u001b[0;34m)\u001b[0m\u001b[0;34m:\u001b[0m\u001b[0;34m\u001b[0m\u001b[0;34m\u001b[0m\u001b[0m\n\u001b[0;32m--> 469\u001b[0;31m             \u001b[0mXt\u001b[0m \u001b[0;34m=\u001b[0m \u001b[0mtransform\u001b[0m\u001b[0;34m.\u001b[0m\u001b[0mtransform\u001b[0m\u001b[0;34m(\u001b[0m\u001b[0mXt\u001b[0m\u001b[0;34m)\u001b[0m\u001b[0;34m\u001b[0m\u001b[0;34m\u001b[0m\u001b[0m\n\u001b[0m\u001b[1;32m    470\u001b[0m         \u001b[0;32mreturn\u001b[0m \u001b[0mself\u001b[0m\u001b[0;34m.\u001b[0m\u001b[0msteps\u001b[0m\u001b[0;34m[\u001b[0m\u001b[0;34m-\u001b[0m\u001b[0;36m1\u001b[0m\u001b[0;34m]\u001b[0m\u001b[0;34m[\u001b[0m\u001b[0;36m1\u001b[0m\u001b[0;34m]\u001b[0m\u001b[0;34m.\u001b[0m\u001b[0mpredict\u001b[0m\u001b[0;34m(\u001b[0m\u001b[0mXt\u001b[0m\u001b[0;34m,\u001b[0m \u001b[0;34m**\u001b[0m\u001b[0mpredict_params\u001b[0m\u001b[0;34m)\u001b[0m\u001b[0;34m\u001b[0m\u001b[0;34m\u001b[0m\u001b[0m\n\u001b[1;32m    471\u001b[0m \u001b[0;34m\u001b[0m\u001b[0m\n",
      "\u001b[0;32m~/.pyenv/versions/3.8.12/envs/lewagon/lib/python3.8/site-packages/sklearn/compose/_column_transformer.py\u001b[0m in \u001b[0;36mtransform\u001b[0;34m(self, X)\u001b[0m\n\u001b[1;32m    717\u001b[0m         \"\"\"\n\u001b[1;32m    718\u001b[0m         \u001b[0mcheck_is_fitted\u001b[0m\u001b[0;34m(\u001b[0m\u001b[0mself\u001b[0m\u001b[0;34m)\u001b[0m\u001b[0;34m\u001b[0m\u001b[0;34m\u001b[0m\u001b[0m\n\u001b[0;32m--> 719\u001b[0;31m         \u001b[0mX\u001b[0m \u001b[0;34m=\u001b[0m \u001b[0m_check_X\u001b[0m\u001b[0;34m(\u001b[0m\u001b[0mX\u001b[0m\u001b[0;34m)\u001b[0m\u001b[0;34m\u001b[0m\u001b[0;34m\u001b[0m\u001b[0m\n\u001b[0m\u001b[1;32m    720\u001b[0m \u001b[0;34m\u001b[0m\u001b[0m\n\u001b[1;32m    721\u001b[0m         fit_dataframe_and_transform_dataframe = hasattr(\n",
      "\u001b[0;32m~/.pyenv/versions/3.8.12/envs/lewagon/lib/python3.8/site-packages/sklearn/compose/_column_transformer.py\u001b[0m in \u001b[0;36m_check_X\u001b[0;34m(X)\u001b[0m\n\u001b[1;32m    818\u001b[0m     \u001b[0;32mif\u001b[0m \u001b[0mhasattr\u001b[0m\u001b[0;34m(\u001b[0m\u001b[0mX\u001b[0m\u001b[0;34m,\u001b[0m \u001b[0;34m\"__array__\"\u001b[0m\u001b[0;34m)\u001b[0m \u001b[0;32mor\u001b[0m \u001b[0msparse\u001b[0m\u001b[0;34m.\u001b[0m\u001b[0missparse\u001b[0m\u001b[0;34m(\u001b[0m\u001b[0mX\u001b[0m\u001b[0;34m)\u001b[0m\u001b[0;34m:\u001b[0m\u001b[0;34m\u001b[0m\u001b[0;34m\u001b[0m\u001b[0m\n\u001b[1;32m    819\u001b[0m         \u001b[0;32mreturn\u001b[0m \u001b[0mX\u001b[0m\u001b[0;34m\u001b[0m\u001b[0;34m\u001b[0m\u001b[0m\n\u001b[0;32m--> 820\u001b[0;31m     \u001b[0;32mreturn\u001b[0m \u001b[0mcheck_array\u001b[0m\u001b[0;34m(\u001b[0m\u001b[0mX\u001b[0m\u001b[0;34m,\u001b[0m \u001b[0mforce_all_finite\u001b[0m\u001b[0;34m=\u001b[0m\u001b[0;34m\"allow-nan\"\u001b[0m\u001b[0;34m,\u001b[0m \u001b[0mdtype\u001b[0m\u001b[0;34m=\u001b[0m\u001b[0mobject\u001b[0m\u001b[0;34m)\u001b[0m\u001b[0;34m\u001b[0m\u001b[0;34m\u001b[0m\u001b[0m\n\u001b[0m\u001b[1;32m    821\u001b[0m \u001b[0;34m\u001b[0m\u001b[0m\n\u001b[1;32m    822\u001b[0m \u001b[0;34m\u001b[0m\u001b[0m\n",
      "\u001b[0;32m~/.pyenv/versions/3.8.12/envs/lewagon/lib/python3.8/site-packages/sklearn/utils/validation.py\u001b[0m in \u001b[0;36mcheck_array\u001b[0;34m(array, accept_sparse, accept_large_sparse, dtype, order, copy, force_all_finite, ensure_2d, allow_nd, ensure_min_samples, ensure_min_features, estimator)\u001b[0m\n\u001b[1;32m    767\u001b[0m             \u001b[0;31m# If input is 1D raise error\u001b[0m\u001b[0;34m\u001b[0m\u001b[0;34m\u001b[0m\u001b[0;34m\u001b[0m\u001b[0m\n\u001b[1;32m    768\u001b[0m             \u001b[0;32mif\u001b[0m \u001b[0marray\u001b[0m\u001b[0;34m.\u001b[0m\u001b[0mndim\u001b[0m \u001b[0;34m==\u001b[0m \u001b[0;36m1\u001b[0m\u001b[0;34m:\u001b[0m\u001b[0;34m\u001b[0m\u001b[0;34m\u001b[0m\u001b[0m\n\u001b[0;32m--> 769\u001b[0;31m                 raise ValueError(\n\u001b[0m\u001b[1;32m    770\u001b[0m                     \u001b[0;34m\"Expected 2D array, got 1D array instead:\\narray={}.\\n\"\u001b[0m\u001b[0;34m\u001b[0m\u001b[0;34m\u001b[0m\u001b[0m\n\u001b[1;32m    771\u001b[0m                     \u001b[0;34m\"Reshape your data either using array.reshape(-1, 1) if \"\u001b[0m\u001b[0;34m\u001b[0m\u001b[0;34m\u001b[0m\u001b[0m\n",
      "\u001b[0;31mValueError\u001b[0m: Expected 2D array, got 1D array instead:\narray=['`' 'Please' 'do' 'not' 'vandalize' 'pages,' 'as' 'you' 'did' 'with'\n 'this' 'edit' 'to' 'Rhode' 'Island.' 'If' 'you' 'continue' 'to' 'do'\n 'so,' 'you' 'will' 'be' 'blocked' 'from' 'editing.' '–' '`'].\nReshape your data either using array.reshape(-1, 1) if your data has a single feature or array.reshape(1, -1) if it contains a single sample."
     ]
    }
   ],
   "source": [
    "package_model.predict_simple_text(texto)"
   ]
  },
  {
   "cell_type": "code",
   "execution_count": null,
   "id": "e3dd2261",
   "metadata": {},
   "outputs": [],
   "source": [
    "#package_model.predict_all(' Your a prick. keep your personal thoughts to your self. Jeff is the best driver ever and thats a fact. You musy be an idiot redneck.')"
   ]
  },
  {
   "cell_type": "code",
   "execution_count": null,
   "id": "d1ef4e36",
   "metadata": {},
   "outputs": [],
   "source": [
    "#package_model.predict_simple_text(' Your a prick. keep your personal thoughts to your self. Jeff is the best driver ever and thats a fact. You musy be an idiot redneck.')"
   ]
  },
  {
   "cell_type": "code",
   "execution_count": null,
   "id": "632ac61b",
   "metadata": {},
   "outputs": [],
   "source": []
  }
 ],
 "metadata": {
  "kernelspec": {
   "display_name": "Python 3 (ipykernel)",
   "language": "python",
   "name": "python3"
  },
  "language_info": {
   "codemirror_mode": {
    "name": "ipython",
    "version": 3
   },
   "file_extension": ".py",
   "mimetype": "text/x-python",
   "name": "python",
   "nbconvert_exporter": "python",
   "pygments_lexer": "ipython3",
   "version": "3.8.12"
  },
  "toc": {
   "base_numbering": 1,
   "nav_menu": {},
   "number_sections": true,
   "sideBar": true,
   "skip_h1_title": false,
   "title_cell": "Table of Contents",
   "title_sidebar": "Contents",
   "toc_cell": false,
   "toc_position": {},
   "toc_section_display": true,
   "toc_window_display": false
  }
 },
 "nbformat": 4,
 "nbformat_minor": 5
}
