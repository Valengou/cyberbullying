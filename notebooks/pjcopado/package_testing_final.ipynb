{
 "cells": [
  {
   "cell_type": "code",
   "execution_count": 1,
   "id": "69f7d816",
   "metadata": {},
   "outputs": [],
   "source": [
    "%load_ext autoreload\n",
    "%autoreload 2"
   ]
  },
  {
   "cell_type": "code",
   "execution_count": 2,
   "id": "41f6d10b",
   "metadata": {},
   "outputs": [],
   "source": [
    "from cyberbullying.utils import get_trained_model"
   ]
  },
  {
   "cell_type": "code",
   "execution_count": 4,
   "id": "21187282",
   "metadata": {},
   "outputs": [],
   "source": [
    "trained_model = get_trained_model()"
   ]
  },
  {
   "cell_type": "code",
   "execution_count": 7,
   "id": "1d8f88fc",
   "metadata": {},
   "outputs": [],
   "source": [
    "texto = 'MY IP IS DYNAMIC AND MY PENIS IS 10 INCHES LONG'"
   ]
  },
  {
   "cell_type": "code",
   "execution_count": 12,
   "id": "e463c4c0",
   "metadata": {},
   "outputs": [
    {
     "data": {
      "text/plain": [
       "{'prediction': 1.0,\n",
       " 'html': 'MY IP IS DYNAMIC AND MY <red>PENIS</red> IS 10 INCHES LONG'}"
      ]
     },
     "execution_count": 12,
     "metadata": {},
     "output_type": "execute_result"
    }
   ],
   "source": [
    "response = trained_model.predict_phrase(texto)\n",
    "response"
   ]
  },
  {
   "cell_type": "code",
   "execution_count": null,
   "id": "7452a36c",
   "metadata": {},
   "outputs": [],
   "source": []
  },
  {
   "cell_type": "code",
   "execution_count": null,
   "id": "2eef4d97",
   "metadata": {},
   "outputs": [],
   "source": []
  },
  {
   "cell_type": "code",
   "execution_count": null,
   "id": "c7716362",
   "metadata": {},
   "outputs": [],
   "source": []
  },
  {
   "cell_type": "raw",
   "id": "272bd473",
   "metadata": {},
   "source": [
    "\"\"\"\n",
    "        conditions = [\n",
    "            (df['proba_1'] <= 0.5),\n",
    "            (df['proba_1'] <= 0.65),\n",
    "            (df['proba_1'] <= 0.88),\n",
    "            (df['proba_1'] <= 1.0)\n",
    "            ]\n",
    "            \n",
    "        values = [None, 'yellow', 'orange', 'red']\n",
    "\"\"\""
   ]
  },
  {
   "cell_type": "code",
   "execution_count": null,
   "id": "5d408967",
   "metadata": {},
   "outputs": [],
   "source": []
  }
 ],
 "metadata": {
  "kernelspec": {
   "display_name": "Python 3 (ipykernel)",
   "language": "python",
   "name": "python3"
  },
  "language_info": {
   "codemirror_mode": {
    "name": "ipython",
    "version": 3
   },
   "file_extension": ".py",
   "mimetype": "text/x-python",
   "name": "python",
   "nbconvert_exporter": "python",
   "pygments_lexer": "ipython3",
   "version": "3.8.12"
  },
  "toc": {
   "base_numbering": 1,
   "nav_menu": {},
   "number_sections": true,
   "sideBar": true,
   "skip_h1_title": false,
   "title_cell": "Table of Contents",
   "title_sidebar": "Contents",
   "toc_cell": false,
   "toc_position": {},
   "toc_section_display": true,
   "toc_window_display": false
  }
 },
 "nbformat": 4,
 "nbformat_minor": 5
}
