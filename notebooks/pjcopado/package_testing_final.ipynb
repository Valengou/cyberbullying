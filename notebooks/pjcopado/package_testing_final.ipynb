{
 "cells": [
  {
   "cell_type": "code",
   "execution_count": 1,
   "id": "06080c1c",
   "metadata": {},
   "outputs": [],
   "source": [
    "%load_ext autoreload\n",
    "%autoreload 2"
   ]
  },
  {
   "cell_type": "code",
   "execution_count": 2,
   "id": "4ac3af48",
   "metadata": {},
   "outputs": [],
   "source": [
    "from cyberbullying.utils import get_trained_model"
   ]
  },
  {
   "cell_type": "code",
   "execution_count": 4,
   "id": "79580d6d",
   "metadata": {},
   "outputs": [],
   "source": [
    "trained_model = get_trained_model('model_prediction')"
   ]
  },
  {
   "cell_type": "code",
   "execution_count": 37,
   "id": "3af2bd94",
   "metadata": {},
   "outputs": [],
   "source": [
    "texto = 'MY IP IS DYNAMIC AND MY PENIS IS 10 INCHES LONG'"
   ]
  },
  {
   "cell_type": "code",
   "execution_count": 60,
   "id": "36703ff2",
   "metadata": {},
   "outputs": [],
   "source": [
    "texto = '  == idiocy ==  You are a fucking moron. STOP REMOVING ENCYCLOPAEDIC INFORMATION. If you feel there is a POV then edit it out but stop removing entire entries, you complete fuckwit.'"
   ]
  },
  {
   "cell_type": "code",
   "execution_count": 69,
   "id": "157b03b3",
   "metadata": {},
   "outputs": [],
   "source": [
    "texto = 'I agree, this guy is a piece of shit!'"
   ]
  },
  {
   "cell_type": "code",
   "execution_count": 70,
   "id": "96f06fb0",
   "metadata": {},
   "outputs": [
    {
     "data": {
      "text/html": [
       "<div>\n",
       "<style scoped>\n",
       "    .dataframe tbody tr th:only-of-type {\n",
       "        vertical-align: middle;\n",
       "    }\n",
       "\n",
       "    .dataframe tbody tr th {\n",
       "        vertical-align: top;\n",
       "    }\n",
       "\n",
       "    .dataframe thead th {\n",
       "        text-align: right;\n",
       "    }\n",
       "</style>\n",
       "<table border=\"1\" class=\"dataframe\">\n",
       "  <thead>\n",
       "    <tr style=\"text-align: right;\">\n",
       "      <th></th>\n",
       "      <th>text</th>\n",
       "      <th>proba_0</th>\n",
       "      <th>proba_1</th>\n",
       "      <th>prediction</th>\n",
       "      <th>color</th>\n",
       "    </tr>\n",
       "  </thead>\n",
       "  <tbody>\n",
       "    <tr>\n",
       "      <th>0</th>\n",
       "      <td>I</td>\n",
       "      <td>0.658614</td>\n",
       "      <td>0.341386</td>\n",
       "      <td>0.0</td>\n",
       "      <td>None</td>\n",
       "    </tr>\n",
       "    <tr>\n",
       "      <th>1</th>\n",
       "      <td>agree,</td>\n",
       "      <td>0.803569</td>\n",
       "      <td>0.196431</td>\n",
       "      <td>0.0</td>\n",
       "      <td>None</td>\n",
       "    </tr>\n",
       "    <tr>\n",
       "      <th>2</th>\n",
       "      <td>this</td>\n",
       "      <td>0.658614</td>\n",
       "      <td>0.341386</td>\n",
       "      <td>0.0</td>\n",
       "      <td>None</td>\n",
       "    </tr>\n",
       "    <tr>\n",
       "      <th>3</th>\n",
       "      <td>guy</td>\n",
       "      <td>0.613932</td>\n",
       "      <td>0.386068</td>\n",
       "      <td>0.0</td>\n",
       "      <td>None</td>\n",
       "    </tr>\n",
       "    <tr>\n",
       "      <th>4</th>\n",
       "      <td>is</td>\n",
       "      <td>0.658614</td>\n",
       "      <td>0.341386</td>\n",
       "      <td>0.0</td>\n",
       "      <td>None</td>\n",
       "    </tr>\n",
       "    <tr>\n",
       "      <th>5</th>\n",
       "      <td>a</td>\n",
       "      <td>0.658614</td>\n",
       "      <td>0.341386</td>\n",
       "      <td>0.0</td>\n",
       "      <td>None</td>\n",
       "    </tr>\n",
       "    <tr>\n",
       "      <th>6</th>\n",
       "      <td>piece</td>\n",
       "      <td>0.414694</td>\n",
       "      <td>0.585306</td>\n",
       "      <td>1.0</td>\n",
       "      <td>yellow</td>\n",
       "    </tr>\n",
       "    <tr>\n",
       "      <th>7</th>\n",
       "      <td>of</td>\n",
       "      <td>0.658614</td>\n",
       "      <td>0.341386</td>\n",
       "      <td>0.0</td>\n",
       "      <td>None</td>\n",
       "    </tr>\n",
       "    <tr>\n",
       "      <th>8</th>\n",
       "      <td>shit!</td>\n",
       "      <td>0.176010</td>\n",
       "      <td>0.823990</td>\n",
       "      <td>1.0</td>\n",
       "      <td>orange</td>\n",
       "    </tr>\n",
       "  </tbody>\n",
       "</table>\n",
       "</div>"
      ],
      "text/plain": [
       "     text   proba_0   proba_1  prediction   color\n",
       "0       I  0.658614  0.341386         0.0    None\n",
       "1  agree,  0.803569  0.196431         0.0    None\n",
       "2    this  0.658614  0.341386         0.0    None\n",
       "3     guy  0.613932  0.386068         0.0    None\n",
       "4      is  0.658614  0.341386         0.0    None\n",
       "5       a  0.658614  0.341386         0.0    None\n",
       "6   piece  0.414694  0.585306         1.0  yellow\n",
       "7      of  0.658614  0.341386         0.0    None\n",
       "8   shit!  0.176010  0.823990         1.0  orange"
      ]
     },
     "execution_count": 70,
     "metadata": {},
     "output_type": "execute_result"
    }
   ],
   "source": [
    "df = trained_model.predict_simple_text(texto)\n",
    "df"
   ]
  },
  {
   "cell_type": "code",
   "execution_count": 71,
   "id": "1e38b9d3",
   "metadata": {},
   "outputs": [
    {
     "data": {
      "text/plain": [
       "{'prediction': 1.0,\n",
       " 'text': 'I agree, this guy is a <yellow>piece</yellow> of <orange>shit!</orange>'}"
      ]
     },
     "execution_count": 71,
     "metadata": {},
     "output_type": "execute_result"
    }
   ],
   "source": [
    "response = trained_model.predict_phrase(texto)\n",
    "response"
   ]
  },
  {
   "cell_type": "code",
   "execution_count": null,
   "id": "7927db21",
   "metadata": {},
   "outputs": [],
   "source": []
  },
  {
   "cell_type": "code",
   "execution_count": null,
   "id": "08a2ab59",
   "metadata": {},
   "outputs": [],
   "source": []
  },
  {
   "cell_type": "code",
   "execution_count": null,
   "id": "69469b6d",
   "metadata": {},
   "outputs": [],
   "source": []
  },
  {
   "cell_type": "raw",
   "id": "7cc16fb0",
   "metadata": {},
   "source": [
    "\"\"\"\n",
    "        conditions = [\n",
    "            (df['proba_1'] <= 0.5),\n",
    "            (df['proba_1'] <= 0.65),\n",
    "            (df['proba_1'] <= 0.85),\n",
    "            (df['proba_1'] <= 1.0)\n",
    "            ]\n",
    "            \n",
    "        values = [None, 'yellow', 'orange', 'red']\n",
    "\"\"\""
   ]
  },
  {
   "cell_type": "code",
   "execution_count": 89,
   "id": "c1c59a8a",
   "metadata": {},
   "outputs": [],
   "source": [
    "def test_response():\n",
    "    model = get_trained_model()\n",
    "    response = model.predict_phrase('text')\n",
    "\n",
    "    assert(type(response)==dict)\n",
    "    assert('prediction' in  response.keys())\n",
    "    assert('text' in  response.keys())"
   ]
  },
  {
   "cell_type": "code",
   "execution_count": 90,
   "id": "04418b77",
   "metadata": {},
   "outputs": [],
   "source": [
    "test_response()"
   ]
  },
  {
   "cell_type": "code",
   "execution_count": null,
   "id": "6e157b77",
   "metadata": {},
   "outputs": [],
   "source": []
  }
 ],
 "metadata": {
  "kernelspec": {
   "display_name": "Python 3 (ipykernel)",
   "language": "python",
   "name": "python3"
  },
  "language_info": {
   "codemirror_mode": {
    "name": "ipython",
    "version": 3
   },
   "file_extension": ".py",
   "mimetype": "text/x-python",
   "name": "python",
   "nbconvert_exporter": "python",
   "pygments_lexer": "ipython3",
   "version": "3.8.12"
  },
  "toc": {
   "base_numbering": 1,
   "nav_menu": {},
   "number_sections": true,
   "sideBar": true,
   "skip_h1_title": false,
   "title_cell": "Table of Contents",
   "title_sidebar": "Contents",
   "toc_cell": false,
   "toc_position": {},
   "toc_section_display": true,
   "toc_window_display": false
  }
 },
 "nbformat": 4,
 "nbformat_minor": 5
}
