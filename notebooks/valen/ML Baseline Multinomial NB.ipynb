{
 "cells": [
  {
   "cell_type": "markdown",
   "id": "779ea020",
   "metadata": {},
   "source": [
    "# Machine Learning Model - Multinomial Naives Bayes"
   ]
  },
  {
   "cell_type": "markdown",
   "id": "0501baa7",
   "metadata": {},
   "source": [
    "## Data import"
   ]
  },
  {
   "cell_type": "code",
   "execution_count": 3,
   "id": "8d64b746",
   "metadata": {},
   "outputs": [],
   "source": [
    "import pandas as pd\n"
   ]
  },
  {
   "cell_type": "code",
   "execution_count": 4,
   "id": "676c5918",
   "metadata": {},
   "outputs": [
    {
     "data": {
      "text/html": [
       "<div>\n",
       "<style scoped>\n",
       "    .dataframe tbody tr th:only-of-type {\n",
       "        vertical-align: middle;\n",
       "    }\n",
       "\n",
       "    .dataframe tbody tr th {\n",
       "        vertical-align: top;\n",
       "    }\n",
       "\n",
       "    .dataframe thead th {\n",
       "        text-align: right;\n",
       "    }\n",
       "</style>\n",
       "<table border=\"1\" class=\"dataframe\">\n",
       "  <thead>\n",
       "    <tr style=\"text-align: right;\">\n",
       "      <th></th>\n",
       "      <th>text</th>\n",
       "      <th>target</th>\n",
       "    </tr>\n",
       "  </thead>\n",
       "  <tbody>\n",
       "    <tr>\n",
       "      <th>0</th>\n",
       "      <td>this is not creative  those are the dictionar...</td>\n",
       "      <td>0.0</td>\n",
       "    </tr>\n",
       "    <tr>\n",
       "      <th>1</th>\n",
       "      <td>the term standard model is itself less npov...</td>\n",
       "      <td>0.0</td>\n",
       "    </tr>\n",
       "    <tr>\n",
       "      <th>2</th>\n",
       "      <td>true or false the situation as of march  was...</td>\n",
       "      <td>0.0</td>\n",
       "    </tr>\n",
       "    <tr>\n",
       "      <th>3</th>\n",
       "      <td>next maybe you could work on being less conde...</td>\n",
       "      <td>0.0</td>\n",
       "    </tr>\n",
       "    <tr>\n",
       "      <th>4</th>\n",
       "      <td>this page will need disambiguation</td>\n",
       "      <td>0.0</td>\n",
       "    </tr>\n",
       "  </tbody>\n",
       "</table>\n",
       "</div>"
      ],
      "text/plain": [
       "                                                text  target\n",
       "0   this is not creative  those are the dictionar...     0.0\n",
       "1     the term standard model is itself less npov...     0.0\n",
       "2    true or false the situation as of march  was...     0.0\n",
       "3   next maybe you could work on being less conde...     0.0\n",
       "4                this page will need disambiguation      0.0"
      ]
     },
     "execution_count": 4,
     "metadata": {},
     "output_type": "execute_result"
    }
   ],
   "source": [
    "data = pd.read_csv('../../cyberbullying/data/data.csv')\n",
    "data.head()"
   ]
  },
  {
   "cell_type": "markdown",
   "id": "bf4b6726",
   "metadata": {},
   "source": [
    "## Data processing"
   ]
  },
  {
   "cell_type": "code",
   "execution_count": 5,
   "id": "9e9d0a7a",
   "metadata": {},
   "outputs": [],
   "source": [
    "from nltk.corpus import stopwords \n",
    "from nltk.tokenize import word_tokenize\n",
    "\n",
    "def remove_stop_words(text):\n",
    "    stop_words = set(stopwords.words('english')) \n",
    "    word_tokens = word_tokenize(text) \n",
    "    text = [w for w in word_tokens if not w in stop_words]\n",
    "    text= ' '.join(text)\n",
    "    return text"
   ]
  },
  {
   "cell_type": "code",
   "execution_count": 6,
   "id": "8def1f49",
   "metadata": {},
   "outputs": [
    {
     "data": {
      "text/html": [
       "<div>\n",
       "<style scoped>\n",
       "    .dataframe tbody tr th:only-of-type {\n",
       "        vertical-align: middle;\n",
       "    }\n",
       "\n",
       "    .dataframe tbody tr th {\n",
       "        vertical-align: top;\n",
       "    }\n",
       "\n",
       "    .dataframe thead th {\n",
       "        text-align: right;\n",
       "    }\n",
       "</style>\n",
       "<table border=\"1\" class=\"dataframe\">\n",
       "  <thead>\n",
       "    <tr style=\"text-align: right;\">\n",
       "      <th></th>\n",
       "      <th>text</th>\n",
       "      <th>target</th>\n",
       "    </tr>\n",
       "  </thead>\n",
       "  <tbody>\n",
       "    <tr>\n",
       "      <th>0</th>\n",
       "      <td>creative dictionary definitions terms insuranc...</td>\n",
       "      <td>0.0</td>\n",
       "    </tr>\n",
       "    <tr>\n",
       "      <th>1</th>\n",
       "      <td>term standard model less npov think wed prefer...</td>\n",
       "      <td>0.0</td>\n",
       "    </tr>\n",
       "    <tr>\n",
       "      <th>2</th>\n",
       "      <td>true false situation march saudi proposal land...</td>\n",
       "      <td>0.0</td>\n",
       "    </tr>\n",
       "    <tr>\n",
       "      <th>3</th>\n",
       "      <td>next maybe could work less condescending sugge...</td>\n",
       "      <td>0.0</td>\n",
       "    </tr>\n",
       "    <tr>\n",
       "      <th>4</th>\n",
       "      <td>page need disambiguation</td>\n",
       "      <td>0.0</td>\n",
       "    </tr>\n",
       "  </tbody>\n",
       "</table>\n",
       "</div>"
      ],
      "text/plain": [
       "                                                text  target\n",
       "0  creative dictionary definitions terms insuranc...     0.0\n",
       "1  term standard model less npov think wed prefer...     0.0\n",
       "2  true false situation march saudi proposal land...     0.0\n",
       "3  next maybe could work less condescending sugge...     0.0\n",
       "4                           page need disambiguation     0.0"
      ]
     },
     "execution_count": 6,
     "metadata": {},
     "output_type": "execute_result"
    }
   ],
   "source": [
    "data['text'] = data['text'].apply(remove_stop_words)\n",
    "data.head()\n"
   ]
  },
  {
   "cell_type": "code",
   "execution_count": 7,
   "id": "594b913c",
   "metadata": {},
   "outputs": [],
   "source": [
    "from nltk.stem import WordNetLemmatizer\n",
    "\n",
    "def lematize_words(text):\n",
    "    token_words=word_tokenize(text)\n",
    "    token_words\n",
    "    lemmatizer = WordNetLemmatizer()\n",
    "    lemmatized = [lemmatizer.lemmatize(word) for word in token_words]\n",
    "    text = lemmatized\n",
    "    text= ' '.join(text)\n",
    "    return text\n"
   ]
  },
  {
   "cell_type": "code",
   "execution_count": 8,
   "id": "56f1854a",
   "metadata": {},
   "outputs": [
    {
     "data": {
      "text/html": [
       "<div>\n",
       "<style scoped>\n",
       "    .dataframe tbody tr th:only-of-type {\n",
       "        vertical-align: middle;\n",
       "    }\n",
       "\n",
       "    .dataframe tbody tr th {\n",
       "        vertical-align: top;\n",
       "    }\n",
       "\n",
       "    .dataframe thead th {\n",
       "        text-align: right;\n",
       "    }\n",
       "</style>\n",
       "<table border=\"1\" class=\"dataframe\">\n",
       "  <thead>\n",
       "    <tr style=\"text-align: right;\">\n",
       "      <th></th>\n",
       "      <th>text</th>\n",
       "      <th>target</th>\n",
       "    </tr>\n",
       "  </thead>\n",
       "  <tbody>\n",
       "    <tr>\n",
       "      <th>0</th>\n",
       "      <td>creative dictionary definition term insurance ...</td>\n",
       "      <td>0.0</td>\n",
       "    </tr>\n",
       "    <tr>\n",
       "      <th>1</th>\n",
       "      <td>term standard model le npov think wed prefer n...</td>\n",
       "      <td>0.0</td>\n",
       "    </tr>\n",
       "    <tr>\n",
       "      <th>2</th>\n",
       "      <td>true false situation march saudi proposal land...</td>\n",
       "      <td>0.0</td>\n",
       "    </tr>\n",
       "    <tr>\n",
       "      <th>3</th>\n",
       "      <td>next maybe could work le condescending suggest...</td>\n",
       "      <td>0.0</td>\n",
       "    </tr>\n",
       "    <tr>\n",
       "      <th>4</th>\n",
       "      <td>page need disambiguation</td>\n",
       "      <td>0.0</td>\n",
       "    </tr>\n",
       "  </tbody>\n",
       "</table>\n",
       "</div>"
      ],
      "text/plain": [
       "                                                text  target\n",
       "0  creative dictionary definition term insurance ...     0.0\n",
       "1  term standard model le npov think wed prefer n...     0.0\n",
       "2  true false situation march saudi proposal land...     0.0\n",
       "3  next maybe could work le condescending suggest...     0.0\n",
       "4                           page need disambiguation     0.0"
      ]
     },
     "execution_count": 8,
     "metadata": {},
     "output_type": "execute_result"
    }
   ],
   "source": [
    "data['text'] = data['text'].apply(lematize_words)\n",
    "data.head()"
   ]
  },
  {
   "cell_type": "code",
   "execution_count": 9,
   "id": "fdf7cab7",
   "metadata": {},
   "outputs": [],
   "source": [
    "from nltk.stem.porter import PorterStemmer\n",
    "def stemmer_word(text):\n",
    "    token_words=word_tokenize(text)\n",
    "    token_words\n",
    "    stemmer = PorterStemmer()\n",
    "    stemmed = [stemmer.stem(word) for word in token_words]\n",
    "    text = stemmed\n",
    "    text= ' '.join(text)\n",
    "    return text"
   ]
  },
  {
   "cell_type": "code",
   "execution_count": 10,
   "id": "74852106",
   "metadata": {},
   "outputs": [
    {
     "data": {
      "text/html": [
       "<div>\n",
       "<style scoped>\n",
       "    .dataframe tbody tr th:only-of-type {\n",
       "        vertical-align: middle;\n",
       "    }\n",
       "\n",
       "    .dataframe tbody tr th {\n",
       "        vertical-align: top;\n",
       "    }\n",
       "\n",
       "    .dataframe thead th {\n",
       "        text-align: right;\n",
       "    }\n",
       "</style>\n",
       "<table border=\"1\" class=\"dataframe\">\n",
       "  <thead>\n",
       "    <tr style=\"text-align: right;\">\n",
       "      <th></th>\n",
       "      <th>text</th>\n",
       "      <th>target</th>\n",
       "    </tr>\n",
       "  </thead>\n",
       "  <tbody>\n",
       "    <tr>\n",
       "      <th>0</th>\n",
       "      <td>creativ dictionari definit term insur ensur pr...</td>\n",
       "      <td>0.0</td>\n",
       "    </tr>\n",
       "    <tr>\n",
       "      <th>1</th>\n",
       "      <td>term standard model le npov think wed prefer n...</td>\n",
       "      <td>0.0</td>\n",
       "    </tr>\n",
       "    <tr>\n",
       "      <th>2</th>\n",
       "      <td>true fals situat march saudi propos land peac ...</td>\n",
       "      <td>0.0</td>\n",
       "    </tr>\n",
       "    <tr>\n",
       "      <th>3</th>\n",
       "      <td>next mayb could work le condescend suggest rea...</td>\n",
       "      <td>0.0</td>\n",
       "    </tr>\n",
       "    <tr>\n",
       "      <th>4</th>\n",
       "      <td>page need disambigu</td>\n",
       "      <td>0.0</td>\n",
       "    </tr>\n",
       "  </tbody>\n",
       "</table>\n",
       "</div>"
      ],
      "text/plain": [
       "                                                text  target\n",
       "0  creativ dictionari definit term insur ensur pr...     0.0\n",
       "1  term standard model le npov think wed prefer n...     0.0\n",
       "2  true fals situat march saudi propos land peac ...     0.0\n",
       "3  next mayb could work le condescend suggest rea...     0.0\n",
       "4                                page need disambigu     0.0"
      ]
     },
     "execution_count": 10,
     "metadata": {},
     "output_type": "execute_result"
    }
   ],
   "source": [
    "data['text'] = data['text'].apply(stemmer_word)\n",
    "data.head()"
   ]
  },
  {
   "cell_type": "markdown",
   "id": "6c4984f5",
   "metadata": {},
   "source": [
    "## Data separation train test and  data balancing"
   ]
  },
  {
   "cell_type": "code",
   "execution_count": 11,
   "id": "0fac7513",
   "metadata": {},
   "outputs": [],
   "source": [
    "from sklearn.model_selection import train_test_split\n",
    "X=data.text\n",
    "y=data.target\n",
    "X_train, X_test, y_train, y_test = train_test_split(X,y,test_size=0.3, random_state=0)"
   ]
  },
  {
   "cell_type": "code",
   "execution_count": 12,
   "id": "995f42e3",
   "metadata": {},
   "outputs": [],
   "source": [
    "def balance_df(X, y, ratio=0.3):\n",
    "    df = pd.DataFrame({'text': X_train, 'target': y_train})\n",
    "    df_class_0 = df[df['target'] == 0]\n",
    "    df_class_1 = df[df['target'] == 1]\n",
    "    df_class_1_len = df_class_1.shape[0]\n",
    "    \n",
    "    df_class_0_new = df_class_0.sample(int(df_class_1_len * (1-ratio)/ratio))\n",
    "    df_new = pd.concat([df_class_0_new, df_class_1]).sample(frac=1).reset_index(drop=True)\n",
    "    \n",
    "    X = df_new['text']\n",
    "    y = df_new['target']\n",
    "\n",
    "    return X, y\n",
    "\n",
    "#X_train, y_train = balance_df(X_train,y_train)\n"
   ]
  },
  {
   "cell_type": "code",
   "execution_count": 13,
   "id": "2dafec38",
   "metadata": {},
   "outputs": [
    {
     "data": {
      "text/plain": [
       "39864     danni devito height list flat imdb articl he l...\n",
       "207194    william shurtleff akiko aoyagi histori soybean...\n",
       "129198    rt formerlegend deconstruct lemon tart would w...\n",
       "112952    cours enough inform templat wikipediatempl loo...\n",
       "184510    statement revert accord propon plr produc dram...\n",
       "Name: text, dtype: object"
      ]
     },
     "execution_count": 13,
     "metadata": {},
     "output_type": "execute_result"
    }
   ],
   "source": [
    "X_train.head()"
   ]
  },
  {
   "cell_type": "markdown",
   "id": "05964022",
   "metadata": {},
   "source": [
    "## Model fitting"
   ]
  },
  {
   "cell_type": "code",
   "execution_count": 14,
   "id": "160128c1",
   "metadata": {},
   "outputs": [
    {
     "data": {
      "text/plain": [
       "<161108x918012 sparse matrix of type '<class 'numpy.float64'>'\n",
       "\twith 1592540 stored elements in Compressed Sparse Row format>"
      ]
     },
     "execution_count": 14,
     "metadata": {},
     "output_type": "execute_result"
    }
   ],
   "source": [
    "from sklearn.feature_extraction.text import TfidfVectorizer\n",
    "\n",
    "tf_idf_vectorizer = TfidfVectorizer(ngram_range = (2,2))\n",
    "\n",
    "X_train_vec = tf_idf_vectorizer.fit_transform(X_train)\n",
    "\n",
    "X_train_vec"
   ]
  },
  {
   "cell_type": "code",
   "execution_count": 44,
   "id": "263536c0",
   "metadata": {},
   "outputs": [
    {
     "data": {
      "text/plain": [
       "<230155x1222449 sparse matrix of type '<class 'numpy.float64'>'\n",
       "\twith 2274557 stored elements in Compressed Sparse Row format>"
      ]
     },
     "execution_count": 44,
     "metadata": {},
     "output_type": "execute_result"
    }
   ],
   "source": [
    "from sklearn.feature_extraction.text import TfidfVectorizer\n",
    "\n",
    "tf_idf_vectorizer = TfidfVectorizer(ngram_range = (2,2))\n",
    "\n",
    "X_vec = tf_idf_vectorizer.fit_transform(X)\n",
    "\n",
    "X_vec"
   ]
  },
  {
   "cell_type": "code",
   "execution_count": 45,
   "id": "c0930598",
   "metadata": {},
   "outputs": [],
   "source": [
    "from sklearn.naive_bayes import MultinomialNB\n",
    "from sklearn.model_selection import cross_validate"
   ]
  },
  {
   "cell_type": "code",
   "execution_count": 46,
   "id": "45c04621",
   "metadata": {},
   "outputs": [
    {
     "data": {
      "text/plain": [
       "{'fit_time': array([0.63479662, 0.68172216, 0.67638636, 0.65417361, 0.2937336 ]),\n",
       " 'score_time': array([0.25239944, 0.29599118, 0.25790548, 0.22481108, 0.09798074]),\n",
       " 'test_recall': array([0.03646308, 0.03883318, 0.07055606, 0.0071103 , 0.0189608 ]),\n",
       " 'test_precision': array([0.93896714, 0.93421053, 0.66267123, 0.66101695, 0.9122807 ]),\n",
       " 'test_accuracy': array([0.88490365, 0.88514262, 0.88496883, 0.88125394, 0.88288327]),\n",
       " 'test_f1': array([0.07020007, 0.07456678, 0.12753337, 0.01406926, 0.03714949])}"
      ]
     },
     "execution_count": 46,
     "metadata": {},
     "output_type": "execute_result"
    }
   ],
   "source": [
    "nb_model = MultinomialNB()\n",
    "\n",
    "cv_results2=cross_validate(nb_model,X_vec,y,cv=5,n_jobs=-1,scoring=['recall','precision','accuracy','f1'])\n",
    "\n",
    "cv_results2"
   ]
  },
  {
   "cell_type": "code",
   "execution_count": 47,
   "id": "6dc074fe",
   "metadata": {},
   "outputs": [
    {
     "data": {
      "text/plain": [
       "0.03438468550592525"
      ]
     },
     "execution_count": 47,
     "metadata": {},
     "output_type": "execute_result"
    }
   ],
   "source": [
    "cv_results2['test_recall'].mean()"
   ]
  },
  {
   "cell_type": "code",
   "execution_count": 16,
   "id": "1c995953",
   "metadata": {},
   "outputs": [
    {
     "data": {
      "text/plain": [
       "{'fit_time': array([0.25336051, 0.26385784, 0.25842166, 0.23927855, 0.15380788]),\n",
       " 'score_time': array([0.10784245, 0.09985018, 0.09324312, 0.09037399, 0.0540607 ]),\n",
       " 'test_recall': array([0.02837064, 0.02967205, 0.0252407 , 0.02941176, 0.03123373]),\n",
       " 'test_precision': array([0.94782609, 0.92682927, 0.93269231, 0.94957983, 0.93023256]),\n",
       " 'test_accuracy': array([0.88396127, 0.88402334, 0.88352678, 0.88408181, 0.88420595]),\n",
       " 'test_f1': array([0.05509224, 0.05750315, 0.04915125, 0.0570563 , 0.06043818])}"
      ]
     },
     "execution_count": 16,
     "metadata": {},
     "output_type": "execute_result"
    }
   ],
   "source": [
    "nb_model = MultinomialNB()\n",
    "\n",
    "cv_results=cross_validate(nb_model,X_train_vec,y_train,cv=5,n_jobs=-1,scoring=['recall','precision','accuracy','f1'])\n",
    "\n",
    "cv_results"
   ]
  },
  {
   "cell_type": "code",
   "execution_count": 17,
   "id": "e85e8aaa",
   "metadata": {},
   "outputs": [
    {
     "data": {
      "text/plain": [
       "0.02878577612194837"
      ]
     },
     "execution_count": 17,
     "metadata": {},
     "output_type": "execute_result"
    }
   ],
   "source": [
    "cv_results['test_recall'].mean()"
   ]
  },
  {
   "cell_type": "code",
   "execution_count": 18,
   "id": "e33ebcf7",
   "metadata": {},
   "outputs": [],
   "source": [
    "X_test_vec = tf_idf_vectorizer.transform(X_test)"
   ]
  },
  {
   "cell_type": "code",
   "execution_count": 19,
   "id": "6053c088",
   "metadata": {},
   "outputs": [
    {
     "data": {
      "image/png": "[encoded data removed]",
      "text/plain": [
       "<Figure size 432x288 with 2 Axes>"
      ]
     },
     "metadata": {
      "needs_background": "light"
     },
     "output_type": "display_data"
    }
   ],
   "source": [
    "from sklearn.metrics import ConfusionMatrixDisplay,confusion_matrix\n",
    "\n",
    "nb_model.fit(X_train_vec,y_train)\n",
    "y_pred = nb_model.predict(X_test_vec)\n",
    "cm = confusion_matrix(y_test, y_pred)\n",
    "disp = ConfusionMatrixDisplay(confusion_matrix=cm,display_labels=[0,1])\n",
    "disp.plot();\n"
   ]
  },
  {
   "cell_type": "code",
   "execution_count": 20,
   "id": "b5d9cc74",
   "metadata": {},
   "outputs": [],
   "source": [
    "y_pred_2=nb_model.predict_proba(X_test_vec)"
   ]
  },
  {
   "cell_type": "code",
   "execution_count": 21,
   "id": "30b5a26d",
   "metadata": {},
   "outputs": [],
   "source": [
    "import matplotlib.pyplot as plt"
   ]
  },
  {
   "cell_type": "code",
   "execution_count": 22,
   "id": "1486b1cd",
   "metadata": {},
   "outputs": [
    {
     "data": {
      "text/plain": [
       "(array([3.6189e+04, 1.5992e+04, 1.1770e+04, 1.6490e+03, 9.4900e+02,\n",
       "        6.3200e+02, 4.7900e+02, 3.6400e+02, 2.4700e+02, 1.7800e+02,\n",
       "        1.3700e+02, 9.5000e+01, 9.6000e+01, 7.8000e+01, 8.0000e+01,\n",
       "        4.1000e+01, 3.4000e+01, 2.6000e+01, 7.0000e+00, 4.0000e+00]),\n",
       " array([6.54452123e-08, 4.92840551e-02, 9.85680448e-02, 1.47852035e-01,\n",
       "        1.97136024e-01, 2.46420014e-01, 2.95704004e-01, 3.44987993e-01,\n",
       "        3.94271983e-01, 4.43555973e-01, 4.92839962e-01, 5.42123952e-01,\n",
       "        5.91407942e-01, 6.40691931e-01, 6.89975921e-01, 7.39259911e-01,\n",
       "        7.88543900e-01, 8.37827890e-01, 8.87111880e-01, 9.36395870e-01,\n",
       "        9.85679859e-01]),\n",
       " <BarContainer object of 20 artists>)"
      ]
     },
     "execution_count": 22,
     "metadata": {},
     "output_type": "execute_result"
    },
    {
     "data": {
      "image/png": "[encoded data removed]",
      "text/plain": [
       "<Figure size 432x288 with 1 Axes>"
      ]
     },
     "metadata": {
      "needs_background": "light"
     },
     "output_type": "display_data"
    }
   ],
   "source": [
    "plt.hist(y_pred_2[:,1],bins=20)"
   ]
  },
  {
   "cell_type": "code",
   "execution_count": 23,
   "id": "1258703e",
   "metadata": {},
   "outputs": [
    {
     "data": {
      "text/plain": [
       "array([0.11924299, 0.12342008, 0.02474363, 0.02420554, 0.11924299,\n",
       "       0.49253517, 0.1554804 , 0.00997891, 0.00489564, 0.00522377])"
      ]
     },
     "execution_count": 23,
     "metadata": {},
     "output_type": "execute_result"
    }
   ],
   "source": [
    "y_pred_2[:10,1]"
   ]
  },
  {
   "cell_type": "code",
   "execution_count": 24,
   "id": "7299df67",
   "metadata": {},
   "outputs": [
    {
     "data": {
      "text/plain": [
       "16573"
      ]
     },
     "execution_count": 24,
     "metadata": {},
     "output_type": "execute_result"
    }
   ],
   "source": [
    "sum(y_pred_2[:,1]>0.1)"
   ]
  },
  {
   "cell_type": "code",
   "execution_count": 25,
   "id": "332b9ff0",
   "metadata": {},
   "outputs": [
    {
     "data": {
      "text/plain": [
       "69047"
      ]
     },
     "execution_count": 25,
     "metadata": {},
     "output_type": "execute_result"
    }
   ],
   "source": [
    "y_test.size"
   ]
  },
  {
   "cell_type": "code",
   "execution_count": 26,
   "id": "9f3cd0dd",
   "metadata": {},
   "outputs": [],
   "source": [
    "y_pred_tresh=y_test[y_pred_2[:,1]>0.12]"
   ]
  },
  {
   "cell_type": "code",
   "execution_count": 27,
   "id": "df284e73",
   "metadata": {},
   "outputs": [
    {
     "data": {
      "text/plain": [
       "8527"
      ]
     },
     "execution_count": 27,
     "metadata": {},
     "output_type": "execute_result"
    }
   ],
   "source": [
    "y_pred_tresh.size"
   ]
  },
  {
   "cell_type": "code",
   "execution_count": 28,
   "id": "cdff28bb",
   "metadata": {},
   "outputs": [
    {
     "data": {
      "text/plain": [
       "3617.0"
      ]
     },
     "execution_count": 28,
     "metadata": {},
     "output_type": "execute_result"
    }
   ],
   "source": [
    "y_pred_tresh.sum()"
   ]
  },
  {
   "cell_type": "code",
   "execution_count": 29,
   "id": "3fbac138",
   "metadata": {},
   "outputs": [
    {
     "data": {
      "text/plain": [
       "570.0"
      ]
     },
     "execution_count": 29,
     "metadata": {},
     "output_type": "execute_result"
    }
   ],
   "source": [
    "y_pred.sum()"
   ]
  },
  {
   "cell_type": "code",
   "execution_count": 30,
   "id": "cfcaf1b5",
   "metadata": {},
   "outputs": [
    {
     "data": {
      "text/plain": [
       "<1x918012 sparse matrix of type '<class 'numpy.float64'>'\n",
       "\twith 0 stored elements in Compressed Sparse Row format>"
      ]
     },
     "execution_count": 30,
     "metadata": {},
     "output_type": "execute_result"
    }
   ],
   "source": [
    "X_test_vec[0]"
   ]
  },
  {
   "cell_type": "code",
   "execution_count": 31,
   "id": "3f638e1d",
   "metadata": {},
   "outputs": [
    {
     "data": {
      "text/plain": [
       "121310    1.0\n",
       "54562     0.0\n",
       "89821     0.0\n",
       "201556    0.0\n",
       "138652    0.0\n",
       "         ... \n",
       "59031     1.0\n",
       "214748    0.0\n",
       "39189     0.0\n",
       "176987    0.0\n",
       "12969     0.0\n",
       "Name: target, Length: 69047, dtype: float64"
      ]
     },
     "execution_count": 31,
     "metadata": {},
     "output_type": "execute_result"
    }
   ],
   "source": [
    "y_test"
   ]
  },
  {
   "cell_type": "code",
   "execution_count": 32,
   "id": "7919ea74",
   "metadata": {},
   "outputs": [
    {
     "data": {
      "text/plain": [
       "array([0.87657992, 0.12342008])"
      ]
     },
     "execution_count": 32,
     "metadata": {},
     "output_type": "execute_result"
    }
   ],
   "source": [
    "y_pred_2[1]"
   ]
  },
  {
   "cell_type": "code",
   "execution_count": 33,
   "id": "42532dbf",
   "metadata": {},
   "outputs": [
    {
     "data": {
      "text/plain": [
       "570.0"
      ]
     },
     "execution_count": 33,
     "metadata": {},
     "output_type": "execute_result"
    }
   ],
   "source": [
    "y_pred.sum()"
   ]
  },
  {
   "cell_type": "code",
   "execution_count": 34,
   "id": "3b4d6956",
   "metadata": {},
   "outputs": [
    {
     "data": {
      "text/plain": [
       "8214.0"
      ]
     },
     "execution_count": 34,
     "metadata": {},
     "output_type": "execute_result"
    }
   ],
   "source": [
    "y_test.sum()"
   ]
  },
  {
   "cell_type": "code",
   "execution_count": 35,
   "id": "dfbf64a3",
   "metadata": {},
   "outputs": [],
   "source": [
    "import numpy as np"
   ]
  },
  {
   "cell_type": "code",
   "execution_count": 36,
   "id": "9e04080e",
   "metadata": {},
   "outputs": [],
   "source": [
    "def conf_mx_metrics(cm):\n",
    "    TN = cm[0][0]\n",
    "    TP = cm[1][1]\n",
    "    FN = cm[1][0]\n",
    "    FP = cm[0][1]\n",
    "    \n",
    "    recall = np.round_(TP/(TP+FN),3)\n",
    "    precision = np.round_(TP/(TP+FP),3)\n",
    "    accuracy = np.round_((TP+TN)/(TP+TN+FP+FN),3)\n",
    "    \n",
    "    print(f\"Recall: {recall}\")\n",
    "    print(f\"Precision: {precision}\")\n",
    "    print(f\"Accuracy: {accuracy}\")\n"
   ]
  },
  {
   "cell_type": "code",
   "execution_count": 37,
   "id": "5ee381f9",
   "metadata": {},
   "outputs": [
    {
     "name": "stdout",
     "output_type": "stream",
     "text": [
      "Recall: 0.065\n",
      "Precision: 0.933\n",
      "Accuracy: 0.888\n"
     ]
    }
   ],
   "source": [
    "conf_mx_metrics(cm)"
   ]
  },
  {
   "cell_type": "markdown",
   "id": "bfc8da35",
   "metadata": {},
   "source": [
    "##  Parameters Grid Search"
   ]
  },
  {
   "cell_type": "code",
   "execution_count": 113,
   "id": "e48e5178",
   "metadata": {},
   "outputs": [],
   "source": [
    "import sklearn"
   ]
  },
  {
   "cell_type": "code",
   "execution_count": 114,
   "id": "777ae653",
   "metadata": {},
   "outputs": [
    {
     "data": {
      "text/plain": [
       "dict_keys(['explained_variance', 'r2', 'max_error', 'neg_median_absolute_error', 'neg_mean_absolute_error', 'neg_mean_squared_error', 'neg_mean_squared_log_error', 'neg_root_mean_squared_error', 'neg_mean_poisson_deviance', 'neg_mean_gamma_deviance', 'accuracy', 'roc_auc', 'roc_auc_ovr', 'roc_auc_ovo', 'roc_auc_ovr_weighted', 'roc_auc_ovo_weighted', 'balanced_accuracy', 'average_precision', 'neg_log_loss', 'neg_brier_score', 'adjusted_rand_score', 'homogeneity_score', 'completeness_score', 'v_measure_score', 'mutual_info_score', 'adjusted_mutual_info_score', 'normalized_mutual_info_score', 'fowlkes_mallows_score', 'precision', 'precision_macro', 'precision_micro', 'precision_samples', 'precision_weighted', 'recall', 'recall_macro', 'recall_micro', 'recall_samples', 'recall_weighted', 'f1', 'f1_macro', 'f1_micro', 'f1_samples', 'f1_weighted', 'jaccard', 'jaccard_macro', 'jaccard_micro', 'jaccard_samples', 'jaccard_weighted'])"
      ]
     },
     "execution_count": 114,
     "metadata": {},
     "output_type": "execute_result"
    }
   ],
   "source": [
    "sklearn.metrics.SCORERS.keys()"
   ]
  },
  {
   "cell_type": "code",
   "execution_count": 115,
   "id": "51bdea3c",
   "metadata": {
    "scrolled": true
   },
   "outputs": [
    {
     "name": "stdout",
     "output_type": "stream",
     "text": [
      "Fitting 5 folds for each of 12 candidates, totalling 60 fits\n"
     ]
    },
    {
     "name": "stderr",
     "output_type": "stream",
     "text": [
      "[Parallel(n_jobs=-1)]: Using backend LokyBackend with 4 concurrent workers.\n",
      "[Parallel(n_jobs=-1)]: Done  42 tasks      | elapsed:  2.3min\n",
      "[Parallel(n_jobs=-1)]: Done  60 out of  60 | elapsed:  3.7min finished\n"
     ]
    },
    {
     "data": {
      "text/plain": [
       "GridSearchCV(cv=5, error_score=nan,\n",
       "             estimator=Pipeline(memory=None,\n",
       "                                steps=[('tfidf',\n",
       "                                        TfidfVectorizer(analyzer='word',\n",
       "                                                        binary=False,\n",
       "                                                        decode_error='strict',\n",
       "                                                        dtype=<class 'numpy.float64'>,\n",
       "                                                        encoding='utf-8',\n",
       "                                                        input='content',\n",
       "                                                        lowercase=True,\n",
       "                                                        max_df=1.0,\n",
       "                                                        max_features=None,\n",
       "                                                        min_df=1,\n",
       "                                                        ngram_range=(1, 1),\n",
       "                                                        norm='l2',\n",
       "                                                        preprocessor=None,\n",
       "                                                        smooth_idf=True,\n",
       "                                                        stop_words=None,\n",
       "                                                        strip_acc...\n",
       "                                                        token_pattern='(?u)\\\\b\\\\w\\\\w+\\\\b',\n",
       "                                                        tokenizer=None,\n",
       "                                                        use_idf=True,\n",
       "                                                        vocabulary=None)),\n",
       "                                       ('nb',\n",
       "                                        MultinomialNB(alpha=1.0,\n",
       "                                                      class_prior=None,\n",
       "                                                      fit_prior=True))],\n",
       "                                verbose=False),\n",
       "             iid='deprecated', n_jobs=-1,\n",
       "             param_grid={'nb__alpha': (0.1, 1), 'tfidf__min_df': (1, 5, 10),\n",
       "                         'tfidf__ngram_range': ((1, 1), (2, 2))},\n",
       "             pre_dispatch='2*n_jobs', refit=True, return_train_score=False,\n",
       "             scoring='f1', verbose=1)"
      ]
     },
     "execution_count": 115,
     "metadata": {},
     "output_type": "execute_result"
    }
   ],
   "source": [
    "from sklearn.feature_extraction.text import TfidfVectorizer\n",
    "from sklearn.model_selection import GridSearchCV\n",
    "from sklearn.pipeline import Pipeline\n",
    "\n",
    "# Create Pipeline\n",
    "pipeline = Pipeline([\n",
    "    ('tfidf', TfidfVectorizer()),\n",
    "    ('nb', MultinomialNB()),\n",
    "])\n",
    "\n",
    "# Set parameters to search\n",
    "parameters = {\n",
    "    'tfidf__ngram_range': ((1,1), (2,2)),'tfidf__min_df': (1, 5, 10),\n",
    "    'nb__alpha': (0.1,1),}\n",
    "\n",
    "# Perform grid search\n",
    "grid_search = GridSearchCV(pipeline, parameters, n_jobs=-1, \n",
    "                           verbose=1, scoring = \"f1\", cv=5)\n",
    "\n",
    "grid_search.fit(X_train,y_train)"
   ]
  },
  {
   "cell_type": "code",
   "execution_count": 127,
   "id": "655b333e",
   "metadata": {},
   "outputs": [],
   "source": [
    "model=grid_search.best_estimator_\n"
   ]
  },
  {
   "cell_type": "code",
   "execution_count": 128,
   "id": "24594c09",
   "metadata": {},
   "outputs": [
    {
     "data": {
      "text/plain": [
       "{'nb__alpha': 0.1, 'tfidf__min_df': 5, 'tfidf__ngram_range': (1, 1)}"
      ]
     },
     "execution_count": 128,
     "metadata": {},
     "output_type": "execute_result"
    }
   ],
   "source": [
    "params=grid_search.best_params_\n",
    "params"
   ]
  },
  {
   "cell_type": "code",
   "execution_count": 129,
   "id": "1146ec1e",
   "metadata": {},
   "outputs": [
    {
     "data": {
      "image/png": "[encoded data removed]",
      "text/plain": [
       "<Figure size 432x288 with 2 Axes>"
      ]
     },
     "metadata": {
      "needs_background": "light"
     },
     "output_type": "display_data"
    }
   ],
   "source": [
    "y_pred = model.predict(X_test)\n",
    "cm = confusion_matrix(y_test, y_pred)\n",
    "disp = ConfusionMatrixDisplay(confusion_matrix=cm,display_labels=[0,1])\n",
    "disp.plot();\n"
   ]
  },
  {
   "cell_type": "code",
   "execution_count": 130,
   "id": "39f10382",
   "metadata": {},
   "outputs": [
    {
     "name": "stdout",
     "output_type": "stream",
     "text": [
      "Recall: 0.424\n",
      "Precision: 0.767\n",
      "Accuracy: 0.916\n"
     ]
    }
   ],
   "source": [
    "conf_mx_metrics(cm)"
   ]
  },
  {
   "cell_type": "markdown",
   "id": "71c3ce7a",
   "metadata": {},
   "source": [
    "## Modifying the threshold"
   ]
  },
  {
   "cell_type": "code",
   "execution_count": 120,
   "id": "c939bd5e",
   "metadata": {},
   "outputs": [],
   "source": [
    "def threshold_modifier(model,xtest,threshold):\n",
    "    ypred=model.predict_proba(xtest)[:,1]>threshold\n",
    "    ypred=ypred.astype(int)\n",
    "    return ypred"
   ]
  },
  {
   "cell_type": "code",
   "execution_count": 121,
   "id": "81f31537",
   "metadata": {},
   "outputs": [],
   "source": [
    "ypred3=threshold_modifier(model,X_test,0.4)"
   ]
  },
  {
   "cell_type": "code",
   "execution_count": 122,
   "id": "209a5f75",
   "metadata": {},
   "outputs": [
    {
     "data": {
      "image/png": "[encoded data removed]",
      "text/plain": [
       "<Figure size 432x288 with 2 Axes>"
      ]
     },
     "metadata": {
      "needs_background": "light"
     },
     "output_type": "display_data"
    }
   ],
   "source": [
    "y_pred = ypred3\n",
    "cm = confusion_matrix(y_test, y_pred)\n",
    "disp = ConfusionMatrixDisplay(confusion_matrix=cm,display_labels=[0,1])\n",
    "disp.plot();"
   ]
  },
  {
   "cell_type": "code",
   "execution_count": 123,
   "id": "83e69d43",
   "metadata": {},
   "outputs": [
    {
     "name": "stdout",
     "output_type": "stream",
     "text": [
      "Recall: 0.504\n",
      "Precision: 0.711\n",
      "Accuracy: 0.917\n"
     ]
    }
   ],
   "source": [
    "conf_mx_metrics(cm)"
   ]
  },
  {
   "cell_type": "code",
   "execution_count": 124,
   "id": "e6cf2a04",
   "metadata": {},
   "outputs": [],
   "source": [
    "def conf_mx_metrics2(cm):\n",
    "    TN = cm[0][0]\n",
    "    TP = cm[1][1]\n",
    "    FN = cm[1][0]\n",
    "    FP = cm[0][1]\n",
    "    \n",
    "    recall = np.round_(TP/(TP+FN),3)\n",
    "    precision = np.round_(TP/(TP+FP),3)\n",
    "    accuracy = np.round_((TP+TN)/(TP+TN+FP+FN),3)\n",
    "    F1=(2*precision*recall)/(precision+recall)\n",
    "    \n",
    "    return recall, precision, accuracy, F1\n"
   ]
  },
  {
   "cell_type": "code",
   "execution_count": 125,
   "id": "d1936efb",
   "metadata": {},
   "outputs": [],
   "source": [
    "def best_threshold(thresholds_list,model,x_test,y_test):\n",
    "    recalls=[]\n",
    "    accuracies=[]\n",
    "    precisions=[]\n",
    "    F1_scores=[]\n",
    "    for threshold in thresholds:\n",
    "        y_pred=threshold_modifier(model,x_test,threshold)\n",
    "        cm = confusion_matrix(y_test, y_pred)\n",
    "        recall, precision, accuracy,F1_score=conf_mx_metrics2(cm)\n",
    "        recalls.append(recall)\n",
    "        accuracies.append(accuracy)\n",
    "        precisions.append(precision)\n",
    "        F1_scores.append(F1_score)     \n",
    "\n",
    "    metrics={'thresholds': thresholds,'recall':recalls, 'accuracy': accuracies, 'precision':precisions,'F1_score':F1_scores}\n",
    "    return metrics    "
   ]
  },
  {
   "cell_type": "code",
   "execution_count": 126,
   "id": "d8487157",
   "metadata": {},
   "outputs": [
    {
     "data": {
      "text/plain": [
       "{'thresholds': [0.2, 0.25, 0.3, 0.35, 0.5],\n",
       " 'recall': [0.698, 0.639, 0.591, 0.545, 0.424],\n",
       " 'accuracy': [0.897, 0.907, 0.912, 0.915, 0.916],\n",
       " 'precision': [0.552, 0.601, 0.643, 0.679, 0.767],\n",
       " 'F1_score': [0.6164736000000001,\n",
       "  0.6194177419354839,\n",
       "  0.615904376012966,\n",
       "  0.6046650326797386,\n",
       "  0.5461091519731318]}"
      ]
     },
     "execution_count": 126,
     "metadata": {},
     "output_type": "execute_result"
    }
   ],
   "source": [
    "thresholds=[0.2,0.25,0.3,0.35,0.5]\n",
    "best_threshold(thresholds,model,X_test,y_test)"
   ]
  },
  {
   "cell_type": "code",
   "execution_count": null,
   "id": "e5caffa4",
   "metadata": {},
   "outputs": [],
   "source": []
  }
 ],
 "metadata": {
  "kernelspec": {
   "display_name": "Python 3 (ipykernel)",
   "language": "python",
   "name": "python3"
  },
  "language_info": {
   "codemirror_mode": {
    "name": "ipython",
    "version": 3
   },
   "file_extension": ".py",
   "mimetype": "text/x-python",
   "name": "python",
   "nbconvert_exporter": "python",
   "pygments_lexer": "ipython3",
   "version": "3.8.12"
  },
  "toc": {
   "base_numbering": 1,
   "nav_menu": {},
   "number_sections": true,
   "sideBar": true,
   "skip_h1_title": false,
   "title_cell": "Table of Contents",
   "title_sidebar": "Contents",
   "toc_cell": false,
   "toc_position": {},
   "toc_section_display": true,
   "toc_window_display": true
  }
 },
 "nbformat": 4,
 "nbformat_minor": 5
}
