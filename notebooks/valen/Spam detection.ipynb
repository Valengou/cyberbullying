{
 "cells": [
  {
   "cell_type": "code",
   "execution_count": 1,
   "id": "90b432b0",
   "metadata": {},
   "outputs": [
    {
     "data": {
      "text/html": [
       "<div>\n",
       "<style scoped>\n",
       "    .dataframe tbody tr th:only-of-type {\n",
       "        vertical-align: middle;\n",
       "    }\n",
       "\n",
       "    .dataframe tbody tr th {\n",
       "        vertical-align: top;\n",
       "    }\n",
       "\n",
       "    .dataframe thead th {\n",
       "        text-align: right;\n",
       "    }\n",
       "</style>\n",
       "<table border=\"1\" class=\"dataframe\">\n",
       "  <thead>\n",
       "    <tr style=\"text-align: right;\">\n",
       "      <th></th>\n",
       "      <th>text</th>\n",
       "      <th>target</th>\n",
       "    </tr>\n",
       "  </thead>\n",
       "  <tbody>\n",
       "    <tr>\n",
       "      <th>0</th>\n",
       "      <td>this one can make an analogy in mathematical t...</td>\n",
       "      <td>0</td>\n",
       "    </tr>\n",
       "    <tr>\n",
       "      <th>1</th>\n",
       "      <td>clarification for you  and zundarks right i ...</td>\n",
       "      <td>0</td>\n",
       "    </tr>\n",
       "    <tr>\n",
       "      <th>2</th>\n",
       "      <td>elected or electoral jhk</td>\n",
       "      <td>0</td>\n",
       "    </tr>\n",
       "    <tr>\n",
       "      <th>3</th>\n",
       "      <td>this is such a fun entry   devotchka  i once h...</td>\n",
       "      <td>0</td>\n",
       "    </tr>\n",
       "    <tr>\n",
       "      <th>4</th>\n",
       "      <td>please relate the ozone hole to increases in c...</td>\n",
       "      <td>0</td>\n",
       "    </tr>\n",
       "  </tbody>\n",
       "</table>\n",
       "</div>"
      ],
      "text/plain": [
       "                                                text  target\n",
       "0  this one can make an analogy in mathematical t...       0\n",
       "1    clarification for you  and zundarks right i ...       0\n",
       "2                           elected or electoral jhk       0\n",
       "3  this is such a fun entry   devotchka  i once h...       0\n",
       "4  please relate the ozone hole to increases in c...       0"
      ]
     },
     "execution_count": 1,
     "metadata": {},
     "output_type": "execute_result"
    }
   ],
   "source": [
    "import pandas as pd\n",
    "data = pd.read_csv('../../cyberbullying/data/data.csv')\n",
    "data.head()"
   ]
  },
  {
   "cell_type": "code",
   "execution_count": 2,
   "id": "f34c5f6c",
   "metadata": {},
   "outputs": [
    {
     "data": {
      "text/plain": [
       "'boobs boobs djsaldjakl boobs boobs djskladj'"
      ]
     },
     "execution_count": 2,
     "metadata": {},
     "output_type": "execute_result"
    }
   ],
   "source": [
    "from nltk.tokenize import word_tokenize\n",
    "\n",
    "s = 'boobs boobs boobs boobs boobs boobs djsaldjakl boobs boobs djskladj'\n",
    "text=word_tokenize(s)\n",
    "for index, word in enumerate(text):\n",
    "    if index<(len(text)-3):\n",
    "        if text[index]==text[index+1] and text[index]==text[index+2]:\n",
    "            text[index+1]=''\n",
    "            text[index+2]=''\n",
    "    s=' '.join(w for w in text if w != '')\n",
    "s"
   ]
  },
  {
   "cell_type": "code",
   "execution_count": 3,
   "id": "c5d325e7",
   "metadata": {},
   "outputs": [
    {
     "data": {
      "text/plain": [
       "['boobs', 'boobs', 'djsaldjakl', 'boobs', 'boobs', 'djskladj']"
      ]
     },
     "execution_count": 3,
     "metadata": {},
     "output_type": "execute_result"
    }
   ],
   "source": [
    "text=word_tokenize(s)\n",
    "text"
   ]
  },
  {
   "cell_type": "code",
   "execution_count": 58,
   "id": "dfc66f16",
   "metadata": {},
   "outputs": [],
   "source": [
    "def simple_spam(s):\n",
    "    text=word_tokenize(s)\n",
    "    for index in range(len(text)-1):    \n",
    "        if text[index]==text[index+1]:\n",
    "            text[index]=''\n",
    "        s=' '.join(w for w in text if w != '')\n",
    "    return s"
   ]
  },
  {
   "cell_type": "code",
   "execution_count": 59,
   "id": "445f49e0",
   "metadata": {},
   "outputs": [
    {
     "data": {
      "text/plain": [
       "'boobs djsaldjakl boobs djskladj'"
      ]
     },
     "execution_count": 59,
     "metadata": {},
     "output_type": "execute_result"
    }
   ],
   "source": [
    "s = 'boobs boobs boobs boobs boobs boobs djsaldjakl boobs boobs djskladj'\n",
    "\n",
    "simple_spam(s)"
   ]
  },
  {
   "cell_type": "code",
   "execution_count": 60,
   "id": "b41cb56c",
   "metadata": {},
   "outputs": [],
   "source": [
    "def double_spam(s):\n",
    "    text=word_tokenize(s)\n",
    "    for index in range(len(text)-3):    \n",
    "        if text[index]+' '+text[index+1]==text[index+2]+' '+text[index+3]:\n",
    "            text[index]=''\n",
    "            text[index+1]=''\n",
    "        s=' '.join(w for w in text if w != '').strip()\n",
    "    return s"
   ]
  },
  {
   "cell_type": "code",
   "execution_count": 2,
   "id": "b20aa31e",
   "metadata": {},
   "outputs": [],
   "source": [
    "import re"
   ]
  },
  {
   "cell_type": "code",
   "execution_count": 14,
   "id": "1ca4ed1a",
   "metadata": {},
   "outputs": [],
   "source": [
    "def remove_duplicated_words(text):\n",
    "    regex = r'\\b(\\w+)(?:\\W+\\1\\b)+' \n",
    "    regex2 = r'\\b(\\w+.{1,2})(?:b\\W+\\1.{1,2})+' \n",
    "    #re.sub(r'((\\b\\w+\\b.{1,2}\\w+\\b)+).+\\1', r'\\1', s, flags = re.I)\n",
    "\n",
    "    return re.sub(regex2, r'\\1', text, flags=re.IGNORECASE)\n"
   ]
  },
  {
   "cell_type": "code",
   "execution_count": 16,
   "id": "f205e1b3",
   "metadata": {},
   "outputs": [
    {
     "data": {
      "text/plain": [
       "'fuck you fuck you fuck you bobs bobs bobs bobs bobs djsaldjakl bobs bobs fuck you fuck you djskladj fuck you fuck you fuck you'"
      ]
     },
     "execution_count": 16,
     "metadata": {},
     "output_type": "execute_result"
    }
   ],
   "source": [
    "import re\n",
    "s = 'fuck you fuck you fuck you boobssss boobssssss boobs boobs boobs djsaldjakl boobs boobs fuck you fuck you djskladj fuck you fuck you fuck you'\n",
    "re.sub(r'([a-z])\\1+', r'\\1', s)"
   ]
  },
  {
   "cell_type": "code",
   "execution_count": 18,
   "id": "38c65f8f",
   "metadata": {},
   "outputs": [
    {
     "name": "stdout",
     "output_type": "stream",
     "text": [
      "Collecting textblob\n",
      "  Downloading textblob-0.17.1-py2.py3-none-any.whl (636 kB)\n",
      "\u001b[2K     \u001b[90m━━━━━━━━━━━━━━━━━━━━━━━━━━━━━━━━━━━━━━━\u001b[0m \u001b[32m636.8/636.8 KB\u001b[0m \u001b[31m1.2 MB/s\u001b[0m eta \u001b[36m0:00:00\u001b[0m00:01\u001b[0m00:01\u001b[0m\n",
      "\u001b[?25hRequirement already satisfied: nltk>=3.1 in /home/valengou/.pyenv/versions/3.8.12/envs/lewagon/lib/python3.8/site-packages (from textblob) (3.6.7)\n",
      "Requirement already satisfied: tqdm in /home/valengou/.pyenv/versions/3.8.12/envs/lewagon/lib/python3.8/site-packages (from nltk>=3.1->textblob) (4.62.3)\n",
      "Requirement already satisfied: regex>=2021.8.3 in /home/valengou/.pyenv/versions/3.8.12/envs/lewagon/lib/python3.8/site-packages (from nltk>=3.1->textblob) (2021.11.10)\n",
      "Requirement already satisfied: click in /home/valengou/.pyenv/versions/3.8.12/envs/lewagon/lib/python3.8/site-packages (from nltk>=3.1->textblob) (8.0.3)\n",
      "Requirement already satisfied: joblib in /home/valengou/.pyenv/versions/3.8.12/envs/lewagon/lib/python3.8/site-packages (from nltk>=3.1->textblob) (1.0.1)\n",
      "Installing collected packages: textblob\n",
      "Successfully installed textblob-0.17.1\n"
     ]
    }
   ],
   "source": [
    "!pip install textblob"
   ]
  },
  {
   "cell_type": "code",
   "execution_count": 19,
   "id": "9cbaa901",
   "metadata": {},
   "outputs": [],
   "source": [
    "from textblob import TextBlob \n",
    "from textblob import Word\n"
   ]
  },
  {
   "cell_type": "code",
   "execution_count": 23,
   "id": "01164240",
   "metadata": {},
   "outputs": [],
   "source": [
    "import pandas as pd"
   ]
  },
  {
   "cell_type": "code",
   "execution_count": 32,
   "id": "9554056e",
   "metadata": {},
   "outputs": [
    {
     "data": {
      "text/plain": [
       "TextBlob(\"fuck you fuck you hello fuck you boots booooooobs boots boots boots djsaldjakl boots boots fuck you fuck you djskladj fuck you fuck you fuck you\")"
      ]
     },
     "execution_count": 32,
     "metadata": {},
     "output_type": "execute_result"
    }
   ],
   "source": [
    "s ='fuck you fuckk you helloo fuck you booobs booooooobs boobs boobs boobs djsaldjakl boobs boobs fuck you fuck you djskladj fuck you fuck you fuck you'\n",
    "s2 = TextBlob(s)\n",
    "s2.correct()\n"
   ]
  },
  {
   "cell_type": "code",
   "execution_count": 15,
   "id": "4108a6c4",
   "metadata": {},
   "outputs": [
    {
     "data": {
      "text/plain": [
       "'fuck you fuck you fuck you boobs boobs boobs boobs boobs djsaldjakl boobs boobs fuck you fuck you djskladj fuck you fuck you fuck you'"
      ]
     },
     "execution_count": 15,
     "metadata": {},
     "output_type": "execute_result"
    }
   ],
   "source": [
    "s = 'fuck you fuck you fuck you boobs boobs boobs boobs boobs djsaldjakl boobs boobs fuck you fuck you djskladj fuck you fuck you fuck you'\n",
    "remove_duplicated_words(s)"
   ]
  },
  {
   "cell_type": "code",
   "execution_count": 61,
   "id": "f770a4f1",
   "metadata": {},
   "outputs": [
    {
     "data": {
      "text/plain": [
       "'fuck you boobs boobs boobs djsaldjakl boobs boobs fuck you djskladj fuck you'"
      ]
     },
     "execution_count": 61,
     "metadata": {},
     "output_type": "execute_result"
    }
   ],
   "source": [
    "s = 'fuck you fuck you fuck you boobs boobs boobs boobs boobs djsaldjakl boobs boobs fuck you fuck you djskladj fuck you fuck you fuck you'\n",
    "double_spam(s)"
   ]
  },
  {
   "cell_type": "code",
   "execution_count": 62,
   "id": "b40e05d7",
   "metadata": {},
   "outputs": [],
   "source": [
    "s = 'fuck you fuck you fuck you boobs boobs boobs boobs boobs djsaldjakl boobs boobs fuck you fuck you djskladj fuck you fuck you fuck you'\n",
    "s2 = 'hate you hate you hate you fuck you fuck you boobs boobs boobs boobs boobs'\n",
    "data2 = [[s,1],[s2,0]]\n",
    "df = pd.DataFrame(data2,columns=['text','num'])\n"
   ]
  },
  {
   "cell_type": "code",
   "execution_count": 63,
   "id": "04612140",
   "metadata": {},
   "outputs": [],
   "source": [
    "df['text']=df['text'].apply(simple_spam)"
   ]
  },
  {
   "cell_type": "code",
   "execution_count": 64,
   "id": "bcd8d4ce",
   "metadata": {},
   "outputs": [],
   "source": [
    "df['text']=df['text'].apply(double_spam)"
   ]
  },
  {
   "cell_type": "code",
   "execution_count": 65,
   "id": "83e93aa2",
   "metadata": {},
   "outputs": [
    {
     "data": {
      "text/html": [
       "<div>\n",
       "<style scoped>\n",
       "    .dataframe tbody tr th:only-of-type {\n",
       "        vertical-align: middle;\n",
       "    }\n",
       "\n",
       "    .dataframe tbody tr th {\n",
       "        vertical-align: top;\n",
       "    }\n",
       "\n",
       "    .dataframe thead th {\n",
       "        text-align: right;\n",
       "    }\n",
       "</style>\n",
       "<table border=\"1\" class=\"dataframe\">\n",
       "  <thead>\n",
       "    <tr style=\"text-align: right;\">\n",
       "      <th></th>\n",
       "      <th>text</th>\n",
       "      <th>num</th>\n",
       "    </tr>\n",
       "  </thead>\n",
       "  <tbody>\n",
       "    <tr>\n",
       "      <th>0</th>\n",
       "      <td>fuck you boobs djsaldjakl boobs fuck you djskl...</td>\n",
       "      <td>1</td>\n",
       "    </tr>\n",
       "    <tr>\n",
       "      <th>1</th>\n",
       "      <td>hate you fuck you boobs</td>\n",
       "      <td>0</td>\n",
       "    </tr>\n",
       "  </tbody>\n",
       "</table>\n",
       "</div>"
      ],
      "text/plain": [
       "                                                text  num\n",
       "0  fuck you boobs djsaldjakl boobs fuck you djskl...    1\n",
       "1                            hate you fuck you boobs    0"
      ]
     },
     "execution_count": 65,
     "metadata": {},
     "output_type": "execute_result"
    }
   ],
   "source": [
    "df"
   ]
  },
  {
   "cell_type": "code",
   "execution_count": 48,
   "id": "44346741",
   "metadata": {},
   "outputs": [
    {
     "data": {
      "text/plain": [
       "158883"
      ]
     },
     "execution_count": 48,
     "metadata": {},
     "output_type": "execute_result"
    }
   ],
   "source": [
    "data['text'].size"
   ]
  },
  {
   "cell_type": "code",
   "execution_count": null,
   "id": "ddd42d66",
   "metadata": {},
   "outputs": [],
   "source": [
    "data['text'][0]"
   ]
  },
  {
   "cell_type": "code",
   "execution_count": null,
   "id": "e52c46ae",
   "metadata": {},
   "outputs": [],
   "source": [
    "spam_detector(data[:2])"
   ]
  },
  {
   "cell_type": "code",
   "execution_count": null,
   "id": "a2892b25",
   "metadata": {},
   "outputs": [],
   "source": []
  }
 ],
 "metadata": {
  "kernelspec": {
   "display_name": "Python 3 (ipykernel)",
   "language": "python",
   "name": "python3"
  },
  "language_info": {
   "codemirror_mode": {
    "name": "ipython",
    "version": 3
   },
   "file_extension": ".py",
   "mimetype": "text/x-python",
   "name": "python",
   "nbconvert_exporter": "python",
   "pygments_lexer": "ipython3",
   "version": "3.8.12"
  },
  "toc": {
   "base_numbering": 1,
   "nav_menu": {},
   "number_sections": true,
   "sideBar": true,
   "skip_h1_title": false,
   "title_cell": "Table of Contents",
   "title_sidebar": "Contents",
   "toc_cell": false,
   "toc_position": {},
   "toc_section_display": true,
   "toc_window_display": false
  }
 },
 "nbformat": 4,
 "nbformat_minor": 5
}
