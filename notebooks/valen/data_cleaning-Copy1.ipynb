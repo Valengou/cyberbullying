{
 "cells": [
  {
   "cell_type": "code",
   "execution_count": 1,
   "id": "fe35a73a",
   "metadata": {},
   "outputs": [],
   "source": [
    "import numpy as np\n",
    "import pandas as pd\n",
    "import matplotlib.pyplot as plt\n",
    "import os\n",
    "\n",
    "import re\n",
    "from nltk.corpus import stopwords\n",
    "from nltk.tokenize import word_tokenize\n",
    "from nltk.stem import WordNetLemmatizer"
   ]
  },
  {
   "cell_type": "code",
   "execution_count": 2,
   "id": "769cf999",
   "metadata": {},
   "outputs": [
    {
     "data": {
      "text/plain": [
       "'/home/valengou/code/juanpedrobesenyi/cyberbullying/notebooks/valen'"
      ]
     },
     "execution_count": 2,
     "metadata": {},
     "output_type": "execute_result"
    }
   ],
   "source": [
    "#path_data = os.path.dirname(__file__) # no funciona en jupyter\n",
    "path_data = os.path.abspath('')\n",
    "path_data"
   ]
  },
  {
   "cell_type": "code",
   "execution_count": 3,
   "id": "44c63c8d",
   "metadata": {},
   "outputs": [
    {
     "data": {
      "text/plain": [
       "'/home/valengou/code/juanpedrobesenyi/cyberbullying/notebooks/valen/../../raw_data/'"
      ]
     },
     "execution_count": 3,
     "metadata": {},
     "output_type": "execute_result"
    }
   ],
   "source": [
    "path_raw_data = os.path.join(path_data, '../../raw_data/')\n",
    "path_raw_data"
   ]
  },
  {
   "cell_type": "code",
   "execution_count": 4,
   "id": "a6df5847",
   "metadata": {},
   "outputs": [
    {
     "data": {
      "text/plain": [
       "['toxicity_parsed_dataset.csv',\n",
       " 'aggression_parsed_dataset.csv',\n",
       " 'cyberbullying_tweets.csv',\n",
       " 'twitter_parsed_dataset.csv',\n",
       " 'twitter_racism_parsed_dataset.csv',\n",
       " 'twitter_sexism_parsed_dataset.csv',\n",
       " 'youtube_parsed_dataset.csv',\n",
       " 'kaggle_parsed_dataset.csv']"
      ]
     },
     "execution_count": 4,
     "metadata": {},
     "output_type": "execute_result"
    }
   ],
   "source": [
    "file_names = os.listdir(path=path_raw_data)\n",
    "files = [file for file in file_names if file.endswith('.csv')]\n",
    "files"
   ]
  },
  {
   "cell_type": "code",
   "execution_count": 5,
   "id": "76ac9fe7",
   "metadata": {},
   "outputs": [
    {
     "data": {
      "text/plain": [
       "{'toxicity': 'toxicity_parsed_dataset.csv',\n",
       " 'aggression': 'aggression_parsed_dataset.csv',\n",
       " 'cyberbullying_tweets': 'cyberbullying_tweets.csv',\n",
       " 'twitter': 'twitter_parsed_dataset.csv',\n",
       " 'twitter_racism': 'twitter_racism_parsed_dataset.csv',\n",
       " 'twitter_sexism': 'twitter_sexism_parsed_dataset.csv',\n",
       " 'youtube': 'youtube_parsed_dataset.csv',\n",
       " 'kaggle': 'kaggle_parsed_dataset.csv'}"
      ]
     },
     "execution_count": 5,
     "metadata": {},
     "output_type": "execute_result"
    }
   ],
   "source": [
    "files = {file.replace('_parsed', '').replace('_dataset','').replace('.csv',''): file for file in file_names if file.endswith('.csv')}\n",
    "files"
   ]
  },
  {
   "cell_type": "code",
   "execution_count": 6,
   "id": "f6279514",
   "metadata": {},
   "outputs": [
    {
     "data": {
      "text/html": [
       "<div>\n",
       "<style scoped>\n",
       "    .dataframe tbody tr th:only-of-type {\n",
       "        vertical-align: middle;\n",
       "    }\n",
       "\n",
       "    .dataframe tbody tr th {\n",
       "        vertical-align: top;\n",
       "    }\n",
       "\n",
       "    .dataframe thead th {\n",
       "        text-align: right;\n",
       "    }\n",
       "</style>\n",
       "<table border=\"1\" class=\"dataframe\">\n",
       "  <thead>\n",
       "    <tr style=\"text-align: right;\">\n",
       "      <th></th>\n",
       "      <th>tweet_text</th>\n",
       "      <th>cyberbullying_type</th>\n",
       "    </tr>\n",
       "  </thead>\n",
       "  <tbody>\n",
       "    <tr>\n",
       "      <th>0</th>\n",
       "      <td>In other words #katandandre, your food was cra...</td>\n",
       "      <td>not_cyberbullying</td>\n",
       "    </tr>\n",
       "    <tr>\n",
       "      <th>1</th>\n",
       "      <td>Why is #aussietv so white? #MKR #theblock #ImA...</td>\n",
       "      <td>not_cyberbullying</td>\n",
       "    </tr>\n",
       "    <tr>\n",
       "      <th>2</th>\n",
       "      <td>@XochitlSuckkks a classy whore? Or more red ve...</td>\n",
       "      <td>not_cyberbullying</td>\n",
       "    </tr>\n",
       "    <tr>\n",
       "      <th>3</th>\n",
       "      <td>@Jason_Gio meh. :P  thanks for the heads up, b...</td>\n",
       "      <td>not_cyberbullying</td>\n",
       "    </tr>\n",
       "    <tr>\n",
       "      <th>4</th>\n",
       "      <td>@RudhoeEnglish This is an ISIS account pretend...</td>\n",
       "      <td>not_cyberbullying</td>\n",
       "    </tr>\n",
       "    <tr>\n",
       "      <th>...</th>\n",
       "      <td>...</td>\n",
       "      <td>...</td>\n",
       "    </tr>\n",
       "    <tr>\n",
       "      <th>47687</th>\n",
       "      <td>Black ppl aren't expected to do anything, depe...</td>\n",
       "      <td>ethnicity</td>\n",
       "    </tr>\n",
       "    <tr>\n",
       "      <th>47688</th>\n",
       "      <td>Turner did not withhold his disappointment. Tu...</td>\n",
       "      <td>ethnicity</td>\n",
       "    </tr>\n",
       "    <tr>\n",
       "      <th>47689</th>\n",
       "      <td>I swear to God. This dumb nigger bitch. I have...</td>\n",
       "      <td>ethnicity</td>\n",
       "    </tr>\n",
       "    <tr>\n",
       "      <th>47690</th>\n",
       "      <td>Yea fuck you RT @therealexel: IF YOURE A NIGGE...</td>\n",
       "      <td>ethnicity</td>\n",
       "    </tr>\n",
       "    <tr>\n",
       "      <th>47691</th>\n",
       "      <td>Bro. U gotta chill RT @CHILLShrammy: Dog FUCK ...</td>\n",
       "      <td>ethnicity</td>\n",
       "    </tr>\n",
       "  </tbody>\n",
       "</table>\n",
       "<p>47692 rows × 2 columns</p>\n",
       "</div>"
      ],
      "text/plain": [
       "                                              tweet_text cyberbullying_type\n",
       "0      In other words #katandandre, your food was cra...  not_cyberbullying\n",
       "1      Why is #aussietv so white? #MKR #theblock #ImA...  not_cyberbullying\n",
       "2      @XochitlSuckkks a classy whore? Or more red ve...  not_cyberbullying\n",
       "3      @Jason_Gio meh. :P  thanks for the heads up, b...  not_cyberbullying\n",
       "4      @RudhoeEnglish This is an ISIS account pretend...  not_cyberbullying\n",
       "...                                                  ...                ...\n",
       "47687  Black ppl aren't expected to do anything, depe...          ethnicity\n",
       "47688  Turner did not withhold his disappointment. Tu...          ethnicity\n",
       "47689  I swear to God. This dumb nigger bitch. I have...          ethnicity\n",
       "47690  Yea fuck you RT @therealexel: IF YOURE A NIGGE...          ethnicity\n",
       "47691  Bro. U gotta chill RT @CHILLShrammy: Dog FUCK ...          ethnicity\n",
       "\n",
       "[47692 rows x 2 columns]"
      ]
     },
     "execution_count": 6,
     "metadata": {},
     "output_type": "execute_result"
    }
   ],
   "source": [
    "data_cyberbullying = pd.read_csv(path_raw_data+files['cyberbullying_tweets']).copy()\n",
    "data_cyberbullying"
   ]
  },
  {
   "cell_type": "code",
   "execution_count": 7,
   "id": "c3b30f08",
   "metadata": {},
   "outputs": [],
   "source": [
    "data_cyberbullying=data_cyberbullying[data_cyberbullying['cyberbullying_type']!='not_cyberbullying']"
   ]
  },
  {
   "cell_type": "code",
   "execution_count": 8,
   "id": "f1470658",
   "metadata": {},
   "outputs": [
    {
     "name": "stderr",
     "output_type": "stream",
     "text": [
      "/home/valengou/.pyenv/versions/3.8.12/envs/lewagon/lib/python3.8/site-packages/pandas/core/frame.py:5039: SettingWithCopyWarning: \n",
      "A value is trying to be set on a copy of a slice from a DataFrame\n",
      "\n",
      "See the caveats in the documentation: https://pandas.pydata.org/pandas-docs/stable/user_guide/indexing.html#returning-a-view-versus-a-copy\n",
      "  return super().rename(\n"
     ]
    }
   ],
   "source": [
    "data_cyberbullying.rename(columns={'tweet_text':'Text'},inplace=True)"
   ]
  },
  {
   "cell_type": "code",
   "execution_count": 9,
   "id": "d8ab8092",
   "metadata": {},
   "outputs": [
    {
     "data": {
      "text/html": [
       "<div>\n",
       "<style scoped>\n",
       "    .dataframe tbody tr th:only-of-type {\n",
       "        vertical-align: middle;\n",
       "    }\n",
       "\n",
       "    .dataframe tbody tr th {\n",
       "        vertical-align: top;\n",
       "    }\n",
       "\n",
       "    .dataframe thead th {\n",
       "        text-align: right;\n",
       "    }\n",
       "</style>\n",
       "<table border=\"1\" class=\"dataframe\">\n",
       "  <thead>\n",
       "    <tr style=\"text-align: right;\">\n",
       "      <th></th>\n",
       "      <th>Text</th>\n",
       "      <th>cyberbullying_type</th>\n",
       "    </tr>\n",
       "  </thead>\n",
       "  <tbody>\n",
       "    <tr>\n",
       "      <th>7945</th>\n",
       "      <td>rape is real..zvasiyana nema jokes about being...</td>\n",
       "      <td>gender</td>\n",
       "    </tr>\n",
       "    <tr>\n",
       "      <th>7946</th>\n",
       "      <td>You never saw any celebrity say anything like ...</td>\n",
       "      <td>gender</td>\n",
       "    </tr>\n",
       "    <tr>\n",
       "      <th>7947</th>\n",
       "      <td>@ManhattaKnight I mean he's gay, but he uses g...</td>\n",
       "      <td>gender</td>\n",
       "    </tr>\n",
       "    <tr>\n",
       "      <th>7948</th>\n",
       "      <td>RT @Raul_Novoa16: @AliciaBernardez @Alex_Aim @...</td>\n",
       "      <td>gender</td>\n",
       "    </tr>\n",
       "    <tr>\n",
       "      <th>7949</th>\n",
       "      <td>Rape is rape. And the fact that I read one pos...</td>\n",
       "      <td>gender</td>\n",
       "    </tr>\n",
       "    <tr>\n",
       "      <th>...</th>\n",
       "      <td>...</td>\n",
       "      <td>...</td>\n",
       "    </tr>\n",
       "    <tr>\n",
       "      <th>47687</th>\n",
       "      <td>Black ppl aren't expected to do anything, depe...</td>\n",
       "      <td>ethnicity</td>\n",
       "    </tr>\n",
       "    <tr>\n",
       "      <th>47688</th>\n",
       "      <td>Turner did not withhold his disappointment. Tu...</td>\n",
       "      <td>ethnicity</td>\n",
       "    </tr>\n",
       "    <tr>\n",
       "      <th>47689</th>\n",
       "      <td>I swear to God. This dumb nigger bitch. I have...</td>\n",
       "      <td>ethnicity</td>\n",
       "    </tr>\n",
       "    <tr>\n",
       "      <th>47690</th>\n",
       "      <td>Yea fuck you RT @therealexel: IF YOURE A NIGGE...</td>\n",
       "      <td>ethnicity</td>\n",
       "    </tr>\n",
       "    <tr>\n",
       "      <th>47691</th>\n",
       "      <td>Bro. U gotta chill RT @CHILLShrammy: Dog FUCK ...</td>\n",
       "      <td>ethnicity</td>\n",
       "    </tr>\n",
       "  </tbody>\n",
       "</table>\n",
       "<p>39747 rows × 2 columns</p>\n",
       "</div>"
      ],
      "text/plain": [
       "                                                    Text cyberbullying_type\n",
       "7945   rape is real..zvasiyana nema jokes about being...             gender\n",
       "7946   You never saw any celebrity say anything like ...             gender\n",
       "7947   @ManhattaKnight I mean he's gay, but he uses g...             gender\n",
       "7948   RT @Raul_Novoa16: @AliciaBernardez @Alex_Aim @...             gender\n",
       "7949   Rape is rape. And the fact that I read one pos...             gender\n",
       "...                                                  ...                ...\n",
       "47687  Black ppl aren't expected to do anything, depe...          ethnicity\n",
       "47688  Turner did not withhold his disappointment. Tu...          ethnicity\n",
       "47689  I swear to God. This dumb nigger bitch. I have...          ethnicity\n",
       "47690  Yea fuck you RT @therealexel: IF YOURE A NIGGE...          ethnicity\n",
       "47691  Bro. U gotta chill RT @CHILLShrammy: Dog FUCK ...          ethnicity\n",
       "\n",
       "[39747 rows x 2 columns]"
      ]
     },
     "execution_count": 9,
     "metadata": {},
     "output_type": "execute_result"
    }
   ],
   "source": [
    "data_cyberbullying"
   ]
  },
  {
   "cell_type": "code",
   "execution_count": 10,
   "id": "5f6537a4",
   "metadata": {},
   "outputs": [
    {
     "data": {
      "text/plain": [
       "religion               7998\n",
       "age                    7992\n",
       "gender                 7973\n",
       "ethnicity              7961\n",
       "other_cyberbullying    7823\n",
       "Name: cyberbullying_type, dtype: int64"
      ]
     },
     "execution_count": 10,
     "metadata": {},
     "output_type": "execute_result"
    }
   ],
   "source": [
    "data_cyberbullying['cyberbullying_type'].value_counts()"
   ]
  },
  {
   "cell_type": "code",
   "execution_count": 66,
   "id": "813d8693",
   "metadata": {},
   "outputs": [
    {
     "data": {
      "text/plain": [
       "{'toxicity': 'toxicity_parsed_dataset.csv',\n",
       " 'aggression': 'aggression_parsed_dataset.csv',\n",
       " 'cyberbullying_tweets': 'cyberbullying_tweets.csv',\n",
       " 'twitter': 'twitter_parsed_dataset.csv',\n",
       " 'twitter_racism': 'twitter_racism_parsed_dataset.csv',\n",
       " 'twitter_sexism': 'twitter_sexism_parsed_dataset.csv',\n",
       " 'youtube': 'youtube_parsed_dataset.csv',\n",
       " 'kaggle': 'kaggle_parsed_dataset.csv'}"
      ]
     },
     "execution_count": 66,
     "metadata": {},
     "output_type": "execute_result"
    }
   ],
   "source": [
    "files"
   ]
  },
  {
   "cell_type": "code",
   "execution_count": 11,
   "id": "a5a53576",
   "metadata": {},
   "outputs": [
    {
     "data": {
      "text/html": [
       "<div>\n",
       "<style scoped>\n",
       "    .dataframe tbody tr th:only-of-type {\n",
       "        vertical-align: middle;\n",
       "    }\n",
       "\n",
       "    .dataframe tbody tr th {\n",
       "        vertical-align: top;\n",
       "    }\n",
       "\n",
       "    .dataframe thead th {\n",
       "        text-align: right;\n",
       "    }\n",
       "</style>\n",
       "<table border=\"1\" class=\"dataframe\">\n",
       "  <thead>\n",
       "    <tr style=\"text-align: right;\">\n",
       "      <th></th>\n",
       "      <th>Text</th>\n",
       "      <th>oh_label</th>\n",
       "    </tr>\n",
       "  </thead>\n",
       "  <tbody>\n",
       "    <tr>\n",
       "      <th>0</th>\n",
       "      <td>@AAlwuhaib1977 Muslim mob violence against Hin...</td>\n",
       "      <td>1</td>\n",
       "    </tr>\n",
       "    <tr>\n",
       "      <th>1</th>\n",
       "      <td>@Te4m_NiGhtM4Re http://t.co/5Ih7MkDbQG</td>\n",
       "      <td>0</td>\n",
       "    </tr>\n",
       "    <tr>\n",
       "      <th>2</th>\n",
       "      <td>@jncatron @isra_jourisra @AMPalestine Islamoph...</td>\n",
       "      <td>1</td>\n",
       "    </tr>\n",
       "    <tr>\n",
       "      <th>3</th>\n",
       "      <td>Finally I'm all caught up, and that sudden dea...</td>\n",
       "      <td>0</td>\n",
       "    </tr>\n",
       "    <tr>\n",
       "      <th>4</th>\n",
       "      <td>@carolinesinders @herecomesfran *hugs*</td>\n",
       "      <td>0</td>\n",
       "    </tr>\n",
       "    <tr>\n",
       "      <th>...</th>\n",
       "      <td>...</td>\n",
       "      <td>...</td>\n",
       "    </tr>\n",
       "    <tr>\n",
       "      <th>13466</th>\n",
       "      <td>#mkr NOOOOO!!! I wanted Kat and Andre to lose!!!</td>\n",
       "      <td>0</td>\n",
       "    </tr>\n",
       "    <tr>\n",
       "      <th>13467</th>\n",
       "      <td>RT @MumtazCeltik: @WhiteHouse @VP \\n\\n#Kobane ...</td>\n",
       "      <td>0</td>\n",
       "    </tr>\n",
       "    <tr>\n",
       "      <th>13468</th>\n",
       "      <td>Glad the proper competition is starting and ev...</td>\n",
       "      <td>0</td>\n",
       "    </tr>\n",
       "    <tr>\n",
       "      <th>13469</th>\n",
       "      <td>No worries Pete and Manu, take all the time of...</td>\n",
       "      <td>0</td>\n",
       "    </tr>\n",
       "    <tr>\n",
       "      <th>13470</th>\n",
       "      <td>@mykitchenrules #mkr please kick off that lady...</td>\n",
       "      <td>0</td>\n",
       "    </tr>\n",
       "  </tbody>\n",
       "</table>\n",
       "<p>13471 rows × 2 columns</p>\n",
       "</div>"
      ],
      "text/plain": [
       "                                                    Text  oh_label\n",
       "0      @AAlwuhaib1977 Muslim mob violence against Hin...         1\n",
       "1                 @Te4m_NiGhtM4Re http://t.co/5Ih7MkDbQG         0\n",
       "2      @jncatron @isra_jourisra @AMPalestine Islamoph...         1\n",
       "3      Finally I'm all caught up, and that sudden dea...         0\n",
       "4                 @carolinesinders @herecomesfran *hugs*         0\n",
       "...                                                  ...       ...\n",
       "13466   #mkr NOOOOO!!! I wanted Kat and Andre to lose!!!         0\n",
       "13467  RT @MumtazCeltik: @WhiteHouse @VP \\n\\n#Kobane ...         0\n",
       "13468  Glad the proper competition is starting and ev...         0\n",
       "13469  No worries Pete and Manu, take all the time of...         0\n",
       "13470  @mykitchenrules #mkr please kick off that lady...         0\n",
       "\n",
       "[13471 rows x 2 columns]"
      ]
     },
     "execution_count": 11,
     "metadata": {},
     "output_type": "execute_result"
    }
   ],
   "source": [
    "data_racism = pd.read_csv(path_raw_data+files['twitter_racism'], usecols=['Text', 'oh_label']).copy()\n",
    "data_racism"
   ]
  },
  {
   "cell_type": "code",
   "execution_count": 12,
   "id": "181e54a9",
   "metadata": {
    "scrolled": true
   },
   "outputs": [
    {
     "data": {
      "text/html": [
       "<div>\n",
       "<style scoped>\n",
       "    .dataframe tbody tr th:only-of-type {\n",
       "        vertical-align: middle;\n",
       "    }\n",
       "\n",
       "    .dataframe tbody tr th {\n",
       "        vertical-align: top;\n",
       "    }\n",
       "\n",
       "    .dataframe thead th {\n",
       "        text-align: right;\n",
       "    }\n",
       "</style>\n",
       "<table border=\"1\" class=\"dataframe\">\n",
       "  <thead>\n",
       "    <tr style=\"text-align: right;\">\n",
       "      <th></th>\n",
       "      <th>Text</th>\n",
       "      <th>oh_label</th>\n",
       "    </tr>\n",
       "  </thead>\n",
       "  <tbody>\n",
       "    <tr>\n",
       "      <th>0</th>\n",
       "      <td>@AAlwuhaib1977 Muslim mob violence against Hin...</td>\n",
       "      <td>1</td>\n",
       "    </tr>\n",
       "    <tr>\n",
       "      <th>2</th>\n",
       "      <td>@jncatron @isra_jourisra @AMPalestine Islamoph...</td>\n",
       "      <td>1</td>\n",
       "    </tr>\n",
       "    <tr>\n",
       "      <th>8</th>\n",
       "      <td>@HuffPostRelig Islam invaded and conquered 2/3...</td>\n",
       "      <td>1</td>\n",
       "    </tr>\n",
       "    <tr>\n",
       "      <th>9</th>\n",
       "      <td>@semzyxx Do you approve of your pedophile prop...</td>\n",
       "      <td>1</td>\n",
       "    </tr>\n",
       "    <tr>\n",
       "      <th>10</th>\n",
       "      <td>@watan71969 @geeky_zekey Problem with vile Mus...</td>\n",
       "      <td>1</td>\n",
       "    </tr>\n",
       "    <tr>\n",
       "      <th>...</th>\n",
       "      <td>...</td>\n",
       "      <td>...</td>\n",
       "    </tr>\n",
       "    <tr>\n",
       "      <th>13401</th>\n",
       "      <td>@UmarFarooq_ @FaheemHus @jackmjenkins For exam...</td>\n",
       "      <td>1</td>\n",
       "    </tr>\n",
       "    <tr>\n",
       "      <th>13418</th>\n",
       "      <td>Hopefully someone cooks Drasko in the next ep ...</td>\n",
       "      <td>1</td>\n",
       "    </tr>\n",
       "    <tr>\n",
       "      <th>13419</th>\n",
       "      <td>The myth of \"moderate\" Islamic rebels.  They a...</td>\n",
       "      <td>1</td>\n",
       "    </tr>\n",
       "    <tr>\n",
       "      <th>13423</th>\n",
       "      <td>@loveconcursall @ottomanland ISIS is a giant e...</td>\n",
       "      <td>1</td>\n",
       "    </tr>\n",
       "    <tr>\n",
       "      <th>13465</th>\n",
       "      <td>@asem_1994 ISIS beheads people. Saudi beheads ...</td>\n",
       "      <td>1</td>\n",
       "    </tr>\n",
       "  </tbody>\n",
       "</table>\n",
       "<p>1970 rows × 2 columns</p>\n",
       "</div>"
      ],
      "text/plain": [
       "                                                    Text  oh_label\n",
       "0      @AAlwuhaib1977 Muslim mob violence against Hin...         1\n",
       "2      @jncatron @isra_jourisra @AMPalestine Islamoph...         1\n",
       "8      @HuffPostRelig Islam invaded and conquered 2/3...         1\n",
       "9      @semzyxx Do you approve of your pedophile prop...         1\n",
       "10     @watan71969 @geeky_zekey Problem with vile Mus...         1\n",
       "...                                                  ...       ...\n",
       "13401  @UmarFarooq_ @FaheemHus @jackmjenkins For exam...         1\n",
       "13418  Hopefully someone cooks Drasko in the next ep ...         1\n",
       "13419  The myth of \"moderate\" Islamic rebels.  They a...         1\n",
       "13423  @loveconcursall @ottomanland ISIS is a giant e...         1\n",
       "13465  @asem_1994 ISIS beheads people. Saudi beheads ...         1\n",
       "\n",
       "[1970 rows x 2 columns]"
      ]
     },
     "execution_count": 12,
     "metadata": {},
     "output_type": "execute_result"
    }
   ],
   "source": [
    "data_racism=data_racism[data_racism['oh_label']==1]\n",
    "data_racism"
   ]
  },
  {
   "cell_type": "code",
   "execution_count": 13,
   "id": "01eec343",
   "metadata": {},
   "outputs": [
    {
     "name": "stderr",
     "output_type": "stream",
     "text": [
      "/tmp/ipykernel_8708/516665345.py:1: SettingWithCopyWarning: \n",
      "A value is trying to be set on a copy of a slice from a DataFrame.\n",
      "Try using .loc[row_indexer,col_indexer] = value instead\n",
      "\n",
      "See the caveats in the documentation: https://pandas.pydata.org/pandas-docs/stable/user_guide/indexing.html#returning-a-view-versus-a-copy\n",
      "  data_racism['cyberbullying_type']='ethnicity'\n"
     ]
    },
    {
     "data": {
      "text/html": [
       "<div>\n",
       "<style scoped>\n",
       "    .dataframe tbody tr th:only-of-type {\n",
       "        vertical-align: middle;\n",
       "    }\n",
       "\n",
       "    .dataframe tbody tr th {\n",
       "        vertical-align: top;\n",
       "    }\n",
       "\n",
       "    .dataframe thead th {\n",
       "        text-align: right;\n",
       "    }\n",
       "</style>\n",
       "<table border=\"1\" class=\"dataframe\">\n",
       "  <thead>\n",
       "    <tr style=\"text-align: right;\">\n",
       "      <th></th>\n",
       "      <th>Text</th>\n",
       "      <th>oh_label</th>\n",
       "      <th>cyberbullying_type</th>\n",
       "    </tr>\n",
       "  </thead>\n",
       "  <tbody>\n",
       "    <tr>\n",
       "      <th>0</th>\n",
       "      <td>@AAlwuhaib1977 Muslim mob violence against Hin...</td>\n",
       "      <td>1</td>\n",
       "      <td>ethnicity</td>\n",
       "    </tr>\n",
       "    <tr>\n",
       "      <th>2</th>\n",
       "      <td>@jncatron @isra_jourisra @AMPalestine Islamoph...</td>\n",
       "      <td>1</td>\n",
       "      <td>ethnicity</td>\n",
       "    </tr>\n",
       "    <tr>\n",
       "      <th>8</th>\n",
       "      <td>@HuffPostRelig Islam invaded and conquered 2/3...</td>\n",
       "      <td>1</td>\n",
       "      <td>ethnicity</td>\n",
       "    </tr>\n",
       "    <tr>\n",
       "      <th>9</th>\n",
       "      <td>@semzyxx Do you approve of your pedophile prop...</td>\n",
       "      <td>1</td>\n",
       "      <td>ethnicity</td>\n",
       "    </tr>\n",
       "    <tr>\n",
       "      <th>10</th>\n",
       "      <td>@watan71969 @geeky_zekey Problem with vile Mus...</td>\n",
       "      <td>1</td>\n",
       "      <td>ethnicity</td>\n",
       "    </tr>\n",
       "  </tbody>\n",
       "</table>\n",
       "</div>"
      ],
      "text/plain": [
       "                                                 Text  oh_label  \\\n",
       "0   @AAlwuhaib1977 Muslim mob violence against Hin...         1   \n",
       "2   @jncatron @isra_jourisra @AMPalestine Islamoph...         1   \n",
       "8   @HuffPostRelig Islam invaded and conquered 2/3...         1   \n",
       "9   @semzyxx Do you approve of your pedophile prop...         1   \n",
       "10  @watan71969 @geeky_zekey Problem with vile Mus...         1   \n",
       "\n",
       "   cyberbullying_type  \n",
       "0           ethnicity  \n",
       "2           ethnicity  \n",
       "8           ethnicity  \n",
       "9           ethnicity  \n",
       "10          ethnicity  "
      ]
     },
     "execution_count": 13,
     "metadata": {},
     "output_type": "execute_result"
    }
   ],
   "source": [
    "data_racism['cyberbullying_type']='ethnicity'\n",
    "data_racism.head()"
   ]
  },
  {
   "cell_type": "code",
   "execution_count": 14,
   "id": "9253f719",
   "metadata": {},
   "outputs": [
    {
     "name": "stderr",
     "output_type": "stream",
     "text": [
      "/home/valengou/.pyenv/versions/3.8.12/envs/lewagon/lib/python3.8/site-packages/pandas/core/frame.py:4906: SettingWithCopyWarning: \n",
      "A value is trying to be set on a copy of a slice from a DataFrame\n",
      "\n",
      "See the caveats in the documentation: https://pandas.pydata.org/pandas-docs/stable/user_guide/indexing.html#returning-a-view-versus-a-copy\n",
      "  return super().drop(\n"
     ]
    },
    {
     "data": {
      "text/html": [
       "<div>\n",
       "<style scoped>\n",
       "    .dataframe tbody tr th:only-of-type {\n",
       "        vertical-align: middle;\n",
       "    }\n",
       "\n",
       "    .dataframe tbody tr th {\n",
       "        vertical-align: top;\n",
       "    }\n",
       "\n",
       "    .dataframe thead th {\n",
       "        text-align: right;\n",
       "    }\n",
       "</style>\n",
       "<table border=\"1\" class=\"dataframe\">\n",
       "  <thead>\n",
       "    <tr style=\"text-align: right;\">\n",
       "      <th></th>\n",
       "      <th>Text</th>\n",
       "      <th>cyberbullying_type</th>\n",
       "    </tr>\n",
       "  </thead>\n",
       "  <tbody>\n",
       "    <tr>\n",
       "      <th>0</th>\n",
       "      <td>@AAlwuhaib1977 Muslim mob violence against Hin...</td>\n",
       "      <td>ethnicity</td>\n",
       "    </tr>\n",
       "    <tr>\n",
       "      <th>2</th>\n",
       "      <td>@jncatron @isra_jourisra @AMPalestine Islamoph...</td>\n",
       "      <td>ethnicity</td>\n",
       "    </tr>\n",
       "    <tr>\n",
       "      <th>8</th>\n",
       "      <td>@HuffPostRelig Islam invaded and conquered 2/3...</td>\n",
       "      <td>ethnicity</td>\n",
       "    </tr>\n",
       "    <tr>\n",
       "      <th>9</th>\n",
       "      <td>@semzyxx Do you approve of your pedophile prop...</td>\n",
       "      <td>ethnicity</td>\n",
       "    </tr>\n",
       "    <tr>\n",
       "      <th>10</th>\n",
       "      <td>@watan71969 @geeky_zekey Problem with vile Mus...</td>\n",
       "      <td>ethnicity</td>\n",
       "    </tr>\n",
       "    <tr>\n",
       "      <th>...</th>\n",
       "      <td>...</td>\n",
       "      <td>...</td>\n",
       "    </tr>\n",
       "    <tr>\n",
       "      <th>13401</th>\n",
       "      <td>@UmarFarooq_ @FaheemHus @jackmjenkins For exam...</td>\n",
       "      <td>ethnicity</td>\n",
       "    </tr>\n",
       "    <tr>\n",
       "      <th>13418</th>\n",
       "      <td>Hopefully someone cooks Drasko in the next ep ...</td>\n",
       "      <td>ethnicity</td>\n",
       "    </tr>\n",
       "    <tr>\n",
       "      <th>13419</th>\n",
       "      <td>The myth of \"moderate\" Islamic rebels.  They a...</td>\n",
       "      <td>ethnicity</td>\n",
       "    </tr>\n",
       "    <tr>\n",
       "      <th>13423</th>\n",
       "      <td>@loveconcursall @ottomanland ISIS is a giant e...</td>\n",
       "      <td>ethnicity</td>\n",
       "    </tr>\n",
       "    <tr>\n",
       "      <th>13465</th>\n",
       "      <td>@asem_1994 ISIS beheads people. Saudi beheads ...</td>\n",
       "      <td>ethnicity</td>\n",
       "    </tr>\n",
       "  </tbody>\n",
       "</table>\n",
       "<p>1970 rows × 2 columns</p>\n",
       "</div>"
      ],
      "text/plain": [
       "                                                    Text cyberbullying_type\n",
       "0      @AAlwuhaib1977 Muslim mob violence against Hin...          ethnicity\n",
       "2      @jncatron @isra_jourisra @AMPalestine Islamoph...          ethnicity\n",
       "8      @HuffPostRelig Islam invaded and conquered 2/3...          ethnicity\n",
       "9      @semzyxx Do you approve of your pedophile prop...          ethnicity\n",
       "10     @watan71969 @geeky_zekey Problem with vile Mus...          ethnicity\n",
       "...                                                  ...                ...\n",
       "13401  @UmarFarooq_ @FaheemHus @jackmjenkins For exam...          ethnicity\n",
       "13418  Hopefully someone cooks Drasko in the next ep ...          ethnicity\n",
       "13419  The myth of \"moderate\" Islamic rebels.  They a...          ethnicity\n",
       "13423  @loveconcursall @ottomanland ISIS is a giant e...          ethnicity\n",
       "13465  @asem_1994 ISIS beheads people. Saudi beheads ...          ethnicity\n",
       "\n",
       "[1970 rows x 2 columns]"
      ]
     },
     "execution_count": 14,
     "metadata": {},
     "output_type": "execute_result"
    }
   ],
   "source": [
    "data_racism.drop(columns='oh_label',inplace=True)\n",
    "data_racism\n"
   ]
  },
  {
   "cell_type": "code",
   "execution_count": 15,
   "id": "e8fad194",
   "metadata": {},
   "outputs": [
    {
     "data": {
      "text/html": [
       "<div>\n",
       "<style scoped>\n",
       "    .dataframe tbody tr th:only-of-type {\n",
       "        vertical-align: middle;\n",
       "    }\n",
       "\n",
       "    .dataframe tbody tr th {\n",
       "        vertical-align: top;\n",
       "    }\n",
       "\n",
       "    .dataframe thead th {\n",
       "        text-align: right;\n",
       "    }\n",
       "</style>\n",
       "<table border=\"1\" class=\"dataframe\">\n",
       "  <thead>\n",
       "    <tr style=\"text-align: right;\">\n",
       "      <th></th>\n",
       "      <th>Text</th>\n",
       "      <th>oh_label</th>\n",
       "    </tr>\n",
       "  </thead>\n",
       "  <tbody>\n",
       "    <tr>\n",
       "      <th>0</th>\n",
       "      <td>RT @BeepsS: @senna1 @BeepsS: I'm not sexist bu...</td>\n",
       "      <td>1.0</td>\n",
       "    </tr>\n",
       "    <tr>\n",
       "      <th>1</th>\n",
       "      <td>There's some very hate able teams this year #MKR</td>\n",
       "      <td>0.0</td>\n",
       "    </tr>\n",
       "    <tr>\n",
       "      <th>2</th>\n",
       "      <td>RT @The_Eccles: \"Everyone underestimated us\" \\...</td>\n",
       "      <td>0.0</td>\n",
       "    </tr>\n",
       "    <tr>\n",
       "      <th>3</th>\n",
       "      <td>RT @NOTLukeDarcy: did @Channel7 or #MKR actual...</td>\n",
       "      <td>0.0</td>\n",
       "    </tr>\n",
       "    <tr>\n",
       "      <th>4</th>\n",
       "      <td>No, you don't. @Shut_Up_Jeff: I thought of a r...</td>\n",
       "      <td>1.0</td>\n",
       "    </tr>\n",
       "    <tr>\n",
       "      <th>...</th>\n",
       "      <td>...</td>\n",
       "      <td>...</td>\n",
       "    </tr>\n",
       "    <tr>\n",
       "      <th>14876</th>\n",
       "      <td>@RaikonL @finaleve @mja333 WHY DO YOU HATE FRE...</td>\n",
       "      <td>0.0</td>\n",
       "    </tr>\n",
       "    <tr>\n",
       "      <th>14877</th>\n",
       "      <td>It is unconscionable that our regulatory bodie...</td>\n",
       "      <td>0.0</td>\n",
       "    </tr>\n",
       "    <tr>\n",
       "      <th>14878</th>\n",
       "      <td>@Dartanveerahmad @Janx53 @geehall1 We want ISI...</td>\n",
       "      <td>0.0</td>\n",
       "    </tr>\n",
       "    <tr>\n",
       "      <th>14879</th>\n",
       "      <td>#mkr  Unbelievable how low Kat &amp;amp; Andre wil...</td>\n",
       "      <td>0.0</td>\n",
       "    </tr>\n",
       "    <tr>\n",
       "      <th>14880</th>\n",
       "      <td>RT @JamesMakienko: @omeisy @yemenrightsmon Peo...</td>\n",
       "      <td>0.0</td>\n",
       "    </tr>\n",
       "  </tbody>\n",
       "</table>\n",
       "<p>14881 rows × 2 columns</p>\n",
       "</div>"
      ],
      "text/plain": [
       "                                                    Text  oh_label\n",
       "0      RT @BeepsS: @senna1 @BeepsS: I'm not sexist bu...       1.0\n",
       "1       There's some very hate able teams this year #MKR       0.0\n",
       "2      RT @The_Eccles: \"Everyone underestimated us\" \\...       0.0\n",
       "3      RT @NOTLukeDarcy: did @Channel7 or #MKR actual...       0.0\n",
       "4      No, you don't. @Shut_Up_Jeff: I thought of a r...       1.0\n",
       "...                                                  ...       ...\n",
       "14876  @RaikonL @finaleve @mja333 WHY DO YOU HATE FRE...       0.0\n",
       "14877  It is unconscionable that our regulatory bodie...       0.0\n",
       "14878  @Dartanveerahmad @Janx53 @geehall1 We want ISI...       0.0\n",
       "14879  #mkr  Unbelievable how low Kat &amp; Andre wil...       0.0\n",
       "14880  RT @JamesMakienko: @omeisy @yemenrightsmon Peo...       0.0\n",
       "\n",
       "[14881 rows x 2 columns]"
      ]
     },
     "execution_count": 15,
     "metadata": {},
     "output_type": "execute_result"
    }
   ],
   "source": [
    "data_sexism = pd.read_csv(path_raw_data+files['twitter_sexism'], usecols=['Text', 'oh_label']).copy()\n",
    "data_sexism"
   ]
  },
  {
   "cell_type": "code",
   "execution_count": 16,
   "id": "aab3a319",
   "metadata": {},
   "outputs": [
    {
     "data": {
      "text/html": [
       "<div>\n",
       "<style scoped>\n",
       "    .dataframe tbody tr th:only-of-type {\n",
       "        vertical-align: middle;\n",
       "    }\n",
       "\n",
       "    .dataframe tbody tr th {\n",
       "        vertical-align: top;\n",
       "    }\n",
       "\n",
       "    .dataframe thead th {\n",
       "        text-align: right;\n",
       "    }\n",
       "</style>\n",
       "<table border=\"1\" class=\"dataframe\">\n",
       "  <thead>\n",
       "    <tr style=\"text-align: right;\">\n",
       "      <th></th>\n",
       "      <th>Text</th>\n",
       "      <th>oh_label</th>\n",
       "    </tr>\n",
       "  </thead>\n",
       "  <tbody>\n",
       "    <tr>\n",
       "      <th>0</th>\n",
       "      <td>RT @BeepsS: @senna1 @BeepsS: I'm not sexist bu...</td>\n",
       "      <td>1.0</td>\n",
       "    </tr>\n",
       "    <tr>\n",
       "      <th>4</th>\n",
       "      <td>No, you don't. @Shut_Up_Jeff: I thought of a r...</td>\n",
       "      <td>1.0</td>\n",
       "    </tr>\n",
       "    <tr>\n",
       "      <th>5</th>\n",
       "      <td>RT @Wateronatrain: @MT8_9 You might like this ...</td>\n",
       "      <td>1.0</td>\n",
       "    </tr>\n",
       "    <tr>\n",
       "      <th>10</th>\n",
       "      <td>RT @MetalBarbieDoll: But yea, apparently #Game...</td>\n",
       "      <td>1.0</td>\n",
       "    </tr>\n",
       "    <tr>\n",
       "      <th>13</th>\n",
       "      <td>:D @nkrause11 Dudes who go to culinary school:...</td>\n",
       "      <td>1.0</td>\n",
       "    </tr>\n",
       "    <tr>\n",
       "      <th>...</th>\n",
       "      <td>...</td>\n",
       "      <td>...</td>\n",
       "    </tr>\n",
       "    <tr>\n",
       "      <th>14862</th>\n",
       "      <td>RT @lukeyook: If they think that dessert is re...</td>\n",
       "      <td>1.0</td>\n",
       "    </tr>\n",
       "    <tr>\n",
       "      <th>14869</th>\n",
       "      <td>Girls claiming they're hot generally have an o...</td>\n",
       "      <td>1.0</td>\n",
       "    </tr>\n",
       "    <tr>\n",
       "      <th>14871</th>\n",
       "      <td>RT @ur_so_vanilla: Nikki &amp;amp; Katie, didn't y...</td>\n",
       "      <td>1.0</td>\n",
       "    </tr>\n",
       "    <tr>\n",
       "      <th>14872</th>\n",
       "      <td>DID U WRITE THAT URSELF OMG @joeldanger All gi...</td>\n",
       "      <td>1.0</td>\n",
       "    </tr>\n",
       "    <tr>\n",
       "      <th>14875</th>\n",
       "      <td>RT @prprau: #MKR Tart. Lol.</td>\n",
       "      <td>1.0</td>\n",
       "    </tr>\n",
       "  </tbody>\n",
       "</table>\n",
       "<p>3377 rows × 2 columns</p>\n",
       "</div>"
      ],
      "text/plain": [
       "                                                    Text  oh_label\n",
       "0      RT @BeepsS: @senna1 @BeepsS: I'm not sexist bu...       1.0\n",
       "4      No, you don't. @Shut_Up_Jeff: I thought of a r...       1.0\n",
       "5      RT @Wateronatrain: @MT8_9 You might like this ...       1.0\n",
       "10     RT @MetalBarbieDoll: But yea, apparently #Game...       1.0\n",
       "13     :D @nkrause11 Dudes who go to culinary school:...       1.0\n",
       "...                                                  ...       ...\n",
       "14862  RT @lukeyook: If they think that dessert is re...       1.0\n",
       "14869  Girls claiming they're hot generally have an o...       1.0\n",
       "14871  RT @ur_so_vanilla: Nikki &amp; Katie, didn't y...       1.0\n",
       "14872  DID U WRITE THAT URSELF OMG @joeldanger All gi...       1.0\n",
       "14875                        RT @prprau: #MKR Tart. Lol.       1.0\n",
       "\n",
       "[3377 rows x 2 columns]"
      ]
     },
     "execution_count": 16,
     "metadata": {},
     "output_type": "execute_result"
    }
   ],
   "source": [
    "data_sexism=data_sexism[data_sexism['oh_label']==1]\n",
    "data_sexism"
   ]
  },
  {
   "cell_type": "code",
   "execution_count": 17,
   "id": "39bf2103",
   "metadata": {},
   "outputs": [
    {
     "name": "stderr",
     "output_type": "stream",
     "text": [
      "/tmp/ipykernel_8708/3577387958.py:1: SettingWithCopyWarning: \n",
      "A value is trying to be set on a copy of a slice from a DataFrame.\n",
      "Try using .loc[row_indexer,col_indexer] = value instead\n",
      "\n",
      "See the caveats in the documentation: https://pandas.pydata.org/pandas-docs/stable/user_guide/indexing.html#returning-a-view-versus-a-copy\n",
      "  data_sexism['cyberbullying_type']='gender'\n"
     ]
    },
    {
     "data": {
      "text/html": [
       "<div>\n",
       "<style scoped>\n",
       "    .dataframe tbody tr th:only-of-type {\n",
       "        vertical-align: middle;\n",
       "    }\n",
       "\n",
       "    .dataframe tbody tr th {\n",
       "        vertical-align: top;\n",
       "    }\n",
       "\n",
       "    .dataframe thead th {\n",
       "        text-align: right;\n",
       "    }\n",
       "</style>\n",
       "<table border=\"1\" class=\"dataframe\">\n",
       "  <thead>\n",
       "    <tr style=\"text-align: right;\">\n",
       "      <th></th>\n",
       "      <th>Text</th>\n",
       "      <th>oh_label</th>\n",
       "      <th>cyberbullying_type</th>\n",
       "    </tr>\n",
       "  </thead>\n",
       "  <tbody>\n",
       "    <tr>\n",
       "      <th>0</th>\n",
       "      <td>RT @BeepsS: @senna1 @BeepsS: I'm not sexist bu...</td>\n",
       "      <td>1.0</td>\n",
       "      <td>gender</td>\n",
       "    </tr>\n",
       "    <tr>\n",
       "      <th>4</th>\n",
       "      <td>No, you don't. @Shut_Up_Jeff: I thought of a r...</td>\n",
       "      <td>1.0</td>\n",
       "      <td>gender</td>\n",
       "    </tr>\n",
       "    <tr>\n",
       "      <th>5</th>\n",
       "      <td>RT @Wateronatrain: @MT8_9 You might like this ...</td>\n",
       "      <td>1.0</td>\n",
       "      <td>gender</td>\n",
       "    </tr>\n",
       "    <tr>\n",
       "      <th>10</th>\n",
       "      <td>RT @MetalBarbieDoll: But yea, apparently #Game...</td>\n",
       "      <td>1.0</td>\n",
       "      <td>gender</td>\n",
       "    </tr>\n",
       "    <tr>\n",
       "      <th>13</th>\n",
       "      <td>:D @nkrause11 Dudes who go to culinary school:...</td>\n",
       "      <td>1.0</td>\n",
       "      <td>gender</td>\n",
       "    </tr>\n",
       "  </tbody>\n",
       "</table>\n",
       "</div>"
      ],
      "text/plain": [
       "                                                 Text  oh_label  \\\n",
       "0   RT @BeepsS: @senna1 @BeepsS: I'm not sexist bu...       1.0   \n",
       "4   No, you don't. @Shut_Up_Jeff: I thought of a r...       1.0   \n",
       "5   RT @Wateronatrain: @MT8_9 You might like this ...       1.0   \n",
       "10  RT @MetalBarbieDoll: But yea, apparently #Game...       1.0   \n",
       "13  :D @nkrause11 Dudes who go to culinary school:...       1.0   \n",
       "\n",
       "   cyberbullying_type  \n",
       "0              gender  \n",
       "4              gender  \n",
       "5              gender  \n",
       "10             gender  \n",
       "13             gender  "
      ]
     },
     "execution_count": 17,
     "metadata": {},
     "output_type": "execute_result"
    }
   ],
   "source": [
    "data_sexism['cyberbullying_type']='gender'\n",
    "data_sexism.head()"
   ]
  },
  {
   "cell_type": "code",
   "execution_count": 18,
   "id": "fdcbbd57",
   "metadata": {},
   "outputs": [
    {
     "name": "stderr",
     "output_type": "stream",
     "text": [
      "/home/valengou/.pyenv/versions/3.8.12/envs/lewagon/lib/python3.8/site-packages/pandas/core/frame.py:4906: SettingWithCopyWarning: \n",
      "A value is trying to be set on a copy of a slice from a DataFrame\n",
      "\n",
      "See the caveats in the documentation: https://pandas.pydata.org/pandas-docs/stable/user_guide/indexing.html#returning-a-view-versus-a-copy\n",
      "  return super().drop(\n"
     ]
    }
   ],
   "source": [
    "data_sexism.drop(columns='oh_label',inplace=True)\n"
   ]
  },
  {
   "cell_type": "code",
   "execution_count": 19,
   "id": "4d717c33",
   "metadata": {},
   "outputs": [
    {
     "data": {
      "text/html": [
       "<div>\n",
       "<style scoped>\n",
       "    .dataframe tbody tr th:only-of-type {\n",
       "        vertical-align: middle;\n",
       "    }\n",
       "\n",
       "    .dataframe tbody tr th {\n",
       "        vertical-align: top;\n",
       "    }\n",
       "\n",
       "    .dataframe thead th {\n",
       "        text-align: right;\n",
       "    }\n",
       "</style>\n",
       "<table border=\"1\" class=\"dataframe\">\n",
       "  <thead>\n",
       "    <tr style=\"text-align: right;\">\n",
       "      <th></th>\n",
       "      <th>Text</th>\n",
       "      <th>cyberbullying_type</th>\n",
       "    </tr>\n",
       "  </thead>\n",
       "  <tbody>\n",
       "    <tr>\n",
       "      <th>0</th>\n",
       "      <td>RT @BeepsS: @senna1 @BeepsS: I'm not sexist bu...</td>\n",
       "      <td>gender</td>\n",
       "    </tr>\n",
       "    <tr>\n",
       "      <th>4</th>\n",
       "      <td>No, you don't. @Shut_Up_Jeff: I thought of a r...</td>\n",
       "      <td>gender</td>\n",
       "    </tr>\n",
       "    <tr>\n",
       "      <th>5</th>\n",
       "      <td>RT @Wateronatrain: @MT8_9 You might like this ...</td>\n",
       "      <td>gender</td>\n",
       "    </tr>\n",
       "    <tr>\n",
       "      <th>10</th>\n",
       "      <td>RT @MetalBarbieDoll: But yea, apparently #Game...</td>\n",
       "      <td>gender</td>\n",
       "    </tr>\n",
       "    <tr>\n",
       "      <th>13</th>\n",
       "      <td>:D @nkrause11 Dudes who go to culinary school:...</td>\n",
       "      <td>gender</td>\n",
       "    </tr>\n",
       "    <tr>\n",
       "      <th>...</th>\n",
       "      <td>...</td>\n",
       "      <td>...</td>\n",
       "    </tr>\n",
       "    <tr>\n",
       "      <th>14862</th>\n",
       "      <td>RT @lukeyook: If they think that dessert is re...</td>\n",
       "      <td>gender</td>\n",
       "    </tr>\n",
       "    <tr>\n",
       "      <th>14869</th>\n",
       "      <td>Girls claiming they're hot generally have an o...</td>\n",
       "      <td>gender</td>\n",
       "    </tr>\n",
       "    <tr>\n",
       "      <th>14871</th>\n",
       "      <td>RT @ur_so_vanilla: Nikki &amp;amp; Katie, didn't y...</td>\n",
       "      <td>gender</td>\n",
       "    </tr>\n",
       "    <tr>\n",
       "      <th>14872</th>\n",
       "      <td>DID U WRITE THAT URSELF OMG @joeldanger All gi...</td>\n",
       "      <td>gender</td>\n",
       "    </tr>\n",
       "    <tr>\n",
       "      <th>14875</th>\n",
       "      <td>RT @prprau: #MKR Tart. Lol.</td>\n",
       "      <td>gender</td>\n",
       "    </tr>\n",
       "  </tbody>\n",
       "</table>\n",
       "<p>3377 rows × 2 columns</p>\n",
       "</div>"
      ],
      "text/plain": [
       "                                                    Text cyberbullying_type\n",
       "0      RT @BeepsS: @senna1 @BeepsS: I'm not sexist bu...             gender\n",
       "4      No, you don't. @Shut_Up_Jeff: I thought of a r...             gender\n",
       "5      RT @Wateronatrain: @MT8_9 You might like this ...             gender\n",
       "10     RT @MetalBarbieDoll: But yea, apparently #Game...             gender\n",
       "13     :D @nkrause11 Dudes who go to culinary school:...             gender\n",
       "...                                                  ...                ...\n",
       "14862  RT @lukeyook: If they think that dessert is re...             gender\n",
       "14869  Girls claiming they're hot generally have an o...             gender\n",
       "14871  RT @ur_so_vanilla: Nikki &amp; Katie, didn't y...             gender\n",
       "14872  DID U WRITE THAT URSELF OMG @joeldanger All gi...             gender\n",
       "14875                        RT @prprau: #MKR Tart. Lol.             gender\n",
       "\n",
       "[3377 rows x 2 columns]"
      ]
     },
     "execution_count": 19,
     "metadata": {},
     "output_type": "execute_result"
    }
   ],
   "source": [
    "data_sexism"
   ]
  },
  {
   "cell_type": "code",
   "execution_count": 20,
   "id": "4a398846",
   "metadata": {},
   "outputs": [
    {
     "data": {
      "text/html": [
       "<div>\n",
       "<style scoped>\n",
       "    .dataframe tbody tr th:only-of-type {\n",
       "        vertical-align: middle;\n",
       "    }\n",
       "\n",
       "    .dataframe tbody tr th {\n",
       "        vertical-align: top;\n",
       "    }\n",
       "\n",
       "    .dataframe thead th {\n",
       "        text-align: right;\n",
       "    }\n",
       "</style>\n",
       "<table border=\"1\" class=\"dataframe\">\n",
       "  <thead>\n",
       "    <tr style=\"text-align: right;\">\n",
       "      <th></th>\n",
       "      <th>Text</th>\n",
       "      <th>cyberbullying_type</th>\n",
       "    </tr>\n",
       "  </thead>\n",
       "  <tbody>\n",
       "    <tr>\n",
       "      <th>0</th>\n",
       "      <td>RT @BeepsS: @senna1 @BeepsS: I'm not sexist bu...</td>\n",
       "      <td>gender</td>\n",
       "    </tr>\n",
       "    <tr>\n",
       "      <th>4</th>\n",
       "      <td>No, you don't. @Shut_Up_Jeff: I thought of a r...</td>\n",
       "      <td>gender</td>\n",
       "    </tr>\n",
       "    <tr>\n",
       "      <th>5</th>\n",
       "      <td>RT @Wateronatrain: @MT8_9 You might like this ...</td>\n",
       "      <td>gender</td>\n",
       "    </tr>\n",
       "    <tr>\n",
       "      <th>10</th>\n",
       "      <td>RT @MetalBarbieDoll: But yea, apparently #Game...</td>\n",
       "      <td>gender</td>\n",
       "    </tr>\n",
       "    <tr>\n",
       "      <th>13</th>\n",
       "      <td>:D @nkrause11 Dudes who go to culinary school:...</td>\n",
       "      <td>gender</td>\n",
       "    </tr>\n",
       "  </tbody>\n",
       "</table>\n",
       "</div>"
      ],
      "text/plain": [
       "                                                 Text cyberbullying_type\n",
       "0   RT @BeepsS: @senna1 @BeepsS: I'm not sexist bu...             gender\n",
       "4   No, you don't. @Shut_Up_Jeff: I thought of a r...             gender\n",
       "5   RT @Wateronatrain: @MT8_9 You might like this ...             gender\n",
       "10  RT @MetalBarbieDoll: But yea, apparently #Game...             gender\n",
       "13  :D @nkrause11 Dudes who go to culinary school:...             gender"
      ]
     },
     "execution_count": 20,
     "metadata": {},
     "output_type": "execute_result"
    }
   ],
   "source": [
    "data=pd.concat([data_sexism,data_racism,data_cyberbullying])\n",
    "data.head()"
   ]
  },
  {
   "cell_type": "code",
   "execution_count": 21,
   "id": "4b4ff5a9",
   "metadata": {},
   "outputs": [
    {
     "data": {
      "text/plain": [
       "gender                 11350\n",
       "ethnicity               9931\n",
       "religion                7998\n",
       "age                     7992\n",
       "other_cyberbullying     7823\n",
       "Name: cyberbullying_type, dtype: int64"
      ]
     },
     "execution_count": 21,
     "metadata": {},
     "output_type": "execute_result"
    }
   ],
   "source": [
    "data['cyberbullying_type'].value_counts()"
   ]
  },
  {
   "cell_type": "code",
   "execution_count": 8,
   "id": "7946fd0a",
   "metadata": {},
   "outputs": [],
   "source": [
    "\n",
    "#df = pd.concat([dataset for dataset in data.values()], ignore_index=True)\n",
    "#df"
   ]
  },
  {
   "cell_type": "code",
   "execution_count": 22,
   "id": "5ce3b80b",
   "metadata": {},
   "outputs": [],
   "source": [
    "#file = 'toxicity_parsed_dataset.csv'\n",
    "#df = pd.read_csv(path_raw_data+file, usecols=['Text', 'oh_label'])\n",
    "data.rename(columns={'Text':'text', 'cyberbullying_type':'target'}, inplace=True)\n",
    "#df.head()"
   ]
  },
  {
   "cell_type": "code",
   "execution_count": 23,
   "id": "6e2914ca",
   "metadata": {},
   "outputs": [
    {
     "data": {
      "text/html": [
       "<div>\n",
       "<style scoped>\n",
       "    .dataframe tbody tr th:only-of-type {\n",
       "        vertical-align: middle;\n",
       "    }\n",
       "\n",
       "    .dataframe tbody tr th {\n",
       "        vertical-align: top;\n",
       "    }\n",
       "\n",
       "    .dataframe thead th {\n",
       "        text-align: right;\n",
       "    }\n",
       "</style>\n",
       "<table border=\"1\" class=\"dataframe\">\n",
       "  <thead>\n",
       "    <tr style=\"text-align: right;\">\n",
       "      <th></th>\n",
       "      <th>text</th>\n",
       "      <th>target</th>\n",
       "    </tr>\n",
       "  </thead>\n",
       "  <tbody>\n",
       "    <tr>\n",
       "      <th>0</th>\n",
       "      <td>RT @BeepsS: @senna1 @BeepsS: I'm not sexist bu...</td>\n",
       "      <td>gender</td>\n",
       "    </tr>\n",
       "    <tr>\n",
       "      <th>4</th>\n",
       "      <td>No, you don't. @Shut_Up_Jeff: I thought of a r...</td>\n",
       "      <td>gender</td>\n",
       "    </tr>\n",
       "    <tr>\n",
       "      <th>5</th>\n",
       "      <td>RT @Wateronatrain: @MT8_9 You might like this ...</td>\n",
       "      <td>gender</td>\n",
       "    </tr>\n",
       "    <tr>\n",
       "      <th>10</th>\n",
       "      <td>RT @MetalBarbieDoll: But yea, apparently #Game...</td>\n",
       "      <td>gender</td>\n",
       "    </tr>\n",
       "    <tr>\n",
       "      <th>13</th>\n",
       "      <td>:D @nkrause11 Dudes who go to culinary school:...</td>\n",
       "      <td>gender</td>\n",
       "    </tr>\n",
       "  </tbody>\n",
       "</table>\n",
       "</div>"
      ],
      "text/plain": [
       "                                                 text  target\n",
       "0   RT @BeepsS: @senna1 @BeepsS: I'm not sexist bu...  gender\n",
       "4   No, you don't. @Shut_Up_Jeff: I thought of a r...  gender\n",
       "5   RT @Wateronatrain: @MT8_9 You might like this ...  gender\n",
       "10  RT @MetalBarbieDoll: But yea, apparently #Game...  gender\n",
       "13  :D @nkrause11 Dudes who go to culinary school:...  gender"
      ]
     },
     "execution_count": 23,
     "metadata": {},
     "output_type": "execute_result"
    }
   ],
   "source": [
    "data.head()"
   ]
  },
  {
   "cell_type": "raw",
   "id": "ddc2ac1d",
   "metadata": {},
   "source": [
    "import itertools\n",
    "\n",
    "list(itertools.product([0], range(1,6)))"
   ]
  },
  {
   "cell_type": "raw",
   "id": "0764be30",
   "metadata": {},
   "source": [
    "def remove_spam(s):\n",
    "    \n",
    "    text=word_tokenize(s)\n",
    "    n = 2\n",
    "    \n",
    "    for index in range(len(text)):\n",
    "        for i, j in zip(range(1, 6):\n",
    "            if text[index]==text[index+i]:\n",
    "                text[index]=''\n",
    "        text= [w for w in text if w != '']\n",
    "        \n",
    "    for index in range(len(text)-3):    \n",
    "        if text[index]+' '+text[index+1]==text[index+2]+' '+text[index+3]:\n",
    "            text[index]=''\n",
    "            text[index+1]=''\n",
    "        s=' '.join(w for w in text if w != '').strip()\n",
    "    return s"
   ]
  },
  {
   "cell_type": "code",
   "execution_count": 27,
   "id": "a3a5b0a5",
   "metadata": {},
   "outputs": [],
   "source": [
    "def remove_duplicated_words(text):\n",
    "    regex = r'\\b(\\w+)(?:\\W+\\1\\b)+' \n",
    "    return re.sub(regex, r'\\1', text, flags=re.IGNORECASE)"
   ]
  },
  {
   "cell_type": "code",
   "execution_count": 28,
   "id": "56abaf03",
   "metadata": {},
   "outputs": [],
   "source": [
    "def remove_duplicated_phrase(text):\n",
    "    regex = r'\\b(\\w+(?:\\s*\\w*))\\s+\\1\\b'\n",
    "    return re.sub(regex, \"\\\\1\", text, flags=re.IGNORECASE)"
   ]
  },
  {
   "cell_type": "code",
   "execution_count": 29,
   "id": "49336dfc",
   "metadata": {},
   "outputs": [],
   "source": [
    "text = 'asd asd asd hello asd hello asd hello'"
   ]
  },
  {
   "cell_type": "code",
   "execution_count": 30,
   "id": "c653f769",
   "metadata": {},
   "outputs": [
    {
     "data": {
      "text/plain": [
       "'asd hello asd hello asd hello'"
      ]
     },
     "execution_count": 30,
     "metadata": {},
     "output_type": "execute_result"
    }
   ],
   "source": [
    "remove_duplicated_words(text)"
   ]
  },
  {
   "cell_type": "code",
   "execution_count": 31,
   "id": "35d2e246",
   "metadata": {},
   "outputs": [],
   "source": [
    "def clean_data(text,\n",
    "               remove_punctuation=True,\n",
    "               lower_text=True,\n",
    "               remove_numbers=True,\n",
    "               remove_stopwords=False, \n",
    "               lemmatize=False):\n",
    "    \n",
    "    text = str(text)\n",
    "    \n",
    "    # replace emojis with text\n",
    "    #text = demoji.replace_with_desc(text, ' ')\n",
    "    \n",
    "    # keep only letters\n",
    "    if remove_punctuation:\n",
    "        text = re.sub(r'[^a-zA-Z]+', ' ', text)\n",
    "    \n",
    "    # lower text\n",
    "    if lower_text:\n",
    "        text = text.lower()\n",
    "    \n",
    "    # remove numbers\n",
    "    if remove_numbers:\n",
    "        text = ''.join([w for w in text if not w.isdigit()])\n",
    "    \n",
    "    # remove stopwords\n",
    "    if remove_stopwords:\n",
    "        stop_words = set(stopwords.words('english'))\n",
    "        word_tokens = word_tokenize(text)\n",
    "        text = ' '.join([w for w in word_tokens if not w in stop_words])\n",
    "    \n",
    "    # lemmatize\n",
    "    if lemmatize:\n",
    "        lemmatizer = WordNetLemmatizer()\n",
    "        text = ''.join([lemmatizer.lemmatize(word) for word in text]) # no entiendo por qué no va un espacio\n",
    "    \n",
    "    # spam\n",
    "    text = remove_duplicated_words(text)\n",
    "    \n",
    "    text= remove_duplicated_phrase(text)\n",
    "    \n",
    "    text = text.strip()\n",
    "    \n",
    "    return text"
   ]
  },
  {
   "cell_type": "code",
   "execution_count": 32,
   "id": "4e0265f3",
   "metadata": {},
   "outputs": [],
   "source": [
    "def clean_df(df, \n",
    "            remove_punctuation=True,\n",
    "            lower_text=True,\n",
    "            remove_numbers=True,\n",
    "            remove_stopwords=False, \n",
    "            lemmatize=False):\n",
    "    \n",
    "    df = df.copy()\n",
    "    \n",
    "    df = df.drop_duplicates()\n",
    "    \n",
    "    df['text'] = df['text'].apply(lambda text: clean_data(text,\n",
    "                                                          remove_punctuation,\n",
    "                                                          lower_text,\n",
    "                                                          remove_numbers,\n",
    "                                                          remove_stopwords,\n",
    "                                                          lemmatize))\n",
    "    \n",
    "    df = df.drop_duplicates()\n",
    "    \n",
    "    df = df.replace(['', ' '], np.nan)\n",
    "    df = df.dropna().reset_index(drop=True)\n",
    "    \n",
    "    return df"
   ]
  },
  {
   "cell_type": "code",
   "execution_count": 33,
   "id": "616893a8",
   "metadata": {},
   "outputs": [
    {
     "name": "stdout",
     "output_type": "stream",
     "text": [
      "CPU times: user 4.69 s, sys: 28.6 ms, total: 4.72 s\n",
      "Wall time: 4.72 s\n"
     ]
    }
   ],
   "source": [
    "%%time\n",
    "\n",
    "data = clean_df(data)"
   ]
  },
  {
   "cell_type": "code",
   "execution_count": 34,
   "id": "85125586",
   "metadata": {},
   "outputs": [
    {
     "data": {
      "text/html": [
       "<div>\n",
       "<style scoped>\n",
       "    .dataframe tbody tr th:only-of-type {\n",
       "        vertical-align: middle;\n",
       "    }\n",
       "\n",
       "    .dataframe tbody tr th {\n",
       "        vertical-align: top;\n",
       "    }\n",
       "\n",
       "    .dataframe thead th {\n",
       "        text-align: right;\n",
       "    }\n",
       "</style>\n",
       "<table border=\"1\" class=\"dataframe\">\n",
       "  <thead>\n",
       "    <tr style=\"text-align: right;\">\n",
       "      <th></th>\n",
       "      <th>text</th>\n",
       "      <th>target</th>\n",
       "    </tr>\n",
       "  </thead>\n",
       "  <tbody>\n",
       "    <tr>\n",
       "      <th>0</th>\n",
       "      <td>rt beepss senna beepss i m not sexist but fuck...</td>\n",
       "      <td>gender</td>\n",
       "    </tr>\n",
       "    <tr>\n",
       "      <th>1</th>\n",
       "      <td>no you don t shut up jeff i thought of a reall...</td>\n",
       "      <td>gender</td>\n",
       "    </tr>\n",
       "    <tr>\n",
       "      <th>2</th>\n",
       "      <td>rt wateronatrain mt you might like this http t...</td>\n",
       "      <td>gender</td>\n",
       "    </tr>\n",
       "    <tr>\n",
       "      <th>3</th>\n",
       "      <td>rt metalbarbiedoll but yea apparently gamergat...</td>\n",
       "      <td>gender</td>\n",
       "    </tr>\n",
       "    <tr>\n",
       "      <th>4</th>\n",
       "      <td>d nkrause dudes who go to culinary school why ...</td>\n",
       "      <td>gender</td>\n",
       "    </tr>\n",
       "    <tr>\n",
       "      <th>...</th>\n",
       "      <td>...</td>\n",
       "      <td>...</td>\n",
       "    </tr>\n",
       "    <tr>\n",
       "      <th>42442</th>\n",
       "      <td>black ppl aren t expected to do anything depen...</td>\n",
       "      <td>ethnicity</td>\n",
       "    </tr>\n",
       "    <tr>\n",
       "      <th>42443</th>\n",
       "      <td>turner did not withhold his disappointment tur...</td>\n",
       "      <td>ethnicity</td>\n",
       "    </tr>\n",
       "    <tr>\n",
       "      <th>42444</th>\n",
       "      <td>i swear to god this dumb nigger bitch i have g...</td>\n",
       "      <td>ethnicity</td>\n",
       "    </tr>\n",
       "    <tr>\n",
       "      <th>42445</th>\n",
       "      <td>yea fuck you rt therealexel if youre a nigger ...</td>\n",
       "      <td>ethnicity</td>\n",
       "    </tr>\n",
       "    <tr>\n",
       "      <th>42446</th>\n",
       "      <td>bro u gotta chill rt chillshrammy dog fuck kp ...</td>\n",
       "      <td>ethnicity</td>\n",
       "    </tr>\n",
       "  </tbody>\n",
       "</table>\n",
       "<p>42447 rows × 2 columns</p>\n",
       "</div>"
      ],
      "text/plain": [
       "                                                    text     target\n",
       "0      rt beepss senna beepss i m not sexist but fuck...     gender\n",
       "1      no you don t shut up jeff i thought of a reall...     gender\n",
       "2      rt wateronatrain mt you might like this http t...     gender\n",
       "3      rt metalbarbiedoll but yea apparently gamergat...     gender\n",
       "4      d nkrause dudes who go to culinary school why ...     gender\n",
       "...                                                  ...        ...\n",
       "42442  black ppl aren t expected to do anything depen...  ethnicity\n",
       "42443  turner did not withhold his disappointment tur...  ethnicity\n",
       "42444  i swear to god this dumb nigger bitch i have g...  ethnicity\n",
       "42445  yea fuck you rt therealexel if youre a nigger ...  ethnicity\n",
       "42446  bro u gotta chill rt chillshrammy dog fuck kp ...  ethnicity\n",
       "\n",
       "[42447 rows x 2 columns]"
      ]
     },
     "execution_count": 34,
     "metadata": {},
     "output_type": "execute_result"
    }
   ],
   "source": [
    "data"
   ]
  },
  {
   "cell_type": "code",
   "execution_count": 17,
   "id": "38624816",
   "metadata": {},
   "outputs": [
    {
     "name": "stdout",
     "output_type": "stream",
     "text": [
      "CPU times: user 9 µs, sys: 0 ns, total: 9 µs\n",
      "Wall time: 17.4 µs\n"
     ]
    }
   ],
   "source": [
    "%%time\n",
    "\n",
    "#df = clean_df(df)\n",
    "#df.head()"
   ]
  },
  {
   "cell_type": "code",
   "execution_count": 18,
   "id": "f9bcb3ec",
   "metadata": {},
   "outputs": [],
   "source": [
    "#df.shape"
   ]
  },
  {
   "cell_type": "code",
   "execution_count": 35,
   "id": "e92afcc8",
   "metadata": {},
   "outputs": [
    {
     "data": {
      "text/plain": [
       "Index(['text', 'target'], dtype='object')"
      ]
     },
     "execution_count": 35,
     "metadata": {},
     "output_type": "execute_result"
    }
   ],
   "source": [
    "data.keys()"
   ]
  },
  {
   "cell_type": "code",
   "execution_count": 86,
   "id": "313c9487",
   "metadata": {},
   "outputs": [],
   "source": [
    "def plot_hist(X):\n",
    "    fig, (ax1, ax2) = plt.subplots(1, 2, figsize=(12,4))\n",
    "    len_ = [len(_.split()) for _ in X]\n",
    "    ax1.hist(len_)\n",
    "    ax1.set_title('All length')\n",
    "    \n",
    "    n = 400\n",
    "    \n",
    "    len_2 = [_ for _ in len_ if _ < n]\n",
    "    ax2.hist(len_2)\n",
    "    ax2.set_title(f'Only ≤ {n} words')\n",
    "    \n",
    "    plt.suptitle('Histogram of the number of sentences that have a given number of words')\n",
    "    plt.tight_layout(pad=1)\n",
    "    plt.show()"
   ]
  },
  {
   "cell_type": "code",
   "execution_count": 87,
   "id": "cb39789f",
   "metadata": {},
   "outputs": [
    {
     "data": {
      "image/png": "[encoded data removed]",
      "text/plain": [
       "<Figure size 864x288 with 2 Axes>"
      ]
     },
     "metadata": {
      "needs_background": "light"
     },
     "output_type": "display_data"
    }
   ],
   "source": [
    "plot_hist(data['text'])"
   ]
  },
  {
   "cell_type": "code",
   "execution_count": 36,
   "id": "a19d8281",
   "metadata": {},
   "outputs": [],
   "source": [
    "\n",
    "data.to_csv(f'../../cyberbullying/data/classified_racism_tweets.csv', index=False)"
   ]
  },
  {
   "cell_type": "code",
   "execution_count": null,
   "id": "102641da",
   "metadata": {},
   "outputs": [],
   "source": []
  },
  {
   "cell_type": "code",
   "execution_count": 29,
   "id": "74df9873",
   "metadata": {},
   "outputs": [
    {
     "name": "stdout",
     "output_type": "stream",
     "text": [
      "CPU times: user 14min 53s, sys: 16.6 s, total: 15min 10s\n",
      "Wall time: 15min 10s\n"
     ]
    }
   ],
   "source": [
    "%%time\n",
    "\n",
    "for name in data.keys():\n",
    "    data[name] = clean_df(data[name],\n",
    "                          remove_punctuation=False,\n",
    "                          lower_text=False,\n",
    "                          remove_numbers=False,\n",
    "                          remove_stopwords=True,\n",
    "                          lemmatize=True)"
   ]
  },
  {
   "cell_type": "code",
   "execution_count": 30,
   "id": "e2659f16",
   "metadata": {},
   "outputs": [
    {
     "data": {
      "text/html": [
       "<div>\n",
       "<style scoped>\n",
       "    .dataframe tbody tr th:only-of-type {\n",
       "        vertical-align: middle;\n",
       "    }\n",
       "\n",
       "    .dataframe tbody tr th {\n",
       "        vertical-align: top;\n",
       "    }\n",
       "\n",
       "    .dataframe thead th {\n",
       "        text-align: right;\n",
       "    }\n",
       "</style>\n",
       "<table border=\"1\" class=\"dataframe\">\n",
       "  <thead>\n",
       "    <tr style=\"text-align: right;\">\n",
       "      <th></th>\n",
       "      <th>text</th>\n",
       "      <th>target</th>\n",
       "    </tr>\n",
       "  </thead>\n",
       "  <tbody>\n",
       "    <tr>\n",
       "      <th>0</th>\n",
       "      <td>one make analogy mathematical terms envisionin...</td>\n",
       "      <td>0.0</td>\n",
       "    </tr>\n",
       "    <tr>\n",
       "      <th>1</th>\n",
       "      <td>clarification zundark right checked wikipedia ...</td>\n",
       "      <td>0.0</td>\n",
       "    </tr>\n",
       "    <tr>\n",
       "      <th>2</th>\n",
       "      <td>elected electoral jhk</td>\n",
       "      <td>0.0</td>\n",
       "    </tr>\n",
       "    <tr>\n",
       "      <th>3</th>\n",
       "      <td>fun entry devotchka coworker korea tell differ...</td>\n",
       "      <td>0.0</td>\n",
       "    </tr>\n",
       "    <tr>\n",
       "      <th>4</th>\n",
       "      <td>please relate ozone hole increases cancer prov...</td>\n",
       "      <td>0.0</td>\n",
       "    </tr>\n",
       "  </tbody>\n",
       "</table>\n",
       "</div>"
      ],
      "text/plain": [
       "                                                text  target\n",
       "0  one make analogy mathematical terms envisionin...     0.0\n",
       "1  clarification zundark right checked wikipedia ...     0.0\n",
       "2                              elected electoral jhk     0.0\n",
       "3  fun entry devotchka coworker korea tell differ...     0.0\n",
       "4  please relate ozone hole increases cancer prov...     0.0"
      ]
     },
     "execution_count": 30,
     "metadata": {},
     "output_type": "execute_result"
    }
   ],
   "source": [
    "df = pd.concat([dataset for dataset in data.values()], ignore_index=True).drop_duplicates().reset_index(drop=True)\n",
    "df.head()"
   ]
  },
  {
   "cell_type": "code",
   "execution_count": 31,
   "id": "1100629a",
   "metadata": {},
   "outputs": [],
   "source": [
    "for name, file in files.items():\n",
    "    data[name].to_csv(f'../../cyberbullying/data/lem_{file}', index=False)\n",
    "df.to_csv(f'../../cyberbullying/data/lem_all_df.csv', index=False)"
   ]
  },
  {
   "cell_type": "code",
   "execution_count": null,
   "id": "048da89d",
   "metadata": {},
   "outputs": [],
   "source": []
  },
  {
   "cell_type": "code",
   "execution_count": 32,
   "id": "e175c80e",
   "metadata": {},
   "outputs": [],
   "source": [
    "#df.to_csv('../../cyberbullying/data/all_data.csv', index=False)"
   ]
  },
  {
   "cell_type": "code",
   "execution_count": 33,
   "id": "21daf8c6",
   "metadata": {},
   "outputs": [],
   "source": [
    "#%%time\n",
    "#df_lem = clean_df(df, remove_punctuation=False, lower_text=False, remove_numbers=False, remove_stopwords=True, lemmatize=True)\n",
    "#df_lem.head()"
   ]
  },
  {
   "cell_type": "code",
   "execution_count": 34,
   "id": "57b90ce7",
   "metadata": {},
   "outputs": [],
   "source": [
    "#df_lem.shape"
   ]
  },
  {
   "cell_type": "code",
   "execution_count": 35,
   "id": "4c42def7",
   "metadata": {},
   "outputs": [],
   "source": [
    "#df_lem.to_csv('../../cyberbullying/data/all_data_lem.csv', index=False)"
   ]
  },
  {
   "cell_type": "code",
   "execution_count": null,
   "id": "df0d0fae",
   "metadata": {},
   "outputs": [],
   "source": []
  }
 ],
 "metadata": {
  "kernelspec": {
   "display_name": "Python 3 (ipykernel)",
   "language": "python",
   "name": "python3"
  },
  "language_info": {
   "codemirror_mode": {
    "name": "ipython",
    "version": 3
   },
   "file_extension": ".py",
   "mimetype": "text/x-python",
   "name": "python",
   "nbconvert_exporter": "python",
   "pygments_lexer": "ipython3",
   "version": "3.8.12"
  },
  "toc": {
   "base_numbering": 1,
   "nav_menu": {},
   "number_sections": true,
   "sideBar": true,
   "skip_h1_title": false,
   "title_cell": "Table of Contents",
   "title_sidebar": "Contents",
   "toc_cell": false,
   "toc_position": {},
   "toc_section_display": true,
   "toc_window_display": false
  }
 },
 "nbformat": 4,
 "nbformat_minor": 5
}
